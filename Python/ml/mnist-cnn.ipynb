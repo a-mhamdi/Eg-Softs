{
 "cells": [
  {
   "cell_type": "markdown",
   "metadata": {},
   "source": [
    "# Machine Learning\n",
    "## Lab \\#7: Handwritten Digit Recognition\n",
    "### Textbook is available @ [https://www.github.com/a-mhamdi/isetbz](https://www.github.com/a-mhamdi/isetbz)\n",
    "---"
   ]
  },
  {
   "cell_type": "markdown",
   "metadata": {},
   "source": [
    "Let's begin with importing all the required librairies."
   ]
  },
  {
   "cell_type": "code",
   "execution_count": 1,
   "metadata": {},
   "outputs": [
    {
     "name": "stderr",
     "output_type": "stream",
     "text": [
      "Using TensorFlow backend.\n"
     ]
    }
   ],
   "source": [
    "import os\n",
    "\n",
    "import numpy as np\n",
    "from matplotlib import pyplot as plt\n",
    "\n",
    "import tensorflow as tf\n",
    "\n",
    "from keras.datasets import mnist\n",
    "from keras.models import Sequential\n",
    "from keras.layers import Dense, Dropout, Flatten\n",
    "from keras.layers.convolutional import Conv2D, MaxPooling2D\n",
    "\n",
    "from keras.utils import np_utils\n",
    "from keras.models import model_from_json\n",
    "\n",
    "from PIL import Image\n",
    "\n",
    "import tikzplotlib as mikz"
   ]
  },
  {
   "cell_type": "code",
   "execution_count": 2,
   "metadata": {},
   "outputs": [],
   "source": [
    "import keras.backend.tensorflow_backend as tfback\n",
    "from keras import backend as K"
   ]
  },
  {
   "cell_type": "markdown",
   "metadata": {},
   "source": [
    "Check the current installed version of `tensorflow` and `keras`."
   ]
  },
  {
   "cell_type": "code",
   "execution_count": 3,
   "metadata": {},
   "outputs": [
    {
     "name": "stdout",
     "output_type": "stream",
     "text": [
      "tf.__version__ is 2.2.0\n",
      "tf.keras.__version__ is: 2.3.0-tf\n"
     ]
    }
   ],
   "source": [
    "print(\"tf.__version__ is\", tf.__version__)\n",
    "print(\"tf.keras.__version__ is:\", tf.keras.__version__)"
   ]
  },
  {
   "cell_type": "markdown",
   "metadata": {},
   "source": [
    "The following method allows to get a list of available **GPU** devices, formatted as strings."
   ]
  },
  {
   "cell_type": "code",
   "execution_count": 4,
   "metadata": {},
   "outputs": [],
   "source": [
    "def _get_available_gpus():\n",
    "    #global _LOCAL_DEVICES\n",
    "    if tfback._LOCAL_DEVICES is None:\n",
    "        devices = tf.config.list_logical_devices()\n",
    "        tfback._LOCAL_DEVICES = [x.name for x in devices]\n",
    "    return [x for x in tfback._LOCAL_DEVICES if 'device:gpu' in x.lower()]"
   ]
  },
  {
   "cell_type": "code",
   "execution_count": 5,
   "metadata": {},
   "outputs": [],
   "source": [
    "tfback._get_available_gpus = _get_available_gpus"
   ]
  },
  {
   "cell_type": "code",
   "execution_count": 6,
   "metadata": {},
   "outputs": [],
   "source": [
    "# K.image_data_format() == 'channels_first'\n",
    "# K.set_image_dim_ordering('tf')\n",
    "K.set_image_data_format('channels_last') # tf: TensorFlow, th: Theano"
   ]
  },
  {
   "cell_type": "markdown",
   "metadata": {},
   "source": [
    "Fix random seed for reproducibility."
   ]
  },
  {
   "cell_type": "code",
   "execution_count": 7,
   "metadata": {},
   "outputs": [],
   "source": [
    "np.random.seed(0)"
   ]
  },
  {
   "cell_type": "markdown",
   "metadata": {},
   "source": [
    "Load and normalize the data."
   ]
  },
  {
   "cell_type": "code",
   "execution_count": 8,
   "metadata": {},
   "outputs": [],
   "source": [
    "(X_train, y_train), (X_test, y_test) = mnist.load_data()"
   ]
  },
  {
   "cell_type": "code",
   "execution_count": 9,
   "metadata": {},
   "outputs": [
    {
     "data": {
      "text/plain": [
       "'\\nimg_idx = np.random.randint(0, high=X_test.shape[0])\\nplt.imshow(X_train[img_idx, :, :], cmap=plt.cm.gray_r, interpolation=\"nearest\")\\nplt.show()\\nprint(\"The output is {}.\".format(y_train[img_idx]))\\n'"
      ]
     },
     "execution_count": 9,
     "metadata": {},
     "output_type": "execute_result"
    }
   ],
   "source": [
    "'''\n",
    "img_idx = np.random.randint(0, high=X_test.shape[0])\n",
    "plt.imshow(X_train[img_idx, :, :], cmap=plt.cm.gray_r, interpolation=\"nearest\")\n",
    "plt.show()\n",
    "print(\"The output is {}.\".format(y_train[img_idx]))\n",
    "'''"
   ]
  },
  {
   "cell_type": "code",
   "execution_count": 10,
   "metadata": {},
   "outputs": [],
   "source": [
    "num_samples_train = np.random.randint(0, high=X_train.shape[0], size=20000)\n",
    "X_train = X_train[num_samples_train, :, :]\n",
    "y_train =y_train[num_samples_train]"
   ]
  },
  {
   "cell_type": "code",
   "execution_count": 11,
   "metadata": {},
   "outputs": [],
   "source": [
    "num_samples_test = np.random.randint(0, high=X_test.shape[0], size=4000)\n",
    "X_test = X_test[num_samples_test, :, :]\n",
    "y_test =y_test[num_samples_test]"
   ]
  },
  {
   "cell_type": "markdown",
   "metadata": {},
   "source": [
    "Reshape the inputs."
   ]
  },
  {
   "cell_type": "code",
   "execution_count": 12,
   "metadata": {},
   "outputs": [],
   "source": [
    "X_train = X_train.reshape(X_train.shape[0], 28, 28, 1).astype('float32')\n",
    "X_test = X_test.reshape(X_test.shape[0], 28, 28, 1).astype('float32')"
   ]
  },
  {
   "cell_type": "markdown",
   "metadata": {},
   "source": [
    "Normalize the inputs from 0 $\\to$ 255 to 0 $\\to$ 1."
   ]
  },
  {
   "cell_type": "code",
   "execution_count": 13,
   "metadata": {},
   "outputs": [],
   "source": [
    "X_train = X_train/255\n",
    "X_test = X_test/255"
   ]
  },
  {
   "cell_type": "markdown",
   "metadata": {},
   "source": [
    "One hot encode the outputs."
   ]
  },
  {
   "cell_type": "code",
   "execution_count": 14,
   "metadata": {},
   "outputs": [],
   "source": [
    "y_train = np_utils.to_categorical(y_train)\n",
    "y_test = np_utils.to_categorical(y_test)"
   ]
  },
  {
   "cell_type": "markdown",
   "metadata": {},
   "source": [
    "Number of classes is 10."
   ]
  },
  {
   "cell_type": "code",
   "execution_count": 15,
   "metadata": {},
   "outputs": [],
   "source": [
    "num_classes = y_test.shape[1]"
   ]
  },
  {
   "cell_type": "markdown",
   "metadata": {},
   "source": [
    "It is time now to define and build the model."
   ]
  },
  {
   "cell_type": "code",
   "execution_count": 16,
   "metadata": {},
   "outputs": [],
   "source": [
    "my_model = Sequential()\n",
    "my_model.add(Conv2D(16, (5,5), input_shape=(28,28,1), activation='relu'))\n",
    "my_model.add(MaxPooling2D(pool_size=(2,2)))\n",
    "my_model.add(Conv2D(32, (3,3), activation='relu'))\n",
    "my_model.add(MaxPooling2D(pool_size=(2,2)))\n",
    "my_model.add(Dropout(0.2))\n",
    "my_model.add(Flatten())\n",
    "# Fully Connected NN\n",
    "my_model.add(Dense(128, activation='relu'))\n",
    "my_model.add(Dense(50, activation='relu'))\n",
    "my_model.add(Dense(num_classes, activation='softmax'))"
   ]
  },
  {
   "cell_type": "code",
   "execution_count": 17,
   "metadata": {},
   "outputs": [
    {
     "name": "stdout",
     "output_type": "stream",
     "text": [
      "Model: \"sequential_1\"\n",
      "_________________________________________________________________\n",
      "Layer (type)                 Output Shape              Param #   \n",
      "=================================================================\n",
      "conv2d_1 (Conv2D)            (None, 24, 24, 16)        416       \n",
      "_________________________________________________________________\n",
      "max_pooling2d_1 (MaxPooling2 (None, 12, 12, 16)        0         \n",
      "_________________________________________________________________\n",
      "conv2d_2 (Conv2D)            (None, 10, 10, 32)        4640      \n",
      "_________________________________________________________________\n",
      "max_pooling2d_2 (MaxPooling2 (None, 5, 5, 32)          0         \n",
      "_________________________________________________________________\n",
      "dropout_1 (Dropout)          (None, 5, 5, 32)          0         \n",
      "_________________________________________________________________\n",
      "flatten_1 (Flatten)          (None, 800)               0         \n",
      "_________________________________________________________________\n",
      "dense_1 (Dense)              (None, 128)               102528    \n",
      "_________________________________________________________________\n",
      "dense_2 (Dense)              (None, 50)                6450      \n",
      "_________________________________________________________________\n",
      "dense_3 (Dense)              (None, 10)                510       \n",
      "=================================================================\n",
      "Total params: 114,544\n",
      "Trainable params: 114,544\n",
      "Non-trainable params: 0\n",
      "_________________________________________________________________\n"
     ]
    }
   ],
   "source": [
    "my_model.summary()"
   ]
  },
  {
   "cell_type": "markdown",
   "metadata": {},
   "source": [
    "- [List of losses](https://keras.io/losses/)\n",
    "- [List of optimizers](https://keras.io/optimizers/)\n",
    "- [List of metrics](https://keras.io/metrics/)"
   ]
  },
  {
   "cell_type": "code",
   "execution_count": 18,
   "metadata": {},
   "outputs": [],
   "source": [
    "my_model.compile(loss='categorical_crossentropy', optimizer='adam', metrics=['accuracy'])"
   ]
  },
  {
   "cell_type": "markdown",
   "metadata": {},
   "source": [
    "Fit the model."
   ]
  },
  {
   "cell_type": "code",
   "execution_count": 19,
   "metadata": {},
   "outputs": [
    {
     "name": "stdout",
     "output_type": "stream",
     "text": [
      "Train on 20000 samples, validate on 4000 samples\n",
      "Epoch 1/5\n",
      "20000/20000 [==============================] - 4s 222us/step - loss: 0.5177 - accuracy: 0.8479 - val_loss: 0.1281 - val_accuracy: 0.9657\n",
      "Epoch 2/5\n",
      "20000/20000 [==============================] - 4s 186us/step - loss: 0.1278 - accuracy: 0.9622 - val_loss: 0.0762 - val_accuracy: 0.9753\n",
      "Epoch 3/5\n",
      "20000/20000 [==============================] - 4s 195us/step - loss: 0.0855 - accuracy: 0.9735 - val_loss: 0.0746 - val_accuracy: 0.9735\n",
      "Epoch 4/5\n",
      "20000/20000 [==============================] - 4s 193us/step - loss: 0.0656 - accuracy: 0.9794 - val_loss: 0.0619 - val_accuracy: 0.9812\n",
      "Epoch 5/5\n",
      "20000/20000 [==============================] - 4s 195us/step - loss: 0.0528 - accuracy: 0.9837 - val_loss: 0.0526 - val_accuracy: 0.9810\n",
      "Returned: <keras.callbacks.callbacks.History object at 0x7f89f0259d30>\n"
     ]
    }
   ],
   "source": [
    "r = my_model.fit(x=X_train, y=y_train, validation_data=(X_test, y_test), epochs=5, batch_size=100)\n",
    "\n",
    "print(\"Returned:\", r)"
   ]
  },
  {
   "cell_type": "markdown",
   "metadata": {},
   "source": [
    "By printing the available keys, we should see: `dict_keys(['val_loss', 'val_accuracy', 'loss', 'accuracy'])`."
   ]
  },
  {
   "cell_type": "code",
   "execution_count": 20,
   "metadata": {},
   "outputs": [
    {
     "name": "stdout",
     "output_type": "stream",
     "text": [
      "dict_keys(['val_loss', 'val_accuracy', 'loss', 'accuracy'])\n"
     ]
    }
   ],
   "source": [
    "print(r.history.keys())"
   ]
  },
  {
   "cell_type": "code",
   "execution_count": 21,
   "metadata": {},
   "outputs": [
    {
     "data": {
      "image/png": "[encoded data removed]",
      "text/plain": [
       "<Figure size 432x288 with 2 Axes>"
      ]
     },
     "metadata": {
      "needs_background": "light"
     },
     "output_type": "display_data"
    }
   ],
   "source": [
    "# Losses\n",
    "plt.subplot(1, 2, 1)\n",
    "plt.plot(r.history['loss'], label='Tr. Loss')\n",
    "plt.plot(r.history['val_loss'], label='Val. Loss')\n",
    "plt.grid()\n",
    "plt.legend()\n",
    "\n",
    "# Accuracies\n",
    "plt.subplot(1, 2, 2)\n",
    "plt.plot(r.history['accuracy'], label='Tr. Accuracy')\n",
    "plt.plot(r.history['val_accuracy'], label='Val. Accuracy')\n",
    "plt.grid()\n",
    "plt.legend()"
   ]
  },
  {
   "cell_type": "markdown",
   "metadata": {},
   "source": [
    "Evaluate the model."
   ]
  },
  {
   "cell_type": "code",
   "execution_count": 22,
   "metadata": {},
   "outputs": [
    {
     "name": "stdout",
     "output_type": "stream",
     "text": [
      "CNN error: 1.8999993801116943%\n"
     ]
    }
   ],
   "source": [
    "scores = my_model.evaluate(X_test, y_test, verbose=0)\n",
    "print(\"CNN error: {}%\".format(100*(1-scores[1])))"
   ]
  },
  {
   "cell_type": "markdown",
   "metadata": {},
   "source": [
    "Test the model."
   ]
  },
  {
   "cell_type": "code",
   "execution_count": 23,
   "metadata": {},
   "outputs": [
    {
     "data": {
      "text/plain": [
       "(-0.5, 27.5, 27.5, -0.5)"
      ]
     },
     "execution_count": 23,
     "metadata": {},
     "output_type": "execute_result"
    },
    {
     "data": {
      "image/png": "[encoded data removed]",
      "text/plain": [
       "<Figure size 432x288 with 1 Axes>"
      ]
     },
     "metadata": {
      "needs_background": "light"
     },
     "output_type": "display_data"
    }
   ],
   "source": [
    "img = Image.open('to-test/7.png');\n",
    "img = img.convert('L')\n",
    "img = img.resize((28, 28))\n",
    "\n",
    "array_img = (np.array(img))/255\n",
    "in_data = array_img.reshape((1, 28, 28, 1)).astype('float32')\n",
    "\n",
    "plt.imshow(array_img*255, cmap=plt.cm.gray_r, interpolation=\"nearest\")\n",
    "plt.axis('Off')"
   ]
  },
  {
   "cell_type": "code",
   "execution_count": 24,
   "metadata": {},
   "outputs": [
    {
     "name": "stdout",
     "output_type": "stream",
     "text": [
      "Result is 7. Probability is 59.57772135734558%.\n"
     ]
    }
   ],
   "source": [
    "y_pred = my_model.predict(in_data)\n",
    "_, idx = np.where(y_pred == np.max(y_pred))\n",
    "print(\"Result is {}. Probability is {}%.\".format(int(idx), 100*y_pred[0, int(idx)]))"
   ]
  }
 ],
 "metadata": {
  "kernelspec": {
   "display_name": "Python 3",
   "language": "python",
   "name": "python3"
  },
  "language_info": {
   "codemirror_mode": {
    "name": "ipython",
    "version": 3
   },
   "file_extension": ".py",
   "mimetype": "text/x-python",
   "name": "python",
   "nbconvert_exporter": "python",
   "pygments_lexer": "ipython3",
   "version": "3.8.10"
  }
 },
 "nbformat": 4,
 "nbformat_minor": 4
}
