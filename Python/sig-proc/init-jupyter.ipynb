{
 "cells": [
  {
   "cell_type": "markdown",
   "metadata": {},
   "source": [
    "# Traitement de signal\n",
    "## Atelier \\#1 : Initiation à Jupyter\n",
    "### Support de cours disponible à l'adresse : [https://www.github.com/a-mhamdi/isetbz](https://www.github.com/a-mhamdi/isetbz)\n",
    "\n",
    "---"
   ]
  },
  {
   "cell_type": "markdown",
   "metadata": {},
   "source": [
    "**Objectifs**\n",
    "\n",
    "1. Apprendre à programmer en **Python**;\n",
    "2. Se servir de l'environnement **Jupyter Notebook**;\n",
    "3. Utiliser les bibliothèques du calcul scientifique."
   ]
  },
  {
   "cell_type": "markdown",
   "metadata": {},
   "source": [
    "# Variables numériques & Types"
   ]
  },
  {
   "cell_type": "code",
   "execution_count": 1,
   "metadata": {},
   "outputs": [
    {
     "name": "stdout",
     "output_type": "stream",
     "text": [
      "La variable a = 1 est de type <class 'int'>\n"
     ]
    }
   ],
   "source": [
    "a = 1 # Un entier\n",
    "print('La variable a = {} est de type {}'.format(a, type(a)))"
   ]
  },
  {
   "cell_type": "code",
   "execution_count": 2,
   "metadata": {},
   "outputs": [
    {
     "name": "stdout",
     "output_type": "stream",
     "text": [
      "La variable b = -1.25 est de type <class 'float'>\n"
     ]
    }
   ],
   "source": [
    "b = -1.25 # Un nombre réel\n",
    "print('La variable b = {} est de type {}'.format(b, type(b)))"
   ]
  },
  {
   "cell_type": "code",
   "execution_count": 3,
   "metadata": {},
   "outputs": [
    {
     "name": "stdout",
     "output_type": "stream",
     "text": [
      "La variable c = (1+0.5j) est de type <class 'complex'>\n"
     ]
    }
   ],
   "source": [
    "c = 1+0.5j # Un nombre complexe\n",
    "print('La variable c = {} est de type {}'.format(c, type(c)))"
   ]
  },
  {
   "cell_type": "markdown",
   "metadata": {},
   "source": [
    "# Les chaînes de caractères"
   ]
  },
  {
   "cell_type": "code",
   "execution_count": 4,
   "metadata": {},
   "outputs": [
    {
     "name": "stdout",
     "output_type": "stream",
     "text": [
      "Mon Premier TP !\n",
      "***\n",
      "<class 'str'>\n",
      "Mon Premier TP !\n",
      "Python est simple\n",
      "Python est simple\n",
      "Python est simple\n"
     ]
    }
   ],
   "source": [
    "msg = \"Mon Premier TP !\"\n",
    "print(msg, type(msg), sep = '\\n***\\n') # \\n : retour à la ligne\n",
    "print(msg + 3* '\\nPython est simple')"
   ]
  },
  {
   "cell_type": "code",
   "execution_count": 5,
   "metadata": {},
   "outputs": [
    {
     "name": "stdout",
     "output_type": "stream",
     "text": [
      "Ceci est un message,\n",
      "sur plusieurs lignes\n"
     ]
    }
   ],
   "source": [
    "longMsg = \"\"\"Ceci est un message,\n",
    "sur plusieurs lignes\"\"\"\n",
    "print(longMsg)"
   ]
  },
  {
   "cell_type": "markdown",
   "metadata": {},
   "source": [
    "*Indexation*"
   ]
  },
  {
   "cell_type": "code",
   "execution_count": 6,
   "metadata": {},
   "outputs": [
    {
     "name": "stdout",
     "output_type": "stream",
     "text": [
      "Mon Premier TP ! -----> on P\n",
      "Mon Premier TP ! ----->  TP \n"
     ]
    }
   ],
   "source": [
    "# Indexation positive\n",
    "print(msg, msg[1:5], sep = ' -----> ')\n",
    "# Indexation négative\n",
    "print(msg, msg[-5:-1], sep = ' -----> ')"
   ]
  },
  {
   "cell_type": "markdown",
   "metadata": {},
   "source": [
    "*Opérations sur les chaînes*"
   ]
  },
  {
   "cell_type": "code",
   "execution_count": 7,
   "metadata": {},
   "outputs": [
    {
     "name": "stdout",
     "output_type": "stream",
     "text": [
      "10\n",
      "un message\n",
      "UN MESSAGE\n",
      "['Un', 'message']\n",
      "Un MESsage\n",
      "True\n"
     ]
    }
   ],
   "source": [
    "msg = 'Un message'\n",
    "print(len(msg))\n",
    "print(msg.lower())\n",
    "print(msg.upper())\n",
    "print(msg.split(' '))\n",
    "print(msg.replace('mes', 'MES'))\n",
    "print('a' in msg) #  Vérifier si msg contient la lettre 'a'"
   ]
  },
  {
   "cell_type": "code",
   "execution_count": 8,
   "metadata": {},
   "outputs": [
    {
     "name": "stdout",
     "output_type": "stream",
     "text": [
      "Un client demande 3 pièces pour un prix de 100 MDT !\n",
      "Un client demande 3 pièces pour un prix de 100 MDT !\n"
     ]
    }
   ],
   "source": [
    "prix, nombre, perso = 100, 3, 'Un client'\n",
    "print('{} demande {} pièces pour un prix de {} MDT !'.format(perso, nombre, prix))\n",
    "print('{1} demande {2} pièces pour un prix de {0} MDT !'.format(prix, perso, nombre))"
   ]
  },
  {
   "cell_type": "markdown",
   "metadata": {},
   "source": [
    "# Binaire, octal & hexadécimal"
   ]
  },
  {
   "cell_type": "code",
   "execution_count": 9,
   "metadata": {},
   "outputs": [
    {
     "name": "stdout",
     "output_type": "stream",
     "text": [
      "5\t----\t<class 'int'>\n",
      "175\t---------------\t<class 'int'>\n",
      "8, <class 'int'>\n"
     ]
    }
   ],
   "source": [
    "x = 0b0101 # 0b : binaire\n",
    "print(x, type(x), sep = '\\t----\\t') # \\t : tabulation\n",
    "y = 0xAF # Ox : hexadécimal\n",
    "print(y, type(y), sep = '\\t' + '---'*5 + '\\t')\n",
    "z = 0o010 # 0o : octal\n",
    "print(z, type(z), sep = ', ')"
   ]
  },
  {
   "cell_type": "markdown",
   "metadata": {},
   "source": [
    "*Boolean*"
   ]
  },
  {
   "cell_type": "code",
   "execution_count": 10,
   "metadata": {},
   "outputs": [
    {
     "name": "stdout",
     "output_type": "stream",
     "text": [
      "True\n",
      "False\n"
     ]
    }
   ],
   "source": [
    "a = True\n",
    "b = False\n",
    "print(a)\n",
    "print(b)"
   ]
  },
  {
   "cell_type": "code",
   "execution_count": 11,
   "metadata": {},
   "outputs": [
    {
     "name": "stdout",
     "output_type": "stream",
     "text": [
      "50 > 20 ? : True \n",
      "50 < 20 ? : False \n",
      "50 = 20 ? : False\n",
      "50 /= 20 ? : True\n"
     ]
    }
   ],
   "source": [
    "print(\"50 > 20 ? : {} \\n50 < 20 ? : {} \\n50 = 20 ? : {}\\n50 /= 20 ? : {}\"\n",
    "      .format(50 > 20, 50 < 20, 50 == 20, 50 != 20)\n",
    "     )"
   ]
  },
  {
   "cell_type": "code",
   "execution_count": 12,
   "metadata": {},
   "outputs": [
    {
     "name": "stdout",
     "output_type": "stream",
     "text": [
      "True False True False\n"
     ]
    }
   ],
   "source": [
    "print(bool(123), bool(0), bool('TP'), bool())"
   ]
  },
  {
   "cell_type": "code",
   "execution_count": 13,
   "metadata": {},
   "outputs": [
    {
     "name": "stdout",
     "output_type": "stream",
     "text": [
      "True\n",
      "False\n",
      "True\n"
     ]
    }
   ],
   "source": [
    "var1 = 100\n",
    "print(isinstance(var1, int))\n",
    "var2 = -100.35\n",
    "print(isinstance(var2, int))\n",
    "print(isinstance(var2, float))"
   ]
  },
  {
   "cell_type": "markdown",
   "metadata": {},
   "source": [
    "# Listes, tuples & dictionnaires"
   ]
  },
  {
   "cell_type": "markdown",
   "metadata": {},
   "source": [
    "Nous étudierons ici trois types de groupement de données, indexés et non ordonnés, dans le langage de programmation **Python** :\n",
    "\n",
    "1. *Liste* est une collection modifiable. Elle autorise les termes redondants ;\n",
    "2. *Tuple* est une collection immuable. Il autorise aussi la redondance ;\n",
    "3. *Dictionnaire* est une collection modifiable. Un terme en double est interdit.\n",
    "\n",
    "Lors du choix d'un type, il est utile de comprendre ses caractéristiques et de savoir comment **Python** gère ses définitions."
   ]
  },
  {
   "cell_type": "markdown",
   "metadata": {},
   "source": [
    "## Opérations sur les listes"
   ]
  },
  {
   "cell_type": "code",
   "execution_count": 14,
   "metadata": {},
   "outputs": [
    {
     "name": "stdout",
     "output_type": "stream",
     "text": [
      "['a', 'b', 'c', 1, True]\n"
     ]
    }
   ],
   "source": [
    "maListe = ['a', 'b', 'c', 1, True] # Une liste mixte\n",
    "print(maListe)"
   ]
  },
  {
   "cell_type": "code",
   "execution_count": 15,
   "metadata": {},
   "outputs": [
    {
     "name": "stdout",
     "output_type": "stream",
     "text": [
      "5\n",
      "['b', 'c']\n",
      "[['1', 0], 'b', 'c', 1, True]\n",
      "[1, True]\n",
      "[['1', 0], 'b', 'c']\n"
     ]
    }
   ],
   "source": [
    "print(len(maListe)) # Taille de maListe\n",
    "print(maListe[1:3]) # Accès aux élements de maListe\n",
    "maListe[0] = ['1', 0] # Liste combinée\n",
    "print(maListe)\n",
    "print(maListe[3:])\n",
    "print(maListe[:3])"
   ]
  },
  {
   "cell_type": "code",
   "execution_count": 16,
   "metadata": {},
   "outputs": [
    {
     "name": "stdout",
     "output_type": "stream",
     "text": [
      "[['1', 0], 'b', 'c', 1, True, 'etc']\n"
     ]
    }
   ],
   "source": [
    "maListe.append('etc') # Insertion de 'etc' à la fin de maListe\n",
    "print(maListe)"
   ]
  },
  {
   "cell_type": "code",
   "execution_count": 17,
   "metadata": {},
   "outputs": [
    {
     "name": "stdout",
     "output_type": "stream",
     "text": [
      "[['1', 0], 'xyz', 'b', 'c', 1, True, 'etc']\n"
     ]
    }
   ],
   "source": [
    "maListe.insert(1, 'xyz') # Insertion de 'xyz'\n",
    "print(maListe)"
   ]
  },
  {
   "cell_type": "code",
   "execution_count": 18,
   "metadata": {},
   "outputs": [
    {
     "name": "stdout",
     "output_type": "stream",
     "text": [
      "[['1', 0], 'b', 'c', 1, True, 'etc']\n"
     ]
    }
   ],
   "source": [
    "maListe.pop(1)\n",
    "print(maListe)"
   ]
  },
  {
   "cell_type": "code",
   "execution_count": 19,
   "metadata": {},
   "outputs": [
    {
     "name": "stdout",
     "output_type": "stream",
     "text": [
      "[['1', 0], 'b', 'c', 1, True]\n"
     ]
    }
   ],
   "source": [
    "maListe.pop()\n",
    "print(maListe)"
   ]
  },
  {
   "cell_type": "code",
   "execution_count": 20,
   "metadata": {},
   "outputs": [
    {
     "name": "stdout",
     "output_type": "stream",
     "text": [
      "['b', 'c', 1, True]\n"
     ]
    }
   ],
   "source": [
    "del maListe[0]\n",
    "print(maListe)"
   ]
  },
  {
   "cell_type": "code",
   "execution_count": 21,
   "metadata": {},
   "outputs": [
    {
     "name": "stdout",
     "output_type": "stream",
     "text": [
      "['b', 'c', 1, True, 'b']\n",
      "['c', 1, True, 'b']\n"
     ]
    }
   ],
   "source": [
    "maListe.append('b')\n",
    "print(maListe)\n",
    "maListe.remove('b')\n",
    "print(maListe)"
   ]
  },
  {
   "cell_type": "code",
   "execution_count": 22,
   "metadata": {},
   "outputs": [
    {
     "name": "stdout",
     "output_type": "stream",
     "text": [
      "c\n",
      "1\n",
      "True\n",
      "b\n"
     ]
    }
   ],
   "source": [
    "# Loop\n",
    "for k in maListe:\n",
    "    print(k)"
   ]
  },
  {
   "cell_type": "code",
   "execution_count": 23,
   "metadata": {},
   "outputs": [
    {
     "name": "stdout",
     "output_type": "stream",
     "text": [
      "[]\n"
     ]
    }
   ],
   "source": [
    "maListe.clear()\n",
    "print(maListe)"
   ]
  },
  {
   "cell_type": "markdown",
   "metadata": {},
   "source": [
    "| ***Méthode*** | ***Description*** |\n",
    "| -------- | -----------------------------------|\n",
    "| **copy()** | Renvoyer une copie de la liste |\n",
    "| **list()** | Transformer en une liste |\n",
    "| **extend ()** | Ajouter les éléments d'une liste (ou tout autre itérable), à la fin de la liste actuelle |\n",
    "| **count()** | Renvoyer le nombre d'occurrences de la valeur spécifiée\n",
    "| **index()** | Retourner l'index de la première occurrence de la valeur spécifiée |\n",
    "| **reverse()** | Inverser l'ordre la liste |\n",
    "| **sort()** | Trier la liste |"
   ]
  },
  {
   "cell_type": "markdown",
   "metadata": {},
   "source": [
    "## Opérations sur les tuples"
   ]
  },
  {
   "cell_type": "code",
   "execution_count": 24,
   "metadata": {},
   "outputs": [
    {
     "name": "stdout",
     "output_type": "stream",
     "text": [
      "(1, 2, 3)\n"
     ]
    }
   ],
   "source": [
    "ce_tuple = (1, 2, 3)\n",
    "print(ce_tuple)"
   ]
  },
  {
   "cell_type": "code",
   "execution_count": 25,
   "metadata": {},
   "outputs": [
    {
     "name": "stdout",
     "output_type": "stream",
     "text": [
      "(1, '1', 2, 'texte')\n"
     ]
    }
   ],
   "source": [
    "ce_tuple = (1, '1', 2, 'texte')\n",
    "print(ce_tuple)"
   ]
  },
  {
   "cell_type": "code",
   "execution_count": 26,
   "metadata": {},
   "outputs": [
    {
     "name": "stdout",
     "output_type": "stream",
     "text": [
      "4\n"
     ]
    }
   ],
   "source": [
    "print(len(ce_tuple))"
   ]
  },
  {
   "cell_type": "code",
   "execution_count": 27,
   "metadata": {},
   "outputs": [
    {
     "name": "stdout",
     "output_type": "stream",
     "text": [
      "('1', 2, 'texte')\n"
     ]
    }
   ],
   "source": [
    "print(ce_tuple[1:])"
   ]
  },
  {
   "cell_type": "code",
   "execution_count": 28,
   "metadata": {},
   "outputs": [
    {
     "name": "stdout",
     "output_type": "stream",
     "text": [
      "'tuple' object has no attribute 'append'\n"
     ]
    }
   ],
   "source": [
    "try:\n",
    "    ce_tuple.append('xyz') # Déclencher une erreur\n",
    "except Exception as err:\n",
    "    print(err)"
   ]
  },
  {
   "cell_type": "code",
   "execution_count": 29,
   "metadata": {},
   "outputs": [
    {
     "name": "stdout",
     "output_type": "stream",
     "text": [
      "[1, '1', 2, 'texte', 'xyz'], <class 'list'>\n"
     ]
    }
   ],
   "source": [
    "ma_liste = list(ce_tuple)\n",
    "ma_liste.append('xyz')\n",
    "print(ma_liste, type(ma_liste), sep = ', ')"
   ]
  },
  {
   "cell_type": "code",
   "execution_count": 30,
   "metadata": {},
   "outputs": [
    {
     "name": "stdout",
     "output_type": "stream",
     "text": [
      "(1, '1', 2, 'texte', 'xyz'), <class 'tuple'>\n"
     ]
    }
   ],
   "source": [
    "nv_tuple = tuple(ma_liste) # Convertir 'ma_liste' en tuple 'new_tuple'\n",
    "print(nv_tuple, type(nv_tuple), sep = ', ')"
   ]
  },
  {
   "cell_type": "code",
   "execution_count": 31,
   "metadata": {},
   "outputs": [
    {
     "name": "stdout",
     "output_type": "stream",
     "text": [
      "'tuple' object has no attribute 'insert'\n"
     ]
    }
   ],
   "source": [
    "try:\n",
    "    ce_tuple.insert(1, 'xyz') # Déclencher une erreur\n",
    "except Exception as err:\n",
    "    print(err)"
   ]
  },
  {
   "cell_type": "code",
   "execution_count": 32,
   "metadata": {},
   "outputs": [
    {
     "name": "stdout",
     "output_type": "stream",
     "text": [
      "1\n",
      "1\n",
      "2\n",
      "texte\n"
     ]
    }
   ],
   "source": [
    "# Loop\n",
    "for k in ce_tuple:\n",
    "    print(k)"
   ]
  },
  {
   "cell_type": "code",
   "execution_count": 33,
   "metadata": {},
   "outputs": [
    {
     "name": "stdout",
     "output_type": "stream",
     "text": [
      "(1, '1', 2, 'texte', 1, '1', 2, 'texte', 'xyz')\n"
     ]
    }
   ],
   "source": [
    "res_tuple = ce_tuple + nv_tuple\n",
    "print(res_tuple)"
   ]
  },
  {
   "cell_type": "markdown",
   "metadata": {},
   "source": [
    "## Opérations sur les dictionnaires"
   ]
  },
  {
   "cell_type": "code",
   "execution_count": 34,
   "metadata": {},
   "outputs": [
    {
     "name": "stdout",
     "output_type": "stream",
     "text": [
      "{'Parcours': 'GM', 'Spécialité': 'ElnI', 'Sem': '4'}, <class 'dict'>\n"
     ]
    }
   ],
   "source": [
    "# monDict = {\"key\": \"value\"}\n",
    "monDict = {\n",
    "    \"Parcours\" : \"GM\",\n",
    "    \"Spécialité\" : \"ElnI\",\n",
    "    \"Sem\" : \"4\"\n",
    "}\n",
    "print(monDict, type(monDict), sep = ', ')"
   ]
  },
  {
   "cell_type": "code",
   "execution_count": 35,
   "metadata": {},
   "outputs": [
    {
     "name": "stdout",
     "output_type": "stream",
     "text": [
      "4\n",
      "4\n"
     ]
    }
   ],
   "source": [
    "print(monDict[\"Sem\"])\n",
    "sem = monDict.get(\"Sem\")\n",
    "print(sem)"
   ]
  },
  {
   "cell_type": "code",
   "execution_count": 36,
   "metadata": {},
   "outputs": [
    {
     "name": "stdout",
     "output_type": "stream",
     "text": [
      "{'Parcours': 'GE', 'Spécialité': 'ElnI', 'Sem': '4'}\n"
     ]
    }
   ],
   "source": [
    "monDict[\"Parcours\"] = \"GE\"\n",
    "print(monDict)"
   ]
  },
  {
   "cell_type": "code",
   "execution_count": 37,
   "metadata": {},
   "outputs": [
    {
     "name": "stdout",
     "output_type": "stream",
     "text": [
      "Parcours\t|\tGE\n",
      "Spécialité\t|\tElnI\n",
      "Sem\t|\t4\n"
     ]
    }
   ],
   "source": [
    "# Boucle\n",
    "for d in monDict:\n",
    "    print(d, monDict[d], sep = '\\t|\\t')"
   ]
  },
  {
   "cell_type": "code",
   "execution_count": 38,
   "metadata": {},
   "outputs": [
    {
     "name": "stdout",
     "output_type": "stream",
     "text": [
      "Parcours\n",
      "Spécialité\n",
      "Sem\n"
     ]
    }
   ],
   "source": [
    "for k in monDict.keys():\n",
    "    print(k)"
   ]
  },
  {
   "cell_type": "code",
   "execution_count": 39,
   "metadata": {},
   "outputs": [
    {
     "name": "stdout",
     "output_type": "stream",
     "text": [
      "GE\n",
      "ElnI\n",
      "4\n"
     ]
    }
   ],
   "source": [
    "for v in monDict.values():\n",
    "    print(v)"
   ]
  },
  {
   "cell_type": "markdown",
   "metadata": {},
   "source": [
    "# NumPy"
   ]
  },
  {
   "cell_type": "markdown",
   "metadata": {},
   "source": [
    "La documentation officielle est disponible via ce lien : [https://numpy.org/](https://numpy.org/)"
   ]
  },
  {
   "cell_type": "markdown",
   "metadata": {},
   "source": [
    "Commençons d'abord par importer le module de calcul numérique **NumPy**. Nous le référençons désormais par l'acronyme *np*"
   ]
  },
  {
   "cell_type": "code",
   "execution_count": 40,
   "metadata": {},
   "outputs": [],
   "source": [
    "import numpy as np"
   ]
  },
  {
   "cell_type": "markdown",
   "metadata": {},
   "source": [
    "*NumPy vs Liste*"
   ]
  },
  {
   "cell_type": "code",
   "execution_count": 41,
   "metadata": {},
   "outputs": [
    {
     "name": "stdout",
     "output_type": "stream",
     "text": [
      "a_np =  [0 1 2 3 4 5]\n",
      "<class 'numpy.ndarray'>\n",
      "a_lst =  [0, 1, 2, 3, 4, 5]\n",
      "<class 'list'>\n",
      "2 * a_np =  [ 0  2  4  6  8 10]\n",
      "2 * a_lst =  [0, 1, 2, 3, 4, 5, 0, 1, 2, 3, 4, 5]\n"
     ]
    }
   ],
   "source": [
    "a_np = np.arange(6) # NumPy\n",
    "print(\"a_np = \", a_np)\n",
    "print(type(a_np))\n",
    "a_lst = list(range(0,6)) # Liste\n",
    "print(\"a_lst = \", a_lst)\n",
    "print(type(a_lst))\n",
    "# Comparaison\n",
    "print(\"2 * a_np = \", a_np * 2)\n",
    "print(\"2 * a_lst = \", a_lst * 2)"
   ]
  },
  {
   "cell_type": "code",
   "execution_count": 42,
   "metadata": {},
   "outputs": [
    {
     "name": "stdout",
     "output_type": "stream",
     "text": [
      "[1 2 3 4 5 6]\n"
     ]
    }
   ],
   "source": [
    "v_np = np.array([1, 2, 3, 4, 5, 6]) # NB : parenthèses puis crochets, i.e, ([])\n",
    "print(v_np)"
   ]
  },
  {
   "cell_type": "code",
   "execution_count": 43,
   "metadata": {},
   "outputs": [
    {
     "name": "stdout",
     "output_type": "stream",
     "text": [
      "[[ 1  2  3  4]\n",
      " [ 5  6  7  8]\n",
      " [ 9 10 11 12]]\n"
     ]
    }
   ],
   "source": [
    "v_np = np.array([[1, 2, 3, 4], [5, 6, 7, 8], [9, 10, 11, 12]])\n",
    "print(v_np)"
   ]
  },
  {
   "cell_type": "code",
   "execution_count": 44,
   "metadata": {},
   "outputs": [
    {
     "name": "stdout",
     "output_type": "stream",
     "text": [
      "<class 'numpy.ndarray'>\n"
     ]
    }
   ],
   "source": [
    "print(type(v_np))"
   ]
  },
  {
   "cell_type": "code",
   "execution_count": 45,
   "metadata": {},
   "outputs": [
    {
     "name": "stdout",
     "output_type": "stream",
     "text": [
      "[1 2 3 4]\n"
     ]
    }
   ],
   "source": [
    "print(v_np[0])"
   ]
  },
  {
   "cell_type": "code",
   "execution_count": 46,
   "metadata": {},
   "outputs": [
    {
     "data": {
      "text/plain": [
       "2"
      ]
     },
     "execution_count": 46,
     "metadata": {},
     "output_type": "execute_result"
    }
   ],
   "source": [
    "v_np.ndim # Dimensions de v_np"
   ]
  },
  {
   "cell_type": "code",
   "execution_count": 47,
   "metadata": {},
   "outputs": [
    {
     "data": {
      "text/plain": [
       "(3, 4)"
      ]
     },
     "execution_count": 47,
     "metadata": {},
     "output_type": "execute_result"
    }
   ],
   "source": [
    "v_np.shape # Nombre de lignes et de colonnes"
   ]
  },
  {
   "cell_type": "code",
   "execution_count": 48,
   "metadata": {},
   "outputs": [
    {
     "data": {
      "text/plain": [
       "12"
      ]
     },
     "execution_count": 48,
     "metadata": {},
     "output_type": "execute_result"
    }
   ],
   "source": [
    "v_np.size # Nombre d'éléments dans v_np = 3 * 4"
   ]
  },
  {
   "cell_type": "markdown",
   "metadata": {},
   "source": [
    "Une autre démarche pour créer une matrice de taille (3,3) par exemple est :"
   ]
  },
  {
   "cell_type": "code",
   "execution_count": 49,
   "metadata": {},
   "outputs": [
    {
     "name": "stdout",
     "output_type": "stream",
     "text": [
      "[[0 1 2]\n",
      " [3 4 5]\n",
      " [6 7 8]]\n"
     ]
    }
   ],
   "source": [
    "u = np.arange(9).reshape(3,3)\n",
    "print(u)"
   ]
  },
  {
   "cell_type": "markdown",
   "metadata": {},
   "source": [
    "Nous passons maintenant à présenter quelques opérations de base sur les matrices"
   ]
  },
  {
   "cell_type": "code",
   "execution_count": 50,
   "metadata": {},
   "outputs": [
    {
     "name": "stdout",
     "output_type": "stream",
     "text": [
      "[[1 2]\n",
      " [1 2]]\n"
     ]
    }
   ],
   "source": [
    "M = np.array([[1, 2], [1, 2]])\n",
    "print(M)"
   ]
  },
  {
   "cell_type": "code",
   "execution_count": 51,
   "metadata": {},
   "outputs": [
    {
     "name": "stdout",
     "output_type": "stream",
     "text": [
      "[[0 3]\n",
      " [4 5]]\n"
     ]
    }
   ],
   "source": [
    "N = np.array([[0, 3], [4, 5]])\n",
    "print(N)"
   ]
  },
  {
   "cell_type": "markdown",
   "metadata": {},
   "source": [
    "*Addition*"
   ]
  },
  {
   "cell_type": "code",
   "execution_count": 52,
   "metadata": {},
   "outputs": [
    {
     "name": "stdout",
     "output_type": "stream",
     "text": [
      "[[1 5]\n",
      " [5 7]]\n",
      "[[1 5]\n",
      " [5 7]]\n"
     ]
    }
   ],
   "source": [
    "print(M + N)\n",
    "print(np.add(M, N))"
   ]
  },
  {
   "cell_type": "markdown",
   "metadata": {},
   "source": [
    "*Soustraction*"
   ]
  },
  {
   "cell_type": "code",
   "execution_count": 53,
   "metadata": {},
   "outputs": [
    {
     "name": "stdout",
     "output_type": "stream",
     "text": [
      "[[ 1 -1]\n",
      " [-3 -3]]\n",
      "[[ 1 -1]\n",
      " [-3 -3]]\n"
     ]
    }
   ],
   "source": [
    "print(M-N)\n",
    "print(np.subtract(M, N))"
   ]
  },
  {
   "cell_type": "markdown",
   "metadata": {},
   "source": [
    "*Mutiplication élément par élément* _<u>(en: Elementwise Product)</u>_"
   ]
  },
  {
   "cell_type": "markdown",
   "metadata": {},
   "source": [
    "$$\n",
    "\\left[\\begin{array}{cc}1&2\\\\1&2\\end{array}\\right] \n",
    ".\\times\n",
    "\\left[\\begin{array}{cc}0&3\\\\4&5\\end{array}\\right]\n",
    "\\quad =\\quad\n",
    "\\left[\\begin{array}{cc}0&6\\\\4&10\\end{array}\\right]\n",
    "$$"
   ]
  },
  {
   "cell_type": "code",
   "execution_count": 54,
   "metadata": {},
   "outputs": [
    {
     "name": "stdout",
     "output_type": "stream",
     "text": [
      "[[ 0  6]\n",
      " [ 4 10]]\n",
      "[[ 0  6]\n",
      " [ 4 10]]\n"
     ]
    }
   ],
   "source": [
    "print(M * N)\n",
    "print(np.multiply(M, N))"
   ]
  },
  {
   "cell_type": "markdown",
   "metadata": {},
   "source": [
    "*Produit matriciel*"
   ]
  },
  {
   "cell_type": "markdown",
   "metadata": {},
   "source": [
    "$$\n",
    "\\left[\\begin{array}{cc}1&2\\\\1&2\\end{array}\\right] \n",
    "\\times\n",
    "\\left[\\begin{array}{cc}0&3\\\\4&5\\end{array}\\right]\n",
    "\\quad =\\quad\n",
    "\\left[\\begin{array}{cc}8&13\\\\8&13\\end{array}\\right]\n",
    "$$"
   ]
  },
  {
   "cell_type": "code",
   "execution_count": 55,
   "metadata": {},
   "outputs": [
    {
     "name": "stdout",
     "output_type": "stream",
     "text": [
      "[[ 8 13]\n",
      " [ 8 13]]\n",
      "[[ 8 13]\n",
      " [ 8 13]]\n"
     ]
    }
   ],
   "source": [
    "print(M.dot(N))\n",
    "print(np.dot(M, N))"
   ]
  },
  {
   "cell_type": "markdown",
   "metadata": {},
   "source": [
    "*Division élément par élément* _<u>(en: Elementwise Division)</u>_"
   ]
  },
  {
   "cell_type": "markdown",
   "metadata": {},
   "source": [
    "$$\n",
    "\\left[\\begin{array}{cc}0&3\\\\4&5\\end{array}\\right]\n",
    "./\n",
    "\\left[\\begin{array}{cc}1&2\\\\1&2\\end{array}\\right] \n",
    "\\quad =\\quad\n",
    "\\left[\\begin{array}{cc}0:1&3:2\\\\4:1&5:2\\end{array}\\right]\n",
    "$$"
   ]
  },
  {
   "cell_type": "code",
   "execution_count": 56,
   "metadata": {},
   "outputs": [
    {
     "name": "stdout",
     "output_type": "stream",
     "text": [
      "[[0.  1.5]\n",
      " [4.  2.5]]\n",
      "[[0.  1.5]\n",
      " [4.  2.5]]\n"
     ]
    }
   ],
   "source": [
    "print(N / M)\n",
    "print(np.divide(N, M))"
   ]
  },
  {
   "cell_type": "markdown",
   "metadata": {},
   "source": [
    "*Calcul du déterminant*"
   ]
  },
  {
   "cell_type": "code",
   "execution_count": 57,
   "metadata": {},
   "outputs": [
    {
     "name": "stdout",
     "output_type": "stream",
     "text": [
      "Déterminant de M :\n",
      "0.0\n",
      "Déterminant de N :\n",
      "-12.0\n"
     ]
    }
   ],
   "source": [
    "print(\"Déterminant de M :\")\n",
    "print(np.linalg.det(M))\n",
    "print(\"Déterminant de N :\")\n",
    "print(np.linalg.det(N))"
   ]
  },
  {
   "cell_type": "markdown",
   "metadata": {},
   "source": [
    "# Matplotlib"
   ]
  },
  {
   "cell_type": "markdown",
   "metadata": {},
   "source": [
    "De plus amples informations peuvent être trouvées à ce site : [https://matplotlib.org/](https://matplotlib.org/)"
   ]
  },
  {
   "cell_type": "code",
   "execution_count": 58,
   "metadata": {},
   "outputs": [],
   "source": [
    "import numpy as np\n",
    "import matplotlib.pyplot as plt\n",
    "\n",
    "plt.style.use(\"ggplot\")\n",
    "plt.rcParams['figure.figsize'] = [15, 10]\n",
    "plt.rc({\"keymap.grid\": \"g\", \"font.serif\": \"Charter\", \"font.size\": 10})"
   ]
  },
  {
   "cell_type": "markdown",
   "metadata": {},
   "source": [
    "Nous créons une fonction sinusoïdale qu'on dénote par $x$ de période 1 sec, rehaussée d'une valeur constante de 1."
   ]
  },
  {
   "cell_type": "code",
   "execution_count": 59,
   "metadata": {},
   "outputs": [],
   "source": [
    "# Fonction continue\n",
    "t = np.arange(0.0, 2.0, 0.01)\n",
    "x = 1 + np.sin(2 * np.pi * t) # Fréquence = 1Hz"
   ]
  },
  {
   "cell_type": "markdown",
   "metadata": {},
   "source": [
    "Les commandes qui permettent de tracer le graphique de $x$ sont :"
   ]
  },
  {
   "cell_type": "code",
   "execution_count": 60,
   "metadata": {},
   "outputs": [
    {
     "data": {
      "image/png": "[encoded data removed]",
      "text/plain": [
       "<Figure size 1080x720 with 1 Axes>"
      ]
     },
     "metadata": {},
     "output_type": "display_data"
    }
   ],
   "source": [
    "plt.plot(t, x)\n",
    "\n",
    "# Donner un titre au graphique\n",
    "plt.title(r\"$x(t) = 1+\\sin\\left(2\\pi\\frac{t}{1}\\right)$\")\n",
    "plt.xlabel(\"$t$ (sec)\") # Nommer l'axe des abscisses\n",
    "\n",
    "plt.show()"
   ]
  },
  {
   "cell_type": "code",
   "execution_count": 61,
   "metadata": {},
   "outputs": [],
   "source": [
    "# Fonction échantillonnée\n",
    "t = np.arange(0.0, 2.0, 0.1)\n",
    "y = np.sin(2*np.pi*t) # Pareil ! Signal sinusoïdal de fréquence 1Hz"
   ]
  },
  {
   "cell_type": "code",
   "execution_count": 62,
   "metadata": {},
   "outputs": [
    {
     "data": {
      "image/png": "[encoded data removed]",
      "text/plain": [
       "<Figure size 1080x720 with 1 Axes>"
      ]
     },
     "metadata": {},
     "output_type": "display_data"
    }
   ],
   "source": [
    "plt.stem(t, y)\n",
    "plt.xlabel(\"$t$ (sec)\")\n",
    "plt.show()"
   ]
  }
 ],
 "metadata": {
  "kernelspec": {
   "display_name": "Python 3",
   "language": "python",
   "name": "python3"
  },
  "language_info": {
   "codemirror_mode": {
    "name": "ipython",
    "version": 3
   },
   "file_extension": ".py",
   "mimetype": "text/x-python",
   "name": "python",
   "nbconvert_exporter": "python",
   "pygments_lexer": "ipython3",
   "version": "3.9.1"
  }
 },
 "nbformat": 4,
 "nbformat_minor": 2
}
