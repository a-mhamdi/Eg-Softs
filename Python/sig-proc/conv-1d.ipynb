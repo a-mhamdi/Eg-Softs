{
 "cells": [
  {
   "cell_type": "markdown",
   "metadata": {},
   "source": [
    "La convolution est une intégrale qui exprime le degré de chevauchement d'une fonction $h$ lorsqu'elle est décalée sur une autre fonction $x$.\n",
    "\n",
    "Par définition, une convolution $x\\ast h$ se mesure par l'équation suivante :\n",
    "\n",
    "$$\n",
    "x\\ast h \\;=\\; \\displaystyle\\int_{0}^{t}h(t-\\varsigma)x(\\varsigma)d\\varsigma.\n",
    "$$\n",
    "\n",
    "Ce produit est utilisé fréquemment pour le filtrage d'un signal contaminé par du bruit gênant ainsi la perception correcte de l'information. Un produit de convolution peut être vu comme une technique de calcul de moyenne à un instant $t$ d'une fonction $x$ pondérée par la fonction $h$ et vice-versa."
   ]
  },
  {
   "cell_type": "code",
   "execution_count": 2,
   "metadata": {},
   "outputs": [
    {
     "ename": "ModuleNotFoundError",
     "evalue": "No module named 'tikzplotlib'",
     "output_type": "error",
     "traceback": [
      "\u001b[0;31m---------------------------------------------------------------------------\u001b[0m",
      "\u001b[0;31mModuleNotFoundError\u001b[0m                       Traceback (most recent call last)",
      "\u001b[0;32m<ipython-input-2-5294d454397b>\u001b[0m in \u001b[0;36m<module>\u001b[0;34m\u001b[0m\n\u001b[1;32m      3\u001b[0m \u001b[0;32mimport\u001b[0m \u001b[0mmatplotlib\u001b[0m\u001b[0;34m.\u001b[0m\u001b[0mpyplot\u001b[0m \u001b[0;32mas\u001b[0m \u001b[0mplt\u001b[0m\u001b[0;34m\u001b[0m\u001b[0;34m\u001b[0m\u001b[0m\n\u001b[1;32m      4\u001b[0m \u001b[0;31m# plt.style.use('ggplot')\u001b[0m\u001b[0;34m\u001b[0m\u001b[0;34m\u001b[0m\u001b[0;34m\u001b[0m\u001b[0m\n\u001b[0;32m----> 5\u001b[0;31m \u001b[0;32mimport\u001b[0m \u001b[0mtikzplotlib\u001b[0m \u001b[0;32mas\u001b[0m \u001b[0mmikz\u001b[0m\u001b[0;34m\u001b[0m\u001b[0;34m\u001b[0m\u001b[0m\n\u001b[0m",
      "\u001b[0;31mModuleNotFoundError\u001b[0m: No module named 'tikzplotlib'"
     ]
    }
   ],
   "source": [
    "%matplotlib inline\n",
    "import numpy as np\n",
    "import matplotlib.pyplot as plt\n",
    "# plt.style.use('ggplot')\n",
    "import tikzplotlib as mikz"
   ]
  },
  {
   "cell_type": "markdown",
   "metadata": {},
   "source": [
    "On se propose de générer un signal sinusoïdal d'amplitude $1$ et de fréquence $1$ Hz que l'on note $x(t)$. \n",
    "\n",
    "$$\n",
    "x(t) \\;=\\; \\displaystyle\\sin\\left(2\\pi f t\\right),\\quad\\text{avec}\\quad f \\,=\\, 1\\,\\text{Hz}.\n",
    "$$"
   ]
  },
  {
   "cell_type": "code",
   "execution_count": 1,
   "metadata": {},
   "outputs": [
    {
     "ename": "NameError",
     "evalue": "name 'np' is not defined",
     "output_type": "error",
     "traceback": [
      "\u001b[0;31m---------------------------------------------------------------------------\u001b[0m",
      "\u001b[0;31mNameError\u001b[0m                                 Traceback (most recent call last)",
      "\u001b[0;32m<ipython-input-1-a04d564006c1>\u001b[0m in \u001b[0;36m<module>\u001b[0;34m\u001b[0m\n\u001b[0;32m----> 1\u001b[0;31m \u001b[0mt\u001b[0m \u001b[0;34m=\u001b[0m \u001b[0mnp\u001b[0m\u001b[0;34m.\u001b[0m\u001b[0mlinspace\u001b[0m\u001b[0;34m(\u001b[0m\u001b[0;36m0\u001b[0m\u001b[0;34m,\u001b[0m \u001b[0;36m10.0\u001b[0m\u001b[0;34m,\u001b[0m \u001b[0;36m1000\u001b[0m\u001b[0;34m)\u001b[0m\u001b[0;34m\u001b[0m\u001b[0;34m\u001b[0m\u001b[0m\n\u001b[0m\u001b[1;32m      2\u001b[0m \u001b[0mx\u001b[0m \u001b[0;34m=\u001b[0m \u001b[0mnp\u001b[0m\u001b[0;34m.\u001b[0m\u001b[0msin\u001b[0m\u001b[0;34m(\u001b[0m\u001b[0;36m2\u001b[0m \u001b[0;34m*\u001b[0m \u001b[0mnp\u001b[0m\u001b[0;34m.\u001b[0m\u001b[0mpi\u001b[0m \u001b[0;34m*\u001b[0m \u001b[0mt\u001b[0m\u001b[0;34m)\u001b[0m\u001b[0;34m\u001b[0m\u001b[0;34m\u001b[0m\u001b[0m\n\u001b[1;32m      3\u001b[0m \u001b[0mplt\u001b[0m\u001b[0;34m.\u001b[0m\u001b[0mplot\u001b[0m\u001b[0;34m(\u001b[0m\u001b[0mt\u001b[0m\u001b[0;34m,\u001b[0m \u001b[0mx\u001b[0m\u001b[0;34m)\u001b[0m\u001b[0;34m\u001b[0m\u001b[0;34m\u001b[0m\u001b[0m\n\u001b[1;32m      4\u001b[0m \u001b[0mplt\u001b[0m\u001b[0;34m.\u001b[0m\u001b[0mtitle\u001b[0m\u001b[0;34m(\u001b[0m\u001b[0;34m\"Signal non bruité\"\u001b[0m\u001b[0;34m)\u001b[0m\u001b[0;34m\u001b[0m\u001b[0;34m\u001b[0m\u001b[0m\n\u001b[1;32m      5\u001b[0m \u001b[0mplt\u001b[0m\u001b[0;34m.\u001b[0m\u001b[0mgrid\u001b[0m\u001b[0;34m(\u001b[0m\u001b[0;32mTrue\u001b[0m\u001b[0;34m)\u001b[0m\u001b[0;34m\u001b[0m\u001b[0;34m\u001b[0m\u001b[0m\n",
      "\u001b[0;31mNameError\u001b[0m: name 'np' is not defined"
     ]
    }
   ],
   "source": [
    "t = np.linspace(0, 10.0, 1000)\n",
    "x = np.sin(2 * np.pi * t) \n",
    "plt.plot(t, x)\n",
    "plt.title(\"Signal non bruité\")\n",
    "plt.grid(True)\n",
    "plt.xlabel(\"$t$ (sec)\")\n",
    "plt.xlim(0, 5)\n",
    "mikz.save(\"fct-sin.tex\")\n",
    "plt.show()"
   ]
  },
  {
   "cell_type": "markdown",
   "metadata": {},
   "source": [
    "Nous synthétisons ici un exemple de bruit :\n",
    "\n",
    "$$\n",
    "b(t) \\;=\\; \n",
    "-0.4 \\displaystyle\\sin\\left(2\\pi f_{\\text{b}_1} t\\right)\n",
    "+0.6 \\displaystyle\\sin\\left(2\\pi f_{\\text{b}_2} t\\right),\n",
    "\\quad\\text{avec}\\quad \\left\\{\\begin{array}{lcl}f_{\\text{b}_1}&=& 250,\\,\\text{Hz}\\\\&&\\\\ f_{\\text{b}_2}&=& 350\\,\\text{Hz}.\\end{array}\\right.\n",
    "$$\n",
    "\n",
    "Nous le rajouterons par la suite au signal d'origine $x(t)$ comme suit :\n",
    "\n",
    "$$\n",
    "x_\\text{b} \\;=\\; x(t) + b(t)\n",
    "$$"
   ]
  },
  {
   "cell_type": "code",
   "execution_count": null,
   "metadata": {},
   "outputs": [],
   "source": [
    "bruit = -0.4 * np.sin(500 * np.pi * t) + 0.6 * np.sin(700 * np.pi * t) # Génération du bruit\n",
    "x_bruit = x + bruit\n",
    "plt.plot(t, x_bruit)\n",
    "plt.title(\"Signal bruité\")\n",
    "plt.grid(True)\n",
    "plt.xlabel(\"$t$ (sec)\")\n",
    "plt.xlim(0, 5)\n",
    "mikz.save(\"fct-sin-bruit.tex\")\n",
    "plt.show()"
   ]
  },
  {
   "cell_type": "markdown",
   "metadata": {},
   "source": [
    "Le filtre à appliquer s'agit d'un passe-bas de réponse impulsionnelle :\n",
    "\n",
    "$$\n",
    "h(t) \\;=\\; \\displaystyle\\frac{1}{\\tau}\\mathrm{e}^{-\\displaystyle\\frac{t}{\\tau}},\\quad\\text{avec}\\quad \\tau\\,=\\, 0.4\\,\\text{sec}.\n",
    "$$"
   ]
  },
  {
   "cell_type": "code",
   "execution_count": null,
   "metadata": {},
   "outputs": [],
   "source": [
    "t_filt = np.linspace(0, 5, 1000)\n",
    "filt = 2.5 * np.exp(-t/0.4)\n",
    "plt.plot(t, filt)\n",
    "plt.title(r\"$h(t) \\;=\\; \\frac{1}{\\tau}\\mathrm{e}^{-\\frac{t}{\\tau}}$\")\n",
    "plt.grid(True)\n",
    "plt.xlabel(\"$t$ (sec)\")\n",
    "plt.xlim(0, 5)\n",
    "mikz.save(\"filtre.tex\")\n",
    "plt.show()"
   ]
  },
  {
   "cell_type": "markdown",
   "metadata": {},
   "source": [
    "La sortie $\\tilde{x}$ du filtre est le résultat du produit de convolution suivant :\n",
    "\n",
    "$$\n",
    "\\tilde{x}(t) \\;=\\; \\displaystyle\\int_{0}^{t}h(t-\\varsigma)x(\\varsigma)d\\varsigma\n",
    "$$"
   ]
  },
  {
   "cell_type": "code",
   "execution_count": null,
   "metadata": {},
   "outputs": [],
   "source": [
    "x_filt = np.convolve(x_bruit, filt, 'same')\n",
    "n, = x_filt.shape\n",
    "plt.plot(t, x_filt)\n",
    "plt.title(\"Signal filtré\")\n",
    "plt.grid(True)\n",
    "plt.xlabel(\"$t$ (sec)\")\n",
    "plt.xlim(0, 5)\n",
    "mikz.save(\"filt-sin.tex\")\n",
    "plt.show()"
   ]
  }
 ],
 "metadata": {
  "kernelspec": {
   "display_name": "Python 3",
   "language": "python",
   "name": "python3"
  },
  "language_info": {
   "codemirror_mode": {
    "name": "ipython",
    "version": 3
   },
   "file_extension": ".py",
   "mimetype": "text/x-python",
   "name": "python",
   "nbconvert_exporter": "python",
   "pygments_lexer": "ipython3",
   "version": "3.8.5"
  }
 },
 "nbformat": 4,
 "nbformat_minor": 4
}
