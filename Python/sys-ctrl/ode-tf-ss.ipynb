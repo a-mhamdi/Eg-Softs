{
 "cells": [
  {
   "cell_type": "markdown",
   "metadata": {},
   "source": [
    "# CASE OF FIRST ORDER PLANT"
   ]
  },
  {
   "cell_type": "markdown",
   "metadata": {},
   "source": [
    "$$\\tau\\dfrac{dy}{dt}+y(t) \\;=\\; k\\times u(t),\\qquad\\text{where: y(t=0) = 0}$$"
   ]
  },
  {
   "cell_type": "code",
   "execution_count": 1,
   "metadata": {},
   "outputs": [],
   "source": [
    "import numpy as np\n",
    "import matplotlib.pyplot as plt\n",
    "\n",
    "from scipy.signal import step"
   ]
  },
  {
   "cell_type": "code",
   "execution_count": 2,
   "metadata": {},
   "outputs": [],
   "source": [
    "                  #########################\n",
    "k, tau = 2.0, 0.5 # SIMULATION'S SETTINGS #\n",
    "                  #########################"
   ]
  },
  {
   "cell_type": "markdown",
   "metadata": {},
   "source": [
    "**Numeric Integration: ODE**"
   ]
  },
  {
   "cell_type": "code",
   "execution_count": 3,
   "metadata": {},
   "outputs": [],
   "source": [
    "# 0.5*dy/dt + y(t) = 2*u(t),\ty(t=0) = 0\n",
    "def mySys(x, t):\n",
    "\tu = 1\n",
    "\treturn 1/0.5*(-x + 2*u)"
   ]
  },
  {
   "cell_type": "code",
   "execution_count": 4,
   "metadata": {},
   "outputs": [],
   "source": [
    "from scipy.integrate import odeint"
   ]
  },
  {
   "cell_type": "code",
   "execution_count": 5,
   "metadata": {},
   "outputs": [],
   "source": [
    "tspan = np.linspace(0.0, 7.0, 100)\n",
    "y1 = odeint(mySys, 0, tspan)"
   ]
  },
  {
   "cell_type": "markdown",
   "metadata": {},
   "source": [
    "**Transfer Function**"
   ]
  },
  {
   "cell_type": "code",
   "execution_count": 6,
   "metadata": {},
   "outputs": [],
   "source": [
    "from scipy.signal import TransferFunction as tf"
   ]
  },
  {
   "cell_type": "code",
   "execution_count": 7,
   "metadata": {},
   "outputs": [],
   "source": [
    "# 0.5*dy/dt + y(t) = 2*u(t),\ty(t=0) = 0\n",
    "hTF = tf([k], [tau, 1])\n",
    "_, y2 = step(hTF, T=tspan)"
   ]
  },
  {
   "cell_type": "markdown",
   "metadata": {},
   "source": [
    "**State Space**"
   ]
  },
  {
   "cell_type": "code",
   "execution_count": 8,
   "metadata": {},
   "outputs": [],
   "source": [
    "from scipy.signal import StateSpace as ss"
   ]
  },
  {
   "cell_type": "code",
   "execution_count": 9,
   "metadata": {},
   "outputs": [],
   "source": [
    "# 0.5*dy/dt + y(t) = 2*u(t),\ty(t=0) = 0\n",
    "A, B, C, D = -1/tau, k/tau, 1, 0\n",
    "hSS = ss(A, B, C, D)\n",
    "_, y3 = step(hSS, T=tspan)"
   ]
  },
  {
   "cell_type": "code",
   "execution_count": 10,
   "metadata": {},
   "outputs": [
    {
     "data": {
      "image/png": "[encoded data removed]",
      "text/plain": [
       "<Figure size 432x288 with 1 Axes>"
      ]
     },
     "metadata": {
      "needs_background": "light"
     },
     "output_type": "display_data"
    }
   ],
   "source": [
    "plt.plot(tspan, y1, 'r--', linewidth=2, label='ODE')\n",
    "plt.plot(tspan, y2, 'g--', linewidth=2, label='TF')\n",
    "plt.plot(tspan, y3, 'b--', linewidth=2, label='SS')\n",
    "\n",
    "plt.title('Step response of 1st order LTI plant')\n",
    "plt.xlabel('t (sec)')\n",
    "plt.ylabel('y(t)')\n",
    "plt.grid()\n",
    "plt.legend(loc='best')\n",
    "plt.show()"
   ]
  },
  {
   "cell_type": "markdown",
   "metadata": {},
   "source": [
    "# CASE OF SECOND ORDER PLANT"
   ]
  },
  {
   "cell_type": "markdown",
   "metadata": {},
   "source": [
    "$$\\dfrac{d^2y}{dt^2}+2\\times m\\times \\omega_0\\dfrac{dy}{dt}+\\omega_{0}^{2} y(t) \\;=\\; k\\omega_{0}^{2} u(t),\\qquad\\text{where: }y(0)=0 \\;\\&\\; \\dot{y}(0)=0$$"
   ]
  },
  {
   "cell_type": "code",
   "execution_count": 11,
   "metadata": {},
   "outputs": [],
   "source": [
    "                    #########################\n",
    "k, m, o = 1, 1, 1.5 # SIMULATION'S SETTINGS #\n",
    "                    #########################"
   ]
  },
  {
   "cell_type": "code",
   "execution_count": 12,
   "metadata": {},
   "outputs": [],
   "source": [
    "import numpy as np\n",
    "import matplotlib.pyplot as plt\n",
    "\n",
    "from scipy.signal import step"
   ]
  },
  {
   "cell_type": "markdown",
   "metadata": {},
   "source": [
    "**Numeric Integration: ODE**"
   ]
  },
  {
   "cell_type": "code",
   "execution_count": 13,
   "metadata": {},
   "outputs": [],
   "source": [
    "def mySys(x, t):\n",
    "\tu = 1\n",
    "\tdotx = [x[1], -o**2*x[0]-2*m*o*x[1] + k*o**2*u]\n",
    "\treturn dotx"
   ]
  },
  {
   "cell_type": "code",
   "execution_count": 14,
   "metadata": {},
   "outputs": [],
   "source": [
    "from scipy.integrate import odeint"
   ]
  },
  {
   "cell_type": "code",
   "execution_count": 15,
   "metadata": {},
   "outputs": [],
   "source": [
    "tspan = np.linspace(0.0, 10.0, 100)\n",
    "vect = odeint(mySys, [0, 0], tspan)\n",
    "y1 = vect[:, 0]"
   ]
  },
  {
   "cell_type": "markdown",
   "metadata": {},
   "source": [
    "**Transfer Function**"
   ]
  },
  {
   "cell_type": "code",
   "execution_count": 16,
   "metadata": {},
   "outputs": [],
   "source": [
    "from scipy.signal import TransferFunction as tf"
   ]
  },
  {
   "cell_type": "code",
   "execution_count": 17,
   "metadata": {},
   "outputs": [],
   "source": [
    "hTF = tf([k*o**2], [1, 2*m*o, o**2])\n",
    "_, y2 = step(hTF, T=tspan)"
   ]
  },
  {
   "cell_type": "markdown",
   "metadata": {},
   "source": [
    "**State Space**"
   ]
  },
  {
   "cell_type": "code",
   "execution_count": 18,
   "metadata": {},
   "outputs": [],
   "source": [
    "from scipy.signal import StateSpace as ss"
   ]
  },
  {
   "cell_type": "code",
   "execution_count": 19,
   "metadata": {},
   "outputs": [],
   "source": [
    "A = np.array([[0, 1], [-o**2, -2*m*o]])\n",
    "B = np.array([[0], [k*o**2]])\n",
    "C = np.array([[1, 0]])\n",
    "D = np.array([[0]])\n",
    "\n",
    "hSS = ss(A, B, C, D)\n",
    "_, y3 = step(hSS, T=tspan)"
   ]
  },
  {
   "cell_type": "code",
   "execution_count": 20,
   "metadata": {},
   "outputs": [
    {
     "data": {
      "image/png": "[encoded data removed]",
      "text/plain": [
       "<Figure size 432x288 with 1 Axes>"
      ]
     },
     "metadata": {
      "needs_background": "light"
     },
     "output_type": "display_data"
    }
   ],
   "source": [
    "plt.plot(tspan, y1, 'r--', linewidth=2, label='ODE')\n",
    "plt.plot(tspan, y2, 'g--', linewidth=2, label='TF')\n",
    "plt.plot(tspan, y3, 'b--', linewidth=2, label='SS')\n",
    "\n",
    "plt.title('Step response of 2nd order LTI plant')\n",
    "plt.xlabel('t (sec)')\n",
    "plt.ylabel('y(t)')\n",
    "plt.grid()\n",
    "plt.legend(loc='best')\n",
    "plt.show()"
   ]
  }
 ],
 "metadata": {
  "interpreter": {
   "hash": "31f2aee4e71d21fbe5cf8b01ff0e069b9275f58929596ceb00d14d90e3e16cd6"
  },
  "kernelspec": {
   "display_name": "Python 3.8.10 64-bit",
   "language": "python",
   "name": "python3"
  },
  "language_info": {
   "codemirror_mode": {
    "name": "ipython",
    "version": 3
   },
   "file_extension": ".py",
   "mimetype": "text/x-python",
   "name": "python",
   "nbconvert_exporter": "python",
   "pygments_lexer": "ipython3",
   "version": "3.8.10"
  },
  "orig_nbformat": 4
 },
 "nbformat": 4,
 "nbformat_minor": 2
}
