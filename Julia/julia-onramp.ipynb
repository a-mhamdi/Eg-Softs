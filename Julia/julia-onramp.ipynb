{
 "cells": [
  {
   "cell_type": "markdown",
   "metadata": {},
   "source": [
    "# Artificial Intelligence\n",
    "## Lab. \\#1: ${\\tt Julia}$ Onramp\n",
    "### Slides are available @ [https://www.github.com/a-mhamdi/isetbz](https://www.github.com/a-mhamdi/isetbz)\n",
    "\n",
    "---"
   ]
  },
  {
   "cell_type": "markdown",
   "metadata": {},
   "source": [
    "### GOALS\n",
    "- Enter commands in ${\\tt Julia}$ REPL to create variables and perform calculations;\n",
    "- Write and save programs;\n",
    "- Use indexing to extract and modify rows, columns, and elements of ${\\tt Julia}$ tensors."
   ]
  },
  {
   "cell_type": "markdown",
   "metadata": {},
   "source": [
    "${\\tt Julia}$ is a standalone program which can be downloaded from [https://julialang.org/downloads/](https://julialang.org/downloads/)"
   ]
  },
  {
   "cell_type": "markdown",
   "metadata": {},
   "source": [
    "We begin first by activating the environement within the desired folder."
   ]
  },
  {
   "cell_type": "markdown",
   "metadata": {},
   "source": [
    "From the REPL interface, either type\n",
    ">using Pkg  \n",
    "pkg\"activate .\"\n",
    "\n",
    "or access the package mode by typing `]` and simply write\n",
    ">activate .\n",
    "\n",
    "Always within the package mode, to see the full list of installed packages\n",
    ">st"
   ]
  },
  {
   "cell_type": "code",
   "execution_count": 1,
   "metadata": {},
   "outputs": [
    {
     "name": "stderr",
     "output_type": "stream",
     "text": [
      "\u001b[32m\u001b[1m  Activating\u001b[22m\u001b[39m project at `~/MEGA/git-repos/cosnip/Julia`\n"
     ]
    }
   ],
   "source": [
    "using Pkg\n",
    "pkg\"activate .\""
   ]
  },
  {
   "cell_type": "code",
   "execution_count": 2,
   "metadata": {},
   "outputs": [
    {
     "name": "stdout",
     "output_type": "stream",
     "text": [
      "\u001b[32m\u001b[1mStatus\u001b[22m\u001b[39m `~/MEGA/git-repos/cosnip/Julia/Project.toml`\n",
      " \u001b[90m [91a5bcdd] \u001b[39mPlots v1.38.2\n",
      " \u001b[90m [d6f4376e] \u001b[39mMarkdown\n"
     ]
    }
   ],
   "source": [
    "]st"
   ]
  },
  {
   "cell_type": "markdown",
   "metadata": {},
   "source": [
    "To add the **Markdown** package for instance, we write"
   ]
  },
  {
   "cell_type": "code",
   "execution_count": 3,
   "metadata": {},
   "outputs": [
    {
     "name": "stderr",
     "output_type": "stream",
     "text": [
      "\u001b[32m\u001b[1m    Updating\u001b[22m\u001b[39m registry at `~/.julia/registries/General.toml`\n",
      "\u001b[32m\u001b[1m   Resolving\u001b[22m\u001b[39m package versions...\n",
      "\u001b[32m\u001b[1m  No Changes\u001b[22m\u001b[39m to `~/MEGA/git-repos/cosnip/Julia/Project.toml`\n",
      "\u001b[32m\u001b[1m  No Changes\u001b[22m\u001b[39m to `~/MEGA/git-repos/cosnip/Julia/Manifest.toml`\n"
     ]
    }
   ],
   "source": [
    "]add Markdown"
   ]
  },
  {
   "cell_type": "markdown",
   "metadata": {},
   "source": [
    "To be able to use it, we do as follows"
   ]
  },
  {
   "cell_type": "code",
   "execution_count": 4,
   "metadata": {},
   "outputs": [],
   "source": [
    "using Markdown"
   ]
  },
  {
   "cell_type": "code",
   "execution_count": 5,
   "metadata": {},
   "outputs": [
    {
     "data": {
      "text/latex": [
       "This a text inside a code cell, thanks to \\textbf{Markdown} package. I can \\emph{emphasize} anything. Make other things \\textbf{bold}\n",
       "\n"
      ],
      "text/markdown": [
       "This a text inside a code cell, thanks to **Markdown** package. I can *emphasize* anything. Make other things **bold**\n"
      ],
      "text/plain": [
       "  This a text inside a code cell, thanks to \u001b[1mMarkdown\u001b[22m package. I can \u001b[4memphasize\u001b[24m\n",
       "  anything. Make other things \u001b[1mbold\u001b[22m"
      ]
     },
     "execution_count": 5,
     "metadata": {},
     "output_type": "execute_result"
    }
   ],
   "source": [
    "md\"\"\"\n",
    "This a text inside a code cell, thanks to **Markdown** package. I can _emphasize_ anything. Make other things **bold**\n",
    "\"\"\""
   ]
  },
  {
   "cell_type": "markdown",
   "metadata": {},
   "source": [
    "Runnig ${\\tt Julia}$ in Jupyer Notebookor Jupyter Lab is pretty handy. We only need to install the appropriate kernel. In order to add ${\\tt Julia}$ kernel `IJulia` to Jupyter Notebook and/or JupyterLab IDEs, we begin by executing the following commands:\n",
    ">using Pkg  \n",
    "Pkg.add(\"IJulia\")"
   ]
  },
  {
   "cell_type": "markdown",
   "metadata": {},
   "source": [
    "In case things do not work, we run the two following commands from ${\\tt Julia}$ REPL which launch jupyter environment.\n",
    ">using IJulia  \n",
    "installkernel(\"Julia\")"
   ]
  },
  {
   "cell_type": "markdown",
   "metadata": {},
   "source": [
    "The shell mode is also available through the REPL to evaluate some os commands. To do so, simply preface the regular command by semicolon. For instance, `pwd` prints the path to working directory and `ls` allows to list the content of the current directory."
   ]
  },
  {
   "cell_type": "code",
   "execution_count": 6,
   "metadata": {},
   "outputs": [
    {
     "name": "stdout",
     "output_type": "stream",
     "text": [
      "/home/mhamdi/MEGA/git-repos/cosnip/Julia\n"
     ]
    }
   ],
   "source": [
    ";pwd"
   ]
  },
  {
   "cell_type": "code",
   "execution_count": 7,
   "metadata": {},
   "outputs": [
    {
     "name": "stdout",
     "output_type": "stream",
     "text": [
      "total 392\n",
      "drwxrwxr-x  8 mhamdi mhamdi   4096 Jan 12 23:08 .\n",
      "drwxr-xr-x 13 mhamdi mhamdi   4096 Dec 22 01:47 ..\n",
      "drwxrwxr-x  2 mhamdi mhamdi   4096 Dec 29 14:58 fuzzy\n",
      "-rw-rw-r--  1 mhamdi mhamdi    213 Apr  3  2022 gtk_julia.jl\n",
      "drwxrwxr-x  2 mhamdi mhamdi   4096 Jan 12 21:58 .ipynb_checkpoints\n",
      "-rw-rw-r--  1 mhamdi mhamdi 280252 Jan 12 23:08 julia-onramp.ipynb\n",
      "-rw-rw-r--  1 mhamdi mhamdi  34286 Feb 15  2022 Julia.png\n",
      "-rw-rw-r--  1 mhamdi mhamdi  31708 Jan 12 22:50 Manifest.toml\n",
      "drwxrwxr-x  3 mhamdi mhamdi   4096 Dec 29 15:03 ml\n",
      "drwxrwxr-x  3 mhamdi mhamdi   4096 Jan 12 21:54 nnet\n",
      "-rw-rw-r--  1 mhamdi mhamdi    104 Jan 12 22:50 Project.toml\n",
      "-rw-rw-r--  1 mhamdi mhamdi     60 Mar  3  2022 README.md\n",
      "drwxrwxr-x  2 mhamdi mhamdi   4096 Jan  2 18:41 sig-proc\n",
      "drwxrwxr-x  2 mhamdi mhamdi   4096 Oct 17 22:53 sys-ctrl\n",
      "-rw-------  1 mhamdi mhamdi     16 Jan 12 21:55 .wakatime-project\n"
     ]
    }
   ],
   "source": [
    ";ls -la"
   ]
  },
  {
   "cell_type": "markdown",
   "metadata": {},
   "source": [
    "### Getting Help\n",
    "In order to seek help on a particular function. We just use the `?` mark. We can use the ${\\tt Julia}$ documentation to discover more pieces of information about ${\\tt Julia}$ features."
   ]
  },
  {
   "cell_type": "code",
   "execution_count": 8,
   "metadata": {},
   "outputs": [
    {
     "name": "stdout",
     "output_type": "stream",
     "text": [
      "search: \u001b[0m\u001b[1mc\u001b[22m\u001b[0m\u001b[1mo\u001b[22m\u001b[0m\u001b[1ms\u001b[22m \u001b[0m\u001b[1mc\u001b[22m\u001b[0m\u001b[1mo\u001b[22m\u001b[0m\u001b[1ms\u001b[22mh \u001b[0m\u001b[1mc\u001b[22m\u001b[0m\u001b[1mo\u001b[22m\u001b[0m\u001b[1ms\u001b[22md \u001b[0m\u001b[1mc\u001b[22m\u001b[0m\u001b[1mo\u001b[22m\u001b[0m\u001b[1ms\u001b[22mc \u001b[0m\u001b[1mc\u001b[22m\u001b[0m\u001b[1mo\u001b[22m\u001b[0m\u001b[1ms\u001b[22mpi a\u001b[0m\u001b[1mc\u001b[22m\u001b[0m\u001b[1mo\u001b[22m\u001b[0m\u001b[1ms\u001b[22m a\u001b[0m\u001b[1mc\u001b[22m\u001b[0m\u001b[1mo\u001b[22m\u001b[0m\u001b[1ms\u001b[22mh a\u001b[0m\u001b[1mc\u001b[22m\u001b[0m\u001b[1mo\u001b[22m\u001b[0m\u001b[1ms\u001b[22md sin\u001b[0m\u001b[1mc\u001b[22m\u001b[0m\u001b[1mo\u001b[22m\u001b[0m\u001b[1ms\u001b[22m sin\u001b[0m\u001b[1mc\u001b[22m\u001b[0m\u001b[1mo\u001b[22m\u001b[0m\u001b[1ms\u001b[22md sin\u001b[0m\u001b[1mc\u001b[22m\u001b[0m\u001b[1mo\u001b[22m\u001b[0m\u001b[1ms\u001b[22mpi \u001b[0m\u001b[1mc\u001b[22m\u001b[0m\u001b[1mo\u001b[22mn\u001b[0m\u001b[1ms\u001b[22mt\n",
      "\n"
     ]
    },
    {
     "data": {
      "text/latex": [
       "\\begin{verbatim}\n",
       "cos(x)\n",
       "\\end{verbatim}\n",
       "Compute cosine of \\texttt{x}, where \\texttt{x} is in radians.\n",
       "\n",
       "See also [\\texttt{cosd}], [\\texttt{cospi}], [\\texttt{sincos}], [\\texttt{cis}].\n",
       "\n",
       "\\rule{\\textwidth}{1pt}\n",
       "\\begin{verbatim}\n",
       "cos(A::AbstractMatrix)\n",
       "\\end{verbatim}\n",
       "Compute the matrix cosine of a square matrix \\texttt{A}.\n",
       "\n",
       "If \\texttt{A} is symmetric or Hermitian, its eigendecomposition (\\href{@ref}{\\texttt{eigen}}) is used to compute the cosine. Otherwise, the cosine is determined by calling \\href{@ref}{\\texttt{exp}}.\n",
       "\n",
       "\\section{Examples}\n",
       "\\begin{verbatim}\n",
       "julia> cos(fill(1.0, (2,2)))\n",
       "2×2 Matrix{Float64}:\n",
       "  0.291927  -0.708073\n",
       " -0.708073   0.291927\n",
       "\\end{verbatim}\n"
      ],
      "text/markdown": [
       "```\n",
       "cos(x)\n",
       "```\n",
       "\n",
       "Compute cosine of `x`, where `x` is in radians.\n",
       "\n",
       "See also [`cosd`], [`cospi`], [`sincos`], [`cis`].\n",
       "\n",
       "---\n",
       "\n",
       "```\n",
       "cos(A::AbstractMatrix)\n",
       "```\n",
       "\n",
       "Compute the matrix cosine of a square matrix `A`.\n",
       "\n",
       "If `A` is symmetric or Hermitian, its eigendecomposition ([`eigen`](@ref)) is used to compute the cosine. Otherwise, the cosine is determined by calling [`exp`](@ref).\n",
       "\n",
       "# Examples\n",
       "\n",
       "```jldoctest\n",
       "julia> cos(fill(1.0, (2,2)))\n",
       "2×2 Matrix{Float64}:\n",
       "  0.291927  -0.708073\n",
       " -0.708073   0.291927\n",
       "```\n"
      ],
      "text/plain": [
       "  \u001b[38;2;102;217;239mcos\u001b[0m(\u001b[0m\u001b[39mx\u001b[0m\u001b[39m)\u001b[0m\u001b[39m\u001b[0m\n",
       "\n",
       "\n",
       "  Compute cosine of \u001b[36mx\u001b[39m, where \u001b[36mx\u001b[39m is in radians.\n",
       "\n",
       "  See also [\u001b[36mcosd\u001b[39m], [\u001b[36mcospi\u001b[39m], [\u001b[36msincos\u001b[39m], [\u001b[36mcis\u001b[39m].\n",
       "\n",
       "  ────────────────────────────────────────────────────────────────────────────\n",
       "\n",
       "  \u001b[38;2;102;217;239mcos\u001b[0m(\u001b[0m\u001b[39mA\u001b[0m\u001b[38;2;102;217;239m::\u001b[0m\u001b[38;2;102;217;239mAbstractMatrix\u001b[0m\u001b[39m)\u001b[0m\u001b[39m\u001b[0m\n",
       "\n",
       "\n",
       "  Compute the matrix cosine of a square matrix \u001b[36mA\u001b[39m.\n",
       "\n",
       "  If \u001b[36mA\u001b[39m is symmetric or Hermitian, its eigendecomposition (\u001b[36meigen\u001b[39m) is used to\n",
       "  compute the cosine. Otherwise, the cosine is determined by calling \u001b[36mexp\u001b[39m.\n",
       "\n",
       "\u001b[1m  Examples\u001b[22m\n",
       "\u001b[1m  ≡≡≡≡≡≡≡≡≡≡\u001b[22m\n",
       "\n",
       "  \u001b[31;1mjulia> \u001b[0m\u001b[38;2;102;217;239mcos\u001b[0m(\u001b[0m\u001b[38;2;102;217;239mfill\u001b[0m(\u001b[0m\u001b[38;2;174;129;255m1.0\u001b[0m\u001b[39m,\u001b[0m \u001b[0m(\u001b[0m\u001b[38;2;174;129;255m2\u001b[0m\u001b[39m,\u001b[0m\u001b[38;2;174;129;255m2\u001b[0m\u001b[39m)\u001b[0m\u001b[39m)\u001b[0m\u001b[39m)\u001b[0m\n",
       "  \u001b[0m\u001b[39m\u001b[0m2×2 Matrix{Float64}:\n",
       "    0.291927  -0.708073\n",
       "   -0.708073   0.291927\n"
      ]
     },
     "execution_count": 8,
     "metadata": {},
     "output_type": "execute_result"
    }
   ],
   "source": [
    "?cos"
   ]
  },
  {
   "cell_type": "markdown",
   "metadata": {},
   "source": [
    "To print something on the standard output, it is possible to use either `print` and `println`. The last one displays the text and moves the cursor to the next line."
   ]
  },
  {
   "cell_type": "code",
   "execution_count": 9,
   "metadata": {},
   "outputs": [
    {
     "name": "stdout",
     "output_type": "stream",
     "text": [
      "Hello World"
     ]
    }
   ],
   "source": [
    "print(\"Hello\")\n",
    "print(' ')\n",
    "print(\"World\")"
   ]
  },
  {
   "cell_type": "code",
   "execution_count": 10,
   "metadata": {},
   "outputs": [
    {
     "name": "stdout",
     "output_type": "stream",
     "text": [
      "Hello\n",
      "World\n"
     ]
    }
   ],
   "source": [
    "println(\"Hello\")\n",
    "println(\"World\")"
   ]
  },
  {
   "cell_type": "markdown",
   "metadata": {},
   "source": [
    "### Basic Calculations"
   ]
  },
  {
   "cell_type": "code",
   "execution_count": 11,
   "metadata": {},
   "outputs": [
    {
     "data": {
      "text/plain": [
       "(1, 1.5)"
      ]
     },
     "execution_count": 11,
     "metadata": {},
     "output_type": "execute_result"
    }
   ],
   "source": [
    "a, b = 1, 1.5"
   ]
  },
  {
   "cell_type": "code",
   "execution_count": 12,
   "metadata": {},
   "outputs": [
    {
     "name": "stdout",
     "output_type": "stream",
     "text": [
      "Int64\n",
      "Float64\n"
     ]
    }
   ],
   "source": [
    "println(typeof(a))\n",
    "println(typeof(b))"
   ]
  },
  {
   "cell_type": "code",
   "execution_count": 13,
   "metadata": {},
   "outputs": [
    {
     "data": {
      "text/latex": [
       "\\texttt{varinfo} method allows to display loaded variables.\n",
       "\n"
      ],
      "text/markdown": [
       "`varinfo` method allows to display loaded variables.\n"
      ],
      "text/plain": [
       "  \u001b[36mvarinfo\u001b[39m method allows to display loaded variables."
      ]
     },
     "execution_count": 13,
     "metadata": {},
     "output_type": "execute_result"
    }
   ],
   "source": [
    "md\"\"\"\n",
    "`varinfo` method allows to display loaded variables.\n",
    "\"\"\""
   ]
  },
  {
   "cell_type": "code",
   "execution_count": 14,
   "metadata": {},
   "outputs": [
    {
     "data": {
      "text/latex": [
       "\\begin{tabular}\n",
       "{l | r | l}\n",
       "name & size & summary \\\\\n",
       "\\hline\n",
       "Base &  & Module \\\\\n",
       "Core &  & Module \\\\\n",
       "Main &  & Module \\\\\n",
       "PLOTS\\_DEFAULTS & 456 bytes & Dict\\{Symbol, Symbol\\} with 1 entry \\\\\n",
       "a & 8 bytes & Int64 \\\\\n",
       "b & 8 bytes & Float64 \\\\\n",
       "showall & 0 bytes & showall (generic function with 1 method) \\\\\n",
       "\\end{tabular}\n"
      ],
      "text/markdown": [
       "| name           |      size | summary                                  |\n",
       "|:-------------- | ---------:|:---------------------------------------- |\n",
       "| Base           |           | Module                                   |\n",
       "| Core           |           | Module                                   |\n",
       "| Main           |           | Module                                   |\n",
       "| PLOTS_DEFAULTS | 456 bytes | Dict{Symbol, Symbol} with 1 entry        |\n",
       "| a              |   8 bytes | Int64                                    |\n",
       "| b              |   8 bytes | Float64                                  |\n",
       "| showall        |   0 bytes | showall (generic function with 1 method) |\n"
      ],
      "text/plain": [
       "  name                size summary                                 \n",
       "  –––––––––––––– ––––––––– ––––––––––––––––––––––––––––––––––––––––\n",
       "  Base                     Module                                  \n",
       "  Core                     Module                                  \n",
       "  Main                     Module                                  \n",
       "  PLOTS_DEFAULTS 456 bytes Dict{Symbol, Symbol} with 1 entry       \n",
       "  a                8 bytes Int64                                   \n",
       "  b                8 bytes Float64                                 \n",
       "  showall          0 bytes showall (generic function with 1 method)"
      ]
     },
     "execution_count": 14,
     "metadata": {},
     "output_type": "execute_result"
    }
   ],
   "source": [
    "varinfo()"
   ]
  },
  {
   "cell_type": "code",
   "execution_count": 15,
   "metadata": {},
   "outputs": [
    {
     "name": "stdout",
     "output_type": "stream",
     "text": [
      "search: \u001b[0m\u001b[1mv\u001b[22m\u001b[0m\u001b[1ma\u001b[22m\u001b[0m\u001b[1mr\u001b[22m\u001b[0m\u001b[1mi\u001b[22m\u001b[0m\u001b[1mn\u001b[22m\u001b[0m\u001b[1mf\u001b[22m\u001b[0m\u001b[1mo\u001b[22m\n",
      "\n"
     ]
    },
    {
     "data": {
      "text/latex": [
       "\\begin{verbatim}\n",
       "varinfo(m::Module=Main, pattern::Regex=r\"\"; all::Bool = false, imported::Bool = false, sortby::Symbol = :name, minsize::Int = 0)\n",
       "\\end{verbatim}\n",
       "Return a markdown table giving information about exported global variables in a module, optionally restricted to those matching \\texttt{pattern}.\n",
       "\n",
       "The memory consumption estimate is an approximate lower bound on the size of the internal structure of the object.\n",
       "\n",
       "\\begin{itemize}\n",
       "\\item \\texttt{all} : also list non-exported objects defined in the module, deprecated objects, and compiler-generated objects.\n",
       "\n",
       "\n",
       "\\item \\texttt{imported} : also list objects explicitly imported from other modules.\n",
       "\n",
       "\n",
       "\\item \\texttt{recursive} : recursively include objects in sub-modules, observing the same settings in each.\n",
       "\n",
       "\n",
       "\\item \\texttt{sortby} : the column to sort results by. Options are \\texttt{:name} (default), \\texttt{:size}, and \\texttt{:summary}.\n",
       "\n",
       "\n",
       "\\item \\texttt{minsize} : only includes objects with size at least \\texttt{minsize} bytes. Defaults to \\texttt{0}.\n",
       "\n",
       "\\end{itemize}\n"
      ],
      "text/markdown": [
       "```\n",
       "varinfo(m::Module=Main, pattern::Regex=r\"\"; all::Bool = false, imported::Bool = false, sortby::Symbol = :name, minsize::Int = 0)\n",
       "```\n",
       "\n",
       "Return a markdown table giving information about exported global variables in a module, optionally restricted to those matching `pattern`.\n",
       "\n",
       "The memory consumption estimate is an approximate lower bound on the size of the internal structure of the object.\n",
       "\n",
       "  * `all` : also list non-exported objects defined in the module, deprecated objects, and compiler-generated objects.\n",
       "  * `imported` : also list objects explicitly imported from other modules.\n",
       "  * `recursive` : recursively include objects in sub-modules, observing the same settings in each.\n",
       "  * `sortby` : the column to sort results by. Options are `:name` (default), `:size`, and `:summary`.\n",
       "  * `minsize` : only includes objects with size at least `minsize` bytes. Defaults to `0`.\n"
      ],
      "text/plain": [
       "  \u001b[38;2;102;217;239mvarinfo\u001b[0m(\u001b[0m\u001b[39mm\u001b[0m\u001b[38;2;102;217;239m::\u001b[0m\u001b[38;2;102;217;239mModule\u001b[0m\u001b[38;2;249;38;114m=\u001b[0m\u001b[39mMain\u001b[0m\u001b[39m,\u001b[0m \u001b[0m\u001b[39mpattern\u001b[0m\u001b[38;2;102;217;239m::\u001b[0m\u001b[38;2;102;217;239mRegex\u001b[0m\u001b[38;2;249;38;114m=\u001b[0m\u001b[39mr\u001b[0m\u001b[38;2;230;219;116m\"\"\u001b[0m\u001b[39m;\u001b[0m \u001b[0m\u001b[39mall\u001b[0m\u001b[38;2;102;217;239m::\u001b[0m\u001b[38;2;102;217;239mBool\u001b[0m \u001b[0m\u001b[38;2;249;38;114m=\u001b[0m \u001b[0m\u001b[38;2;249;38;114mfalse\u001b[0m\u001b[39m,\u001b[0m \u001b[0m\u001b[39mimported\u001b[0m\u001b[38;2;102;217;239m::\u001b[0m\u001b[38;2;102;217;239mBool\u001b[0m \u001b[0m\u001b[38;2;249;38;114m=\u001b[0m \u001b[0m\u001b[38;2;249;38;114mfalse\u001b[0m\u001b[39m,\u001b[0m \u001b[0m\u001b[39msortby\u001b[0m\u001b[38;2;102;217;239m::\u001b[0m\u001b[38;2;102;217;239mSymbol\u001b[0m \u001b[0m\u001b[38;2;249;38;114m=\u001b[0m \u001b[0m\u001b[38;2;174;129;255m:\u001b[0m\u001b[38;2;174;129;255mname\u001b[0m\u001b[39m,\u001b[0m \u001b[0m\u001b[39mminsize\u001b[0m\u001b[38;2;102;217;239m::\u001b[0m\u001b[38;2;102;217;239mInt\u001b[0m \u001b[0m\u001b[38;2;249;38;114m=\u001b[0m \u001b[0m\u001b[38;2;174;129;255m0\u001b[0m\u001b[39m)\u001b[0m\u001b[39m\u001b[0m\n",
       "\n",
       "\n",
       "  Return a markdown table giving information about exported global variables\n",
       "  in a module, optionally restricted to those matching \u001b[36mpattern\u001b[39m.\n",
       "\n",
       "  The memory consumption estimate is an approximate lower bound on the size of\n",
       "  the internal structure of the object.\n",
       "\n",
       "    •  \u001b[36mall\u001b[39m : also list non-exported objects defined in the module,\n",
       "       deprecated objects, and compiler-generated objects.\n",
       "\n",
       "    •  \u001b[36mimported\u001b[39m : also list objects explicitly imported from other\n",
       "       modules.\n",
       "\n",
       "    •  \u001b[36mrecursive\u001b[39m : recursively include objects in sub-modules, observing\n",
       "       the same settings in each.\n",
       "\n",
       "    •  \u001b[36msortby\u001b[39m : the column to sort results by. Options are \u001b[36m:name\u001b[39m\n",
       "       (default), \u001b[36m:size\u001b[39m, and \u001b[36m:summary\u001b[39m.\n",
       "\n",
       "    •  \u001b[36mminsize\u001b[39m : only includes objects with size at least \u001b[36mminsize\u001b[39m bytes.\n",
       "       Defaults to \u001b[36m0\u001b[39m."
      ]
     },
     "execution_count": 15,
     "metadata": {},
     "output_type": "execute_result"
    }
   ],
   "source": [
    "?varinfo"
   ]
  },
  {
   "cell_type": "code",
   "execution_count": 16,
   "metadata": {},
   "outputs": [
    {
     "name": "stdout",
     "output_type": "stream",
     "text": [
      "Sum of 1 and 1.5 is 2.5\n"
     ]
    }
   ],
   "source": [
    "println(\"Sum of $a and $b is $(a+b)\")"
   ]
  },
  {
   "cell_type": "markdown",
   "metadata": {},
   "source": [
    "Addition, subtraction, multiplication, division, exponent"
   ]
  },
  {
   "cell_type": "code",
   "execution_count": 17,
   "metadata": {},
   "outputs": [
    {
     "data": {
      "text/plain": [
       "(2.5, -0.5, 1.5, 0.0, 1.0)"
      ]
     },
     "execution_count": 17,
     "metadata": {},
     "output_type": "execute_result"
    }
   ],
   "source": [
    "a+b, a-b, a*b, a÷b, a^b"
   ]
  },
  {
   "cell_type": "code",
   "execution_count": 18,
   "metadata": {},
   "outputs": [
    {
     "data": {
      "text/latex": [
       "\\textbf{Unicode support} \n",
       "\n",
       "\\begin{itemize}\n",
       "\\item[1. ] We can use π instead of \\texttt{pi}\n",
       "\n",
       "\n",
       "\\item[2. ] Greek letters improe comprehension: α \\emph{(alpha)}, β \\emph{(beta)}, ...\n",
       "\n",
       "\n",
       "\\item[3. ] Symbols: ≥ \\emph{(>=)}, ≤ \\emph{(<=)}, ∈ \\emph{(in)}, ... \n",
       "\n",
       "\n",
       "\\item[4. ] ...\n",
       "\n",
       "\\end{itemize}\n"
      ],
      "text/markdown": [
       "**Unicode support** \n",
       "\n",
       "1. We can use π instead of `pi`\n",
       "2. Greek letters improe comprehension: α *(alpha)*, β *(beta)*, ...\n",
       "3. Symbols: ≥ *(>=)*, ≤ *(<=)*, ∈ *(in)*, ...\n",
       "4. ...\n"
      ],
      "text/plain": [
       "  \u001b[1mUnicode support\u001b[22m\n",
       "\n",
       "    1. We can use π instead of \u001b[36mpi\u001b[39m\n",
       "\n",
       "    2. Greek letters improe comprehension: α \u001b[4m(alpha)\u001b[24m, β \u001b[4m(beta)\u001b[24m, ...\n",
       "\n",
       "    3. Symbols: ≥ \u001b[4m(>=)\u001b[24m, ≤ \u001b[4m(<=)\u001b[24m, ∈ \u001b[4m(in)\u001b[24m, ...\n",
       "\n",
       "    4. ..."
      ]
     },
     "execution_count": 18,
     "metadata": {},
     "output_type": "execute_result"
    }
   ],
   "source": [
    "md\"\"\"\n",
    "**Unicode support** \n",
    "1. We can use π instead of `pi`\n",
    "1. Greek letters improe comprehension: α _(alpha)_, β _(beta)_, ...\n",
    "1. Symbols: ≥ _(>=)_, ≤ _(<=)_, ∈ _(in)_, ... \n",
    "1. ...\n",
    "\"\"\""
   ]
  },
  {
   "cell_type": "code",
   "execution_count": 19,
   "metadata": {},
   "outputs": [
    {
     "data": {
      "text/plain": [
       "true"
      ]
     },
     "execution_count": 19,
     "metadata": {},
     "output_type": "execute_result"
    }
   ],
   "source": [
    "3 ≤ π "
   ]
  },
  {
   "cell_type": "code",
   "execution_count": 20,
   "metadata": {},
   "outputs": [
    {
     "data": {
      "text/plain": [
       "Float64"
      ]
     },
     "execution_count": 20,
     "metadata": {},
     "output_type": "execute_result"
    }
   ],
   "source": [
    "typeof(3.14)"
   ]
  },
  {
   "cell_type": "code",
   "execution_count": 21,
   "metadata": {},
   "outputs": [
    {
     "data": {
      "text/plain": [
       "Any"
      ]
     },
     "execution_count": 21,
     "metadata": {},
     "output_type": "execute_result"
    }
   ],
   "source": [
    "Float64 |> supertype |> supertype |> supertype |> supertype "
   ]
  },
  {
   "cell_type": "code",
   "execution_count": 22,
   "metadata": {},
   "outputs": [
    {
     "data": {
      "text/plain": [
       "3-element Vector{Any}:\n",
       " Bool\n",
       " Signed\n",
       " Unsigned"
      ]
     },
     "execution_count": 22,
     "metadata": {},
     "output_type": "execute_result"
    }
   ],
   "source": [
    "Integer |> subtypes"
   ]
  },
  {
   "cell_type": "code",
   "execution_count": 23,
   "metadata": {},
   "outputs": [
    {
     "data": {
      "text/plain": [
       "6-element Vector{Any}:\n",
       " BigInt\n",
       " Int128\n",
       " Int16\n",
       " Int32\n",
       " Int64\n",
       " Int8"
      ]
     },
     "execution_count": 23,
     "metadata": {},
     "output_type": "execute_result"
    }
   ],
   "source": [
    "Signed |> subtypes"
   ]
  },
  {
   "cell_type": "code",
   "execution_count": 24,
   "metadata": {},
   "outputs": [
    {
     "ename": "LoadError",
     "evalue": "TypeError: in typeassert, expected Int8, got a value of type Int64",
     "output_type": "error",
     "traceback": [
      "TypeError: in typeassert, expected Int8, got a value of type Int64",
      "",
      "Stacktrace:",
      " [1] top-level scope",
      "   @ In[24]:1"
     ]
    }
   ],
   "source": [
    "typeassert(3, Int8)"
   ]
  },
  {
   "cell_type": "markdown",
   "metadata": {},
   "source": [
    "### Mathematical Notation\n",
    "#### Multiple Dispatch"
   ]
  },
  {
   "cell_type": "code",
   "execution_count": 25,
   "metadata": {},
   "outputs": [
    {
     "data": {
      "text/plain": [
       "f (generic function with 1 method)"
      ]
     },
     "execution_count": 25,
     "metadata": {},
     "output_type": "execute_result"
    }
   ],
   "source": [
    "function f(x::Int)\n",
    "    x^2\n",
    "end"
   ]
  },
  {
   "cell_type": "code",
   "execution_count": 26,
   "metadata": {},
   "outputs": [
    {
     "data": {
      "text/plain": [
       "f (generic function with 2 methods)"
      ]
     },
     "execution_count": 26,
     "metadata": {},
     "output_type": "execute_result"
    }
   ],
   "source": [
    "f(x::Float64) = x^2+1"
   ]
  },
  {
   "cell_type": "code",
   "execution_count": 27,
   "metadata": {},
   "outputs": [
    {
     "data": {
      "text/plain": [
       "f (generic function with 4 methods)"
      ]
     },
     "execution_count": 27,
     "metadata": {},
     "output_type": "execute_result"
    }
   ],
   "source": [
    "f(x::Char) = x*'y'*'z'\n",
    "f(x::String) = x*x "
   ]
  },
  {
   "cell_type": "code",
   "execution_count": 28,
   "metadata": {},
   "outputs": [
    {
     "data": {
      "text/html": [
       "# 4 methods for generic function <b>f</b>:<ul><li> f(x::<b>Int64</b>) in Main at In[25]:1</li> <li> f(x::<b>Float64</b>) in Main at In[26]:1</li> <li> f(x::<b>Char</b>) in Main at In[27]:1</li> <li> f(x::<b>String</b>) in Main at In[27]:2</li> </ul>"
      ],
      "text/plain": [
       "# 4 methods for generic function \"f\":\n",
       "[1] f(x::Int64) in Main at In[25]:1\n",
       "[2] f(x::Float64) in Main at In[26]:1\n",
       "[3] f(x::Char) in Main at In[27]:1\n",
       "[4] f(x::String) in Main at In[27]:2"
      ]
     },
     "execution_count": 28,
     "metadata": {},
     "output_type": "execute_result"
    }
   ],
   "source": [
    "methods(f)"
   ]
  },
  {
   "cell_type": "code",
   "execution_count": 29,
   "metadata": {},
   "outputs": [
    {
     "data": {
      "text/plain": [
       "(1, 2.0, \"xyz\", \"abcabc\")"
      ]
     },
     "execution_count": 29,
     "metadata": {},
     "output_type": "execute_result"
    }
   ],
   "source": [
    "f(1), f(1.), f('x'), f(\"abc\")"
   ]
  },
  {
   "cell_type": "markdown",
   "metadata": {},
   "source": [
    "**Function Chaining** applies a function to the preceding argument."
   ]
  },
  {
   "cell_type": "code",
   "execution_count": 30,
   "metadata": {},
   "outputs": [
    {
     "data": {
      "text/plain": [
       "9"
      ]
     },
     "execution_count": 30,
     "metadata": {},
     "output_type": "execute_result"
    }
   ],
   "source": [
    "g(x) = x+1\n",
    "h(x) = x^2\n",
    "x = 2 |> g |> h"
   ]
  },
  {
   "cell_type": "code",
   "execution_count": 31,
   "metadata": {},
   "outputs": [
    {
     "data": {
      "text/latex": [
       "Another pssible way is t use \\texttt{∘}\\emph{{\\textbackslash}circ\\{tab\\}} symbol\n",
       "\n"
      ],
      "text/markdown": [
       "Another pssible way is t use `∘`*\\circ{tab}* symbol\n"
      ],
      "text/plain": [
       "  Another pssible way is t use \u001b[36m∘\u001b[39m\u001b[4m\\circ{tab}\u001b[24m symbol"
      ]
     },
     "execution_count": 31,
     "metadata": {},
     "output_type": "execute_result"
    }
   ],
   "source": [
    "md\"Another pssible way is t use `∘`_\\circ{tab}_ symbol\""
   ]
  },
  {
   "cell_type": "code",
   "execution_count": 32,
   "metadata": {},
   "outputs": [
    {
     "data": {
      "text/plain": [
       "9"
      ]
     },
     "execution_count": 32,
     "metadata": {},
     "output_type": "execute_result"
    }
   ],
   "source": [
    "(h∘g)(2)"
   ]
  },
  {
   "cell_type": "markdown",
   "metadata": {},
   "source": [
    "Definition of a function can be done on the fly"
   ]
  },
  {
   "cell_type": "code",
   "execution_count": 33,
   "metadata": {},
   "outputs": [
    {
     "data": {
      "text/plain": [
       "5.0"
      ]
     },
     "execution_count": 33,
     "metadata": {},
     "output_type": "execute_result"
    }
   ],
   "source": [
    "y = 5 |> (x->x^2) |> √"
   ]
  },
  {
   "cell_type": "code",
   "execution_count": 34,
   "metadata": {},
   "outputs": [
    {
     "data": {
      "text/latex": [
       "Code is optimized by nature in ${\\tt Julia}$\n",
       "\n"
      ],
      "text/markdown": [
       "Code is optimized by nature in ${\\tt Julia}$\n"
      ],
      "text/plain": [
       "  Code is optimized by nature in \u001b[35m{\\tt Julia}\u001b[39m"
      ]
     },
     "execution_count": 34,
     "metadata": {},
     "output_type": "execute_result"
    }
   ],
   "source": [
    "md\"\"\"\n",
    "Code is optimized by nature in ${\\tt Julia}$\n",
    "\"\"\""
   ]
  },
  {
   "cell_type": "code",
   "execution_count": 35,
   "metadata": {},
   "outputs": [
    {
     "data": {
      "text/plain": [
       "Foo (generic function with 1 method)"
      ]
     },
     "execution_count": 35,
     "metadata": {},
     "output_type": "execute_result"
    }
   ],
   "source": [
    "function Foo(x::Integer)\n",
    "    y = x\n",
    "    for i=1:100\n",
    "        y += i^2\n",
    "    end\n",
    "    return y\n",
    "end"
   ]
  },
  {
   "cell_type": "code",
   "execution_count": 36,
   "metadata": {},
   "outputs": [
    {
     "name": "stdout",
     "output_type": "stream",
     "text": [
      "\u001b[90m;  @ In[35]:1 within `Foo`\u001b[39m\n",
      "\u001b[95mdefine\u001b[39m \u001b[36mi64\u001b[39m \u001b[93m@julia_Foo_4263\u001b[39m\u001b[33m(\u001b[39m\u001b[36mi64\u001b[39m \u001b[95msignext\u001b[39m \u001b[0m%0\u001b[33m)\u001b[39m \u001b[0m#0 \u001b[33m{\u001b[39m\n",
      "\u001b[91mtop:\u001b[39m\n",
      "\u001b[90m;  @ In[35]:3 within `Foo`\u001b[39m\n",
      "  \u001b[0m%1 \u001b[0m= \u001b[96m\u001b[1madd\u001b[22m\u001b[39m \u001b[36mi64\u001b[39m \u001b[0m%0\u001b[0m, \u001b[33m338350\u001b[39m\n",
      "\u001b[90m;  @ In[35]:6 within `Foo`\u001b[39m\n",
      "  \u001b[96m\u001b[1mret\u001b[22m\u001b[39m \u001b[36mi64\u001b[39m \u001b[0m%1\n",
      "\u001b[33m}\u001b[39m\n"
     ]
    }
   ],
   "source": [
    "@code_llvm Foo(3)"
   ]
  },
  {
   "cell_type": "code",
   "execution_count": 37,
   "metadata": {},
   "outputs": [
    {
     "data": {
      "text/latex": [
       "\\begin{verbatim}\n",
       "@code_llvm\n",
       "\\end{verbatim}\n",
       "Evaluates the arguments to the function or macro call, determines their types, and calls \\href{@ref}{\\texttt{code\\_llvm}} on the resulting expression. Set the optional keyword arguments \\texttt{raw}, \\texttt{dump\\_module}, \\texttt{debuginfo}, \\texttt{optimize} by putting them and their value before the function call, like this:\n",
       "\n",
       "\\begin{verbatim}\n",
       "@code_llvm raw=true dump_module=true debuginfo=:default f(x)\n",
       "@code_llvm optimize=false f(x)\n",
       "\\end{verbatim}\n",
       "\\texttt{optimize} controls whether additional optimizations, such as inlining, are also applied. \\texttt{raw} makes all metadata and dbg.* calls visible. \\texttt{debuginfo} may be one of \\texttt{:source} (default) or \\texttt{:none},  to specify the verbosity of code comments. \\texttt{dump\\_module} prints the entire module that encapsulates the function.\n",
       "\n"
      ],
      "text/markdown": [
       "```\n",
       "@code_llvm\n",
       "```\n",
       "\n",
       "Evaluates the arguments to the function or macro call, determines their types, and calls [`code_llvm`](@ref) on the resulting expression. Set the optional keyword arguments `raw`, `dump_module`, `debuginfo`, `optimize` by putting them and their value before the function call, like this:\n",
       "\n",
       "```\n",
       "@code_llvm raw=true dump_module=true debuginfo=:default f(x)\n",
       "@code_llvm optimize=false f(x)\n",
       "```\n",
       "\n",
       "`optimize` controls whether additional optimizations, such as inlining, are also applied. `raw` makes all metadata and dbg.* calls visible. `debuginfo` may be one of `:source` (default) or `:none`,  to specify the verbosity of code comments. `dump_module` prints the entire module that encapsulates the function.\n"
      ],
      "text/plain": [
       "  \u001b[38;2;102;217;239m@\u001b[0m\u001b[38;2;102;217;239mcode_llvm\u001b[0m\u001b[39m\u001b[0m\n",
       "\n",
       "\n",
       "  Evaluates the arguments to the function or macro call, determines their\n",
       "  types, and calls \u001b[36mcode_llvm\u001b[39m on the resulting expression. Set the optional\n",
       "  keyword arguments \u001b[36mraw\u001b[39m, \u001b[36mdump_module\u001b[39m, \u001b[36mdebuginfo\u001b[39m, \u001b[36moptimize\u001b[39m by putting them and\n",
       "  their value before the function call, like this:\n",
       "\n",
       "  \u001b[38;2;102;217;239m@\u001b[0m\u001b[38;2;102;217;239mcode_llvm\u001b[0m \u001b[0m\u001b[39mraw\u001b[0m\u001b[38;2;249;38;114m=\u001b[0m\u001b[38;2;249;38;114mtrue\u001b[0m \u001b[0m\u001b[39mdump_module\u001b[0m\u001b[38;2;249;38;114m=\u001b[0m\u001b[38;2;249;38;114mtrue\u001b[0m \u001b[0m\u001b[39mdebuginfo\u001b[0m\u001b[38;2;249;38;114m=\u001b[0m\u001b[38;2;174;129;255m:\u001b[0m\u001b[38;2;174;129;255mdefault\u001b[0m \u001b[0m\u001b[38;2;102;217;239mf\u001b[0m(\u001b[0m\u001b[39mx\u001b[0m\u001b[39m)\u001b[0m\n",
       "  \u001b[0m\u001b[38;2;102;217;239m@\u001b[0m\u001b[38;2;102;217;239mcode_llvm\u001b[0m \u001b[0m\u001b[39moptimize\u001b[0m\u001b[38;2;249;38;114m=\u001b[0m\u001b[38;2;249;38;114mfalse\u001b[0m \u001b[0m\u001b[38;2;102;217;239mf\u001b[0m(\u001b[0m\u001b[39mx\u001b[0m\u001b[39m)\u001b[0m\u001b[39m\u001b[0m\n",
       "\n",
       "\n",
       "  \u001b[36moptimize\u001b[39m controls whether additional optimizations, such as inlining, are\n",
       "  also applied. \u001b[36mraw\u001b[39m makes all metadata and dbg.* calls visible. \u001b[36mdebuginfo\u001b[39m may\n",
       "  be one of \u001b[36m:source\u001b[39m (default) or \u001b[36m:none\u001b[39m, to specify the verbosity of code\n",
       "  comments. \u001b[36mdump_module\u001b[39m prints the entire module that encapsulates the\n",
       "  function."
      ]
     },
     "execution_count": 37,
     "metadata": {},
     "output_type": "execute_result"
    }
   ],
   "source": [
    "?@code_llvm"
   ]
  },
  {
   "cell_type": "markdown",
   "metadata": {},
   "source": [
    "### Array Transformations\n",
    "Perform calculations on entire arrays at once."
   ]
  },
  {
   "cell_type": "code",
   "execution_count": null,
   "metadata": {},
   "outputs": [],
   "source": []
  },
  {
   "cell_type": "code",
   "execution_count": 38,
   "metadata": {},
   "outputs": [
    {
     "name": "stdout",
     "output_type": "stream",
     "text": [
      "H\n",
      "e\n",
      "l\n",
      "l\n",
      "o\n",
      " \n",
      "J\n",
      "u\n",
      "l\n",
      "i\n",
      "a\n"
     ]
    }
   ],
   "source": [
    "md\"**Comprehension**\"\n",
    "str = \"Hello Julia\"\n",
    "[println(el) for el in str];\n"
   ]
  },
  {
   "cell_type": "code",
   "execution_count": null,
   "metadata": {},
   "outputs": [],
   "source": []
  },
  {
   "cell_type": "code",
   "execution_count": null,
   "metadata": {},
   "outputs": [],
   "source": []
  },
  {
   "cell_type": "code",
   "execution_count": null,
   "metadata": {},
   "outputs": [],
   "source": []
  },
  {
   "cell_type": "code",
   "execution_count": null,
   "metadata": {},
   "outputs": [],
   "source": []
  },
  {
   "cell_type": "markdown",
   "metadata": {},
   "source": [
    "### Calling Functions\n",
    "Call functions to obtain multiple outputs."
   ]
  },
  {
   "cell_type": "code",
   "execution_count": 39,
   "metadata": {},
   "outputs": [
    {
     "data": {
      "text/latex": [
       "\\href{https://docs.julialang.org/en/v1/manual/functions/}{Functions in ${\\tt Julia}$}\n",
       "\n"
      ],
      "text/markdown": [
       "[Functions in ${\\tt Julia}$](https://docs.julialang.org/en/v1/manual/functions/)\n"
      ],
      "text/plain": [
       "  Functions in \u001b[35m{\\tt Julia}\u001b[39m\n",
       "  (https://docs.julialang.org/en/v1/manual/functions/)"
      ]
     },
     "execution_count": 39,
     "metadata": {},
     "output_type": "execute_result"
    }
   ],
   "source": [
    "md\"\"\"\n",
    "[Functions in ${\\tt Julia}$](https://docs.julialang.org/en/v1/manual/functions/)\n",
    "\"\"\""
   ]
  },
  {
   "cell_type": "code",
   "execution_count": null,
   "metadata": {},
   "outputs": [],
   "source": []
  },
  {
   "cell_type": "code",
   "execution_count": null,
   "metadata": {},
   "outputs": [],
   "source": []
  },
  {
   "cell_type": "code",
   "execution_count": null,
   "metadata": {},
   "outputs": [],
   "source": []
  },
  {
   "cell_type": "code",
   "execution_count": null,
   "metadata": {},
   "outputs": [],
   "source": []
  },
  {
   "cell_type": "code",
   "execution_count": null,
   "metadata": {},
   "outputs": [],
   "source": []
  },
  {
   "cell_type": "code",
   "execution_count": null,
   "metadata": {},
   "outputs": [],
   "source": []
  },
  {
   "cell_type": "code",
   "execution_count": null,
   "metadata": {},
   "outputs": [],
   "source": []
  },
  {
   "cell_type": "markdown",
   "metadata": {},
   "source": [
    "### Plotting Data\n",
    "Visualize variables using ${\\tt Julia}$'s plotting functions."
   ]
  },
  {
   "cell_type": "code",
   "execution_count": 40,
   "metadata": {},
   "outputs": [
    {
     "name": "stderr",
     "output_type": "stream",
     "text": [
      "\u001b[32m\u001b[1m   Resolving\u001b[22m\u001b[39m package versions...\n",
      "\u001b[32m\u001b[1m  No Changes\u001b[22m\u001b[39m to `~/MEGA/git-repos/cosnip/Julia/Project.toml`\n",
      "\u001b[32m\u001b[1m  No Changes\u001b[22m\u001b[39m to `~/MEGA/git-repos/cosnip/Julia/Manifest.toml`\n"
     ]
    }
   ],
   "source": [
    "]add Plots"
   ]
  },
  {
   "cell_type": "code",
   "execution_count": 41,
   "metadata": {},
   "outputs": [],
   "source": [
    "using Plots # GR is the default backend"
   ]
  },
  {
   "cell_type": "code",
   "execution_count": null,
   "metadata": {},
   "outputs": [],
   "source": [
    "x = 1:.1:10\n",
    "y = sin.(x)\n",
    "z = cos.(x)\n",
    "\n",
    "plot(x, y, label=\"sin(x)\")\n",
    "plot!(x, z, label=\"cos(x)\") # Hold on the previous plot"
   ]
  },
  {
   "cell_type": "code",
   "execution_count": null,
   "metadata": {},
   "outputs": [],
   "source": [
    "md\"**Scatter Plot**\""
   ]
  },
  {
   "cell_type": "code",
   "execution_count": null,
   "metadata": {},
   "outputs": [],
   "source": [
    "x = range(1, 10)\n",
    "y = cos.(x.^3)\n",
    "scatter(x, y, legend=false)"
   ]
  },
  {
   "cell_type": "code",
   "execution_count": null,
   "metadata": {},
   "outputs": [],
   "source": [
    "md\"**Uniform Distribtion**\""
   ]
  },
  {
   "cell_type": "code",
   "execution_count": null,
   "metadata": {},
   "outputs": [],
   "source": [
    "x = rand(10^5)\n",
    "histogram(x, bins=64, legend=false)"
   ]
  },
  {
   "cell_type": "code",
   "execution_count": null,
   "metadata": {},
   "outputs": [],
   "source": [
    "md\"**Normal Distribution**\""
   ]
  },
  {
   "cell_type": "code",
   "execution_count": null,
   "metadata": {},
   "outputs": [],
   "source": [
    "x = randn(10^5)\n",
    "histogram(x, bins=64, legend=false)"
   ]
  },
  {
   "cell_type": "code",
   "execution_count": null,
   "metadata": {},
   "outputs": [],
   "source": [
    "md\"**Histogram in 2D**\""
   ]
  },
  {
   "cell_type": "code",
   "execution_count": null,
   "metadata": {},
   "outputs": [],
   "source": [
    "x = rand(10^5)\n",
    "y = rand(10^5)\n",
    "histogram2d(x, y, bins=(16, 16))"
   ]
  },
  {
   "cell_type": "markdown",
   "metadata": {},
   "source": [
    "### Importing Data\n",
    "Bring data from external files into ${\\tt Julia}$."
   ]
  },
  {
   "cell_type": "code",
   "execution_count": null,
   "metadata": {},
   "outputs": [],
   "source": []
  },
  {
   "cell_type": "code",
   "execution_count": null,
   "metadata": {},
   "outputs": [],
   "source": []
  },
  {
   "cell_type": "code",
   "execution_count": null,
   "metadata": {},
   "outputs": [],
   "source": []
  },
  {
   "cell_type": "code",
   "execution_count": null,
   "metadata": {},
   "outputs": [],
   "source": []
  },
  {
   "cell_type": "code",
   "execution_count": null,
   "metadata": {},
   "outputs": [],
   "source": []
  },
  {
   "cell_type": "code",
   "execution_count": null,
   "metadata": {},
   "outputs": [],
   "source": []
  },
  {
   "cell_type": "code",
   "execution_count": null,
   "metadata": {},
   "outputs": [],
   "source": []
  },
  {
   "cell_type": "markdown",
   "metadata": {},
   "source": [
    "### Logical Arrays\n",
    "Use logical expressions to help you to extract elements of interest from ${\\tt Julia}$ arrays."
   ]
  },
  {
   "cell_type": "code",
   "execution_count": null,
   "metadata": {},
   "outputs": [],
   "source": []
  },
  {
   "cell_type": "code",
   "execution_count": null,
   "metadata": {},
   "outputs": [],
   "source": []
  },
  {
   "cell_type": "code",
   "execution_count": null,
   "metadata": {},
   "outputs": [],
   "source": []
  },
  {
   "cell_type": "code",
   "execution_count": null,
   "metadata": {},
   "outputs": [],
   "source": []
  },
  {
   "cell_type": "code",
   "execution_count": null,
   "metadata": {},
   "outputs": [],
   "source": []
  },
  {
   "cell_type": "code",
   "execution_count": null,
   "metadata": {},
   "outputs": [],
   "source": []
  },
  {
   "cell_type": "code",
   "execution_count": null,
   "metadata": {},
   "outputs": [],
   "source": []
  },
  {
   "cell_type": "markdown",
   "metadata": {},
   "source": [
    "### Programming\n",
    "Write programs that execute code based on some condition."
   ]
  },
  {
   "cell_type": "code",
   "execution_count": null,
   "metadata": {},
   "outputs": [],
   "source": []
  },
  {
   "cell_type": "code",
   "execution_count": null,
   "metadata": {},
   "outputs": [],
   "source": []
  },
  {
   "cell_type": "code",
   "execution_count": null,
   "metadata": {},
   "outputs": [],
   "source": []
  },
  {
   "cell_type": "code",
   "execution_count": null,
   "metadata": {},
   "outputs": [],
   "source": []
  },
  {
   "cell_type": "code",
   "execution_count": null,
   "metadata": {},
   "outputs": [],
   "source": []
  },
  {
   "cell_type": "code",
   "execution_count": null,
   "metadata": {},
   "outputs": [],
   "source": []
  },
  {
   "cell_type": "code",
   "execution_count": null,
   "metadata": {},
   "outputs": [],
   "source": []
  },
  {
   "cell_type": "code",
   "execution_count": null,
   "metadata": {},
   "outputs": [],
   "source": []
  },
  {
   "cell_type": "code",
   "execution_count": null,
   "metadata": {},
   "outputs": [],
   "source": []
  },
  {
   "cell_type": "markdown",
   "metadata": {},
   "source": [
    "### Final Project\n",
    "Bring together concepts that you have learned with a project."
   ]
  }
 ],
 "metadata": {
  "kernelspec": {
   "display_name": "Julia 1.8.2",
   "language": "julia",
   "name": "julia-1.8"
  },
  "language_info": {
   "file_extension": ".jl",
   "mimetype": "application/julia",
   "name": "julia",
   "version": "1.8.2"
  }
 },
 "nbformat": 4,
 "nbformat_minor": 2
}
