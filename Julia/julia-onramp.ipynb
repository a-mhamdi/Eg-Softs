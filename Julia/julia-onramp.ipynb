{
 "cells": [
  {
   "cell_type": "markdown",
   "metadata": {},
   "source": [
    "# Artificial Intelligence\n",
    "## Lab. \\#1: ${\\tt Julia}$ Onramp\n",
    "### Slides are available @ [https://www.github.com/a-mhamdi/jlai](https://www.github.com/a-mhamdi/jlai)\n",
    "\n",
    "---"
   ]
  },
  {
   "cell_type": "markdown",
   "metadata": {},
   "source": [
    "### GOALS\n",
    "- Enter commands in ${\\tt Julia}$ REPL to create variables and perform calculations;\n",
    "- Write and save programs;\n",
    "- Use indexing to extract and modify rows, columns, and elements of ${\\tt Julia}$ tensors."
   ]
  },
  {
   "cell_type": "markdown",
   "metadata": {},
   "source": [
    "${\\tt Julia}$ is a standalone program which can be downloaded from [https://julialang.org/downloads/](https://julialang.org/downloads/)"
   ]
  },
  {
   "cell_type": "markdown",
   "metadata": {},
   "source": [
    "We begin first by activating the environement within the desired folder."
   ]
  },
  {
   "cell_type": "markdown",
   "metadata": {},
   "source": [
    "From the REPL interface, either type\n",
    ">using Pkg  \n",
    "pkg\"activate .\"\n",
    "\n",
    "or access the package mode by typing `]` and simply write\n",
    ">activate .\n",
    "\n",
    "Always within the package mode, to see the full list of installed packages\n",
    ">st"
   ]
  },
  {
   "cell_type": "code",
   "execution_count": 1,
   "metadata": {},
   "outputs": [
    {
     "name": "stderr",
     "output_type": "stream",
     "text": [
      "\u001b[32m\u001b[1m  Activating\u001b[22m\u001b[39m project at `~/MEGA/git-repos/cosnip/Julia`\n"
     ]
    }
   ],
   "source": [
    "using Pkg\n",
    "pkg\"activate .\""
   ]
  },
  {
   "cell_type": "code",
   "execution_count": 2,
   "metadata": {},
   "outputs": [
    {
     "name": "stdout",
     "output_type": "stream",
     "text": [
      "\u001b[32m\u001b[1mStatus\u001b[22m\u001b[39m `~/MEGA/git-repos/cosnip/Julia/Project.toml`\n",
      " \u001b[90m [336ed68f] \u001b[39mCSV v0.10.9\n",
      " \u001b[90m [a93c6f00] \u001b[39mDataFrames v1.4.4\n",
      "\u001b[32m⌃\u001b[39m\u001b[90m [91a5bcdd] \u001b[39mPlots v1.38.2\n",
      " \u001b[90m [d6f4376e] \u001b[39mMarkdown\n",
      "\u001b[36m\u001b[1mInfo\u001b[22m\u001b[39m Packages marked with \u001b[32m⌃\u001b[39m have new versions available and may be upgradable.\n"
     ]
    }
   ],
   "source": [
    "]st"
   ]
  },
  {
   "cell_type": "markdown",
   "metadata": {},
   "source": [
    "To add the **Markdown** package for instance, we write"
   ]
  },
  {
   "cell_type": "code",
   "execution_count": 3,
   "metadata": {},
   "outputs": [
    {
     "name": "stderr",
     "output_type": "stream",
     "text": [
      "\u001b[32m\u001b[1m    Updating\u001b[22m\u001b[39m registry at `~/.julia/registries/General.toml`\n",
      "\u001b[32m\u001b[1m   Resolving\u001b[22m\u001b[39m package versions...\n",
      "\u001b[32m\u001b[1m  No Changes\u001b[22m\u001b[39m to `~/MEGA/git-repos/cosnip/Julia/Project.toml`\n",
      "\u001b[32m\u001b[1m  No Changes\u001b[22m\u001b[39m to `~/MEGA/git-repos/cosnip/Julia/Manifest.toml`\n"
     ]
    }
   ],
   "source": [
    "]add Markdown"
   ]
  },
  {
   "cell_type": "markdown",
   "metadata": {},
   "source": [
    "To be able to use it, we do as follows"
   ]
  },
  {
   "cell_type": "code",
   "execution_count": 4,
   "metadata": {},
   "outputs": [],
   "source": [
    "using Markdown"
   ]
  },
  {
   "cell_type": "code",
   "execution_count": 5,
   "metadata": {},
   "outputs": [
    {
     "data": {
      "text/latex": [
       "This a text inside a code cell, thanks to \\textbf{Markdown} package. I can \\emph{emphasize} anything. Make other things \\textbf{bold}\n",
       "\n"
      ],
      "text/markdown": [
       "This a text inside a code cell, thanks to **Markdown** package. I can *emphasize* anything. Make other things **bold**\n"
      ],
      "text/plain": [
       "  This a text inside a code cell, thanks to \u001b[1mMarkdown\u001b[22m package. I can \u001b[4memphasize\u001b[24m\n",
       "  anything. Make other things \u001b[1mbold\u001b[22m"
      ]
     },
     "execution_count": 5,
     "metadata": {},
     "output_type": "execute_result"
    }
   ],
   "source": [
    "md\"\"\"\n",
    "This a text inside a code cell, thanks to **Markdown** package. I can _emphasize_ anything. Make other things **bold**\n",
    "\"\"\""
   ]
  },
  {
   "cell_type": "markdown",
   "metadata": {},
   "source": [
    "Runnig ${\\tt Julia}$ in Jupyer Notebookor Jupyter Lab is pretty handy. We only need to install the appropriate kernel. In order to add ${\\tt Julia}$ kernel `IJulia` to Jupyter Notebook and/or JupyterLab IDEs, we begin by executing the following commands:\n",
    ">using Pkg  \n",
    "Pkg.add(\"IJulia\")"
   ]
  },
  {
   "cell_type": "markdown",
   "metadata": {},
   "source": [
    "In case things do not work, we run the two following commands from ${\\tt Julia}$ REPL which launch jupyter environment.\n",
    ">using IJulia  \n",
    "installkernel(\"Julia\")"
   ]
  },
  {
   "cell_type": "markdown",
   "metadata": {},
   "source": [
    "The shell mode is also available through the REPL to evaluate some os commands. To do so, simply preface the regular command by semicolon. For instance, `pwd` prints the path to working directory and `ls` allows to list the content of the current directory."
   ]
  },
  {
   "cell_type": "code",
   "execution_count": 6,
   "metadata": {},
   "outputs": [
    {
     "name": "stdout",
     "output_type": "stream",
     "text": [
      "/home/mhamdi/MEGA/git-repos/cosnip/Julia\n"
     ]
    }
   ],
   "source": [
    ";pwd"
   ]
  },
  {
   "cell_type": "code",
   "execution_count": 7,
   "metadata": {},
   "outputs": [
    {
     "name": "stdout",
     "output_type": "stream",
     "text": [
      "total 412\n",
      "drwxrwxr-x  5 mhamdi mhamdi   4096 Feb  3 22:17 .\n",
      "drwxr-xr-x 13 mhamdi mhamdi   4096 Dec 22 01:47 ..\n",
      "-rw-rw-r--  1 mhamdi mhamdi    213 Apr  3  2022 gtk_julia.jl\n",
      "drwxrwxr-x  2 mhamdi mhamdi   4096 Feb  3 18:42 .ipynb_checkpoints\n",
      "-rw-rw-r--  1 mhamdi mhamdi 303488 Feb  3 22:17 julia-onramp.ipynb\n",
      "-rw-rw-r--  1 mhamdi mhamdi  34286 Feb 15  2022 Julia.png\n",
      "-rw-rw-r--  1 mhamdi mhamdi  35095 Jan 13 22:05 Manifest.toml\n",
      "-rw-rw-r--  1 mhamdi mhamdi    201 Jan 13 22:05 Project.toml\n",
      "-rw-rw-r--  1 mhamdi mhamdi     60 Mar  3  2022 README.md\n",
      "drwxrwxr-x  2 mhamdi mhamdi   4096 Jan  2 18:41 sig-proc\n",
      "drwxrwxr-x  2 mhamdi mhamdi   4096 Oct 17 22:53 sys-ctrl\n",
      "-rw-rw-r--  1 mhamdi mhamdi     66 Feb  3 19:00 test-file.csv\n",
      "-rw-------  1 mhamdi mhamdi     14 Feb  3 20:10 .wakatime-project\n"
     ]
    }
   ],
   "source": [
    ";ls -la"
   ]
  },
  {
   "cell_type": "markdown",
   "metadata": {},
   "source": [
    "### Getting Help\n",
    "In order to seek help on a particular function. We just use the `?` mark. We can use the ${\\tt Julia}$ documentation to discover more pieces of information about ${\\tt Julia}$ features."
   ]
  },
  {
   "cell_type": "code",
   "execution_count": 8,
   "metadata": {},
   "outputs": [
    {
     "name": "stdout",
     "output_type": "stream",
     "text": [
      "search: \u001b[0m\u001b[1mc\u001b[22m\u001b[0m\u001b[1mo\u001b[22m\u001b[0m\u001b[1ms\u001b[22m \u001b[0m\u001b[1mc\u001b[22m\u001b[0m\u001b[1mo\u001b[22m\u001b[0m\u001b[1ms\u001b[22mh \u001b[0m\u001b[1mc\u001b[22m\u001b[0m\u001b[1mo\u001b[22m\u001b[0m\u001b[1ms\u001b[22md \u001b[0m\u001b[1mc\u001b[22m\u001b[0m\u001b[1mo\u001b[22m\u001b[0m\u001b[1ms\u001b[22mc \u001b[0m\u001b[1mc\u001b[22m\u001b[0m\u001b[1mo\u001b[22m\u001b[0m\u001b[1ms\u001b[22mpi a\u001b[0m\u001b[1mc\u001b[22m\u001b[0m\u001b[1mo\u001b[22m\u001b[0m\u001b[1ms\u001b[22m a\u001b[0m\u001b[1mc\u001b[22m\u001b[0m\u001b[1mo\u001b[22m\u001b[0m\u001b[1ms\u001b[22mh a\u001b[0m\u001b[1mc\u001b[22m\u001b[0m\u001b[1mo\u001b[22m\u001b[0m\u001b[1ms\u001b[22md sin\u001b[0m\u001b[1mc\u001b[22m\u001b[0m\u001b[1mo\u001b[22m\u001b[0m\u001b[1ms\u001b[22m sin\u001b[0m\u001b[1mc\u001b[22m\u001b[0m\u001b[1mo\u001b[22m\u001b[0m\u001b[1ms\u001b[22md sin\u001b[0m\u001b[1mc\u001b[22m\u001b[0m\u001b[1mo\u001b[22m\u001b[0m\u001b[1ms\u001b[22mpi \u001b[0m\u001b[1mc\u001b[22m\u001b[0m\u001b[1mo\u001b[22mn\u001b[0m\u001b[1ms\u001b[22mt\n",
      "\n"
     ]
    },
    {
     "data": {
      "text/latex": [
       "\\begin{verbatim}\n",
       "cos(x)\n",
       "\\end{verbatim}\n",
       "Compute cosine of \\texttt{x}, where \\texttt{x} is in radians.\n",
       "\n",
       "See also [\\texttt{cosd}], [\\texttt{cospi}], [\\texttt{sincos}], [\\texttt{cis}].\n",
       "\n",
       "\\rule{\\textwidth}{1pt}\n",
       "\\begin{verbatim}\n",
       "cos(A::AbstractMatrix)\n",
       "\\end{verbatim}\n",
       "Compute the matrix cosine of a square matrix \\texttt{A}.\n",
       "\n",
       "If \\texttt{A} is symmetric or Hermitian, its eigendecomposition (\\href{@ref}{\\texttt{eigen}}) is used to compute the cosine. Otherwise, the cosine is determined by calling \\href{@ref}{\\texttt{exp}}.\n",
       "\n",
       "\\section{Examples}\n",
       "\\begin{verbatim}\n",
       "julia> cos(fill(1.0, (2,2)))\n",
       "2×2 Matrix{Float64}:\n",
       "  0.291927  -0.708073\n",
       " -0.708073   0.291927\n",
       "\\end{verbatim}\n"
      ],
      "text/markdown": [
       "```\n",
       "cos(x)\n",
       "```\n",
       "\n",
       "Compute cosine of `x`, where `x` is in radians.\n",
       "\n",
       "See also [`cosd`], [`cospi`], [`sincos`], [`cis`].\n",
       "\n",
       "---\n",
       "\n",
       "```\n",
       "cos(A::AbstractMatrix)\n",
       "```\n",
       "\n",
       "Compute the matrix cosine of a square matrix `A`.\n",
       "\n",
       "If `A` is symmetric or Hermitian, its eigendecomposition ([`eigen`](@ref)) is used to compute the cosine. Otherwise, the cosine is determined by calling [`exp`](@ref).\n",
       "\n",
       "# Examples\n",
       "\n",
       "```jldoctest\n",
       "julia> cos(fill(1.0, (2,2)))\n",
       "2×2 Matrix{Float64}:\n",
       "  0.291927  -0.708073\n",
       " -0.708073   0.291927\n",
       "```\n"
      ],
      "text/plain": [
       "  \u001b[38;2;102;217;239mcos\u001b[0m(\u001b[0m\u001b[39mx\u001b[0m\u001b[39m)\u001b[0m\u001b[39m\u001b[0m\n",
       "\n",
       "\n",
       "  Compute cosine of \u001b[36mx\u001b[39m, where \u001b[36mx\u001b[39m is in radians.\n",
       "\n",
       "  See also [\u001b[36mcosd\u001b[39m], [\u001b[36mcospi\u001b[39m], [\u001b[36msincos\u001b[39m], [\u001b[36mcis\u001b[39m].\n",
       "\n",
       "  ────────────────────────────────────────────────────────────────────────────\n",
       "\n",
       "  \u001b[38;2;102;217;239mcos\u001b[0m(\u001b[0m\u001b[39mA\u001b[0m\u001b[38;2;102;217;239m::\u001b[0m\u001b[38;2;102;217;239mAbstractMatrix\u001b[0m\u001b[39m)\u001b[0m\u001b[39m\u001b[0m\n",
       "\n",
       "\n",
       "  Compute the matrix cosine of a square matrix \u001b[36mA\u001b[39m.\n",
       "\n",
       "  If \u001b[36mA\u001b[39m is symmetric or Hermitian, its eigendecomposition (\u001b[36meigen\u001b[39m) is used to\n",
       "  compute the cosine. Otherwise, the cosine is determined by calling \u001b[36mexp\u001b[39m.\n",
       "\n",
       "\u001b[1m  Examples\u001b[22m\n",
       "\u001b[1m  ≡≡≡≡≡≡≡≡≡≡\u001b[22m\n",
       "\n",
       "  \u001b[31;1mjulia> \u001b[0m\u001b[38;2;102;217;239mcos\u001b[0m(\u001b[0m\u001b[38;2;102;217;239mfill\u001b[0m(\u001b[0m\u001b[38;2;174;129;255m1.0\u001b[0m\u001b[39m,\u001b[0m \u001b[0m(\u001b[0m\u001b[38;2;174;129;255m2\u001b[0m\u001b[39m,\u001b[0m\u001b[38;2;174;129;255m2\u001b[0m\u001b[39m)\u001b[0m\u001b[39m)\u001b[0m\u001b[39m)\u001b[0m\n",
       "  \u001b[0m\u001b[39m\u001b[0m2×2 Matrix{Float64}:\n",
       "    0.291927  -0.708073\n",
       "   -0.708073   0.291927\n"
      ]
     },
     "execution_count": 8,
     "metadata": {},
     "output_type": "execute_result"
    }
   ],
   "source": [
    "?cos"
   ]
  },
  {
   "cell_type": "markdown",
   "metadata": {},
   "source": [
    "To print something on the standard output, it is possible to use either `print` and `println`. The last one displays the text and moves the cursor to the next line."
   ]
  },
  {
   "cell_type": "code",
   "execution_count": 9,
   "metadata": {},
   "outputs": [
    {
     "name": "stdout",
     "output_type": "stream",
     "text": [
      "Hello World"
     ]
    }
   ],
   "source": [
    "print(\"Hello\")\n",
    "print(' ')\n",
    "print(\"World\")"
   ]
  },
  {
   "cell_type": "code",
   "execution_count": 10,
   "metadata": {},
   "outputs": [
    {
     "name": "stdout",
     "output_type": "stream",
     "text": [
      "Hello\n",
      "World\n"
     ]
    }
   ],
   "source": [
    "println(\"Hello\")\n",
    "println(\"World\")"
   ]
  },
  {
   "cell_type": "markdown",
   "metadata": {},
   "source": [
    "### Basic Calculations"
   ]
  },
  {
   "cell_type": "code",
   "execution_count": 11,
   "metadata": {},
   "outputs": [
    {
     "data": {
      "text/plain": [
       "(1, 1.5)"
      ]
     },
     "execution_count": 11,
     "metadata": {},
     "output_type": "execute_result"
    }
   ],
   "source": [
    "a, b = 1, 1.5"
   ]
  },
  {
   "cell_type": "code",
   "execution_count": 12,
   "metadata": {},
   "outputs": [
    {
     "name": "stdout",
     "output_type": "stream",
     "text": [
      "Int64\n",
      "Float64\n"
     ]
    }
   ],
   "source": [
    "println(typeof(a))\n",
    "println(typeof(b))"
   ]
  },
  {
   "cell_type": "code",
   "execution_count": 13,
   "metadata": {},
   "outputs": [
    {
     "data": {
      "text/latex": [
       "\\texttt{varinfo} method allows to display loaded variables.\n",
       "\n"
      ],
      "text/markdown": [
       "`varinfo` method allows to display loaded variables.\n"
      ],
      "text/plain": [
       "  \u001b[36mvarinfo\u001b[39m method allows to display loaded variables."
      ]
     },
     "execution_count": 13,
     "metadata": {},
     "output_type": "execute_result"
    }
   ],
   "source": [
    "md\"\"\"\n",
    "`varinfo` method allows to display loaded variables.\n",
    "\"\"\""
   ]
  },
  {
   "cell_type": "code",
   "execution_count": 14,
   "metadata": {},
   "outputs": [
    {
     "data": {
      "text/latex": [
       "\\begin{tabular}\n",
       "{l | r | l}\n",
       "name & size & summary \\\\\n",
       "\\hline\n",
       "Base &  & Module \\\\\n",
       "Core &  & Module \\\\\n",
       "Main &  & Module \\\\\n",
       "PLOTS\\_DEFAULTS & 456 bytes & Dict\\{Symbol, Symbol\\} with 1 entry \\\\\n",
       "a & 8 bytes & Int64 \\\\\n",
       "b & 8 bytes & Float64 \\\\\n",
       "showall & 0 bytes & showall (generic function with 1 method) \\\\\n",
       "\\end{tabular}\n"
      ],
      "text/markdown": [
       "| name           |      size | summary                                  |\n",
       "|:-------------- | ---------:|:---------------------------------------- |\n",
       "| Base           |           | Module                                   |\n",
       "| Core           |           | Module                                   |\n",
       "| Main           |           | Module                                   |\n",
       "| PLOTS_DEFAULTS | 456 bytes | Dict{Symbol, Symbol} with 1 entry        |\n",
       "| a              |   8 bytes | Int64                                    |\n",
       "| b              |   8 bytes | Float64                                  |\n",
       "| showall        |   0 bytes | showall (generic function with 1 method) |\n"
      ],
      "text/plain": [
       "  name                size summary                                 \n",
       "  –––––––––––––– ––––––––– ––––––––––––––––––––––––––––––––––––––––\n",
       "  Base                     Module                                  \n",
       "  Core                     Module                                  \n",
       "  Main                     Module                                  \n",
       "  PLOTS_DEFAULTS 456 bytes Dict{Symbol, Symbol} with 1 entry       \n",
       "  a                8 bytes Int64                                   \n",
       "  b                8 bytes Float64                                 \n",
       "  showall          0 bytes showall (generic function with 1 method)"
      ]
     },
     "execution_count": 14,
     "metadata": {},
     "output_type": "execute_result"
    }
   ],
   "source": [
    "varinfo()"
   ]
  },
  {
   "cell_type": "code",
   "execution_count": 15,
   "metadata": {},
   "outputs": [
    {
     "name": "stdout",
     "output_type": "stream",
     "text": [
      "search: \u001b[0m\u001b[1mv\u001b[22m\u001b[0m\u001b[1ma\u001b[22m\u001b[0m\u001b[1mr\u001b[22m\u001b[0m\u001b[1mi\u001b[22m\u001b[0m\u001b[1mn\u001b[22m\u001b[0m\u001b[1mf\u001b[22m\u001b[0m\u001b[1mo\u001b[22m\n",
      "\n"
     ]
    },
    {
     "data": {
      "text/latex": [
       "\\begin{verbatim}\n",
       "varinfo(m::Module=Main, pattern::Regex=r\"\"; all::Bool = false, imported::Bool = false, sortby::Symbol = :name, minsize::Int = 0)\n",
       "\\end{verbatim}\n",
       "Return a markdown table giving information about exported global variables in a module, optionally restricted to those matching \\texttt{pattern}.\n",
       "\n",
       "The memory consumption estimate is an approximate lower bound on the size of the internal structure of the object.\n",
       "\n",
       "\\begin{itemize}\n",
       "\\item \\texttt{all} : also list non-exported objects defined in the module, deprecated objects, and compiler-generated objects.\n",
       "\n",
       "\n",
       "\\item \\texttt{imported} : also list objects explicitly imported from other modules.\n",
       "\n",
       "\n",
       "\\item \\texttt{recursive} : recursively include objects in sub-modules, observing the same settings in each.\n",
       "\n",
       "\n",
       "\\item \\texttt{sortby} : the column to sort results by. Options are \\texttt{:name} (default), \\texttt{:size}, and \\texttt{:summary}.\n",
       "\n",
       "\n",
       "\\item \\texttt{minsize} : only includes objects with size at least \\texttt{minsize} bytes. Defaults to \\texttt{0}.\n",
       "\n",
       "\\end{itemize}\n"
      ],
      "text/markdown": [
       "```\n",
       "varinfo(m::Module=Main, pattern::Regex=r\"\"; all::Bool = false, imported::Bool = false, sortby::Symbol = :name, minsize::Int = 0)\n",
       "```\n",
       "\n",
       "Return a markdown table giving information about exported global variables in a module, optionally restricted to those matching `pattern`.\n",
       "\n",
       "The memory consumption estimate is an approximate lower bound on the size of the internal structure of the object.\n",
       "\n",
       "  * `all` : also list non-exported objects defined in the module, deprecated objects, and compiler-generated objects.\n",
       "  * `imported` : also list objects explicitly imported from other modules.\n",
       "  * `recursive` : recursively include objects in sub-modules, observing the same settings in each.\n",
       "  * `sortby` : the column to sort results by. Options are `:name` (default), `:size`, and `:summary`.\n",
       "  * `minsize` : only includes objects with size at least `minsize` bytes. Defaults to `0`.\n"
      ],
      "text/plain": [
       "  \u001b[38;2;102;217;239mvarinfo\u001b[0m(\u001b[0m\u001b[39mm\u001b[0m\u001b[38;2;102;217;239m::\u001b[0m\u001b[38;2;102;217;239mModule\u001b[0m\u001b[38;2;249;38;114m=\u001b[0m\u001b[39mMain\u001b[0m\u001b[39m,\u001b[0m \u001b[0m\u001b[39mpattern\u001b[0m\u001b[38;2;102;217;239m::\u001b[0m\u001b[38;2;102;217;239mRegex\u001b[0m\u001b[38;2;249;38;114m=\u001b[0m\u001b[39mr\u001b[0m\u001b[38;2;230;219;116m\"\"\u001b[0m\u001b[39m;\u001b[0m \u001b[0m\u001b[39mall\u001b[0m\u001b[38;2;102;217;239m::\u001b[0m\u001b[38;2;102;217;239mBool\u001b[0m \u001b[0m\u001b[38;2;249;38;114m=\u001b[0m \u001b[0m\u001b[38;2;249;38;114mfalse\u001b[0m\u001b[39m,\u001b[0m \u001b[0m\u001b[39mimported\u001b[0m\u001b[38;2;102;217;239m::\u001b[0m\u001b[38;2;102;217;239mBool\u001b[0m \u001b[0m\u001b[38;2;249;38;114m=\u001b[0m \u001b[0m\u001b[38;2;249;38;114mfalse\u001b[0m\u001b[39m,\u001b[0m \u001b[0m\u001b[39msortby\u001b[0m\u001b[38;2;102;217;239m::\u001b[0m\u001b[38;2;102;217;239mSymbol\u001b[0m \u001b[0m\u001b[38;2;249;38;114m=\u001b[0m \u001b[0m\u001b[38;2;174;129;255m:\u001b[0m\u001b[38;2;174;129;255mname\u001b[0m\u001b[39m,\u001b[0m \u001b[0m\u001b[39mminsize\u001b[0m\u001b[38;2;102;217;239m::\u001b[0m\u001b[38;2;102;217;239mInt\u001b[0m \u001b[0m\u001b[38;2;249;38;114m=\u001b[0m \u001b[0m\u001b[38;2;174;129;255m0\u001b[0m\u001b[39m)\u001b[0m\u001b[39m\u001b[0m\n",
       "\n",
       "\n",
       "  Return a markdown table giving information about exported global variables\n",
       "  in a module, optionally restricted to those matching \u001b[36mpattern\u001b[39m.\n",
       "\n",
       "  The memory consumption estimate is an approximate lower bound on the size of\n",
       "  the internal structure of the object.\n",
       "\n",
       "    •  \u001b[36mall\u001b[39m : also list non-exported objects defined in the module,\n",
       "       deprecated objects, and compiler-generated objects.\n",
       "\n",
       "    •  \u001b[36mimported\u001b[39m : also list objects explicitly imported from other\n",
       "       modules.\n",
       "\n",
       "    •  \u001b[36mrecursive\u001b[39m : recursively include objects in sub-modules, observing\n",
       "       the same settings in each.\n",
       "\n",
       "    •  \u001b[36msortby\u001b[39m : the column to sort results by. Options are \u001b[36m:name\u001b[39m\n",
       "       (default), \u001b[36m:size\u001b[39m, and \u001b[36m:summary\u001b[39m.\n",
       "\n",
       "    •  \u001b[36mminsize\u001b[39m : only includes objects with size at least \u001b[36mminsize\u001b[39m bytes.\n",
       "       Defaults to \u001b[36m0\u001b[39m."
      ]
     },
     "execution_count": 15,
     "metadata": {},
     "output_type": "execute_result"
    }
   ],
   "source": [
    "?varinfo"
   ]
  },
  {
   "cell_type": "code",
   "execution_count": 16,
   "metadata": {},
   "outputs": [
    {
     "name": "stdout",
     "output_type": "stream",
     "text": [
      "Sum of 1 and 1.5 is 2.5\n"
     ]
    }
   ],
   "source": [
    "println(\"Sum of $a and $b is $(a+b)\")"
   ]
  },
  {
   "cell_type": "markdown",
   "metadata": {},
   "source": [
    "Addition, subtraction, multiplication, division, exponent"
   ]
  },
  {
   "cell_type": "code",
   "execution_count": 17,
   "metadata": {},
   "outputs": [
    {
     "data": {
      "text/plain": [
       "(2.5, -0.5, 1.5, 0.0, 1.0)"
      ]
     },
     "execution_count": 17,
     "metadata": {},
     "output_type": "execute_result"
    }
   ],
   "source": [
    "a+b, a-b, a*b, a÷b, a^b"
   ]
  },
  {
   "cell_type": "code",
   "execution_count": 18,
   "metadata": {},
   "outputs": [
    {
     "data": {
      "text/latex": [
       "\\textbf{Unicode support} \n",
       "\n",
       "\\begin{itemize}\n",
       "\\item[1. ] We can use π instead of \\texttt{pi}\n",
       "\n",
       "\n",
       "\\item[2. ] Greek letters improe comprehension: α \\emph{(alpha)}, β \\emph{(beta)}, ...\n",
       "\n",
       "\n",
       "\\item[3. ] Symbols: ≥ \\emph{(>=)}, ≤ \\emph{(<=)}, ∈ \\emph{(in)}, ... \n",
       "\n",
       "\n",
       "\\item[4. ] ...\n",
       "\n",
       "\\end{itemize}\n"
      ],
      "text/markdown": [
       "**Unicode support** \n",
       "\n",
       "1. We can use π instead of `pi`\n",
       "2. Greek letters improe comprehension: α *(alpha)*, β *(beta)*, ...\n",
       "3. Symbols: ≥ *(>=)*, ≤ *(<=)*, ∈ *(in)*, ...\n",
       "4. ...\n"
      ],
      "text/plain": [
       "  \u001b[1mUnicode support\u001b[22m\n",
       "\n",
       "    1. We can use π instead of \u001b[36mpi\u001b[39m\n",
       "\n",
       "    2. Greek letters improe comprehension: α \u001b[4m(alpha)\u001b[24m, β \u001b[4m(beta)\u001b[24m, ...\n",
       "\n",
       "    3. Symbols: ≥ \u001b[4m(>=)\u001b[24m, ≤ \u001b[4m(<=)\u001b[24m, ∈ \u001b[4m(in)\u001b[24m, ...\n",
       "\n",
       "    4. ..."
      ]
     },
     "execution_count": 18,
     "metadata": {},
     "output_type": "execute_result"
    }
   ],
   "source": [
    "md\"\"\"\n",
    "**Unicode support** \n",
    "1. We can use π instead of `pi`\n",
    "1. Greek letters improe comprehension: α _(alpha)_, β _(beta)_, ...\n",
    "1. Symbols: ≥ _(>=)_, ≤ _(<=)_, ∈ _(in)_, ... \n",
    "1. ...\n",
    "\"\"\""
   ]
  },
  {
   "cell_type": "code",
   "execution_count": 19,
   "metadata": {},
   "outputs": [
    {
     "data": {
      "text/plain": [
       "true"
      ]
     },
     "execution_count": 19,
     "metadata": {},
     "output_type": "execute_result"
    }
   ],
   "source": [
    "3 ≤ π "
   ]
  },
  {
   "cell_type": "code",
   "execution_count": 20,
   "metadata": {},
   "outputs": [
    {
     "data": {
      "text/plain": [
       "Float64"
      ]
     },
     "execution_count": 20,
     "metadata": {},
     "output_type": "execute_result"
    }
   ],
   "source": [
    "typeof(3.14)"
   ]
  },
  {
   "cell_type": "code",
   "execution_count": 21,
   "metadata": {},
   "outputs": [
    {
     "data": {
      "text/plain": [
       "Any"
      ]
     },
     "execution_count": 21,
     "metadata": {},
     "output_type": "execute_result"
    }
   ],
   "source": [
    "Float64 |> supertype |> supertype |> supertype |> supertype "
   ]
  },
  {
   "cell_type": "code",
   "execution_count": 22,
   "metadata": {},
   "outputs": [
    {
     "data": {
      "text/plain": [
       "3-element Vector{Any}:\n",
       " Bool\n",
       " Signed\n",
       " Unsigned"
      ]
     },
     "execution_count": 22,
     "metadata": {},
     "output_type": "execute_result"
    }
   ],
   "source": [
    "Integer |> subtypes"
   ]
  },
  {
   "cell_type": "code",
   "execution_count": 23,
   "metadata": {},
   "outputs": [
    {
     "data": {
      "text/plain": [
       "6-element Vector{Any}:\n",
       " BigInt\n",
       " Int128\n",
       " Int16\n",
       " Int32\n",
       " Int64\n",
       " Int8"
      ]
     },
     "execution_count": 23,
     "metadata": {},
     "output_type": "execute_result"
    }
   ],
   "source": [
    "Signed |> subtypes"
   ]
  },
  {
   "cell_type": "code",
   "execution_count": 24,
   "metadata": {},
   "outputs": [
    {
     "data": {
      "text/plain": [
       "true"
      ]
     },
     "execution_count": 24,
     "metadata": {},
     "output_type": "execute_result"
    }
   ],
   "source": [
    "UInt8 <: Unsigned # UInt8 is one subtype of Unsigned"
   ]
  },
  {
   "cell_type": "code",
   "execution_count": 25,
   "metadata": {},
   "outputs": [
    {
     "data": {
      "text/plain": [
       "true"
      ]
     },
     "execution_count": 25,
     "metadata": {},
     "output_type": "execute_result"
    }
   ],
   "source": [
    "Signed >: Int8 # Signed is supertype of Int8"
   ]
  },
  {
   "cell_type": "code",
   "execution_count": 26,
   "metadata": {},
   "outputs": [
    {
     "data": {
      "text/plain": [
       "Int64"
      ]
     },
     "execution_count": 26,
     "metadata": {},
     "output_type": "execute_result"
    }
   ],
   "source": [
    "typeof(3)"
   ]
  },
  {
   "cell_type": "code",
   "execution_count": 27,
   "metadata": {},
   "outputs": [
    {
     "data": {
      "text/plain": [
       "UInt8"
      ]
     },
     "execution_count": 27,
     "metadata": {},
     "output_type": "execute_result"
    }
   ],
   "source": [
    "tmp::UInt8 = 3\n",
    "typeof(tmp)"
   ]
  },
  {
   "cell_type": "markdown",
   "metadata": {},
   "source": [
    "### Mathematical Notation\n"
   ]
  },
  {
   "cell_type": "code",
   "execution_count": 28,
   "metadata": {},
   "outputs": [
    {
     "name": "stdout",
     "output_type": "stream",
     "text": [
      "3\n",
      "3\n"
     ]
    }
   ],
   "source": [
    "println(1+2)\n",
    "println(+(1, 2))"
   ]
  },
  {
   "cell_type": "code",
   "execution_count": 29,
   "metadata": {},
   "outputs": [
    {
     "name": "stdout",
     "output_type": "stream",
     "text": [
      "-1\n",
      "-1\n"
     ]
    }
   ],
   "source": [
    "println(1-2)\n",
    "println(-(1, 2))"
   ]
  },
  {
   "cell_type": "code",
   "execution_count": 30,
   "metadata": {},
   "outputs": [
    {
     "name": "stdout",
     "output_type": "stream",
     "text": [
      "2\n",
      "2\n"
     ]
    }
   ],
   "source": [
    "println(1*2)\n",
    "println(*(1, 2))"
   ]
  },
  {
   "cell_type": "code",
   "execution_count": 31,
   "metadata": {},
   "outputs": [
    {
     "name": "stdout",
     "output_type": "stream",
     "text": [
      "0.5\n",
      "0.5\n"
     ]
    }
   ],
   "source": [
    "println(1/2)\n",
    "println(/(1, 2))"
   ]
  },
  {
   "cell_type": "code",
   "execution_count": 32,
   "metadata": {},
   "outputs": [
    {
     "name": "stdout",
     "output_type": "stream",
     "text": [
      "2.15\n",
      "43//20\n"
     ]
    }
   ],
   "source": [
    "println(3/4+7/5)\n",
    "println(3//4+7//5)"
   ]
  },
  {
   "cell_type": "markdown",
   "metadata": {},
   "source": [
    "### Array Transformations\n",
    "Perform calculations on entire arrays at once."
   ]
  },
  {
   "cell_type": "code",
   "execution_count": 33,
   "metadata": {},
   "outputs": [
    {
     "data": {
      "text/plain": [
       "3×2 Matrix{Float64}:\n",
       " 0.0  0.0\n",
       " 0.0  0.0\n",
       " 0.0  0.0"
      ]
     },
     "execution_count": 33,
     "metadata": {},
     "output_type": "execute_result"
    }
   ],
   "source": [
    "zeros(3, 2)"
   ]
  },
  {
   "cell_type": "code",
   "execution_count": 34,
   "metadata": {},
   "outputs": [
    {
     "data": {
      "text/plain": [
       "3×3×2 Array{Float64, 3}:\n",
       "[:, :, 1] =\n",
       " 1.0  1.0  1.0\n",
       " 1.0  1.0  1.0\n",
       " 1.0  1.0  1.0\n",
       "\n",
       "[:, :, 2] =\n",
       " 1.0  1.0  1.0\n",
       " 1.0  1.0  1.0\n",
       " 1.0  1.0  1.0"
      ]
     },
     "execution_count": 34,
     "metadata": {},
     "output_type": "execute_result"
    }
   ],
   "source": [
    "ones(3, 3, 2)"
   ]
  },
  {
   "cell_type": "code",
   "execution_count": 35,
   "metadata": {},
   "outputs": [
    {
     "data": {
      "text/plain": [
       "2×2 Matrix{Irrational{:π}}:\n",
       " π  π\n",
       " π  π"
      ]
     },
     "execution_count": 35,
     "metadata": {},
     "output_type": "execute_result"
    }
   ],
   "source": [
    "fill(π, (2, 2))"
   ]
  },
  {
   "cell_type": "code",
   "execution_count": 36,
   "metadata": {},
   "outputs": [
    {
     "data": {
      "text/plain": [
       "2×2 Matrix{Float64}:\n",
       " 3.14159  3.14159\n",
       " 3.14159  3.14159"
      ]
     },
     "execution_count": 36,
     "metadata": {},
     "output_type": "execute_result"
    }
   ],
   "source": [
    "π .* ones(2, 2)"
   ]
  },
  {
   "cell_type": "code",
   "execution_count": 37,
   "metadata": {},
   "outputs": [
    {
     "data": {
      "text/latex": [
       "Creates a \\texttt{BitArray} with all values set to \\texttt{true}\n",
       "\n"
      ],
      "text/markdown": [
       "Creates a `BitArray` with all values set to `true`\n"
      ],
      "text/plain": [
       "  Creates a \u001b[36mBitArray\u001b[39m with all values set to \u001b[36mtrue\u001b[39m"
      ]
     },
     "execution_count": 37,
     "metadata": {},
     "output_type": "execute_result"
    }
   ],
   "source": [
    "md\"Creates a `BitArray` with all values set to `true`\""
   ]
  },
  {
   "cell_type": "code",
   "execution_count": 38,
   "metadata": {},
   "outputs": [
    {
     "name": "stdout",
     "output_type": "stream",
     "text": [
      "Bool[1 1 1 1; 1 1 1 1]\n"
     ]
    },
    {
     "data": {
      "text/plain": [
       "BitMatrix\u001b[90m (alias for \u001b[39m\u001b[90mBitArray{2}\u001b[39m\u001b[90m)\u001b[39m"
      ]
     },
     "execution_count": 38,
     "metadata": {},
     "output_type": "execute_result"
    }
   ],
   "source": [
    "var = trues(2, 4)\n",
    "println(var)\n",
    "typeof(var)"
   ]
  },
  {
   "cell_type": "code",
   "execution_count": 39,
   "metadata": {},
   "outputs": [
    {
     "data": {
      "text/latex": [
       "Creates a \\texttt{BitArray} with all values set to \\texttt{false}\n",
       "\n"
      ],
      "text/markdown": [
       "Creates a `BitArray` with all values set to `false`\n"
      ],
      "text/plain": [
       "  Creates a \u001b[36mBitArray\u001b[39m with all values set to \u001b[36mfalse\u001b[39m"
      ]
     },
     "execution_count": 39,
     "metadata": {},
     "output_type": "execute_result"
    }
   ],
   "source": [
    "md\"Creates a `BitArray` with all values set to `false`\""
   ]
  },
  {
   "cell_type": "code",
   "execution_count": 40,
   "metadata": {},
   "outputs": [
    {
     "name": "stdout",
     "output_type": "stream",
     "text": [
      "Bool[0 0 0 0; 0 0 0 0]\n"
     ]
    },
    {
     "data": {
      "text/plain": [
       "BitMatrix\u001b[90m (alias for \u001b[39m\u001b[90mBitArray{2}\u001b[39m\u001b[90m)\u001b[39m"
      ]
     },
     "execution_count": 40,
     "metadata": {},
     "output_type": "execute_result"
    }
   ],
   "source": [
    "var = falses(2, 4)\n",
    "println(var)\n",
    "typeof(var)"
   ]
  },
  {
   "cell_type": "code",
   "execution_count": 41,
   "metadata": {},
   "outputs": [
    {
     "data": {
      "text/latex": [
       "\\textbf{Comprehension}\n",
       "\n"
      ],
      "text/markdown": [
       "**Comprehension**\n"
      ],
      "text/plain": [
       "  \u001b[1mComprehension\u001b[22m"
      ]
     },
     "execution_count": 41,
     "metadata": {},
     "output_type": "execute_result"
    }
   ],
   "source": [
    "md\"**Comprehension**\""
   ]
  },
  {
   "cell_type": "code",
   "execution_count": 42,
   "metadata": {},
   "outputs": [
    {
     "name": "stdout",
     "output_type": "stream",
     "text": [
      "H\n",
      "e\n",
      "l\n",
      "l\n",
      "o\n",
      " \n",
      "J\n",
      "u\n",
      "l\n",
      "i\n",
      "a\n"
     ]
    }
   ],
   "source": [
    "str = \"Hello Julia\"\n",
    "[println(el) for el in str];"
   ]
  },
  {
   "cell_type": "markdown",
   "metadata": {},
   "source": [
    "### Calling Functions\n",
    "Call functions to obtain multiple outputs."
   ]
  },
  {
   "cell_type": "code",
   "execution_count": 43,
   "metadata": {},
   "outputs": [
    {
     "data": {
      "text/latex": [
       "\\href{https://docs.julialang.org/en/v1/manual/functions/}{Functions in ${\\tt Julia}$}\n",
       "\n"
      ],
      "text/markdown": [
       "[Functions in ${\\tt Julia}$](https://docs.julialang.org/en/v1/manual/functions/)\n"
      ],
      "text/plain": [
       "  Functions in \u001b[35m{\\tt Julia}\u001b[39m\n",
       "  (https://docs.julialang.org/en/v1/manual/functions/)"
      ]
     },
     "execution_count": 43,
     "metadata": {},
     "output_type": "execute_result"
    }
   ],
   "source": [
    "md\"\"\"\n",
    "[Functions in ${\\tt Julia}$](https://docs.julialang.org/en/v1/manual/functions/)\n",
    "\"\"\""
   ]
  },
  {
   "cell_type": "code",
   "execution_count": 44,
   "metadata": {},
   "outputs": [
    {
     "data": {
      "text/latex": [
       "\\textbf{Spreading Arguments}\n",
       "\n"
      ],
      "text/markdown": [
       "**Spreading Arguments**\n"
      ],
      "text/plain": [
       "  \u001b[1mSpreading Arguments\u001b[22m"
      ]
     },
     "execution_count": 44,
     "metadata": {},
     "output_type": "execute_result"
    }
   ],
   "source": [
    "md\"**Spreading Arguments**\""
   ]
  },
  {
   "cell_type": "markdown",
   "metadata": {},
   "source": [
    "_Optional positional arguments_"
   ]
  },
  {
   "cell_type": "code",
   "execution_count": 45,
   "metadata": {},
   "outputs": [
    {
     "data": {
      "text/plain": [
       "foo (generic function with 4 methods)"
      ]
     },
     "execution_count": 45,
     "metadata": {},
     "output_type": "execute_result"
    }
   ],
   "source": [
    "foo(x=0, y=0, z=0) = x+y+z"
   ]
  },
  {
   "cell_type": "code",
   "execution_count": 46,
   "metadata": {},
   "outputs": [
    {
     "data": {
      "text/plain": [
       "(0, 6)"
      ]
     },
     "execution_count": 46,
     "metadata": {},
     "output_type": "execute_result"
    }
   ],
   "source": [
    "foo(), foo(1, 2, 3)"
   ]
  },
  {
   "cell_type": "code",
   "execution_count": 47,
   "metadata": {},
   "outputs": [
    {
     "data": {
      "text/plain": [
       "6"
      ]
     },
     "execution_count": 47,
     "metadata": {},
     "output_type": "execute_result"
    }
   ],
   "source": [
    "foo([1, 2, 3]...) # Splat `...` operator"
   ]
  },
  {
   "cell_type": "markdown",
   "metadata": {},
   "source": [
    "_Keywords arguments_"
   ]
  },
  {
   "cell_type": "code",
   "execution_count": 48,
   "metadata": {},
   "outputs": [
    {
     "data": {
      "text/plain": [
       "bar (generic function with 1 method)"
      ]
     },
     "execution_count": 48,
     "metadata": {},
     "output_type": "execute_result"
    }
   ],
   "source": [
    "bar(; a::Real=0, b::Real=0, c::Real=0) = a+b+c"
   ]
  },
  {
   "cell_type": "code",
   "execution_count": 49,
   "metadata": {},
   "outputs": [
    {
     "data": {
      "text/plain": [
       "0"
      ]
     },
     "execution_count": 49,
     "metadata": {},
     "output_type": "execute_result"
    }
   ],
   "source": [
    "bar()"
   ]
  },
  {
   "cell_type": "code",
   "execution_count": 50,
   "metadata": {},
   "outputs": [
    {
     "data": {
      "text/plain": [
       "7.2"
      ]
     },
     "execution_count": 50,
     "metadata": {},
     "output_type": "execute_result"
    }
   ],
   "source": [
    "bar(; Dict(:a => 3, :b => 5.4, :c => -1.2)... ) # ; kwargs..."
   ]
  },
  {
   "cell_type": "code",
   "execution_count": 51,
   "metadata": {},
   "outputs": [
    {
     "name": "stdout",
     "output_type": "stream",
     "text": [
      "MethodError(bar, (1, 2, 3), 0x0000000000007ecc)\n"
     ]
    }
   ],
   "source": [
    "# THROW AN ERROR \n",
    "try bar([1, 2, 3]...)\n",
    "catch error\n",
    "    println(error)\n",
    "end"
   ]
  },
  {
   "cell_type": "code",
   "execution_count": 52,
   "metadata": {},
   "outputs": [
    {
     "data": {
      "text/latex": [
       "\\textbf{Multiple Dispatch}\n",
       "\n"
      ],
      "text/markdown": [
       "**Multiple Dispatch**\n"
      ],
      "text/plain": [
       "  \u001b[1mMultiple Dispatch\u001b[22m"
      ]
     },
     "execution_count": 52,
     "metadata": {},
     "output_type": "execute_result"
    }
   ],
   "source": [
    "md\"**Multiple Dispatch**\""
   ]
  },
  {
   "cell_type": "code",
   "execution_count": 53,
   "metadata": {},
   "outputs": [
    {
     "data": {
      "text/plain": [
       "f (generic function with 1 method)"
      ]
     },
     "execution_count": 53,
     "metadata": {},
     "output_type": "execute_result"
    }
   ],
   "source": [
    "# 1st method signature\n",
    "function f(x::Int)\n",
    "    x^2\n",
    "end"
   ]
  },
  {
   "cell_type": "code",
   "execution_count": 54,
   "metadata": {},
   "outputs": [
    {
     "data": {
      "text/plain": [
       "f (generic function with 2 methods)"
      ]
     },
     "execution_count": 54,
     "metadata": {},
     "output_type": "execute_result"
    }
   ],
   "source": [
    "# 2nd method signature\n",
    "f(x::Float64) = x^2+1"
   ]
  },
  {
   "cell_type": "code",
   "execution_count": 55,
   "metadata": {},
   "outputs": [
    {
     "data": {
      "text/plain": [
       "f (generic function with 4 methods)"
      ]
     },
     "execution_count": 55,
     "metadata": {},
     "output_type": "execute_result"
    }
   ],
   "source": [
    "# 3rd method signature\n",
    "f(x::Char) = x*'y'*'z'\n",
    "# 4th mehod signature\n",
    "f(x::String) = x*x "
   ]
  },
  {
   "cell_type": "code",
   "execution_count": 56,
   "metadata": {},
   "outputs": [
    {
     "data": {
      "text/html": [
       "# 4 methods for generic function <b>f</b>:<ul><li> f(x::<b>Int64</b>) in Main at In[53]:2</li> <li> f(x::<b>Float64</b>) in Main at In[54]:2</li> <li> f(x::<b>Char</b>) in Main at In[55]:2</li> <li> f(x::<b>String</b>) in Main at In[55]:4</li> </ul>"
      ],
      "text/plain": [
       "# 4 methods for generic function \"f\":\n",
       "[1] f(x::Int64) in Main at In[53]:2\n",
       "[2] f(x::Float64) in Main at In[54]:2\n",
       "[3] f(x::Char) in Main at In[55]:2\n",
       "[4] f(x::String) in Main at In[55]:4"
      ]
     },
     "execution_count": 56,
     "metadata": {},
     "output_type": "execute_result"
    }
   ],
   "source": [
    "methods(f)"
   ]
  },
  {
   "cell_type": "code",
   "execution_count": 57,
   "metadata": {},
   "outputs": [
    {
     "data": {
      "text/plain": [
       "(1, 2.0, \"xyz\", \"abcabc\")"
      ]
     },
     "execution_count": 57,
     "metadata": {},
     "output_type": "execute_result"
    }
   ],
   "source": [
    "f(1), f(1.), f('x'), f(\"abc\")"
   ]
  },
  {
   "cell_type": "code",
   "execution_count": 58,
   "metadata": {},
   "outputs": [
    {
     "data": {
      "text/plain": [
       "mycos (generic function with 2 methods)"
      ]
     },
     "execution_count": 58,
     "metadata": {},
     "output_type": "execute_result"
    }
   ],
   "source": [
    "mycos(x) = cos(x)\n",
    "mycos(adj, hyp) = adj/hyp # Extension to `mycos` function"
   ]
  },
  {
   "cell_type": "code",
   "execution_count": 59,
   "metadata": {
    "scrolled": true
   },
   "outputs": [
    {
     "data": {
      "text/html": [
       "# 2 methods for generic function <b>mycos</b>:<ul><li> mycos(x) in Main at In[58]:1</li> <li> mycos(adj, hyp) in Main at In[58]:2</li> </ul>"
      ],
      "text/plain": [
       "# 2 methods for generic function \"mycos\":\n",
       "[1] mycos(x) in Main at In[58]:1\n",
       "[2] mycos(adj, hyp) in Main at In[58]:2"
      ]
     },
     "execution_count": 59,
     "metadata": {},
     "output_type": "execute_result"
    }
   ],
   "source": [
    "methods(mycos)"
   ]
  },
  {
   "cell_type": "code",
   "execution_count": 60,
   "metadata": {
    "scrolled": true
   },
   "outputs": [
    {
     "data": {
      "text/html": [
       "mycos(x) in Main at In[58]:1"
      ],
      "text/plain": [
       "mycos(x) in Main at In[58]:1"
      ]
     },
     "execution_count": 60,
     "metadata": {},
     "output_type": "execute_result"
    }
   ],
   "source": [
    "@which mycos(π)"
   ]
  },
  {
   "cell_type": "code",
   "execution_count": 61,
   "metadata": {
    "scrolled": true
   },
   "outputs": [
    {
     "data": {
      "text/html": [
       "mycos(adj, hyp) in Main at In[58]:2"
      ],
      "text/plain": [
       "mycos(adj, hyp) in Main at In[58]:2"
      ]
     },
     "execution_count": 61,
     "metadata": {},
     "output_type": "execute_result"
    }
   ],
   "source": [
    "@which mycos(5, 3)"
   ]
  },
  {
   "cell_type": "code",
   "execution_count": 62,
   "metadata": {},
   "outputs": [
    {
     "data": {
      "text/plain": [
       "mycos (generic function with 2 methods)"
      ]
     },
     "execution_count": 62,
     "metadata": {},
     "output_type": "execute_result"
    }
   ],
   "source": [
    "mycos(adj, hyp=10) = adj/hyp"
   ]
  },
  {
   "cell_type": "code",
   "execution_count": 63,
   "metadata": {},
   "outputs": [
    {
     "data": {
      "text/html": [
       "mycos(adj) in Main at In[62]:1"
      ],
      "text/plain": [
       "mycos(adj) in Main at In[62]:1"
      ]
     },
     "execution_count": 63,
     "metadata": {},
     "output_type": "execute_result"
    }
   ],
   "source": [
    "@which mycos(π)"
   ]
  },
  {
   "cell_type": "markdown",
   "metadata": {},
   "source": [
    "**Function Chaining** applies a function to the preceding argument."
   ]
  },
  {
   "cell_type": "code",
   "execution_count": 64,
   "metadata": {},
   "outputs": [
    {
     "data": {
      "text/plain": [
       "9"
      ]
     },
     "execution_count": 64,
     "metadata": {},
     "output_type": "execute_result"
    }
   ],
   "source": [
    "g(x) = x+1\n",
    "h(x) = x^2\n",
    "x = 2 |> g |> h"
   ]
  },
  {
   "cell_type": "code",
   "execution_count": 65,
   "metadata": {},
   "outputs": [
    {
     "data": {
      "text/latex": [
       "Another pssible way is t use \\texttt{∘}\\emph{{\\textbackslash}circ\\{tab\\}} symbol\n",
       "\n"
      ],
      "text/markdown": [
       "Another pssible way is t use `∘`*\\circ{tab}* symbol\n"
      ],
      "text/plain": [
       "  Another pssible way is t use \u001b[36m∘\u001b[39m\u001b[4m\\circ{tab}\u001b[24m symbol"
      ]
     },
     "execution_count": 65,
     "metadata": {},
     "output_type": "execute_result"
    }
   ],
   "source": [
    "md\"Another pssible way is t use `∘`_\\circ{tab}_ symbol\""
   ]
  },
  {
   "cell_type": "code",
   "execution_count": 66,
   "metadata": {},
   "outputs": [
    {
     "data": {
      "text/plain": [
       "9"
      ]
     },
     "execution_count": 66,
     "metadata": {},
     "output_type": "execute_result"
    }
   ],
   "source": [
    "(h∘g)(2)"
   ]
  },
  {
   "cell_type": "code",
   "execution_count": 67,
   "metadata": {},
   "outputs": [
    {
     "data": {
      "text/latex": [
       "Definition of a function can be done on the fly\n",
       "\n"
      ],
      "text/markdown": [
       "Definition of a function can be done on the fly\n"
      ],
      "text/plain": [
       "  Definition of a function can be done on the fly"
      ]
     },
     "execution_count": 67,
     "metadata": {},
     "output_type": "execute_result"
    }
   ],
   "source": [
    "md\"Definition of a function can be done on the fly\""
   ]
  },
  {
   "cell_type": "code",
   "execution_count": 68,
   "metadata": {},
   "outputs": [
    {
     "data": {
      "text/plain": [
       "5.0"
      ]
     },
     "execution_count": 68,
     "metadata": {},
     "output_type": "execute_result"
    }
   ],
   "source": [
    "y = 5 |> (x->x^2) |> √"
   ]
  },
  {
   "cell_type": "code",
   "execution_count": 69,
   "metadata": {},
   "outputs": [
    {
     "data": {
      "text/latex": [
       "\\textbf{Metaprogramming:} Code is optimized by nature in ${\\tt Julia}$\n",
       "\n"
      ],
      "text/markdown": [
       "**Metaprogramming:** Code is optimized by nature in ${\\tt Julia}$\n"
      ],
      "text/plain": [
       "  \u001b[1mMetaprogramming:\u001b[22m Code is optimized by nature in \u001b[35m{\\tt Julia}\u001b[39m"
      ]
     },
     "execution_count": 69,
     "metadata": {},
     "output_type": "execute_result"
    }
   ],
   "source": [
    "md\"\"\"\n",
    "**Metaprogramming:** Code is optimized by nature in ${\\tt Julia}$\n",
    "\"\"\""
   ]
  },
  {
   "cell_type": "code",
   "execution_count": 70,
   "metadata": {},
   "outputs": [
    {
     "data": {
      "text/plain": [
       "Foo (generic function with 1 method)"
      ]
     },
     "execution_count": 70,
     "metadata": {},
     "output_type": "execute_result"
    }
   ],
   "source": [
    "function Foo(x::Integer)\n",
    "    y = x\n",
    "    for i=1:100\n",
    "        y += i^2\n",
    "    end\n",
    "    return y\n",
    "end"
   ]
  },
  {
   "cell_type": "code",
   "execution_count": 71,
   "metadata": {},
   "outputs": [
    {
     "name": "stdout",
     "output_type": "stream",
     "text": [
      "\u001b[90m;  @ In[70]:1 within `Foo`\u001b[39m\n",
      "\u001b[95mdefine\u001b[39m \u001b[36mi64\u001b[39m \u001b[93m@julia_Foo_4993\u001b[39m\u001b[33m(\u001b[39m\u001b[36mi64\u001b[39m \u001b[95msignext\u001b[39m \u001b[0m%0\u001b[33m)\u001b[39m \u001b[0m#0 \u001b[33m{\u001b[39m\n",
      "\u001b[91mtop:\u001b[39m\n",
      "\u001b[90m;  @ In[70]:3 within `Foo`\u001b[39m\n",
      "  \u001b[0m%1 \u001b[0m= \u001b[96m\u001b[1madd\u001b[22m\u001b[39m \u001b[36mi64\u001b[39m \u001b[0m%0\u001b[0m, \u001b[33m338350\u001b[39m\n",
      "\u001b[90m;  @ In[70]:6 within `Foo`\u001b[39m\n",
      "  \u001b[96m\u001b[1mret\u001b[22m\u001b[39m \u001b[36mi64\u001b[39m \u001b[0m%1\n",
      "\u001b[33m}\u001b[39m\n"
     ]
    }
   ],
   "source": [
    "@code_llvm Foo(3)"
   ]
  },
  {
   "cell_type": "code",
   "execution_count": 72,
   "metadata": {},
   "outputs": [
    {
     "data": {
      "text/latex": [
       "\\begin{verbatim}\n",
       "@code_llvm\n",
       "\\end{verbatim}\n",
       "Evaluates the arguments to the function or macro call, determines their types, and calls \\href{@ref}{\\texttt{code\\_llvm}} on the resulting expression. Set the optional keyword arguments \\texttt{raw}, \\texttt{dump\\_module}, \\texttt{debuginfo}, \\texttt{optimize} by putting them and their value before the function call, like this:\n",
       "\n",
       "\\begin{verbatim}\n",
       "@code_llvm raw=true dump_module=true debuginfo=:default f(x)\n",
       "@code_llvm optimize=false f(x)\n",
       "\\end{verbatim}\n",
       "\\texttt{optimize} controls whether additional optimizations, such as inlining, are also applied. \\texttt{raw} makes all metadata and dbg.* calls visible. \\texttt{debuginfo} may be one of \\texttt{:source} (default) or \\texttt{:none},  to specify the verbosity of code comments. \\texttt{dump\\_module} prints the entire module that encapsulates the function.\n",
       "\n"
      ],
      "text/markdown": [
       "```\n",
       "@code_llvm\n",
       "```\n",
       "\n",
       "Evaluates the arguments to the function or macro call, determines their types, and calls [`code_llvm`](@ref) on the resulting expression. Set the optional keyword arguments `raw`, `dump_module`, `debuginfo`, `optimize` by putting them and their value before the function call, like this:\n",
       "\n",
       "```\n",
       "@code_llvm raw=true dump_module=true debuginfo=:default f(x)\n",
       "@code_llvm optimize=false f(x)\n",
       "```\n",
       "\n",
       "`optimize` controls whether additional optimizations, such as inlining, are also applied. `raw` makes all metadata and dbg.* calls visible. `debuginfo` may be one of `:source` (default) or `:none`,  to specify the verbosity of code comments. `dump_module` prints the entire module that encapsulates the function.\n"
      ],
      "text/plain": [
       "  \u001b[38;2;102;217;239m@\u001b[0m\u001b[38;2;102;217;239mcode_llvm\u001b[0m\u001b[39m\u001b[0m\n",
       "\n",
       "\n",
       "  Evaluates the arguments to the function or macro call, determines their\n",
       "  types, and calls \u001b[36mcode_llvm\u001b[39m on the resulting expression. Set the optional\n",
       "  keyword arguments \u001b[36mraw\u001b[39m, \u001b[36mdump_module\u001b[39m, \u001b[36mdebuginfo\u001b[39m, \u001b[36moptimize\u001b[39m by putting them and\n",
       "  their value before the function call, like this:\n",
       "\n",
       "  \u001b[38;2;102;217;239m@\u001b[0m\u001b[38;2;102;217;239mcode_llvm\u001b[0m \u001b[0m\u001b[39mraw\u001b[0m\u001b[38;2;249;38;114m=\u001b[0m\u001b[38;2;249;38;114mtrue\u001b[0m \u001b[0m\u001b[39mdump_module\u001b[0m\u001b[38;2;249;38;114m=\u001b[0m\u001b[38;2;249;38;114mtrue\u001b[0m \u001b[0m\u001b[39mdebuginfo\u001b[0m\u001b[38;2;249;38;114m=\u001b[0m\u001b[38;2;174;129;255m:\u001b[0m\u001b[38;2;174;129;255mdefault\u001b[0m \u001b[0m\u001b[38;2;102;217;239mf\u001b[0m(\u001b[0m\u001b[39mx\u001b[0m\u001b[39m)\u001b[0m\n",
       "  \u001b[0m\u001b[38;2;102;217;239m@\u001b[0m\u001b[38;2;102;217;239mcode_llvm\u001b[0m \u001b[0m\u001b[39moptimize\u001b[0m\u001b[38;2;249;38;114m=\u001b[0m\u001b[38;2;249;38;114mfalse\u001b[0m \u001b[0m\u001b[38;2;102;217;239mf\u001b[0m(\u001b[0m\u001b[39mx\u001b[0m\u001b[39m)\u001b[0m\u001b[39m\u001b[0m\n",
       "\n",
       "\n",
       "  \u001b[36moptimize\u001b[39m controls whether additional optimizations, such as inlining, are\n",
       "  also applied. \u001b[36mraw\u001b[39m makes all metadata and dbg.* calls visible. \u001b[36mdebuginfo\u001b[39m may\n",
       "  be one of \u001b[36m:source\u001b[39m (default) or \u001b[36m:none\u001b[39m, to specify the verbosity of code\n",
       "  comments. \u001b[36mdump_module\u001b[39m prints the entire module that encapsulates the\n",
       "  function."
      ]
     },
     "execution_count": 72,
     "metadata": {},
     "output_type": "execute_result"
    }
   ],
   "source": [
    "?@code_llvm"
   ]
  },
  {
   "cell_type": "markdown",
   "metadata": {},
   "source": [
    "### Plotting Data\n",
    "Visualize variables using ${\\tt Julia}$'s plotting functions."
   ]
  },
  {
   "cell_type": "code",
   "execution_count": 73,
   "metadata": {},
   "outputs": [
    {
     "name": "stderr",
     "output_type": "stream",
     "text": [
      "\u001b[32m\u001b[1m   Resolving\u001b[22m\u001b[39m package versions...\n",
      "\u001b[32m\u001b[1m  No Changes\u001b[22m\u001b[39m to `~/MEGA/git-repos/cosnip/Julia/Project.toml`\n",
      "\u001b[32m\u001b[1m  No Changes\u001b[22m\u001b[39m to `~/MEGA/git-repos/cosnip/Julia/Manifest.toml`\n"
     ]
    }
   ],
   "source": [
    "]add Plots"
   ]
  },
  {
   "cell_type": "code",
   "execution_count": 74,
   "metadata": {},
   "outputs": [
    {
     "name": "stderr",
     "output_type": "stream",
     "text": [
      "WARNING: using Plots.bar in module Main conflicts with an existing identifier.\n"
     ]
    }
   ],
   "source": [
    "using Plots # GR is the default backend"
   ]
  },
  {
   "cell_type": "code",
   "execution_count": 75,
   "metadata": {},
   "outputs": [
    {
     "data": {
      "image/svg+xml": [
       "<?xml version=\"1.0\" encoding=\"utf-8\"?>\n",
       "<svg xmlns=\"http://www.w3.org/2000/svg\" xmlns:xlink=\"http://www.w3.org/1999/xlink\" width=\"600\" height=\"400\" viewBox=\"0 0 2400 1600\">\n",
       "<defs>\n",
       "  <clipPath id=\"clip630\">\n",
       "    <rect x=\"0\" y=\"0\" width=\"2400\" height=\"1600\"/>\n",
       "  </clipPath>\n",
       "</defs>\n",
       "<path clip-path=\"url(#clip630)\" d=\"\n",
       "M0 1600 L2400 1600 L2400 0 L0 0  Z\n",
       "  \" fill=\"#282a36\" fill-rule=\"evenodd\" fill-opacity=\"1\"/>\n",
       "<defs>\n",
       "  <clipPath id=\"clip631\">\n",
       "    <rect x=\"480\" y=\"0\" width=\"1681\" height=\"1600\"/>\n",
       "  </clipPath>\n",
       "</defs>\n",
       "<path clip-path=\"url(#clip630)\" d=\"\n",
       "M193.936 1486.45 L2352.76 1486.45 L2352.76 47.2441 L193.936 47.2441  Z\n",
       "  \" fill=\"#30343b\" fill-rule=\"evenodd\" fill-opacity=\"1\"/>\n",
       "<defs>\n",
       "  <clipPath id=\"clip632\">\n",
       "    <rect x=\"193\" y=\"47\" width=\"2160\" height=\"1440\"/>\n",
       "  </clipPath>\n",
       "</defs>\n",
       "<polyline clip-path=\"url(#clip632)\" style=\"stroke:#f8f8f2; stroke-linecap:round; stroke-linejoin:round; stroke-width:2; stroke-opacity:0.1; fill:none\" points=\"\n",
       "  481.326,1486.45 481.326,47.2441 \n",
       "  \"/>\n",
       "<polyline clip-path=\"url(#clip632)\" style=\"stroke:#f8f8f2; stroke-linecap:round; stroke-linejoin:round; stroke-width:2; stroke-opacity:0.1; fill:none\" points=\"\n",
       "  933.909,1486.45 933.909,47.2441 \n",
       "  \"/>\n",
       "<polyline clip-path=\"url(#clip632)\" style=\"stroke:#f8f8f2; stroke-linecap:round; stroke-linejoin:round; stroke-width:2; stroke-opacity:0.1; fill:none\" points=\"\n",
       "  1386.49,1486.45 1386.49,47.2441 \n",
       "  \"/>\n",
       "<polyline clip-path=\"url(#clip632)\" style=\"stroke:#f8f8f2; stroke-linecap:round; stroke-linejoin:round; stroke-width:2; stroke-opacity:0.1; fill:none\" points=\"\n",
       "  1839.07,1486.45 1839.07,47.2441 \n",
       "  \"/>\n",
       "<polyline clip-path=\"url(#clip632)\" style=\"stroke:#f8f8f2; stroke-linecap:round; stroke-linejoin:round; stroke-width:2; stroke-opacity:0.1; fill:none\" points=\"\n",
       "  2291.66,1486.45 2291.66,47.2441 \n",
       "  \"/>\n",
       "<polyline clip-path=\"url(#clip630)\" style=\"stroke:#f8f8f2; stroke-linecap:round; stroke-linejoin:round; stroke-width:4; stroke-opacity:1; fill:none\" points=\"\n",
       "  193.936,1486.45 2352.76,1486.45 \n",
       "  \"/>\n",
       "<polyline clip-path=\"url(#clip630)\" style=\"stroke:#f8f8f2; stroke-linecap:round; stroke-linejoin:round; stroke-width:4; stroke-opacity:1; fill:none\" points=\"\n",
       "  481.326,1486.45 481.326,1467.55 \n",
       "  \"/>\n",
       "<polyline clip-path=\"url(#clip630)\" style=\"stroke:#f8f8f2; stroke-linecap:round; stroke-linejoin:round; stroke-width:4; stroke-opacity:1; fill:none\" points=\"\n",
       "  933.909,1486.45 933.909,1467.55 \n",
       "  \"/>\n",
       "<polyline clip-path=\"url(#clip630)\" style=\"stroke:#f8f8f2; stroke-linecap:round; stroke-linejoin:round; stroke-width:4; stroke-opacity:1; fill:none\" points=\"\n",
       "  1386.49,1486.45 1386.49,1467.55 \n",
       "  \"/>\n",
       "<polyline clip-path=\"url(#clip630)\" style=\"stroke:#f8f8f2; stroke-linecap:round; stroke-linejoin:round; stroke-width:4; stroke-opacity:1; fill:none\" points=\"\n",
       "  1839.07,1486.45 1839.07,1467.55 \n",
       "  \"/>\n",
       "<polyline clip-path=\"url(#clip630)\" style=\"stroke:#f8f8f2; stroke-linecap:round; stroke-linejoin:round; stroke-width:4; stroke-opacity:1; fill:none\" points=\"\n",
       "  2291.66,1486.45 2291.66,1467.55 \n",
       "  \"/>\n",
       "<path clip-path=\"url(#clip630)\" d=\"M475.979 1544.91 L492.298 1544.91 L492.298 1548.85 L470.354 1548.85 L470.354 1544.91 Q473.016 1542.16 477.599 1537.53 Q482.206 1532.88 483.386 1531.53 Q485.632 1529.01 486.511 1527.27 Q487.414 1525.51 487.414 1523.82 Q487.414 1521.07 485.47 1519.33 Q483.548 1517.6 480.446 1517.6 Q478.247 1517.6 475.794 1518.36 Q473.363 1519.13 470.585 1520.68 L470.585 1515.95 Q473.409 1514.82 475.863 1514.24 Q478.317 1513.66 480.354 1513.66 Q485.724 1513.66 488.919 1516.35 Q492.113 1519.03 492.113 1523.52 Q492.113 1525.65 491.303 1527.57 Q490.516 1529.47 488.409 1532.07 Q487.831 1532.74 484.729 1535.95 Q481.627 1539.15 475.979 1544.91 Z\" fill=\"#f8f8f2\" fill-rule=\"evenodd\" fill-opacity=\"1\" /><path clip-path=\"url(#clip630)\" d=\"M936.918 1518.36 L925.113 1536.81 L936.918 1536.81 L936.918 1518.36 M935.691 1514.29 L941.571 1514.29 L941.571 1536.81 L946.501 1536.81 L946.501 1540.7 L941.571 1540.7 L941.571 1548.85 L936.918 1548.85 L936.918 1540.7 L921.316 1540.7 L921.316 1536.19 L935.691 1514.29 Z\" fill=\"#f8f8f2\" fill-rule=\"evenodd\" fill-opacity=\"1\" /><path clip-path=\"url(#clip630)\" d=\"M1386.9 1529.7 Q1383.75 1529.7 1381.9 1531.86 Q1380.07 1534.01 1380.07 1537.76 Q1380.07 1541.49 1381.9 1543.66 Q1383.75 1545.82 1386.9 1545.82 Q1390.04 1545.82 1391.87 1543.66 Q1393.73 1541.49 1393.73 1537.76 Q1393.73 1534.01 1391.87 1531.86 Q1390.04 1529.7 1386.9 1529.7 M1396.18 1515.05 L1396.18 1519.31 Q1394.42 1518.48 1392.61 1518.04 Q1390.83 1517.6 1389.07 1517.6 Q1384.44 1517.6 1381.99 1520.72 Q1379.56 1523.85 1379.21 1530.17 Q1380.58 1528.15 1382.64 1527.09 Q1384.7 1526 1387.17 1526 Q1392.38 1526 1395.39 1529.17 Q1398.42 1532.32 1398.42 1537.76 Q1398.42 1543.08 1395.28 1546.3 Q1392.13 1549.52 1386.9 1549.52 Q1380.9 1549.52 1377.73 1544.94 Q1374.56 1540.33 1374.56 1531.6 Q1374.56 1523.41 1378.45 1518.55 Q1382.34 1513.66 1388.89 1513.66 Q1390.65 1513.66 1392.43 1514.01 Q1394.23 1514.36 1396.18 1515.05 Z\" fill=\"#f8f8f2\" fill-rule=\"evenodd\" fill-opacity=\"1\" /><path clip-path=\"url(#clip630)\" d=\"M1839.07 1532.44 Q1835.74 1532.44 1833.82 1534.22 Q1831.92 1536 1831.92 1539.13 Q1831.92 1542.25 1833.82 1544.03 Q1835.74 1545.82 1839.07 1545.82 Q1842.41 1545.82 1844.33 1544.03 Q1846.25 1542.23 1846.25 1539.13 Q1846.25 1536 1844.33 1534.22 Q1842.43 1532.44 1839.07 1532.44 M1834.4 1530.45 Q1831.39 1529.7 1829.7 1527.64 Q1828.03 1525.58 1828.03 1522.62 Q1828.03 1518.48 1830.97 1516.07 Q1833.94 1513.66 1839.07 1513.66 Q1844.24 1513.66 1847.18 1516.07 Q1850.12 1518.48 1850.12 1522.62 Q1850.12 1525.58 1848.43 1527.64 Q1846.76 1529.7 1843.77 1530.45 Q1847.15 1531.23 1849.03 1533.52 Q1850.93 1535.82 1850.93 1539.13 Q1850.93 1544.15 1847.85 1546.83 Q1844.79 1549.52 1839.07 1549.52 Q1833.36 1549.52 1830.28 1546.83 Q1827.22 1544.15 1827.22 1539.13 Q1827.22 1535.82 1829.12 1533.52 Q1831.02 1531.23 1834.4 1530.45 M1832.69 1523.06 Q1832.69 1525.75 1834.35 1527.25 Q1836.04 1528.76 1839.07 1528.76 Q1842.08 1528.76 1843.77 1527.25 Q1845.49 1525.75 1845.49 1523.06 Q1845.49 1520.38 1843.77 1518.87 Q1842.08 1517.37 1839.07 1517.37 Q1836.04 1517.37 1834.35 1518.87 Q1832.69 1520.38 1832.69 1523.06 Z\" fill=\"#f8f8f2\" fill-rule=\"evenodd\" fill-opacity=\"1\" /><path clip-path=\"url(#clip630)\" d=\"M2266.34 1544.91 L2273.98 1544.91 L2273.98 1518.55 L2265.67 1520.21 L2265.67 1515.95 L2273.94 1514.29 L2278.61 1514.29 L2278.61 1544.91 L2286.25 1544.91 L2286.25 1548.85 L2266.34 1548.85 L2266.34 1544.91 Z\" fill=\"#f8f8f2\" fill-rule=\"evenodd\" fill-opacity=\"1\" /><path clip-path=\"url(#clip630)\" d=\"M2305.7 1517.37 Q2302.09 1517.37 2300.26 1520.93 Q2298.45 1524.47 2298.45 1531.6 Q2298.45 1538.71 2300.26 1542.27 Q2302.09 1545.82 2305.7 1545.82 Q2309.33 1545.82 2311.14 1542.27 Q2312.96 1538.71 2312.96 1531.6 Q2312.96 1524.47 2311.14 1520.93 Q2309.33 1517.37 2305.7 1517.37 M2305.7 1513.66 Q2311.51 1513.66 2314.56 1518.27 Q2317.64 1522.85 2317.64 1531.6 Q2317.64 1540.33 2314.56 1544.94 Q2311.51 1549.52 2305.7 1549.52 Q2299.89 1549.52 2296.81 1544.94 Q2293.75 1540.33 2293.75 1531.6 Q2293.75 1522.85 2296.81 1518.27 Q2299.89 1513.66 2305.7 1513.66 Z\" fill=\"#f8f8f2\" fill-rule=\"evenodd\" fill-opacity=\"1\" /><polyline clip-path=\"url(#clip632)\" style=\"stroke:#f8f8f2; stroke-linecap:round; stroke-linejoin:round; stroke-width:2; stroke-opacity:0.1; fill:none\" points=\"\n",
       "  193.936,1445.77 2352.76,1445.77 \n",
       "  \"/>\n",
       "<polyline clip-path=\"url(#clip632)\" style=\"stroke:#f8f8f2; stroke-linecap:round; stroke-linejoin:round; stroke-width:2; stroke-opacity:0.1; fill:none\" points=\"\n",
       "  193.936,1106.3 2352.76,1106.3 \n",
       "  \"/>\n",
       "<polyline clip-path=\"url(#clip632)\" style=\"stroke:#f8f8f2; stroke-linecap:round; stroke-linejoin:round; stroke-width:2; stroke-opacity:0.1; fill:none\" points=\"\n",
       "  193.936,766.824 2352.76,766.824 \n",
       "  \"/>\n",
       "<polyline clip-path=\"url(#clip632)\" style=\"stroke:#f8f8f2; stroke-linecap:round; stroke-linejoin:round; stroke-width:2; stroke-opacity:0.1; fill:none\" points=\"\n",
       "  193.936,427.352 2352.76,427.352 \n",
       "  \"/>\n",
       "<polyline clip-path=\"url(#clip632)\" style=\"stroke:#f8f8f2; stroke-linecap:round; stroke-linejoin:round; stroke-width:2; stroke-opacity:0.1; fill:none\" points=\"\n",
       "  193.936,87.8803 2352.76,87.8803 \n",
       "  \"/>\n",
       "<polyline clip-path=\"url(#clip630)\" style=\"stroke:#f8f8f2; stroke-linecap:round; stroke-linejoin:round; stroke-width:4; stroke-opacity:1; fill:none\" points=\"\n",
       "  193.936,1486.45 193.936,47.2441 \n",
       "  \"/>\n",
       "<polyline clip-path=\"url(#clip630)\" style=\"stroke:#f8f8f2; stroke-linecap:round; stroke-linejoin:round; stroke-width:4; stroke-opacity:1; fill:none\" points=\"\n",
       "  193.936,1445.77 212.834,1445.77 \n",
       "  \"/>\n",
       "<polyline clip-path=\"url(#clip630)\" style=\"stroke:#f8f8f2; stroke-linecap:round; stroke-linejoin:round; stroke-width:4; stroke-opacity:1; fill:none\" points=\"\n",
       "  193.936,1106.3 212.834,1106.3 \n",
       "  \"/>\n",
       "<polyline clip-path=\"url(#clip630)\" style=\"stroke:#f8f8f2; stroke-linecap:round; stroke-linejoin:round; stroke-width:4; stroke-opacity:1; fill:none\" points=\"\n",
       "  193.936,766.824 212.834,766.824 \n",
       "  \"/>\n",
       "<polyline clip-path=\"url(#clip630)\" style=\"stroke:#f8f8f2; stroke-linecap:round; stroke-linejoin:round; stroke-width:4; stroke-opacity:1; fill:none\" points=\"\n",
       "  193.936,427.352 212.834,427.352 \n",
       "  \"/>\n",
       "<polyline clip-path=\"url(#clip630)\" style=\"stroke:#f8f8f2; stroke-linecap:round; stroke-linejoin:round; stroke-width:4; stroke-opacity:1; fill:none\" points=\"\n",
       "  193.936,87.8803 212.834,87.8803 \n",
       "  \"/>\n",
       "<path clip-path=\"url(#clip630)\" d=\"M50.9921 1446.22 L80.6679 1446.22 L80.6679 1450.15 L50.9921 1450.15 L50.9921 1446.22 Z\" fill=\"#f8f8f2\" fill-rule=\"evenodd\" fill-opacity=\"1\" /><path clip-path=\"url(#clip630)\" d=\"M91.5706 1459.11 L99.2095 1459.11 L99.2095 1432.75 L90.8993 1434.41 L90.8993 1430.15 L99.1632 1428.49 L103.839 1428.49 L103.839 1459.11 L111.478 1459.11 L111.478 1463.05 L91.5706 1463.05 L91.5706 1459.11 Z\" fill=\"#f8f8f2\" fill-rule=\"evenodd\" fill-opacity=\"1\" /><path clip-path=\"url(#clip630)\" d=\"M120.922 1457.17 L125.807 1457.17 L125.807 1463.05 L120.922 1463.05 L120.922 1457.17 Z\" fill=\"#f8f8f2\" fill-rule=\"evenodd\" fill-opacity=\"1\" /><path clip-path=\"url(#clip630)\" d=\"M145.992 1431.57 Q142.381 1431.57 140.552 1435.13 Q138.746 1438.67 138.746 1445.8 Q138.746 1452.91 140.552 1456.47 Q142.381 1460.02 145.992 1460.02 Q149.626 1460.02 151.431 1456.47 Q153.26 1452.91 153.26 1445.8 Q153.26 1438.67 151.431 1435.13 Q149.626 1431.57 145.992 1431.57 M145.992 1427.86 Q151.802 1427.86 154.857 1432.47 Q157.936 1437.05 157.936 1445.8 Q157.936 1454.53 154.857 1459.14 Q151.802 1463.72 145.992 1463.72 Q140.181 1463.72 137.103 1459.14 Q134.047 1454.53 134.047 1445.8 Q134.047 1437.05 137.103 1432.47 Q140.181 1427.86 145.992 1427.86 Z\" fill=\"#f8f8f2\" fill-rule=\"evenodd\" fill-opacity=\"1\" /><path clip-path=\"url(#clip630)\" d=\"M51.9875 1106.75 L81.6633 1106.75 L81.6633 1110.68 L51.9875 1110.68 L51.9875 1106.75 Z\" fill=\"#f8f8f2\" fill-rule=\"evenodd\" fill-opacity=\"1\" /><path clip-path=\"url(#clip630)\" d=\"M101.756 1092.09 Q98.1447 1092.09 96.316 1095.66 Q94.5104 1099.2 94.5104 1106.33 Q94.5104 1113.44 96.316 1117 Q98.1447 1120.54 101.756 1120.54 Q105.39 1120.54 107.196 1117 Q109.024 1113.44 109.024 1106.33 Q109.024 1099.2 107.196 1095.66 Q105.39 1092.09 101.756 1092.09 M101.756 1088.39 Q107.566 1088.39 110.621 1093 Q113.7 1097.58 113.7 1106.33 Q113.7 1115.06 110.621 1119.66 Q107.566 1124.25 101.756 1124.25 Q95.9456 1124.25 92.8669 1119.66 Q89.8114 1115.06 89.8114 1106.33 Q89.8114 1097.58 92.8669 1093 Q95.9456 1088.39 101.756 1088.39 Z\" fill=\"#f8f8f2\" fill-rule=\"evenodd\" fill-opacity=\"1\" /><path clip-path=\"url(#clip630)\" d=\"M121.918 1117.7 L126.802 1117.7 L126.802 1123.58 L121.918 1123.58 L121.918 1117.7 Z\" fill=\"#f8f8f2\" fill-rule=\"evenodd\" fill-opacity=\"1\" /><path clip-path=\"url(#clip630)\" d=\"M137.033 1089.02 L155.39 1089.02 L155.39 1092.95 L141.316 1092.95 L141.316 1101.42 Q142.334 1101.08 143.353 1100.91 Q144.371 1100.73 145.39 1100.73 Q151.177 1100.73 154.556 1103.9 Q157.936 1107.07 157.936 1112.49 Q157.936 1118.07 154.464 1121.17 Q150.992 1124.25 144.672 1124.25 Q142.496 1124.25 140.228 1123.88 Q137.982 1123.51 135.575 1122.77 L135.575 1118.07 Q137.658 1119.2 139.881 1119.76 Q142.103 1120.31 144.58 1120.31 Q148.584 1120.31 150.922 1118.21 Q153.26 1116.1 153.26 1112.49 Q153.26 1108.88 150.922 1106.77 Q148.584 1104.66 144.58 1104.66 Q142.705 1104.66 140.83 1105.08 Q138.978 1105.5 137.033 1106.38 L137.033 1089.02 Z\" fill=\"#f8f8f2\" fill-rule=\"evenodd\" fill-opacity=\"1\" /><path clip-path=\"url(#clip630)\" d=\"M100.76 752.623 Q97.1493 752.623 95.3206 756.188 Q93.515 759.729 93.515 766.859 Q93.515 773.965 95.3206 777.53 Q97.1493 781.072 100.76 781.072 Q104.395 781.072 106.2 777.53 Q108.029 773.965 108.029 766.859 Q108.029 759.729 106.2 756.188 Q104.395 752.623 100.76 752.623 M100.76 748.919 Q106.571 748.919 109.626 753.526 Q112.705 758.109 112.705 766.859 Q112.705 775.586 109.626 780.192 Q106.571 784.775 100.76 784.775 Q94.9502 784.775 91.8715 780.192 Q88.816 775.586 88.816 766.859 Q88.816 758.109 91.8715 753.526 Q94.9502 748.919 100.76 748.919 Z\" fill=\"#f8f8f2\" fill-rule=\"evenodd\" fill-opacity=\"1\" /><path clip-path=\"url(#clip630)\" d=\"M120.922 778.224 L125.807 778.224 L125.807 784.104 L120.922 784.104 L120.922 778.224 Z\" fill=\"#f8f8f2\" fill-rule=\"evenodd\" fill-opacity=\"1\" /><path clip-path=\"url(#clip630)\" d=\"M145.992 752.623 Q142.381 752.623 140.552 756.188 Q138.746 759.729 138.746 766.859 Q138.746 773.965 140.552 777.53 Q142.381 781.072 145.992 781.072 Q149.626 781.072 151.431 777.53 Q153.26 773.965 153.26 766.859 Q153.26 759.729 151.431 756.188 Q149.626 752.623 145.992 752.623 M145.992 748.919 Q151.802 748.919 154.857 753.526 Q157.936 758.109 157.936 766.859 Q157.936 775.586 154.857 780.192 Q151.802 784.775 145.992 784.775 Q140.181 784.775 137.103 780.192 Q134.047 775.586 134.047 766.859 Q134.047 758.109 137.103 753.526 Q140.181 748.919 145.992 748.919 Z\" fill=\"#f8f8f2\" fill-rule=\"evenodd\" fill-opacity=\"1\" /><path clip-path=\"url(#clip630)\" d=\"M101.756 413.151 Q98.1447 413.151 96.316 416.716 Q94.5104 420.257 94.5104 427.387 Q94.5104 434.493 96.316 438.058 Q98.1447 441.6 101.756 441.6 Q105.39 441.6 107.196 438.058 Q109.024 434.493 109.024 427.387 Q109.024 420.257 107.196 416.716 Q105.39 413.151 101.756 413.151 M101.756 409.447 Q107.566 409.447 110.621 414.054 Q113.7 418.637 113.7 427.387 Q113.7 436.114 110.621 440.72 Q107.566 445.303 101.756 445.303 Q95.9456 445.303 92.8669 440.72 Q89.8114 436.114 89.8114 427.387 Q89.8114 418.637 92.8669 414.054 Q95.9456 409.447 101.756 409.447 Z\" fill=\"#f8f8f2\" fill-rule=\"evenodd\" fill-opacity=\"1\" /><path clip-path=\"url(#clip630)\" d=\"M121.918 438.753 L126.802 438.753 L126.802 444.632 L121.918 444.632 L121.918 438.753 Z\" fill=\"#f8f8f2\" fill-rule=\"evenodd\" fill-opacity=\"1\" /><path clip-path=\"url(#clip630)\" d=\"M137.033 410.072 L155.39 410.072 L155.39 414.007 L141.316 414.007 L141.316 422.48 Q142.334 422.132 143.353 421.97 Q144.371 421.785 145.39 421.785 Q151.177 421.785 154.556 424.956 Q157.936 428.128 157.936 433.544 Q157.936 439.123 154.464 442.225 Q150.992 445.303 144.672 445.303 Q142.496 445.303 140.228 444.933 Q137.982 444.563 135.575 443.822 L135.575 439.123 Q137.658 440.257 139.881 440.813 Q142.103 441.368 144.58 441.368 Q148.584 441.368 150.922 439.262 Q153.26 437.155 153.26 433.544 Q153.26 429.933 150.922 427.827 Q148.584 425.72 144.58 425.72 Q142.705 425.72 140.83 426.137 Q138.978 426.554 137.033 427.433 L137.033 410.072 Z\" fill=\"#f8f8f2\" fill-rule=\"evenodd\" fill-opacity=\"1\" /><path clip-path=\"url(#clip630)\" d=\"M91.5706 101.225 L99.2095 101.225 L99.2095 74.8595 L90.8993 76.5262 L90.8993 72.267 L99.1632 70.6003 L103.839 70.6003 L103.839 101.225 L111.478 101.225 L111.478 105.16 L91.5706 105.16 L91.5706 101.225 Z\" fill=\"#f8f8f2\" fill-rule=\"evenodd\" fill-opacity=\"1\" /><path clip-path=\"url(#clip630)\" d=\"M120.922 99.2807 L125.807 99.2807 L125.807 105.16 L120.922 105.16 L120.922 99.2807 Z\" fill=\"#f8f8f2\" fill-rule=\"evenodd\" fill-opacity=\"1\" /><path clip-path=\"url(#clip630)\" d=\"M145.992 73.679 Q142.381 73.679 140.552 77.2438 Q138.746 80.7854 138.746 87.915 Q138.746 95.0215 140.552 98.5863 Q142.381 102.128 145.992 102.128 Q149.626 102.128 151.431 98.5863 Q153.26 95.0215 153.26 87.915 Q153.26 80.7854 151.431 77.2438 Q149.626 73.679 145.992 73.679 M145.992 69.9753 Q151.802 69.9753 154.857 74.5818 Q157.936 79.1651 157.936 87.915 Q157.936 96.6418 154.857 101.248 Q151.802 105.832 145.992 105.832 Q140.181 105.832 137.103 101.248 Q134.047 96.6418 134.047 87.915 Q134.047 79.1651 137.103 74.5818 Q140.181 69.9753 145.992 69.9753 Z\" fill=\"#f8f8f2\" fill-rule=\"evenodd\" fill-opacity=\"1\" /><polyline clip-path=\"url(#clip632)\" style=\"stroke:#8be9fd; stroke-linecap:round; stroke-linejoin:round; stroke-width:4; stroke-opacity:1; fill:none\" points=\"\n",
       "  255.035,195.513 277.664,161.744 300.293,134.022 322.922,112.622 345.551,97.7591 368.18,89.5811 390.81,88.1698 413.439,93.5394 436.068,105.636 458.697,124.34 \n",
       "  481.326,149.462 503.955,180.753 526.584,217.9 549.213,260.532 571.843,308.223 594.472,360.495 617.101,416.828 639.73,476.657 662.359,539.386 684.988,604.387 \n",
       "  707.617,671.011 730.247,738.593 752.876,806.457 775.505,873.925 798.134,940.322 820.763,1004.99 843.392,1067.27 866.021,1126.55 888.651,1182.24 911.28,1233.78 \n",
       "  933.909,1280.65 956.538,1322.39 979.167,1358.57 1001.8,1388.85 1024.43,1412.91 1047.05,1430.51 1069.68,1441.48 1092.31,1445.72 1114.94,1443.16 1137.57,1433.85 \n",
       "  1160.2,1417.88 1182.83,1395.4 1205.46,1366.64 1228.09,1331.89 1250.72,1291.49 1273.35,1245.85 1295.98,1195.42 1318.6,1140.71 1341.23,1082.26 1363.86,1020.67 \n",
       "  1386.49,956.531 1409.12,890.502 1431.75,823.237 1454.38,755.408 1477.01,687.694 1499.64,620.77 1522.27,555.305 1544.9,491.954 1567.52,431.349 1590.15,374.096 \n",
       "  1612.78,320.767 1635.41,271.895 1658.04,227.968 1680.67,189.425 1703.3,156.652 1725.93,129.975 1748.56,109.661 1771.19,95.9134 1793.82,88.8693 1816.45,88.5991 \n",
       "  1839.07,95.1055 1861.7,108.323 1884.33,128.121 1906.96,154.3 1929.59,186.599 1952.22,224.696 1974.85,268.21 1997.48,316.705 2020.11,369.698 2042.74,426.659 \n",
       "  2065.37,487.019 2087.99,550.174 2110.62,615.494 2133.25,682.326 2155.88,750.003 2178.51,817.847 2201.14,885.182 2223.77,951.334 2246.4,1015.64 2269.03,1077.47 \n",
       "  2291.66,1136.18 \n",
       "  \"/>\n",
       "<polyline clip-path=\"url(#clip632)\" style=\"stroke:#ff79c6; stroke-linecap:round; stroke-linejoin:round; stroke-width:4; stroke-opacity:1; fill:none\" points=\"\n",
       "  255.035,399.989 277.664,458.858 300.293,520.804 322.922,585.207 345.551,651.426 368.18,718.797 390.81,786.649 413.439,854.302 436.068,921.081 458.697,986.319 \n",
       "  481.326,1049.36 503.955,1109.59 526.584,1166.38 549.213,1219.19 571.843,1267.47 594.472,1310.76 617.101,1348.6 639.73,1380.64 662.359,1406.54 684.988,1426.05 \n",
       "  707.617,1438.97 730.247,1445.18 752.876,1444.61 775.505,1437.27 798.134,1423.23 820.763,1402.63 843.392,1375.67 866.021,1342.64 888.651,1303.85 911.28,1259.69 \n",
       "  933.909,1210.61 956.538,1157.1 979.167,1099.68 1001.8,1038.94 1024.43,975.486 1047.05,909.943 1069.68,842.969 1092.31,775.235 1114.94,707.417 1137.57,640.193 \n",
       "  1160.2,574.233 1182.83,510.198 1205.46,448.728 1228.09,390.435 1250.72,335.903 1273.35,285.677 1295.98,240.258 1318.6,200.101 1341.23,165.606 1363.86,137.118 \n",
       "  1386.49,114.922 1409.12,99.2401 1431.75,90.228 1454.38,87.9763 1477.01,92.5074 1499.64,103.776 1522.27,121.67 1544.9,146.009 1567.52,176.552 1590.15,212.993 \n",
       "  1612.78,254.967 1635.41,302.055 1658.04,353.788 1680.67,409.647 1703.3,469.075 1725.93,531.478 1748.56,596.233 1771.19,662.692 1793.82,730.191 1816.45,798.057 \n",
       "  1839.07,865.61 1861.7,932.177 1884.33,997.091 1906.96,1059.7 1929.59,1119.39 1952.22,1175.56 1974.85,1227.64 1997.48,1275.11 2020.11,1317.51 2042.74,1354.41 \n",
       "  2065.37,1385.43 2087.99,1410.27 2110.62,1428.69 2133.25,1440.49 2155.88,1445.56 2178.51,1443.85 2201.14,1435.37 2223.77,1420.22 2246.4,1398.53 2269.03,1370.53 \n",
       "  2291.66,1336.51 \n",
       "  \"/>\n",
       "<path clip-path=\"url(#clip630)\" d=\"\n",
       "M1926.79 250.738 L2280.8 250.738 L2280.8 95.2176 L1926.79 95.2176  Z\n",
       "  \" fill=\"#282a36\" fill-rule=\"evenodd\" fill-opacity=\"1\"/>\n",
       "<polyline clip-path=\"url(#clip630)\" style=\"stroke:#f8f8f2; stroke-linecap:round; stroke-linejoin:round; stroke-width:4; stroke-opacity:1; fill:none\" points=\"\n",
       "  1926.79,250.738 2280.8,250.738 2280.8,95.2176 1926.79,95.2176 1926.79,250.738 \n",
       "  \"/>\n",
       "<polyline clip-path=\"url(#clip630)\" style=\"stroke:#8be9fd; stroke-linecap:round; stroke-linejoin:round; stroke-width:4; stroke-opacity:1; fill:none\" points=\"\n",
       "  1950.78,147.058 2094.7,147.058 \n",
       "  \"/>\n",
       "<path clip-path=\"url(#clip630)\" d=\"M2137.11 139.176 L2137.11 143.203 Q2135.3 142.277 2133.36 141.815 Q2131.42 141.352 2129.33 141.352 Q2126.16 141.352 2124.56 142.324 Q2122.99 143.296 2122.99 145.24 Q2122.99 146.722 2124.12 147.578 Q2125.26 148.412 2128.68 149.176 L2130.14 149.5 Q2134.68 150.472 2136.58 152.254 Q2138.5 154.014 2138.5 157.185 Q2138.5 160.796 2135.63 162.902 Q2132.78 165.009 2127.78 165.009 Q2125.7 165.009 2123.43 164.592 Q2121.18 164.199 2118.68 163.388 L2118.68 158.99 Q2121.05 160.217 2123.34 160.842 Q2125.63 161.444 2127.87 161.444 Q2130.88 161.444 2132.5 160.426 Q2134.12 159.384 2134.12 157.509 Q2134.12 155.773 2132.94 154.847 Q2131.79 153.921 2127.83 153.064 L2126.35 152.717 Q2122.39 151.884 2120.63 150.171 Q2118.87 148.435 2118.87 145.426 Q2118.87 141.768 2121.46 139.778 Q2124.05 137.787 2128.82 137.787 Q2131.18 137.787 2133.27 138.134 Q2135.35 138.481 2137.11 139.176 Z\" fill=\"#f8f8f2\" fill-rule=\"evenodd\" fill-opacity=\"1\" /><path clip-path=\"url(#clip630)\" d=\"M2145.28 138.412 L2149.54 138.412 L2149.54 164.338 L2145.28 164.338 L2145.28 138.412 M2145.28 128.319 L2149.54 128.319 L2149.54 133.713 L2145.28 133.713 L2145.28 128.319 Z\" fill=\"#f8f8f2\" fill-rule=\"evenodd\" fill-opacity=\"1\" /><path clip-path=\"url(#clip630)\" d=\"M2180 148.689 L2180 164.338 L2175.74 164.338 L2175.74 148.828 Q2175.74 145.148 2174.31 143.319 Q2172.87 141.49 2170 141.49 Q2166.55 141.49 2164.56 143.69 Q2162.57 145.889 2162.57 149.685 L2162.57 164.338 L2158.29 164.338 L2158.29 138.412 L2162.57 138.412 L2162.57 142.44 Q2164.1 140.102 2166.16 138.944 Q2168.24 137.787 2170.95 137.787 Q2175.42 137.787 2177.71 140.565 Q2180 143.319 2180 148.689 Z\" fill=\"#f8f8f2\" fill-rule=\"evenodd\" fill-opacity=\"1\" /><path clip-path=\"url(#clip630)\" d=\"M2198.73 128.366 Q2195.63 133.69 2194.12 138.898 Q2192.62 144.106 2192.62 149.453 Q2192.62 154.801 2194.12 160.055 Q2195.65 165.287 2198.73 170.588 L2195.03 170.588 Q2191.55 165.148 2189.82 159.893 Q2188.11 154.639 2188.11 149.453 Q2188.11 144.291 2189.82 139.06 Q2191.53 133.828 2195.03 128.366 L2198.73 128.366 Z\" fill=\"#f8f8f2\" fill-rule=\"evenodd\" fill-opacity=\"1\" /><path clip-path=\"url(#clip630)\" d=\"M2228.54 138.412 L2219.17 151.027 L2229.03 164.338 L2224.01 164.338 L2216.46 154.152 L2208.92 164.338 L2203.89 164.338 L2213.96 150.773 L2204.75 138.412 L2209.77 138.412 L2216.65 147.648 L2223.52 138.412 L2228.54 138.412 Z\" fill=\"#f8f8f2\" fill-rule=\"evenodd\" fill-opacity=\"1\" /><path clip-path=\"url(#clip630)\" d=\"M2234.38 128.366 L2238.08 128.366 Q2241.55 133.828 2243.27 139.06 Q2245 144.291 2245 149.453 Q2245 154.639 2243.27 159.893 Q2241.55 165.148 2238.08 170.588 L2234.38 170.588 Q2237.46 165.287 2238.96 160.055 Q2240.49 154.801 2240.49 149.453 Q2240.49 144.106 2238.96 138.898 Q2237.46 133.69 2234.38 128.366 Z\" fill=\"#f8f8f2\" fill-rule=\"evenodd\" fill-opacity=\"1\" /><polyline clip-path=\"url(#clip630)\" style=\"stroke:#ff79c6; stroke-linecap:round; stroke-linejoin:round; stroke-width:4; stroke-opacity:1; fill:none\" points=\"\n",
       "  1950.78,198.898 2094.7,198.898 \n",
       "  \"/>\n",
       "<path clip-path=\"url(#clip630)\" d=\"M2139.19 191.247 L2139.19 195.229 Q2137.39 194.233 2135.56 193.747 Q2133.75 193.238 2131.9 193.238 Q2127.76 193.238 2125.47 195.877 Q2123.17 198.492 2123.17 203.238 Q2123.17 207.983 2125.47 210.622 Q2127.76 213.238 2131.9 213.238 Q2133.75 213.238 2135.56 212.752 Q2137.39 212.242 2139.19 211.247 L2139.19 215.182 Q2137.41 216.016 2135.49 216.432 Q2133.59 216.849 2131.44 216.849 Q2125.58 216.849 2122.13 213.168 Q2118.68 209.488 2118.68 203.238 Q2118.68 196.895 2122.16 193.261 Q2125.65 189.627 2131.72 189.627 Q2133.68 189.627 2135.56 190.043 Q2137.43 190.437 2139.19 191.247 Z\" fill=\"#f8f8f2\" fill-rule=\"evenodd\" fill-opacity=\"1\" /><path clip-path=\"url(#clip630)\" d=\"M2156.65 193.238 Q2153.22 193.238 2151.23 195.923 Q2149.24 198.585 2149.24 203.238 Q2149.24 207.891 2151.21 210.576 Q2153.2 213.238 2156.65 213.238 Q2160.05 213.238 2162.04 210.553 Q2164.03 207.867 2164.03 203.238 Q2164.03 198.631 2162.04 195.946 Q2160.05 193.238 2156.65 193.238 M2156.65 189.627 Q2162.2 189.627 2165.37 193.238 Q2168.54 196.849 2168.54 203.238 Q2168.54 209.604 2165.37 213.238 Q2162.2 216.849 2156.65 216.849 Q2151.07 216.849 2147.9 213.238 Q2144.75 209.604 2144.75 203.238 Q2144.75 196.849 2147.9 193.238 Q2151.07 189.627 2156.65 189.627 Z\" fill=\"#f8f8f2\" fill-rule=\"evenodd\" fill-opacity=\"1\" /><path clip-path=\"url(#clip630)\" d=\"M2192.13 191.016 L2192.13 195.043 Q2190.33 194.117 2188.38 193.655 Q2186.44 193.192 2184.36 193.192 Q2181.18 193.192 2179.59 194.164 Q2178.01 195.136 2178.01 197.08 Q2178.01 198.562 2179.15 199.418 Q2180.28 200.252 2183.71 201.016 L2185.17 201.34 Q2189.7 202.312 2191.6 204.094 Q2193.52 205.854 2193.52 209.025 Q2193.52 212.636 2190.65 214.742 Q2187.8 216.849 2182.8 216.849 Q2180.72 216.849 2178.45 216.432 Q2176.21 216.039 2173.71 215.228 L2173.71 210.83 Q2176.07 212.057 2178.36 212.682 Q2180.65 213.284 2182.9 213.284 Q2185.91 213.284 2187.53 212.266 Q2189.15 211.224 2189.15 209.349 Q2189.15 207.613 2187.97 206.687 Q2186.81 205.761 2182.85 204.904 L2181.37 204.557 Q2177.41 203.724 2175.65 202.011 Q2173.89 200.275 2173.89 197.266 Q2173.89 193.608 2176.48 191.618 Q2179.08 189.627 2183.85 189.627 Q2186.21 189.627 2188.29 189.974 Q2190.37 190.321 2192.13 191.016 Z\" fill=\"#f8f8f2\" fill-rule=\"evenodd\" fill-opacity=\"1\" /><path clip-path=\"url(#clip630)\" d=\"M2210.54 180.206 Q2207.43 185.53 2205.93 190.738 Q2204.42 195.946 2204.42 201.293 Q2204.42 206.641 2205.93 211.895 Q2207.46 217.127 2210.54 222.428 L2206.83 222.428 Q2203.36 216.988 2201.62 211.733 Q2199.91 206.479 2199.91 201.293 Q2199.91 196.131 2201.62 190.9 Q2203.34 185.668 2206.83 180.206 L2210.54 180.206 Z\" fill=\"#f8f8f2\" fill-rule=\"evenodd\" fill-opacity=\"1\" /><path clip-path=\"url(#clip630)\" d=\"M2240.35 190.252 L2230.98 202.867 L2240.84 216.178 L2235.81 216.178 L2228.27 205.992 L2220.72 216.178 L2215.7 216.178 L2225.77 202.613 L2216.55 190.252 L2221.58 190.252 L2228.45 199.488 L2235.33 190.252 L2240.35 190.252 Z\" fill=\"#f8f8f2\" fill-rule=\"evenodd\" fill-opacity=\"1\" /><path clip-path=\"url(#clip630)\" d=\"M2246.18 180.206 L2249.89 180.206 Q2253.36 185.668 2255.07 190.9 Q2256.81 196.131 2256.81 201.293 Q2256.81 206.479 2255.07 211.733 Q2253.36 216.988 2249.89 222.428 L2246.18 222.428 Q2249.26 217.127 2250.77 211.895 Q2252.29 206.641 2252.29 201.293 Q2252.29 195.946 2250.77 190.738 Q2249.26 185.53 2246.18 180.206 Z\" fill=\"#f8f8f2\" fill-rule=\"evenodd\" fill-opacity=\"1\" /></svg>\n"
      ]
     },
     "execution_count": 75,
     "metadata": {},
     "output_type": "execute_result"
    }
   ],
   "source": [
    "x = 1:.1:10\n",
    "y = sin.(x)\n",
    "z = cos.(x)\n",
    "\n",
    "plot(x, y, label=\"sin(x)\")\n",
    "plot!(x, z, label=\"cos(x)\") # Hold on the previous plot"
   ]
  },
  {
   "cell_type": "code",
   "execution_count": 76,
   "metadata": {},
   "outputs": [
    {
     "data": {
      "text/latex": [
       "\\textbf{Scatter Plot}\n",
       "\n"
      ],
      "text/markdown": [
       "**Scatter Plot**\n"
      ],
      "text/plain": [
       "  \u001b[1mScatter Plot\u001b[22m"
      ]
     },
     "execution_count": 76,
     "metadata": {},
     "output_type": "execute_result"
    }
   ],
   "source": [
    "md\"**Scatter Plot**\""
   ]
  },
  {
   "cell_type": "code",
   "execution_count": 77,
   "metadata": {},
   "outputs": [
    {
     "data": {
      "image/svg+xml": [
       "<?xml version=\"1.0\" encoding=\"utf-8\"?>\n",
       "<svg xmlns=\"http://www.w3.org/2000/svg\" xmlns:xlink=\"http://www.w3.org/1999/xlink\" width=\"600\" height=\"400\" viewBox=\"0 0 2400 1600\">\n",
       "<defs>\n",
       "  <clipPath id=\"clip670\">\n",
       "    <rect x=\"0\" y=\"0\" width=\"2400\" height=\"1600\"/>\n",
       "  </clipPath>\n",
       "</defs>\n",
       "<path clip-path=\"url(#clip670)\" d=\"\n",
       "M0 1600 L2400 1600 L2400 0 L0 0  Z\n",
       "  \" fill=\"#282a36\" fill-rule=\"evenodd\" fill-opacity=\"1\"/>\n",
       "<defs>\n",
       "  <clipPath id=\"clip671\">\n",
       "    <rect x=\"480\" y=\"0\" width=\"1681\" height=\"1600\"/>\n",
       "  </clipPath>\n",
       "</defs>\n",
       "<path clip-path=\"url(#clip670)\" d=\"\n",
       "M193.936 1486.45 L2352.76 1486.45 L2352.76 47.2441 L193.936 47.2441  Z\n",
       "  \" fill=\"#30343b\" fill-rule=\"evenodd\" fill-opacity=\"1\"/>\n",
       "<defs>\n",
       "  <clipPath id=\"clip672\">\n",
       "    <rect x=\"193\" y=\"47\" width=\"2160\" height=\"1440\"/>\n",
       "  </clipPath>\n",
       "</defs>\n",
       "<polyline clip-path=\"url(#clip672)\" style=\"stroke:#f8f8f2; stroke-linecap:round; stroke-linejoin:round; stroke-width:2; stroke-opacity:0.1; fill:none\" points=\"\n",
       "  481.326,1486.45 481.326,47.2441 \n",
       "  \"/>\n",
       "<polyline clip-path=\"url(#clip672)\" style=\"stroke:#f8f8f2; stroke-linecap:round; stroke-linejoin:round; stroke-width:2; stroke-opacity:0.1; fill:none\" points=\"\n",
       "  933.909,1486.45 933.909,47.2441 \n",
       "  \"/>\n",
       "<polyline clip-path=\"url(#clip672)\" style=\"stroke:#f8f8f2; stroke-linecap:round; stroke-linejoin:round; stroke-width:2; stroke-opacity:0.1; fill:none\" points=\"\n",
       "  1386.49,1486.45 1386.49,47.2441 \n",
       "  \"/>\n",
       "<polyline clip-path=\"url(#clip672)\" style=\"stroke:#f8f8f2; stroke-linecap:round; stroke-linejoin:round; stroke-width:2; stroke-opacity:0.1; fill:none\" points=\"\n",
       "  1839.07,1486.45 1839.07,47.2441 \n",
       "  \"/>\n",
       "<polyline clip-path=\"url(#clip672)\" style=\"stroke:#f8f8f2; stroke-linecap:round; stroke-linejoin:round; stroke-width:2; stroke-opacity:0.1; fill:none\" points=\"\n",
       "  2291.66,1486.45 2291.66,47.2441 \n",
       "  \"/>\n",
       "<polyline clip-path=\"url(#clip670)\" style=\"stroke:#f8f8f2; stroke-linecap:round; stroke-linejoin:round; stroke-width:4; stroke-opacity:1; fill:none\" points=\"\n",
       "  193.936,1486.45 2352.76,1486.45 \n",
       "  \"/>\n",
       "<polyline clip-path=\"url(#clip670)\" style=\"stroke:#f8f8f2; stroke-linecap:round; stroke-linejoin:round; stroke-width:4; stroke-opacity:1; fill:none\" points=\"\n",
       "  481.326,1486.45 481.326,1467.55 \n",
       "  \"/>\n",
       "<polyline clip-path=\"url(#clip670)\" style=\"stroke:#f8f8f2; stroke-linecap:round; stroke-linejoin:round; stroke-width:4; stroke-opacity:1; fill:none\" points=\"\n",
       "  933.909,1486.45 933.909,1467.55 \n",
       "  \"/>\n",
       "<polyline clip-path=\"url(#clip670)\" style=\"stroke:#f8f8f2; stroke-linecap:round; stroke-linejoin:round; stroke-width:4; stroke-opacity:1; fill:none\" points=\"\n",
       "  1386.49,1486.45 1386.49,1467.55 \n",
       "  \"/>\n",
       "<polyline clip-path=\"url(#clip670)\" style=\"stroke:#f8f8f2; stroke-linecap:round; stroke-linejoin:round; stroke-width:4; stroke-opacity:1; fill:none\" points=\"\n",
       "  1839.07,1486.45 1839.07,1467.55 \n",
       "  \"/>\n",
       "<polyline clip-path=\"url(#clip670)\" style=\"stroke:#f8f8f2; stroke-linecap:round; stroke-linejoin:round; stroke-width:4; stroke-opacity:1; fill:none\" points=\"\n",
       "  2291.66,1486.45 2291.66,1467.55 \n",
       "  \"/>\n",
       "<path clip-path=\"url(#clip670)\" d=\"M475.979 1544.91 L492.298 1544.91 L492.298 1548.85 L470.354 1548.85 L470.354 1544.91 Q473.016 1542.16 477.599 1537.53 Q482.206 1532.88 483.386 1531.53 Q485.632 1529.01 486.511 1527.27 Q487.414 1525.51 487.414 1523.82 Q487.414 1521.07 485.47 1519.33 Q483.548 1517.6 480.446 1517.6 Q478.247 1517.6 475.794 1518.36 Q473.363 1519.13 470.585 1520.68 L470.585 1515.95 Q473.409 1514.82 475.863 1514.24 Q478.317 1513.66 480.354 1513.66 Q485.724 1513.66 488.919 1516.35 Q492.113 1519.03 492.113 1523.52 Q492.113 1525.65 491.303 1527.57 Q490.516 1529.47 488.409 1532.07 Q487.831 1532.74 484.729 1535.95 Q481.627 1539.15 475.979 1544.91 Z\" fill=\"#f8f8f2\" fill-rule=\"evenodd\" fill-opacity=\"1\" /><path clip-path=\"url(#clip670)\" d=\"M936.918 1518.36 L925.113 1536.81 L936.918 1536.81 L936.918 1518.36 M935.691 1514.29 L941.571 1514.29 L941.571 1536.81 L946.501 1536.81 L946.501 1540.7 L941.571 1540.7 L941.571 1548.85 L936.918 1548.85 L936.918 1540.7 L921.316 1540.7 L921.316 1536.19 L935.691 1514.29 Z\" fill=\"#f8f8f2\" fill-rule=\"evenodd\" fill-opacity=\"1\" /><path clip-path=\"url(#clip670)\" d=\"M1386.9 1529.7 Q1383.75 1529.7 1381.9 1531.86 Q1380.07 1534.01 1380.07 1537.76 Q1380.07 1541.49 1381.9 1543.66 Q1383.75 1545.82 1386.9 1545.82 Q1390.04 1545.82 1391.87 1543.66 Q1393.73 1541.49 1393.73 1537.76 Q1393.73 1534.01 1391.87 1531.86 Q1390.04 1529.7 1386.9 1529.7 M1396.18 1515.05 L1396.18 1519.31 Q1394.42 1518.48 1392.61 1518.04 Q1390.83 1517.6 1389.07 1517.6 Q1384.44 1517.6 1381.99 1520.72 Q1379.56 1523.85 1379.21 1530.17 Q1380.58 1528.15 1382.64 1527.09 Q1384.7 1526 1387.17 1526 Q1392.38 1526 1395.39 1529.17 Q1398.42 1532.32 1398.42 1537.76 Q1398.42 1543.08 1395.28 1546.3 Q1392.13 1549.52 1386.9 1549.52 Q1380.9 1549.52 1377.73 1544.94 Q1374.56 1540.33 1374.56 1531.6 Q1374.56 1523.41 1378.45 1518.55 Q1382.34 1513.66 1388.89 1513.66 Q1390.65 1513.66 1392.43 1514.01 Q1394.23 1514.36 1396.18 1515.05 Z\" fill=\"#f8f8f2\" fill-rule=\"evenodd\" fill-opacity=\"1\" /><path clip-path=\"url(#clip670)\" d=\"M1839.07 1532.44 Q1835.74 1532.44 1833.82 1534.22 Q1831.92 1536 1831.92 1539.13 Q1831.92 1542.25 1833.82 1544.03 Q1835.74 1545.82 1839.07 1545.82 Q1842.41 1545.82 1844.33 1544.03 Q1846.25 1542.23 1846.25 1539.13 Q1846.25 1536 1844.33 1534.22 Q1842.43 1532.44 1839.07 1532.44 M1834.4 1530.45 Q1831.39 1529.7 1829.7 1527.64 Q1828.03 1525.58 1828.03 1522.62 Q1828.03 1518.48 1830.97 1516.07 Q1833.94 1513.66 1839.07 1513.66 Q1844.24 1513.66 1847.18 1516.07 Q1850.12 1518.48 1850.12 1522.62 Q1850.12 1525.58 1848.43 1527.64 Q1846.76 1529.7 1843.77 1530.45 Q1847.15 1531.23 1849.03 1533.52 Q1850.93 1535.82 1850.93 1539.13 Q1850.93 1544.15 1847.85 1546.83 Q1844.79 1549.52 1839.07 1549.52 Q1833.36 1549.52 1830.28 1546.83 Q1827.22 1544.15 1827.22 1539.13 Q1827.22 1535.82 1829.12 1533.52 Q1831.02 1531.23 1834.4 1530.45 M1832.69 1523.06 Q1832.69 1525.75 1834.35 1527.25 Q1836.04 1528.76 1839.07 1528.76 Q1842.08 1528.76 1843.77 1527.25 Q1845.49 1525.75 1845.49 1523.06 Q1845.49 1520.38 1843.77 1518.87 Q1842.08 1517.37 1839.07 1517.37 Q1836.04 1517.37 1834.35 1518.87 Q1832.69 1520.38 1832.69 1523.06 Z\" fill=\"#f8f8f2\" fill-rule=\"evenodd\" fill-opacity=\"1\" /><path clip-path=\"url(#clip670)\" d=\"M2266.34 1544.91 L2273.98 1544.91 L2273.98 1518.55 L2265.67 1520.21 L2265.67 1515.95 L2273.94 1514.29 L2278.61 1514.29 L2278.61 1544.91 L2286.25 1544.91 L2286.25 1548.85 L2266.34 1548.85 L2266.34 1544.91 Z\" fill=\"#f8f8f2\" fill-rule=\"evenodd\" fill-opacity=\"1\" /><path clip-path=\"url(#clip670)\" d=\"M2305.7 1517.37 Q2302.09 1517.37 2300.26 1520.93 Q2298.45 1524.47 2298.45 1531.6 Q2298.45 1538.71 2300.26 1542.27 Q2302.09 1545.82 2305.7 1545.82 Q2309.33 1545.82 2311.14 1542.27 Q2312.96 1538.71 2312.96 1531.6 Q2312.96 1524.47 2311.14 1520.93 Q2309.33 1517.37 2305.7 1517.37 M2305.7 1513.66 Q2311.51 1513.66 2314.56 1518.27 Q2317.64 1522.85 2317.64 1531.6 Q2317.64 1540.33 2314.56 1544.94 Q2311.51 1549.52 2305.7 1549.52 Q2299.89 1549.52 2296.81 1544.94 Q2293.75 1540.33 2293.75 1531.6 Q2293.75 1522.85 2296.81 1518.27 Q2299.89 1513.66 2305.7 1513.66 Z\" fill=\"#f8f8f2\" fill-rule=\"evenodd\" fill-opacity=\"1\" /><polyline clip-path=\"url(#clip672)\" style=\"stroke:#f8f8f2; stroke-linecap:round; stroke-linejoin:round; stroke-width:2; stroke-opacity:0.1; fill:none\" points=\"\n",
       "  193.936,1447.88 2352.76,1447.88 \n",
       "  \"/>\n",
       "<polyline clip-path=\"url(#clip672)\" style=\"stroke:#f8f8f2; stroke-linecap:round; stroke-linejoin:round; stroke-width:2; stroke-opacity:0.1; fill:none\" points=\"\n",
       "  193.936,1105.97 2352.76,1105.97 \n",
       "  \"/>\n",
       "<polyline clip-path=\"url(#clip672)\" style=\"stroke:#f8f8f2; stroke-linecap:round; stroke-linejoin:round; stroke-width:2; stroke-opacity:0.1; fill:none\" points=\"\n",
       "  193.936,764.064 2352.76,764.064 \n",
       "  \"/>\n",
       "<polyline clip-path=\"url(#clip672)\" style=\"stroke:#f8f8f2; stroke-linecap:round; stroke-linejoin:round; stroke-width:2; stroke-opacity:0.1; fill:none\" points=\"\n",
       "  193.936,422.155 2352.76,422.155 \n",
       "  \"/>\n",
       "<polyline clip-path=\"url(#clip672)\" style=\"stroke:#f8f8f2; stroke-linecap:round; stroke-linejoin:round; stroke-width:2; stroke-opacity:0.1; fill:none\" points=\"\n",
       "  193.936,80.2461 2352.76,80.2461 \n",
       "  \"/>\n",
       "<polyline clip-path=\"url(#clip670)\" style=\"stroke:#f8f8f2; stroke-linecap:round; stroke-linejoin:round; stroke-width:4; stroke-opacity:1; fill:none\" points=\"\n",
       "  193.936,1486.45 193.936,47.2441 \n",
       "  \"/>\n",
       "<polyline clip-path=\"url(#clip670)\" style=\"stroke:#f8f8f2; stroke-linecap:round; stroke-linejoin:round; stroke-width:4; stroke-opacity:1; fill:none\" points=\"\n",
       "  193.936,1447.88 212.834,1447.88 \n",
       "  \"/>\n",
       "<polyline clip-path=\"url(#clip670)\" style=\"stroke:#f8f8f2; stroke-linecap:round; stroke-linejoin:round; stroke-width:4; stroke-opacity:1; fill:none\" points=\"\n",
       "  193.936,1105.97 212.834,1105.97 \n",
       "  \"/>\n",
       "<polyline clip-path=\"url(#clip670)\" style=\"stroke:#f8f8f2; stroke-linecap:round; stroke-linejoin:round; stroke-width:4; stroke-opacity:1; fill:none\" points=\"\n",
       "  193.936,764.064 212.834,764.064 \n",
       "  \"/>\n",
       "<polyline clip-path=\"url(#clip670)\" style=\"stroke:#f8f8f2; stroke-linecap:round; stroke-linejoin:round; stroke-width:4; stroke-opacity:1; fill:none\" points=\"\n",
       "  193.936,422.155 212.834,422.155 \n",
       "  \"/>\n",
       "<polyline clip-path=\"url(#clip670)\" style=\"stroke:#f8f8f2; stroke-linecap:round; stroke-linejoin:round; stroke-width:4; stroke-opacity:1; fill:none\" points=\"\n",
       "  193.936,80.2461 212.834,80.2461 \n",
       "  \"/>\n",
       "<path clip-path=\"url(#clip670)\" d=\"M50.9921 1448.33 L80.6679 1448.33 L80.6679 1452.27 L50.9921 1452.27 L50.9921 1448.33 Z\" fill=\"#f8f8f2\" fill-rule=\"evenodd\" fill-opacity=\"1\" /><path clip-path=\"url(#clip670)\" d=\"M91.5706 1461.23 L99.2095 1461.23 L99.2095 1434.86 L90.8993 1436.53 L90.8993 1432.27 L99.1632 1430.6 L103.839 1430.6 L103.839 1461.23 L111.478 1461.23 L111.478 1465.16 L91.5706 1465.16 L91.5706 1461.23 Z\" fill=\"#f8f8f2\" fill-rule=\"evenodd\" fill-opacity=\"1\" /><path clip-path=\"url(#clip670)\" d=\"M120.922 1459.28 L125.807 1459.28 L125.807 1465.16 L120.922 1465.16 L120.922 1459.28 Z\" fill=\"#f8f8f2\" fill-rule=\"evenodd\" fill-opacity=\"1\" /><path clip-path=\"url(#clip670)\" d=\"M145.992 1433.68 Q142.381 1433.68 140.552 1437.24 Q138.746 1440.79 138.746 1447.92 Q138.746 1455.02 140.552 1458.59 Q142.381 1462.13 145.992 1462.13 Q149.626 1462.13 151.431 1458.59 Q153.26 1455.02 153.26 1447.92 Q153.26 1440.79 151.431 1437.24 Q149.626 1433.68 145.992 1433.68 M145.992 1429.98 Q151.802 1429.98 154.857 1434.58 Q157.936 1439.17 157.936 1447.92 Q157.936 1456.64 154.857 1461.25 Q151.802 1465.83 145.992 1465.83 Q140.181 1465.83 137.103 1461.25 Q134.047 1456.64 134.047 1447.92 Q134.047 1439.17 137.103 1434.58 Q140.181 1429.98 145.992 1429.98 Z\" fill=\"#f8f8f2\" fill-rule=\"evenodd\" fill-opacity=\"1\" /><path clip-path=\"url(#clip670)\" d=\"M51.9875 1106.42 L81.6633 1106.42 L81.6633 1110.36 L51.9875 1110.36 L51.9875 1106.42 Z\" fill=\"#f8f8f2\" fill-rule=\"evenodd\" fill-opacity=\"1\" /><path clip-path=\"url(#clip670)\" d=\"M101.756 1091.77 Q98.1447 1091.77 96.316 1095.34 Q94.5104 1098.88 94.5104 1106.01 Q94.5104 1113.11 96.316 1116.68 Q98.1447 1120.22 101.756 1120.22 Q105.39 1120.22 107.196 1116.68 Q109.024 1113.11 109.024 1106.01 Q109.024 1098.88 107.196 1095.34 Q105.39 1091.77 101.756 1091.77 M101.756 1088.07 Q107.566 1088.07 110.621 1092.67 Q113.7 1097.26 113.7 1106.01 Q113.7 1114.73 110.621 1119.34 Q107.566 1123.92 101.756 1123.92 Q95.9456 1123.92 92.8669 1119.34 Q89.8114 1114.73 89.8114 1106.01 Q89.8114 1097.26 92.8669 1092.67 Q95.9456 1088.07 101.756 1088.07 Z\" fill=\"#f8f8f2\" fill-rule=\"evenodd\" fill-opacity=\"1\" /><path clip-path=\"url(#clip670)\" d=\"M121.918 1117.37 L126.802 1117.37 L126.802 1123.25 L121.918 1123.25 L121.918 1117.37 Z\" fill=\"#f8f8f2\" fill-rule=\"evenodd\" fill-opacity=\"1\" /><path clip-path=\"url(#clip670)\" d=\"M137.033 1088.69 L155.39 1088.69 L155.39 1092.63 L141.316 1092.63 L141.316 1101.1 Q142.334 1100.75 143.353 1100.59 Q144.371 1100.41 145.39 1100.41 Q151.177 1100.41 154.556 1103.58 Q157.936 1106.75 157.936 1112.16 Q157.936 1117.74 154.464 1120.84 Q150.992 1123.92 144.672 1123.92 Q142.496 1123.92 140.228 1123.55 Q137.982 1123.18 135.575 1122.44 L135.575 1117.74 Q137.658 1118.88 139.881 1119.43 Q142.103 1119.99 144.58 1119.99 Q148.584 1119.99 150.922 1117.88 Q153.26 1115.78 153.26 1112.16 Q153.26 1108.55 150.922 1106.45 Q148.584 1104.34 144.58 1104.34 Q142.705 1104.34 140.83 1104.76 Q138.978 1105.17 137.033 1106.05 L137.033 1088.69 Z\" fill=\"#f8f8f2\" fill-rule=\"evenodd\" fill-opacity=\"1\" /><path clip-path=\"url(#clip670)\" d=\"M100.76 749.862 Q97.1493 749.862 95.3206 753.427 Q93.515 756.969 93.515 764.098 Q93.515 771.205 95.3206 774.77 Q97.1493 778.311 100.76 778.311 Q104.395 778.311 106.2 774.77 Q108.029 771.205 108.029 764.098 Q108.029 756.969 106.2 753.427 Q104.395 749.862 100.76 749.862 M100.76 746.159 Q106.571 746.159 109.626 750.765 Q112.705 755.348 112.705 764.098 Q112.705 772.825 109.626 777.432 Q106.571 782.015 100.76 782.015 Q94.9502 782.015 91.8715 777.432 Q88.816 772.825 88.816 764.098 Q88.816 755.348 91.8715 750.765 Q94.9502 746.159 100.76 746.159 Z\" fill=\"#f8f8f2\" fill-rule=\"evenodd\" fill-opacity=\"1\" /><path clip-path=\"url(#clip670)\" d=\"M120.922 775.464 L125.807 775.464 L125.807 781.344 L120.922 781.344 L120.922 775.464 Z\" fill=\"#f8f8f2\" fill-rule=\"evenodd\" fill-opacity=\"1\" /><path clip-path=\"url(#clip670)\" d=\"M145.992 749.862 Q142.381 749.862 140.552 753.427 Q138.746 756.969 138.746 764.098 Q138.746 771.205 140.552 774.77 Q142.381 778.311 145.992 778.311 Q149.626 778.311 151.431 774.77 Q153.26 771.205 153.26 764.098 Q153.26 756.969 151.431 753.427 Q149.626 749.862 145.992 749.862 M145.992 746.159 Q151.802 746.159 154.857 750.765 Q157.936 755.348 157.936 764.098 Q157.936 772.825 154.857 777.432 Q151.802 782.015 145.992 782.015 Q140.181 782.015 137.103 777.432 Q134.047 772.825 134.047 764.098 Q134.047 755.348 137.103 750.765 Q140.181 746.159 145.992 746.159 Z\" fill=\"#f8f8f2\" fill-rule=\"evenodd\" fill-opacity=\"1\" /><path clip-path=\"url(#clip670)\" d=\"M101.756 407.954 Q98.1447 407.954 96.316 411.518 Q94.5104 415.06 94.5104 422.19 Q94.5104 429.296 96.316 432.861 Q98.1447 436.402 101.756 436.402 Q105.39 436.402 107.196 432.861 Q109.024 429.296 109.024 422.19 Q109.024 415.06 107.196 411.518 Q105.39 407.954 101.756 407.954 M101.756 404.25 Q107.566 404.25 110.621 408.856 Q113.7 413.44 113.7 422.19 Q113.7 430.916 110.621 435.523 Q107.566 440.106 101.756 440.106 Q95.9456 440.106 92.8669 435.523 Q89.8114 430.916 89.8114 422.19 Q89.8114 413.44 92.8669 408.856 Q95.9456 404.25 101.756 404.25 Z\" fill=\"#f8f8f2\" fill-rule=\"evenodd\" fill-opacity=\"1\" /><path clip-path=\"url(#clip670)\" d=\"M121.918 433.555 L126.802 433.555 L126.802 439.435 L121.918 439.435 L121.918 433.555 Z\" fill=\"#f8f8f2\" fill-rule=\"evenodd\" fill-opacity=\"1\" /><path clip-path=\"url(#clip670)\" d=\"M137.033 404.875 L155.39 404.875 L155.39 408.81 L141.316 408.81 L141.316 417.282 Q142.334 416.935 143.353 416.773 Q144.371 416.588 145.39 416.588 Q151.177 416.588 154.556 419.759 Q157.936 422.93 157.936 428.347 Q157.936 433.926 154.464 437.027 Q150.992 440.106 144.672 440.106 Q142.496 440.106 140.228 439.736 Q137.982 439.365 135.575 438.625 L135.575 433.926 Q137.658 435.06 139.881 435.615 Q142.103 436.171 144.58 436.171 Q148.584 436.171 150.922 434.065 Q153.26 431.958 153.26 428.347 Q153.26 424.736 150.922 422.629 Q148.584 420.523 144.58 420.523 Q142.705 420.523 140.83 420.94 Q138.978 421.356 137.033 422.236 L137.033 404.875 Z\" fill=\"#f8f8f2\" fill-rule=\"evenodd\" fill-opacity=\"1\" /><path clip-path=\"url(#clip670)\" d=\"M91.5706 93.591 L99.2095 93.591 L99.2095 67.2254 L90.8993 68.892 L90.8993 64.6328 L99.1632 62.9661 L103.839 62.9661 L103.839 93.591 L111.478 93.591 L111.478 97.5261 L91.5706 97.5261 L91.5706 93.591 Z\" fill=\"#f8f8f2\" fill-rule=\"evenodd\" fill-opacity=\"1\" /><path clip-path=\"url(#clip670)\" d=\"M120.922 91.6465 L125.807 91.6465 L125.807 97.5261 L120.922 97.5261 L120.922 91.6465 Z\" fill=\"#f8f8f2\" fill-rule=\"evenodd\" fill-opacity=\"1\" /><path clip-path=\"url(#clip670)\" d=\"M145.992 66.0448 Q142.381 66.0448 140.552 69.6096 Q138.746 73.1512 138.746 80.2808 Q138.746 87.3873 140.552 90.9521 Q142.381 94.4937 145.992 94.4937 Q149.626 94.4937 151.431 90.9521 Q153.26 87.3873 153.26 80.2808 Q153.26 73.1512 151.431 69.6096 Q149.626 66.0448 145.992 66.0448 M145.992 62.3411 Q151.802 62.3411 154.857 66.9476 Q157.936 71.5309 157.936 80.2808 Q157.936 89.0076 154.857 93.6141 Q151.802 98.1974 145.992 98.1974 Q140.181 98.1974 137.103 93.6141 Q134.047 89.0076 134.047 80.2808 Q134.047 71.5309 137.103 66.9476 Q140.181 62.3411 145.992 62.3411 Z\" fill=\"#f8f8f2\" fill-rule=\"evenodd\" fill-opacity=\"1\" /><circle clip-path=\"url(#clip672)\" cx=\"255.035\" cy=\"394.595\" r=\"14.4\" fill=\"#8be9fd\" fill-rule=\"evenodd\" fill-opacity=\"1\" stroke=\"#f8f8f2\" stroke-opacity=\"1\" stroke-width=\"3.2\"/>\n",
       "<circle clip-path=\"url(#clip672)\" cx=\"481.326\" cy=\"863.559\" r=\"14.4\" fill=\"#8be9fd\" fill-rule=\"evenodd\" fill-opacity=\"1\" stroke=\"#f8f8f2\" stroke-opacity=\"1\" stroke-width=\"3.2\"/>\n",
       "<circle clip-path=\"url(#clip672)\" cx=\"707.617\" cy=\"963.833\" r=\"14.4\" fill=\"#8be9fd\" fill-rule=\"evenodd\" fill-opacity=\"1\" stroke=\"#f8f8f2\" stroke-opacity=\"1\" stroke-width=\"3.2\"/>\n",
       "<circle clip-path=\"url(#clip672)\" cx=\"933.909\" cy=\"496.105\" r=\"14.4\" fill=\"#8be9fd\" fill-rule=\"evenodd\" fill-opacity=\"1\" stroke=\"#f8f8f2\" stroke-opacity=\"1\" stroke-width=\"3.2\"/>\n",
       "<circle clip-path=\"url(#clip672)\" cx=\"1160.2\" cy=\"225.411\" r=\"14.4\" fill=\"#8be9fd\" fill-rule=\"evenodd\" fill-opacity=\"1\" stroke=\"#f8f8f2\" stroke-opacity=\"1\" stroke-width=\"3.2\"/>\n",
       "<circle clip-path=\"url(#clip672)\" cx=\"1386.49\" cy=\"1255.03\" r=\"14.4\" fill=\"#8be9fd\" fill-rule=\"evenodd\" fill-opacity=\"1\" stroke=\"#f8f8f2\" stroke-opacity=\"1\" stroke-width=\"3.2\"/>\n",
       "<circle clip-path=\"url(#clip672)\" cx=\"1612.78\" cy=\"1341.09\" r=\"14.4\" fill=\"#8be9fd\" fill-rule=\"evenodd\" fill-opacity=\"1\" stroke=\"#f8f8f2\" stroke-opacity=\"1\" stroke-width=\"3.2\"/>\n",
       "<circle clip-path=\"url(#clip672)\" cx=\"1839.07\" cy=\"1445.72\" r=\"14.4\" fill=\"#8be9fd\" fill-rule=\"evenodd\" fill-opacity=\"1\" stroke=\"#f8f8f2\" stroke-opacity=\"1\" stroke-width=\"3.2\"/>\n",
       "<circle clip-path=\"url(#clip672)\" cx=\"2065.37\" cy=\"87.9763\" r=\"14.4\" fill=\"#8be9fd\" fill-rule=\"evenodd\" fill-opacity=\"1\" stroke=\"#f8f8f2\" stroke-opacity=\"1\" stroke-width=\"3.2\"/>\n",
       "<circle clip-path=\"url(#clip672)\" cx=\"2291.66\" cy=\"379.499\" r=\"14.4\" fill=\"#8be9fd\" fill-rule=\"evenodd\" fill-opacity=\"1\" stroke=\"#f8f8f2\" stroke-opacity=\"1\" stroke-width=\"3.2\"/>\n",
       "</svg>\n"
      ]
     },
     "execution_count": 77,
     "metadata": {},
     "output_type": "execute_result"
    }
   ],
   "source": [
    "x = range(1, 10)\n",
    "y = cos.(x.^3)\n",
    "scatter(x, y, legend=false)"
   ]
  },
  {
   "cell_type": "code",
   "execution_count": 78,
   "metadata": {},
   "outputs": [
    {
     "data": {
      "text/latex": [
       "\\textbf{Uniform Distribtion}\n",
       "\n"
      ],
      "text/markdown": [
       "**Uniform Distribtion**\n"
      ],
      "text/plain": [
       "  \u001b[1mUniform Distribtion\u001b[22m"
      ]
     },
     "execution_count": 78,
     "metadata": {},
     "output_type": "execute_result"
    }
   ],
   "source": [
    "md\"**Uniform Distribtion**\""
   ]
  },
  {
   "cell_type": "code",
   "execution_count": 79,
   "metadata": {},
   "outputs": [],
   "source": [
    "?rand;"
   ]
  },
  {
   "cell_type": "code",
   "execution_count": 80,
   "metadata": {},
   "outputs": [
    {
     "data": {
      "image/svg+xml": [
       "<?xml version=\"1.0\" encoding=\"utf-8\"?>\n",
       "<svg xmlns=\"http://www.w3.org/2000/svg\" xmlns:xlink=\"http://www.w3.org/1999/xlink\" width=\"600\" height=\"400\" viewBox=\"0 0 2400 1600\">\n",
       "<defs>\n",
       "  <clipPath id=\"clip710\">\n",
       "    <rect x=\"0\" y=\"0\" width=\"2400\" height=\"1600\"/>\n",
       "  </clipPath>\n",
       "</defs>\n",
       "<path clip-path=\"url(#clip710)\" d=\"\n",
       "M0 1600 L2400 1600 L2400 0 L0 0  Z\n",
       "  \" fill=\"#282a36\" fill-rule=\"evenodd\" fill-opacity=\"1\"/>\n",
       "<defs>\n",
       "  <clipPath id=\"clip711\">\n",
       "    <rect x=\"480\" y=\"0\" width=\"1681\" height=\"1600\"/>\n",
       "  </clipPath>\n",
       "</defs>\n",
       "<path clip-path=\"url(#clip710)\" d=\"\n",
       "M201.019 1486.45 L2352.76 1486.45 L2352.76 47.2441 L201.019 47.2441  Z\n",
       "  \" fill=\"#30343b\" fill-rule=\"evenodd\" fill-opacity=\"1\"/>\n",
       "<defs>\n",
       "  <clipPath id=\"clip712\">\n",
       "    <rect x=\"201\" y=\"47\" width=\"2153\" height=\"1440\"/>\n",
       "  </clipPath>\n",
       "</defs>\n",
       "<polyline clip-path=\"url(#clip712)\" style=\"stroke:#f8f8f2; stroke-linecap:round; stroke-linejoin:round; stroke-width:2; stroke-opacity:0.1; fill:none\" points=\"\n",
       "  319.369,1486.45 319.369,47.2441 \n",
       "  \"/>\n",
       "<polyline clip-path=\"url(#clip712)\" style=\"stroke:#f8f8f2; stroke-linecap:round; stroke-linejoin:round; stroke-width:2; stroke-opacity:0.1; fill:none\" points=\"\n",
       "  798.128,1486.45 798.128,47.2441 \n",
       "  \"/>\n",
       "<polyline clip-path=\"url(#clip712)\" style=\"stroke:#f8f8f2; stroke-linecap:round; stroke-linejoin:round; stroke-width:2; stroke-opacity:0.1; fill:none\" points=\"\n",
       "  1276.89,1486.45 1276.89,47.2441 \n",
       "  \"/>\n",
       "<polyline clip-path=\"url(#clip712)\" style=\"stroke:#f8f8f2; stroke-linecap:round; stroke-linejoin:round; stroke-width:2; stroke-opacity:0.1; fill:none\" points=\"\n",
       "  1755.65,1486.45 1755.65,47.2441 \n",
       "  \"/>\n",
       "<polyline clip-path=\"url(#clip712)\" style=\"stroke:#f8f8f2; stroke-linecap:round; stroke-linejoin:round; stroke-width:2; stroke-opacity:0.1; fill:none\" points=\"\n",
       "  2234.41,1486.45 2234.41,47.2441 \n",
       "  \"/>\n",
       "<polyline clip-path=\"url(#clip710)\" style=\"stroke:#f8f8f2; stroke-linecap:round; stroke-linejoin:round; stroke-width:4; stroke-opacity:1; fill:none\" points=\"\n",
       "  201.019,1486.45 2352.76,1486.45 \n",
       "  \"/>\n",
       "<polyline clip-path=\"url(#clip710)\" style=\"stroke:#f8f8f2; stroke-linecap:round; stroke-linejoin:round; stroke-width:4; stroke-opacity:1; fill:none\" points=\"\n",
       "  319.369,1486.45 319.369,1467.55 \n",
       "  \"/>\n",
       "<polyline clip-path=\"url(#clip710)\" style=\"stroke:#f8f8f2; stroke-linecap:round; stroke-linejoin:round; stroke-width:4; stroke-opacity:1; fill:none\" points=\"\n",
       "  798.128,1486.45 798.128,1467.55 \n",
       "  \"/>\n",
       "<polyline clip-path=\"url(#clip710)\" style=\"stroke:#f8f8f2; stroke-linecap:round; stroke-linejoin:round; stroke-width:4; stroke-opacity:1; fill:none\" points=\"\n",
       "  1276.89,1486.45 1276.89,1467.55 \n",
       "  \"/>\n",
       "<polyline clip-path=\"url(#clip710)\" style=\"stroke:#f8f8f2; stroke-linecap:round; stroke-linejoin:round; stroke-width:4; stroke-opacity:1; fill:none\" points=\"\n",
       "  1755.65,1486.45 1755.65,1467.55 \n",
       "  \"/>\n",
       "<polyline clip-path=\"url(#clip710)\" style=\"stroke:#f8f8f2; stroke-linecap:round; stroke-linejoin:round; stroke-width:4; stroke-opacity:1; fill:none\" points=\"\n",
       "  2234.41,1486.45 2234.41,1467.55 \n",
       "  \"/>\n",
       "<path clip-path=\"url(#clip710)\" d=\"M281.672 1517.37 Q278.061 1517.37 276.232 1520.93 Q274.427 1524.47 274.427 1531.6 Q274.427 1538.71 276.232 1542.27 Q278.061 1545.82 281.672 1545.82 Q285.306 1545.82 287.112 1542.27 Q288.941 1538.71 288.941 1531.6 Q288.941 1524.47 287.112 1520.93 Q285.306 1517.37 281.672 1517.37 M281.672 1513.66 Q287.482 1513.66 290.538 1518.27 Q293.616 1522.85 293.616 1531.6 Q293.616 1540.33 290.538 1544.94 Q287.482 1549.52 281.672 1549.52 Q275.862 1549.52 272.783 1544.94 Q269.728 1540.33 269.728 1531.6 Q269.728 1522.85 272.783 1518.27 Q275.862 1513.66 281.672 1513.66 Z\" fill=\"#f8f8f2\" fill-rule=\"evenodd\" fill-opacity=\"1\" /><path clip-path=\"url(#clip710)\" d=\"M301.834 1542.97 L306.718 1542.97 L306.718 1548.85 L301.834 1548.85 L301.834 1542.97 Z\" fill=\"#f8f8f2\" fill-rule=\"evenodd\" fill-opacity=\"1\" /><path clip-path=\"url(#clip710)\" d=\"M326.903 1517.37 Q323.292 1517.37 321.464 1520.93 Q319.658 1524.47 319.658 1531.6 Q319.658 1538.71 321.464 1542.27 Q323.292 1545.82 326.903 1545.82 Q330.538 1545.82 332.343 1542.27 Q334.172 1538.71 334.172 1531.6 Q334.172 1524.47 332.343 1520.93 Q330.538 1517.37 326.903 1517.37 M326.903 1513.66 Q332.713 1513.66 335.769 1518.27 Q338.848 1522.85 338.848 1531.6 Q338.848 1540.33 335.769 1544.94 Q332.713 1549.52 326.903 1549.52 Q321.093 1549.52 318.014 1544.94 Q314.959 1540.33 314.959 1531.6 Q314.959 1522.85 318.014 1518.27 Q321.093 1513.66 326.903 1513.66 Z\" fill=\"#f8f8f2\" fill-rule=\"evenodd\" fill-opacity=\"1\" /><path clip-path=\"url(#clip710)\" d=\"M357.065 1517.37 Q353.454 1517.37 351.625 1520.93 Q349.82 1524.47 349.82 1531.6 Q349.82 1538.71 351.625 1542.27 Q353.454 1545.82 357.065 1545.82 Q360.699 1545.82 362.505 1542.27 Q364.334 1538.71 364.334 1531.6 Q364.334 1524.47 362.505 1520.93 Q360.699 1517.37 357.065 1517.37 M357.065 1513.66 Q362.875 1513.66 365.931 1518.27 Q369.01 1522.85 369.01 1531.6 Q369.01 1540.33 365.931 1544.94 Q362.875 1549.52 357.065 1549.52 Q351.255 1549.52 348.176 1544.94 Q345.121 1540.33 345.121 1531.6 Q345.121 1522.85 348.176 1518.27 Q351.255 1513.66 357.065 1513.66 Z\" fill=\"#f8f8f2\" fill-rule=\"evenodd\" fill-opacity=\"1\" /><path clip-path=\"url(#clip710)\" d=\"M760.929 1517.37 Q757.318 1517.37 755.489 1520.93 Q753.684 1524.47 753.684 1531.6 Q753.684 1538.71 755.489 1542.27 Q757.318 1545.82 760.929 1545.82 Q764.563 1545.82 766.369 1542.27 Q768.198 1538.71 768.198 1531.6 Q768.198 1524.47 766.369 1520.93 Q764.563 1517.37 760.929 1517.37 M760.929 1513.66 Q766.739 1513.66 769.795 1518.27 Q772.874 1522.85 772.874 1531.6 Q772.874 1540.33 769.795 1544.94 Q766.739 1549.52 760.929 1549.52 Q755.119 1549.52 752.04 1544.94 Q748.985 1540.33 748.985 1531.6 Q748.985 1522.85 752.04 1518.27 Q755.119 1513.66 760.929 1513.66 Z\" fill=\"#f8f8f2\" fill-rule=\"evenodd\" fill-opacity=\"1\" /><path clip-path=\"url(#clip710)\" d=\"M781.091 1542.97 L785.975 1542.97 L785.975 1548.85 L781.091 1548.85 L781.091 1542.97 Z\" fill=\"#f8f8f2\" fill-rule=\"evenodd\" fill-opacity=\"1\" /><path clip-path=\"url(#clip710)\" d=\"M800.188 1544.91 L816.508 1544.91 L816.508 1548.85 L794.563 1548.85 L794.563 1544.91 Q797.225 1542.16 801.809 1537.53 Q806.415 1532.88 807.596 1531.53 Q809.841 1529.01 810.721 1527.27 Q811.623 1525.51 811.623 1523.82 Q811.623 1521.07 809.679 1519.33 Q807.758 1517.6 804.656 1517.6 Q802.457 1517.6 800.003 1518.36 Q797.573 1519.13 794.795 1520.68 L794.795 1515.95 Q797.619 1514.82 800.073 1514.24 Q802.526 1513.66 804.563 1513.66 Q809.934 1513.66 813.128 1516.35 Q816.322 1519.03 816.322 1523.52 Q816.322 1525.65 815.512 1527.57 Q814.725 1529.47 812.619 1532.07 Q812.04 1532.74 808.938 1535.95 Q805.836 1539.15 800.188 1544.91 Z\" fill=\"#f8f8f2\" fill-rule=\"evenodd\" fill-opacity=\"1\" /><path clip-path=\"url(#clip710)\" d=\"M826.369 1514.29 L844.725 1514.29 L844.725 1518.22 L830.651 1518.22 L830.651 1526.7 Q831.67 1526.35 832.688 1526.19 Q833.707 1526 834.725 1526 Q840.512 1526 843.892 1529.17 Q847.271 1532.34 847.271 1537.76 Q847.271 1543.34 843.799 1546.44 Q840.327 1549.52 834.008 1549.52 Q831.832 1549.52 829.563 1549.15 Q827.318 1548.78 824.91 1548.04 L824.91 1543.34 Q826.994 1544.47 829.216 1545.03 Q831.438 1545.58 833.915 1545.58 Q837.92 1545.58 840.258 1543.48 Q842.595 1541.37 842.595 1537.76 Q842.595 1534.15 840.258 1532.04 Q837.92 1529.94 833.915 1529.94 Q832.04 1529.94 830.165 1530.35 Q828.313 1530.77 826.369 1531.65 L826.369 1514.29 Z\" fill=\"#f8f8f2\" fill-rule=\"evenodd\" fill-opacity=\"1\" /><path clip-path=\"url(#clip710)\" d=\"M1239.19 1517.37 Q1235.58 1517.37 1233.75 1520.93 Q1231.95 1524.47 1231.95 1531.6 Q1231.95 1538.71 1233.75 1542.27 Q1235.58 1545.82 1239.19 1545.82 Q1242.83 1545.82 1244.63 1542.27 Q1246.46 1538.71 1246.46 1531.6 Q1246.46 1524.47 1244.63 1520.93 Q1242.83 1517.37 1239.19 1517.37 M1239.19 1513.66 Q1245 1513.66 1248.06 1518.27 Q1251.14 1522.85 1251.14 1531.6 Q1251.14 1540.33 1248.06 1544.94 Q1245 1549.52 1239.19 1549.52 Q1233.38 1549.52 1230.3 1544.94 Q1227.25 1540.33 1227.25 1531.6 Q1227.25 1522.85 1230.3 1518.27 Q1233.38 1513.66 1239.19 1513.66 Z\" fill=\"#f8f8f2\" fill-rule=\"evenodd\" fill-opacity=\"1\" /><path clip-path=\"url(#clip710)\" d=\"M1259.35 1542.97 L1264.24 1542.97 L1264.24 1548.85 L1259.35 1548.85 L1259.35 1542.97 Z\" fill=\"#f8f8f2\" fill-rule=\"evenodd\" fill-opacity=\"1\" /><path clip-path=\"url(#clip710)\" d=\"M1274.47 1514.29 L1292.83 1514.29 L1292.83 1518.22 L1278.75 1518.22 L1278.75 1526.7 Q1279.77 1526.35 1280.79 1526.19 Q1281.81 1526 1282.83 1526 Q1288.61 1526 1291.99 1529.17 Q1295.37 1532.34 1295.37 1537.76 Q1295.37 1543.34 1291.9 1546.44 Q1288.43 1549.52 1282.11 1549.52 Q1279.93 1549.52 1277.66 1549.15 Q1275.42 1548.78 1273.01 1548.04 L1273.01 1543.34 Q1275.09 1544.47 1277.32 1545.03 Q1279.54 1545.58 1282.01 1545.58 Q1286.02 1545.58 1288.36 1543.48 Q1290.7 1541.37 1290.7 1537.76 Q1290.7 1534.15 1288.36 1532.04 Q1286.02 1529.94 1282.01 1529.94 Q1280.14 1529.94 1278.26 1530.35 Q1276.41 1530.77 1274.47 1531.65 L1274.47 1514.29 Z\" fill=\"#f8f8f2\" fill-rule=\"evenodd\" fill-opacity=\"1\" /><path clip-path=\"url(#clip710)\" d=\"M1314.58 1517.37 Q1310.97 1517.37 1309.14 1520.93 Q1307.34 1524.47 1307.34 1531.6 Q1307.34 1538.71 1309.14 1542.27 Q1310.97 1545.82 1314.58 1545.82 Q1318.22 1545.82 1320.02 1542.27 Q1321.85 1538.71 1321.85 1531.6 Q1321.85 1524.47 1320.02 1520.93 Q1318.22 1517.37 1314.58 1517.37 M1314.58 1513.66 Q1320.39 1513.66 1323.45 1518.27 Q1326.53 1522.85 1326.53 1531.6 Q1326.53 1540.33 1323.45 1544.94 Q1320.39 1549.52 1314.58 1549.52 Q1308.77 1549.52 1305.7 1544.94 Q1302.64 1540.33 1302.64 1531.6 Q1302.64 1522.85 1305.7 1518.27 Q1308.77 1513.66 1314.58 1513.66 Z\" fill=\"#f8f8f2\" fill-rule=\"evenodd\" fill-opacity=\"1\" /><path clip-path=\"url(#clip710)\" d=\"M1718.45 1517.37 Q1714.84 1517.37 1713.01 1520.93 Q1711.2 1524.47 1711.2 1531.6 Q1711.2 1538.71 1713.01 1542.27 Q1714.84 1545.82 1718.45 1545.82 Q1722.08 1545.82 1723.89 1542.27 Q1725.72 1538.71 1725.72 1531.6 Q1725.72 1524.47 1723.89 1520.93 Q1722.08 1517.37 1718.45 1517.37 M1718.45 1513.66 Q1724.26 1513.66 1727.31 1518.27 Q1730.39 1522.85 1730.39 1531.6 Q1730.39 1540.33 1727.31 1544.94 Q1724.26 1549.52 1718.45 1549.52 Q1712.64 1549.52 1709.56 1544.94 Q1706.5 1540.33 1706.5 1531.6 Q1706.5 1522.85 1709.56 1518.27 Q1712.64 1513.66 1718.45 1513.66 Z\" fill=\"#f8f8f2\" fill-rule=\"evenodd\" fill-opacity=\"1\" /><path clip-path=\"url(#clip710)\" d=\"M1738.61 1542.97 L1743.49 1542.97 L1743.49 1548.85 L1738.61 1548.85 L1738.61 1542.97 Z\" fill=\"#f8f8f2\" fill-rule=\"evenodd\" fill-opacity=\"1\" /><path clip-path=\"url(#clip710)\" d=\"M1752.5 1514.29 L1774.72 1514.29 L1774.72 1516.28 L1762.17 1548.85 L1757.29 1548.85 L1769.1 1518.22 L1752.5 1518.22 L1752.5 1514.29 Z\" fill=\"#f8f8f2\" fill-rule=\"evenodd\" fill-opacity=\"1\" /><path clip-path=\"url(#clip710)\" d=\"M1783.89 1514.29 L1802.24 1514.29 L1802.24 1518.22 L1788.17 1518.22 L1788.17 1526.7 Q1789.19 1526.35 1790.21 1526.19 Q1791.23 1526 1792.24 1526 Q1798.03 1526 1801.41 1529.17 Q1804.79 1532.34 1804.79 1537.76 Q1804.79 1543.34 1801.32 1546.44 Q1797.85 1549.52 1791.53 1549.52 Q1789.35 1549.52 1787.08 1549.15 Q1784.84 1548.78 1782.43 1548.04 L1782.43 1543.34 Q1784.51 1544.47 1786.73 1545.03 Q1788.96 1545.58 1791.43 1545.58 Q1795.44 1545.58 1797.78 1543.48 Q1800.11 1541.37 1800.11 1537.76 Q1800.11 1534.15 1797.78 1532.04 Q1795.44 1529.94 1791.43 1529.94 Q1789.56 1529.94 1787.68 1530.35 Q1785.83 1530.77 1783.89 1531.65 L1783.89 1514.29 Z\" fill=\"#f8f8f2\" fill-rule=\"evenodd\" fill-opacity=\"1\" /><path clip-path=\"url(#clip710)\" d=\"M2186.48 1544.91 L2194.12 1544.91 L2194.12 1518.55 L2185.81 1520.21 L2185.81 1515.95 L2194.07 1514.29 L2198.75 1514.29 L2198.75 1544.91 L2206.39 1544.91 L2206.39 1548.85 L2186.48 1548.85 L2186.48 1544.91 Z\" fill=\"#f8f8f2\" fill-rule=\"evenodd\" fill-opacity=\"1\" /><path clip-path=\"url(#clip710)\" d=\"M2215.83 1542.97 L2220.71 1542.97 L2220.71 1548.85 L2215.83 1548.85 L2215.83 1542.97 Z\" fill=\"#f8f8f2\" fill-rule=\"evenodd\" fill-opacity=\"1\" /><path clip-path=\"url(#clip710)\" d=\"M2240.9 1517.37 Q2237.29 1517.37 2235.46 1520.93 Q2233.65 1524.47 2233.65 1531.6 Q2233.65 1538.71 2235.46 1542.27 Q2237.29 1545.82 2240.9 1545.82 Q2244.53 1545.82 2246.34 1542.27 Q2248.17 1538.71 2248.17 1531.6 Q2248.17 1524.47 2246.34 1520.93 Q2244.53 1517.37 2240.9 1517.37 M2240.9 1513.66 Q2246.71 1513.66 2249.77 1518.27 Q2252.84 1522.85 2252.84 1531.6 Q2252.84 1540.33 2249.77 1544.94 Q2246.71 1549.52 2240.9 1549.52 Q2235.09 1549.52 2232.01 1544.94 Q2228.96 1540.33 2228.96 1531.6 Q2228.96 1522.85 2232.01 1518.27 Q2235.09 1513.66 2240.9 1513.66 Z\" fill=\"#f8f8f2\" fill-rule=\"evenodd\" fill-opacity=\"1\" /><path clip-path=\"url(#clip710)\" d=\"M2271.06 1517.37 Q2267.45 1517.37 2265.62 1520.93 Q2263.82 1524.47 2263.82 1531.6 Q2263.82 1538.71 2265.62 1542.27 Q2267.45 1545.82 2271.06 1545.82 Q2274.7 1545.82 2276.5 1542.27 Q2278.33 1538.71 2278.33 1531.6 Q2278.33 1524.47 2276.5 1520.93 Q2274.7 1517.37 2271.06 1517.37 M2271.06 1513.66 Q2276.87 1513.66 2279.93 1518.27 Q2283.01 1522.85 2283.01 1531.6 Q2283.01 1540.33 2279.93 1544.94 Q2276.87 1549.52 2271.06 1549.52 Q2265.25 1549.52 2262.17 1544.94 Q2259.12 1540.33 2259.12 1531.6 Q2259.12 1522.85 2262.17 1518.27 Q2265.25 1513.66 2271.06 1513.66 Z\" fill=\"#f8f8f2\" fill-rule=\"evenodd\" fill-opacity=\"1\" /><polyline clip-path=\"url(#clip712)\" style=\"stroke:#f8f8f2; stroke-linecap:round; stroke-linejoin:round; stroke-width:2; stroke-opacity:0.1; fill:none\" points=\"\n",
       "  201.019,1445.72 2352.76,1445.72 \n",
       "  \"/>\n",
       "<polyline clip-path=\"url(#clip712)\" style=\"stroke:#f8f8f2; stroke-linecap:round; stroke-linejoin:round; stroke-width:2; stroke-opacity:0.1; fill:none\" points=\"\n",
       "  201.019,1124.43 2352.76,1124.43 \n",
       "  \"/>\n",
       "<polyline clip-path=\"url(#clip712)\" style=\"stroke:#f8f8f2; stroke-linecap:round; stroke-linejoin:round; stroke-width:2; stroke-opacity:0.1; fill:none\" points=\"\n",
       "  201.019,803.151 2352.76,803.151 \n",
       "  \"/>\n",
       "<polyline clip-path=\"url(#clip712)\" style=\"stroke:#f8f8f2; stroke-linecap:round; stroke-linejoin:round; stroke-width:2; stroke-opacity:0.1; fill:none\" points=\"\n",
       "  201.019,481.868 2352.76,481.868 \n",
       "  \"/>\n",
       "<polyline clip-path=\"url(#clip712)\" style=\"stroke:#f8f8f2; stroke-linecap:round; stroke-linejoin:round; stroke-width:2; stroke-opacity:0.1; fill:none\" points=\"\n",
       "  201.019,160.586 2352.76,160.586 \n",
       "  \"/>\n",
       "<polyline clip-path=\"url(#clip710)\" style=\"stroke:#f8f8f2; stroke-linecap:round; stroke-linejoin:round; stroke-width:4; stroke-opacity:1; fill:none\" points=\"\n",
       "  201.019,1486.45 201.019,47.2441 \n",
       "  \"/>\n",
       "<polyline clip-path=\"url(#clip710)\" style=\"stroke:#f8f8f2; stroke-linecap:round; stroke-linejoin:round; stroke-width:4; stroke-opacity:1; fill:none\" points=\"\n",
       "  201.019,1445.72 219.917,1445.72 \n",
       "  \"/>\n",
       "<polyline clip-path=\"url(#clip710)\" style=\"stroke:#f8f8f2; stroke-linecap:round; stroke-linejoin:round; stroke-width:4; stroke-opacity:1; fill:none\" points=\"\n",
       "  201.019,1124.43 219.917,1124.43 \n",
       "  \"/>\n",
       "<polyline clip-path=\"url(#clip710)\" style=\"stroke:#f8f8f2; stroke-linecap:round; stroke-linejoin:round; stroke-width:4; stroke-opacity:1; fill:none\" points=\"\n",
       "  201.019,803.151 219.917,803.151 \n",
       "  \"/>\n",
       "<polyline clip-path=\"url(#clip710)\" style=\"stroke:#f8f8f2; stroke-linecap:round; stroke-linejoin:round; stroke-width:4; stroke-opacity:1; fill:none\" points=\"\n",
       "  201.019,481.868 219.917,481.868 \n",
       "  \"/>\n",
       "<polyline clip-path=\"url(#clip710)\" style=\"stroke:#f8f8f2; stroke-linecap:round; stroke-linejoin:round; stroke-width:4; stroke-opacity:1; fill:none\" points=\"\n",
       "  201.019,160.586 219.917,160.586 \n",
       "  \"/>\n",
       "<path clip-path=\"url(#clip710)\" d=\"M153.075 1431.51 Q149.464 1431.51 147.635 1435.08 Q145.83 1438.62 145.83 1445.75 Q145.83 1452.86 147.635 1456.42 Q149.464 1459.96 153.075 1459.96 Q156.709 1459.96 158.515 1456.42 Q160.343 1452.86 160.343 1445.75 Q160.343 1438.62 158.515 1435.08 Q156.709 1431.51 153.075 1431.51 M153.075 1427.81 Q158.885 1427.81 161.941 1432.42 Q165.019 1437 165.019 1445.75 Q165.019 1454.48 161.941 1459.08 Q158.885 1463.67 153.075 1463.67 Q147.265 1463.67 144.186 1459.08 Q141.131 1454.48 141.131 1445.75 Q141.131 1437 144.186 1432.42 Q147.265 1427.81 153.075 1427.81 Z\" fill=\"#f8f8f2\" fill-rule=\"evenodd\" fill-opacity=\"1\" /><path clip-path=\"url(#clip710)\" d=\"M82.7975 1107.15 L101.154 1107.15 L101.154 1111.09 L87.0799 1111.09 L87.0799 1119.56 Q88.0984 1119.21 89.1169 1119.05 Q90.1354 1118.87 91.1539 1118.87 Q96.941 1118.87 100.321 1122.04 Q103.7 1125.21 103.7 1130.63 Q103.7 1136.2 100.228 1139.31 Q96.7558 1142.38 90.4364 1142.38 Q88.2604 1142.38 85.9919 1142.01 Q83.7466 1141.64 81.3392 1140.9 L81.3392 1136.2 Q83.4225 1137.34 85.6447 1137.89 Q87.8669 1138.45 90.3438 1138.45 Q94.3484 1138.45 96.6863 1136.34 Q99.0243 1134.24 99.0243 1130.63 Q99.0243 1127.01 96.6863 1124.91 Q94.3484 1122.8 90.3438 1122.8 Q88.4688 1122.8 86.5938 1123.22 Q84.7419 1123.63 82.7975 1124.51 L82.7975 1107.15 Z\" fill=\"#f8f8f2\" fill-rule=\"evenodd\" fill-opacity=\"1\" /><path clip-path=\"url(#clip710)\" d=\"M122.913 1110.23 Q119.302 1110.23 117.473 1113.8 Q115.668 1117.34 115.668 1124.47 Q115.668 1131.57 117.473 1135.14 Q119.302 1138.68 122.913 1138.68 Q126.547 1138.68 128.353 1135.14 Q130.182 1131.57 130.182 1124.47 Q130.182 1117.34 128.353 1113.8 Q126.547 1110.23 122.913 1110.23 M122.913 1106.53 Q128.723 1106.53 131.779 1111.13 Q134.857 1115.72 134.857 1124.47 Q134.857 1133.19 131.779 1137.8 Q128.723 1142.38 122.913 1142.38 Q117.103 1142.38 114.024 1137.8 Q110.969 1133.19 110.969 1124.47 Q110.969 1115.72 114.024 1111.13 Q117.103 1106.53 122.913 1106.53 Z\" fill=\"#f8f8f2\" fill-rule=\"evenodd\" fill-opacity=\"1\" /><path clip-path=\"url(#clip710)\" d=\"M153.075 1110.23 Q149.464 1110.23 147.635 1113.8 Q145.83 1117.34 145.83 1124.47 Q145.83 1131.57 147.635 1135.14 Q149.464 1138.68 153.075 1138.68 Q156.709 1138.68 158.515 1135.14 Q160.343 1131.57 160.343 1124.47 Q160.343 1117.34 158.515 1113.8 Q156.709 1110.23 153.075 1110.23 M153.075 1106.53 Q158.885 1106.53 161.941 1111.13 Q165.019 1115.72 165.019 1124.47 Q165.019 1133.19 161.941 1137.8 Q158.885 1142.38 153.075 1142.38 Q147.265 1142.38 144.186 1137.8 Q141.131 1133.19 141.131 1124.47 Q141.131 1115.72 144.186 1111.13 Q147.265 1106.53 153.075 1106.53 Z\" fill=\"#f8f8f2\" fill-rule=\"evenodd\" fill-opacity=\"1\" /><path clip-path=\"url(#clip710)\" d=\"M53.3995 816.496 L61.0384 816.496 L61.0384 790.13 L52.7282 791.797 L52.7282 787.538 L60.9921 785.871 L65.668 785.871 L65.668 816.496 L73.3068 816.496 L73.3068 820.431 L53.3995 820.431 L53.3995 816.496 Z\" fill=\"#f8f8f2\" fill-rule=\"evenodd\" fill-opacity=\"1\" /><path clip-path=\"url(#clip710)\" d=\"M92.7512 788.95 Q89.1401 788.95 87.3114 792.514 Q85.5058 796.056 85.5058 803.186 Q85.5058 810.292 87.3114 813.857 Q89.1401 817.399 92.7512 817.399 Q96.3854 817.399 98.1909 813.857 Q100.02 810.292 100.02 803.186 Q100.02 796.056 98.1909 792.514 Q96.3854 788.95 92.7512 788.95 M92.7512 785.246 Q98.5613 785.246 101.617 789.852 Q104.696 794.436 104.696 803.186 Q104.696 811.912 101.617 816.519 Q98.5613 821.102 92.7512 821.102 Q86.941 821.102 83.8623 816.519 Q80.8068 811.912 80.8068 803.186 Q80.8068 794.436 83.8623 789.852 Q86.941 785.246 92.7512 785.246 Z\" fill=\"#f8f8f2\" fill-rule=\"evenodd\" fill-opacity=\"1\" /><path clip-path=\"url(#clip710)\" d=\"M122.913 788.95 Q119.302 788.95 117.473 792.514 Q115.668 796.056 115.668 803.186 Q115.668 810.292 117.473 813.857 Q119.302 817.399 122.913 817.399 Q126.547 817.399 128.353 813.857 Q130.182 810.292 130.182 803.186 Q130.182 796.056 128.353 792.514 Q126.547 788.95 122.913 788.95 M122.913 785.246 Q128.723 785.246 131.779 789.852 Q134.857 794.436 134.857 803.186 Q134.857 811.912 131.779 816.519 Q128.723 821.102 122.913 821.102 Q117.103 821.102 114.024 816.519 Q110.969 811.912 110.969 803.186 Q110.969 794.436 114.024 789.852 Q117.103 785.246 122.913 785.246 Z\" fill=\"#f8f8f2\" fill-rule=\"evenodd\" fill-opacity=\"1\" /><path clip-path=\"url(#clip710)\" d=\"M153.075 788.95 Q149.464 788.95 147.635 792.514 Q145.83 796.056 145.83 803.186 Q145.83 810.292 147.635 813.857 Q149.464 817.399 153.075 817.399 Q156.709 817.399 158.515 813.857 Q160.343 810.292 160.343 803.186 Q160.343 796.056 158.515 792.514 Q156.709 788.95 153.075 788.95 M153.075 785.246 Q158.885 785.246 161.941 789.852 Q165.019 794.436 165.019 803.186 Q165.019 811.912 161.941 816.519 Q158.885 821.102 153.075 821.102 Q147.265 821.102 144.186 816.519 Q141.131 811.912 141.131 803.186 Q141.131 794.436 144.186 789.852 Q147.265 785.246 153.075 785.246 Z\" fill=\"#f8f8f2\" fill-rule=\"evenodd\" fill-opacity=\"1\" /><path clip-path=\"url(#clip710)\" d=\"M53.3995 495.213 L61.0384 495.213 L61.0384 468.848 L52.7282 470.514 L52.7282 466.255 L60.9921 464.588 L65.668 464.588 L65.668 495.213 L73.3068 495.213 L73.3068 499.148 L53.3995 499.148 L53.3995 495.213 Z\" fill=\"#f8f8f2\" fill-rule=\"evenodd\" fill-opacity=\"1\" /><path clip-path=\"url(#clip710)\" d=\"M82.7975 464.588 L101.154 464.588 L101.154 468.524 L87.0799 468.524 L87.0799 476.996 Q88.0984 476.649 89.1169 476.487 Q90.1354 476.301 91.1539 476.301 Q96.941 476.301 100.321 479.473 Q103.7 482.644 103.7 488.061 Q103.7 493.639 100.228 496.741 Q96.7558 499.82 90.4364 499.82 Q88.2604 499.82 85.9919 499.449 Q83.7466 499.079 81.3392 498.338 L81.3392 493.639 Q83.4225 494.774 85.6447 495.329 Q87.8669 495.885 90.3438 495.885 Q94.3484 495.885 96.6863 493.778 Q99.0243 491.672 99.0243 488.061 Q99.0243 484.45 96.6863 482.343 Q94.3484 480.237 90.3438 480.237 Q88.4688 480.237 86.5938 480.653 Q84.7419 481.07 82.7975 481.95 L82.7975 464.588 Z\" fill=\"#f8f8f2\" fill-rule=\"evenodd\" fill-opacity=\"1\" /><path clip-path=\"url(#clip710)\" d=\"M122.913 467.667 Q119.302 467.667 117.473 471.232 Q115.668 474.774 115.668 481.903 Q115.668 489.01 117.473 492.574 Q119.302 496.116 122.913 496.116 Q126.547 496.116 128.353 492.574 Q130.182 489.01 130.182 481.903 Q130.182 474.774 128.353 471.232 Q126.547 467.667 122.913 467.667 M122.913 463.964 Q128.723 463.964 131.779 468.57 Q134.857 473.153 134.857 481.903 Q134.857 490.63 131.779 495.236 Q128.723 499.82 122.913 499.82 Q117.103 499.82 114.024 495.236 Q110.969 490.63 110.969 481.903 Q110.969 473.153 114.024 468.57 Q117.103 463.964 122.913 463.964 Z\" fill=\"#f8f8f2\" fill-rule=\"evenodd\" fill-opacity=\"1\" /><path clip-path=\"url(#clip710)\" d=\"M153.075 467.667 Q149.464 467.667 147.635 471.232 Q145.83 474.774 145.83 481.903 Q145.83 489.01 147.635 492.574 Q149.464 496.116 153.075 496.116 Q156.709 496.116 158.515 492.574 Q160.343 489.01 160.343 481.903 Q160.343 474.774 158.515 471.232 Q156.709 467.667 153.075 467.667 M153.075 463.964 Q158.885 463.964 161.941 468.57 Q165.019 473.153 165.019 481.903 Q165.019 490.63 161.941 495.236 Q158.885 499.82 153.075 499.82 Q147.265 499.82 144.186 495.236 Q141.131 490.63 141.131 481.903 Q141.131 473.153 144.186 468.57 Q147.265 463.964 153.075 463.964 Z\" fill=\"#f8f8f2\" fill-rule=\"evenodd\" fill-opacity=\"1\" /><path clip-path=\"url(#clip710)\" d=\"M56.6171 173.931 L72.9365 173.931 L72.9365 177.866 L50.9921 177.866 L50.9921 173.931 Q53.6541 171.176 58.2375 166.547 Q62.8439 161.894 64.0245 160.551 Q66.2698 158.028 67.1494 156.292 Q68.0522 154.533 68.0522 152.843 Q68.0522 150.088 66.1078 148.352 Q64.1865 146.616 61.0847 146.616 Q58.8856 146.616 56.4319 147.38 Q54.0014 148.144 51.2236 149.695 L51.2236 144.973 Q54.0477 143.839 56.5014 143.26 Q58.955 142.681 60.9921 142.681 Q66.3624 142.681 69.5568 145.366 Q72.7513 148.051 72.7513 152.542 Q72.7513 154.672 71.9411 156.593 Q71.1541 158.491 69.0476 161.084 Q68.4689 161.755 65.367 164.973 Q62.2652 168.167 56.6171 173.931 Z\" fill=\"#f8f8f2\" fill-rule=\"evenodd\" fill-opacity=\"1\" /><path clip-path=\"url(#clip710)\" d=\"M92.7512 146.385 Q89.1401 146.385 87.3114 149.95 Q85.5058 153.491 85.5058 160.621 Q85.5058 167.727 87.3114 171.292 Q89.1401 174.834 92.7512 174.834 Q96.3854 174.834 98.1909 171.292 Q100.02 167.727 100.02 160.621 Q100.02 153.491 98.1909 149.95 Q96.3854 146.385 92.7512 146.385 M92.7512 142.681 Q98.5613 142.681 101.617 147.288 Q104.696 151.871 104.696 160.621 Q104.696 169.348 101.617 173.954 Q98.5613 178.537 92.7512 178.537 Q86.941 178.537 83.8623 173.954 Q80.8068 169.348 80.8068 160.621 Q80.8068 151.871 83.8623 147.288 Q86.941 142.681 92.7512 142.681 Z\" fill=\"#f8f8f2\" fill-rule=\"evenodd\" fill-opacity=\"1\" /><path clip-path=\"url(#clip710)\" d=\"M122.913 146.385 Q119.302 146.385 117.473 149.95 Q115.668 153.491 115.668 160.621 Q115.668 167.727 117.473 171.292 Q119.302 174.834 122.913 174.834 Q126.547 174.834 128.353 171.292 Q130.182 167.727 130.182 160.621 Q130.182 153.491 128.353 149.95 Q126.547 146.385 122.913 146.385 M122.913 142.681 Q128.723 142.681 131.779 147.288 Q134.857 151.871 134.857 160.621 Q134.857 169.348 131.779 173.954 Q128.723 178.537 122.913 178.537 Q117.103 178.537 114.024 173.954 Q110.969 169.348 110.969 160.621 Q110.969 151.871 114.024 147.288 Q117.103 142.681 122.913 142.681 Z\" fill=\"#f8f8f2\" fill-rule=\"evenodd\" fill-opacity=\"1\" /><path clip-path=\"url(#clip710)\" d=\"M153.075 146.385 Q149.464 146.385 147.635 149.95 Q145.83 153.491 145.83 160.621 Q145.83 167.727 147.635 171.292 Q149.464 174.834 153.075 174.834 Q156.709 174.834 158.515 171.292 Q160.343 167.727 160.343 160.621 Q160.343 153.491 158.515 149.95 Q156.709 146.385 153.075 146.385 M153.075 142.681 Q158.885 142.681 161.941 147.288 Q165.019 151.871 165.019 160.621 Q165.019 169.348 161.941 173.954 Q158.885 178.537 153.075 178.537 Q147.265 178.537 144.186 173.954 Q141.131 169.348 141.131 160.621 Q141.131 151.871 144.186 147.288 Q147.265 142.681 153.075 142.681 Z\" fill=\"#f8f8f2\" fill-rule=\"evenodd\" fill-opacity=\"1\" /><path clip-path=\"url(#clip712)\" d=\"\n",
       "M319.369 123.317 L319.369 1445.72 L357.669 1445.72 L357.669 123.317 L319.369 123.317 L319.369 123.317  Z\n",
       "  \" fill=\"#8be9fd\" fill-rule=\"evenodd\" fill-opacity=\"1\"/>\n",
       "<polyline clip-path=\"url(#clip712)\" style=\"stroke:#f8f8f2; stroke-linecap:round; stroke-linejoin:round; stroke-width:4; stroke-opacity:1; fill:none\" points=\"\n",
       "  319.369,123.317 319.369,1445.72 357.669,1445.72 357.669,123.317 319.369,123.317 \n",
       "  \"/>\n",
       "<path clip-path=\"url(#clip712)\" d=\"\n",
       "M357.669 87.9763 L357.669 1445.72 L395.97 1445.72 L395.97 87.9763 L357.669 87.9763 L357.669 87.9763  Z\n",
       "  \" fill=\"#8be9fd\" fill-rule=\"evenodd\" fill-opacity=\"1\"/>\n",
       "<polyline clip-path=\"url(#clip712)\" style=\"stroke:#f8f8f2; stroke-linecap:round; stroke-linejoin:round; stroke-width:4; stroke-opacity:1; fill:none\" points=\"\n",
       "  357.669,87.9763 357.669,1445.72 395.97,1445.72 395.97,87.9763 357.669,87.9763 \n",
       "  \"/>\n",
       "<path clip-path=\"url(#clip712)\" d=\"\n",
       "M395.97 185.646 L395.97 1445.72 L434.271 1445.72 L434.271 185.646 L395.97 185.646 L395.97 185.646  Z\n",
       "  \" fill=\"#8be9fd\" fill-rule=\"evenodd\" fill-opacity=\"1\"/>\n",
       "<polyline clip-path=\"url(#clip712)\" style=\"stroke:#f8f8f2; stroke-linecap:round; stroke-linejoin:round; stroke-width:4; stroke-opacity:1; fill:none\" points=\"\n",
       "  395.97,185.646 395.97,1445.72 434.271,1445.72 434.271,185.646 395.97,185.646 \n",
       "  \"/>\n",
       "<path clip-path=\"url(#clip712)\" d=\"\n",
       "M434.271 132.313 L434.271 1445.72 L472.572 1445.72 L472.572 132.313 L434.271 132.313 L434.271 132.313  Z\n",
       "  \" fill=\"#8be9fd\" fill-rule=\"evenodd\" fill-opacity=\"1\"/>\n",
       "<polyline clip-path=\"url(#clip712)\" style=\"stroke:#f8f8f2; stroke-linecap:round; stroke-linejoin:round; stroke-width:4; stroke-opacity:1; fill:none\" points=\"\n",
       "  434.271,132.313 434.271,1445.72 472.572,1445.72 472.572,132.313 434.271,132.313 \n",
       "  \"/>\n",
       "<path clip-path=\"url(#clip712)\" d=\"\n",
       "M472.572 178.578 L472.572 1445.72 L510.872 1445.72 L510.872 178.578 L472.572 178.578 L472.572 178.578  Z\n",
       "  \" fill=\"#8be9fd\" fill-rule=\"evenodd\" fill-opacity=\"1\"/>\n",
       "<polyline clip-path=\"url(#clip712)\" style=\"stroke:#f8f8f2; stroke-linecap:round; stroke-linejoin:round; stroke-width:4; stroke-opacity:1; fill:none\" points=\"\n",
       "  472.572,178.578 472.572,1445.72 510.872,1445.72 510.872,178.578 472.572,178.578 \n",
       "  \"/>\n",
       "<path clip-path=\"url(#clip712)\" d=\"\n",
       "M510.872 127.815 L510.872 1445.72 L549.173 1445.72 L549.173 127.815 L510.872 127.815 L510.872 127.815  Z\n",
       "  \" fill=\"#8be9fd\" fill-rule=\"evenodd\" fill-opacity=\"1\"/>\n",
       "<polyline clip-path=\"url(#clip712)\" style=\"stroke:#f8f8f2; stroke-linecap:round; stroke-linejoin:round; stroke-width:4; stroke-opacity:1; fill:none\" points=\"\n",
       "  510.872,127.815 510.872,1445.72 549.173,1445.72 549.173,127.815 510.872,127.815 \n",
       "  \"/>\n",
       "<path clip-path=\"url(#clip712)\" d=\"\n",
       "M549.173 150.305 L549.173 1445.72 L587.474 1445.72 L587.474 150.305 L549.173 150.305 L549.173 150.305  Z\n",
       "  \" fill=\"#8be9fd\" fill-rule=\"evenodd\" fill-opacity=\"1\"/>\n",
       "<polyline clip-path=\"url(#clip712)\" style=\"stroke:#f8f8f2; stroke-linecap:round; stroke-linejoin:round; stroke-width:4; stroke-opacity:1; fill:none\" points=\"\n",
       "  549.173,150.305 549.173,1445.72 587.474,1445.72 587.474,150.305 549.173,150.305 \n",
       "  \"/>\n",
       "<path clip-path=\"url(#clip712)\" d=\"\n",
       "M587.474 171.51 L587.474 1445.72 L625.775 1445.72 L625.775 171.51 L587.474 171.51 L587.474 171.51  Z\n",
       "  \" fill=\"#8be9fd\" fill-rule=\"evenodd\" fill-opacity=\"1\"/>\n",
       "<polyline clip-path=\"url(#clip712)\" style=\"stroke:#f8f8f2; stroke-linecap:round; stroke-linejoin:round; stroke-width:4; stroke-opacity:1; fill:none\" points=\"\n",
       "  587.474,171.51 587.474,1445.72 625.775,1445.72 625.775,171.51 587.474,171.51 \n",
       "  \"/>\n",
       "<path clip-path=\"url(#clip712)\" d=\"\n",
       "M625.775 160.586 L625.775 1445.72 L664.075 1445.72 L664.075 160.586 L625.775 160.586 L625.775 160.586  Z\n",
       "  \" fill=\"#8be9fd\" fill-rule=\"evenodd\" fill-opacity=\"1\"/>\n",
       "<polyline clip-path=\"url(#clip712)\" style=\"stroke:#f8f8f2; stroke-linecap:round; stroke-linejoin:round; stroke-width:4; stroke-opacity:1; fill:none\" points=\"\n",
       "  625.775,160.586 625.775,1445.72 664.075,1445.72 664.075,160.586 625.775,160.586 \n",
       "  \"/>\n",
       "<path clip-path=\"url(#clip712)\" d=\"\n",
       "M664.075 189.502 L664.075 1445.72 L702.376 1445.72 L702.376 189.502 L664.075 189.502 L664.075 189.502  Z\n",
       "  \" fill=\"#8be9fd\" fill-rule=\"evenodd\" fill-opacity=\"1\"/>\n",
       "<polyline clip-path=\"url(#clip712)\" style=\"stroke:#f8f8f2; stroke-linecap:round; stroke-linejoin:round; stroke-width:4; stroke-opacity:1; fill:none\" points=\"\n",
       "  664.075,189.502 664.075,1445.72 702.376,1445.72 702.376,189.502 664.075,189.502 \n",
       "  \"/>\n",
       "<path clip-path=\"url(#clip712)\" d=\"\n",
       "M702.376 141.952 L702.376 1445.72 L740.677 1445.72 L740.677 141.952 L702.376 141.952 L702.376 141.952  Z\n",
       "  \" fill=\"#8be9fd\" fill-rule=\"evenodd\" fill-opacity=\"1\"/>\n",
       "<polyline clip-path=\"url(#clip712)\" style=\"stroke:#f8f8f2; stroke-linecap:round; stroke-linejoin:round; stroke-width:4; stroke-opacity:1; fill:none\" points=\"\n",
       "  702.376,141.952 702.376,1445.72 740.677,1445.72 740.677,141.952 702.376,141.952 \n",
       "  \"/>\n",
       "<path clip-path=\"url(#clip712)\" d=\"\n",
       "M740.677 122.675 L740.677 1445.72 L778.978 1445.72 L778.978 122.675 L740.677 122.675 L740.677 122.675  Z\n",
       "  \" fill=\"#8be9fd\" fill-rule=\"evenodd\" fill-opacity=\"1\"/>\n",
       "<polyline clip-path=\"url(#clip712)\" style=\"stroke:#f8f8f2; stroke-linecap:round; stroke-linejoin:round; stroke-width:4; stroke-opacity:1; fill:none\" points=\"\n",
       "  740.677,122.675 740.677,1445.72 778.978,1445.72 778.978,122.675 740.677,122.675 \n",
       "  \"/>\n",
       "<path clip-path=\"url(#clip712)\" d=\"\n",
       "M778.978 132.313 L778.978 1445.72 L817.278 1445.72 L817.278 132.313 L778.978 132.313 L778.978 132.313  Z\n",
       "  \" fill=\"#8be9fd\" fill-rule=\"evenodd\" fill-opacity=\"1\"/>\n",
       "<polyline clip-path=\"url(#clip712)\" style=\"stroke:#f8f8f2; stroke-linecap:round; stroke-linejoin:round; stroke-width:4; stroke-opacity:1; fill:none\" points=\"\n",
       "  778.978,132.313 778.978,1445.72 817.278,1445.72 817.278,132.313 778.978,132.313 \n",
       "  \"/>\n",
       "<path clip-path=\"url(#clip712)\" d=\"\n",
       "M817.278 168.939 L817.278 1445.72 L855.579 1445.72 L855.579 168.939 L817.278 168.939 L817.278 168.939  Z\n",
       "  \" fill=\"#8be9fd\" fill-rule=\"evenodd\" fill-opacity=\"1\"/>\n",
       "<polyline clip-path=\"url(#clip712)\" style=\"stroke:#f8f8f2; stroke-linecap:round; stroke-linejoin:round; stroke-width:4; stroke-opacity:1; fill:none\" points=\"\n",
       "  817.278,168.939 817.278,1445.72 855.579,1445.72 855.579,168.939 817.278,168.939 \n",
       "  \"/>\n",
       "<path clip-path=\"url(#clip712)\" d=\"\n",
       "M855.579 202.353 L855.579 1445.72 L893.88 1445.72 L893.88 202.353 L855.579 202.353 L855.579 202.353  Z\n",
       "  \" fill=\"#8be9fd\" fill-rule=\"evenodd\" fill-opacity=\"1\"/>\n",
       "<polyline clip-path=\"url(#clip712)\" style=\"stroke:#f8f8f2; stroke-linecap:round; stroke-linejoin:round; stroke-width:4; stroke-opacity:1; fill:none\" points=\"\n",
       "  855.579,202.353 855.579,1445.72 893.88,1445.72 893.88,202.353 855.579,202.353 \n",
       "  \"/>\n",
       "<path clip-path=\"url(#clip712)\" d=\"\n",
       "M893.88 176.008 L893.88 1445.72 L932.181 1445.72 L932.181 176.008 L893.88 176.008 L893.88 176.008  Z\n",
       "  \" fill=\"#8be9fd\" fill-rule=\"evenodd\" fill-opacity=\"1\"/>\n",
       "<polyline clip-path=\"url(#clip712)\" style=\"stroke:#f8f8f2; stroke-linecap:round; stroke-linejoin:round; stroke-width:4; stroke-opacity:1; fill:none\" points=\"\n",
       "  893.88,176.008 893.88,1445.72 932.181,1445.72 932.181,176.008 893.88,176.008 \n",
       "  \"/>\n",
       "<path clip-path=\"url(#clip712)\" d=\"\n",
       "M932.181 214.562 L932.181 1445.72 L970.482 1445.72 L970.482 214.562 L932.181 214.562 L932.181 214.562  Z\n",
       "  \" fill=\"#8be9fd\" fill-rule=\"evenodd\" fill-opacity=\"1\"/>\n",
       "<polyline clip-path=\"url(#clip712)\" style=\"stroke:#f8f8f2; stroke-linecap:round; stroke-linejoin:round; stroke-width:4; stroke-opacity:1; fill:none\" points=\"\n",
       "  932.181,214.562 932.181,1445.72 970.482,1445.72 970.482,214.562 932.181,214.562 \n",
       "  \"/>\n",
       "<path clip-path=\"url(#clip712)\" d=\"\n",
       "M970.482 163.799 L970.482 1445.72 L1008.78 1445.72 L1008.78 163.799 L970.482 163.799 L970.482 163.799  Z\n",
       "  \" fill=\"#8be9fd\" fill-rule=\"evenodd\" fill-opacity=\"1\"/>\n",
       "<polyline clip-path=\"url(#clip712)\" style=\"stroke:#f8f8f2; stroke-linecap:round; stroke-linejoin:round; stroke-width:4; stroke-opacity:1; fill:none\" points=\"\n",
       "  970.482,163.799 970.482,1445.72 1008.78,1445.72 1008.78,163.799 970.482,163.799 \n",
       "  \"/>\n",
       "<path clip-path=\"url(#clip712)\" d=\"\n",
       "M1008.78 177.935 L1008.78 1445.72 L1047.08 1445.72 L1047.08 177.935 L1008.78 177.935 L1008.78 177.935  Z\n",
       "  \" fill=\"#8be9fd\" fill-rule=\"evenodd\" fill-opacity=\"1\"/>\n",
       "<polyline clip-path=\"url(#clip712)\" style=\"stroke:#f8f8f2; stroke-linecap:round; stroke-linejoin:round; stroke-width:4; stroke-opacity:1; fill:none\" points=\"\n",
       "  1008.78,177.935 1008.78,1445.72 1047.08,1445.72 1047.08,177.935 1008.78,177.935 \n",
       "  \"/>\n",
       "<path clip-path=\"url(#clip712)\" d=\"\n",
       "M1047.08 181.148 L1047.08 1445.72 L1085.38 1445.72 L1085.38 181.148 L1047.08 181.148 L1047.08 181.148  Z\n",
       "  \" fill=\"#8be9fd\" fill-rule=\"evenodd\" fill-opacity=\"1\"/>\n",
       "<polyline clip-path=\"url(#clip712)\" style=\"stroke:#f8f8f2; stroke-linecap:round; stroke-linejoin:round; stroke-width:4; stroke-opacity:1; fill:none\" points=\"\n",
       "  1047.08,181.148 1047.08,1445.72 1085.38,1445.72 1085.38,181.148 1047.08,181.148 \n",
       "  \"/>\n",
       "<path clip-path=\"url(#clip712)\" d=\"\n",
       "M1085.38 143.237 L1085.38 1445.72 L1123.68 1445.72 L1123.68 143.237 L1085.38 143.237 L1085.38 143.237  Z\n",
       "  \" fill=\"#8be9fd\" fill-rule=\"evenodd\" fill-opacity=\"1\"/>\n",
       "<polyline clip-path=\"url(#clip712)\" style=\"stroke:#f8f8f2; stroke-linecap:round; stroke-linejoin:round; stroke-width:4; stroke-opacity:1; fill:none\" points=\"\n",
       "  1085.38,143.237 1085.38,1445.72 1123.68,1445.72 1123.68,143.237 1085.38,143.237 \n",
       "  \"/>\n",
       "<path clip-path=\"url(#clip712)\" d=\"\n",
       "M1123.68 134.884 L1123.68 1445.72 L1161.99 1445.72 L1161.99 134.884 L1123.68 134.884 L1123.68 134.884  Z\n",
       "  \" fill=\"#8be9fd\" fill-rule=\"evenodd\" fill-opacity=\"1\"/>\n",
       "<polyline clip-path=\"url(#clip712)\" style=\"stroke:#f8f8f2; stroke-linecap:round; stroke-linejoin:round; stroke-width:4; stroke-opacity:1; fill:none\" points=\"\n",
       "  1123.68,134.884 1123.68,1445.72 1161.99,1445.72 1161.99,134.884 1123.68,134.884 \n",
       "  \"/>\n",
       "<path clip-path=\"url(#clip712)\" d=\"\n",
       "M1161.99 179.863 L1161.99 1445.72 L1200.29 1445.72 L1200.29 179.863 L1161.99 179.863 L1161.99 179.863  Z\n",
       "  \" fill=\"#8be9fd\" fill-rule=\"evenodd\" fill-opacity=\"1\"/>\n",
       "<polyline clip-path=\"url(#clip712)\" style=\"stroke:#f8f8f2; stroke-linecap:round; stroke-linejoin:round; stroke-width:4; stroke-opacity:1; fill:none\" points=\"\n",
       "  1161.99,179.863 1161.99,1445.72 1200.29,1445.72 1200.29,179.863 1161.99,179.863 \n",
       "  \"/>\n",
       "<path clip-path=\"url(#clip712)\" d=\"\n",
       "M1200.29 150.305 L1200.29 1445.72 L1238.59 1445.72 L1238.59 150.305 L1200.29 150.305 L1200.29 150.305  Z\n",
       "  \" fill=\"#8be9fd\" fill-rule=\"evenodd\" fill-opacity=\"1\"/>\n",
       "<polyline clip-path=\"url(#clip712)\" style=\"stroke:#f8f8f2; stroke-linecap:round; stroke-linejoin:round; stroke-width:4; stroke-opacity:1; fill:none\" points=\"\n",
       "  1200.29,150.305 1200.29,1445.72 1238.59,1445.72 1238.59,150.305 1200.29,150.305 \n",
       "  \"/>\n",
       "<path clip-path=\"url(#clip712)\" d=\"\n",
       "M1238.59 208.778 L1238.59 1445.72 L1276.89 1445.72 L1276.89 208.778 L1238.59 208.778 L1238.59 208.778  Z\n",
       "  \" fill=\"#8be9fd\" fill-rule=\"evenodd\" fill-opacity=\"1\"/>\n",
       "<polyline clip-path=\"url(#clip712)\" style=\"stroke:#f8f8f2; stroke-linecap:round; stroke-linejoin:round; stroke-width:4; stroke-opacity:1; fill:none\" points=\"\n",
       "  1238.59,208.778 1238.59,1445.72 1276.89,1445.72 1276.89,208.778 1238.59,208.778 \n",
       "  \"/>\n",
       "<path clip-path=\"url(#clip712)\" d=\"\n",
       "M1276.89 168.297 L1276.89 1445.72 L1315.19 1445.72 L1315.19 168.297 L1276.89 168.297 L1276.89 168.297  Z\n",
       "  \" fill=\"#8be9fd\" fill-rule=\"evenodd\" fill-opacity=\"1\"/>\n",
       "<polyline clip-path=\"url(#clip712)\" style=\"stroke:#f8f8f2; stroke-linecap:round; stroke-linejoin:round; stroke-width:4; stroke-opacity:1; fill:none\" points=\"\n",
       "  1276.89,168.297 1276.89,1445.72 1315.19,1445.72 1315.19,168.297 1276.89,168.297 \n",
       "  \"/>\n",
       "<path clip-path=\"url(#clip712)\" d=\"\n",
       "M1315.19 168.297 L1315.19 1445.72 L1353.49 1445.72 L1353.49 168.297 L1315.19 168.297 L1315.19 168.297  Z\n",
       "  \" fill=\"#8be9fd\" fill-rule=\"evenodd\" fill-opacity=\"1\"/>\n",
       "<polyline clip-path=\"url(#clip712)\" style=\"stroke:#f8f8f2; stroke-linecap:round; stroke-linejoin:round; stroke-width:4; stroke-opacity:1; fill:none\" points=\"\n",
       "  1315.19,168.297 1315.19,1445.72 1353.49,1445.72 1353.49,168.297 1315.19,168.297 \n",
       "  \"/>\n",
       "<path clip-path=\"url(#clip712)\" d=\"\n",
       "M1353.49 142.594 L1353.49 1445.72 L1391.79 1445.72 L1391.79 142.594 L1353.49 142.594 L1353.49 142.594  Z\n",
       "  \" fill=\"#8be9fd\" fill-rule=\"evenodd\" fill-opacity=\"1\"/>\n",
       "<polyline clip-path=\"url(#clip712)\" style=\"stroke:#f8f8f2; stroke-linecap:round; stroke-linejoin:round; stroke-width:4; stroke-opacity:1; fill:none\" points=\"\n",
       "  1353.49,142.594 1353.49,1445.72 1391.79,1445.72 1391.79,142.594 1353.49,142.594 \n",
       "  \"/>\n",
       "<path clip-path=\"url(#clip712)\" d=\"\n",
       "M1391.79 140.024 L1391.79 1445.72 L1430.09 1445.72 L1430.09 140.024 L1391.79 140.024 L1391.79 140.024  Z\n",
       "  \" fill=\"#8be9fd\" fill-rule=\"evenodd\" fill-opacity=\"1\"/>\n",
       "<polyline clip-path=\"url(#clip712)\" style=\"stroke:#f8f8f2; stroke-linecap:round; stroke-linejoin:round; stroke-width:4; stroke-opacity:1; fill:none\" points=\"\n",
       "  1391.79,140.024 1391.79,1445.72 1430.09,1445.72 1430.09,140.024 1391.79,140.024 \n",
       "  \"/>\n",
       "<path clip-path=\"url(#clip712)\" d=\"\n",
       "M1430.09 168.297 L1430.09 1445.72 L1468.39 1445.72 L1468.39 168.297 L1430.09 168.297 L1430.09 168.297  Z\n",
       "  \" fill=\"#8be9fd\" fill-rule=\"evenodd\" fill-opacity=\"1\"/>\n",
       "<polyline clip-path=\"url(#clip712)\" style=\"stroke:#f8f8f2; stroke-linecap:round; stroke-linejoin:round; stroke-width:4; stroke-opacity:1; fill:none\" points=\"\n",
       "  1430.09,168.297 1430.09,1445.72 1468.39,1445.72 1468.39,168.297 1430.09,168.297 \n",
       "  \"/>\n",
       "<path clip-path=\"url(#clip712)\" d=\"\n",
       "M1468.39 170.225 L1468.39 1445.72 L1506.69 1445.72 L1506.69 170.225 L1468.39 170.225 L1468.39 170.225  Z\n",
       "  \" fill=\"#8be9fd\" fill-rule=\"evenodd\" fill-opacity=\"1\"/>\n",
       "<polyline clip-path=\"url(#clip712)\" style=\"stroke:#f8f8f2; stroke-linecap:round; stroke-linejoin:round; stroke-width:4; stroke-opacity:1; fill:none\" points=\"\n",
       "  1468.39,170.225 1468.39,1445.72 1506.69,1445.72 1506.69,170.225 1468.39,170.225 \n",
       "  \"/>\n",
       "<path clip-path=\"url(#clip712)\" d=\"\n",
       "M1506.69 161.229 L1506.69 1445.72 L1544.99 1445.72 L1544.99 161.229 L1506.69 161.229 L1506.69 161.229  Z\n",
       "  \" fill=\"#8be9fd\" fill-rule=\"evenodd\" fill-opacity=\"1\"/>\n",
       "<polyline clip-path=\"url(#clip712)\" style=\"stroke:#f8f8f2; stroke-linecap:round; stroke-linejoin:round; stroke-width:4; stroke-opacity:1; fill:none\" points=\"\n",
       "  1506.69,161.229 1506.69,1445.72 1544.99,1445.72 1544.99,161.229 1506.69,161.229 \n",
       "  \"/>\n",
       "<path clip-path=\"url(#clip712)\" d=\"\n",
       "M1544.99 176.65 L1544.99 1445.72 L1583.29 1445.72 L1583.29 176.65 L1544.99 176.65 L1544.99 176.65  Z\n",
       "  \" fill=\"#8be9fd\" fill-rule=\"evenodd\" fill-opacity=\"1\"/>\n",
       "<polyline clip-path=\"url(#clip712)\" style=\"stroke:#f8f8f2; stroke-linecap:round; stroke-linejoin:round; stroke-width:4; stroke-opacity:1; fill:none\" points=\"\n",
       "  1544.99,176.65 1544.99,1445.72 1583.29,1445.72 1583.29,176.65 1544.99,176.65 \n",
       "  \"/>\n",
       "<path clip-path=\"url(#clip712)\" d=\"\n",
       "M1583.29 181.148 L1583.29 1445.72 L1621.59 1445.72 L1621.59 181.148 L1583.29 181.148 L1583.29 181.148  Z\n",
       "  \" fill=\"#8be9fd\" fill-rule=\"evenodd\" fill-opacity=\"1\"/>\n",
       "<polyline clip-path=\"url(#clip712)\" style=\"stroke:#f8f8f2; stroke-linecap:round; stroke-linejoin:round; stroke-width:4; stroke-opacity:1; fill:none\" points=\"\n",
       "  1583.29,181.148 1583.29,1445.72 1621.59,1445.72 1621.59,181.148 1583.29,181.148 \n",
       "  \"/>\n",
       "<path clip-path=\"url(#clip712)\" d=\"\n",
       "M1621.59 215.204 L1621.59 1445.72 L1659.9 1445.72 L1659.9 215.204 L1621.59 215.204 L1621.59 215.204  Z\n",
       "  \" fill=\"#8be9fd\" fill-rule=\"evenodd\" fill-opacity=\"1\"/>\n",
       "<polyline clip-path=\"url(#clip712)\" style=\"stroke:#f8f8f2; stroke-linecap:round; stroke-linejoin:round; stroke-width:4; stroke-opacity:1; fill:none\" points=\"\n",
       "  1621.59,215.204 1621.59,1445.72 1659.9,1445.72 1659.9,215.204 1621.59,215.204 \n",
       "  \"/>\n",
       "<path clip-path=\"url(#clip712)\" d=\"\n",
       "M1659.9 172.795 L1659.9 1445.72 L1698.2 1445.72 L1698.2 172.795 L1659.9 172.795 L1659.9 172.795  Z\n",
       "  \" fill=\"#8be9fd\" fill-rule=\"evenodd\" fill-opacity=\"1\"/>\n",
       "<polyline clip-path=\"url(#clip712)\" style=\"stroke:#f8f8f2; stroke-linecap:round; stroke-linejoin:round; stroke-width:4; stroke-opacity:1; fill:none\" points=\"\n",
       "  1659.9,172.795 1659.9,1445.72 1698.2,1445.72 1698.2,172.795 1659.9,172.795 \n",
       "  \"/>\n",
       "<path clip-path=\"url(#clip712)\" d=\"\n",
       "M1698.2 167.654 L1698.2 1445.72 L1736.5 1445.72 L1736.5 167.654 L1698.2 167.654 L1698.2 167.654  Z\n",
       "  \" fill=\"#8be9fd\" fill-rule=\"evenodd\" fill-opacity=\"1\"/>\n",
       "<polyline clip-path=\"url(#clip712)\" style=\"stroke:#f8f8f2; stroke-linecap:round; stroke-linejoin:round; stroke-width:4; stroke-opacity:1; fill:none\" points=\"\n",
       "  1698.2,167.654 1698.2,1445.72 1736.5,1445.72 1736.5,167.654 1698.2,167.654 \n",
       "  \"/>\n",
       "<path clip-path=\"url(#clip712)\" d=\"\n",
       "M1736.5 158.658 L1736.5 1445.72 L1774.8 1445.72 L1774.8 158.658 L1736.5 158.658 L1736.5 158.658  Z\n",
       "  \" fill=\"#8be9fd\" fill-rule=\"evenodd\" fill-opacity=\"1\"/>\n",
       "<polyline clip-path=\"url(#clip712)\" style=\"stroke:#f8f8f2; stroke-linecap:round; stroke-linejoin:round; stroke-width:4; stroke-opacity:1; fill:none\" points=\"\n",
       "  1736.5,158.658 1736.5,1445.72 1774.8,1445.72 1774.8,158.658 1736.5,158.658 \n",
       "  \"/>\n",
       "<path clip-path=\"url(#clip712)\" d=\"\n",
       "M1774.8 125.245 L1774.8 1445.72 L1813.1 1445.72 L1813.1 125.245 L1774.8 125.245 L1774.8 125.245  Z\n",
       "  \" fill=\"#8be9fd\" fill-rule=\"evenodd\" fill-opacity=\"1\"/>\n",
       "<polyline clip-path=\"url(#clip712)\" style=\"stroke:#f8f8f2; stroke-linecap:round; stroke-linejoin:round; stroke-width:4; stroke-opacity:1; fill:none\" points=\"\n",
       "  1774.8,125.245 1774.8,1445.72 1813.1,1445.72 1813.1,125.245 1774.8,125.245 \n",
       "  \"/>\n",
       "<path clip-path=\"url(#clip712)\" d=\"\n",
       "M1813.1 134.241 L1813.1 1445.72 L1851.4 1445.72 L1851.4 134.241 L1813.1 134.241 L1813.1 134.241  Z\n",
       "  \" fill=\"#8be9fd\" fill-rule=\"evenodd\" fill-opacity=\"1\"/>\n",
       "<polyline clip-path=\"url(#clip712)\" style=\"stroke:#f8f8f2; stroke-linecap:round; stroke-linejoin:round; stroke-width:4; stroke-opacity:1; fill:none\" points=\"\n",
       "  1813.1,134.241 1813.1,1445.72 1851.4,1445.72 1851.4,134.241 1813.1,134.241 \n",
       "  \"/>\n",
       "<path clip-path=\"url(#clip712)\" d=\"\n",
       "M1851.4 136.169 L1851.4 1445.72 L1889.7 1445.72 L1889.7 136.169 L1851.4 136.169 L1851.4 136.169  Z\n",
       "  \" fill=\"#8be9fd\" fill-rule=\"evenodd\" fill-opacity=\"1\"/>\n",
       "<polyline clip-path=\"url(#clip712)\" style=\"stroke:#f8f8f2; stroke-linecap:round; stroke-linejoin:round; stroke-width:4; stroke-opacity:1; fill:none\" points=\"\n",
       "  1851.4,136.169 1851.4,1445.72 1889.7,1445.72 1889.7,136.169 1851.4,136.169 \n",
       "  \"/>\n",
       "<path clip-path=\"url(#clip712)\" d=\"\n",
       "M1889.7 164.441 L1889.7 1445.72 L1928 1445.72 L1928 164.441 L1889.7 164.441 L1889.7 164.441  Z\n",
       "  \" fill=\"#8be9fd\" fill-rule=\"evenodd\" fill-opacity=\"1\"/>\n",
       "<polyline clip-path=\"url(#clip712)\" style=\"stroke:#f8f8f2; stroke-linecap:round; stroke-linejoin:round; stroke-width:4; stroke-opacity:1; fill:none\" points=\"\n",
       "  1889.7,164.441 1889.7,1445.72 1928,1445.72 1928,164.441 1889.7,164.441 \n",
       "  \"/>\n",
       "<path clip-path=\"url(#clip712)\" d=\"\n",
       "M1928 165.084 L1928 1445.72 L1966.3 1445.72 L1966.3 165.084 L1928 165.084 L1928 165.084  Z\n",
       "  \" fill=\"#8be9fd\" fill-rule=\"evenodd\" fill-opacity=\"1\"/>\n",
       "<polyline clip-path=\"url(#clip712)\" style=\"stroke:#f8f8f2; stroke-linecap:round; stroke-linejoin:round; stroke-width:4; stroke-opacity:1; fill:none\" points=\"\n",
       "  1928,165.084 1928,1445.72 1966.3,1445.72 1966.3,165.084 1928,165.084 \n",
       "  \"/>\n",
       "<path clip-path=\"url(#clip712)\" d=\"\n",
       "M1966.3 121.39 L1966.3 1445.72 L2004.6 1445.72 L2004.6 121.39 L1966.3 121.39 L1966.3 121.39  Z\n",
       "  \" fill=\"#8be9fd\" fill-rule=\"evenodd\" fill-opacity=\"1\"/>\n",
       "<polyline clip-path=\"url(#clip712)\" style=\"stroke:#f8f8f2; stroke-linecap:round; stroke-linejoin:round; stroke-width:4; stroke-opacity:1; fill:none\" points=\"\n",
       "  1966.3,121.39 1966.3,1445.72 2004.6,1445.72 2004.6,121.39 1966.3,121.39 \n",
       "  \"/>\n",
       "<path clip-path=\"url(#clip712)\" d=\"\n",
       "M2004.6 170.867 L2004.6 1445.72 L2042.9 1445.72 L2042.9 170.867 L2004.6 170.867 L2004.6 170.867  Z\n",
       "  \" fill=\"#8be9fd\" fill-rule=\"evenodd\" fill-opacity=\"1\"/>\n",
       "<polyline clip-path=\"url(#clip712)\" style=\"stroke:#f8f8f2; stroke-linecap:round; stroke-linejoin:round; stroke-width:4; stroke-opacity:1; fill:none\" points=\"\n",
       "  2004.6,170.867 2004.6,1445.72 2042.9,1445.72 2042.9,170.867 2004.6,170.867 \n",
       "  \"/>\n",
       "<path clip-path=\"url(#clip712)\" d=\"\n",
       "M2042.9 126.53 L2042.9 1445.72 L2081.2 1445.72 L2081.2 126.53 L2042.9 126.53 L2042.9 126.53  Z\n",
       "  \" fill=\"#8be9fd\" fill-rule=\"evenodd\" fill-opacity=\"1\"/>\n",
       "<polyline clip-path=\"url(#clip712)\" style=\"stroke:#f8f8f2; stroke-linecap:round; stroke-linejoin:round; stroke-width:4; stroke-opacity:1; fill:none\" points=\"\n",
       "  2042.9,126.53 2042.9,1445.72 2081.2,1445.72 2081.2,126.53 2042.9,126.53 \n",
       "  \"/>\n",
       "<path clip-path=\"url(#clip712)\" d=\"\n",
       "M2081.2 213.276 L2081.2 1445.72 L2119.5 1445.72 L2119.5 213.276 L2081.2 213.276 L2081.2 213.276  Z\n",
       "  \" fill=\"#8be9fd\" fill-rule=\"evenodd\" fill-opacity=\"1\"/>\n",
       "<polyline clip-path=\"url(#clip712)\" style=\"stroke:#f8f8f2; stroke-linecap:round; stroke-linejoin:round; stroke-width:4; stroke-opacity:1; fill:none\" points=\"\n",
       "  2081.2,213.276 2081.2,1445.72 2119.5,1445.72 2119.5,213.276 2081.2,213.276 \n",
       "  \"/>\n",
       "<path clip-path=\"url(#clip712)\" d=\"\n",
       "M2119.5 178.578 L2119.5 1445.72 L2157.81 1445.72 L2157.81 178.578 L2119.5 178.578 L2119.5 178.578  Z\n",
       "  \" fill=\"#8be9fd\" fill-rule=\"evenodd\" fill-opacity=\"1\"/>\n",
       "<polyline clip-path=\"url(#clip712)\" style=\"stroke:#f8f8f2; stroke-linecap:round; stroke-linejoin:round; stroke-width:4; stroke-opacity:1; fill:none\" points=\"\n",
       "  2119.5,178.578 2119.5,1445.72 2157.81,1445.72 2157.81,178.578 2119.5,178.578 \n",
       "  \"/>\n",
       "<path clip-path=\"url(#clip712)\" d=\"\n",
       "M2157.81 131.671 L2157.81 1445.72 L2196.11 1445.72 L2196.11 131.671 L2157.81 131.671 L2157.81 131.671  Z\n",
       "  \" fill=\"#8be9fd\" fill-rule=\"evenodd\" fill-opacity=\"1\"/>\n",
       "<polyline clip-path=\"url(#clip712)\" style=\"stroke:#f8f8f2; stroke-linecap:round; stroke-linejoin:round; stroke-width:4; stroke-opacity:1; fill:none\" points=\"\n",
       "  2157.81,131.671 2157.81,1445.72 2196.11,1445.72 2196.11,131.671 2157.81,131.671 \n",
       "  \"/>\n",
       "<path clip-path=\"url(#clip712)\" d=\"\n",
       "M2196.11 164.441 L2196.11 1445.72 L2234.41 1445.72 L2234.41 164.441 L2196.11 164.441 L2196.11 164.441  Z\n",
       "  \" fill=\"#8be9fd\" fill-rule=\"evenodd\" fill-opacity=\"1\"/>\n",
       "<polyline clip-path=\"url(#clip712)\" style=\"stroke:#f8f8f2; stroke-linecap:round; stroke-linejoin:round; stroke-width:4; stroke-opacity:1; fill:none\" points=\"\n",
       "  2196.11,164.441 2196.11,1445.72 2234.41,1445.72 2234.41,164.441 2196.11,164.441 \n",
       "  \"/>\n",
       "<circle clip-path=\"url(#clip712)\" style=\"fill:#8be9fd; stroke:none; fill-opacity:0\" cx=\"338.519\" cy=\"123.317\" r=\"2\"/>\n",
       "<circle clip-path=\"url(#clip712)\" style=\"fill:#8be9fd; stroke:none; fill-opacity:0\" cx=\"376.82\" cy=\"87.9763\" r=\"2\"/>\n",
       "<circle clip-path=\"url(#clip712)\" style=\"fill:#8be9fd; stroke:none; fill-opacity:0\" cx=\"415.121\" cy=\"185.646\" r=\"2\"/>\n",
       "<circle clip-path=\"url(#clip712)\" style=\"fill:#8be9fd; stroke:none; fill-opacity:0\" cx=\"453.421\" cy=\"132.313\" r=\"2\"/>\n",
       "<circle clip-path=\"url(#clip712)\" style=\"fill:#8be9fd; stroke:none; fill-opacity:0\" cx=\"491.722\" cy=\"178.578\" r=\"2\"/>\n",
       "<circle clip-path=\"url(#clip712)\" style=\"fill:#8be9fd; stroke:none; fill-opacity:0\" cx=\"530.023\" cy=\"127.815\" r=\"2\"/>\n",
       "<circle clip-path=\"url(#clip712)\" style=\"fill:#8be9fd; stroke:none; fill-opacity:0\" cx=\"568.324\" cy=\"150.305\" r=\"2\"/>\n",
       "<circle clip-path=\"url(#clip712)\" style=\"fill:#8be9fd; stroke:none; fill-opacity:0\" cx=\"606.624\" cy=\"171.51\" r=\"2\"/>\n",
       "<circle clip-path=\"url(#clip712)\" style=\"fill:#8be9fd; stroke:none; fill-opacity:0\" cx=\"644.925\" cy=\"160.586\" r=\"2\"/>\n",
       "<circle clip-path=\"url(#clip712)\" style=\"fill:#8be9fd; stroke:none; fill-opacity:0\" cx=\"683.226\" cy=\"189.502\" r=\"2\"/>\n",
       "<circle clip-path=\"url(#clip712)\" style=\"fill:#8be9fd; stroke:none; fill-opacity:0\" cx=\"721.527\" cy=\"141.952\" r=\"2\"/>\n",
       "<circle clip-path=\"url(#clip712)\" style=\"fill:#8be9fd; stroke:none; fill-opacity:0\" cx=\"759.827\" cy=\"122.675\" r=\"2\"/>\n",
       "<circle clip-path=\"url(#clip712)\" style=\"fill:#8be9fd; stroke:none; fill-opacity:0\" cx=\"798.128\" cy=\"132.313\" r=\"2\"/>\n",
       "<circle clip-path=\"url(#clip712)\" style=\"fill:#8be9fd; stroke:none; fill-opacity:0\" cx=\"836.429\" cy=\"168.939\" r=\"2\"/>\n",
       "<circle clip-path=\"url(#clip712)\" style=\"fill:#8be9fd; stroke:none; fill-opacity:0\" cx=\"874.73\" cy=\"202.353\" r=\"2\"/>\n",
       "<circle clip-path=\"url(#clip712)\" style=\"fill:#8be9fd; stroke:none; fill-opacity:0\" cx=\"913.03\" cy=\"176.008\" r=\"2\"/>\n",
       "<circle clip-path=\"url(#clip712)\" style=\"fill:#8be9fd; stroke:none; fill-opacity:0\" cx=\"951.331\" cy=\"214.562\" r=\"2\"/>\n",
       "<circle clip-path=\"url(#clip712)\" style=\"fill:#8be9fd; stroke:none; fill-opacity:0\" cx=\"989.632\" cy=\"163.799\" r=\"2\"/>\n",
       "<circle clip-path=\"url(#clip712)\" style=\"fill:#8be9fd; stroke:none; fill-opacity:0\" cx=\"1027.93\" cy=\"177.935\" r=\"2\"/>\n",
       "<circle clip-path=\"url(#clip712)\" style=\"fill:#8be9fd; stroke:none; fill-opacity:0\" cx=\"1066.23\" cy=\"181.148\" r=\"2\"/>\n",
       "<circle clip-path=\"url(#clip712)\" style=\"fill:#8be9fd; stroke:none; fill-opacity:0\" cx=\"1104.53\" cy=\"143.237\" r=\"2\"/>\n",
       "<circle clip-path=\"url(#clip712)\" style=\"fill:#8be9fd; stroke:none; fill-opacity:0\" cx=\"1142.83\" cy=\"134.884\" r=\"2\"/>\n",
       "<circle clip-path=\"url(#clip712)\" style=\"fill:#8be9fd; stroke:none; fill-opacity:0\" cx=\"1181.14\" cy=\"179.863\" r=\"2\"/>\n",
       "<circle clip-path=\"url(#clip712)\" style=\"fill:#8be9fd; stroke:none; fill-opacity:0\" cx=\"1219.44\" cy=\"150.305\" r=\"2\"/>\n",
       "<circle clip-path=\"url(#clip712)\" style=\"fill:#8be9fd; stroke:none; fill-opacity:0\" cx=\"1257.74\" cy=\"208.778\" r=\"2\"/>\n",
       "<circle clip-path=\"url(#clip712)\" style=\"fill:#8be9fd; stroke:none; fill-opacity:0\" cx=\"1296.04\" cy=\"168.297\" r=\"2\"/>\n",
       "<circle clip-path=\"url(#clip712)\" style=\"fill:#8be9fd; stroke:none; fill-opacity:0\" cx=\"1334.34\" cy=\"168.297\" r=\"2\"/>\n",
       "<circle clip-path=\"url(#clip712)\" style=\"fill:#8be9fd; stroke:none; fill-opacity:0\" cx=\"1372.64\" cy=\"142.594\" r=\"2\"/>\n",
       "<circle clip-path=\"url(#clip712)\" style=\"fill:#8be9fd; stroke:none; fill-opacity:0\" cx=\"1410.94\" cy=\"140.024\" r=\"2\"/>\n",
       "<circle clip-path=\"url(#clip712)\" style=\"fill:#8be9fd; stroke:none; fill-opacity:0\" cx=\"1449.24\" cy=\"168.297\" r=\"2\"/>\n",
       "<circle clip-path=\"url(#clip712)\" style=\"fill:#8be9fd; stroke:none; fill-opacity:0\" cx=\"1487.54\" cy=\"170.225\" r=\"2\"/>\n",
       "<circle clip-path=\"url(#clip712)\" style=\"fill:#8be9fd; stroke:none; fill-opacity:0\" cx=\"1525.84\" cy=\"161.229\" r=\"2\"/>\n",
       "<circle clip-path=\"url(#clip712)\" style=\"fill:#8be9fd; stroke:none; fill-opacity:0\" cx=\"1564.14\" cy=\"176.65\" r=\"2\"/>\n",
       "<circle clip-path=\"url(#clip712)\" style=\"fill:#8be9fd; stroke:none; fill-opacity:0\" cx=\"1602.44\" cy=\"181.148\" r=\"2\"/>\n",
       "<circle clip-path=\"url(#clip712)\" style=\"fill:#8be9fd; stroke:none; fill-opacity:0\" cx=\"1640.74\" cy=\"215.204\" r=\"2\"/>\n",
       "<circle clip-path=\"url(#clip712)\" style=\"fill:#8be9fd; stroke:none; fill-opacity:0\" cx=\"1679.05\" cy=\"172.795\" r=\"2\"/>\n",
       "<circle clip-path=\"url(#clip712)\" style=\"fill:#8be9fd; stroke:none; fill-opacity:0\" cx=\"1717.35\" cy=\"167.654\" r=\"2\"/>\n",
       "<circle clip-path=\"url(#clip712)\" style=\"fill:#8be9fd; stroke:none; fill-opacity:0\" cx=\"1755.65\" cy=\"158.658\" r=\"2\"/>\n",
       "<circle clip-path=\"url(#clip712)\" style=\"fill:#8be9fd; stroke:none; fill-opacity:0\" cx=\"1793.95\" cy=\"125.245\" r=\"2\"/>\n",
       "<circle clip-path=\"url(#clip712)\" style=\"fill:#8be9fd; stroke:none; fill-opacity:0\" cx=\"1832.25\" cy=\"134.241\" r=\"2\"/>\n",
       "<circle clip-path=\"url(#clip712)\" style=\"fill:#8be9fd; stroke:none; fill-opacity:0\" cx=\"1870.55\" cy=\"136.169\" r=\"2\"/>\n",
       "<circle clip-path=\"url(#clip712)\" style=\"fill:#8be9fd; stroke:none; fill-opacity:0\" cx=\"1908.85\" cy=\"164.441\" r=\"2\"/>\n",
       "<circle clip-path=\"url(#clip712)\" style=\"fill:#8be9fd; stroke:none; fill-opacity:0\" cx=\"1947.15\" cy=\"165.084\" r=\"2\"/>\n",
       "<circle clip-path=\"url(#clip712)\" style=\"fill:#8be9fd; stroke:none; fill-opacity:0\" cx=\"1985.45\" cy=\"121.39\" r=\"2\"/>\n",
       "<circle clip-path=\"url(#clip712)\" style=\"fill:#8be9fd; stroke:none; fill-opacity:0\" cx=\"2023.75\" cy=\"170.867\" r=\"2\"/>\n",
       "<circle clip-path=\"url(#clip712)\" style=\"fill:#8be9fd; stroke:none; fill-opacity:0\" cx=\"2062.05\" cy=\"126.53\" r=\"2\"/>\n",
       "<circle clip-path=\"url(#clip712)\" style=\"fill:#8be9fd; stroke:none; fill-opacity:0\" cx=\"2100.35\" cy=\"213.276\" r=\"2\"/>\n",
       "<circle clip-path=\"url(#clip712)\" style=\"fill:#8be9fd; stroke:none; fill-opacity:0\" cx=\"2138.65\" cy=\"178.578\" r=\"2\"/>\n",
       "<circle clip-path=\"url(#clip712)\" style=\"fill:#8be9fd; stroke:none; fill-opacity:0\" cx=\"2176.96\" cy=\"131.671\" r=\"2\"/>\n",
       "<circle clip-path=\"url(#clip712)\" style=\"fill:#8be9fd; stroke:none; fill-opacity:0\" cx=\"2215.26\" cy=\"164.441\" r=\"2\"/>\n",
       "</svg>\n"
      ]
     },
     "execution_count": 80,
     "metadata": {},
     "output_type": "execute_result"
    }
   ],
   "source": [
    "x = rand(10^5)\n",
    "histogram(x, bins=64, legend=false)"
   ]
  },
  {
   "cell_type": "code",
   "execution_count": 81,
   "metadata": {},
   "outputs": [
    {
     "data": {
      "text/latex": [
       "\\textbf{Normal Distribution}\n",
       "\n"
      ],
      "text/markdown": [
       "**Normal Distribution**\n"
      ],
      "text/plain": [
       "  \u001b[1mNormal Distribution\u001b[22m"
      ]
     },
     "execution_count": 81,
     "metadata": {},
     "output_type": "execute_result"
    }
   ],
   "source": [
    "md\"**Normal Distribution**\""
   ]
  },
  {
   "cell_type": "code",
   "execution_count": 82,
   "metadata": {},
   "outputs": [],
   "source": [
    "?randn;"
   ]
  },
  {
   "cell_type": "code",
   "execution_count": 83,
   "metadata": {},
   "outputs": [
    {
     "data": {
      "image/svg+xml": [
       "<?xml version=\"1.0\" encoding=\"utf-8\"?>\n",
       "<svg xmlns=\"http://www.w3.org/2000/svg\" xmlns:xlink=\"http://www.w3.org/1999/xlink\" width=\"600\" height=\"400\" viewBox=\"0 0 2400 1600\">\n",
       "<defs>\n",
       "  <clipPath id=\"clip750\">\n",
       "    <rect x=\"0\" y=\"0\" width=\"2400\" height=\"1600\"/>\n",
       "  </clipPath>\n",
       "</defs>\n",
       "<path clip-path=\"url(#clip750)\" d=\"\n",
       "M0 1600 L2400 1600 L2400 0 L0 0  Z\n",
       "  \" fill=\"#282a36\" fill-rule=\"evenodd\" fill-opacity=\"1\"/>\n",
       "<defs>\n",
       "  <clipPath id=\"clip751\">\n",
       "    <rect x=\"480\" y=\"0\" width=\"1681\" height=\"1600\"/>\n",
       "  </clipPath>\n",
       "</defs>\n",
       "<path clip-path=\"url(#clip750)\" d=\"\n",
       "M202.177 1486.45 L2352.76 1486.45 L2352.76 47.2441 L202.177 47.2441  Z\n",
       "  \" fill=\"#30343b\" fill-rule=\"evenodd\" fill-opacity=\"1\"/>\n",
       "<defs>\n",
       "  <clipPath id=\"clip752\">\n",
       "    <rect x=\"202\" y=\"47\" width=\"2152\" height=\"1440\"/>\n",
       "  </clipPath>\n",
       "</defs>\n",
       "<polyline clip-path=\"url(#clip752)\" style=\"stroke:#f8f8f2; stroke-linecap:round; stroke-linejoin:round; stroke-width:2; stroke-opacity:0.1; fill:none\" points=\"\n",
       "  364.974,1486.45 364.974,47.2441 \n",
       "  \"/>\n",
       "<polyline clip-path=\"url(#clip752)\" style=\"stroke:#f8f8f2; stroke-linecap:round; stroke-linejoin:round; stroke-width:2; stroke-opacity:0.1; fill:none\" points=\"\n",
       "  810.092,1486.45 810.092,47.2441 \n",
       "  \"/>\n",
       "<polyline clip-path=\"url(#clip752)\" style=\"stroke:#f8f8f2; stroke-linecap:round; stroke-linejoin:round; stroke-width:2; stroke-opacity:0.1; fill:none\" points=\"\n",
       "  1255.21,1486.45 1255.21,47.2441 \n",
       "  \"/>\n",
       "<polyline clip-path=\"url(#clip752)\" style=\"stroke:#f8f8f2; stroke-linecap:round; stroke-linejoin:round; stroke-width:2; stroke-opacity:0.1; fill:none\" points=\"\n",
       "  1700.33,1486.45 1700.33,47.2441 \n",
       "  \"/>\n",
       "<polyline clip-path=\"url(#clip752)\" style=\"stroke:#f8f8f2; stroke-linecap:round; stroke-linejoin:round; stroke-width:2; stroke-opacity:0.1; fill:none\" points=\"\n",
       "  2145.45,1486.45 2145.45,47.2441 \n",
       "  \"/>\n",
       "<polyline clip-path=\"url(#clip750)\" style=\"stroke:#f8f8f2; stroke-linecap:round; stroke-linejoin:round; stroke-width:4; stroke-opacity:1; fill:none\" points=\"\n",
       "  202.177,1486.45 2352.76,1486.45 \n",
       "  \"/>\n",
       "<polyline clip-path=\"url(#clip750)\" style=\"stroke:#f8f8f2; stroke-linecap:round; stroke-linejoin:round; stroke-width:4; stroke-opacity:1; fill:none\" points=\"\n",
       "  364.974,1486.45 364.974,1467.55 \n",
       "  \"/>\n",
       "<polyline clip-path=\"url(#clip750)\" style=\"stroke:#f8f8f2; stroke-linecap:round; stroke-linejoin:round; stroke-width:4; stroke-opacity:1; fill:none\" points=\"\n",
       "  810.092,1486.45 810.092,1467.55 \n",
       "  \"/>\n",
       "<polyline clip-path=\"url(#clip750)\" style=\"stroke:#f8f8f2; stroke-linecap:round; stroke-linejoin:round; stroke-width:4; stroke-opacity:1; fill:none\" points=\"\n",
       "  1255.21,1486.45 1255.21,1467.55 \n",
       "  \"/>\n",
       "<polyline clip-path=\"url(#clip750)\" style=\"stroke:#f8f8f2; stroke-linecap:round; stroke-linejoin:round; stroke-width:4; stroke-opacity:1; fill:none\" points=\"\n",
       "  1700.33,1486.45 1700.33,1467.55 \n",
       "  \"/>\n",
       "<polyline clip-path=\"url(#clip750)\" style=\"stroke:#f8f8f2; stroke-linecap:round; stroke-linejoin:round; stroke-width:4; stroke-opacity:1; fill:none\" points=\"\n",
       "  2145.45,1486.45 2145.45,1467.55 \n",
       "  \"/>\n",
       "<path clip-path=\"url(#clip750)\" d=\"M333.875 1532.02 L363.551 1532.02 L363.551 1535.95 L333.875 1535.95 L333.875 1532.02 Z\" fill=\"#f8f8f2\" fill-rule=\"evenodd\" fill-opacity=\"1\" /><path clip-path=\"url(#clip750)\" d=\"M386.49 1518.36 L374.685 1536.81 L386.49 1536.81 L386.49 1518.36 M385.263 1514.29 L391.143 1514.29 L391.143 1536.81 L396.074 1536.81 L396.074 1540.7 L391.143 1540.7 L391.143 1548.85 L386.49 1548.85 L386.49 1540.7 L370.889 1540.7 L370.889 1536.19 L385.263 1514.29 Z\" fill=\"#f8f8f2\" fill-rule=\"evenodd\" fill-opacity=\"1\" /><path clip-path=\"url(#clip750)\" d=\"M780.035 1532.02 L809.71 1532.02 L809.71 1535.95 L780.035 1535.95 L780.035 1532.02 Z\" fill=\"#f8f8f2\" fill-rule=\"evenodd\" fill-opacity=\"1\" /><path clip-path=\"url(#clip750)\" d=\"M823.831 1544.91 L840.15 1544.91 L840.15 1548.85 L818.206 1548.85 L818.206 1544.91 Q820.868 1542.16 825.451 1537.53 Q830.057 1532.88 831.238 1531.53 Q833.483 1529.01 834.363 1527.27 Q835.266 1525.51 835.266 1523.82 Q835.266 1521.07 833.321 1519.33 Q831.4 1517.6 828.298 1517.6 Q826.099 1517.6 823.645 1518.36 Q821.215 1519.13 818.437 1520.68 L818.437 1515.95 Q821.261 1514.82 823.715 1514.24 Q826.169 1513.66 828.206 1513.66 Q833.576 1513.66 836.77 1516.35 Q839.965 1519.03 839.965 1523.52 Q839.965 1525.65 839.155 1527.57 Q838.368 1529.47 836.261 1532.07 Q835.682 1532.74 832.581 1535.95 Q829.479 1539.15 823.831 1544.91 Z\" fill=\"#f8f8f2\" fill-rule=\"evenodd\" fill-opacity=\"1\" /><path clip-path=\"url(#clip750)\" d=\"M1255.21 1517.37 Q1251.6 1517.37 1249.77 1520.93 Q1247.97 1524.47 1247.97 1531.6 Q1247.97 1538.71 1249.77 1542.27 Q1251.6 1545.82 1255.21 1545.82 Q1258.84 1545.82 1260.65 1542.27 Q1262.48 1538.71 1262.48 1531.6 Q1262.48 1524.47 1260.65 1520.93 Q1258.84 1517.37 1255.21 1517.37 M1255.21 1513.66 Q1261.02 1513.66 1264.08 1518.27 Q1267.15 1522.85 1267.15 1531.6 Q1267.15 1540.33 1264.08 1544.94 Q1261.02 1549.52 1255.21 1549.52 Q1249.4 1549.52 1246.32 1544.94 Q1243.27 1540.33 1243.27 1531.6 Q1243.27 1522.85 1246.32 1518.27 Q1249.4 1513.66 1255.21 1513.66 Z\" fill=\"#f8f8f2\" fill-rule=\"evenodd\" fill-opacity=\"1\" /><path clip-path=\"url(#clip750)\" d=\"M1694.98 1544.91 L1711.3 1544.91 L1711.3 1548.85 L1689.36 1548.85 L1689.36 1544.91 Q1692.02 1542.16 1696.6 1537.53 Q1701.21 1532.88 1702.39 1531.53 Q1704.63 1529.01 1705.51 1527.27 Q1706.42 1525.51 1706.42 1523.82 Q1706.42 1521.07 1704.47 1519.33 Q1702.55 1517.6 1699.45 1517.6 Q1697.25 1517.6 1694.8 1518.36 Q1692.37 1519.13 1689.59 1520.68 L1689.59 1515.95 Q1692.41 1514.82 1694.87 1514.24 Q1697.32 1513.66 1699.36 1513.66 Q1704.73 1513.66 1707.92 1516.35 Q1711.12 1519.03 1711.12 1523.52 Q1711.12 1525.65 1710.31 1527.57 Q1709.52 1529.47 1707.41 1532.07 Q1706.83 1532.74 1703.73 1535.95 Q1700.63 1539.15 1694.98 1544.91 Z\" fill=\"#f8f8f2\" fill-rule=\"evenodd\" fill-opacity=\"1\" /><path clip-path=\"url(#clip750)\" d=\"M2148.46 1518.36 L2136.65 1536.81 L2148.46 1536.81 L2148.46 1518.36 M2147.23 1514.29 L2153.11 1514.29 L2153.11 1536.81 L2158.04 1536.81 L2158.04 1540.7 L2153.11 1540.7 L2153.11 1548.85 L2148.46 1548.85 L2148.46 1540.7 L2132.85 1540.7 L2132.85 1536.19 L2147.23 1514.29 Z\" fill=\"#f8f8f2\" fill-rule=\"evenodd\" fill-opacity=\"1\" /><polyline clip-path=\"url(#clip752)\" style=\"stroke:#f8f8f2; stroke-linecap:round; stroke-linejoin:round; stroke-width:2; stroke-opacity:0.1; fill:none\" points=\"\n",
       "  202.177,1445.72 2352.76,1445.72 \n",
       "  \"/>\n",
       "<polyline clip-path=\"url(#clip752)\" style=\"stroke:#f8f8f2; stroke-linecap:round; stroke-linejoin:round; stroke-width:2; stroke-opacity:0.1; fill:none\" points=\"\n",
       "  202.177,1109.43 2352.76,1109.43 \n",
       "  \"/>\n",
       "<polyline clip-path=\"url(#clip752)\" style=\"stroke:#f8f8f2; stroke-linecap:round; stroke-linejoin:round; stroke-width:2; stroke-opacity:0.1; fill:none\" points=\"\n",
       "  202.177,773.151 2352.76,773.151 \n",
       "  \"/>\n",
       "<polyline clip-path=\"url(#clip752)\" style=\"stroke:#f8f8f2; stroke-linecap:round; stroke-linejoin:round; stroke-width:2; stroke-opacity:0.1; fill:none\" points=\"\n",
       "  202.177,436.869 2352.76,436.869 \n",
       "  \"/>\n",
       "<polyline clip-path=\"url(#clip752)\" style=\"stroke:#f8f8f2; stroke-linecap:round; stroke-linejoin:round; stroke-width:2; stroke-opacity:0.1; fill:none\" points=\"\n",
       "  202.177,100.587 2352.76,100.587 \n",
       "  \"/>\n",
       "<polyline clip-path=\"url(#clip750)\" style=\"stroke:#f8f8f2; stroke-linecap:round; stroke-linejoin:round; stroke-width:4; stroke-opacity:1; fill:none\" points=\"\n",
       "  202.177,1486.45 202.177,47.2441 \n",
       "  \"/>\n",
       "<polyline clip-path=\"url(#clip750)\" style=\"stroke:#f8f8f2; stroke-linecap:round; stroke-linejoin:round; stroke-width:4; stroke-opacity:1; fill:none\" points=\"\n",
       "  202.177,1445.72 221.074,1445.72 \n",
       "  \"/>\n",
       "<polyline clip-path=\"url(#clip750)\" style=\"stroke:#f8f8f2; stroke-linecap:round; stroke-linejoin:round; stroke-width:4; stroke-opacity:1; fill:none\" points=\"\n",
       "  202.177,1109.43 221.074,1109.43 \n",
       "  \"/>\n",
       "<polyline clip-path=\"url(#clip750)\" style=\"stroke:#f8f8f2; stroke-linecap:round; stroke-linejoin:round; stroke-width:4; stroke-opacity:1; fill:none\" points=\"\n",
       "  202.177,773.151 221.074,773.151 \n",
       "  \"/>\n",
       "<polyline clip-path=\"url(#clip750)\" style=\"stroke:#f8f8f2; stroke-linecap:round; stroke-linejoin:round; stroke-width:4; stroke-opacity:1; fill:none\" points=\"\n",
       "  202.177,436.869 221.074,436.869 \n",
       "  \"/>\n",
       "<polyline clip-path=\"url(#clip750)\" style=\"stroke:#f8f8f2; stroke-linecap:round; stroke-linejoin:round; stroke-width:4; stroke-opacity:1; fill:none\" points=\"\n",
       "  202.177,100.587 221.074,100.587 \n",
       "  \"/>\n",
       "<path clip-path=\"url(#clip750)\" d=\"M154.232 1431.51 Q150.621 1431.51 148.793 1435.08 Q146.987 1438.62 146.987 1445.75 Q146.987 1452.86 148.793 1456.42 Q150.621 1459.96 154.232 1459.96 Q157.867 1459.96 159.672 1456.42 Q161.501 1452.86 161.501 1445.75 Q161.501 1438.62 159.672 1435.08 Q157.867 1431.51 154.232 1431.51 M154.232 1427.81 Q160.042 1427.81 163.098 1432.42 Q166.177 1437 166.177 1445.75 Q166.177 1454.48 163.098 1459.08 Q160.042 1463.67 154.232 1463.67 Q148.422 1463.67 145.343 1459.08 Q142.288 1454.48 142.288 1445.75 Q142.288 1437 145.343 1432.42 Q148.422 1427.81 154.232 1427.81 Z\" fill=\"#f8f8f2\" fill-rule=\"evenodd\" fill-opacity=\"1\" /><path clip-path=\"url(#clip750)\" d=\"M57.7745 1122.78 L74.0939 1122.78 L74.0939 1126.71 L52.1495 1126.71 L52.1495 1122.78 Q54.8115 1120.02 59.3949 1115.39 Q64.0013 1110.74 65.1819 1109.4 Q67.4272 1106.88 68.3068 1105.14 Q69.2096 1103.38 69.2096 1101.69 Q69.2096 1098.94 67.2652 1097.2 Q65.3439 1095.46 62.2421 1095.46 Q60.043 1095.46 57.5893 1096.23 Q55.1588 1096.99 52.381 1098.54 L52.381 1093.82 Q55.2051 1092.69 57.6588 1092.11 Q60.1124 1091.53 62.1495 1091.53 Q67.5198 1091.53 70.7142 1094.21 Q73.9087 1096.9 73.9087 1101.39 Q73.9087 1103.52 73.0985 1105.44 Q72.3115 1107.34 70.205 1109.93 Q69.6263 1110.6 66.5245 1113.82 Q63.4226 1117.01 57.7745 1122.78 Z\" fill=\"#f8f8f2\" fill-rule=\"evenodd\" fill-opacity=\"1\" /><path clip-path=\"url(#clip750)\" d=\"M93.9086 1095.23 Q90.2975 1095.23 88.4688 1098.8 Q86.6632 1102.34 86.6632 1109.47 Q86.6632 1116.57 88.4688 1120.14 Q90.2975 1123.68 93.9086 1123.68 Q97.5428 1123.68 99.3483 1120.14 Q101.177 1116.57 101.177 1109.47 Q101.177 1102.34 99.3483 1098.8 Q97.5428 1095.23 93.9086 1095.23 M93.9086 1091.53 Q99.7187 1091.53 102.774 1096.13 Q105.853 1100.72 105.853 1109.47 Q105.853 1118.2 102.774 1122.8 Q99.7187 1127.38 93.9086 1127.38 Q88.0984 1127.38 85.0197 1122.8 Q81.9642 1118.2 81.9642 1109.47 Q81.9642 1100.72 85.0197 1096.13 Q88.0984 1091.53 93.9086 1091.53 Z\" fill=\"#f8f8f2\" fill-rule=\"evenodd\" fill-opacity=\"1\" /><path clip-path=\"url(#clip750)\" d=\"M124.07 1095.23 Q120.459 1095.23 118.631 1098.8 Q116.825 1102.34 116.825 1109.47 Q116.825 1116.57 118.631 1120.14 Q120.459 1123.68 124.07 1123.68 Q127.705 1123.68 129.51 1120.14 Q131.339 1116.57 131.339 1109.47 Q131.339 1102.34 129.51 1098.8 Q127.705 1095.23 124.07 1095.23 M124.07 1091.53 Q129.881 1091.53 132.936 1096.13 Q136.015 1100.72 136.015 1109.47 Q136.015 1118.2 132.936 1122.8 Q129.881 1127.38 124.07 1127.38 Q118.26 1127.38 115.182 1122.8 Q112.126 1118.2 112.126 1109.47 Q112.126 1100.72 115.182 1096.13 Q118.26 1091.53 124.07 1091.53 Z\" fill=\"#f8f8f2\" fill-rule=\"evenodd\" fill-opacity=\"1\" /><path clip-path=\"url(#clip750)\" d=\"M154.232 1095.23 Q150.621 1095.23 148.793 1098.8 Q146.987 1102.34 146.987 1109.47 Q146.987 1116.57 148.793 1120.14 Q150.621 1123.68 154.232 1123.68 Q157.867 1123.68 159.672 1120.14 Q161.501 1116.57 161.501 1109.47 Q161.501 1102.34 159.672 1098.8 Q157.867 1095.23 154.232 1095.23 M154.232 1091.53 Q160.042 1091.53 163.098 1096.13 Q166.177 1100.72 166.177 1109.47 Q166.177 1118.2 163.098 1122.8 Q160.042 1127.38 154.232 1127.38 Q148.422 1127.38 145.343 1122.8 Q142.288 1118.2 142.288 1109.47 Q142.288 1100.72 145.343 1096.13 Q148.422 1091.53 154.232 1091.53 Z\" fill=\"#f8f8f2\" fill-rule=\"evenodd\" fill-opacity=\"1\" /><path clip-path=\"url(#clip750)\" d=\"M66.5939 759.945 L54.7884 778.394 L66.5939 778.394 L66.5939 759.945 M65.367 755.871 L71.2466 755.871 L71.2466 778.394 L76.1772 778.394 L76.1772 782.283 L71.2466 782.283 L71.2466 790.431 L66.5939 790.431 L66.5939 782.283 L50.9921 782.283 L50.9921 777.769 L65.367 755.871 Z\" fill=\"#f8f8f2\" fill-rule=\"evenodd\" fill-opacity=\"1\" /><path clip-path=\"url(#clip750)\" d=\"M93.9086 758.95 Q90.2975 758.95 88.4688 762.515 Q86.6632 766.056 86.6632 773.186 Q86.6632 780.292 88.4688 783.857 Q90.2975 787.399 93.9086 787.399 Q97.5428 787.399 99.3483 783.857 Q101.177 780.292 101.177 773.186 Q101.177 766.056 99.3483 762.515 Q97.5428 758.95 93.9086 758.95 M93.9086 755.246 Q99.7187 755.246 102.774 759.853 Q105.853 764.436 105.853 773.186 Q105.853 781.913 102.774 786.519 Q99.7187 791.103 93.9086 791.103 Q88.0984 791.103 85.0197 786.519 Q81.9642 781.913 81.9642 773.186 Q81.9642 764.436 85.0197 759.853 Q88.0984 755.246 93.9086 755.246 Z\" fill=\"#f8f8f2\" fill-rule=\"evenodd\" fill-opacity=\"1\" /><path clip-path=\"url(#clip750)\" d=\"M124.07 758.95 Q120.459 758.95 118.631 762.515 Q116.825 766.056 116.825 773.186 Q116.825 780.292 118.631 783.857 Q120.459 787.399 124.07 787.399 Q127.705 787.399 129.51 783.857 Q131.339 780.292 131.339 773.186 Q131.339 766.056 129.51 762.515 Q127.705 758.95 124.07 758.95 M124.07 755.246 Q129.881 755.246 132.936 759.853 Q136.015 764.436 136.015 773.186 Q136.015 781.913 132.936 786.519 Q129.881 791.103 124.07 791.103 Q118.26 791.103 115.182 786.519 Q112.126 781.913 112.126 773.186 Q112.126 764.436 115.182 759.853 Q118.26 755.246 124.07 755.246 Z\" fill=\"#f8f8f2\" fill-rule=\"evenodd\" fill-opacity=\"1\" /><path clip-path=\"url(#clip750)\" d=\"M154.232 758.95 Q150.621 758.95 148.793 762.515 Q146.987 766.056 146.987 773.186 Q146.987 780.292 148.793 783.857 Q150.621 787.399 154.232 787.399 Q157.867 787.399 159.672 783.857 Q161.501 780.292 161.501 773.186 Q161.501 766.056 159.672 762.515 Q157.867 758.95 154.232 758.95 M154.232 755.246 Q160.042 755.246 163.098 759.853 Q166.177 764.436 166.177 773.186 Q166.177 781.913 163.098 786.519 Q160.042 791.103 154.232 791.103 Q148.422 791.103 145.343 786.519 Q142.288 781.913 142.288 773.186 Q142.288 764.436 145.343 759.853 Q148.422 755.246 154.232 755.246 Z\" fill=\"#f8f8f2\" fill-rule=\"evenodd\" fill-opacity=\"1\" /><path clip-path=\"url(#clip750)\" d=\"M64.3254 435.006 Q61.1773 435.006 59.3254 437.158 Q57.4967 439.311 57.4967 443.061 Q57.4967 446.788 59.3254 448.964 Q61.1773 451.117 64.3254 451.117 Q67.4735 451.117 69.3022 448.964 Q71.1541 446.788 71.1541 443.061 Q71.1541 439.311 69.3022 437.158 Q67.4735 435.006 64.3254 435.006 M73.6077 420.353 L73.6077 424.612 Q71.8485 423.779 70.0429 423.339 Q68.2606 422.899 66.5013 422.899 Q61.8717 422.899 59.418 426.024 Q56.9875 429.149 56.6402 435.469 Q58.006 433.455 60.0662 432.39 Q62.1263 431.302 64.6032 431.302 Q69.8115 431.302 72.8207 434.473 Q75.8531 437.621 75.8531 443.061 Q75.8531 448.385 72.705 451.603 Q69.5568 454.82 64.3254 454.82 Q58.33 454.82 55.1588 450.237 Q51.9875 445.631 51.9875 436.904 Q51.9875 428.709 55.8764 423.848 Q59.7652 418.964 66.3161 418.964 Q68.0754 418.964 69.8578 419.311 Q71.6633 419.659 73.6077 420.353 Z\" fill=\"#f8f8f2\" fill-rule=\"evenodd\" fill-opacity=\"1\" /><path clip-path=\"url(#clip750)\" d=\"M93.9086 422.668 Q90.2975 422.668 88.4688 426.233 Q86.6632 429.774 86.6632 436.904 Q86.6632 444.01 88.4688 447.575 Q90.2975 451.117 93.9086 451.117 Q97.5428 451.117 99.3483 447.575 Q101.177 444.01 101.177 436.904 Q101.177 429.774 99.3483 426.233 Q97.5428 422.668 93.9086 422.668 M93.9086 418.964 Q99.7187 418.964 102.774 423.571 Q105.853 428.154 105.853 436.904 Q105.853 445.631 102.774 450.237 Q99.7187 454.82 93.9086 454.82 Q88.0984 454.82 85.0197 450.237 Q81.9642 445.631 81.9642 436.904 Q81.9642 428.154 85.0197 423.571 Q88.0984 418.964 93.9086 418.964 Z\" fill=\"#f8f8f2\" fill-rule=\"evenodd\" fill-opacity=\"1\" /><path clip-path=\"url(#clip750)\" d=\"M124.07 422.668 Q120.459 422.668 118.631 426.233 Q116.825 429.774 116.825 436.904 Q116.825 444.01 118.631 447.575 Q120.459 451.117 124.07 451.117 Q127.705 451.117 129.51 447.575 Q131.339 444.01 131.339 436.904 Q131.339 429.774 129.51 426.233 Q127.705 422.668 124.07 422.668 M124.07 418.964 Q129.881 418.964 132.936 423.571 Q136.015 428.154 136.015 436.904 Q136.015 445.631 132.936 450.237 Q129.881 454.82 124.07 454.82 Q118.26 454.82 115.182 450.237 Q112.126 445.631 112.126 436.904 Q112.126 428.154 115.182 423.571 Q118.26 418.964 124.07 418.964 Z\" fill=\"#f8f8f2\" fill-rule=\"evenodd\" fill-opacity=\"1\" /><path clip-path=\"url(#clip750)\" d=\"M154.232 422.668 Q150.621 422.668 148.793 426.233 Q146.987 429.774 146.987 436.904 Q146.987 444.01 148.793 447.575 Q150.621 451.117 154.232 451.117 Q157.867 451.117 159.672 447.575 Q161.501 444.01 161.501 436.904 Q161.501 429.774 159.672 426.233 Q157.867 422.668 154.232 422.668 M154.232 418.964 Q160.042 418.964 163.098 423.571 Q166.177 428.154 166.177 436.904 Q166.177 445.631 163.098 450.237 Q160.042 454.82 154.232 454.82 Q148.422 454.82 145.343 450.237 Q142.288 445.631 142.288 436.904 Q142.288 428.154 145.343 423.571 Q148.422 418.964 154.232 418.964 Z\" fill=\"#f8f8f2\" fill-rule=\"evenodd\" fill-opacity=\"1\" /><path clip-path=\"url(#clip750)\" d=\"M63.7467 101.455 Q60.4134 101.455 58.4921 103.237 Q56.5939 105.02 56.5939 108.145 Q56.5939 111.27 58.4921 113.052 Q60.4134 114.834 63.7467 114.834 Q67.08 114.834 69.0013 113.052 Q70.9226 111.247 70.9226 108.145 Q70.9226 105.02 69.0013 103.237 Q67.1032 101.455 63.7467 101.455 M59.0708 99.4642 Q56.0615 98.7234 54.3717 96.6633 Q52.7051 94.6031 52.7051 91.6401 Q52.7051 87.4967 55.6449 85.0893 Q58.6078 82.6819 63.7467 82.6819 Q68.9087 82.6819 71.8485 85.0893 Q74.7883 87.4967 74.7883 91.6401 Q74.7883 94.6031 73.0985 96.6633 Q71.4318 98.7234 68.4457 99.4642 Q71.8253 100.251 73.7003 102.543 Q75.5985 104.835 75.5985 108.145 Q75.5985 113.168 72.5198 115.853 Q69.4642 118.538 63.7467 118.538 Q58.0291 118.538 54.9504 115.853 Q51.8949 113.168 51.8949 108.145 Q51.8949 104.835 53.793 102.543 Q55.6912 100.251 59.0708 99.4642 M57.3578 92.08 Q57.3578 94.7651 59.0245 96.2698 Q60.7143 97.7744 63.7467 97.7744 Q66.7559 97.7744 68.4457 96.2698 Q70.1587 94.7651 70.1587 92.08 Q70.1587 89.3948 68.4457 87.8902 Q66.7559 86.3855 63.7467 86.3855 Q60.7143 86.3855 59.0245 87.8902 Q57.3578 89.3948 57.3578 92.08 Z\" fill=\"#f8f8f2\" fill-rule=\"evenodd\" fill-opacity=\"1\" /><path clip-path=\"url(#clip750)\" d=\"M93.9086 86.3855 Q90.2975 86.3855 88.4688 89.9503 Q86.6632 93.492 86.6632 100.622 Q86.6632 107.728 88.4688 111.293 Q90.2975 114.834 93.9086 114.834 Q97.5428 114.834 99.3483 111.293 Q101.177 107.728 101.177 100.622 Q101.177 93.492 99.3483 89.9503 Q97.5428 86.3855 93.9086 86.3855 M93.9086 82.6819 Q99.7187 82.6819 102.774 87.2883 Q105.853 91.8716 105.853 100.622 Q105.853 109.348 102.774 113.955 Q99.7187 118.538 93.9086 118.538 Q88.0984 118.538 85.0197 113.955 Q81.9642 109.348 81.9642 100.622 Q81.9642 91.8716 85.0197 87.2883 Q88.0984 82.6819 93.9086 82.6819 Z\" fill=\"#f8f8f2\" fill-rule=\"evenodd\" fill-opacity=\"1\" /><path clip-path=\"url(#clip750)\" d=\"M124.07 86.3855 Q120.459 86.3855 118.631 89.9503 Q116.825 93.492 116.825 100.622 Q116.825 107.728 118.631 111.293 Q120.459 114.834 124.07 114.834 Q127.705 114.834 129.51 111.293 Q131.339 107.728 131.339 100.622 Q131.339 93.492 129.51 89.9503 Q127.705 86.3855 124.07 86.3855 M124.07 82.6819 Q129.881 82.6819 132.936 87.2883 Q136.015 91.8716 136.015 100.622 Q136.015 109.348 132.936 113.955 Q129.881 118.538 124.07 118.538 Q118.26 118.538 115.182 113.955 Q112.126 109.348 112.126 100.622 Q112.126 91.8716 115.182 87.2883 Q118.26 82.6819 124.07 82.6819 Z\" fill=\"#f8f8f2\" fill-rule=\"evenodd\" fill-opacity=\"1\" /><path clip-path=\"url(#clip750)\" d=\"M154.232 86.3855 Q150.621 86.3855 148.793 89.9503 Q146.987 93.492 146.987 100.622 Q146.987 107.728 148.793 111.293 Q150.621 114.834 154.232 114.834 Q157.867 114.834 159.672 111.293 Q161.501 107.728 161.501 100.622 Q161.501 93.492 159.672 89.9503 Q157.867 86.3855 154.232 86.3855 M154.232 82.6819 Q160.042 82.6819 163.098 87.2883 Q166.177 91.8716 166.177 100.622 Q166.177 109.348 163.098 113.955 Q160.042 118.538 154.232 118.538 Q148.422 118.538 145.343 113.955 Q142.288 109.348 142.288 100.622 Q142.288 91.8716 145.343 87.2883 Q148.422 82.6819 154.232 82.6819 Z\" fill=\"#f8f8f2\" fill-rule=\"evenodd\" fill-opacity=\"1\" /><path clip-path=\"url(#clip752)\" d=\"\n",
       "M320.462 1445.55 L320.462 1445.72 L364.974 1445.72 L364.974 1445.55 L320.462 1445.55 L320.462 1445.55  Z\n",
       "  \" fill=\"#8be9fd\" fill-rule=\"evenodd\" fill-opacity=\"1\"/>\n",
       "<polyline clip-path=\"url(#clip752)\" style=\"stroke:#f8f8f2; stroke-linecap:round; stroke-linejoin:round; stroke-width:4; stroke-opacity:1; fill:none\" points=\"\n",
       "  320.462,1445.55 320.462,1445.72 364.974,1445.72 364.974,1445.55 320.462,1445.55 \n",
       "  \"/>\n",
       "<path clip-path=\"url(#clip752)\" d=\"\n",
       "M364.974 1444.87 L364.974 1445.72 L409.486 1445.72 L409.486 1444.87 L364.974 1444.87 L364.974 1444.87  Z\n",
       "  \" fill=\"#8be9fd\" fill-rule=\"evenodd\" fill-opacity=\"1\"/>\n",
       "<polyline clip-path=\"url(#clip752)\" style=\"stroke:#f8f8f2; stroke-linecap:round; stroke-linejoin:round; stroke-width:4; stroke-opacity:1; fill:none\" points=\"\n",
       "  364.974,1444.87 364.974,1445.72 409.486,1445.72 409.486,1444.87 364.974,1444.87 \n",
       "  \"/>\n",
       "<path clip-path=\"url(#clip752)\" d=\"\n",
       "M409.486 1444.37 L409.486 1445.72 L453.998 1445.72 L453.998 1444.37 L409.486 1444.37 L409.486 1444.37  Z\n",
       "  \" fill=\"#8be9fd\" fill-rule=\"evenodd\" fill-opacity=\"1\"/>\n",
       "<polyline clip-path=\"url(#clip752)\" style=\"stroke:#f8f8f2; stroke-linecap:round; stroke-linejoin:round; stroke-width:4; stroke-opacity:1; fill:none\" points=\"\n",
       "  409.486,1444.37 409.486,1445.72 453.998,1445.72 453.998,1444.37 409.486,1444.37 \n",
       "  \"/>\n",
       "<path clip-path=\"url(#clip752)\" d=\"\n",
       "M453.998 1443.03 L453.998 1445.72 L498.51 1445.72 L498.51 1443.03 L453.998 1443.03 L453.998 1443.03  Z\n",
       "  \" fill=\"#8be9fd\" fill-rule=\"evenodd\" fill-opacity=\"1\"/>\n",
       "<polyline clip-path=\"url(#clip752)\" style=\"stroke:#f8f8f2; stroke-linecap:round; stroke-linejoin:round; stroke-width:4; stroke-opacity:1; fill:none\" points=\"\n",
       "  453.998,1443.03 453.998,1445.72 498.51,1445.72 498.51,1443.03 453.998,1443.03 \n",
       "  \"/>\n",
       "<path clip-path=\"url(#clip752)\" d=\"\n",
       "M498.51 1439.33 L498.51 1445.72 L543.021 1445.72 L543.021 1439.33 L498.51 1439.33 L498.51 1439.33  Z\n",
       "  \" fill=\"#8be9fd\" fill-rule=\"evenodd\" fill-opacity=\"1\"/>\n",
       "<polyline clip-path=\"url(#clip752)\" style=\"stroke:#f8f8f2; stroke-linecap:round; stroke-linejoin:round; stroke-width:4; stroke-opacity:1; fill:none\" points=\"\n",
       "  498.51,1439.33 498.51,1445.72 543.021,1445.72 543.021,1439.33 498.51,1439.33 \n",
       "  \"/>\n",
       "<path clip-path=\"url(#clip752)\" d=\"\n",
       "M543.021 1434.28 L543.021 1445.72 L587.533 1445.72 L587.533 1434.28 L543.021 1434.28 L543.021 1434.28  Z\n",
       "  \" fill=\"#8be9fd\" fill-rule=\"evenodd\" fill-opacity=\"1\"/>\n",
       "<polyline clip-path=\"url(#clip752)\" style=\"stroke:#f8f8f2; stroke-linecap:round; stroke-linejoin:round; stroke-width:4; stroke-opacity:1; fill:none\" points=\"\n",
       "  543.021,1434.28 543.021,1445.72 587.533,1445.72 587.533,1434.28 543.021,1434.28 \n",
       "  \"/>\n",
       "<path clip-path=\"url(#clip752)\" d=\"\n",
       "M587.533 1421.67 L587.533 1445.72 L632.045 1445.72 L632.045 1421.67 L587.533 1421.67 L587.533 1421.67  Z\n",
       "  \" fill=\"#8be9fd\" fill-rule=\"evenodd\" fill-opacity=\"1\"/>\n",
       "<polyline clip-path=\"url(#clip752)\" style=\"stroke:#f8f8f2; stroke-linecap:round; stroke-linejoin:round; stroke-width:4; stroke-opacity:1; fill:none\" points=\"\n",
       "  587.533,1421.67 587.533,1445.72 632.045,1445.72 632.045,1421.67 587.533,1421.67 \n",
       "  \"/>\n",
       "<path clip-path=\"url(#clip752)\" d=\"\n",
       "M632.045 1410.41 L632.045 1445.72 L676.557 1445.72 L676.557 1410.41 L632.045 1410.41 L632.045 1410.41  Z\n",
       "  \" fill=\"#8be9fd\" fill-rule=\"evenodd\" fill-opacity=\"1\"/>\n",
       "<polyline clip-path=\"url(#clip752)\" style=\"stroke:#f8f8f2; stroke-linecap:round; stroke-linejoin:round; stroke-width:4; stroke-opacity:1; fill:none\" points=\"\n",
       "  632.045,1410.41 632.045,1445.72 676.557,1445.72 676.557,1410.41 632.045,1410.41 \n",
       "  \"/>\n",
       "<path clip-path=\"url(#clip752)\" d=\"\n",
       "M676.557 1384.01 L676.557 1445.72 L721.069 1445.72 L721.069 1384.01 L676.557 1384.01 L676.557 1384.01  Z\n",
       "  \" fill=\"#8be9fd\" fill-rule=\"evenodd\" fill-opacity=\"1\"/>\n",
       "<polyline clip-path=\"url(#clip752)\" style=\"stroke:#f8f8f2; stroke-linecap:round; stroke-linejoin:round; stroke-width:4; stroke-opacity:1; fill:none\" points=\"\n",
       "  676.557,1384.01 676.557,1445.72 721.069,1445.72 721.069,1384.01 676.557,1384.01 \n",
       "  \"/>\n",
       "<path clip-path=\"url(#clip752)\" d=\"\n",
       "M721.069 1356.43 L721.069 1445.72 L765.58 1445.72 L765.58 1356.43 L721.069 1356.43 L721.069 1356.43  Z\n",
       "  \" fill=\"#8be9fd\" fill-rule=\"evenodd\" fill-opacity=\"1\"/>\n",
       "<polyline clip-path=\"url(#clip752)\" style=\"stroke:#f8f8f2; stroke-linecap:round; stroke-linejoin:round; stroke-width:4; stroke-opacity:1; fill:none\" points=\"\n",
       "  721.069,1356.43 721.069,1445.72 765.58,1445.72 765.58,1356.43 721.069,1356.43 \n",
       "  \"/>\n",
       "<path clip-path=\"url(#clip752)\" d=\"\n",
       "M765.58 1296.74 L765.58 1445.72 L810.092 1445.72 L810.092 1296.74 L765.58 1296.74 L765.58 1296.74  Z\n",
       "  \" fill=\"#8be9fd\" fill-rule=\"evenodd\" fill-opacity=\"1\"/>\n",
       "<polyline clip-path=\"url(#clip752)\" style=\"stroke:#f8f8f2; stroke-linecap:round; stroke-linejoin:round; stroke-width:4; stroke-opacity:1; fill:none\" points=\"\n",
       "  765.58,1296.74 765.58,1445.72 810.092,1445.72 810.092,1296.74 765.58,1296.74 \n",
       "  \"/>\n",
       "<path clip-path=\"url(#clip752)\" d=\"\n",
       "M810.092 1230.83 L810.092 1445.72 L854.604 1445.72 L854.604 1230.83 L810.092 1230.83 L810.092 1230.83  Z\n",
       "  \" fill=\"#8be9fd\" fill-rule=\"evenodd\" fill-opacity=\"1\"/>\n",
       "<polyline clip-path=\"url(#clip752)\" style=\"stroke:#f8f8f2; stroke-linecap:round; stroke-linejoin:round; stroke-width:4; stroke-opacity:1; fill:none\" points=\"\n",
       "  810.092,1230.83 810.092,1445.72 854.604,1445.72 854.604,1230.83 810.092,1230.83 \n",
       "  \"/>\n",
       "<path clip-path=\"url(#clip752)\" d=\"\n",
       "M854.604 1142.56 L854.604 1445.72 L899.116 1445.72 L899.116 1142.56 L854.604 1142.56 L854.604 1142.56  Z\n",
       "  \" fill=\"#8be9fd\" fill-rule=\"evenodd\" fill-opacity=\"1\"/>\n",
       "<polyline clip-path=\"url(#clip752)\" style=\"stroke:#f8f8f2; stroke-linecap:round; stroke-linejoin:round; stroke-width:4; stroke-opacity:1; fill:none\" points=\"\n",
       "  854.604,1142.56 854.604,1445.72 899.116,1445.72 899.116,1142.56 854.604,1142.56 \n",
       "  \"/>\n",
       "<path clip-path=\"url(#clip752)\" d=\"\n",
       "M899.116 1012.08 L899.116 1445.72 L943.628 1445.72 L943.628 1012.08 L899.116 1012.08 L899.116 1012.08  Z\n",
       "  \" fill=\"#8be9fd\" fill-rule=\"evenodd\" fill-opacity=\"1\"/>\n",
       "<polyline clip-path=\"url(#clip752)\" style=\"stroke:#f8f8f2; stroke-linecap:round; stroke-linejoin:round; stroke-width:4; stroke-opacity:1; fill:none\" points=\"\n",
       "  899.116,1012.08 899.116,1445.72 943.628,1445.72 943.628,1012.08 899.116,1012.08 \n",
       "  \"/>\n",
       "<path clip-path=\"url(#clip752)\" d=\"\n",
       "M943.628 861.593 L943.628 1445.72 L988.14 1445.72 L988.14 861.593 L943.628 861.593 L943.628 861.593  Z\n",
       "  \" fill=\"#8be9fd\" fill-rule=\"evenodd\" fill-opacity=\"1\"/>\n",
       "<polyline clip-path=\"url(#clip752)\" style=\"stroke:#f8f8f2; stroke-linecap:round; stroke-linejoin:round; stroke-width:4; stroke-opacity:1; fill:none\" points=\"\n",
       "  943.628,861.593 943.628,1445.72 988.14,1445.72 988.14,861.593 943.628,861.593 \n",
       "  \"/>\n",
       "<path clip-path=\"url(#clip752)\" d=\"\n",
       "M988.14 704.213 L988.14 1445.72 L1032.65 1445.72 L1032.65 704.213 L988.14 704.213 L988.14 704.213  Z\n",
       "  \" fill=\"#8be9fd\" fill-rule=\"evenodd\" fill-opacity=\"1\"/>\n",
       "<polyline clip-path=\"url(#clip752)\" style=\"stroke:#f8f8f2; stroke-linecap:round; stroke-linejoin:round; stroke-width:4; stroke-opacity:1; fill:none\" points=\"\n",
       "  988.14,704.213 988.14,1445.72 1032.65,1445.72 1032.65,704.213 988.14,704.213 \n",
       "  \"/>\n",
       "<path clip-path=\"url(#clip752)\" d=\"\n",
       "M1032.65 559.444 L1032.65 1445.72 L1077.16 1445.72 L1077.16 559.444 L1032.65 559.444 L1032.65 559.444  Z\n",
       "  \" fill=\"#8be9fd\" fill-rule=\"evenodd\" fill-opacity=\"1\"/>\n",
       "<polyline clip-path=\"url(#clip752)\" style=\"stroke:#f8f8f2; stroke-linecap:round; stroke-linejoin:round; stroke-width:4; stroke-opacity:1; fill:none\" points=\"\n",
       "  1032.65,559.444 1032.65,1445.72 1077.16,1445.72 1077.16,559.444 1032.65,559.444 \n",
       "  \"/>\n",
       "<path clip-path=\"url(#clip752)\" d=\"\n",
       "M1077.16 400.887 L1077.16 1445.72 L1121.67 1445.72 L1121.67 400.887 L1077.16 400.887 L1077.16 400.887  Z\n",
       "  \" fill=\"#8be9fd\" fill-rule=\"evenodd\" fill-opacity=\"1\"/>\n",
       "<polyline clip-path=\"url(#clip752)\" style=\"stroke:#f8f8f2; stroke-linecap:round; stroke-linejoin:round; stroke-width:4; stroke-opacity:1; fill:none\" points=\"\n",
       "  1077.16,400.887 1077.16,1445.72 1121.67,1445.72 1121.67,400.887 1077.16,400.887 \n",
       "  \"/>\n",
       "<path clip-path=\"url(#clip752)\" d=\"\n",
       "M1121.67 265.701 L1121.67 1445.72 L1166.19 1445.72 L1166.19 265.701 L1121.67 265.701 L1121.67 265.701  Z\n",
       "  \" fill=\"#8be9fd\" fill-rule=\"evenodd\" fill-opacity=\"1\"/>\n",
       "<polyline clip-path=\"url(#clip752)\" style=\"stroke:#f8f8f2; stroke-linecap:round; stroke-linejoin:round; stroke-width:4; stroke-opacity:1; fill:none\" points=\"\n",
       "  1121.67,265.701 1121.67,1445.72 1166.19,1445.72 1166.19,265.701 1121.67,265.701 \n",
       "  \"/>\n",
       "<path clip-path=\"url(#clip752)\" d=\"\n",
       "M1166.19 146.658 L1166.19 1445.72 L1210.7 1445.72 L1210.7 146.658 L1166.19 146.658 L1166.19 146.658  Z\n",
       "  \" fill=\"#8be9fd\" fill-rule=\"evenodd\" fill-opacity=\"1\"/>\n",
       "<polyline clip-path=\"url(#clip752)\" style=\"stroke:#f8f8f2; stroke-linecap:round; stroke-linejoin:round; stroke-width:4; stroke-opacity:1; fill:none\" points=\"\n",
       "  1166.19,146.658 1166.19,1445.72 1210.7,1445.72 1210.7,146.658 1166.19,146.658 \n",
       "  \"/>\n",
       "<path clip-path=\"url(#clip752)\" d=\"\n",
       "M1210.7 139.932 L1210.7 1445.72 L1255.21 1445.72 L1255.21 139.932 L1210.7 139.932 L1210.7 139.932  Z\n",
       "  \" fill=\"#8be9fd\" fill-rule=\"evenodd\" fill-opacity=\"1\"/>\n",
       "<polyline clip-path=\"url(#clip752)\" style=\"stroke:#f8f8f2; stroke-linecap:round; stroke-linejoin:round; stroke-width:4; stroke-opacity:1; fill:none\" points=\"\n",
       "  1210.7,139.932 1210.7,1445.72 1255.21,1445.72 1255.21,139.932 1210.7,139.932 \n",
       "  \"/>\n",
       "<path clip-path=\"url(#clip752)\" d=\"\n",
       "M1255.21 87.9763 L1255.21 1445.72 L1299.72 1445.72 L1299.72 87.9763 L1255.21 87.9763 L1255.21 87.9763  Z\n",
       "  \" fill=\"#8be9fd\" fill-rule=\"evenodd\" fill-opacity=\"1\"/>\n",
       "<polyline clip-path=\"url(#clip752)\" style=\"stroke:#f8f8f2; stroke-linecap:round; stroke-linejoin:round; stroke-width:4; stroke-opacity:1; fill:none\" points=\"\n",
       "  1255.21,87.9763 1255.21,1445.72 1299.72,1445.72 1299.72,87.9763 1255.21,87.9763 \n",
       "  \"/>\n",
       "<path clip-path=\"url(#clip752)\" d=\"\n",
       "M1299.72 181.126 L1299.72 1445.72 L1344.23 1445.72 L1344.23 181.126 L1299.72 181.126 L1299.72 181.126  Z\n",
       "  \" fill=\"#8be9fd\" fill-rule=\"evenodd\" fill-opacity=\"1\"/>\n",
       "<polyline clip-path=\"url(#clip752)\" style=\"stroke:#f8f8f2; stroke-linecap:round; stroke-linejoin:round; stroke-width:4; stroke-opacity:1; fill:none\" points=\"\n",
       "  1299.72,181.126 1299.72,1445.72 1344.23,1445.72 1344.23,181.126 1299.72,181.126 \n",
       "  \"/>\n",
       "<path clip-path=\"url(#clip752)\" d=\"\n",
       "M1344.23 287.56 L1344.23 1445.72 L1388.75 1445.72 L1388.75 287.56 L1344.23 287.56 L1344.23 287.56  Z\n",
       "  \" fill=\"#8be9fd\" fill-rule=\"evenodd\" fill-opacity=\"1\"/>\n",
       "<polyline clip-path=\"url(#clip752)\" style=\"stroke:#f8f8f2; stroke-linecap:round; stroke-linejoin:round; stroke-width:4; stroke-opacity:1; fill:none\" points=\"\n",
       "  1344.23,287.56 1344.23,1445.72 1388.75,1445.72 1388.75,287.56 1344.23,287.56 \n",
       "  \"/>\n",
       "<path clip-path=\"url(#clip752)\" d=\"\n",
       "M1388.75 419.551 L1388.75 1445.72 L1433.26 1445.72 L1433.26 419.551 L1388.75 419.551 L1388.75 419.551  Z\n",
       "  \" fill=\"#8be9fd\" fill-rule=\"evenodd\" fill-opacity=\"1\"/>\n",
       "<polyline clip-path=\"url(#clip752)\" style=\"stroke:#f8f8f2; stroke-linecap:round; stroke-linejoin:round; stroke-width:4; stroke-opacity:1; fill:none\" points=\"\n",
       "  1388.75,419.551 1388.75,1445.72 1433.26,1445.72 1433.26,419.551 1388.75,419.551 \n",
       "  \"/>\n",
       "<path clip-path=\"url(#clip752)\" d=\"\n",
       "M1433.26 541.789 L1433.26 1445.72 L1477.77 1445.72 L1477.77 541.789 L1433.26 541.789 L1433.26 541.789  Z\n",
       "  \" fill=\"#8be9fd\" fill-rule=\"evenodd\" fill-opacity=\"1\"/>\n",
       "<polyline clip-path=\"url(#clip752)\" style=\"stroke:#f8f8f2; stroke-linecap:round; stroke-linejoin:round; stroke-width:4; stroke-opacity:1; fill:none\" points=\"\n",
       "  1433.26,541.789 1433.26,1445.72 1477.77,1445.72 1477.77,541.789 1433.26,541.789 \n",
       "  \"/>\n",
       "<path clip-path=\"url(#clip752)\" d=\"\n",
       "M1477.77 697.32 L1477.77 1445.72 L1522.28 1445.72 L1522.28 697.32 L1477.77 697.32 L1477.77 697.32  Z\n",
       "  \" fill=\"#8be9fd\" fill-rule=\"evenodd\" fill-opacity=\"1\"/>\n",
       "<polyline clip-path=\"url(#clip752)\" style=\"stroke:#f8f8f2; stroke-linecap:round; stroke-linejoin:round; stroke-width:4; stroke-opacity:1; fill:none\" points=\"\n",
       "  1477.77,697.32 1477.77,1445.72 1522.28,1445.72 1522.28,697.32 1477.77,697.32 \n",
       "  \"/>\n",
       "<path clip-path=\"url(#clip752)\" d=\"\n",
       "M1522.28 855.709 L1522.28 1445.72 L1566.79 1445.72 L1566.79 855.709 L1522.28 855.709 L1522.28 855.709  Z\n",
       "  \" fill=\"#8be9fd\" fill-rule=\"evenodd\" fill-opacity=\"1\"/>\n",
       "<polyline clip-path=\"url(#clip752)\" style=\"stroke:#f8f8f2; stroke-linecap:round; stroke-linejoin:round; stroke-width:4; stroke-opacity:1; fill:none\" points=\"\n",
       "  1522.28,855.709 1522.28,1445.72 1566.79,1445.72 1566.79,855.709 1522.28,855.709 \n",
       "  \"/>\n",
       "<path clip-path=\"url(#clip752)\" d=\"\n",
       "M1566.79 998.628 L1566.79 1445.72 L1611.3 1445.72 L1611.3 998.628 L1566.79 998.628 L1566.79 998.628  Z\n",
       "  \" fill=\"#8be9fd\" fill-rule=\"evenodd\" fill-opacity=\"1\"/>\n",
       "<polyline clip-path=\"url(#clip752)\" style=\"stroke:#f8f8f2; stroke-linecap:round; stroke-linejoin:round; stroke-width:4; stroke-opacity:1; fill:none\" points=\"\n",
       "  1566.79,998.628 1566.79,1445.72 1611.3,1445.72 1611.3,998.628 1566.79,998.628 \n",
       "  \"/>\n",
       "<path clip-path=\"url(#clip752)\" d=\"\n",
       "M1611.3 1114.81 L1611.3 1445.72 L1655.82 1445.72 L1655.82 1114.81 L1611.3 1114.81 L1611.3 1114.81  Z\n",
       "  \" fill=\"#8be9fd\" fill-rule=\"evenodd\" fill-opacity=\"1\"/>\n",
       "<polyline clip-path=\"url(#clip752)\" style=\"stroke:#f8f8f2; stroke-linecap:round; stroke-linejoin:round; stroke-width:4; stroke-opacity:1; fill:none\" points=\"\n",
       "  1611.3,1114.81 1611.3,1445.72 1655.82,1445.72 1655.82,1114.81 1611.3,1114.81 \n",
       "  \"/>\n",
       "<path clip-path=\"url(#clip752)\" d=\"\n",
       "M1655.82 1220.41 L1655.82 1445.72 L1700.33 1445.72 L1700.33 1220.41 L1655.82 1220.41 L1655.82 1220.41  Z\n",
       "  \" fill=\"#8be9fd\" fill-rule=\"evenodd\" fill-opacity=\"1\"/>\n",
       "<polyline clip-path=\"url(#clip752)\" style=\"stroke:#f8f8f2; stroke-linecap:round; stroke-linejoin:round; stroke-width:4; stroke-opacity:1; fill:none\" points=\"\n",
       "  1655.82,1220.41 1655.82,1445.72 1700.33,1445.72 1700.33,1220.41 1655.82,1220.41 \n",
       "  \"/>\n",
       "<path clip-path=\"url(#clip752)\" d=\"\n",
       "M1700.33 1288.67 L1700.33 1445.72 L1744.84 1445.72 L1744.84 1288.67 L1700.33 1288.67 L1700.33 1288.67  Z\n",
       "  \" fill=\"#8be9fd\" fill-rule=\"evenodd\" fill-opacity=\"1\"/>\n",
       "<polyline clip-path=\"url(#clip752)\" style=\"stroke:#f8f8f2; stroke-linecap:round; stroke-linejoin:round; stroke-width:4; stroke-opacity:1; fill:none\" points=\"\n",
       "  1700.33,1288.67 1700.33,1445.72 1744.84,1445.72 1744.84,1288.67 1700.33,1288.67 \n",
       "  \"/>\n",
       "<path clip-path=\"url(#clip752)\" d=\"\n",
       "M1744.84 1350.38 L1744.84 1445.72 L1789.35 1445.72 L1789.35 1350.38 L1744.84 1350.38 L1744.84 1350.38  Z\n",
       "  \" fill=\"#8be9fd\" fill-rule=\"evenodd\" fill-opacity=\"1\"/>\n",
       "<polyline clip-path=\"url(#clip752)\" style=\"stroke:#f8f8f2; stroke-linecap:round; stroke-linejoin:round; stroke-width:4; stroke-opacity:1; fill:none\" points=\"\n",
       "  1744.84,1350.38 1744.84,1445.72 1789.35,1445.72 1789.35,1350.38 1744.84,1350.38 \n",
       "  \"/>\n",
       "<path clip-path=\"url(#clip752)\" d=\"\n",
       "M1789.35 1390.4 L1789.35 1445.72 L1833.86 1445.72 L1833.86 1390.4 L1789.35 1390.4 L1789.35 1390.4  Z\n",
       "  \" fill=\"#8be9fd\" fill-rule=\"evenodd\" fill-opacity=\"1\"/>\n",
       "<polyline clip-path=\"url(#clip752)\" style=\"stroke:#f8f8f2; stroke-linecap:round; stroke-linejoin:round; stroke-width:4; stroke-opacity:1; fill:none\" points=\"\n",
       "  1789.35,1390.4 1789.35,1445.72 1833.86,1445.72 1833.86,1390.4 1789.35,1390.4 \n",
       "  \"/>\n",
       "<path clip-path=\"url(#clip752)\" d=\"\n",
       "M1833.86 1414.27 L1833.86 1445.72 L1878.38 1445.72 L1878.38 1414.27 L1833.86 1414.27 L1833.86 1414.27  Z\n",
       "  \" fill=\"#8be9fd\" fill-rule=\"evenodd\" fill-opacity=\"1\"/>\n",
       "<polyline clip-path=\"url(#clip752)\" style=\"stroke:#f8f8f2; stroke-linecap:round; stroke-linejoin:round; stroke-width:4; stroke-opacity:1; fill:none\" points=\"\n",
       "  1833.86,1414.27 1833.86,1445.72 1878.38,1445.72 1878.38,1414.27 1833.86,1414.27 \n",
       "  \"/>\n",
       "<path clip-path=\"url(#clip752)\" d=\"\n",
       "M1878.38 1425.2 L1878.38 1445.72 L1922.89 1445.72 L1922.89 1425.2 L1878.38 1425.2 L1878.38 1425.2  Z\n",
       "  \" fill=\"#8be9fd\" fill-rule=\"evenodd\" fill-opacity=\"1\"/>\n",
       "<polyline clip-path=\"url(#clip752)\" style=\"stroke:#f8f8f2; stroke-linecap:round; stroke-linejoin:round; stroke-width:4; stroke-opacity:1; fill:none\" points=\"\n",
       "  1878.38,1425.2 1878.38,1445.72 1922.89,1445.72 1922.89,1425.2 1878.38,1425.2 \n",
       "  \"/>\n",
       "<path clip-path=\"url(#clip752)\" d=\"\n",
       "M1922.89 1433.61 L1922.89 1445.72 L1967.4 1445.72 L1967.4 1433.61 L1922.89 1433.61 L1922.89 1433.61  Z\n",
       "  \" fill=\"#8be9fd\" fill-rule=\"evenodd\" fill-opacity=\"1\"/>\n",
       "<polyline clip-path=\"url(#clip752)\" style=\"stroke:#f8f8f2; stroke-linecap:round; stroke-linejoin:round; stroke-width:4; stroke-opacity:1; fill:none\" points=\"\n",
       "  1922.89,1433.61 1922.89,1445.72 1967.4,1445.72 1967.4,1433.61 1922.89,1433.61 \n",
       "  \"/>\n",
       "<path clip-path=\"url(#clip752)\" d=\"\n",
       "M1967.4 1439.49 L1967.4 1445.72 L2011.91 1445.72 L2011.91 1439.49 L1967.4 1439.49 L1967.4 1439.49  Z\n",
       "  \" fill=\"#8be9fd\" fill-rule=\"evenodd\" fill-opacity=\"1\"/>\n",
       "<polyline clip-path=\"url(#clip752)\" style=\"stroke:#f8f8f2; stroke-linecap:round; stroke-linejoin:round; stroke-width:4; stroke-opacity:1; fill:none\" points=\"\n",
       "  1967.4,1439.49 1967.4,1445.72 2011.91,1445.72 2011.91,1439.49 1967.4,1439.49 \n",
       "  \"/>\n",
       "<path clip-path=\"url(#clip752)\" d=\"\n",
       "M2011.91 1442.02 L2011.91 1445.72 L2056.42 1445.72 L2056.42 1442.02 L2011.91 1442.02 L2011.91 1442.02  Z\n",
       "  \" fill=\"#8be9fd\" fill-rule=\"evenodd\" fill-opacity=\"1\"/>\n",
       "<polyline clip-path=\"url(#clip752)\" style=\"stroke:#f8f8f2; stroke-linecap:round; stroke-linejoin:round; stroke-width:4; stroke-opacity:1; fill:none\" points=\"\n",
       "  2011.91,1442.02 2011.91,1445.72 2056.42,1445.72 2056.42,1442.02 2011.91,1442.02 \n",
       "  \"/>\n",
       "<path clip-path=\"url(#clip752)\" d=\"\n",
       "M2056.42 1444.2 L2056.42 1445.72 L2100.93 1445.72 L2100.93 1444.2 L2056.42 1444.2 L2056.42 1444.2  Z\n",
       "  \" fill=\"#8be9fd\" fill-rule=\"evenodd\" fill-opacity=\"1\"/>\n",
       "<polyline clip-path=\"url(#clip752)\" style=\"stroke:#f8f8f2; stroke-linecap:round; stroke-linejoin:round; stroke-width:4; stroke-opacity:1; fill:none\" points=\"\n",
       "  2056.42,1444.2 2056.42,1445.72 2100.93,1445.72 2100.93,1444.2 2056.42,1444.2 \n",
       "  \"/>\n",
       "<path clip-path=\"url(#clip752)\" d=\"\n",
       "M2100.93 1443.03 L2100.93 1445.72 L2145.45 1445.72 L2145.45 1443.03 L2100.93 1443.03 L2100.93 1443.03  Z\n",
       "  \" fill=\"#8be9fd\" fill-rule=\"evenodd\" fill-opacity=\"1\"/>\n",
       "<polyline clip-path=\"url(#clip752)\" style=\"stroke:#f8f8f2; stroke-linecap:round; stroke-linejoin:round; stroke-width:4; stroke-opacity:1; fill:none\" points=\"\n",
       "  2100.93,1443.03 2100.93,1445.72 2145.45,1445.72 2145.45,1443.03 2100.93,1443.03 \n",
       "  \"/>\n",
       "<path clip-path=\"url(#clip752)\" d=\"\n",
       "M2145.45 1445.72 L2145.45 1445.72 L2189.96 1445.72 L2189.96 1445.72 L2145.45 1445.72 L2145.45 1445.72  Z\n",
       "  \" fill=\"#8be9fd\" fill-rule=\"evenodd\" fill-opacity=\"1\"/>\n",
       "<polyline clip-path=\"url(#clip752)\" style=\"stroke:#f8f8f2; stroke-linecap:round; stroke-linejoin:round; stroke-width:4; stroke-opacity:1; fill:none\" points=\"\n",
       "  2145.45,1445.72 2145.45,1445.72 2189.96,1445.72 2145.45,1445.72 \n",
       "  \"/>\n",
       "<path clip-path=\"url(#clip752)\" d=\"\n",
       "M2189.96 1445.21 L2189.96 1445.72 L2234.47 1445.72 L2234.47 1445.21 L2189.96 1445.21 L2189.96 1445.21  Z\n",
       "  \" fill=\"#8be9fd\" fill-rule=\"evenodd\" fill-opacity=\"1\"/>\n",
       "<polyline clip-path=\"url(#clip752)\" style=\"stroke:#f8f8f2; stroke-linecap:round; stroke-linejoin:round; stroke-width:4; stroke-opacity:1; fill:none\" points=\"\n",
       "  2189.96,1445.21 2189.96,1445.72 2234.47,1445.72 2234.47,1445.21 2189.96,1445.21 \n",
       "  \"/>\n",
       "<circle clip-path=\"url(#clip752)\" style=\"fill:#8be9fd; stroke:none; fill-opacity:0\" cx=\"342.718\" cy=\"1445.55\" r=\"2\"/>\n",
       "<circle clip-path=\"url(#clip752)\" style=\"fill:#8be9fd; stroke:none; fill-opacity:0\" cx=\"387.23\" cy=\"1444.87\" r=\"2\"/>\n",
       "<circle clip-path=\"url(#clip752)\" style=\"fill:#8be9fd; stroke:none; fill-opacity:0\" cx=\"431.742\" cy=\"1444.37\" r=\"2\"/>\n",
       "<circle clip-path=\"url(#clip752)\" style=\"fill:#8be9fd; stroke:none; fill-opacity:0\" cx=\"476.254\" cy=\"1443.03\" r=\"2\"/>\n",
       "<circle clip-path=\"url(#clip752)\" style=\"fill:#8be9fd; stroke:none; fill-opacity:0\" cx=\"520.766\" cy=\"1439.33\" r=\"2\"/>\n",
       "<circle clip-path=\"url(#clip752)\" style=\"fill:#8be9fd; stroke:none; fill-opacity:0\" cx=\"565.277\" cy=\"1434.28\" r=\"2\"/>\n",
       "<circle clip-path=\"url(#clip752)\" style=\"fill:#8be9fd; stroke:none; fill-opacity:0\" cx=\"609.789\" cy=\"1421.67\" r=\"2\"/>\n",
       "<circle clip-path=\"url(#clip752)\" style=\"fill:#8be9fd; stroke:none; fill-opacity:0\" cx=\"654.301\" cy=\"1410.41\" r=\"2\"/>\n",
       "<circle clip-path=\"url(#clip752)\" style=\"fill:#8be9fd; stroke:none; fill-opacity:0\" cx=\"698.813\" cy=\"1384.01\" r=\"2\"/>\n",
       "<circle clip-path=\"url(#clip752)\" style=\"fill:#8be9fd; stroke:none; fill-opacity:0\" cx=\"743.325\" cy=\"1356.43\" r=\"2\"/>\n",
       "<circle clip-path=\"url(#clip752)\" style=\"fill:#8be9fd; stroke:none; fill-opacity:0\" cx=\"787.836\" cy=\"1296.74\" r=\"2\"/>\n",
       "<circle clip-path=\"url(#clip752)\" style=\"fill:#8be9fd; stroke:none; fill-opacity:0\" cx=\"832.348\" cy=\"1230.83\" r=\"2\"/>\n",
       "<circle clip-path=\"url(#clip752)\" style=\"fill:#8be9fd; stroke:none; fill-opacity:0\" cx=\"876.86\" cy=\"1142.56\" r=\"2\"/>\n",
       "<circle clip-path=\"url(#clip752)\" style=\"fill:#8be9fd; stroke:none; fill-opacity:0\" cx=\"921.372\" cy=\"1012.08\" r=\"2\"/>\n",
       "<circle clip-path=\"url(#clip752)\" style=\"fill:#8be9fd; stroke:none; fill-opacity:0\" cx=\"965.884\" cy=\"861.593\" r=\"2\"/>\n",
       "<circle clip-path=\"url(#clip752)\" style=\"fill:#8be9fd; stroke:none; fill-opacity:0\" cx=\"1010.4\" cy=\"704.213\" r=\"2\"/>\n",
       "<circle clip-path=\"url(#clip752)\" style=\"fill:#8be9fd; stroke:none; fill-opacity:0\" cx=\"1054.91\" cy=\"559.444\" r=\"2\"/>\n",
       "<circle clip-path=\"url(#clip752)\" style=\"fill:#8be9fd; stroke:none; fill-opacity:0\" cx=\"1099.42\" cy=\"400.887\" r=\"2\"/>\n",
       "<circle clip-path=\"url(#clip752)\" style=\"fill:#8be9fd; stroke:none; fill-opacity:0\" cx=\"1143.93\" cy=\"265.701\" r=\"2\"/>\n",
       "<circle clip-path=\"url(#clip752)\" style=\"fill:#8be9fd; stroke:none; fill-opacity:0\" cx=\"1188.44\" cy=\"146.658\" r=\"2\"/>\n",
       "<circle clip-path=\"url(#clip752)\" style=\"fill:#8be9fd; stroke:none; fill-opacity:0\" cx=\"1232.95\" cy=\"139.932\" r=\"2\"/>\n",
       "<circle clip-path=\"url(#clip752)\" style=\"fill:#8be9fd; stroke:none; fill-opacity:0\" cx=\"1277.47\" cy=\"87.9763\" r=\"2\"/>\n",
       "<circle clip-path=\"url(#clip752)\" style=\"fill:#8be9fd; stroke:none; fill-opacity:0\" cx=\"1321.98\" cy=\"181.126\" r=\"2\"/>\n",
       "<circle clip-path=\"url(#clip752)\" style=\"fill:#8be9fd; stroke:none; fill-opacity:0\" cx=\"1366.49\" cy=\"287.56\" r=\"2\"/>\n",
       "<circle clip-path=\"url(#clip752)\" style=\"fill:#8be9fd; stroke:none; fill-opacity:0\" cx=\"1411\" cy=\"419.551\" r=\"2\"/>\n",
       "<circle clip-path=\"url(#clip752)\" style=\"fill:#8be9fd; stroke:none; fill-opacity:0\" cx=\"1455.51\" cy=\"541.789\" r=\"2\"/>\n",
       "<circle clip-path=\"url(#clip752)\" style=\"fill:#8be9fd; stroke:none; fill-opacity:0\" cx=\"1500.03\" cy=\"697.32\" r=\"2\"/>\n",
       "<circle clip-path=\"url(#clip752)\" style=\"fill:#8be9fd; stroke:none; fill-opacity:0\" cx=\"1544.54\" cy=\"855.709\" r=\"2\"/>\n",
       "<circle clip-path=\"url(#clip752)\" style=\"fill:#8be9fd; stroke:none; fill-opacity:0\" cx=\"1589.05\" cy=\"998.628\" r=\"2\"/>\n",
       "<circle clip-path=\"url(#clip752)\" style=\"fill:#8be9fd; stroke:none; fill-opacity:0\" cx=\"1633.56\" cy=\"1114.81\" r=\"2\"/>\n",
       "<circle clip-path=\"url(#clip752)\" style=\"fill:#8be9fd; stroke:none; fill-opacity:0\" cx=\"1678.07\" cy=\"1220.41\" r=\"2\"/>\n",
       "<circle clip-path=\"url(#clip752)\" style=\"fill:#8be9fd; stroke:none; fill-opacity:0\" cx=\"1722.58\" cy=\"1288.67\" r=\"2\"/>\n",
       "<circle clip-path=\"url(#clip752)\" style=\"fill:#8be9fd; stroke:none; fill-opacity:0\" cx=\"1767.1\" cy=\"1350.38\" r=\"2\"/>\n",
       "<circle clip-path=\"url(#clip752)\" style=\"fill:#8be9fd; stroke:none; fill-opacity:0\" cx=\"1811.61\" cy=\"1390.4\" r=\"2\"/>\n",
       "<circle clip-path=\"url(#clip752)\" style=\"fill:#8be9fd; stroke:none; fill-opacity:0\" cx=\"1856.12\" cy=\"1414.27\" r=\"2\"/>\n",
       "<circle clip-path=\"url(#clip752)\" style=\"fill:#8be9fd; stroke:none; fill-opacity:0\" cx=\"1900.63\" cy=\"1425.2\" r=\"2\"/>\n",
       "<circle clip-path=\"url(#clip752)\" style=\"fill:#8be9fd; stroke:none; fill-opacity:0\" cx=\"1945.14\" cy=\"1433.61\" r=\"2\"/>\n",
       "<circle clip-path=\"url(#clip752)\" style=\"fill:#8be9fd; stroke:none; fill-opacity:0\" cx=\"1989.66\" cy=\"1439.49\" r=\"2\"/>\n",
       "<circle clip-path=\"url(#clip752)\" style=\"fill:#8be9fd; stroke:none; fill-opacity:0\" cx=\"2034.17\" cy=\"1442.02\" r=\"2\"/>\n",
       "<circle clip-path=\"url(#clip752)\" style=\"fill:#8be9fd; stroke:none; fill-opacity:0\" cx=\"2078.68\" cy=\"1444.2\" r=\"2\"/>\n",
       "<circle clip-path=\"url(#clip752)\" style=\"fill:#8be9fd; stroke:none; fill-opacity:0\" cx=\"2123.19\" cy=\"1443.03\" r=\"2\"/>\n",
       "<circle clip-path=\"url(#clip752)\" style=\"fill:#8be9fd; stroke:none; fill-opacity:0\" cx=\"2167.7\" cy=\"1445.72\" r=\"2\"/>\n",
       "<circle clip-path=\"url(#clip752)\" style=\"fill:#8be9fd; stroke:none; fill-opacity:0\" cx=\"2212.21\" cy=\"1445.21\" r=\"2\"/>\n",
       "</svg>\n"
      ]
     },
     "execution_count": 83,
     "metadata": {},
     "output_type": "execute_result"
    }
   ],
   "source": [
    "x = randn(10^5)\n",
    "histogram(x, bins=64, legend=false)"
   ]
  },
  {
   "cell_type": "code",
   "execution_count": 84,
   "metadata": {},
   "outputs": [
    {
     "data": {
      "text/latex": [
       "\\textbf{Histogram in 2D}\n",
       "\n"
      ],
      "text/markdown": [
       "**Histogram in 2D**\n"
      ],
      "text/plain": [
       "  \u001b[1mHistogram in 2D\u001b[22m"
      ]
     },
     "execution_count": 84,
     "metadata": {},
     "output_type": "execute_result"
    }
   ],
   "source": [
    "md\"**Histogram in 2D**\""
   ]
  },
  {
   "cell_type": "code",
   "execution_count": 85,
   "metadata": {},
   "outputs": [
    {
     "data": {
      "image/svg+xml": [
       "<?xml version=\"1.0\" encoding=\"utf-8\"?>\n",
       "<svg xmlns=\"http://www.w3.org/2000/svg\" xmlns:xlink=\"http://www.w3.org/1999/xlink\" width=\"600\" height=\"400\" viewBox=\"0 0 2400 1600\">\n",
       "<defs>\n",
       "  <clipPath id=\"clip790\">\n",
       "    <rect x=\"0\" y=\"0\" width=\"2400\" height=\"1600\"/>\n",
       "  </clipPath>\n",
       "</defs>\n",
       "<path clip-path=\"url(#clip790)\" d=\"\n",
       "M0 1600 L2400 1600 L2400 0 L0 0  Z\n",
       "  \" fill=\"#282a36\" fill-rule=\"evenodd\" fill-opacity=\"1\"/>\n",
       "<defs>\n",
       "  <clipPath id=\"clip791\">\n",
       "    <rect x=\"480\" y=\"0\" width=\"1681\" height=\"1600\"/>\n",
       "  </clipPath>\n",
       "</defs>\n",
       "<path clip-path=\"url(#clip790)\" d=\"\n",
       "M149.191 1486.45 L2112.76 1486.45 L2112.76 47.2441 L149.191 47.2441  Z\n",
       "  \" fill=\"#30343b\" fill-rule=\"evenodd\" fill-opacity=\"1\"/>\n",
       "<defs>\n",
       "  <clipPath id=\"clip792\">\n",
       "    <rect x=\"149\" y=\"47\" width=\"1965\" height=\"1440\"/>\n",
       "  </clipPath>\n",
       "</defs>\n",
       "<polyline clip-path=\"url(#clip792)\" style=\"stroke:#f8f8f2; stroke-linecap:round; stroke-linejoin:round; stroke-width:2; stroke-opacity:0.1; fill:none\" points=\"\n",
       "  240.519,1486.45 240.519,47.2441 \n",
       "  \"/>\n",
       "<polyline clip-path=\"url(#clip792)\" style=\"stroke:#f8f8f2; stroke-linecap:round; stroke-linejoin:round; stroke-width:2; stroke-opacity:0.1; fill:none\" points=\"\n",
       "  697.163,1486.45 697.163,47.2441 \n",
       "  \"/>\n",
       "<polyline clip-path=\"url(#clip792)\" style=\"stroke:#f8f8f2; stroke-linecap:round; stroke-linejoin:round; stroke-width:2; stroke-opacity:0.1; fill:none\" points=\"\n",
       "  1153.81,1486.45 1153.81,47.2441 \n",
       "  \"/>\n",
       "<polyline clip-path=\"url(#clip792)\" style=\"stroke:#f8f8f2; stroke-linecap:round; stroke-linejoin:round; stroke-width:2; stroke-opacity:0.1; fill:none\" points=\"\n",
       "  1610.45,1486.45 1610.45,47.2441 \n",
       "  \"/>\n",
       "<polyline clip-path=\"url(#clip792)\" style=\"stroke:#f8f8f2; stroke-linecap:round; stroke-linejoin:round; stroke-width:2; stroke-opacity:0.1; fill:none\" points=\"\n",
       "  2067.09,1486.45 2067.09,47.2441 \n",
       "  \"/>\n",
       "<polyline clip-path=\"url(#clip790)\" style=\"stroke:#f8f8f2; stroke-linecap:round; stroke-linejoin:round; stroke-width:4; stroke-opacity:1; fill:none\" points=\"\n",
       "  149.191,1486.45 2112.76,1486.45 \n",
       "  \"/>\n",
       "<polyline clip-path=\"url(#clip790)\" style=\"stroke:#f8f8f2; stroke-linecap:round; stroke-linejoin:round; stroke-width:4; stroke-opacity:1; fill:none\" points=\"\n",
       "  240.519,1486.45 240.519,1467.55 \n",
       "  \"/>\n",
       "<polyline clip-path=\"url(#clip790)\" style=\"stroke:#f8f8f2; stroke-linecap:round; stroke-linejoin:round; stroke-width:4; stroke-opacity:1; fill:none\" points=\"\n",
       "  697.163,1486.45 697.163,1467.55 \n",
       "  \"/>\n",
       "<polyline clip-path=\"url(#clip790)\" style=\"stroke:#f8f8f2; stroke-linecap:round; stroke-linejoin:round; stroke-width:4; stroke-opacity:1; fill:none\" points=\"\n",
       "  1153.81,1486.45 1153.81,1467.55 \n",
       "  \"/>\n",
       "<polyline clip-path=\"url(#clip790)\" style=\"stroke:#f8f8f2; stroke-linecap:round; stroke-linejoin:round; stroke-width:4; stroke-opacity:1; fill:none\" points=\"\n",
       "  1610.45,1486.45 1610.45,1467.55 \n",
       "  \"/>\n",
       "<polyline clip-path=\"url(#clip790)\" style=\"stroke:#f8f8f2; stroke-linecap:round; stroke-linejoin:round; stroke-width:4; stroke-opacity:1; fill:none\" points=\"\n",
       "  2067.09,1486.45 2067.09,1467.55 \n",
       "  \"/>\n",
       "<path clip-path=\"url(#clip790)\" d=\"M209.42 1532.02 L239.096 1532.02 L239.096 1535.95 L209.42 1535.95 L209.42 1532.02 Z\" fill=\"#f8f8f2\" fill-rule=\"evenodd\" fill-opacity=\"1\" /><path clip-path=\"url(#clip790)\" d=\"M262.036 1518.36 L250.23 1536.81 L262.036 1536.81 L262.036 1518.36 M260.809 1514.29 L266.688 1514.29 L266.688 1536.81 L271.619 1536.81 L271.619 1540.7 L266.688 1540.7 L266.688 1548.85 L262.036 1548.85 L262.036 1540.7 L246.434 1540.7 L246.434 1536.19 L260.809 1514.29 Z\" fill=\"#f8f8f2\" fill-rule=\"evenodd\" fill-opacity=\"1\" /><path clip-path=\"url(#clip790)\" d=\"M667.105 1532.02 L696.781 1532.02 L696.781 1535.95 L667.105 1535.95 L667.105 1532.02 Z\" fill=\"#f8f8f2\" fill-rule=\"evenodd\" fill-opacity=\"1\" /><path clip-path=\"url(#clip790)\" d=\"M710.901 1544.91 L727.22 1544.91 L727.22 1548.85 L705.276 1548.85 L705.276 1544.91 Q707.938 1542.16 712.521 1537.53 Q717.128 1532.88 718.308 1531.53 Q720.554 1529.01 721.433 1527.27 Q722.336 1525.51 722.336 1523.82 Q722.336 1521.07 720.392 1519.33 Q718.47 1517.6 715.368 1517.6 Q713.169 1517.6 710.716 1518.36 Q708.285 1519.13 705.507 1520.68 L705.507 1515.95 Q708.331 1514.82 710.785 1514.24 Q713.239 1513.66 715.276 1513.66 Q720.646 1513.66 723.841 1516.35 Q727.035 1519.03 727.035 1523.52 Q727.035 1525.65 726.225 1527.57 Q725.438 1529.47 723.331 1532.07 Q722.753 1532.74 719.651 1535.95 Q716.549 1539.15 710.901 1544.91 Z\" fill=\"#f8f8f2\" fill-rule=\"evenodd\" fill-opacity=\"1\" /><path clip-path=\"url(#clip790)\" d=\"M1153.81 1517.37 Q1150.19 1517.37 1148.37 1520.93 Q1146.56 1524.47 1146.56 1531.6 Q1146.56 1538.71 1148.37 1542.27 Q1150.19 1545.82 1153.81 1545.82 Q1157.44 1545.82 1159.25 1542.27 Q1161.07 1538.71 1161.07 1531.6 Q1161.07 1524.47 1159.25 1520.93 Q1157.44 1517.37 1153.81 1517.37 M1153.81 1513.66 Q1159.62 1513.66 1162.67 1518.27 Q1165.75 1522.85 1165.75 1531.6 Q1165.75 1540.33 1162.67 1544.94 Q1159.62 1549.52 1153.81 1549.52 Q1148 1549.52 1144.92 1544.94 Q1141.86 1540.33 1141.86 1531.6 Q1141.86 1522.85 1144.92 1518.27 Q1148 1513.66 1153.81 1513.66 Z\" fill=\"#f8f8f2\" fill-rule=\"evenodd\" fill-opacity=\"1\" /><path clip-path=\"url(#clip790)\" d=\"M1605.1 1544.91 L1621.42 1544.91 L1621.42 1548.85 L1599.48 1548.85 L1599.48 1544.91 Q1602.14 1542.16 1606.72 1537.53 Q1611.33 1532.88 1612.51 1531.53 Q1614.75 1529.01 1615.63 1527.27 Q1616.54 1525.51 1616.54 1523.82 Q1616.54 1521.07 1614.59 1519.33 Q1612.67 1517.6 1609.57 1517.6 Q1607.37 1517.6 1604.92 1518.36 Q1602.49 1519.13 1599.71 1520.68 L1599.71 1515.95 Q1602.53 1514.82 1604.99 1514.24 Q1607.44 1513.66 1609.48 1513.66 Q1614.85 1513.66 1618.04 1516.35 Q1621.24 1519.03 1621.24 1523.52 Q1621.24 1525.65 1620.43 1527.57 Q1619.64 1529.47 1617.53 1532.07 Q1616.95 1532.74 1613.85 1535.95 Q1610.75 1539.15 1605.1 1544.91 Z\" fill=\"#f8f8f2\" fill-rule=\"evenodd\" fill-opacity=\"1\" /><path clip-path=\"url(#clip790)\" d=\"M2070.1 1518.36 L2058.3 1536.81 L2070.1 1536.81 L2070.1 1518.36 M2068.87 1514.29 L2074.75 1514.29 L2074.75 1536.81 L2079.68 1536.81 L2079.68 1540.7 L2074.75 1540.7 L2074.75 1548.85 L2070.1 1548.85 L2070.1 1540.7 L2054.5 1540.7 L2054.5 1536.19 L2068.87 1514.29 Z\" fill=\"#f8f8f2\" fill-rule=\"evenodd\" fill-opacity=\"1\" /><polyline clip-path=\"url(#clip792)\" style=\"stroke:#f8f8f2; stroke-linecap:round; stroke-linejoin:round; stroke-width:2; stroke-opacity:0.1; fill:none\" points=\"\n",
       "  149.191,1423.87 2112.76,1423.87 \n",
       "  \"/>\n",
       "<polyline clip-path=\"url(#clip792)\" style=\"stroke:#f8f8f2; stroke-linecap:round; stroke-linejoin:round; stroke-width:2; stroke-opacity:0.1; fill:none\" points=\"\n",
       "  149.191,1111 2112.76,1111 \n",
       "  \"/>\n",
       "<polyline clip-path=\"url(#clip792)\" style=\"stroke:#f8f8f2; stroke-linecap:round; stroke-linejoin:round; stroke-width:2; stroke-opacity:0.1; fill:none\" points=\"\n",
       "  149.191,798.133 2112.76,798.133 \n",
       "  \"/>\n",
       "<polyline clip-path=\"url(#clip792)\" style=\"stroke:#f8f8f2; stroke-linecap:round; stroke-linejoin:round; stroke-width:2; stroke-opacity:0.1; fill:none\" points=\"\n",
       "  149.191,485.263 2112.76,485.263 \n",
       "  \"/>\n",
       "<polyline clip-path=\"url(#clip792)\" style=\"stroke:#f8f8f2; stroke-linecap:round; stroke-linejoin:round; stroke-width:2; stroke-opacity:0.1; fill:none\" points=\"\n",
       "  149.191,172.392 2112.76,172.392 \n",
       "  \"/>\n",
       "<polyline clip-path=\"url(#clip790)\" style=\"stroke:#f8f8f2; stroke-linecap:round; stroke-linejoin:round; stroke-width:4; stroke-opacity:1; fill:none\" points=\"\n",
       "  149.191,1486.45 149.191,47.2441 \n",
       "  \"/>\n",
       "<polyline clip-path=\"url(#clip790)\" style=\"stroke:#f8f8f2; stroke-linecap:round; stroke-linejoin:round; stroke-width:4; stroke-opacity:1; fill:none\" points=\"\n",
       "  149.191,1423.87 166.03,1423.87 \n",
       "  \"/>\n",
       "<polyline clip-path=\"url(#clip790)\" style=\"stroke:#f8f8f2; stroke-linecap:round; stroke-linejoin:round; stroke-width:4; stroke-opacity:1; fill:none\" points=\"\n",
       "  149.191,1111 166.03,1111 \n",
       "  \"/>\n",
       "<polyline clip-path=\"url(#clip790)\" style=\"stroke:#f8f8f2; stroke-linecap:round; stroke-linejoin:round; stroke-width:4; stroke-opacity:1; fill:none\" points=\"\n",
       "  149.191,798.133 166.03,798.133 \n",
       "  \"/>\n",
       "<polyline clip-path=\"url(#clip790)\" style=\"stroke:#f8f8f2; stroke-linecap:round; stroke-linejoin:round; stroke-width:4; stroke-opacity:1; fill:none\" points=\"\n",
       "  149.191,485.263 166.03,485.263 \n",
       "  \"/>\n",
       "<polyline clip-path=\"url(#clip790)\" style=\"stroke:#f8f8f2; stroke-linecap:round; stroke-linejoin:round; stroke-width:4; stroke-opacity:1; fill:none\" points=\"\n",
       "  149.191,172.392 166.03,172.392 \n",
       "  \"/>\n",
       "<path clip-path=\"url(#clip790)\" d=\"M50.9921 1424.33 L80.6679 1424.33 L80.6679 1428.26 L50.9921 1428.26 L50.9921 1424.33 Z\" fill=\"#f8f8f2\" fill-rule=\"evenodd\" fill-opacity=\"1\" /><path clip-path=\"url(#clip790)\" d=\"M103.608 1410.67 L91.8021 1429.12 L103.608 1429.12 L103.608 1410.67 M102.381 1406.59 L108.26 1406.59 L108.26 1429.12 L113.191 1429.12 L113.191 1433.01 L108.26 1433.01 L108.26 1441.15 L103.608 1441.15 L103.608 1433.01 L88.0058 1433.01 L88.0058 1428.49 L102.381 1406.59 Z\" fill=\"#f8f8f2\" fill-rule=\"evenodd\" fill-opacity=\"1\" /><path clip-path=\"url(#clip790)\" d=\"M53.0754 1111.45 L82.7512 1111.45 L82.7512 1115.39 L53.0754 1115.39 L53.0754 1111.45 Z\" fill=\"#f8f8f2\" fill-rule=\"evenodd\" fill-opacity=\"1\" /><path clip-path=\"url(#clip790)\" d=\"M96.8715 1124.35 L113.191 1124.35 L113.191 1128.28 L91.2465 1128.28 L91.2465 1124.35 Q93.9086 1121.59 98.4919 1116.96 Q103.098 1112.31 104.279 1110.97 Q106.524 1108.45 107.404 1106.71 Q108.307 1104.95 108.307 1103.26 Q108.307 1100.51 106.362 1098.77 Q104.441 1097.03 101.339 1097.03 Q99.14 1097.03 96.6863 1097.8 Q94.2558 1098.56 91.478 1100.11 L91.478 1095.39 Q94.3021 1094.26 96.7558 1093.68 Q99.2095 1093.1 101.246 1093.1 Q106.617 1093.1 109.811 1095.78 Q113.006 1098.47 113.006 1102.96 Q113.006 1105.09 112.196 1107.01 Q111.408 1108.91 109.302 1111.5 Q108.723 1112.17 105.621 1115.39 Q102.52 1118.58 96.8715 1124.35 Z\" fill=\"#f8f8f2\" fill-rule=\"evenodd\" fill-opacity=\"1\" /><path clip-path=\"url(#clip790)\" d=\"M101.246 783.932 Q97.6354 783.932 95.8067 787.497 Q94.0012 791.038 94.0012 798.168 Q94.0012 805.274 95.8067 808.839 Q97.6354 812.381 101.246 812.381 Q104.881 812.381 106.686 808.839 Q108.515 805.274 108.515 798.168 Q108.515 791.038 106.686 787.497 Q104.881 783.932 101.246 783.932 M101.246 780.228 Q107.057 780.228 110.112 784.834 Q113.191 789.418 113.191 798.168 Q113.191 806.895 110.112 811.501 Q107.057 816.084 101.246 816.084 Q95.4363 816.084 92.3576 811.501 Q89.3021 806.895 89.3021 798.168 Q89.3021 789.418 92.3576 784.834 Q95.4363 780.228 101.246 780.228 Z\" fill=\"#f8f8f2\" fill-rule=\"evenodd\" fill-opacity=\"1\" /><path clip-path=\"url(#clip790)\" d=\"M96.8715 498.607 L113.191 498.607 L113.191 502.543 L91.2465 502.543 L91.2465 498.607 Q93.9086 495.853 98.4919 491.223 Q103.098 486.57 104.279 485.228 Q106.524 482.705 107.404 480.969 Q108.307 479.209 108.307 477.52 Q108.307 474.765 106.362 473.029 Q104.441 471.293 101.339 471.293 Q99.14 471.293 96.6863 472.057 Q94.2558 472.821 91.478 474.371 L91.478 469.649 Q94.3021 468.515 96.7558 467.936 Q99.2095 467.358 101.246 467.358 Q106.617 467.358 109.811 470.043 Q113.006 472.728 113.006 477.219 Q113.006 479.348 112.196 481.27 Q111.408 483.168 109.302 485.76 Q108.723 486.432 105.621 489.649 Q102.52 492.844 96.8715 498.607 Z\" fill=\"#f8f8f2\" fill-rule=\"evenodd\" fill-opacity=\"1\" /><path clip-path=\"url(#clip790)\" d=\"M103.608 159.186 L91.8021 177.635 L103.608 177.635 L103.608 159.186 M102.381 155.112 L108.26 155.112 L108.26 177.635 L113.191 177.635 L113.191 181.524 L108.26 181.524 L108.26 189.672 L103.608 189.672 L103.608 181.524 L88.0058 181.524 L88.0058 177.01 L102.381 155.112 Z\" fill=\"#f8f8f2\" fill-rule=\"evenodd\" fill-opacity=\"1\" /><g clip-path=\"url(#clip792)\">\n",
       "<image width=\"1964\" height=\"1439\" xlink:href=\"data:image/png;base64,\n",
       "iVBORw0KGgoAAAANSUhEUgAAB6wAAAWfCAYAAAAf3Aj/AAAgAElEQVR4nOzbUW4k53mG0b+a5HA0\n",
       "liAbyZK4BGqTGe4g3FBuYjmxM54h2ZULXwkQoHQl4aOPPGcFLwp/V1X3Q24LAAAAAHiT7rb7vd5w\n",
       "xOP+sNUbAAB4Had6AAAAAAAAAADvk2ANAAAAAAAAQEKwBgAAAAAAACAhWAMAAAAAAACQEKwBAAAA\n",
       "AAAASAjWAAAAAAAAACQEawAAAAAAAAASgjUAAAAAAAAACcEaAAAAAAAAgIRgDQAAAAAAAEBCsAYA\n",
       "AAAAAAAgIVgDAAAAAAAAkBCsAQAAAAAAAEgI1gAAAAAAAAAkBGsAAAAAAAAAEoI1AAAAAAAAAAnB\n",
       "GgAAAAAAAICEYA0AAAAAAABAQrAGAAAAAAAAICFYAwAAAAAAAJAQrAEAAAAAAABICNYAAAAAAAAA\n",
       "JARrAAAAAAAAABKCNQAAAAAAAAAJwRoAAAAAAACAhGANAAAAAAAAQEKwBgAAAAAAACAhWAMAAAAA\n",
       "AACQEKwBAAAAAAAASAjWAAAAAAAAACQEawAAAAAAAAASWz0AAAAA+HV32/1ebzjicX/wewMAAAD/\n",
       "I/7DGgAAAAAAAICEYA0AAAAAAABAQrAGAAAAAAAAICFYAwAAAAAAAJAQrAEAAAAAAABICNYAAAAA\n",
       "AAAAJARrAAAAAAAAABKCNQAAAAAAAAAJwRoAAAAAAACAhGANAAAAAAAAQEKwBgAAAAAAACAhWAMA\n",
       "AAAAAACQEKwBAAAAAAAASAjWAAAAAAAAACQEawAAAAAAAAASgjUAAAAAAAAACcEaAAAAAAAAgIRg\n",
       "DQAAAAAAAEBCsAYAAAAAAAAgIVgDAAAAAAAAkBCsAQAAAAAAAEgI1gAAAAAAAAAkBGsAAAAAAAAA\n",
       "EoI1AAAAAAAAAAnBGgAAAAAAAICEYA0AAAAAAABAQrAGAAAAAAAAICFYAwAAAAAAAJAQrAEAAAAA\n",
       "AABICNYAAAAAAAAAJLZ6AAAAALyGu+1+rzdc6nF/GPm9feK1Xmvu9QYAAJjMf1gDAAAAAAAAkBCs\n",
       "AQAAAAAAAEgI1gAAAAAAAAAkBGsAAAAAAAAAEoI1AAAAAAAAAAnBGgAAAAAAAICEYA0AAAAAAABA\n",
       "QrAGAAAAAAAAICFYAwAAAAAAAJAQrAEAAAAAAABICNYAAAAAAAAAJARrAAAAAAAAABKCNQAAAAAA\n",
       "AAAJwRoAAAAAAACAhGANAAAAAAAAQEKwBgAAAAAAACAhWAMAAAAAAACQEKwBAAAAAAAASAjWAAAA\n",
       "AAAAACQEawAAAAAAAAASgjUAAAAAAAAACcEaAAAAAAAAgIRgDQAAAAAAAEBCsAYAAAAAAAAgIVgD\n",
       "AAAAAAAAkBCsAQAAAAAAAEgI1gAAAAAAAAAkBGsAAAAAAAAAEoI1AAAAAAAAAAnBGgAAAAAAAIDE\n",
       "Vg8A4DJ32/1ebzjicX/wzAGAN8L7CAAAAPB/xX9YAwAAAAAAAJAQrAEAAAAAAABICNYAAAAAAAAA\n",
       "JARrAAAAAAAAABKCNQAAAAAAAAAJwRoAAAAAAACAhGANAAAAAAAAQEKwBgAAAAAAACAhWAMAAAAA\n",
       "AACQEKwBAAAAAAAASAjWAAAAAAAAACQEawAAAAAAAAASgjUAAAAAAAAACcEaAAAAAAAAgIRgDQAA\n",
       "AAAAAEBCsAYAAAAAAAAgIVgDAAAAAAAAkBCsAQAAAAAAAEgI1gAAAAAAAAAkBGsAAAAAAAAAEoI1\n",
       "AAAAAAAAAAnBGgAAAAAAAICEYA0AAAAAAABAQrAGAAAAAAAAICFYAwAAAAAAAJAQrAEAAAAAAABI\n",
       "CNYAAAAAAAAAJARrAAAAAAAAABKCNQAAAAAAAAAJwRoAAAAAAACAhGANAAAAAAAAQGKrBwAAAAC/\n",
       "7m673+sNRzzuDyN/b5h4vadea17PxHO9lrPNb3O2AeDt8B/WAAAAAAAAACQEawAAAAAAAAASgjUA\n",
       "AAAAAAAACcEaAAAAAAAAgIRgDQAAAAAAAEBCsAYAAAAAAAAgIVgDAAAAAAAAkBCsAQAAAAAAAEgI\n",
       "1gAAAAAAAAAkBGsAAAAAAAAAEoI1AAAAAAAAAAnBGgAAAAAAAICEYA0AAAAAAABAQrAGAAAAAAAA\n",
       "ICFYAwAAAAAAAJAQrAEAAAAAAABICNYAAAAAAAAAJARrAAAAAAAAABKCNQAAAAAAAAAJwRoAAAAA\n",
       "AACAhGANAAAAAAAAQEKwBgAAAAAAACAhWAMAAAAAAACQEKwBAAAAAAAASAjWAAAAAAAAACQEawAA\n",
       "AAAAAAASgjUAAAAAAAAACcEaAAAAAAAAgIRgDQAAAAAAAEBCsAYAAAAAAAAgsdUDAACA35e77X6v\n",
       "NxzxuD+M+34z9VpPNfGMTDX1bDsjr8cZ4bc4IwAA74f/sAYAAAAAAAAgIVgDAAAAAAAAkBCsAQAA\n",
       "AAAAAEgI1gAAAAAAAAAkBGsAAAAAAAAAEoI1AAAAAAAAAAnBGgAAAAAAAICEYA0AAAAAAABAQrAG\n",
       "AAAAAAAAICFYAwAAAAAAAJAQrAEAAAAAAABICNYAAAAAAAAAJARrAAAAAAAAABKCNQAAAAAAAAAJ\n",
       "wRoAAAAAAACAhGANAAAAAAAAQEKwBgAAAAAAACAhWAMAAAAAAACQEKwBAAAAAAAASAjWAAAAAAAA\n",
       "ACQEawAAAAAAAAASgjUAAAAAAAAACcEaAAAAAAAAgIRgDQAAAAAAAEBCsAYAAAAAAAAgIVgDAAAA\n",
       "AAAAkBCsAQAAAAAAAEgI1gAAAAAAAAAkBGsAAAAAAAAAEoI1AAAAAAAAAInregAAwFpr3W33e73h\n",
       "Uo/7w1ZvOGLitV5r5vWeeq3XNu5S/8PEqz32Wk+82IM/k7yau9NP487I4/nzzBvJ2PtfPeByU+99\n",
       "E9/91pp5vadeawDg7fAf1gAAAAAAAAAkBGsAAAAAAAAAEoI1AAAAAAAAAAnBGgAAAAAAAICEYA0A\n",
       "AAAAAABAQrAGAAAAAAAAICFYAwAAAAAAAJAQrAEAAAAAAABICNYAAAAAAAAAJARrAAAAAAAAABKC\n",
       "NQAAAAAAAAAJwRoAAAAAAACAhGANAAAAAAAAQEKwBgAAAAAAACAhWAMAAAAAAACQEKwBAAAAAAAA\n",
       "SAjWAAAAAAAAACQEawAAAAAAAAASgjUAAAAAAAAACcEaAAAAAAAAgIRgDQAAAAAAAEBCsAYAAAAA\n",
       "AAAgIVgDAAAAAAAAkBCsAQAAAAAAAEgI1gAAAAAAAAAkBGsAAAAAAAAAEoI1AAAAAAAAAAnBGgAA\n",
       "AAAAAICEYA0AAAAAAABAQrAGAAAAAAAAILHVAwAAprrb7vd6w7uyDXx13YcekYnXeipn5FVtp4F/\n",
       "sz31jAy1u96vZ+q1Hnr/m+jx/HnkxZ74HeFxfxh5rYHfj4n3vrXc/16TM8JvGfhtHQAAAAAAAIC3\n",
       "QLAGAAAAAAAAICFYAwAAAAAAAJAQrAEAAAAAAABICNYAAAAAAAAAJARrAAAAAAAAABKCNQAAAAAA\n",
       "AAAJwRoAAAAAAACAhGANAAAAAAAAQEKwBgAAAAAAACAhWAMAAAAAAACQEKwBAAAAAAAASAjWAAAA\n",
       "AAAAACQEawAAAAAAAAASgjUAAAAAAAAACcEaAAAAAAAAgIRgDQAAAAAAAEBCsAYAAAAAAAAgIVgD\n",
       "AAAAAAAAkBCsAQAAAAAAAEgI1gAAAAAAAAAkBGsAAAAAAAAAEoI1AAAAAAAAAAnBGgAAAAAAAICE\n",
       "YA0AAAAAAABAQrAGAAAAAAAAICFYAwAAAAAAAJAQrAEAAAAAAABICNYAAAAAAAAAJARrAAAAAAAA\n",
       "ABKCNQAAAAAAAACJrR4AADDV3Xa/1xvelW3eq+s2cPNaa+S1Xmuttc/7SO4DN0829jM50NSzvZ38\n",
       "Xf9r2c/nesIhE8/I/vJST3hXHveHcQ+bqd9rJl5rAODXzXvLBgAAAAAAAOBNEKwBAAAAAAAASAjW\n",
       "AAAAAAAAACQEawAAAAAAAAASgjUAAAAAAAAACcEaAAAAAAAAgIRgDQAAAAAAAEBCsAYAAAAAAAAg\n",
       "IVgDAAAAAAAAkBCsAQAAAAAAAEgI1gAAAAAAAAAkBGsAAAAAAAAAEoI1AAAAAAAAAAnBGgAAAAAA\n",
       "AICEYA0AAAAAAABAQrAGAAAAAAAAICFYAwAAAAAAAJAQrAEAAAAAAABICNYAAAAAAAAAJARrAAAA\n",
       "AAAAABKCNQAAAAAAAAAJwRoAAAAAAACAhGANAAAAAAAAQEKwBgAAAAAAACAhWAMAAAAAAACQEKwB\n",
       "AAAAAAAASAjWAAAAAAAAACQEawAAAAAAAAASgjUAAAAAAAAACcEaAAAAAAAAgMRWDwDgMnenn/Z6\n",
       "wxGP58+eOa9k6hmZaOq5nnpGtm3g5d6m/n3oyCOy1umqXnDA0Gu9D919PtcLLjfx3rfW0M/jWuv8\n",
       "Ui+42D7xXA828n2EV7VPfEZO3LzW3GfkQFO/+051t92P+1A+7g/OyCtyRniLpv6CBgAAAAAAAMBw\n",
       "gjUAAAAAAAAACcEaAAAAAAAAgIRgDQAAAAAAAEBCsAYAAAAAAAAgIVgDAAAAAAAAkBCsAQAAAAAA\n",
       "AEgI1gAAAAAAAAAkBGsAAAAAAAAAEoI1AAAAAAAAAAnBGgAAAAAAAICEYA0AAAAAAABAQrAGAAAA\n",
       "AAAAICFYAwAAAAAAAJAQrAEAAAAAAABICNYAAAAAAAAAJARrAAAAAAAAABKCNQAAAAAAAAAJwRoA\n",
       "AAAAAACAhGANAAAAAAAAQEKwBgAAAAAAACAhWAMAAAAAAACQEKwBAAAAAAAASAjWAAAAAAAAACQE\n",
       "awAAAAAAAAASgjUAAAAAAAAACcEaAAAAAAAAgIRgDQAAAAAAAEBCsAYAAAAAAAAgIVgDAAAAAAAA\n",
       "kNjqAcDbcLfd7/WGSz3uD+6BvEkTP49rrbU2H8nXsp2u6gnHjDwiI0ev7TRz97oaeLZfzvWCg2Y+\n",
       "atbE+98+9FpfDf37+OfnesHFph6R7TT0jAy84Oenb/WEQ7aJz/W11jpPfbbPsw/8PE71eP488gvC\n",
       "1N9H/GYJvEdDvx0AAAAAAAAAMJ1gDQAAAAAAAEBCsAYAAAAAAAAgIVgDAAAAAAAAkBCsAQAAAAAA\n",
       "AEgI1gAAAAAAAAAkBGsAAAAAAAAAEoI1AAAAAAAAAAnBGgAAAAAAAICEYA0AAAAAAABAQrAGAAAA\n",
       "AAAAICFYAwAAAAAAAJAQrAEAAAAAAABICNYAAAAAAAAAJARrAAAAAAAAABKCNQAAAAAAAAAJwRoA\n",
       "AAAAAACAhGANAAAAAAAAQEKwBgAAAAAAACAhWAMAAAAAAACQEKwBAAAAAAAASAjWAAAAAAAAACQE\n",
       "awAAAAAAAAASgjUAAAAAAAAACcEaAAAAAAAAgIRgDQAAAAAAAEBCsAYAAAAAAAAgIVgDAAAAAAAA\n",
       "kBCsAQAAAAAAAEgI1gAAAAAAAAAkBGsAAAAAAAAAEls9AID34W673+sN78bm8f5atqHXeru+ricc\n",
       "NPB6X1/VCw7ZTv6u9bXs+8zH43Ya+Hlca+3nmdd7otOnT/WEQ/Zv3+oJlxt6H+H1nL98qSccM/Zo\n",
       "Txw+9Ln+8lxPOGbifXvod9/H8+eZwwHeIb9EAQAAAAAAAJAQrAEAAAAAAABICNYAAAAAAAAAJARr\n",
       "AAAAAAAAABKCNQAAAAAAAAAJwRoAAAAAAACAhGANAAAAAAAAQEKwBgAAAAAAACAhWAMAAAAAAACQ\n",
       "EKwBAAAAAAAASAjWAAAAAAAAACQEawAAAAAAAAASgjUAAAAAAAAACcEaAAAAAAAAgIRgDQAAAAAA\n",
       "AEBCsAYAAAAAAAAgIVgDAAAAAAAAkBCsAQAAAAAAAEgI1gAAAAAAAAAkBGsAAAAAAAAAEoI1AAAA\n",
       "AAAAAAnBGgAAAAAAAICEYA0AAAAAAABAQrAGAAAAAAAAICFYAwAAAAAAAJAQrAEAAAAAAABICNYA\n",
       "AAAAAAAAJARrAAAAAAAAABKCNQAAAAAAAAAJwRoAAAAAAACAxFYPAOB9uDv9tNcb+H3brq7rCRfb\n",
       "rq/qCcdsQ18BJ95Fhl7q7fa2nnDIdvuhnnC5qZ/Hqc4DbyQfZ34e18tLveCYp+d6wcX2p2/1hGNe\n",
       "zvWCY04D//fjPPNa719nnu194v3vPHDzYPs+8H1k4ua1xr5rP54/zxwO8L8w8C0bAAAAAAAAgLdA\n",
       "sAYAAAAAAAAgIVgDAAAAAAAAkBCsAQAAAAAAAEgI1gAAAAAAAAAkBGsAAAAAAAAAEoI1AAAAAAAA\n",
       "AAnBGgAAAAAAAICEYA0AAAAAAABAQrAGAAAAAAAAICFYAwAAAAAAAJAQrAEAAAAAAABICNYAAAAA\n",
       "AAAAJARrAAAAAAAAABKCNQAAAAAAAAAJwRoAAAAAAACAhGANAAAAAAAAQEKwBgAAAAAAACAhWAMA\n",
       "AAAAAACQEKwBAAAAAAAASAjWAAAAAAAAACQEawAAAAAAAAASgjUAAAAAAAAACcEaAAAAAAAAgIRg\n",
       "DQAAAAAAAEBCsAYAAAAAAAAgIVgDAAAAAAAAkBCsAQAAAAAAAEgI1gAAAAAAAAAkBGsAAAAAAAAA\n",
       "Els9AKByd/pprzfA/4ftdFVPOOY077Vku7mpJxyy3X6oJxwy8Wzv55d6wiHbH3+sJxzz9FwvuNzV\n",
       "0L8h/nhbLzjmPPD173yuFxwz8Lm+1pp5Rm6u6wXH/PvP9YJjBn4m94Gb11prPc98j9r//vd6wsX2\n",
       "gbe+tdbapj5qnp7qCRfbpl7sofaJH8qJmwd73B98KHlzhv46AgAAAAAAAMB0gjUAAAAAAAAACcEa\n",
       "AAAAAAAAgIRgDQAAAAAAAEBCsAYAAAAAAAAgIVgDAAAAAAAAkBCsAQAAAAAAAEgI1gAAAAAAAAAk\n",
       "BGsAAAAAAAAAEoI1AAAAAAAAAAnBGgAAAAAAAICEYA0AAAAAAABAQrAGAAAAAAAAICFYAwAAAAAA\n",
       "AJAQrAEAAAAAAABICNYAAAAAAAAAJARrAAAAAAAAABKCNQAAAAAAAAAJwRoAAAAAAACAhGANAAAA\n",
       "AAAAQEKwBgAAAAAAACAhWAMAAAAAAACQEKwBAAAAAAAASAjWAAAAAAAAACQEawAAAAAAAAASgjUA\n",
       "AAAAAAAACcEaAAAAAAAAgIRgDQAAAAAAAEBCsAYAAAAAAAAgIVgDAAAAAAAAkLiuBwC/dLfd7/WG\n",
       "Ix73h63ecKltGzf5H8buHvg3UkMv9dpH3kbW6fa2nnC5q6t6wSHb1dBXwA839YKLbbcf6gnHXM88\n",
       "2xN3v/zp+3rCQTOfNdvTSz3hYvvAc73WWvvVwHe/tdbp61M94WLb1+d6wiHbjz/UE44Z+K69/fwf\n",
       "9YRD9qGvrNvHj/WEyz3PvI/sTzN3b6eBz8iB97611lqnme9R62Xm2Z5o4m/a8FYNfDoCAAAAAAAA\n",
       "8BYI1gAAAAAAAAAkBGsAAAAAAAAAEoI1AAAAAAAAAAnBGgAAAAAAAICEYA0AAAAAAABAQrAGAAAA\n",
       "AAAAICFYAwAAAAAAAJAQrAEAAAAAAABICNYAAAAAAAAAJARrAAAAAAAAABKCNQAAAAAAAAAJwRoA\n",
       "AAAAAACAhGANAAAAAAAAQEKwBgAAAAAAACAhWAMAAAAAAACQEKwBAAAAAAAASAjWAAAAAAAAACQE\n",
       "awAAAAAAAAASgjUAAAAAAAAACcEaAAAAAAAAgIRgDQAAAAAAAEBCsAYAAAAAAAAgIVgDAAAAAAAA\n",
       "kBCsAQAAAAAAAEgI1gAAAAAAAAAkBGsAAAAAAAAAEoI1AAAAAAAAAAnBGgAAAAAAAICEYA0AAAAA\n",
       "AABAQrAGAAAAAAAAIHFdDwB+6XF/2OoN78V+PtcTDtmuruoJB+31gItt29C/65p6Ribu3ued67XW\n",
       "Wh9u6gXHfHdbL7jY/nHe5rXWevnhYz3hkP1m3n375buB97611tOnmbtPT/Pu2+cPM78e3Pz1pZ5w\n",
       "zA/znpHX//lUTzjk6m9f6wmHbH/9Uk+43J/+WC84ZPvbf9UTjjnNex9Zf/65XnDMzdCftl/mnZH9\n",
       "6Vs94Zh95m9/I20z31kH/ly51lrrbrsft1z34LfMezoCAAAAAAAA8CYI1gAAAAAAAAAkBGsAAAAA\n",
       "AAAAEoI1AAAAAAAAAAnBGgAAAAAAAICEYA0AAAAAAABAQrAGAAAAAAAAICFYAwAAAAAAAJAQrAEA\n",
       "AAAAAABICNYAAAAAAAAAJARrAAAAAAAAABKCNQAAAAAAAAAJwRoAAAAAAACAhGANAAAAAAAAQEKw\n",
       "BgAAAAAAACAhWAMAAAAAAACQEKwBAAAAAAAASAjWAAAAAAAAACQEawAAAAAAAAASgjUAAAAAAAAA\n",
       "CcEaAAAAAAAAgIRgDQAAAAAAAEBCsAYAAAAAAAAgIVgDAAAAAAAAkBCsAQAAAAAAAEgI1gAAAAAA\n",
       "AAAkBGsAAAAAAAAAEoI1AAAAAAAAAAnBGgAAAAAAAICEYA0AAAAAAABA4roeAPzS3Xa/1xsO2bZ6\n",
       "weX2mZd67O5t4N9IXV3VCw7Zbm7qCe/G9odP9YRjvp+5+/zptp5wsZc/fKgnHPL8/cz7yMvtxPeR\n",
       "esAxX/555jPy9DTvgp+vB57rtdaXf5p5Rj7923M94WJff/yunnDI7V9mPmtu/jzvp7TTl6d6wiHb\n",
       "08wzsr58rRdcbPv4sZ5wzPO8e/Zaa+3PX+oJlzvNfK6v80u94JBt4O+s//ryL/NGr8G/xcMbNLAe\n",
       "AAAAAAAAAPAWCNYAAPDf7NtPi1zpecbh59SfbnVLLY1kz3g8EwjGAa+ySALeZZV2PkDQJJCPmNEu\n",
       "y/Q2EAghZGECzhhjE7Dn/3gkdaurq+pk4f2E84J1zzO6rk9wc3jr1Dn16wYAAAAAIgRrAAAAAAAA\n",
       "ACIEawAAAAAAAAAiBGsAAAAAAAAAIgRrAAAAAAAAACIEawAAAAAAAAAiBGsAAAAAAAAAIgRrAAAA\n",
       "AAAAACIEawAAAAAAAAAiBGsAAAAAAAAAIgRrAAAAAAAAACIEawAAAAAAAAAiBGsAAAAAAAAAIgRr\n",
       "AAAAAAAAACIEawAAAAAAAAAiBGsAAAAAAAAAIgRrAAAAAAAAACIEawAAAAAAAAAiBGsAAAAAAAAA\n",
       "IgRrAAAAAAAAACIEawAAAAAAAAAiBGsAAAAAAAAAIgRrAAAAAAAAACIEawAAAAAAAAAiBGsAAAAA\n",
       "AAAAIgRrAAAAAAAAACIEawAAAAAAAAAiBGsAAAAAAAAAIgRrAAAAAAAAACI26QHwx3I5PZ3TG4ZM\n",
       "U3rBkKnj7pW/2Xmdpo7Xu+O5rmq7e7q4n56w3MlJesGQ+V7P3bu3z9MTFjtue34edw/W6QlD9mf9\n",
       "rvfdg36bq6r2/T6OfzD3u953D9ILxmxu0gvGHNf9fibZ3vR89Z1X/a51VdW8OktPWGz7dc/v9fWq\n",
       "3z27qum7791desGYr1+kF4xZN/xMzvv0Ar7lfrb++5YPJPPccnZPLjX/j4ZPUAAAAAAAAAB8FwjW\n",
       "AAAAAAAAAEQI1gAAAAAAAABECNYAAAAAAAAARAjWAAAAAAAAAEQI1gAAAAAAAABECNYAAAAAAAAA\n",
       "RAjWAAAAAAAAAEQI1gAAAAAAAABECNYAAAAAAAAARAjWAAAAAAAAAEQI1gAAAAAAAABECNYAAAAA\n",
       "AAAARAjWAAAAAAAAAEQI1gAAAAAAAABECNYAAAAAAAAARAjWAAAAAAAAAEQI1gAAAAAAAABECNYA\n",
       "AAAAAAAARAjWAAAAAAAAAEQI1gAAAAAAAABECNYAAAAAAAAARAjWAAAAAAAAAEQI1gAAAAAAAABE\n",
       "CNYAAAAAAAAARAjWAAAAAAAAAEQI1gAAAAAAAABECNYAAAAAAAAARAjWAAAAAAAAAEQI1gAAAAAA\n",
       "AABECNYAAAAAAAAARGzSA940l9PTOb1hxNX8bEpvWGzqN5nXresZaXkbqVr1u96rs3vpCWPW6/SC\n",
       "MffP0wuWm3t+HvcXp+kJY/rdRurlD3o+bu8eNrzYVfXq++kFb47dk0N6wpiOf7K97/l5PFz33L0/\n",
       "77f79It+m6uq1rc9d3d8HqnapgcMmdcdb9pVm8MxPWGx6fmL9IQh02nP95p5t0tPWO7Y89132jS9\n",
       "/+3v0hPeGFfHD1t+s3ftTPBNej75AQAAAAAAANCeYA0AAAAAAABAhGANAAAAAAAAQIRgDQAAAAAA\n",
       "AECEYA0AAAAAAABAhGANAAAAAAAAQIRgDQAAAAAAAECEYA0AAAAAAABAhGANAAAAAAAAQIRgDQAA\n",
       "AAAAAECEYA0AAAAAAABAhGANAAAAAAAAQIRgDQAAAAAAAECEYA0AAAAAAABAhGANAAAAAAAAQIRg\n",
       "DQAAAAAAAECEYA0AAAAAAABAhGANAAAAAAAAQIRgDQAAAAAAAECEYA0AAAAAAABAhGANAAAAAAAA\n",
       "QIRgDQAAAAAAAECEYA0AAAAAAABAhGANAAAAAAAAQIRgDQAAAAAAAECEYA0AAAAAAABAhGANAAAA\n",
       "AAAAQIRgDQAAAAAAAECEYA0AAAAAAABAhGANAAAAAAAAQMSUHkAPl9PTOb1hsann8Z6a7m55vVc9\n",
       "/2ZnWq/TE4ZM2016wnJT0zNy/zw9Ycz5WXrBYvt3HqYnDNk9OklPGHLz/X73kd1Fw+/Hqrr+YXrB\n",
       "mN2TY3rCYtNbu/SEIU8ev0hPGNLxE/nZpxfpCUPWJ/0+j1VVx32/57/VJz2/10++7PiJrNq+TC9Y\n",
       "7uT3/X7Sqap69Kvb9IQhq9tDesJi6+ev0hOGTL/7LD1hyLy7S09YbN71fGadD/0+j1VVNTe8bx97\n",
       "Pvv9y+Gfej6Q8Nq0bGNVdTU/a3e2+72JAQAAAAAAAPCdIFgDAAAAAAAAECFYAwAAAAAAABAhWAMA\n",
       "AAAAAAAQIVgDAAAAAAAAECFYAwAAAAAAABAhWAMAAAAAAAAQIVgDAAAAAAAAECFYAwAAAAAAABAh\n",
       "WAMAAAAAAAAQIVgDAAAAAAAAECFYAwAAAAAAABAhWAMAAAAAAAAQIVgDAAAAAAAAECFYAwAAAAAA\n",
       "ABAhWAMAAAAAAAAQIVgDAAAAAAAAECFYAztgNHYAACAASURBVAAAAAAAABAhWAMAAAAAAAAQIVgD\n",
       "AAAAAAAAECFYAwAAAAAAABAhWAMAAAAAAAAQIVgDAAAAAAAAECFYAwAAAAAAABAhWAMAAAAAAAAQ\n",
       "IVgDAAAAAAAAECFYAwAAAAAAABAhWAMAAAAAAAAQIVgDAAAAAAAAECFYAwAAAAAAABCxuZyezukR\n",
       "b5Kr+dmU3vDGmHse7Z6rq+p4TC9YbFqt0xPGTE1vI1PDv5Fqeh9pe0ZW/c7IdNfv3ldVdTzpeUb2\n",
       "5/123/wgvWDM/qLp/e98n16w2Pa03+aqqp88+SQ9Ych2OqQnLPb2e/+TnjDkv758Pz1hyP3tLj1h\n",
       "sf8+6/llc3Nxlp4w5jeb9ILFTr9MLxhz+3ibnjDk3if93hGmfb/NVVV1fp5eMGTa3qUnLDc3PSPV\n",
       "7x2yqmo+9HtHmBv+NlxVdbn6oOfLb9ffLBvS9F6ffr8MAwAAAAAAAPCdIFgDAAAAAAAAECFYAwAA\n",
       "AAAAABAhWAMAAAAAAAAQIVgDAAAAAAAAECFYAwAAAAAAABAhWAMAAAAAAAAQIVgDAAAAAAAAECFY\n",
       "AwAAAAAAABAhWAMAAAAAAAAQIVgDAAAAAAAAECFYAwAAAAAAABAhWAMAAAAAAAAQIVgDAAAAAAAA\n",
       "ECFYAwAAAAAAABAhWAMAAAAAAAAQIVgDAAAAAAAAECFYAwAAAAAAABAhWAMAAAAAAAAQIVgDAAAA\n",
       "AAAAECFYAwAAAAAAABAhWAMAAAAAAAAQIVgDAAAAAAAAECFYAwAAAAAAABAhWAMAAAAAAAAQIVgD\n",
       "AAAAAAAAECFYAwAAAAAAABAhWAMAAAAAAAAQIVgDAAAAAAAAECFYAwAAAAAAABCxuZqfTekRNDD1\n",
       "OyZXxw/7ja6qy+mDOb1hxLRepycMaHmp+zoe0wsWm05P0hPGnGzTC4YcH5ymJyy2f9TzjBxOe/7N\n",
       "4nGTXvDmOJ4f0hOGvPfeF+kJi7334Ov0hCFPttfpCUP+8sGv0xMW+8npb9MThry16XlGfnn9TnrC\n",
       "Ytttz3v2/uIuPWHI3cN+7767i5Y/j9T2uufu/f1+D63bT3reR+q057tvHTpe756fx7azG/7OOu/3\n",
       "6Qlj5p6/D3fsepfT054Xm9em56+VAAAAAAAAALQnWAMAAAAAAAAQIVgDAAAAAAAAECFYAwAAAAAA\n",
       "ABAhWAMAAAAAAAAQIVgDAAAAAAAAECFYAwAAAAAAABAhWAMAAAAAAAAQIVgDAAAAAAAAECFYAwAA\n",
       "AAAAABAhWAMAAAAAAAAQIVgDAAAAAAAAECFYAwAAAAAAABAhWAMAAAAAAAAQIVgDAAAAAAAAECFY\n",
       "AwAAAAAAABAhWAMAAAAAAAAQIVgDAAAAAAAAECFYAwAAAAAAABAhWAMAAAAAAAAQIVgDAAAAAAAA\n",
       "ECFYAwAAAAAAABAhWAMAAAAAAAAQIVgDAAAAAAAAECFYAwAAAAAAABAhWAMAAAAAAAAQIVgDAAAA\n",
       "AAAAECFYAwAAAAAAABAhWAMAAAAAAAAQIVgDAAAAAAAAECFYAwAAAAAAABCxSQ8Ydbn6YE5vGHF1\n",
       "/HBKbxgy97vcXc/INDU9IodDesJiU8NzXVVV66a37m3D3efn6QVjTrbpBWOO/T6Tx03Pv/2be86u\n",
       "V2+nFyy3e+uYnjBkOt+nJwx5dO9VesJif/fOf6QnDNlMPc/2T7Yfpye8MR6ub9IThqwbnu2f/vA3\n",
       "6QlD/vU3P0pPGHJ70e+M3D1cpycMub3p+dB6+lV6wXLHB2fpCUNWL/o9+1VVVc+f/lqa9/1+r6yq\n",
       "qrnfd03b37S7/j7c0NX8rOchaepyetrucPd88gMAAAAAAACgPcEaAAAAAAAAgAjBGgAAAAAAAIAI\n",
       "wRoAAAAAAACACMEaAAAAAAAAgAjBGgAAAAAAAIAIwRoAAAAAAACACMEaAAAAAAAAgAjBGgAAAAAA\n",
       "AIAIwRoAAAAAAACACMEaAAAAAAAAgAjBGgAAAAAAAIAIwRoAAAAAAACACMEaAAAAAAAAgAjBGgAA\n",
       "AAAAAIAIwRoAAAAAAACACMEaAAAAAAAAgAjBGgAAAAAAAIAIwRoAAAAAAACACMEaAAAAAAAAgAjB\n",
       "GgAAAAAAAIAIwRoAAAAAAACACMEaAAAAAAAAgAjBGgAAAAAAAIAIwRoAAAAAAACACMEaAAAAAAAA\n",
       "gAjBGgAAAAAAAIAIwRoAAAAAAACACMEaAAAAAAAAgAjBGgAAAAAAAICITXrAqKvjh1N6w5vkan7W\n",
       "7npf1tM5vWHI1O5SV1XPM/K3m3/seUbWPf/WaFqv0xOWOxzSC4bM255f7/PpNj3hjTEd0wvGrG/S\n",
       "C5ZbXbT7evyDdc9D8qMHn6cnLPbL2x+kJwz5mwc/T08Y8ucnZ+kJi93N+/SEIfvzj9IThpxO/a73\n",
       "v3394/SEIcdjz/eaedvvNXJu+jgyzf2udVXV4V6/sz2vmx6Spmek9g1/a2h6radNw9+iqmq+7fc8\n",
       "Mjc9I11dTk3bR0Mdu0dVz939nqAAAAAAAAAA+E4QrAEAAAAAAACIEKwBAAAAAAAAiBCsAQAAAAAA\n",
       "AIgQrAEAAAAAAACIEKwBAAAAAAAAiBCsAQAAAAAAAIgQrAEAAAAAAACIEKwBAAAAAAAAiBCsAQAA\n",
       "AAAAAIgQrAEAAAAAAACIEKwBAAAAAAAAiBCsAQAAAAAAAIgQrAEAAAAAAACIEKwBAAAAAAAAiBCs\n",
       "AQAAAAAAAIgQrAEAAAAAAACIEKwBAAAAAAAAiBCsAQAAAAAAAIgQrAEAAAAAAACIEKwBAAAAAAAA\n",
       "iBCsAQAAAAAAAIgQrAEAAAAAAACIEKwBAAAAAAAAiBCsAQAAAAAAAIgQrAEAAAAAAACIEKwBAAAA\n",
       "AAAAiBCsAQAAAAAAAIgQrAEAAAAAAACIEKwBAAAAAAAAiNikB9DD5fR0Tm9Y6mp+NqU3jLicP2h3\n",
       "rauqLlf9ds/7fXrCkKlaHu2aT47pCYtNm55fk9Ou59meH91LT1hste93rquqdhc9z/ax4ez9o56f\n",
       "x+2q3dd6VVXtGh6SB6tX6QlD/vn3f5GeMOTTBx+lJyz2V6efpCcM+Wj3fnrCkC8O99MTFjvOPd8P\n",
       "njx8mZ4w5LNfn6cnLLa+TS8YM089z/bqruFzVNNr3XZ3wyPS91p3vNhVtVqnFyx36PnuO60bXuuq\n",
       "mo/9fo+6On7Y9EbC6+I/rAEAAAAAAACIEKwBAAAAAAAAiBCsAQAAAAAAAIgQrAEAAAAAAACIEKwB\n",
       "AAAAAAAAiBCsAQAAAAAAAIgQrAEAAAAAAACIEKwBAAAAAAAAiBCsAQAAAAAAAIgQrAEAAAAAAACI\n",
       "EKwBAAAAAAAAiBCsAQAAAAAAAIgQrAEAAAAAAACIEKwBAAAAAAAAiBCsAQAAAAAAAIgQrAEAAAAA\n",
       "AACIEKwBAAAAAAAAiBCsAQAAAAAAAIgQrAEAAAAAAACIEKwBAAAAAAAAiBCsAQAAAAAAAIgQrAEA\n",
       "AAAAAACIEKwBAAAAAAAAiBCsAQAAAAAAAIgQrAEAAAAAAACIEKwBAAAAAAAAiBCsAQAAAAAAAIgQ\n",
       "rAEAAAAAAACIEKwBAAAAAAAAiBCsAQAAAAAAAIgQrAEAAAAAAACI2KQH0MPV/GxKb1jqcvXBnN7w\n",
       "Jpmmdkekps02PWHMquffGs27XXrCYtPdXXrCmHXPM1LH9IDl9vfW6QlD1v0+jlXVc/f2i56P2w9/\n",
       "+HV6wpCvdmfpCYv9+/5H6QlD/vrxL9IThlysXqUnLPbx4SQ9Ych2OqQnDPn87kF6wmI///zd9IQh\n",
       "N7ue72PH034/NRw3/d7Xq6pOnjd8Qaiq6dDvjEzHfpv/oOnuQ7/vyGnb8549N7zWVVVTw58a5sM+\n",
       "PWHIfOz5XVNz0/sffIOmv2gDAAAAAAAA0J1gDQAAAAAAAECEYA0AAAAAAABAhGANAAAAAAAAQIRg\n",
       "DQAAAAAAAECEYA0AAAAAAABAhGANAAAAAAAAQIRgDQAAAAAAAECEYA0AAAAAAABAhGANAAAAAAAA\n",
       "QIRgDQAAAAAAAECEYA0AAAAAAABAhGANAAAAAAAAQIRgDQAAAAAAAECEYA0AAAAAAABAhGANAAAA\n",
       "AAAAQIRgDQAAAAAAAECEYA0AAAAAAABAhGANAAAAAAAAQIRgDQAAAAAAAECEYA0AAAAAAABAhGAN\n",
       "AAAAAAAAQIRgDQAAAAAAAECEYA0AAAAAAABAhGANAAAAAAAAQIRgDQAAAAAAAECEYA0AAAAAAABA\n",
       "hGANAAAAAAAAQIRgDQAAAAAAAECEYA0AAAAAAABAxCY9gB4up6dzegPfcqt1esFi83xMTxiz77l7\n",
       "tb2XnrDc/pBe8EZZv7xNT1hsc7/no9Tt3O+eXVW12qcXLLe6m9IThnzx6UV6wpBXu216wmI/ff/X\n",
       "6QlD/nf3JD1hyK9evZ2esNjj7cv0hCHP92fpCUM+etHvjDw5u05PGPKLT99NTxiyedXvu/3kRXrB\n",
       "mN1Fz/+zOf+k4Tv7seHmqqpXu/SCMaf9nlnn5z2fR6ZNz3f2467nd3tLc9PsMfV7Hqmml7prG7ua\n",
       "n7U7JD2f/AAAAAAAAABoT7AGAAAAAAAAIEKwBgAAAAAAACBCsAYAAAAAAAAgQrAGAAAAAAAAIEKw\n",
       "BgAAAAAAACBCsAYAAAAAAAAgQrAGAAAAAAAAIEKwBgAAAAAAACBCsAYAAAAAAAAgQrAGAAAAAAAA\n",
       "IEKwBgAAAAAAACBCsAYAAAAAAAAgQrAGAAAAAAAAIEKwBgAAAAAAACBCsAYAAAAAAAAgQrAGAAAA\n",
       "AAAAIEKwBgAAAAAAACBCsAYAAAAAAAAgQrAGAAAAAAAAIEKwBgAAAAAAACBCsAYAAAAAAAAgQrAG\n",
       "AAAAAAAAIEKwBgAAAAAAACBCsAYAAAAAAAAgQrAGAAAAAAAAIEKwBgAAAAAAACBCsAYAAAAAAAAg\n",
       "QrAGAAAAAAAAIEKwBgAAAAAAACBiSg+AP5bL1QdzesOQuefsmvrdTqb1Jj1hyLTqd62rqqbTk/SE\n",
       "xaZ799ITxjTdPT++SE9Y7O7xWXrCkN1b2/SEIdfvrNMTFrv5XnrBmNvvNX0eef9VesFiDy+u0xOG\n",
       "/Pjx5+kJQ/70/Iv0hMX+5LTf5qqqf/3yz9IThvz843fTExbb3fb8Xp8/Pk1PGHL6Wb///dg+Ty8Y\n",
       "8+hX+/SEIZtXx/SExU4/fpmeMGS6vk1PGPOi3/WeX/bbXFU1396lJwyZDw3vf01/056P/e7ZVVVX\n",
       "87OePxDDN+j3lA0AAAAAAADAd4JgDQAAAAAAAECEYA0AAAAAAABAhGANAAAAAAAAQIRgDQAAAAAA\n",
       "AECEYA0AAAAAAABAhGANAAAAAAAAQIRgDQAAAAAAAECEYA0AAAAAAABAhGANAAAAAAAAQIRgDQAA\n",
       "AAAAAECEYA0AAAAAAABAhGANAAAAAAAAQIRgDQAAAAAAAECEYA0AAAAAAABAhGANAAAAAAAAQIRg\n",
       "DQAAAAAAAECEYA0AAAAAAABAhGANAAAAAAAAQIRgDQAAAAAAAECEYA0AAAAAAABAhGANAAAAAAAA\n",
       "QIRgDQAAAAAAAECEYA0AAAAAAABAhGANAAAAAAAAQIRgDQAAAAAAAECEYA0AAAAAAABAhGANAAAA\n",
       "AAAAQIRgDQAAAAAAAECEYA0AAAAAAABAxCY9AP5o5jm9YMw0pRfwbbfq+bdG826fnrDcpuHmqpqO\n",
       "x/SEIdP1bXrCYut72/SEIaf7nmfk5slZesJiq0PP7/X1Tc/dd5+epics9uVXJ+kJQ/7zRb/PY1XV\n",
       "z0/eTU9Y7MFZv+/Hqqovfn8/PWHI/nm/z+TU9Lvm/NOe7zXrm/SC5e591fP3kdUhvWDM6rbf8On2\n",
       "Lj1hzMvr9IIh8/MX6QmLzU1/Z53nnu++HX/X7npGurqcnrrgr8nV/Kznw3ZDPd8OAAAAAAAAAGhP\n",
       "sAYAAAAAAAAgQrAGAAAAAAAAIEKwBgAAAAAAACBCsAYAAAAAAAAgQrAGAAAAAAAAIEKwBgAAAAAA\n",
       "ACBCsAYAAAAAAAAgQrAGAAAAAAAAIEKwBgAAAAAAACBCsAYAAAAAAAAgQrAGAAAAAAAAIEKwBgAA\n",
       "AAAAACBCsAYAAAAAAAAgQrAGAAAAAAAAIEKwBgAAAAAAACBCsAYAAAAAAAAgQrAGAAAAAAAAIEKw\n",
       "BgAAAAAAACBCsAYAAAAAAAAgQrAGAAAAAAAAIEKwBgAAAAAAACBCsAYAAAAAAAAgQrAGAAAAAAAA\n",
       "IEKwBgAAAAAAACBCsAYAAAAAAAAgQrAGAAAAAAAAIEKwBgAAAAAAACBCsAYAAAAAAAAgQrAGAAAA\n",
       "AAAAIEKwBgAAAAAAACBiSg8Avht+tvmHOb1hsbnf5Kqqmnr+rdG02aQnLDbdO01PGDKd3UtPGLPd\n",
       "phcsNr/1ID1hyP5RzzNy97DfGbl+p9+9r6rqcNLzNeHm7fSC5XZv9XwemQ7pBWPmdXrBcocn+/SE\n",
       "Mbuez6wnn/U7JOe/TS8Ys2p6tM8+63cDPPm63+aqqtX+mJ4wZPvxi/SExaZ9zzNSz/td66qqueHu\n",
       "+e4uPWFI15/+5n2/6z2t+j1DVVXNx573v6vjhz1f2uEb9HyDBAAAAAAAAKA9wRoAAAAAAACACMEa\n",
       "AAAAAAAAgAjBGgAAAAAAAIAIwRoAAAAAAACACMEaAAAAAAAAgAjBGgAAAAAAAIAIwRoAAAAAAACA\n",
       "CMEaAAAAAAAAgAjBGgAAAAAAAIAIwRoAAAAAAACACMEaAAAAAAAAgAjBGgAAAAAAAIAIwRoAAAAA\n",
       "AACACMEaAAAAAAAAgAjBGgAAAAAAAIAIwRoAAAAAAACACMEaAAAAAAAAgAjBGgAAAAAAAIAIwRoA\n",
       "AAAAAACACMEaAAAAAAAAgAjBGgAAAAAAAIAIwRoAAAAAAACACMEaAAAAAAAAgAjBGgAAAAAAAIAI\n",
       "wRoAAAAAAACACMEaAAAAAAAAgAjBGgAAAAAAAIAIwRoAAAAAAACACMEaAAAAAAAAgIhNesCoy+np\n",
       "nN4w4mp+NqU38O12ufqg5dmej8f0hMWmVdO/2Zma3kbmhkf7cEgvGDJf36QnDJlO+13v6cU6PWHI\n",
       "eu3+97qcV7/NVVWvHvc829vr9ILlXtz1PCPr2/SCMfvz9ILl9jfb9IQhZ5+kF4zpeEamfo9QVVV1\n",
       "9nnP4Zvrhu++h36bq6pOfvc8PWFMx/fI61fpBUPmVz0fSOaGn8n52PA3naqqud+1rqqaGr77zod9\n",
       "esKYhtcavqua/loJAAAAAAAAQHeCNQAAAAAAAAARgjUAAAAAAAAAEYI1AAAAAAAAABGCNQAAAAAA\n",
       "AAARgjUAAAAAAAAAEYI1AAAAAAAAABGCNQAAAAAAAAARgjUAAAAAAAAAEYI1AAAAAAAAABGCNQAA\n",
       "AAAAAAARgjUAAAAAAAAAEYI1AAAAAAAAABGCNQAAAAAAAAARgjUAAAAAAAAAEYI1AAAAAAAAABGC\n",
       "NQAAAAAAAAARgjUAAAAAAAAAEYI1AAAAAAAAABGCNQAAAAAAAAARgjUAAAAAAAAAEYI1AAAAAAAA\n",
       "ABGCNQAAAAAAAAARgjUAAAAAAAAAEYI1AAAAAAAAABGCNQAAAAAAAAARgjUAAAAAAAAAEYI1AAAA\n",
       "AAAAABGCNQAAAAAAAAARgjUAAAAAAAAAEVN6APDdcDk9ndMblppWTf9mZ2p66264u+sZmc7O0hPG\n",
       "HI/pBYtNjy7SE8Y0PSPH+6fpCYsd7p+kJww5nq7TE4YcTvvdt3cPe17rqd8tu6qqbt/qd0bmfpOr\n",
       "qurkebvXg6qqWr/qd7hX+57X+uSrfXrCkHnd771m++VNesKQ1c0uPWHM7i69YLH5s8/TE94o86Hf\n",
       "d8182/TzOPe71lVV89zwu73j5qq6mp/1+2Kvnr/Fd73WvD5NX30BAAAAAAAA6E6wBgAAAAAAACBC\n",
       "sAYAAAAAAAAgQrAGAAAAAAD+r327S47kOq8oerMK6G7KDo2qOANQmiOJGRCjYljddANV6UeHXygh\n",
       "ZWHrA9YawYmMW7d+NgAACcEaAAAAAAAAgIRgDQAAAAAAAEBCsAYAAAAAAAAgIVgDAAAAAAAAkBCs\n",
       "AQAAAAAAAEgI1gAAAAAAAAAkBGsAAAAAAAAAEoI1AAAAAAAAAAnBGgAAAAAAAICEYA0AAAAAAABA\n",
       "QrAGAAAAAAAAICFYAwAAAAAAAJAQrAEAAAAAAABICNYAAAAAAAAAJARrAAAAAAAAABKCNQAAAAAA\n",
       "AAAJwRoAAAAAAACAhGANAAAAAAAAQEKwBgAAAAAAACAhWAMAAAAAAACQEKwBAAAAAAAASAjWAAAA\n",
       "AAAAACQEawAAAAAAAAASgjUAAAAAAAAACcEaAAAAAAAAgIRgDQAAAAAAAEBCsAYAAAAAAAAgsdUD\n",
       "gP/rsj3s9YYjnvZH98kb+fHuryPPyNpnzp5o+/KlnnDIdpr3d3Tbl8/1hGNO53rBMf/5p3rBq+0/\n",
       "zDwj1z/PvEcmvtfcPt3VEw55+Y+Z98jtzkfWt3L/t2s94ZiBR2R7nnf3rbXW3W+/1xMO2V7mne3t\n",
       "+0s94ZivM8/I/vVrPeHD2L9+qyccsl9v9YTX2wduXmvt13l39lpr5Peaqfymzd+j17ydeb8MAwAA\n",
       "AAAAAPAuCNYAAAAAAAAAJARrAAAAAAAAABKCNQAAAAAAAAAJwRoAAAAAAACAhGANAAAAAAAAQEKw\n",
       "BgAAAAAAACAhWAMAAAAAAACQEKwBAAAAAAAASAjWAAAAAAAAACQEawAAAAAAAAASgjUAAAAAAAAA\n",
       "CcEaAAAAAAAAgIRgDQAAAAAAAEBCsAYAAAAAAAAgIVgDAAAAAAAAkBCsAQAAAAAAAEgI1gAAAAAA\n",
       "AAAkBGsAAAAAAAAAEoI1AAAAAAAAAAnBGgAAAAAAAICEYA0AAAAAAABAQrAGAAAAAAAAICFYAwAA\n",
       "AAAAAJAQrAEAAAAAAABICNYAAAAAAAAAJARrAAAAAAAAABKCNQAAAAAAAAAJwRoAAAAAAACAhGAN\n",
       "AAAAAAAAQGK7bA97PeKIp/1xqzcA/+ty+mneXbLPm7zWWmubef1tp4F/IzX0WZ8+f64nHLJfb/WE\n",
       "V9s+3dcTDtk+faonHPN54O67c73gmB++1AuOGXiP7H8aeK7XWtcfZu4+f/teT3i12+eZ7zVzzfuO\n",
       "cP7t93rCMd+f6wXHnAe+t3/9Vi84ZugZ2b/Ne9779VpPOGbgZ7+11tpf5p3tfehvaE+3X0b+sDPx\n",
       "d9apz3qqiV1P0+PvGVgPAAAAAAAAAHgPBGsAAAAAAAAAEoI1AAAAAAAAAAnBGgAAAAAAAICEYA0A\n",
       "AAAAAABAQrAGAAAAAAAAICFYAwAAAAAAAJAQrAEAAAAAAABICNYAAAAAAAAAJARrAAAAAAAAABKC\n",
       "NQAAAAAAAAAJwRoAAAAAAACAhGANAAAAAAAAQEKwBgAAAAAAACAhWAMAAAAAAACQEKwBAAAAAAAA\n",
       "SAjWAAAAAAAAACQEawAAAAAAAAASgjUAAAAAAAAACcEaAAAAAAAAgIRgDQAAAAAAAEBCsAYAAAAA\n",
       "AAAgIVgDAAAAAAAAkBCsAQAAAAAAAEgI1gAAAAAAAAAkBGsAAAAAAAAAEoI1AAAAAAAAAAnBGgAA\n",
       "AAAAAICEYA0AAAAAAABAQrAGAAAAAAAAILHVA4D34bI97PWGD2MbenXvjshb2e7u6wnHDDzb2925\n",
       "nnDMwGe91lqnL1/qCa93P/T1uIbe2Z8/1Qteb+jrcezu08C/2X651guOOQ981mut9fxcL3i989DP\n",
       "I//9vV5wzMDX5P596LO+znvWa621X2/1hA9jf3mpJxyyX+ft3oZ+9vv1+vPI4X5nfTtP++PIMwLv\n",
       "0dBvkAAAAAAAAABMJ1gDAAAAAAAAkBCsAQAAAAAAAEgI1gAAAAAAAAAkBGsAAAAAAAAAEoI1AAAA\n",
       "AAAAAAnBGgAAAAAAAICEYA0AAAAAAABAQrAGAAAAAAAAICFYAwAAAAAAAJAQrAEAAAAAAABICNYA\n",
       "AAAAAAAAJARrAAAAAAAAABKCNQAAAAAAAAAJwRoAAAAAAACAhGANAAAAAAAAQEKwBgAAAAAAACAh\n",
       "WAMAAAAAAACQEKwBAAAAAAAASAjWAAAAAAAAACQEawAAAAAAAAASgjUAAAAAAAAACcEaAAAAAAAA\n",
       "gIRgDQAAAAAAAEBCsAYAAAAAAAAgIVgDAAAAAAAAkBCsAQAAAAAAAEgI1gAAAAAAAAAkBGsAAAAA\n",
       "AAAAEoI1AAAAAAAAAImtHgDA61y2h73ecMjmLeetbFOf9cTdp6l/+zfwWa+1tvu7esKrbZ8/1RMO\n",
       "2U7nesJBA98iz/PO9VprrdPMe2QNvEf23/6rnnDI9uVLPeGQ/fff6wmvN/XzyD7wzl5rrdutXvBq\n",
       "+8tLPeGQ/fm5nnDIts17Te4Dz/Vaa63btV7wYexD7+ypv4/8ev155nCAf8K8T1AAAAAAAAAAvAuC\n",
       "NQAAAAAAAAAJwRoAAAAAAACAhGANAAAAAAAAQEKwBgAAAAAAACAhWAMAAAAAAACQEKwBAAAAAAAA\n",
       "SAjWAAAAAAAAACQEawAAAAAAAAASgjUAAAAAAAAACcEaAAAAAAAAgIRgDQAAAAAAAEBCsAYAAAAA\n",
       "AAAgIVgDAAAAAAAAkBCsAQAAAAAAAEgI1gAAAAAAAAAkBGsAAAAAAAAAEoI1AAAAAAAAAAnBGgAA\n",
       "AAAAAICEYA0AAAAAAABAQrAGAAAAAAAAICFYAwAAAAAAAJAQrAEAAAAAAABICNYAAAAAAAAAJARr\n",
       "AAAAAAAAABKCNQAAAAAAAAAJwRoAAAAAAACAhGANAAAAAAAAQEKwBgAAAAAAACAhWAMAAAAAAACQ\n",
       "EKwBAAAAAAAASGz1AIDKZXvY6w2HbK5u/tjT7ZeRh+TH81/mvSanvh5P53rBIdt54t9aDj0ja97L\n",
       "ca21tvv7esLrDb1H9uu1nnDIyKd9nnln7y8v9YRDttPA95p95p099v57Hni291u94KChZ+Q29XkP\n",
       "dJv5eWTiGXnaH0e+IMf+9sebmXq2ULC4gAAADg1JREFUJ5r6enRG3s7Ab2IAAAAAAAAAvAeCNQAA\n",
       "AAAAAAAJwRoAAAAAAACAhGANAAAAAAAAQEKwBgAAAAAAACAhWAMAAAAAAACQEKwBAAAAAAAASAjW\n",
       "AAAAAAAAACQEawAAAAAAAAASgjUAAAAAAAAACcEaAAAAAAAAgIRgDQAAAAAAAEBCsAYAAAAAAAAg\n",
       "IVgDAAAAAAAAkBCsAQAAAAAAAEgI1gAAAAAAAAAkBGsAAAAAAAAAEoI1AAAAAAAAAAnBGgAAAAAA\n",
       "AICEYA0AAAAAAABAQrAGAAAAAAAAICFYAwAAAAAAAJAQrAEAAAAAAABICNYAAAAAAAAAJARrAAAA\n",
       "AAAAABKCNQAAAAAAAAAJwRoAAAAAAACAhGANAAAAAAAAQEKwBgAAAAAAACAhWAMAAAAAAACQ2OoB\n",
       "AJXL9rDXG4542h/d3W/kcvpp5BlZ+8zZaxt4tIc+6+3+Uz3hmOtLveD1zud6wUEDX49rrdOn+3rC\n",
       "q+0v13rCIfvtVk84ZLub95rcTkP/zvw08x7ZbwPf25+f6wUfyv4y8PPIad7dt9Ya+1l7ov028/MI\n",
       "b8jr8U357Q/4iIZ+8wUAAAAAAABgOsEaAAAAAAAAgIRgDQAAAAAAAEBCsAYAAAAAAAAgIVgDAAAA\n",
       "AAAAkBCsAQAAAAAAAEgI1gAAAAAAAAAkBGsAAAAAAAAAEoI1AAAAAAAAAAnBGgAAAAAAAICEYA0A\n",
       "AAAAAABAQrAGAAAAAAAAICFYAwAAAAAAAJAQrAEAAAAAAABICNYAAAAAAAAAJARrAAAAAAAAABKC\n",
       "NQAAAAAAAAAJwRoAAAAAAACAhGANAAAAAAAAQEKwBgAAAAAAACAhWAMAAAAAAACQEKwBAAAAAAAA\n",
       "SAjWAAAAAAAAACQEawAAAAAAAAASgjUAAAAAAAAACcEaAAAAAAAAgIRgDQAAAAAAAEBCsAYAAAAA\n",
       "AAAgIVgDAAAAAAAAkBCsAQAAAAAAAEjc1QMAKk/741ZvOOKyPez1hiOmPm/4I1PP9Y/Xv4y8Ryba\n",
       "X17qCYec7u/rCYfcvn2rJ7ze+VwvOOZ6rRccc5r3N9v7beaznnr/rf1WL3i9offI2DMy0XXms94G\n",
       "3tlrrbXfBt4j+8yvB1O/j0009bcoAOaY+ckPAAAAAAAAgPEEawAAAAAAAAASgjUAAAAAAAAACcEa\n",
       "AAAAAAAAgIRgDQAAAAAAAEBCsAYAAAAAAAAgIVgDAAAAAAAAkBCsAQAAAAAAAEgI1gAAAAAAAAAk\n",
       "BGsAAAAAAAAAEoI1AAAAAAAAAAnBGgAAAAAAAICEYA0AAAAAAABAQrAGAAAAAAAAICFYAwAAAAAA\n",
       "AJAQrAEAAAAAAABICNYAAAAAAAAAJARrAAAAAAAAABKCNQAAAAAAAAAJwRoAAAAAAACAhGANAAAA\n",
       "AAAAQEKwBgAAAAAAACAhWAMAAAAAAACQEKwBAAAAAAAASAjWAAAAAAAAACQEawAAAAAAAAASgjUA\n",
       "AAAAAAAACcEaAAAAAAAAgIRgDQAAAAAAAEBCsAYAAAAAAAAgIVgDAAAAAAAAkNjqAQAAU122h73e\n",
       "8JFsp3l/a7nvjgjv1NCzPfEemWrq/bdt834mmfqseUNTz8jA1+Naa+7zHuhpfxx6SOCPTfytwesR\n",
       "+Gf5tg4AAAAAAABAQrAGAAAAAAAAICFYAwAAAAAAAJAQrAEAAAAAAABICNYAAAAAAAAAJARrAAAA\n",
       "AAAAABKCNQAAAAAAAAAJwRoAAAAAAACAhGANAAAAAAAAQEKwBgAAAAAAACAhWAMAAAAAAACQEKwB\n",
       "AAAAAAAASAjWAAAAAAAAACQEawAAAAAAAAASgjUAAAAAAAAACcEaAAAAAAAAgIRgDQAAAAAAAEBC\n",
       "sAYAAAAAAAAgIVgDAAAAAAAAkBCsAQAAAAAAAEgI1gAAAAAAAAAkBGsAAAAAAAAAEoI1AAAAAAAA\n",
       "AAnBGgAAAAAAAICEYA0AAAAAAABAQrAGAAAAAAAAICFYAwAAAAAAAJAQrAEAAAAAAABICNYAAAAA\n",
       "AAAAJARrAAAAAAAAABJ39QAAgLG2rV5wzL7XCw759frzuAd+Of0082EPPSMTX5PbwM1rrTX0hKz9\n",
       "dqsnfBxDz/ZET7dfRj7sy/Yw8ip52h9HPu+JLssZAT4m9wjwEfkPawAAAAAAAAASgjUAAAAAAAAA\n",
       "CcEaAAAAAAAAgIRgDQAAAAAAAEBCsAYAAAAAAAAgIVgDAAAAAAAAkBCsAQAAAAAAAEgI1gAAAAAA\n",
       "AAAkBGsAAAAAAAAAEoI1AAAAAAAAAAnBGgAAAAAAAICEYA0AAAAAAABAQrAGAAAAAAAAICFYAwAA\n",
       "AAAAAJAQrAEAAAAAAABICNYAAAAAAAAAJARrAAAAAAAAABKCNQAAAAAAAAAJwRoAAAAAAACAhGAN\n",
       "AAAAAAAAQEKwBgAAAAAAACAhWAMAAAAAAACQEKwBAAAAAAAASAjWAAAAAAAAACQEawAAAAAAAAAS\n",
       "gjUAAAAAAAAACcEaAAAAAAAAgIRgDQAAAAAAAEBCsAYAAAAAAAAgIVgDAAAAAAAAkNjqAQAAU122\n",
       "h73ecMTT/ugz4Bu5nH6aeUZuv4w8IxNfk1Nfj1PP9kj7zEc99mwPvEfWNvJRjz3bE5/3NnDzWmv9\n",
       "ev155nDezMg7e818j/SsAfhX8x/WAAAAAAAAACQEawAAAAAAAAASgjUAAAAAAAAACcEaAAAAAAAA\n",
       "gIRgDQAAAAAAAEBCsAYAAAAAAAAgIVgDAAAAAAAAkBCsAQAAAAAAAEgI1gAAAAAAAAAkBGsAAAAA\n",
       "AAAAEoI1AAAAAAAAAAnBGgAAAAAAAICEYA0AAAAAAABAQrAGAAAAAAAAICFYAwAAAAAAAJAQrAEA\n",
       "AAAAAABICNYAAAAAAAAAJARrAAAAAAAAABKCNQAAAAAAAAAJwRoAAAAAAACAhGANAAAAAAAAQEKw\n",
       "BgAAAAAAACAhWAMAAAAAAACQEKwBAAAAAAAASAjWAAAAAAAAACQEawAAAAAAAAASgjUAAAAAAAAA\n",
       "CcEaAAAAAAAAgIRgDQAAAAAAAEBCsAYAAAAAAAAgsdUDAAAA4C1ctoe93vBRPO2Pfm/gXXKPvB33\n",
       "CADAx+E/rAEAAAAAAABICNYAAAAAAAAAJARrAAAAAAAAABKCNQAAAAAAAAAJwRoAAAAAAACAhGAN\n",
       "AAAAAAAAQEKwBgAAAAAAACAhWAMAAAAAAACQEKwBAAAAAAAASAjWAAAAAAAAACQEawAAAAAAAAAS\n",
       "gjUAAAAAAAAACcEaAAAAAAAAgIRgDQAAAAAAAEBCsAYAAAAAAAAgIVgDAAAAAAAAkBCsAQAAAAAA\n",
       "AEgI1gAAAAAAAAAkBGsAAAAAAAAAEoI1AAAAAAAAAAnBGgAAAAAAAICEYA0AAAAAAABAQrAGAAAA\n",
       "AAAAICFYAwAAAAAAAJAQrAEAAAAAAABICNYAAAAAAAAAJARrAAAAAAAAABKCNQAAAAAAAAAJwRoA\n",
       "AAAAAACAhGANAAAAAAAAQEKwBgAAAAAAACCx1QMAAIB/L5ftYa83HPG0P477fuNZ81452wAAAPyj\n",
       "/Ic1AAAAAAAAAAnBGgAAAAAAAICEYA0AAAAAAABAQrAGAAAAAAAAICFYAwAAAAAAAJAQrAEAAAAA\n",
       "AABICNYAAAAAAAAAJARrAAAAAAAAABKCNQAAAAAAAAAJwRoAAAAAAACAhGANAAAAAAAAQEKwBgAA\n",
       "AAAAACAhWAMAAAAAAACQEKwBAAAAAAAASAjWAAAAAAAAACQEawAAAAAAAAASgjUAAAAAAAAACcEa\n",
       "AAAAAAAAgIRgDQAAAAAAAEBCsAYAAAAAAAAgIVgDAAAAAAAAkBCsAQAAAAAAAEgI1gAAAAAAAAAk\n",
       "BGsAAAAAAAAAEoI1AAAAAAAAAAnBGgAAAAAAAICEYA0AAAAAAABAQrAGAAAAAAAAICFYAwAAAAAA\n",
       "AJAQrAEAAAAAAABIbPUAAPh3ddke9nrDEU/7o/d3AP6lvEcCAAAA/1/8hzUAAAAAAAAACcEaAAAA\n",
       "AAAAgIRgDQAAAAAAAEBCsAYAAAAAAAAgIVgDAAAAAAAAkBCsAQAAAAAAAEgI1gAAAAAAAAAkBGsA\n",
       "AAAAAAAAEoI1AAAAAAAAAAnBGgAAAAAAAICEYA0AAAAAAABAQrAGAAAAAAAAICFYAwAAAAAAAJAQ\n",
       "rAEAAAAAAABICNYAAAAAAAAAJARrAAAAAAAAABKCNQAAAAAAAAAJwRoAAAAAAACAhGANAAAAAAAA\n",
       "QEKwBgAAAAAAACAhWAMAAAAAAACQEKwBAAAAAAAASAjWAAAAAAAAACQEawAAAAAAAAASgjUAAAAA\n",
       "AAAACcEaAAAAAAAAgIRgDQAAAAAAAEBCsAYAAAAAAAAgIVgDAAAAAAAAkBCsAQAAAAAAAEhs9QAA\n",
       "AAAAjrlsD3u94Yin/dFvUgAAwFrLf1gDAAAAAAAAEBGsAQAAAAAAAEgI1gAAAAAAAAAkBGsAAAAA\n",
       "AAAAEoI1AAAAAAAAAAnBGgAAAAAAAICEYA0AAAAAAABAQrAGAAAAAAAAICFYAwAAAAAAAJAQrAEA\n",
       "AAAAAABICNYAAAAAAAAAJARrAAAAAAAAABKCNQAAAAAAAAAJwRoAAAAAAACAhGANAAAAAAAAQEKw\n",
       "BgAAAAAAACAhWAMAAAAAAACQEKwBAAAAAAAASAjWAAAAAAAAACQEawAAAAAAAAASgjUAAAAAAAAA\n",
       "CcEaAAAAAAAAgIRgDQAAAAAAAEBCsAYAAAAAAAAgIVgDAAAAAAAAkBCsAQAAAAAAAEgI1gAAAAAA\n",
       "AAAkBGsAAAAAAAAAEoI1AAAAAAAAAAnBGgAAAAAAAIDE/wDftQT03xJZaQAAAABJRU5ErkJggg==\n",
       "\" transform=\"translate(149, 47)\"/>\n",
       "</g>\n",
       "<defs>\n",
       "  <clipPath id=\"clip793\">\n",
       "    <rect x=\"2160\" y=\"47\" width=\"73\" height=\"1440\"/>\n",
       "  </clipPath>\n",
       "</defs>\n",
       "<g clip-path=\"url(#clip793)\">\n",
       "<image width=\"72\" height=\"1439\" xlink:href=\"data:image/png;base64,\n",
       "iVBORw0KGgoAAAANSUhEUgAAAEgAAAWfCAYAAAAI7rB3AAAMJ0lEQVR4nO3dwa3cSBAFQVIoU9Z/\n",
       "t2QFm7JgK4+cQ4QFQuJhiG7OfN3P3//ei//15+t/wK8TKAgUBAoChXne8/W/4adZUBAoCBQECgKF\n",
       "OZej2MaCgkBBoCBQmHM5amwsKAgUBAoCBYHCPK+jxsaCgkBBoCBQECg4iwULCgIFgYJAYR5vNVYW\n",
       "FAQKAgWBgkBhjguzlQUFgYJAQaDgqBEsKAgUBAoCBYHCeKexs6AgUBAoCBQECr5hFiwoCBQECgKF\n",
       "eb7+F/w4CwoCBYGCQEGg4MIsWFAQKAgUBAoChXncl60sKAgUBAoCBUeNYEFBoCBQECgIFOa57q//\n",
       "DT/NgoJAQaAgUJjn9SG9saAgUBAoCBQECnMcNVYWFAQKAgWBgkDBhVmwoCBQECgIFOa4MFtZUBAo\n",
       "CBQECgIFR41gQUGgIFAQKAgUPMWCBQWBgkBBoDDn1WijThAoCBQECgIFR41gQUGgIFAQKMyj0Uqd\n",
       "IFAQKAgUBAouzII6QaAgUBAoCBRcmAULCgIFgYJAYR5HjZU6QaAgUBAoCBTmaLRSJwgUBAoCBYGC\n",
       "C7NgQUGgIFAQKLgwC+oEgYJAQaAgUHBhFtQJAgWBgkDBUSOoEwQKAgWBgkDBW41gQUGgIFAQKAgU\n",
       "/CQzqBMECgIFgYK//hLUCQIFgYJAQaAwj/9fbGVBQaAgUBAo+AJVUCcIFAQKAgWBgm+YBXWCQEGg\n",
       "IFAQKHjtE9QJAgWBgkBhjrcaKwsKAgWBgkBBoOCoEdQJAgWBgkBBoODHLEGdIFAQKAgU/G4+WFAQ\n",
       "KAgUBAoCBUeNoE4QKAgUBAqOGsGCgkBBoCBQECg4agR1gkBBoCBQECj4SWZQJwgUBAoChTkuzFYW\n",
       "FAQKAgWBgkDBUSOoEwQKAgWBgkDBWSxYUBAoCBQECo4aQZ0gUBAoCBQECv6GWbCgIFAQKAgU/Imu\n",
       "oE4QKAgUBAoCBUeNYEFBoCBQECgIFDzFggUFgYJAQaDgwiyoEwQKAgWBgkDBUSNYUBAoCBQECgIF\n",
       "f8MsqBMECgIFgYJfHAYLCgIFgYJAQaAwjwuzlQUFgYJAQaDgPiioEwQKAgWBgkDBu/lgQUGgIFAQ\n",
       "KAgUvPYJFhQECgIFgYK3GsGCgkBBoCBQECh47RPUCQIFgYJAwVuNYEFBoCBQECgIFLzVCBYUBAoC\n",
       "BYGCQMFZLFhQECgIFAQKPqSDBQWBgkBBoCBQ8BQLFhQECgIFgYJAwTfMgjpBoCBQECh4Nx8sKAgU\n",
       "BAoCBYGCC7NgQUGgIFAQKPiQDhYUBAoCBYGCQMFTLFhQECgIFAQKAoV5PcVWFhQECgIFgYJ388GC\n",
       "gkBBoCBQECi4MAsWFAQKAgWBgkDBUyxYUBAoCBQECt5qBAsKAgWBgkBBoOCoESwoCBQECgIFH9LB\n",
       "goJAQaAgUBAozPv1v+DHWVAQKAgUBAoCBWexYEFBoCBQECh4Nx8sKAgUBAoCBYGCo0awoCBQECgI\n",
       "FAQKzmLBgoJAQaAgUJjj5fzKgoJAQaAgUBAoOGoECwoCBYGCQMGHdLCgIFAQKAgUBArezQcLCgIF\n",
       "gYJAQaDgJ5nBgoJAQaAgUHBhFiwoCBQECgIFgYKnWLCgIFAQKAgUBArzujFbWVAQKAgUBAqOGsGC\n",
       "gkBBoCBQECh4igULCgIFgYJAwX1QsKAgUBAoCBQECo4awYKCQEGgIFAQKDiLBQsKAgWBgkBhLkeN\n",
       "lQUFgYJAQaAgUHBhFiwoCBQECgIFf9wkWFAQKAgUBAoCBRdmwYKCQEGgIFAQKHg3HywoCBQECgKF\n",
       "uXxIrywoCBQECgIFgYJ388GCgkBBoCBQECg4iwULCgIFgYJAwbv5YEFBoCBQECgIFLybDxYUBAoC\n",
       "BYGCo0awoCBQECgIFAQK3moECwoCBYGCQEGg4CkWLCgIFAQKAgUXZsGCgkBBoCBQECg4agQLCgIF\n",
       "gYJAQaDgKRYsKAgUBAoCBRdmwYKCQEGgIFAQKAgUBAoCBYGCQMF9ULCgIFAQKAgUBAqeYsGCgkBB\n",
       "oCBQECjM7bXPyoKCQEGgIFBw1AgWFAQKAgWBgkDBUyxYUBAoCBQECgIFT7FgQUGgIFAQKPgxS7Cg\n",
       "IFAQKAgUBApzO2qsLCgIFAQKAgX3QcGCgkBBoCBQECh4igULCgIFgYJAQaDgwixYUBAoCBQECo4a\n",
       "wYKCQEGgIFAQKPiGWbCgIFAQKAgU3AcFCwoCBYGCQEGg4MIsWFAQKAgUBAoCBU+xYEFBoCBQECiM\n",
       "dxo7CwoCBYGCQEGg4KgRLCgIFAQKAgWBgqdYsKAgUBAoCBR8wyxYUBAoCBQECgIFR41gQUGgIFAQ\n",
       "KPiQDhYUBAoCBYGCQMGFWbCgIFAQKAgUBAr++kuwoCBQECgIFBw1ggUFgYJAQaAgUPDaJ1hQECgI\n",
       "FAQKAgVPsWBBQaAgUBAouDALFhQECgIFgYJAwVEjWFAQKAgUBAo+pIMFBYGCQEGgIFBwYRYsKAgU\n",
       "BAoCBYGCs1iwoCBQECgIFAQKAgWBgkBBoCBQcGEWLCgIFAQKAgWBgguzYEFBoCBQECg4agQLCgIF\n",
       "gYJAQaDgqBEsKAgUBAoCBR/SwYKCQEGgIFAQKLgwCxYUBAoCBYGCQMFZLFhQECgIFAQKjhrBgoJA\n",
       "QaAgUBAoOGoECwoCBYGCQMGHdLCgIFAQKAgUBAouzIIFBYGCQEGgIFBwFgsWFAQKAgWBgqNGsKAg\n",
       "UBAoCBQECo4awYKCQEGgIFAQKHiKBQsKAgWBgkBh7ten9MaCgkBBoCBQECg4agQLCgIFgYJAwbv5\n",
       "YEFBoCBQECgIFBw1ggUFgYJAQaAgUHAWCxYUBAoCBYGCo0awoCBQECgIFAQKnmLBgoJAQaAgUBAo\n",
       "uDALFhQECgIFgYKjRrCgIFAQKAgUBAqOGsGCgkBBoCBQcNQIFhQECgIFgYJAwVEjWFAQKAgUBAoC\n",
       "BWexYEFBoCBQECj4Q5PBgoJAQaAgUBAoOGoECwoCBYGCQEGg4LVPsKAgUBAoCBQcNYIFBYGCQEGg\n",
       "IFBw1AgWFAQKAgWBgqNGsKAgUBAoCBQECo4awYKCQEGgIFAQKMzle9IrCwoCBYGCQMFRI1hQECgI\n",
       "FAQKAgWvfYIFBYGCQEGgIFBwFgsWFAQKAgWBgqNGsKAgUBAoCBQECv6GWbCgIFAQKAgUHDWCBQWB\n",
       "gkBBoCBQmPt8/U/4bRYUBAoCBYGCQMFZLFhQECgIFAQK3moECwoCBYGCQEGg4KgRLCgIFAQKAgUf\n",
       "0sGCgkBBoCBQECj4xWGwoCBQECgIFAQK/tBksKAgUBAoCBQcNYIFBYGCQEGgIFCY63iMbSwoCBQE\n",
       "CgIFgYKzWLCgIFAQKAgUfMMsWFAQKAgUBAoCBT/JDBYUBAoCBYGCo0awoCBQECgIFAQKjhrBgoJA\n",
       "QaAgUBAozOXPJa8sKAgUBAoCBb84DBYUBAoCBYGCQMHXgIMFBYGCQEGgIFBwFgsWFAQKAgWBgm+Y\n",
       "BQsKAgWBgkBBoOAbZsGCgkBBoCBQ8Ce6ggUFgYJAQaAgUPBuPlhQECgIFAQKAgXv5oMFBYGCQEGg\n",
       "4EM6WFAQKAgUBAoCBb+bDxYUBAoCBYGCQME3zIIFBYGCQEGg4MIsWFAQKAgUBAoCBU+xYEFBoCBQ\n",
       "ECh4qxEsKAgUBAoCBYGCtxrBgoJAQaAgUBAouDALFhQECgIFgYIP6WBBQaAgUBAoCBT8DbNgQUGg\n",
       "IFAQKDhqBAsKAgWBgkBBoOApFiwoCBQECgIFgYKnWLCgIFAQKAgU5vZWY2VBQaAgUBAoCBQcNYIF\n",
       "BYGCQEGgIFDwFAsWFAQKAgWBgg/pYEFBoCBQECgIFPyYJVhQECgIFAQKjhrBgoJAQaAgUBAoeIoF\n",
       "CwoCBYGCQEGgMNfxV/83FhQECgIFgYKjRrCgIFAQKAgUBArzeoqtLCgIFAQKAgWBgm+YBQsKAgWB\n",
       "gkBhrtdbjY0FBYGCQEGgIFDw2idYUBAoCBQECu6DggUFgYJAQaAgUHBhFiwoCBQECgIFgYKzWLCg\n",
       "IFAQKAgUfA04WFAQKAgUBAoCBb+bDxYUBAoCBYGCQME3zIIFBYGCQEGg4KgRLCgIFAQKAgWBgtc+\n",
       "wYKCQEGgIFDwBapgQUGgIFAQKAgU/JglWFAQKAgUBAoChXmdxVYWFAQKAgWBgqNGsKAgUBAoCBQE\n",
       "Cr4GHCwoCBQECgKFf4jrjN/mS6F7AAAAAElFTkSuQmCC\n",
       "\" transform=\"translate(2161, 47)\"/>\n",
       "</g>\n",
       "<path clip-path=\"url(#clip790)\" d=\"M2269.43 1280.61 L2277.07 1280.61 L2277.07 1254.24 L2268.76 1255.91 L2268.76 1251.65 L2277.02 1249.99 L2281.7 1249.99 L2281.7 1280.61 L2289.33 1280.61 L2289.33 1284.55 L2269.43 1284.55 L2269.43 1280.61 Z\" fill=\"#f8f8f2\" fill-rule=\"evenodd\" fill-opacity=\"1\" /><path clip-path=\"url(#clip790)\" d=\"M2308.78 1253.06 Q2305.17 1253.06 2303.34 1256.63 Q2301.53 1260.17 2301.53 1267.3 Q2301.53 1274.41 2303.34 1277.97 Q2305.17 1281.51 2308.78 1281.51 Q2312.41 1281.51 2314.22 1277.97 Q2316.05 1274.41 2316.05 1267.3 Q2316.05 1260.17 2314.22 1256.63 Q2312.41 1253.06 2308.78 1253.06 M2308.78 1249.36 Q2314.59 1249.36 2317.64 1253.97 Q2320.72 1258.55 2320.72 1267.3 Q2320.72 1276.03 2317.64 1280.63 Q2314.59 1285.22 2308.78 1285.22 Q2302.97 1285.22 2299.89 1280.63 Q2296.83 1276.03 2296.83 1267.3 Q2296.83 1258.55 2299.89 1253.97 Q2302.97 1249.36 2308.78 1249.36 Z\" fill=\"#f8f8f2\" fill-rule=\"evenodd\" fill-opacity=\"1\" /><path clip-path=\"url(#clip790)\" d=\"M2338.94 1253.06 Q2335.33 1253.06 2333.5 1256.63 Q2331.7 1260.17 2331.7 1267.3 Q2331.7 1274.41 2333.5 1277.97 Q2335.33 1281.51 2338.94 1281.51 Q2342.57 1281.51 2344.38 1277.97 Q2346.21 1274.41 2346.21 1267.3 Q2346.21 1260.17 2344.38 1256.63 Q2342.57 1253.06 2338.94 1253.06 M2338.94 1249.36 Q2344.75 1249.36 2347.81 1253.97 Q2350.89 1258.55 2350.89 1267.3 Q2350.89 1276.03 2347.81 1280.63 Q2344.75 1285.22 2338.94 1285.22 Q2333.13 1285.22 2330.05 1280.63 Q2327 1276.03 2327 1267.3 Q2327 1258.55 2330.05 1253.97 Q2333.13 1249.36 2338.94 1249.36 Z\" fill=\"#f8f8f2\" fill-rule=\"evenodd\" fill-opacity=\"1\" /><path clip-path=\"url(#clip790)\" d=\"M2274.38 1062.88 L2290.7 1062.88 L2290.7 1066.81 L2268.76 1066.81 L2268.76 1062.88 Q2271.42 1060.12 2276 1055.49 Q2280.61 1050.84 2281.79 1049.5 Q2284.03 1046.98 2284.91 1045.24 Q2285.82 1043.48 2285.82 1041.79 Q2285.82 1039.04 2283.87 1037.3 Q2281.95 1035.56 2278.85 1035.56 Q2276.65 1035.56 2274.2 1036.33 Q2271.77 1037.09 2268.99 1038.64 L2268.99 1033.92 Q2271.81 1032.79 2274.27 1032.21 Q2276.72 1031.63 2278.76 1031.63 Q2284.13 1031.63 2287.32 1034.31 Q2290.52 1037 2290.52 1041.49 Q2290.52 1043.62 2289.7 1045.54 Q2288.92 1047.44 2286.81 1050.03 Q2286.23 1050.7 2283.13 1053.92 Q2280.03 1057.11 2274.38 1062.88 Z\" fill=\"#f8f8f2\" fill-rule=\"evenodd\" fill-opacity=\"1\" /><path clip-path=\"url(#clip790)\" d=\"M2310.51 1035.33 Q2306.9 1035.33 2305.08 1038.9 Q2303.27 1042.44 2303.27 1049.57 Q2303.27 1056.67 2305.08 1060.24 Q2306.9 1063.78 2310.51 1063.78 Q2314.15 1063.78 2315.95 1060.24 Q2317.78 1056.67 2317.78 1049.57 Q2317.78 1042.44 2315.95 1038.9 Q2314.15 1035.33 2310.51 1035.33 M2310.51 1031.63 Q2316.33 1031.63 2319.38 1036.24 Q2322.46 1040.82 2322.46 1049.57 Q2322.46 1058.3 2319.38 1062.9 Q2316.33 1067.49 2310.51 1067.49 Q2304.7 1067.49 2301.63 1062.9 Q2298.57 1058.3 2298.57 1049.57 Q2298.57 1040.82 2301.63 1036.24 Q2304.7 1031.63 2310.51 1031.63 Z\" fill=\"#f8f8f2\" fill-rule=\"evenodd\" fill-opacity=\"1\" /><path clip-path=\"url(#clip790)\" d=\"M2340.68 1035.33 Q2337.07 1035.33 2335.24 1038.9 Q2333.43 1042.44 2333.43 1049.57 Q2333.43 1056.67 2335.24 1060.24 Q2337.07 1063.78 2340.68 1063.78 Q2344.31 1063.78 2346.12 1060.24 Q2347.95 1056.67 2347.95 1049.57 Q2347.95 1042.44 2346.12 1038.9 Q2344.31 1035.33 2340.68 1035.33 M2340.68 1031.63 Q2346.49 1031.63 2349.54 1036.24 Q2352.62 1040.82 2352.62 1049.57 Q2352.62 1058.3 2349.54 1062.9 Q2346.49 1067.49 2340.68 1067.49 Q2334.87 1067.49 2331.79 1062.9 Q2328.73 1058.3 2328.73 1049.57 Q2328.73 1040.82 2331.79 1036.24 Q2334.87 1031.63 2340.68 1031.63 Z\" fill=\"#f8f8f2\" fill-rule=\"evenodd\" fill-opacity=\"1\" /><path clip-path=\"url(#clip790)\" d=\"M2284.38 830.448 Q2287.74 831.166 2289.61 833.434 Q2291.51 835.703 2291.51 839.036 Q2291.51 844.152 2287.99 846.953 Q2284.47 849.754 2277.99 849.754 Q2275.82 849.754 2273.5 849.314 Q2271.21 848.897 2268.76 848.041 L2268.76 843.527 Q2270.7 844.661 2273.02 845.24 Q2275.33 845.819 2277.85 845.819 Q2282.25 845.819 2284.54 844.083 Q2286.86 842.346 2286.86 839.036 Q2286.86 835.981 2284.7 834.268 Q2282.58 832.532 2278.76 832.532 L2274.73 832.532 L2274.73 828.689 L2278.94 828.689 Q2282.39 828.689 2284.22 827.323 Q2286.05 825.935 2286.05 823.342 Q2286.05 820.68 2284.15 819.268 Q2282.27 817.833 2278.76 817.833 Q2276.83 817.833 2274.64 818.249 Q2272.44 818.666 2269.8 819.546 L2269.8 815.379 Q2272.46 814.638 2274.77 814.268 Q2277.11 813.898 2279.17 813.898 Q2284.5 813.898 2287.6 816.328 Q2290.7 818.735 2290.7 822.856 Q2290.7 825.726 2289.06 827.717 Q2287.41 829.684 2284.38 830.448 Z\" fill=\"#f8f8f2\" fill-rule=\"evenodd\" fill-opacity=\"1\" /><path clip-path=\"url(#clip790)\" d=\"M2310.38 817.601 Q2306.76 817.601 2304.94 821.166 Q2303.13 824.708 2303.13 831.837 Q2303.13 838.944 2304.94 842.508 Q2306.76 846.05 2310.38 846.05 Q2314.01 846.05 2315.82 842.508 Q2317.64 838.944 2317.64 831.837 Q2317.64 824.708 2315.82 821.166 Q2314.01 817.601 2310.38 817.601 M2310.38 813.898 Q2316.19 813.898 2319.24 818.504 Q2322.32 823.087 2322.32 831.837 Q2322.32 840.564 2319.24 845.171 Q2316.19 849.754 2310.38 849.754 Q2304.57 849.754 2301.49 845.171 Q2298.43 840.564 2298.43 831.837 Q2298.43 823.087 2301.49 818.504 Q2304.57 813.898 2310.38 813.898 Z\" fill=\"#f8f8f2\" fill-rule=\"evenodd\" fill-opacity=\"1\" /><path clip-path=\"url(#clip790)\" d=\"M2340.54 817.601 Q2336.93 817.601 2335.1 821.166 Q2333.29 824.708 2333.29 831.837 Q2333.29 838.944 2335.1 842.508 Q2336.93 846.05 2340.54 846.05 Q2344.17 846.05 2345.98 842.508 Q2347.81 838.944 2347.81 831.837 Q2347.81 824.708 2345.98 821.166 Q2344.17 817.601 2340.54 817.601 M2340.54 813.898 Q2346.35 813.898 2349.4 818.504 Q2352.48 823.087 2352.48 831.837 Q2352.48 840.564 2349.4 845.171 Q2346.35 849.754 2340.54 849.754 Q2334.73 849.754 2331.65 845.171 Q2328.59 840.564 2328.59 831.837 Q2328.59 823.087 2331.65 818.504 Q2334.73 813.898 2340.54 813.898 Z\" fill=\"#f8f8f2\" fill-rule=\"evenodd\" fill-opacity=\"1\" /><path clip-path=\"url(#clip790)\" d=\"M2284.36 600.865 L2272.55 619.314 L2284.36 619.314 L2284.36 600.865 M2283.13 596.791 L2289.01 596.791 L2289.01 619.314 L2293.94 619.314 L2293.94 623.203 L2289.01 623.203 L2289.01 631.351 L2284.36 631.351 L2284.36 623.203 L2268.76 623.203 L2268.76 618.689 L2283.13 596.791 Z\" fill=\"#f8f8f2\" fill-rule=\"evenodd\" fill-opacity=\"1\" /><path clip-path=\"url(#clip790)\" d=\"M2311.67 599.87 Q2308.06 599.87 2306.23 603.435 Q2304.43 606.976 2304.43 614.106 Q2304.43 621.212 2306.23 624.777 Q2308.06 628.319 2311.67 628.319 Q2315.31 628.319 2317.11 624.777 Q2318.94 621.212 2318.94 614.106 Q2318.94 606.976 2317.11 603.435 Q2315.31 599.87 2311.67 599.87 M2311.67 596.166 Q2317.48 596.166 2320.54 600.773 Q2323.62 605.356 2323.62 614.106 Q2323.62 622.833 2320.54 627.439 Q2317.48 632.023 2311.67 632.023 Q2305.86 632.023 2302.78 627.439 Q2299.73 622.833 2299.73 614.106 Q2299.73 605.356 2302.78 600.773 Q2305.86 596.166 2311.67 596.166 Z\" fill=\"#f8f8f2\" fill-rule=\"evenodd\" fill-opacity=\"1\" /><path clip-path=\"url(#clip790)\" d=\"M2341.83 599.87 Q2338.22 599.87 2336.39 603.435 Q2334.59 606.976 2334.59 614.106 Q2334.59 621.212 2336.39 624.777 Q2338.22 628.319 2341.83 628.319 Q2345.47 628.319 2347.27 624.777 Q2349.1 621.212 2349.1 614.106 Q2349.1 606.976 2347.27 603.435 Q2345.47 599.87 2341.83 599.87 M2341.83 596.166 Q2347.64 596.166 2350.7 600.773 Q2353.78 605.356 2353.78 614.106 Q2353.78 622.833 2350.7 627.439 Q2347.64 632.023 2341.83 632.023 Q2336.02 632.023 2332.95 627.439 Q2329.89 622.833 2329.89 614.106 Q2329.89 605.356 2332.95 600.773 Q2336.02 596.166 2341.83 596.166 Z\" fill=\"#f8f8f2\" fill-rule=\"evenodd\" fill-opacity=\"1\" /><path clip-path=\"url(#clip790)\" d=\"M2270.21 379.06 L2288.57 379.06 L2288.57 382.995 L2274.5 382.995 L2274.5 391.467 Q2275.52 391.12 2276.53 390.958 Q2277.55 390.773 2278.57 390.773 Q2284.36 390.773 2287.74 393.944 Q2291.12 397.115 2291.12 402.532 Q2291.12 408.111 2287.64 411.213 Q2284.17 414.291 2277.85 414.291 Q2275.68 414.291 2273.41 413.921 Q2271.16 413.551 2268.76 412.81 L2268.76 408.111 Q2270.84 409.245 2273.06 409.801 Q2275.28 410.356 2277.76 410.356 Q2281.77 410.356 2284.1 408.25 Q2286.44 406.143 2286.44 402.532 Q2286.44 398.921 2284.1 396.815 Q2281.77 394.708 2277.76 394.708 Q2275.89 394.708 2274.01 395.125 Q2272.16 395.541 2270.21 396.421 L2270.21 379.06 Z\" fill=\"#f8f8f2\" fill-rule=\"evenodd\" fill-opacity=\"1\" /><path clip-path=\"url(#clip790)\" d=\"M2310.33 382.139 Q2306.72 382.139 2304.89 385.703 Q2303.08 389.245 2303.08 396.375 Q2303.08 403.481 2304.89 407.046 Q2306.72 410.588 2310.33 410.588 Q2313.96 410.588 2315.77 407.046 Q2317.6 403.481 2317.6 396.375 Q2317.6 389.245 2315.77 385.703 Q2313.96 382.139 2310.33 382.139 M2310.33 378.435 Q2316.14 378.435 2319.2 383.041 Q2322.27 387.625 2322.27 396.375 Q2322.27 405.101 2319.2 409.708 Q2316.14 414.291 2310.33 414.291 Q2304.52 414.291 2301.44 409.708 Q2298.39 405.101 2298.39 396.375 Q2298.39 387.625 2301.44 383.041 Q2304.52 378.435 2310.33 378.435 Z\" fill=\"#f8f8f2\" fill-rule=\"evenodd\" fill-opacity=\"1\" /><path clip-path=\"url(#clip790)\" d=\"M2340.49 382.139 Q2336.88 382.139 2335.05 385.703 Q2333.25 389.245 2333.25 396.375 Q2333.25 403.481 2335.05 407.046 Q2336.88 410.588 2340.49 410.588 Q2344.13 410.588 2345.93 407.046 Q2347.76 403.481 2347.76 396.375 Q2347.76 389.245 2345.93 385.703 Q2344.13 382.139 2340.49 382.139 M2340.49 378.435 Q2346.3 378.435 2349.36 383.041 Q2352.44 387.625 2352.44 396.375 Q2352.44 405.101 2349.36 409.708 Q2346.3 414.291 2340.49 414.291 Q2334.68 414.291 2331.6 409.708 Q2328.55 405.101 2328.55 396.375 Q2328.55 387.625 2331.6 383.041 Q2334.68 378.435 2340.49 378.435 Z\" fill=\"#f8f8f2\" fill-rule=\"evenodd\" fill-opacity=\"1\" /><path clip-path=\"url(#clip790)\" d=\"M2281.09 176.745 Q2277.95 176.745 2276.09 178.898 Q2274.27 181.051 2274.27 184.801 Q2274.27 188.528 2276.09 190.704 Q2277.95 192.856 2281.09 192.856 Q2284.24 192.856 2286.07 190.704 Q2287.92 188.528 2287.92 184.801 Q2287.92 181.051 2286.07 178.898 Q2284.24 176.745 2281.09 176.745 M2290.38 162.093 L2290.38 166.352 Q2288.62 165.518 2286.81 165.079 Q2285.03 164.639 2283.27 164.639 Q2278.64 164.639 2276.19 167.764 Q2273.76 170.889 2273.41 177.208 Q2274.77 175.194 2276.83 174.13 Q2278.89 173.042 2281.37 173.042 Q2286.58 173.042 2289.59 176.213 Q2292.62 179.361 2292.62 184.801 Q2292.62 190.125 2289.47 193.342 Q2286.33 196.56 2281.09 196.56 Q2275.1 196.56 2271.93 191.977 Q2268.76 187.37 2268.76 178.643 Q2268.76 170.449 2272.64 165.588 Q2276.53 160.704 2283.08 160.704 Q2284.84 160.704 2286.63 161.051 Q2288.43 161.398 2290.38 162.093 Z\" fill=\"#f8f8f2\" fill-rule=\"evenodd\" fill-opacity=\"1\" /><path clip-path=\"url(#clip790)\" d=\"M2310.68 164.407 Q2307.07 164.407 2305.24 167.972 Q2303.43 171.514 2303.43 178.643 Q2303.43 185.75 2305.24 189.315 Q2307.07 192.856 2310.68 192.856 Q2314.31 192.856 2316.12 189.315 Q2317.95 185.75 2317.95 178.643 Q2317.95 171.514 2316.12 167.972 Q2314.31 164.407 2310.68 164.407 M2310.68 160.704 Q2316.49 160.704 2319.54 165.31 Q2322.62 169.893 2322.62 178.643 Q2322.62 187.37 2319.54 191.977 Q2316.49 196.56 2310.68 196.56 Q2304.87 196.56 2301.79 191.977 Q2298.73 187.37 2298.73 178.643 Q2298.73 169.893 2301.79 165.31 Q2304.87 160.704 2310.68 160.704 Z\" fill=\"#f8f8f2\" fill-rule=\"evenodd\" fill-opacity=\"1\" /><path clip-path=\"url(#clip790)\" d=\"M2340.84 164.407 Q2337.23 164.407 2335.4 167.972 Q2333.59 171.514 2333.59 178.643 Q2333.59 185.75 2335.4 189.315 Q2337.23 192.856 2340.84 192.856 Q2344.47 192.856 2346.28 189.315 Q2348.11 185.75 2348.11 178.643 Q2348.11 171.514 2346.28 167.972 Q2344.47 164.407 2340.84 164.407 M2340.84 160.704 Q2346.65 160.704 2349.7 165.31 Q2352.78 169.893 2352.78 178.643 Q2352.78 187.37 2349.7 191.977 Q2346.65 196.56 2340.84 196.56 Q2335.03 196.56 2331.95 191.977 Q2328.89 187.37 2328.89 178.643 Q2328.89 169.893 2331.95 165.31 Q2335.03 160.704 2340.84 160.704 Z\" fill=\"#f8f8f2\" fill-rule=\"evenodd\" fill-opacity=\"1\" /><polyline clip-path=\"url(#clip790)\" style=\"stroke:#000000; stroke-linecap:round; stroke-linejoin:round; stroke-width:4; stroke-opacity:1; fill:none\" points=\"\n",
       "  2232.76,1486.45 2232.76,1270.89 2256.76,1270.89 2232.76,1270.89 2232.76,1053.16 2256.76,1053.16 2232.76,1053.16 2232.76,835.431 2256.76,835.431 2232.76,835.431 \n",
       "  2232.76,617.7 2256.76,617.7 2232.76,617.7 2232.76,399.969 2256.76,399.969 2232.76,399.969 2232.76,182.237 2256.76,182.237 2232.76,182.237 2232.76,47.2441 \n",
       "  \n",
       "  \"/>\n",
       "</svg>\n"
      ]
     },
     "execution_count": 85,
     "metadata": {},
     "output_type": "execute_result"
    }
   ],
   "source": [
    "x = randn(10^5)\n",
    "y = randn(10^5)\n",
    "histogram2d(x, y, bins=(64, 64))"
   ]
  },
  {
   "cell_type": "markdown",
   "metadata": {},
   "source": [
    "### Importing Data\n",
    "Bring data from external files into ${\\tt Julia}$."
   ]
  },
  {
   "cell_type": "markdown",
   "metadata": {},
   "source": [
    "Data is typically stored in files, such as _CSV_ or _JSON_ files. In order to train and test machine learning models, the data needs to be loaded into the program. Additionally, the results of the training and testing process, such as model weights and performance metrics, also need to be saved to files. Therefore, the ability to manipulate files is essential for loading and saving data and model information in the machine learning process."
   ]
  },
  {
   "cell_type": "code",
   "execution_count": 86,
   "metadata": {},
   "outputs": [
    {
     "name": "stderr",
     "output_type": "stream",
     "text": [
      "\u001b[32m\u001b[1m   Resolving\u001b[22m\u001b[39m package versions...\n",
      "\u001b[32m\u001b[1m  No Changes\u001b[22m\u001b[39m to `~/MEGA/git-repos/cosnip/Julia/Project.toml`\n",
      "\u001b[32m\u001b[1m  No Changes\u001b[22m\u001b[39m to `~/MEGA/git-repos/cosnip/Julia/Manifest.toml`\n",
      "\u001b[32m\u001b[1m   Resolving\u001b[22m\u001b[39m package versions...\n",
      "\u001b[32m\u001b[1m  No Changes\u001b[22m\u001b[39m to `~/MEGA/git-repos/cosnip/Julia/Project.toml`\n",
      "\u001b[32m\u001b[1m  No Changes\u001b[22m\u001b[39m to `~/MEGA/git-repos/cosnip/Julia/Manifest.toml`\n"
     ]
    }
   ],
   "source": [
    "using Pkg\n",
    "Pkg.add(\"DataFrames\")\n",
    "Pkg.add(\"CSV\")"
   ]
  },
  {
   "cell_type": "code",
   "execution_count": 87,
   "metadata": {},
   "outputs": [
    {
     "data": {
      "text/latex": [
       "Create new CSV file\n",
       "\n"
      ],
      "text/markdown": [
       "Create new CSV file\n"
      ],
      "text/plain": [
       "  Create new CSV file"
      ]
     },
     "execution_count": 87,
     "metadata": {},
     "output_type": "execute_result"
    }
   ],
   "source": [
    "md\"Create new CSV file\""
   ]
  },
  {
   "cell_type": "code",
   "execution_count": 88,
   "metadata": {},
   "outputs": [],
   "source": [
    "using CSV, DataFrames"
   ]
  },
  {
   "cell_type": "code",
   "execution_count": 89,
   "metadata": {},
   "outputs": [
    {
     "data": {
      "text/latex": [
       "\\texttt{touch} command allows to create a file if it doesn't exist. Otherwise, it changes the file timestamps.\n",
       "\n"
      ],
      "text/markdown": [
       "`touch` command allows to create a file if it doesn't exist. Otherwise, it changes the file timestamps.\n"
      ],
      "text/plain": [
       "  \u001b[36mtouch\u001b[39m command allows to create a file if it doesn't exist. Otherwise, it\n",
       "  changes the file timestamps."
      ]
     },
     "execution_count": 89,
     "metadata": {},
     "output_type": "execute_result"
    }
   ],
   "source": [
    "md\"`touch` command allows to create a file if it doesn't exist. Otherwise, it changes the file timestamps.\""
   ]
  },
  {
   "cell_type": "code",
   "execution_count": 90,
   "metadata": {},
   "outputs": [
    {
     "data": {
      "text/plain": [
       "\"test-file.csv\""
      ]
     },
     "execution_count": 90,
     "metadata": {},
     "output_type": "execute_result"
    }
   ],
   "source": [
    "touch(\"test-file.csv\")"
   ]
  },
  {
   "cell_type": "code",
   "execution_count": 91,
   "metadata": {},
   "outputs": [
    {
     "name": "stdout",
     "output_type": "stream",
     "text": [
      "-rw-rw-r-- 1 mhamdi mhamdi 66 Feb  3 22:18 test-file.csv\n"
     ]
    }
   ],
   "source": [
    ";ls -la test-file.csv"
   ]
  },
  {
   "cell_type": "code",
   "execution_count": 92,
   "metadata": {},
   "outputs": [
    {
     "data": {
      "text/plain": [
       "IOStream(<file test-file.csv>)"
      ]
     },
     "execution_count": 92,
     "metadata": {},
     "output_type": "execute_result"
    }
   ],
   "source": [
    "file = open(\"test-file.csv\", \"w\")"
   ]
  },
  {
   "cell_type": "code",
   "execution_count": 93,
   "metadata": {},
   "outputs": [
    {
     "data": {
      "text/latex": [
       "Let's create some imaginary data\n",
       "\n"
      ],
      "text/markdown": [
       "Let's create some imaginary data\n"
      ],
      "text/plain": [
       "  Let's create some imaginary data"
      ]
     },
     "execution_count": 93,
     "metadata": {},
     "output_type": "execute_result"
    }
   ],
   "source": [
    "md\"Let's create some imaginary data\""
   ]
  },
  {
   "cell_type": "code",
   "execution_count": 94,
   "metadata": {},
   "outputs": [
    {
     "data": {
      "text/html": [
       "<div><div style = \"float: left;\"><span>4×3 DataFrame</span></div><div style = \"clear: both;\"></div></div><div class = \"data-frame\" style = \"overflow-x: scroll;\"><table class = \"data-frame\" style = \"margin-bottom: 6px;\"><thead><tr class = \"header\"><th class = \"rowNumber\" style = \"font-weight: bold; text-align: right;\">Row</th><th style = \"text-align: left;\">Student</th><th style = \"text-align: left;\">Id</th><th style = \"text-align: left;\">Marks</th></tr><tr class = \"subheader headerLastRow\"><th class = \"rowNumber\" style = \"font-weight: bold; text-align: right;\"></th><th title = \"String\" style = \"text-align: left;\">String</th><th title = \"Int64\" style = \"text-align: left;\">Int64</th><th title = \"Float64\" style = \"text-align: left;\">Float64</th></tr></thead><tbody><tr><td class = \"rowNumber\" style = \"font-weight: bold; text-align: right;\">1</td><td style = \"text-align: left;\">Mohamed</td><td style = \"text-align: right;\">1</td><td style = \"text-align: right;\">18.0</td></tr><tr><td class = \"rowNumber\" style = \"font-weight: bold; text-align: right;\">2</td><td style = \"text-align: left;\">Aymen</td><td style = \"text-align: right;\">2</td><td style = \"text-align: right;\">7.0</td></tr><tr><td class = \"rowNumber\" style = \"font-weight: bold; text-align: right;\">3</td><td style = \"text-align: left;\">Rami</td><td style = \"text-align: right;\">3</td><td style = \"text-align: right;\">12.0</td></tr><tr><td class = \"rowNumber\" style = \"font-weight: bold; text-align: right;\">4</td><td style = \"text-align: left;\">Ala</td><td style = \"text-align: right;\">4</td><td style = \"text-align: right;\">5.5</td></tr></tbody></table></div>"
      ],
      "text/latex": [
       "\\begin{tabular}{r|ccc}\n",
       "\t& Student & Id & Marks\\\\\n",
       "\t\\hline\n",
       "\t& String & Int64 & Float64\\\\\n",
       "\t\\hline\n",
       "\t1 & Mohamed & 1 & 18.0 \\\\\n",
       "\t2 & Aymen & 2 & 7.0 \\\\\n",
       "\t3 & Rami & 3 & 12.0 \\\\\n",
       "\t4 & Ala & 4 & 5.5 \\\\\n",
       "\\end{tabular}\n"
      ],
      "text/plain": [
       "\u001b[1m4×3 DataFrame\u001b[0m\n",
       "\u001b[1m Row \u001b[0m│\u001b[1m Student \u001b[0m\u001b[1m Id    \u001b[0m\u001b[1m Marks   \u001b[0m\n",
       "     │\u001b[90m String  \u001b[0m\u001b[90m Int64 \u001b[0m\u001b[90m Float64 \u001b[0m\n",
       "─────┼─────────────────────────\n",
       "   1 │ Mohamed      1     18.0\n",
       "   2 │ Aymen        2      7.0\n",
       "   3 │ Rami         3     12.0\n",
       "   4 │ Ala          4      5.5"
      ]
     },
     "execution_count": 94,
     "metadata": {},
     "output_type": "execute_result"
    }
   ],
   "source": [
    "df = DataFrame(\n",
    "        Student = [\"Mohamed\", \"Aymen\", \"Rami\", \"Ala\"],\n",
    "        Id = [1, 2, 3, 4],\n",
    "        Marks = [18, 7, 12, 5.5]\n",
    "        )"
   ]
  },
  {
   "cell_type": "code",
   "execution_count": 95,
   "metadata": {},
   "outputs": [
    {
     "data": {
      "text/latex": [
       "Write \\texttt{df} to file\n",
       "\n"
      ],
      "text/markdown": [
       "Write `df` to file\n"
      ],
      "text/plain": [
       "  Write \u001b[36mdf\u001b[39m to file"
      ]
     },
     "execution_count": 95,
     "metadata": {},
     "output_type": "execute_result"
    }
   ],
   "source": [
    "md\"Write `df` to file\""
   ]
  },
  {
   "cell_type": "code",
   "execution_count": 96,
   "metadata": {},
   "outputs": [
    {
     "data": {
      "text/plain": [
       "\"test-file.csv\""
      ]
     },
     "execution_count": 96,
     "metadata": {},
     "output_type": "execute_result"
    }
   ],
   "source": [
    "CSV.write(\"test-file.csv\", df)"
   ]
  },
  {
   "cell_type": "code",
   "execution_count": 97,
   "metadata": {},
   "outputs": [
    {
     "data": {
      "text/latex": [
       "Open the CSV file and add some contents. See what happens when we load it again.\n",
       "\n"
      ],
      "text/markdown": [
       "Open the CSV file and add some contents. See what happens when we load it again.\n"
      ],
      "text/plain": [
       "  Open the CSV file and add some contents. See what happens when we load it\n",
       "  again."
      ]
     },
     "execution_count": 97,
     "metadata": {},
     "output_type": "execute_result"
    }
   ],
   "source": [
    "md\"Open the CSV file and add some contents. See what happens when we load it again.\""
   ]
  },
  {
   "cell_type": "code",
   "execution_count": 98,
   "metadata": {},
   "outputs": [
    {
     "data": {
      "text/html": [
       "<div><div style = \"float: left;\"><span>4×3 DataFrame</span></div><div style = \"clear: both;\"></div></div><div class = \"data-frame\" style = \"overflow-x: scroll;\"><table class = \"data-frame\" style = \"margin-bottom: 6px;\"><thead><tr class = \"header\"><th class = \"rowNumber\" style = \"font-weight: bold; text-align: right;\">Row</th><th style = \"text-align: left;\">Student</th><th style = \"text-align: left;\">Id</th><th style = \"text-align: left;\">Marks</th></tr><tr class = \"subheader headerLastRow\"><th class = \"rowNumber\" style = \"font-weight: bold; text-align: right;\"></th><th title = \"String7\" style = \"text-align: left;\">String7</th><th title = \"Int64\" style = \"text-align: left;\">Int64</th><th title = \"Float64\" style = \"text-align: left;\">Float64</th></tr></thead><tbody><tr><td class = \"rowNumber\" style = \"font-weight: bold; text-align: right;\">1</td><td style = \"text-align: left;\">Mohamed</td><td style = \"text-align: right;\">1</td><td style = \"text-align: right;\">18.0</td></tr><tr><td class = \"rowNumber\" style = \"font-weight: bold; text-align: right;\">2</td><td style = \"text-align: left;\">Aymen</td><td style = \"text-align: right;\">2</td><td style = \"text-align: right;\">7.0</td></tr><tr><td class = \"rowNumber\" style = \"font-weight: bold; text-align: right;\">3</td><td style = \"text-align: left;\">Rami</td><td style = \"text-align: right;\">3</td><td style = \"text-align: right;\">12.0</td></tr><tr><td class = \"rowNumber\" style = \"font-weight: bold; text-align: right;\">4</td><td style = \"text-align: left;\">Ala</td><td style = \"text-align: right;\">4</td><td style = \"text-align: right;\">5.5</td></tr></tbody></table></div>"
      ],
      "text/latex": [
       "\\begin{tabular}{r|ccc}\n",
       "\t& Student & Id & Marks\\\\\n",
       "\t\\hline\n",
       "\t& String7 & Int64 & Float64\\\\\n",
       "\t\\hline\n",
       "\t1 & Mohamed & 1 & 18.0 \\\\\n",
       "\t2 & Aymen & 2 & 7.0 \\\\\n",
       "\t3 & Rami & 3 & 12.0 \\\\\n",
       "\t4 & Ala & 4 & 5.5 \\\\\n",
       "\\end{tabular}\n"
      ],
      "text/plain": [
       "\u001b[1m4×3 DataFrame\u001b[0m\n",
       "\u001b[1m Row \u001b[0m│\u001b[1m Student \u001b[0m\u001b[1m Id    \u001b[0m\u001b[1m Marks   \u001b[0m\n",
       "     │\u001b[90m String7 \u001b[0m\u001b[90m Int64 \u001b[0m\u001b[90m Float64 \u001b[0m\n",
       "─────┼─────────────────────────\n",
       "   1 │ Mohamed      1     18.0\n",
       "   2 │ Aymen        2      7.0\n",
       "   3 │ Rami         3     12.0\n",
       "   4 │ Ala          4      5.5"
      ]
     },
     "execution_count": 98,
     "metadata": {},
     "output_type": "execute_result"
    }
   ],
   "source": [
    "CSV.read(\"test-file.csv\", DataFrame)"
   ]
  },
  {
   "cell_type": "markdown",
   "metadata": {},
   "source": [
    "### Logical Arrays\n",
    "Use logical expressions to help extracting elements of interest from ${\\tt Julia}$ arrays."
   ]
  },
  {
   "cell_type": "code",
   "execution_count": 99,
   "metadata": {},
   "outputs": [
    {
     "name": "stdout",
     "output_type": "stream",
     "text": [
      "ComplexF64[1.0 + 0.0im, 2.0 + 0.0im, -5.0 + 0.0im, 7.2 + 0.0im, 0.0 + 3.0im]\n"
     ]
    },
    {
     "data": {
      "text/plain": [
       "Vector{ComplexF64}\u001b[90m (alias for \u001b[39m\u001b[90mArray{Complex{Float64}, 1}\u001b[39m\u001b[90m)\u001b[39m"
      ]
     },
     "execution_count": 99,
     "metadata": {},
     "output_type": "execute_result"
    }
   ],
   "source": [
    "x = [1, 2, -5, 7.2, 3im]\n",
    "println(x)\n",
    "typeof(x)"
   ]
  },
  {
   "cell_type": "code",
   "execution_count": 100,
   "metadata": {},
   "outputs": [
    {
     "name": "stdout",
     "output_type": "stream",
     "text": [
      "ComplexF64[2.0 + 0.0im, 0.0 + 3.0im]"
     ]
    }
   ],
   "source": [
    "idx = [false, true, false, false, true]\n",
    "print(x[idx])"
   ]
  },
  {
   "cell_type": "code",
   "execution_count": 101,
   "metadata": {},
   "outputs": [
    {
     "data": {
      "text/plain": [
       "5×4 Matrix{Float64}:\n",
       " 6.93311e-310  6.93311e-310  6.93303e-310  6.93311e-310\n",
       " 6.93311e-310  6.93311e-310  6.93303e-310  6.93311e-310\n",
       " 6.93311e-310  6.93303e-310  6.93303e-310  6.93298e-310\n",
       " 6.93311e-310  6.93303e-310  6.93303e-310  6.93311e-310\n",
       " 6.93311e-310  6.93303e-310  6.93303e-310  6.93311e-310"
      ]
     },
     "execution_count": 101,
     "metadata": {},
     "output_type": "execute_result"
    }
   ],
   "source": [
    "M = Array{Float64, 2}(undef, 5, 4)"
   ]
  },
  {
   "cell_type": "code",
   "execution_count": 102,
   "metadata": {},
   "outputs": [],
   "source": [
    "row_idx = [true, false, true, true, false];\n",
    "col_idx = [false, true, true, false];"
   ]
  },
  {
   "cell_type": "code",
   "execution_count": 103,
   "metadata": {},
   "outputs": [
    {
     "data": {
      "text/plain": [
       "3×4 Matrix{Float64}:\n",
       " 6.93311e-310  6.93311e-310  6.93303e-310  6.93311e-310\n",
       " 6.93311e-310  6.93303e-310  6.93303e-310  6.93298e-310\n",
       " 6.93311e-310  6.93303e-310  6.93303e-310  6.93311e-310"
      ]
     },
     "execution_count": 103,
     "metadata": {},
     "output_type": "execute_result"
    }
   ],
   "source": [
    "M[row_idx, :]"
   ]
  },
  {
   "cell_type": "code",
   "execution_count": 104,
   "metadata": {},
   "outputs": [
    {
     "data": {
      "text/plain": [
       "5×2 Matrix{Float64}:\n",
       " 6.93311e-310  6.93303e-310\n",
       " 6.93311e-310  6.93303e-310\n",
       " 6.93303e-310  6.93303e-310\n",
       " 6.93303e-310  6.93303e-310\n",
       " 6.93303e-310  6.93303e-310"
      ]
     },
     "execution_count": 104,
     "metadata": {},
     "output_type": "execute_result"
    }
   ],
   "source": [
    "M[:, col_idx]"
   ]
  },
  {
   "cell_type": "code",
   "execution_count": 105,
   "metadata": {},
   "outputs": [
    {
     "data": {
      "text/plain": [
       "3×2 Matrix{Float64}:\n",
       " 6.93311e-310  6.93303e-310\n",
       " 6.93303e-310  6.93303e-310\n",
       " 6.93303e-310  6.93303e-310"
      ]
     },
     "execution_count": 105,
     "metadata": {},
     "output_type": "execute_result"
    }
   ],
   "source": [
    "M[row_idx, col_idx]"
   ]
  },
  {
   "cell_type": "markdown",
   "metadata": {},
   "source": [
    "### Programming\n",
    "Write programs that execute code based on some condition."
   ]
  },
  {
   "cell_type": "code",
   "execution_count": 106,
   "metadata": {},
   "outputs": [
    {
     "data": {
      "text/latex": [
       "\\textbf{Conditional Evaluation}\n",
       "\n"
      ],
      "text/markdown": [
       "**Conditional Evaluation**\n"
      ],
      "text/plain": [
       "  \u001b[1mConditional Evaluation\u001b[22m"
      ]
     },
     "execution_count": 106,
     "metadata": {},
     "output_type": "execute_result"
    }
   ],
   "source": [
    "md\"**Conditional Evaluation**\""
   ]
  },
  {
   "cell_type": "code",
   "execution_count": 107,
   "metadata": {},
   "outputs": [
    {
     "name": "stdout",
     "output_type": "stream",
     "text": [
      "π is equal to π\n"
     ]
    }
   ],
   "source": [
    "a, b = π, π\n",
    "if a < b\n",
    "    println(\"$a is less than $b\")\n",
    "elseif a > b\n",
    "    println(\"$a is greater than $b\")\n",
    "else\n",
    "    println(\"$a is equal to $b\")\n",
    "end"
   ]
  },
  {
   "cell_type": "code",
   "execution_count": 108,
   "metadata": {},
   "outputs": [
    {
     "data": {
      "text/latex": [
       "\\textbf{\\texttt{While} Loop}\n",
       "\n"
      ],
      "text/markdown": [
       "**`While` Loop**\n"
      ],
      "text/plain": [
       "  \u001b[1m\u001b[36mWhile\u001b[39m Loop\u001b[22m"
      ]
     },
     "execution_count": 108,
     "metadata": {},
     "output_type": "execute_result"
    }
   ],
   "source": [
    "md\"**`While` Loop**\""
   ]
  },
  {
   "cell_type": "code",
   "execution_count": 109,
   "metadata": {},
   "outputs": [
    {
     "name": "stdout",
     "output_type": "stream",
     "text": [
      "Item #1 is Blueberry\n",
      "Item #2 is Orange\n",
      "Item #3 is Banana\n",
      "Item #4 is Raspberry\n",
      "Item #5 is Strawberry\n"
     ]
    }
   ],
   "source": [
    "fruits = [\"Blueberry\", \"Orange\", \"Banana\", \"Raspberry\", \"Strawberry\"]\n",
    "iter = 1\n",
    "while iter ≤ length(fruits)\n",
    "    println(\"Item #$iter is $(fruits[iter])\")\n",
    "    iter +=1\n",
    "end"
   ]
  },
  {
   "cell_type": "code",
   "execution_count": 110,
   "metadata": {},
   "outputs": [
    {
     "data": {
      "text/latex": [
       "\\textbf{\\texttt{For} Loop}\n",
       "\n"
      ],
      "text/markdown": [
       "**`For` Loop**\n"
      ],
      "text/plain": [
       "  \u001b[1m\u001b[36mFor\u001b[39m Loop\u001b[22m"
      ]
     },
     "execution_count": 110,
     "metadata": {},
     "output_type": "execute_result"
    }
   ],
   "source": [
    "md\"**`For` Loop**\""
   ]
  },
  {
   "cell_type": "code",
   "execution_count": 111,
   "metadata": {},
   "outputs": [
    {
     "name": "stdout",
     "output_type": "stream",
     "text": [
      "Item #1 is Broccoli\n",
      "Item #2 is Garlic\n",
      "Item #3 is Mushrooms\n",
      "Item #4 is Potatoes\n",
      "Item #5 is Tomatoes\n"
     ]
    }
   ],
   "source": [
    "vegetables = [\"Broccoli\", \"Garlic\", \"Mushrooms\", \"Potatoes\", \"Tomatoes\"]\n",
    "i = 1\n",
    "for item in vegetables\n",
    "    println(\"Item #$i is $item\")\n",
    "    i += 1\n",
    "end"
   ]
  },
  {
   "cell_type": "markdown",
   "metadata": {},
   "source": [
    "### Final Project\n",
    "Bring together concepts that you have learned with a project."
   ]
  },
  {
   "cell_type": "markdown",
   "metadata": {},
   "source": [
    "This simple project consists of implementing a basic calculator. This latter could have the ability to perform basic arithmetic operations like _addition_, _subtraction_, _multiplication_, and _division_.\n",
    "\n",
    "Here are the steps to be followed:\n",
    "1. Create a function called `calculator()` that takes two arguments, `x` and `y`, and a char operation that specifies which operation to perform.\n",
    "1. Use an `if-else` statement to check the value of operation. Depending on the value of operation, call the appropriate function to perform the calculation.\n",
    "1. Test the calculator function by calling it with different values for `x`, `y`, and operation and printing the result.\n",
    "1. Once the basic calculator is working, we can improve it by adding more functionality such as handling decimals and negative numbers, or implementing more advanced operations such as square root, power, trigonometry and so on.\n",
    "1. Finally, we could also experiment with different input types, such as command line arguments or a graphical user interface."
   ]
  },
  {
   "cell_type": "code",
   "execution_count": 112,
   "metadata": {},
   "outputs": [
    {
     "data": {
      "text/latex": [
       "Here is an example of how the basic calculator function could look like:\n",
       "\n"
      ],
      "text/markdown": [
       "Here is an example of how the basic calculator function could look like:\n"
      ],
      "text/plain": [
       "  Here is an example of how the basic calculator function could look like:"
      ]
     },
     "execution_count": 112,
     "metadata": {},
     "output_type": "execute_result"
    }
   ],
   "source": [
    "md\"Here is an example of how the basic calculator function could look like:\""
   ]
  },
  {
   "cell_type": "code",
   "execution_count": 113,
   "metadata": {},
   "outputs": [
    {
     "data": {
      "text/plain": [
       "calculator (generic function with 1 method)"
      ]
     },
     "execution_count": 113,
     "metadata": {},
     "output_type": "execute_result"
    }
   ],
   "source": [
    "function calculator(x::Number, y::Number, op::Char)\n",
    "    if op == '+'\n",
    "        return x + y\n",
    "    elseif op == '-'\n",
    "        return x - y\n",
    "    elseif op == '*'\n",
    "        return x * y\n",
    "    elseif op in ['/', '÷']\n",
    "        return x / y\n",
    "    else\n",
    "        return \"INVALID OPERATION\"\n",
    "    end\n",
    "end"
   ]
  },
  {
   "cell_type": "code",
   "execution_count": 114,
   "metadata": {},
   "outputs": [
    {
     "name": "stdout",
     "output_type": "stream",
     "text": [
      "Summation is 8\n",
      "Subtraction is 2\n",
      "Multiplication is 15\n",
      "Division is 1.6666666666666667\n",
      "INVALID OPERATION\n"
     ]
    }
   ],
   "source": [
    "println(\"Summation is $(calculator(5, 3, '+'))\")\n",
    "println(\"Subtraction is $(calculator(5, 3, '-'))\")\n",
    "println(\"Multiplication is $(calculator(5, 3, '*'))\")\n",
    "println(\"Division is $(calculator(5, 3, '÷'))\")\n",
    "println(calculator(5, 3, '×'))"
   ]
  }
 ],
 "metadata": {
  "kernelspec": {
   "display_name": "Julia 1.8.2",
   "language": "julia",
   "name": "julia-1.8"
  },
  "language_info": {
   "file_extension": ".jl",
   "mimetype": "application/julia",
   "name": "julia",
   "version": "1.8.2"
  }
 },
 "nbformat": 4,
 "nbformat_minor": 2
}
