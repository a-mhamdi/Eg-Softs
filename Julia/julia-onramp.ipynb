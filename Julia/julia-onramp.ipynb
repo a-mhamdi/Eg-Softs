{
 "cells": [
  {
   "cell_type": "markdown",
   "metadata": {},
   "source": [
    "# Artificial Intelligence\n",
    "## Lab. \\#1: ${\\tt Julia}$ Onramp\n",
    "### Slides are available @ [https://www.github.com/a-mhamdi/jlai](https://www.github.com/a-mhamdi/jlai)\n",
    "\n",
    "---"
   ]
  },
  {
   "cell_type": "markdown",
   "metadata": {},
   "source": [
    "### GOALS\n",
    "- Enter commands in ${\\tt Julia}$ REPL to create variables and perform calculations;\n",
    "- Write and save programs;\n",
    "- Use indexing to extract and modify rows, columns, and elements of ${\\tt Julia}$ tensors."
   ]
  },
  {
   "cell_type": "markdown",
   "metadata": {},
   "source": [
    "${\\tt Julia}$ is a standalone program which can be downloaded from [https://julialang.org/downloads/](https://julialang.org/downloads/)"
   ]
  },
  {
   "cell_type": "markdown",
   "metadata": {
    "tags": []
   },
   "source": [
    "**Getting around**"
   ]
  },
  {
   "cell_type": "markdown",
   "metadata": {},
   "source": [
    "By default, Julia runs in an interactive terminal called the REPL. In this mode, Some useful commands are:\n",
    "1. `^C` aborts execution\n",
    "1. `^D` exits Julia\n",
    "1. `?` enters help mode\n",
    "1. `;` enters system shell mode\n",
    "1. `]` enters package manager mode\n",
    "1. `^l` clears screen"
   ]
  },
  {
   "cell_type": "markdown",
   "metadata": {},
   "source": [
    "We begin first by activating the environement within the desired folder."
   ]
  },
  {
   "cell_type": "markdown",
   "metadata": {},
   "source": [
    "From the REPL interface, either type\n",
    ">using Pkg  \n",
    "pkg\"activate .\"\n",
    "\n",
    "or access the package mode by typing `]` and simply write\n",
    ">activate .\n",
    "\n",
    "Always within the package mode, to see the full list of installed packages\n",
    ">st"
   ]
  },
  {
   "cell_type": "code",
   "execution_count": 1,
   "metadata": {},
   "outputs": [
    {
     "name": "stderr",
     "output_type": "stream",
     "text": [
      "\u001b[32m\u001b[1m  Activating\u001b[22m\u001b[39m project at `/workspaces/cosnip/Julia`\n"
     ]
    }
   ],
   "source": [
    "using Pkg\n",
    "pkg\"activate .\""
   ]
  },
  {
   "cell_type": "code",
   "execution_count": 2,
   "metadata": {},
   "outputs": [
    {
     "name": "stdout",
     "output_type": "stream",
     "text": [
      "\u001b[32m\u001b[1mStatus\u001b[22m\u001b[39m `/workspaces/cosnip/Julia/Project.toml`\n",
      " \u001b[90m [336ed68f] \u001b[39mCSV v0.10.9\n",
      " \u001b[90m [aaaa29a8] \u001b[39mClustering v0.15.1\n",
      " \u001b[90m [a93c6f00] \u001b[39mDataFrames v1.5.0\n",
      " \u001b[90m [add582a8] \u001b[39mMLJ v0.19.1\n",
      " \u001b[90m [1b6a4a23] \u001b[39mMLJMultivariateStatsInterface v0.5.2\n",
      "\u001b[32m⌃\u001b[39m\u001b[90m [91a5bcdd] \u001b[39mPlots v1.38.9\n",
      " \u001b[90m [d6f4376e] \u001b[39mMarkdown\n",
      "\u001b[36m\u001b[1mInfo\u001b[22m\u001b[39m Packages marked with \u001b[32m⌃\u001b[39m have new versions available and may be upgradable.\n"
     ]
    }
   ],
   "source": [
    "]st"
   ]
  },
  {
   "cell_type": "markdown",
   "metadata": {},
   "source": [
    "To add the **Markdown** package for instance, we write"
   ]
  },
  {
   "cell_type": "code",
   "execution_count": 3,
   "metadata": {
    "tags": []
   },
   "outputs": [
    {
     "name": "stderr",
     "output_type": "stream",
     "text": [
      "\u001b[32m\u001b[1m    Updating\u001b[22m\u001b[39m registry at `/opt/julia/registries/General.toml`\n",
      "\u001b[32m\u001b[1m   Resolving\u001b[22m\u001b[39m package versions...\n",
      "\u001b[32m\u001b[1m  No Changes\u001b[22m\u001b[39m to `/workspaces/cosnip/Julia/Project.toml`\n",
      "\u001b[32m\u001b[1m  No Changes\u001b[22m\u001b[39m to `/workspaces/cosnip/Julia/Manifest.toml`\n"
     ]
    }
   ],
   "source": [
    "]add Markdown"
   ]
  },
  {
   "cell_type": "markdown",
   "metadata": {},
   "source": [
    "To be able to use it, we do as follows"
   ]
  },
  {
   "cell_type": "code",
   "execution_count": 4,
   "metadata": {},
   "outputs": [],
   "source": [
    "using Markdown"
   ]
  },
  {
   "cell_type": "code",
   "execution_count": 5,
   "metadata": {},
   "outputs": [
    {
     "data": {
      "text/latex": [
       "This a text inside a code cell, thanks to \\textbf{Markdown} package. I can \\emph{emphasize} anything. Make other things \\textbf{bold}\n",
       "\n"
      ],
      "text/markdown": [
       "This a text inside a code cell, thanks to **Markdown** package. I can *emphasize* anything. Make other things **bold**\n"
      ],
      "text/plain": [
       "  This a text inside a code cell, thanks to \u001b[1mMarkdown\u001b[22m package. I can \u001b[4memphasize\u001b[24m\n",
       "  anything. Make other things \u001b[1mbold\u001b[22m"
      ]
     },
     "execution_count": 5,
     "metadata": {},
     "output_type": "execute_result"
    }
   ],
   "source": [
    "md\"\"\"\n",
    "This a text inside a code cell, thanks to **Markdown** package. I can _emphasize_ anything. Make other things **bold**\n",
    "\"\"\""
   ]
  },
  {
   "cell_type": "markdown",
   "metadata": {},
   "source": [
    "Runnig ${\\tt Julia}$ in Jupyer Notebookor Jupyter Lab is pretty handy. We only need to install the appropriate kernel. In order to add ${\\tt Julia}$ kernel `IJulia` to Jupyter Notebook and/or JupyterLab IDEs, we begin by executing the following commands:\n",
    ">using Pkg  \n",
    "Pkg.add(\"IJulia\")"
   ]
  },
  {
   "cell_type": "markdown",
   "metadata": {},
   "source": [
    "In case things do not work, we run the two following commands from ${\\tt Julia}$ REPL which launch jupyter environment.\n",
    ">using IJulia  \n",
    "installkernel(\"Julia\")"
   ]
  },
  {
   "cell_type": "markdown",
   "metadata": {},
   "source": [
    "The shell mode is also available through the REPL to evaluate some os commands. To do so, simply preface the regular command by semicolon. For instance, `pwd` prints the path to working directory and `ls` allows to list the content of the current directory."
   ]
  },
  {
   "cell_type": "code",
   "execution_count": 6,
   "metadata": {},
   "outputs": [
    {
     "name": "stdout",
     "output_type": "stream",
     "text": [
      "/workspaces/cosnip/Julia\n"
     ]
    }
   ],
   "source": [
    ";pwd"
   ]
  },
  {
   "cell_type": "code",
   "execution_count": 7,
   "metadata": {},
   "outputs": [
    {
     "name": "stdout",
     "output_type": "stream",
     "text": [
      "total 156\n",
      "drwxrwxrwx+  4 jovyan root    4096 Apr 27 13:12 .\n",
      "drwxrwxrwx+ 15 jovyan root    4096 Apr 27 11:08 ..\n",
      "drwxrwxrwx+  2 jovyan jovyan  4096 Apr 27 11:46 .ipynb_checkpoints\n",
      "-rw-rw-rw-   1 jovyan root    8366 Apr 27 11:04 Julia_Colab_GPU.ipynb\n",
      "-rw-rw-rw-   1 jovyan root   32577 Apr 27 13:12 julia-onramp.ipynb\n",
      "-rw-rw-rw-   1 jovyan root   34286 Apr 27 11:04 Julia.png\n",
      "-rw-rw-rw-   1 jovyan root   46312 Apr 27 11:24 Manifest.toml\n",
      "drwxrwxrwx+  2 jovyan root    4096 Apr 27 11:04 ml\n",
      "-rw-rw-rw-   1 jovyan root     369 Apr 27 11:04 Project.toml\n",
      "-rw-rw-rw-   1 jovyan root      60 Apr 27 11:04 README.md\n",
      "-rw-rw-rw-   1 jovyan jovyan    66 Apr 27 12:08 test-file.csv\n"
     ]
    }
   ],
   "source": [
    ";ls -la"
   ]
  },
  {
   "cell_type": "markdown",
   "metadata": {},
   "source": [
    "### Getting Help\n",
    "In order to seek help on a particular function. We just use the `?` mark. We can use the ${\\tt Julia}$ documentation to discover more pieces of information about ${\\tt Julia}$ features."
   ]
  },
  {
   "cell_type": "code",
   "execution_count": 8,
   "metadata": {},
   "outputs": [
    {
     "name": "stdout",
     "output_type": "stream",
     "text": [
      "search: \u001b[0m\u001b[1mc\u001b[22m\u001b[0m\u001b[1mo\u001b[22m\u001b[0m\u001b[1ms\u001b[22m \u001b[0m\u001b[1mc\u001b[22m\u001b[0m\u001b[1mo\u001b[22m\u001b[0m\u001b[1ms\u001b[22mh \u001b[0m\u001b[1mc\u001b[22m\u001b[0m\u001b[1mo\u001b[22m\u001b[0m\u001b[1ms\u001b[22md \u001b[0m\u001b[1mc\u001b[22m\u001b[0m\u001b[1mo\u001b[22m\u001b[0m\u001b[1ms\u001b[22mc \u001b[0m\u001b[1mc\u001b[22m\u001b[0m\u001b[1mo\u001b[22m\u001b[0m\u001b[1ms\u001b[22mpi a\u001b[0m\u001b[1mc\u001b[22m\u001b[0m\u001b[1mo\u001b[22m\u001b[0m\u001b[1ms\u001b[22m a\u001b[0m\u001b[1mc\u001b[22m\u001b[0m\u001b[1mo\u001b[22m\u001b[0m\u001b[1ms\u001b[22mh a\u001b[0m\u001b[1mc\u001b[22m\u001b[0m\u001b[1mo\u001b[22m\u001b[0m\u001b[1ms\u001b[22md sin\u001b[0m\u001b[1mc\u001b[22m\u001b[0m\u001b[1mo\u001b[22m\u001b[0m\u001b[1ms\u001b[22m sin\u001b[0m\u001b[1mc\u001b[22m\u001b[0m\u001b[1mo\u001b[22m\u001b[0m\u001b[1ms\u001b[22md sin\u001b[0m\u001b[1mc\u001b[22m\u001b[0m\u001b[1mo\u001b[22m\u001b[0m\u001b[1ms\u001b[22mpi \u001b[0m\u001b[1mc\u001b[22m\u001b[0m\u001b[1mo\u001b[22mn\u001b[0m\u001b[1ms\u001b[22mt\n",
      "\n"
     ]
    },
    {
     "data": {
      "text/latex": [
       "\\begin{verbatim}\n",
       "cos(x)\n",
       "\\end{verbatim}\n",
       "Compute cosine of \\texttt{x}, where \\texttt{x} is in radians.\n",
       "\n",
       "See also [\\texttt{cosd}], [\\texttt{cospi}], [\\texttt{sincos}], [\\texttt{cis}].\n",
       "\n",
       "\\rule{\\textwidth}{1pt}\n",
       "\\begin{verbatim}\n",
       "cos(A::AbstractMatrix)\n",
       "\\end{verbatim}\n",
       "Compute the matrix cosine of a square matrix \\texttt{A}.\n",
       "\n",
       "If \\texttt{A} is symmetric or Hermitian, its eigendecomposition (\\href{@ref}{\\texttt{eigen}}) is used to compute the cosine. Otherwise, the cosine is determined by calling \\href{@ref}{\\texttt{exp}}.\n",
       "\n",
       "\\section{Examples}\n",
       "\\begin{verbatim}\n",
       "julia> cos(fill(1.0, (2,2)))\n",
       "2×2 Matrix{Float64}:\n",
       "  0.291927  -0.708073\n",
       " -0.708073   0.291927\n",
       "\\end{verbatim}\n"
      ],
      "text/markdown": [
       "```\n",
       "cos(x)\n",
       "```\n",
       "\n",
       "Compute cosine of `x`, where `x` is in radians.\n",
       "\n",
       "See also [`cosd`], [`cospi`], [`sincos`], [`cis`].\n",
       "\n",
       "---\n",
       "\n",
       "```\n",
       "cos(A::AbstractMatrix)\n",
       "```\n",
       "\n",
       "Compute the matrix cosine of a square matrix `A`.\n",
       "\n",
       "If `A` is symmetric or Hermitian, its eigendecomposition ([`eigen`](@ref)) is used to compute the cosine. Otherwise, the cosine is determined by calling [`exp`](@ref).\n",
       "\n",
       "# Examples\n",
       "\n",
       "```jldoctest\n",
       "julia> cos(fill(1.0, (2,2)))\n",
       "2×2 Matrix{Float64}:\n",
       "  0.291927  -0.708073\n",
       " -0.708073   0.291927\n",
       "```\n"
      ],
      "text/plain": [
       "\u001b[36m  cos(x)\u001b[39m\n",
       "\n",
       "  Compute cosine of \u001b[36mx\u001b[39m, where \u001b[36mx\u001b[39m is in radians.\n",
       "\n",
       "  See also [\u001b[36mcosd\u001b[39m], [\u001b[36mcospi\u001b[39m], [\u001b[36msincos\u001b[39m], [\u001b[36mcis\u001b[39m].\n",
       "\n",
       "  ────────────────────────────────────────────────────────────────────────────\n",
       "\n",
       "\u001b[36m  cos(A::AbstractMatrix)\u001b[39m\n",
       "\n",
       "  Compute the matrix cosine of a square matrix \u001b[36mA\u001b[39m.\n",
       "\n",
       "  If \u001b[36mA\u001b[39m is symmetric or Hermitian, its eigendecomposition (\u001b[36meigen\u001b[39m) is used to\n",
       "  compute the cosine. Otherwise, the cosine is determined by calling \u001b[36mexp\u001b[39m.\n",
       "\n",
       "\u001b[1m  Examples\u001b[22m\n",
       "\u001b[1m  ≡≡≡≡≡≡≡≡≡≡\u001b[22m\n",
       "\n",
       "\u001b[36m  julia> cos(fill(1.0, (2,2)))\u001b[39m\n",
       "\u001b[36m  2×2 Matrix{Float64}:\u001b[39m\n",
       "\u001b[36m    0.291927  -0.708073\u001b[39m\n",
       "\u001b[36m   -0.708073   0.291927\u001b[39m"
      ]
     },
     "execution_count": 8,
     "metadata": {},
     "output_type": "execute_result"
    }
   ],
   "source": [
    "?cos"
   ]
  },
  {
   "cell_type": "markdown",
   "metadata": {},
   "source": [
    "To print something on the standard output, it is possible to use either `print` and `println`. The last one displays the text and moves the cursor to the next line."
   ]
  },
  {
   "cell_type": "code",
   "execution_count": 9,
   "metadata": {},
   "outputs": [
    {
     "name": "stdout",
     "output_type": "stream",
     "text": [
      "Hello World"
     ]
    }
   ],
   "source": [
    "print(\"Hello\")\n",
    "print(' ')\n",
    "print(\"World\")"
   ]
  },
  {
   "cell_type": "code",
   "execution_count": 10,
   "metadata": {},
   "outputs": [
    {
     "name": "stdout",
     "output_type": "stream",
     "text": [
      "Hello\n",
      "World\n"
     ]
    }
   ],
   "source": [
    "println(\"Hello\")\n",
    "println(\"World\")"
   ]
  },
  {
   "cell_type": "markdown",
   "metadata": {},
   "source": [
    "**Data types: Dictionaries**"
   ]
  },
  {
   "cell_type": "code",
   "execution_count": 11,
   "metadata": {
    "tags": []
   },
   "outputs": [
    {
     "data": {
      "text/plain": [
       "Dict{String, Int64} with 3 entries:\n",
       "  \"Bicycle\"  => 2\n",
       "  \"Tricycle\" => 3\n",
       "  \"Unicycle\" => 1"
      ]
     },
     "execution_count": 11,
     "metadata": {},
     "output_type": "execute_result"
    }
   ],
   "source": [
    "dict = Dict(\n",
    "    # Name => # of wheels\n",
    "    \"Unicycle\" => 1,\n",
    "    \"Bicycle\" => 2,\n",
    "    \"Tricycle\" => 3\n",
    ")"
   ]
  },
  {
   "cell_type": "code",
   "execution_count": 12,
   "metadata": {
    "tags": []
   },
   "outputs": [
    {
     "data": {
      "text/plain": [
       "Dict{String, Int64}"
      ]
     },
     "execution_count": 12,
     "metadata": {},
     "output_type": "execute_result"
    }
   ],
   "source": [
    "typeof(dict)"
   ]
  },
  {
   "cell_type": "code",
   "execution_count": 13,
   "metadata": {
    "tags": []
   },
   "outputs": [
    {
     "data": {
      "text/plain": [
       "Dict{String, Int64} with 3 entries:\n",
       "  \"Bicycle\"  => 2\n",
       "  \"Tricycle\" => 3\n",
       "  \"Unicycle\" => 1"
      ]
     },
     "execution_count": 13,
     "metadata": {},
     "output_type": "execute_result"
    }
   ],
   "source": [
    "dict = Dict([(\"Unicycle\", 1), (\"Bicycle\", 2), (\"Tricycle\", 3)])"
   ]
  },
  {
   "cell_type": "code",
   "execution_count": 14,
   "metadata": {
    "tags": []
   },
   "outputs": [
    {
     "data": {
      "text/plain": [
       "2"
      ]
     },
     "execution_count": 14,
     "metadata": {},
     "output_type": "execute_result"
    }
   ],
   "source": [
    "dict[\"Bicycle\"]"
   ]
  },
  {
   "cell_type": "code",
   "execution_count": 15,
   "metadata": {
    "tags": []
   },
   "outputs": [
    {
     "data": {
      "text/plain": [
       "5-element Vector{Any}:\n",
       "    1\n",
       "     'a': ASCII/Unicode U+0061 (category Ll: Letter, lowercase)\n",
       "     \"abc\"\n",
       " true\n",
       "     ComplexF64[0.0 + 0.0im, 0.0 + 0.5im]"
      ]
     },
     "execution_count": 15,
     "metadata": {},
     "output_type": "execute_result"
    }
   ],
   "source": [
    "lst = [1, 'a', \"abc\", true, [0, .5im]]"
   ]
  },
  {
   "cell_type": "code",
   "execution_count": 16,
   "metadata": {
    "tags": []
   },
   "outputs": [
    {
     "data": {
      "text/plain": [
       "Vector{Any}\u001b[90m (alias for \u001b[39m\u001b[90mArray{Any, 1}\u001b[39m\u001b[90m)\u001b[39m"
      ]
     },
     "execution_count": 16,
     "metadata": {},
     "output_type": "execute_result"
    }
   ],
   "source": [
    "typeof(lst)"
   ]
  },
  {
   "cell_type": "code",
   "execution_count": 17,
   "metadata": {
    "tags": []
   },
   "outputs": [
    {
     "data": {
      "text/plain": [
       "2-element Vector{ComplexF64}:\n",
       " 0.0 + 0.0im\n",
       " 0.0 + 0.5im"
      ]
     },
     "execution_count": 17,
     "metadata": {},
     "output_type": "execute_result"
    }
   ],
   "source": [
    "lst[end]"
   ]
  },
  {
   "cell_type": "markdown",
   "metadata": {},
   "source": [
    "### Basic Calculations"
   ]
  },
  {
   "cell_type": "code",
   "execution_count": 18,
   "metadata": {},
   "outputs": [
    {
     "data": {
      "text/plain": [
       "(1, 1.5)"
      ]
     },
     "execution_count": 18,
     "metadata": {},
     "output_type": "execute_result"
    }
   ],
   "source": [
    "a, b = 1, 1.5"
   ]
  },
  {
   "cell_type": "code",
   "execution_count": 19,
   "metadata": {},
   "outputs": [
    {
     "name": "stdout",
     "output_type": "stream",
     "text": [
      "Int64\n",
      "Float64\n"
     ]
    }
   ],
   "source": [
    "println(typeof(a))\n",
    "println(typeof(b))"
   ]
  },
  {
   "cell_type": "code",
   "execution_count": 20,
   "metadata": {},
   "outputs": [
    {
     "data": {
      "text/latex": [
       "\\texttt{varinfo} method allows to display loaded variables.\n",
       "\n"
      ],
      "text/markdown": [
       "`varinfo` method allows to display loaded variables.\n"
      ],
      "text/plain": [
       "  \u001b[36mvarinfo\u001b[39m method allows to display loaded variables."
      ]
     },
     "execution_count": 20,
     "metadata": {},
     "output_type": "execute_result"
    }
   ],
   "source": [
    "md\"\"\"\n",
    "`varinfo` method allows to display loaded variables.\n",
    "\"\"\""
   ]
  },
  {
   "cell_type": "code",
   "execution_count": 21,
   "metadata": {},
   "outputs": [
    {
     "data": {
      "text/latex": [
       "\\begin{tabular}\n",
       "{l | r | l}\n",
       "name & size & summary \\\\\n",
       "\\hline\n",
       "Base &  & Module \\\\\n",
       "Core &  & Module \\\\\n",
       "Main &  & Module \\\\\n",
       "a & 8 bytes & Int64 \\\\\n",
       "b & 8 bytes & Float64 \\\\\n",
       "dict & 503 bytes & Dict\\{String, Int64\\} with 3 entries \\\\\n",
       "lst & 176 bytes & 5-element Vector\\{Any\\} \\\\\n",
       "\\end{tabular}\n"
      ],
      "text/markdown": [
       "| name |      size | summary                            |\n",
       "|:---- | ---------:|:---------------------------------- |\n",
       "| Base |           | Module                             |\n",
       "| Core |           | Module                             |\n",
       "| Main |           | Module                             |\n",
       "| a    |   8 bytes | Int64                              |\n",
       "| b    |   8 bytes | Float64                            |\n",
       "| dict | 503 bytes | Dict{String, Int64} with 3 entries |\n",
       "| lst  | 176 bytes | 5-element Vector{Any}              |\n"
      ],
      "text/plain": [
       "  name      size summary                           \n",
       "  –––– ––––––––– ––––––––––––––––––––––––––––––––––\n",
       "  Base           Module                            \n",
       "  Core           Module                            \n",
       "  Main           Module                            \n",
       "  a      8 bytes Int64                             \n",
       "  b      8 bytes Float64                           \n",
       "  dict 503 bytes Dict{String, Int64} with 3 entries\n",
       "  lst  176 bytes 5-element Vector{Any}             "
      ]
     },
     "execution_count": 21,
     "metadata": {},
     "output_type": "execute_result"
    }
   ],
   "source": [
    "varinfo()"
   ]
  },
  {
   "cell_type": "code",
   "execution_count": 22,
   "metadata": {},
   "outputs": [
    {
     "name": "stdout",
     "output_type": "stream",
     "text": [
      "search: \u001b[0m\u001b[1mv\u001b[22m\u001b[0m\u001b[1ma\u001b[22m\u001b[0m\u001b[1mr\u001b[22m\u001b[0m\u001b[1mi\u001b[22m\u001b[0m\u001b[1mn\u001b[22m\u001b[0m\u001b[1mf\u001b[22m\u001b[0m\u001b[1mo\u001b[22m\n",
      "\n"
     ]
    },
    {
     "data": {
      "text/latex": [
       "\\begin{verbatim}\n",
       "varinfo(m::Module=Main, pattern::Regex=r\"\"; all::Bool = false, imported::Bool = false, sortby::Symbol = :name, minsize::Int = 0)\n",
       "\\end{verbatim}\n",
       "Return a markdown table giving information about exported global variables in a module, optionally restricted to those matching \\texttt{pattern}.\n",
       "\n",
       "The memory consumption estimate is an approximate lower bound on the size of the internal structure of the object.\n",
       "\n",
       "\\begin{itemize}\n",
       "\\item \\texttt{all} : also list non-exported objects defined in the module, deprecated objects, and compiler-generated objects.\n",
       "\n",
       "\n",
       "\\item \\texttt{imported} : also list objects explicitly imported from other modules.\n",
       "\n",
       "\n",
       "\\item \\texttt{recursive} : recursively include objects in sub-modules, observing the same settings in each.\n",
       "\n",
       "\n",
       "\\item \\texttt{sortby} : the column to sort results by. Options are \\texttt{:name} (default), \\texttt{:size}, and \\texttt{:summary}.\n",
       "\n",
       "\n",
       "\\item \\texttt{minsize} : only includes objects with size at least \\texttt{minsize} bytes. Defaults to \\texttt{0}.\n",
       "\n",
       "\\end{itemize}\n"
      ],
      "text/markdown": [
       "```\n",
       "varinfo(m::Module=Main, pattern::Regex=r\"\"; all::Bool = false, imported::Bool = false, sortby::Symbol = :name, minsize::Int = 0)\n",
       "```\n",
       "\n",
       "Return a markdown table giving information about exported global variables in a module, optionally restricted to those matching `pattern`.\n",
       "\n",
       "The memory consumption estimate is an approximate lower bound on the size of the internal structure of the object.\n",
       "\n",
       "  * `all` : also list non-exported objects defined in the module, deprecated objects, and compiler-generated objects.\n",
       "  * `imported` : also list objects explicitly imported from other modules.\n",
       "  * `recursive` : recursively include objects in sub-modules, observing the same settings in each.\n",
       "  * `sortby` : the column to sort results by. Options are `:name` (default), `:size`, and `:summary`.\n",
       "  * `minsize` : only includes objects with size at least `minsize` bytes. Defaults to `0`.\n"
      ],
      "text/plain": [
       "\u001b[36m  varinfo(m::Module=Main, pattern::Regex=r\"\"; all::Bool = false, imported::Bool = false, sortby::Symbol = :name, minsize::Int = 0)\u001b[39m\n",
       "\n",
       "  Return a markdown table giving information about exported global variables\n",
       "  in a module, optionally restricted to those matching \u001b[36mpattern\u001b[39m.\n",
       "\n",
       "  The memory consumption estimate is an approximate lower bound on the size of\n",
       "  the internal structure of the object.\n",
       "\n",
       "    •  \u001b[36mall\u001b[39m : also list non-exported objects defined in the module,\n",
       "       deprecated objects, and compiler-generated objects.\n",
       "\n",
       "    •  \u001b[36mimported\u001b[39m : also list objects explicitly imported from other\n",
       "       modules.\n",
       "\n",
       "    •  \u001b[36mrecursive\u001b[39m : recursively include objects in sub-modules, observing\n",
       "       the same settings in each.\n",
       "\n",
       "    •  \u001b[36msortby\u001b[39m : the column to sort results by. Options are \u001b[36m:name\u001b[39m\n",
       "       (default), \u001b[36m:size\u001b[39m, and \u001b[36m:summary\u001b[39m.\n",
       "\n",
       "    •  \u001b[36mminsize\u001b[39m : only includes objects with size at least \u001b[36mminsize\u001b[39m bytes.\n",
       "       Defaults to \u001b[36m0\u001b[39m."
      ]
     },
     "execution_count": 22,
     "metadata": {},
     "output_type": "execute_result"
    }
   ],
   "source": [
    "?varinfo"
   ]
  },
  {
   "cell_type": "code",
   "execution_count": 23,
   "metadata": {},
   "outputs": [
    {
     "name": "stdout",
     "output_type": "stream",
     "text": [
      "Sum of 1 and 1.5 is 2.5\n"
     ]
    }
   ],
   "source": [
    "println(\"Sum of $a and $b is $(a+b)\")"
   ]
  },
  {
   "cell_type": "markdown",
   "metadata": {},
   "source": [
    "Addition, subtraction, multiplication, division, exponent"
   ]
  },
  {
   "cell_type": "code",
   "execution_count": 24,
   "metadata": {},
   "outputs": [
    {
     "data": {
      "text/plain": [
       "(2.5, -0.5, 1.5, 0.0, 1.0)"
      ]
     },
     "execution_count": 24,
     "metadata": {},
     "output_type": "execute_result"
    }
   ],
   "source": [
    "a+b, a-b, a*b, a÷b, a^b"
   ]
  },
  {
   "cell_type": "code",
   "execution_count": 25,
   "metadata": {},
   "outputs": [
    {
     "data": {
      "text/latex": [
       "\\textbf{Unicode support} \n",
       "\n",
       "\\begin{itemize}\n",
       "\\item[1. ] We can use π instead of \\texttt{pi}\n",
       "\n",
       "\n",
       "\\item[2. ] Greek letters improe comprehension: α \\emph{(alpha)}, β \\emph{(beta)}, ...\n",
       "\n",
       "\n",
       "\\item[3. ] Symbols: ≥ \\emph{(>=)}, ≤ \\emph{(<=)}, ∈ \\emph{(in)}, ... \n",
       "\n",
       "\n",
       "\\item[4. ] ...\n",
       "\n",
       "\\end{itemize}\n"
      ],
      "text/markdown": [
       "**Unicode support** \n",
       "\n",
       "1. We can use π instead of `pi`\n",
       "2. Greek letters improe comprehension: α *(alpha)*, β *(beta)*, ...\n",
       "3. Symbols: ≥ *(>=)*, ≤ *(<=)*, ∈ *(in)*, ...\n",
       "4. ...\n"
      ],
      "text/plain": [
       "  \u001b[1mUnicode support\u001b[22m\n",
       "\n",
       "    1. We can use π instead of \u001b[36mpi\u001b[39m\n",
       "\n",
       "    2. Greek letters improe comprehension: α \u001b[4m(alpha)\u001b[24m, β \u001b[4m(beta)\u001b[24m, ...\n",
       "\n",
       "    3. Symbols: ≥ \u001b[4m(>=)\u001b[24m, ≤ \u001b[4m(<=)\u001b[24m, ∈ \u001b[4m(in)\u001b[24m, ...\n",
       "\n",
       "    4. ..."
      ]
     },
     "execution_count": 25,
     "metadata": {},
     "output_type": "execute_result"
    }
   ],
   "source": [
    "md\"\"\"\n",
    "**Unicode support** \n",
    "1. We can use π instead of `pi`\n",
    "1. Greek letters improe comprehension: α _(alpha)_, β _(beta)_, ...\n",
    "1. Symbols: ≥ _(>=)_, ≤ _(<=)_, ∈ _(in)_, ... \n",
    "1. ...\n",
    "\"\"\""
   ]
  },
  {
   "cell_type": "code",
   "execution_count": 26,
   "metadata": {},
   "outputs": [
    {
     "data": {
      "text/plain": [
       "true"
      ]
     },
     "execution_count": 26,
     "metadata": {},
     "output_type": "execute_result"
    }
   ],
   "source": [
    "3 ≤ π "
   ]
  },
  {
   "cell_type": "code",
   "execution_count": 27,
   "metadata": {},
   "outputs": [
    {
     "data": {
      "text/plain": [
       "Float64"
      ]
     },
     "execution_count": 27,
     "metadata": {},
     "output_type": "execute_result"
    }
   ],
   "source": [
    "typeof(3.14)"
   ]
  },
  {
   "cell_type": "code",
   "execution_count": 28,
   "metadata": {},
   "outputs": [
    {
     "data": {
      "text/plain": [
       "Any"
      ]
     },
     "execution_count": 28,
     "metadata": {},
     "output_type": "execute_result"
    }
   ],
   "source": [
    "Float64 |> supertype |> supertype |> supertype |> supertype "
   ]
  },
  {
   "cell_type": "code",
   "execution_count": 29,
   "metadata": {},
   "outputs": [
    {
     "data": {
      "text/plain": [
       "3-element Vector{Any}:\n",
       " Bool\n",
       " Signed\n",
       " Unsigned"
      ]
     },
     "execution_count": 29,
     "metadata": {},
     "output_type": "execute_result"
    }
   ],
   "source": [
    "Integer |> subtypes"
   ]
  },
  {
   "cell_type": "code",
   "execution_count": 30,
   "metadata": {},
   "outputs": [
    {
     "data": {
      "text/plain": [
       "6-element Vector{Any}:\n",
       " BigInt\n",
       " Int128\n",
       " Int16\n",
       " Int32\n",
       " Int64\n",
       " Int8"
      ]
     },
     "execution_count": 30,
     "metadata": {},
     "output_type": "execute_result"
    }
   ],
   "source": [
    "Signed |> subtypes"
   ]
  },
  {
   "cell_type": "code",
   "execution_count": 31,
   "metadata": {},
   "outputs": [
    {
     "data": {
      "text/plain": [
       "true"
      ]
     },
     "execution_count": 31,
     "metadata": {},
     "output_type": "execute_result"
    }
   ],
   "source": [
    "UInt8 <: Unsigned # UInt8 is one subtype of Unsigned"
   ]
  },
  {
   "cell_type": "code",
   "execution_count": 32,
   "metadata": {},
   "outputs": [
    {
     "data": {
      "text/plain": [
       "true"
      ]
     },
     "execution_count": 32,
     "metadata": {},
     "output_type": "execute_result"
    }
   ],
   "source": [
    "Signed >: Int8 # Signed is supertype of Int8"
   ]
  },
  {
   "cell_type": "code",
   "execution_count": 33,
   "metadata": {},
   "outputs": [
    {
     "data": {
      "text/plain": [
       "Int64"
      ]
     },
     "execution_count": 33,
     "metadata": {},
     "output_type": "execute_result"
    }
   ],
   "source": [
    "typeof(3)"
   ]
  },
  {
   "cell_type": "code",
   "execution_count": 34,
   "metadata": {},
   "outputs": [
    {
     "data": {
      "text/plain": [
       "UInt8"
      ]
     },
     "execution_count": 34,
     "metadata": {},
     "output_type": "execute_result"
    }
   ],
   "source": [
    "tmp::UInt8 = 3\n",
    "typeof(tmp)"
   ]
  },
  {
   "cell_type": "markdown",
   "metadata": {},
   "source": [
    "### Mathematical Notation\n"
   ]
  },
  {
   "cell_type": "code",
   "execution_count": 35,
   "metadata": {},
   "outputs": [
    {
     "name": "stdout",
     "output_type": "stream",
     "text": [
      "3\n",
      "3\n"
     ]
    }
   ],
   "source": [
    "println(1+2)\n",
    "println(+(1, 2))"
   ]
  },
  {
   "cell_type": "code",
   "execution_count": 36,
   "metadata": {},
   "outputs": [
    {
     "name": "stdout",
     "output_type": "stream",
     "text": [
      "-1\n",
      "-1\n"
     ]
    }
   ],
   "source": [
    "println(1-2)\n",
    "println(-(1, 2))"
   ]
  },
  {
   "cell_type": "code",
   "execution_count": 37,
   "metadata": {},
   "outputs": [
    {
     "name": "stdout",
     "output_type": "stream",
     "text": [
      "2\n",
      "2\n"
     ]
    }
   ],
   "source": [
    "println(1*2)\n",
    "println(*(1, 2))"
   ]
  },
  {
   "cell_type": "code",
   "execution_count": 38,
   "metadata": {},
   "outputs": [
    {
     "name": "stdout",
     "output_type": "stream",
     "text": [
      "0.5\n",
      "0.5\n"
     ]
    }
   ],
   "source": [
    "println(1/2)\n",
    "println(/(1, 2))"
   ]
  },
  {
   "cell_type": "code",
   "execution_count": 39,
   "metadata": {},
   "outputs": [
    {
     "name": "stdout",
     "output_type": "stream",
     "text": [
      "2.15\n",
      "43//20\n"
     ]
    }
   ],
   "source": [
    "println(3/4+7/5)\n",
    "println(3//4+7//5)"
   ]
  },
  {
   "cell_type": "markdown",
   "metadata": {},
   "source": [
    "### Array Transformations\n",
    "Perform calculations on entire arrays at once."
   ]
  },
  {
   "cell_type": "code",
   "execution_count": 40,
   "metadata": {},
   "outputs": [
    {
     "data": {
      "text/plain": [
       "3×2 Matrix{Float64}:\n",
       " 0.0  0.0\n",
       " 0.0  0.0\n",
       " 0.0  0.0"
      ]
     },
     "execution_count": 40,
     "metadata": {},
     "output_type": "execute_result"
    }
   ],
   "source": [
    "zeros(3, 2)"
   ]
  },
  {
   "cell_type": "code",
   "execution_count": 41,
   "metadata": {},
   "outputs": [
    {
     "data": {
      "text/plain": [
       "3×3×2 Array{Float64, 3}:\n",
       "[:, :, 1] =\n",
       " 1.0  1.0  1.0\n",
       " 1.0  1.0  1.0\n",
       " 1.0  1.0  1.0\n",
       "\n",
       "[:, :, 2] =\n",
       " 1.0  1.0  1.0\n",
       " 1.0  1.0  1.0\n",
       " 1.0  1.0  1.0"
      ]
     },
     "execution_count": 41,
     "metadata": {},
     "output_type": "execute_result"
    }
   ],
   "source": [
    "ones(3, 3, 2)"
   ]
  },
  {
   "cell_type": "code",
   "execution_count": 42,
   "metadata": {},
   "outputs": [
    {
     "data": {
      "text/plain": [
       "2×2 Matrix{Irrational{:π}}:\n",
       " π  π\n",
       " π  π"
      ]
     },
     "execution_count": 42,
     "metadata": {},
     "output_type": "execute_result"
    }
   ],
   "source": [
    "fill(π, (2, 2))"
   ]
  },
  {
   "cell_type": "code",
   "execution_count": 43,
   "metadata": {},
   "outputs": [
    {
     "data": {
      "text/plain": [
       "2×2 Matrix{Float64}:\n",
       " 3.14159  3.14159\n",
       " 3.14159  3.14159"
      ]
     },
     "execution_count": 43,
     "metadata": {},
     "output_type": "execute_result"
    }
   ],
   "source": [
    "π .* ones(2, 2)"
   ]
  },
  {
   "cell_type": "code",
   "execution_count": 44,
   "metadata": {},
   "outputs": [
    {
     "data": {
      "text/latex": [
       "Creates a \\texttt{BitArray} with all values set to \\texttt{true}\n",
       "\n"
      ],
      "text/markdown": [
       "Creates a `BitArray` with all values set to `true`\n"
      ],
      "text/plain": [
       "  Creates a \u001b[36mBitArray\u001b[39m with all values set to \u001b[36mtrue\u001b[39m"
      ]
     },
     "execution_count": 44,
     "metadata": {},
     "output_type": "execute_result"
    }
   ],
   "source": [
    "md\"Creates a `BitArray` with all values set to `true`\""
   ]
  },
  {
   "cell_type": "code",
   "execution_count": 45,
   "metadata": {},
   "outputs": [
    {
     "name": "stdout",
     "output_type": "stream",
     "text": [
      "Bool[1 1 1 1; 1 1 1 1]\n"
     ]
    },
    {
     "data": {
      "text/plain": [
       "BitMatrix\u001b[90m (alias for \u001b[39m\u001b[90mBitArray{2}\u001b[39m\u001b[90m)\u001b[39m"
      ]
     },
     "execution_count": 45,
     "metadata": {},
     "output_type": "execute_result"
    }
   ],
   "source": [
    "var = trues(2, 4)\n",
    "println(var)\n",
    "typeof(var)"
   ]
  },
  {
   "cell_type": "code",
   "execution_count": 46,
   "metadata": {},
   "outputs": [
    {
     "data": {
      "text/latex": [
       "Creates a \\texttt{BitArray} with all values set to \\texttt{false}\n",
       "\n"
      ],
      "text/markdown": [
       "Creates a `BitArray` with all values set to `false`\n"
      ],
      "text/plain": [
       "  Creates a \u001b[36mBitArray\u001b[39m with all values set to \u001b[36mfalse\u001b[39m"
      ]
     },
     "execution_count": 46,
     "metadata": {},
     "output_type": "execute_result"
    }
   ],
   "source": [
    "md\"Creates a `BitArray` with all values set to `false`\""
   ]
  },
  {
   "cell_type": "code",
   "execution_count": 47,
   "metadata": {},
   "outputs": [
    {
     "name": "stdout",
     "output_type": "stream",
     "text": [
      "Bool[0 0 0 0; 0 0 0 0]\n"
     ]
    },
    {
     "data": {
      "text/plain": [
       "BitMatrix\u001b[90m (alias for \u001b[39m\u001b[90mBitArray{2}\u001b[39m\u001b[90m)\u001b[39m"
      ]
     },
     "execution_count": 47,
     "metadata": {},
     "output_type": "execute_result"
    }
   ],
   "source": [
    "var = falses(2, 4)\n",
    "println(var)\n",
    "typeof(var)"
   ]
  },
  {
   "cell_type": "code",
   "execution_count": 48,
   "metadata": {},
   "outputs": [
    {
     "data": {
      "text/latex": [
       "\\textbf{Comprehension}\n",
       "\n"
      ],
      "text/markdown": [
       "**Comprehension**\n"
      ],
      "text/plain": [
       "  \u001b[1mComprehension\u001b[22m"
      ]
     },
     "execution_count": 48,
     "metadata": {},
     "output_type": "execute_result"
    }
   ],
   "source": [
    "md\"**Comprehension**\""
   ]
  },
  {
   "cell_type": "code",
   "execution_count": 49,
   "metadata": {},
   "outputs": [
    {
     "name": "stdout",
     "output_type": "stream",
     "text": [
      "H\n",
      "e\n",
      "l\n",
      "l\n",
      "o\n",
      " \n",
      "J\n",
      "u\n",
      "l\n",
      "i\n",
      "a\n"
     ]
    }
   ],
   "source": [
    "str = \"Hello Julia\"\n",
    "[println(el) for el in str];"
   ]
  },
  {
   "cell_type": "markdown",
   "metadata": {},
   "source": [
    "### Calling Functions\n",
    "Call functions to obtain multiple outputs."
   ]
  },
  {
   "cell_type": "code",
   "execution_count": 50,
   "metadata": {},
   "outputs": [
    {
     "data": {
      "text/latex": [
       "\\href{https://docs.julialang.org/en/v1/manual/functions/}{Functions in ${\\tt Julia}$}\n",
       "\n"
      ],
      "text/markdown": [
       "[Functions in ${\\tt Julia}$](https://docs.julialang.org/en/v1/manual/functions/)\n"
      ],
      "text/plain": [
       "  Functions in \u001b[35m{\\tt Julia}\u001b[39m\n",
       "  (https://docs.julialang.org/en/v1/manual/functions/)"
      ]
     },
     "execution_count": 50,
     "metadata": {},
     "output_type": "execute_result"
    }
   ],
   "source": [
    "md\"\"\"\n",
    "[Functions in ${\\tt Julia}$](https://docs.julialang.org/en/v1/manual/functions/)\n",
    "\"\"\""
   ]
  },
  {
   "cell_type": "code",
   "execution_count": 51,
   "metadata": {},
   "outputs": [
    {
     "data": {
      "text/latex": [
       "\\textbf{Spreading Arguments}\n",
       "\n"
      ],
      "text/markdown": [
       "**Spreading Arguments**\n"
      ],
      "text/plain": [
       "  \u001b[1mSpreading Arguments\u001b[22m"
      ]
     },
     "execution_count": 51,
     "metadata": {},
     "output_type": "execute_result"
    }
   ],
   "source": [
    "md\"**Spreading Arguments**\""
   ]
  },
  {
   "cell_type": "markdown",
   "metadata": {},
   "source": [
    "_Optional positional arguments_"
   ]
  },
  {
   "cell_type": "code",
   "execution_count": 52,
   "metadata": {},
   "outputs": [
    {
     "data": {
      "text/plain": [
       "foo (generic function with 4 methods)"
      ]
     },
     "execution_count": 52,
     "metadata": {},
     "output_type": "execute_result"
    }
   ],
   "source": [
    "foo(x=0, y=0, z=0) = x+y+z"
   ]
  },
  {
   "cell_type": "code",
   "execution_count": 53,
   "metadata": {},
   "outputs": [
    {
     "data": {
      "text/plain": [
       "(0, 6)"
      ]
     },
     "execution_count": 53,
     "metadata": {},
     "output_type": "execute_result"
    }
   ],
   "source": [
    "foo(), foo(1, 2, 3)"
   ]
  },
  {
   "cell_type": "code",
   "execution_count": 54,
   "metadata": {},
   "outputs": [
    {
     "data": {
      "text/plain": [
       "6"
      ]
     },
     "execution_count": 54,
     "metadata": {},
     "output_type": "execute_result"
    }
   ],
   "source": [
    "foo([1, 2, 3]...) # Splat `...` operator"
   ]
  },
  {
   "cell_type": "markdown",
   "metadata": {},
   "source": [
    "_Keywords arguments_"
   ]
  },
  {
   "cell_type": "code",
   "execution_count": 55,
   "metadata": {},
   "outputs": [
    {
     "data": {
      "text/plain": [
       "bar (generic function with 1 method)"
      ]
     },
     "execution_count": 55,
     "metadata": {},
     "output_type": "execute_result"
    }
   ],
   "source": [
    "bar(; a::Real=0, b::Real=0, c::Real=0) = a+b+c"
   ]
  },
  {
   "cell_type": "code",
   "execution_count": 56,
   "metadata": {},
   "outputs": [
    {
     "data": {
      "text/plain": [
       "0"
      ]
     },
     "execution_count": 56,
     "metadata": {},
     "output_type": "execute_result"
    }
   ],
   "source": [
    "bar()"
   ]
  },
  {
   "cell_type": "code",
   "execution_count": 57,
   "metadata": {},
   "outputs": [
    {
     "data": {
      "text/plain": [
       "7.2"
      ]
     },
     "execution_count": 57,
     "metadata": {},
     "output_type": "execute_result"
    }
   ],
   "source": [
    "bar(; Dict(:a => 3, :b => 5.4, :c => -1.2)... ) # ; kwargs..."
   ]
  },
  {
   "cell_type": "code",
   "execution_count": 58,
   "metadata": {},
   "outputs": [
    {
     "name": "stdout",
     "output_type": "stream",
     "text": [
      "MethodError(bar, (1, 2, 3), 0x0000000000007ec9)\n"
     ]
    }
   ],
   "source": [
    "# THROW AN ERROR \n",
    "try bar([1, 2, 3]...)\n",
    "catch error\n",
    "    println(error)\n",
    "end"
   ]
  },
  {
   "cell_type": "code",
   "execution_count": 59,
   "metadata": {},
   "outputs": [
    {
     "data": {
      "text/latex": [
       "\\textbf{Multiple Dispatch}\n",
       "\n"
      ],
      "text/markdown": [
       "**Multiple Dispatch**\n"
      ],
      "text/plain": [
       "  \u001b[1mMultiple Dispatch\u001b[22m"
      ]
     },
     "execution_count": 59,
     "metadata": {},
     "output_type": "execute_result"
    }
   ],
   "source": [
    "md\"**Multiple Dispatch**\""
   ]
  },
  {
   "cell_type": "code",
   "execution_count": 60,
   "metadata": {},
   "outputs": [
    {
     "data": {
      "text/plain": [
       "f (generic function with 1 method)"
      ]
     },
     "execution_count": 60,
     "metadata": {},
     "output_type": "execute_result"
    }
   ],
   "source": [
    "# 1st method signature\n",
    "function f(x::Int)\n",
    "    x^2\n",
    "end"
   ]
  },
  {
   "cell_type": "code",
   "execution_count": 61,
   "metadata": {},
   "outputs": [
    {
     "data": {
      "text/plain": [
       "f (generic function with 2 methods)"
      ]
     },
     "execution_count": 61,
     "metadata": {},
     "output_type": "execute_result"
    }
   ],
   "source": [
    "# 2nd method signature\n",
    "f(x::Float64) = x^2+1"
   ]
  },
  {
   "cell_type": "code",
   "execution_count": 62,
   "metadata": {},
   "outputs": [
    {
     "data": {
      "text/plain": [
       "f (generic function with 4 methods)"
      ]
     },
     "execution_count": 62,
     "metadata": {},
     "output_type": "execute_result"
    }
   ],
   "source": [
    "# 3rd method signature\n",
    "f(x::Char) = x*'y'*'z'\n",
    "# 4th mehod signature\n",
    "f(x::String) = x*x "
   ]
  },
  {
   "cell_type": "code",
   "execution_count": 63,
   "metadata": {},
   "outputs": [
    {
     "data": {
      "text/html": [
       "# 4 methods for generic function <b>f</b>:<ul><li> f(x::<b>Int64</b>) in Main at In[60]:2</li> <li> f(x::<b>Float64</b>) in Main at In[61]:2</li> <li> f(x::<b>Char</b>) in Main at In[62]:2</li> <li> f(x::<b>String</b>) in Main at In[62]:4</li> </ul>"
      ],
      "text/plain": [
       "# 4 methods for generic function \"f\":\n",
       "[1] f(x::Int64) in Main at In[60]:2\n",
       "[2] f(x::Float64) in Main at In[61]:2\n",
       "[3] f(x::Char) in Main at In[62]:2\n",
       "[4] f(x::String) in Main at In[62]:4"
      ]
     },
     "execution_count": 63,
     "metadata": {},
     "output_type": "execute_result"
    }
   ],
   "source": [
    "methods(f)"
   ]
  },
  {
   "cell_type": "code",
   "execution_count": 64,
   "metadata": {},
   "outputs": [
    {
     "data": {
      "text/plain": [
       "(1, 2.0, \"xyz\", \"abcabc\")"
      ]
     },
     "execution_count": 64,
     "metadata": {},
     "output_type": "execute_result"
    }
   ],
   "source": [
    "f(1), f(1.), f('x'), f(\"abc\")"
   ]
  },
  {
   "cell_type": "code",
   "execution_count": 65,
   "metadata": {},
   "outputs": [
    {
     "data": {
      "text/plain": [
       "mycos (generic function with 2 methods)"
      ]
     },
     "execution_count": 65,
     "metadata": {},
     "output_type": "execute_result"
    }
   ],
   "source": [
    "mycos(x) = cos(x)\n",
    "mycos(adj, hyp) = adj/hyp # Extension to `mycos` function"
   ]
  },
  {
   "cell_type": "code",
   "execution_count": 66,
   "metadata": {
    "scrolled": true
   },
   "outputs": [
    {
     "data": {
      "text/html": [
       "# 2 methods for generic function <b>mycos</b>:<ul><li> mycos(x) in Main at In[65]:1</li> <li> mycos(adj, hyp) in Main at In[65]:2</li> </ul>"
      ],
      "text/plain": [
       "# 2 methods for generic function \"mycos\":\n",
       "[1] mycos(x) in Main at In[65]:1\n",
       "[2] mycos(adj, hyp) in Main at In[65]:2"
      ]
     },
     "execution_count": 66,
     "metadata": {},
     "output_type": "execute_result"
    }
   ],
   "source": [
    "methods(mycos)"
   ]
  },
  {
   "cell_type": "code",
   "execution_count": 67,
   "metadata": {
    "scrolled": true
   },
   "outputs": [
    {
     "data": {
      "text/html": [
       "mycos(x) in Main at In[65]:1"
      ],
      "text/plain": [
       "mycos(x) in Main at In[65]:1"
      ]
     },
     "execution_count": 67,
     "metadata": {},
     "output_type": "execute_result"
    }
   ],
   "source": [
    "@which mycos(π)"
   ]
  },
  {
   "cell_type": "code",
   "execution_count": 68,
   "metadata": {
    "scrolled": true
   },
   "outputs": [
    {
     "data": {
      "text/html": [
       "mycos(adj, hyp) in Main at In[65]:2"
      ],
      "text/plain": [
       "mycos(adj, hyp) in Main at In[65]:2"
      ]
     },
     "execution_count": 68,
     "metadata": {},
     "output_type": "execute_result"
    }
   ],
   "source": [
    "@which mycos(5, 3)"
   ]
  },
  {
   "cell_type": "code",
   "execution_count": 69,
   "metadata": {},
   "outputs": [
    {
     "data": {
      "text/plain": [
       "mycos (generic function with 2 methods)"
      ]
     },
     "execution_count": 69,
     "metadata": {},
     "output_type": "execute_result"
    }
   ],
   "source": [
    "mycos(adj, hyp=10) = adj/hyp"
   ]
  },
  {
   "cell_type": "code",
   "execution_count": 70,
   "metadata": {},
   "outputs": [
    {
     "data": {
      "text/html": [
       "mycos(adj) in Main at In[69]:1"
      ],
      "text/plain": [
       "mycos(adj) in Main at In[69]:1"
      ]
     },
     "execution_count": 70,
     "metadata": {},
     "output_type": "execute_result"
    }
   ],
   "source": [
    "@which mycos(π)"
   ]
  },
  {
   "cell_type": "markdown",
   "metadata": {},
   "source": [
    "**Function Chaining** applies a function to the preceding argument."
   ]
  },
  {
   "cell_type": "code",
   "execution_count": 71,
   "metadata": {},
   "outputs": [
    {
     "data": {
      "text/plain": [
       "9"
      ]
     },
     "execution_count": 71,
     "metadata": {},
     "output_type": "execute_result"
    }
   ],
   "source": [
    "g(x) = x+1\n",
    "h(x) = x^2\n",
    "x = 2 |> g |> h"
   ]
  },
  {
   "cell_type": "code",
   "execution_count": 72,
   "metadata": {},
   "outputs": [
    {
     "data": {
      "text/latex": [
       "Another pssible way is t use \\texttt{∘}\\emph{{\\textbackslash}circ\\{tab\\}} symbol\n",
       "\n"
      ],
      "text/markdown": [
       "Another pssible way is t use `∘`*\\circ{tab}* symbol\n"
      ],
      "text/plain": [
       "  Another pssible way is t use \u001b[36m∘\u001b[39m\u001b[4m\\circ{tab}\u001b[24m symbol"
      ]
     },
     "execution_count": 72,
     "metadata": {},
     "output_type": "execute_result"
    }
   ],
   "source": [
    "md\"Another pssible way is t use `∘`_\\circ{tab}_ symbol\""
   ]
  },
  {
   "cell_type": "code",
   "execution_count": 73,
   "metadata": {},
   "outputs": [
    {
     "data": {
      "text/plain": [
       "9"
      ]
     },
     "execution_count": 73,
     "metadata": {},
     "output_type": "execute_result"
    }
   ],
   "source": [
    "(h∘g)(2)"
   ]
  },
  {
   "cell_type": "code",
   "execution_count": 74,
   "metadata": {},
   "outputs": [
    {
     "data": {
      "text/latex": [
       "Definition of a function can be done on the fly\n",
       "\n"
      ],
      "text/markdown": [
       "Definition of a function can be done on the fly\n"
      ],
      "text/plain": [
       "  Definition of a function can be done on the fly"
      ]
     },
     "execution_count": 74,
     "metadata": {},
     "output_type": "execute_result"
    }
   ],
   "source": [
    "md\"Definition of a function can be done on the fly\""
   ]
  },
  {
   "cell_type": "code",
   "execution_count": 75,
   "metadata": {},
   "outputs": [
    {
     "data": {
      "text/plain": [
       "5.0"
      ]
     },
     "execution_count": 75,
     "metadata": {},
     "output_type": "execute_result"
    }
   ],
   "source": [
    "y = 5 |> (x->x^2) |> √"
   ]
  },
  {
   "cell_type": "code",
   "execution_count": 76,
   "metadata": {},
   "outputs": [
    {
     "data": {
      "text/latex": [
       "\\textbf{Metaprogramming:} Code is optimized by nature in ${\\tt Julia}$\n",
       "\n"
      ],
      "text/markdown": [
       "**Metaprogramming:** Code is optimized by nature in ${\\tt Julia}$\n"
      ],
      "text/plain": [
       "  \u001b[1mMetaprogramming:\u001b[22m Code is optimized by nature in \u001b[35m{\\tt Julia}\u001b[39m"
      ]
     },
     "execution_count": 76,
     "metadata": {},
     "output_type": "execute_result"
    }
   ],
   "source": [
    "md\"\"\"\n",
    "**Metaprogramming:** Code is optimized by nature in ${\\tt Julia}$\n",
    "\"\"\""
   ]
  },
  {
   "cell_type": "code",
   "execution_count": 77,
   "metadata": {},
   "outputs": [
    {
     "data": {
      "text/plain": [
       "Foo (generic function with 1 method)"
      ]
     },
     "execution_count": 77,
     "metadata": {},
     "output_type": "execute_result"
    }
   ],
   "source": [
    "function Foo(x::Integer)\n",
    "    y = x\n",
    "    for i=1:100\n",
    "        y += i^2\n",
    "    end\n",
    "    return y\n",
    "end"
   ]
  },
  {
   "cell_type": "code",
   "execution_count": 78,
   "metadata": {},
   "outputs": [
    {
     "name": "stdout",
     "output_type": "stream",
     "text": [
      "\u001b[90m;  @ In[77]:1 within `Foo`\u001b[39m\n",
      "\u001b[95mdefine\u001b[39m \u001b[36mi64\u001b[39m \u001b[93m@julia_Foo_4957\u001b[39m\u001b[33m(\u001b[39m\u001b[36mi64\u001b[39m \u001b[95msignext\u001b[39m \u001b[0m%0\u001b[33m)\u001b[39m \u001b[0m#0 \u001b[33m{\u001b[39m\n",
      "\u001b[91mtop:\u001b[39m\n",
      "\u001b[90m;  @ In[77]:3 within `Foo`\u001b[39m\n",
      "  \u001b[0m%1 \u001b[0m= \u001b[96m\u001b[1madd\u001b[22m\u001b[39m \u001b[36mi64\u001b[39m \u001b[0m%0\u001b[0m, \u001b[33m338350\u001b[39m\n",
      "\u001b[90m;  @ In[77]:6 within `Foo`\u001b[39m\n",
      "  \u001b[96m\u001b[1mret\u001b[22m\u001b[39m \u001b[36mi64\u001b[39m \u001b[0m%1\n",
      "\u001b[33m}\u001b[39m\n"
     ]
    }
   ],
   "source": [
    "@code_llvm Foo(3)"
   ]
  },
  {
   "cell_type": "code",
   "execution_count": 79,
   "metadata": {},
   "outputs": [
    {
     "data": {
      "text/latex": [
       "\\begin{verbatim}\n",
       "@code_llvm\n",
       "\\end{verbatim}\n",
       "Evaluates the arguments to the function or macro call, determines their types, and calls \\href{@ref}{\\texttt{code\\_llvm}} on the resulting expression. Set the optional keyword arguments \\texttt{raw}, \\texttt{dump\\_module}, \\texttt{debuginfo}, \\texttt{optimize} by putting them and their value before the function call, like this:\n",
       "\n",
       "\\begin{verbatim}\n",
       "@code_llvm raw=true dump_module=true debuginfo=:default f(x)\n",
       "@code_llvm optimize=false f(x)\n",
       "\\end{verbatim}\n",
       "\\texttt{optimize} controls whether additional optimizations, such as inlining, are also applied. \\texttt{raw} makes all metadata and dbg.* calls visible. \\texttt{debuginfo} may be one of \\texttt{:source} (default) or \\texttt{:none},  to specify the verbosity of code comments. \\texttt{dump\\_module} prints the entire module that encapsulates the function.\n",
       "\n"
      ],
      "text/markdown": [
       "```\n",
       "@code_llvm\n",
       "```\n",
       "\n",
       "Evaluates the arguments to the function or macro call, determines their types, and calls [`code_llvm`](@ref) on the resulting expression. Set the optional keyword arguments `raw`, `dump_module`, `debuginfo`, `optimize` by putting them and their value before the function call, like this:\n",
       "\n",
       "```\n",
       "@code_llvm raw=true dump_module=true debuginfo=:default f(x)\n",
       "@code_llvm optimize=false f(x)\n",
       "```\n",
       "\n",
       "`optimize` controls whether additional optimizations, such as inlining, are also applied. `raw` makes all metadata and dbg.* calls visible. `debuginfo` may be one of `:source` (default) or `:none`,  to specify the verbosity of code comments. `dump_module` prints the entire module that encapsulates the function.\n"
      ],
      "text/plain": [
       "\u001b[36m  @code_llvm\u001b[39m\n",
       "\n",
       "  Evaluates the arguments to the function or macro call, determines their\n",
       "  types, and calls \u001b[36mcode_llvm\u001b[39m on the resulting expression. Set the optional\n",
       "  keyword arguments \u001b[36mraw\u001b[39m, \u001b[36mdump_module\u001b[39m, \u001b[36mdebuginfo\u001b[39m, \u001b[36moptimize\u001b[39m by putting them and\n",
       "  their value before the function call, like this:\n",
       "\n",
       "\u001b[36m  @code_llvm raw=true dump_module=true debuginfo=:default f(x)\u001b[39m\n",
       "\u001b[36m  @code_llvm optimize=false f(x)\u001b[39m\n",
       "\n",
       "  \u001b[36moptimize\u001b[39m controls whether additional optimizations, such as inlining, are\n",
       "  also applied. \u001b[36mraw\u001b[39m makes all metadata and dbg.* calls visible. \u001b[36mdebuginfo\u001b[39m may\n",
       "  be one of \u001b[36m:source\u001b[39m (default) or \u001b[36m:none\u001b[39m, to specify the verbosity of code\n",
       "  comments. \u001b[36mdump_module\u001b[39m prints the entire module that encapsulates the\n",
       "  function."
      ]
     },
     "execution_count": 79,
     "metadata": {},
     "output_type": "execute_result"
    }
   ],
   "source": [
    "?@code_llvm"
   ]
  },
  {
   "cell_type": "markdown",
   "metadata": {},
   "source": [
    "### Plotting Data\n",
    "Visualize variables using ${\\tt Julia}$'s plotting functions."
   ]
  },
  {
   "cell_type": "code",
   "execution_count": 80,
   "metadata": {},
   "outputs": [
    {
     "name": "stderr",
     "output_type": "stream",
     "text": [
      "\u001b[32m\u001b[1m   Resolving\u001b[22m\u001b[39m package versions...\n",
      "\u001b[32m\u001b[1m  No Changes\u001b[22m\u001b[39m to `/workspaces/cosnip/Julia/Project.toml`\n",
      "\u001b[32m\u001b[1m  No Changes\u001b[22m\u001b[39m to `/workspaces/cosnip/Julia/Manifest.toml`\n"
     ]
    }
   ],
   "source": [
    "]add Plots"
   ]
  },
  {
   "cell_type": "code",
   "execution_count": 81,
   "metadata": {},
   "outputs": [
    {
     "name": "stderr",
     "output_type": "stream",
     "text": [
      "WARNING: using Plots.bar in module Main conflicts with an existing identifier.\n"
     ]
    }
   ],
   "source": [
    "using Plots # GR is the default backend"
   ]
  },
  {
   "cell_type": "code",
   "execution_count": 82,
   "metadata": {},
   "outputs": [
    {
     "data": {
      "image/svg+xml": [
       "<?xml version=\"1.0\" encoding=\"utf-8\"?>\n",
       "<svg xmlns=\"http://www.w3.org/2000/svg\" xmlns:xlink=\"http://www.w3.org/1999/xlink\" width=\"600\" height=\"400\" viewBox=\"0 0 2400 1600\">\n",
       "<defs>\n",
       "  <clipPath id=\"clip400\">\n",
       "    <rect x=\"0\" y=\"0\" width=\"2400\" height=\"1600\"/>\n",
       "  </clipPath>\n",
       "</defs>\n",
       "<path clip-path=\"url(#clip400)\" d=\"M0 1600 L2400 1600 L2400 0 L0 0  Z\" fill=\"#ffffff\" fill-rule=\"evenodd\" fill-opacity=\"1\"/>\n",
       "<defs>\n",
       "  <clipPath id=\"clip401\">\n",
       "    <rect x=\"480\" y=\"0\" width=\"1681\" height=\"1600\"/>\n",
       "  </clipPath>\n",
       "</defs>\n",
       "<path clip-path=\"url(#clip400)\" d=\"M193.936 1486.45 L2352.76 1486.45 L2352.76 47.2441 L193.936 47.2441  Z\" fill=\"#ffffff\" fill-rule=\"evenodd\" fill-opacity=\"1\"/>\n",
       "<defs>\n",
       "  <clipPath id=\"clip402\">\n",
       "    <rect x=\"193\" y=\"47\" width=\"2160\" height=\"1440\"/>\n",
       "  </clipPath>\n",
       "</defs>\n",
       "<polyline clip-path=\"url(#clip402)\" style=\"stroke:#000000; stroke-linecap:round; stroke-linejoin:round; stroke-width:2; stroke-opacity:0.1; fill:none\" points=\"481.326,1486.45 481.326,47.2441 \"/>\n",
       "<polyline clip-path=\"url(#clip402)\" style=\"stroke:#000000; stroke-linecap:round; stroke-linejoin:round; stroke-width:2; stroke-opacity:0.1; fill:none\" points=\"933.909,1486.45 933.909,47.2441 \"/>\n",
       "<polyline clip-path=\"url(#clip402)\" style=\"stroke:#000000; stroke-linecap:round; stroke-linejoin:round; stroke-width:2; stroke-opacity:0.1; fill:none\" points=\"1386.49,1486.45 1386.49,47.2441 \"/>\n",
       "<polyline clip-path=\"url(#clip402)\" style=\"stroke:#000000; stroke-linecap:round; stroke-linejoin:round; stroke-width:2; stroke-opacity:0.1; fill:none\" points=\"1839.07,1486.45 1839.07,47.2441 \"/>\n",
       "<polyline clip-path=\"url(#clip402)\" style=\"stroke:#000000; stroke-linecap:round; stroke-linejoin:round; stroke-width:2; stroke-opacity:0.1; fill:none\" points=\"2291.66,1486.45 2291.66,47.2441 \"/>\n",
       "<polyline clip-path=\"url(#clip400)\" style=\"stroke:#000000; stroke-linecap:round; stroke-linejoin:round; stroke-width:4; stroke-opacity:1; fill:none\" points=\"193.936,1486.45 2352.76,1486.45 \"/>\n",
       "<polyline clip-path=\"url(#clip400)\" style=\"stroke:#000000; stroke-linecap:round; stroke-linejoin:round; stroke-width:4; stroke-opacity:1; fill:none\" points=\"481.326,1486.45 481.326,1467.55 \"/>\n",
       "<polyline clip-path=\"url(#clip400)\" style=\"stroke:#000000; stroke-linecap:round; stroke-linejoin:round; stroke-width:4; stroke-opacity:1; fill:none\" points=\"933.909,1486.45 933.909,1467.55 \"/>\n",
       "<polyline clip-path=\"url(#clip400)\" style=\"stroke:#000000; stroke-linecap:round; stroke-linejoin:round; stroke-width:4; stroke-opacity:1; fill:none\" points=\"1386.49,1486.45 1386.49,1467.55 \"/>\n",
       "<polyline clip-path=\"url(#clip400)\" style=\"stroke:#000000; stroke-linecap:round; stroke-linejoin:round; stroke-width:4; stroke-opacity:1; fill:none\" points=\"1839.07,1486.45 1839.07,1467.55 \"/>\n",
       "<polyline clip-path=\"url(#clip400)\" style=\"stroke:#000000; stroke-linecap:round; stroke-linejoin:round; stroke-width:4; stroke-opacity:1; fill:none\" points=\"2291.66,1486.45 2291.66,1467.55 \"/>\n",
       "<path clip-path=\"url(#clip400)\" d=\"M475.979 1544.91 L492.298 1544.91 L492.298 1548.85 L470.354 1548.85 L470.354 1544.91 Q473.016 1542.16 477.599 1537.53 Q482.206 1532.88 483.386 1531.53 Q485.632 1529.01 486.511 1527.27 Q487.414 1525.51 487.414 1523.82 Q487.414 1521.07 485.47 1519.33 Q483.548 1517.6 480.446 1517.6 Q478.247 1517.6 475.794 1518.36 Q473.363 1519.13 470.585 1520.68 L470.585 1515.95 Q473.409 1514.82 475.863 1514.24 Q478.317 1513.66 480.354 1513.66 Q485.724 1513.66 488.919 1516.35 Q492.113 1519.03 492.113 1523.52 Q492.113 1525.65 491.303 1527.57 Q490.516 1529.47 488.409 1532.07 Q487.831 1532.74 484.729 1535.95 Q481.627 1539.15 475.979 1544.91 Z\" fill=\"#000000\" fill-rule=\"nonzero\" fill-opacity=\"1\" /><path clip-path=\"url(#clip400)\" d=\"M936.918 1518.36 L925.113 1536.81 L936.918 1536.81 L936.918 1518.36 M935.691 1514.29 L941.571 1514.29 L941.571 1536.81 L946.501 1536.81 L946.501 1540.7 L941.571 1540.7 L941.571 1548.85 L936.918 1548.85 L936.918 1540.7 L921.316 1540.7 L921.316 1536.19 L935.691 1514.29 Z\" fill=\"#000000\" fill-rule=\"nonzero\" fill-opacity=\"1\" /><path clip-path=\"url(#clip400)\" d=\"M1386.9 1529.7 Q1383.75 1529.7 1381.9 1531.86 Q1380.07 1534.01 1380.07 1537.76 Q1380.07 1541.49 1381.9 1543.66 Q1383.75 1545.82 1386.9 1545.82 Q1390.04 1545.82 1391.87 1543.66 Q1393.73 1541.49 1393.73 1537.76 Q1393.73 1534.01 1391.87 1531.86 Q1390.04 1529.7 1386.9 1529.7 M1396.18 1515.05 L1396.18 1519.31 Q1394.42 1518.48 1392.61 1518.04 Q1390.83 1517.6 1389.07 1517.6 Q1384.44 1517.6 1381.99 1520.72 Q1379.56 1523.85 1379.21 1530.17 Q1380.58 1528.15 1382.64 1527.09 Q1384.7 1526 1387.17 1526 Q1392.38 1526 1395.39 1529.17 Q1398.42 1532.32 1398.42 1537.76 Q1398.42 1543.08 1395.28 1546.3 Q1392.13 1549.52 1386.9 1549.52 Q1380.9 1549.52 1377.73 1544.94 Q1374.56 1540.33 1374.56 1531.6 Q1374.56 1523.41 1378.45 1518.55 Q1382.34 1513.66 1388.89 1513.66 Q1390.65 1513.66 1392.43 1514.01 Q1394.23 1514.36 1396.18 1515.05 Z\" fill=\"#000000\" fill-rule=\"nonzero\" fill-opacity=\"1\" /><path clip-path=\"url(#clip400)\" d=\"M1839.07 1532.44 Q1835.74 1532.44 1833.82 1534.22 Q1831.92 1536 1831.92 1539.13 Q1831.92 1542.25 1833.82 1544.03 Q1835.74 1545.82 1839.07 1545.82 Q1842.41 1545.82 1844.33 1544.03 Q1846.25 1542.23 1846.25 1539.13 Q1846.25 1536 1844.33 1534.22 Q1842.43 1532.44 1839.07 1532.44 M1834.4 1530.45 Q1831.39 1529.7 1829.7 1527.64 Q1828.03 1525.58 1828.03 1522.62 Q1828.03 1518.48 1830.97 1516.07 Q1833.94 1513.66 1839.07 1513.66 Q1844.24 1513.66 1847.18 1516.07 Q1850.12 1518.48 1850.12 1522.62 Q1850.12 1525.58 1848.43 1527.64 Q1846.76 1529.7 1843.77 1530.45 Q1847.15 1531.23 1849.03 1533.52 Q1850.93 1535.82 1850.93 1539.13 Q1850.93 1544.15 1847.85 1546.83 Q1844.79 1549.52 1839.07 1549.52 Q1833.36 1549.52 1830.28 1546.83 Q1827.22 1544.15 1827.22 1539.13 Q1827.22 1535.82 1829.12 1533.52 Q1831.02 1531.23 1834.4 1530.45 M1832.69 1523.06 Q1832.69 1525.75 1834.35 1527.25 Q1836.04 1528.76 1839.07 1528.76 Q1842.08 1528.76 1843.77 1527.25 Q1845.49 1525.75 1845.49 1523.06 Q1845.49 1520.38 1843.77 1518.87 Q1842.08 1517.37 1839.07 1517.37 Q1836.04 1517.37 1834.35 1518.87 Q1832.69 1520.38 1832.69 1523.06 Z\" fill=\"#000000\" fill-rule=\"nonzero\" fill-opacity=\"1\" /><path clip-path=\"url(#clip400)\" d=\"M2266.34 1544.91 L2273.98 1544.91 L2273.98 1518.55 L2265.67 1520.21 L2265.67 1515.95 L2273.94 1514.29 L2278.61 1514.29 L2278.61 1544.91 L2286.25 1544.91 L2286.25 1548.85 L2266.34 1548.85 L2266.34 1544.91 Z\" fill=\"#000000\" fill-rule=\"nonzero\" fill-opacity=\"1\" /><path clip-path=\"url(#clip400)\" d=\"M2305.7 1517.37 Q2302.09 1517.37 2300.26 1520.93 Q2298.45 1524.47 2298.45 1531.6 Q2298.45 1538.71 2300.26 1542.27 Q2302.09 1545.82 2305.7 1545.82 Q2309.33 1545.82 2311.14 1542.27 Q2312.96 1538.71 2312.96 1531.6 Q2312.96 1524.47 2311.14 1520.93 Q2309.33 1517.37 2305.7 1517.37 M2305.7 1513.66 Q2311.51 1513.66 2314.56 1518.27 Q2317.64 1522.85 2317.64 1531.6 Q2317.64 1540.33 2314.56 1544.94 Q2311.51 1549.52 2305.7 1549.52 Q2299.89 1549.52 2296.81 1544.94 Q2293.75 1540.33 2293.75 1531.6 Q2293.75 1522.85 2296.81 1518.27 Q2299.89 1513.66 2305.7 1513.66 Z\" fill=\"#000000\" fill-rule=\"nonzero\" fill-opacity=\"1\" /><polyline clip-path=\"url(#clip402)\" style=\"stroke:#000000; stroke-linecap:round; stroke-linejoin:round; stroke-width:2; stroke-opacity:0.1; fill:none\" points=\"193.936,1445.77 2352.76,1445.77 \"/>\n",
       "<polyline clip-path=\"url(#clip402)\" style=\"stroke:#000000; stroke-linecap:round; stroke-linejoin:round; stroke-width:2; stroke-opacity:0.1; fill:none\" points=\"193.936,1106.3 2352.76,1106.3 \"/>\n",
       "<polyline clip-path=\"url(#clip402)\" style=\"stroke:#000000; stroke-linecap:round; stroke-linejoin:round; stroke-width:2; stroke-opacity:0.1; fill:none\" points=\"193.936,766.824 2352.76,766.824 \"/>\n",
       "<polyline clip-path=\"url(#clip402)\" style=\"stroke:#000000; stroke-linecap:round; stroke-linejoin:round; stroke-width:2; stroke-opacity:0.1; fill:none\" points=\"193.936,427.352 2352.76,427.352 \"/>\n",
       "<polyline clip-path=\"url(#clip402)\" style=\"stroke:#000000; stroke-linecap:round; stroke-linejoin:round; stroke-width:2; stroke-opacity:0.1; fill:none\" points=\"193.936,87.8803 2352.76,87.8803 \"/>\n",
       "<polyline clip-path=\"url(#clip400)\" style=\"stroke:#000000; stroke-linecap:round; stroke-linejoin:round; stroke-width:4; stroke-opacity:1; fill:none\" points=\"193.936,1486.45 193.936,47.2441 \"/>\n",
       "<polyline clip-path=\"url(#clip400)\" style=\"stroke:#000000; stroke-linecap:round; stroke-linejoin:round; stroke-width:4; stroke-opacity:1; fill:none\" points=\"193.936,1445.77 212.834,1445.77 \"/>\n",
       "<polyline clip-path=\"url(#clip400)\" style=\"stroke:#000000; stroke-linecap:round; stroke-linejoin:round; stroke-width:4; stroke-opacity:1; fill:none\" points=\"193.936,1106.3 212.834,1106.3 \"/>\n",
       "<polyline clip-path=\"url(#clip400)\" style=\"stroke:#000000; stroke-linecap:round; stroke-linejoin:round; stroke-width:4; stroke-opacity:1; fill:none\" points=\"193.936,766.824 212.834,766.824 \"/>\n",
       "<polyline clip-path=\"url(#clip400)\" style=\"stroke:#000000; stroke-linecap:round; stroke-linejoin:round; stroke-width:4; stroke-opacity:1; fill:none\" points=\"193.936,427.352 212.834,427.352 \"/>\n",
       "<polyline clip-path=\"url(#clip400)\" style=\"stroke:#000000; stroke-linecap:round; stroke-linejoin:round; stroke-width:4; stroke-opacity:1; fill:none\" points=\"193.936,87.8803 212.834,87.8803 \"/>\n",
       "<path clip-path=\"url(#clip400)\" d=\"M50.9921 1446.22 L80.6679 1446.22 L80.6679 1450.15 L50.9921 1450.15 L50.9921 1446.22 Z\" fill=\"#000000\" fill-rule=\"nonzero\" fill-opacity=\"1\" /><path clip-path=\"url(#clip400)\" d=\"M91.5706 1459.11 L99.2095 1459.11 L99.2095 1432.75 L90.8993 1434.41 L90.8993 1430.15 L99.1632 1428.49 L103.839 1428.49 L103.839 1459.11 L111.478 1459.11 L111.478 1463.05 L91.5706 1463.05 L91.5706 1459.11 Z\" fill=\"#000000\" fill-rule=\"nonzero\" fill-opacity=\"1\" /><path clip-path=\"url(#clip400)\" d=\"M120.922 1457.17 L125.807 1457.17 L125.807 1463.05 L120.922 1463.05 L120.922 1457.17 Z\" fill=\"#000000\" fill-rule=\"nonzero\" fill-opacity=\"1\" /><path clip-path=\"url(#clip400)\" d=\"M145.992 1431.57 Q142.381 1431.57 140.552 1435.13 Q138.746 1438.67 138.746 1445.8 Q138.746 1452.91 140.552 1456.47 Q142.381 1460.02 145.992 1460.02 Q149.626 1460.02 151.431 1456.47 Q153.26 1452.91 153.26 1445.8 Q153.26 1438.67 151.431 1435.13 Q149.626 1431.57 145.992 1431.57 M145.992 1427.86 Q151.802 1427.86 154.857 1432.47 Q157.936 1437.05 157.936 1445.8 Q157.936 1454.53 154.857 1459.14 Q151.802 1463.72 145.992 1463.72 Q140.181 1463.72 137.103 1459.14 Q134.047 1454.53 134.047 1445.8 Q134.047 1437.05 137.103 1432.47 Q140.181 1427.86 145.992 1427.86 Z\" fill=\"#000000\" fill-rule=\"nonzero\" fill-opacity=\"1\" /><path clip-path=\"url(#clip400)\" d=\"M51.9875 1106.75 L81.6633 1106.75 L81.6633 1110.68 L51.9875 1110.68 L51.9875 1106.75 Z\" fill=\"#000000\" fill-rule=\"nonzero\" fill-opacity=\"1\" /><path clip-path=\"url(#clip400)\" d=\"M101.756 1092.09 Q98.1447 1092.09 96.316 1095.66 Q94.5104 1099.2 94.5104 1106.33 Q94.5104 1113.44 96.316 1117 Q98.1447 1120.54 101.756 1120.54 Q105.39 1120.54 107.196 1117 Q109.024 1113.44 109.024 1106.33 Q109.024 1099.2 107.196 1095.66 Q105.39 1092.09 101.756 1092.09 M101.756 1088.39 Q107.566 1088.39 110.621 1093 Q113.7 1097.58 113.7 1106.33 Q113.7 1115.06 110.621 1119.66 Q107.566 1124.25 101.756 1124.25 Q95.9456 1124.25 92.8669 1119.66 Q89.8114 1115.06 89.8114 1106.33 Q89.8114 1097.58 92.8669 1093 Q95.9456 1088.39 101.756 1088.39 Z\" fill=\"#000000\" fill-rule=\"nonzero\" fill-opacity=\"1\" /><path clip-path=\"url(#clip400)\" d=\"M121.918 1117.7 L126.802 1117.7 L126.802 1123.58 L121.918 1123.58 L121.918 1117.7 Z\" fill=\"#000000\" fill-rule=\"nonzero\" fill-opacity=\"1\" /><path clip-path=\"url(#clip400)\" d=\"M137.033 1089.02 L155.39 1089.02 L155.39 1092.95 L141.316 1092.95 L141.316 1101.42 Q142.334 1101.08 143.353 1100.91 Q144.371 1100.73 145.39 1100.73 Q151.177 1100.73 154.556 1103.9 Q157.936 1107.07 157.936 1112.49 Q157.936 1118.07 154.464 1121.17 Q150.992 1124.25 144.672 1124.25 Q142.496 1124.25 140.228 1123.88 Q137.982 1123.51 135.575 1122.77 L135.575 1118.07 Q137.658 1119.2 139.881 1119.76 Q142.103 1120.31 144.58 1120.31 Q148.584 1120.31 150.922 1118.21 Q153.26 1116.1 153.26 1112.49 Q153.26 1108.88 150.922 1106.77 Q148.584 1104.66 144.58 1104.66 Q142.705 1104.66 140.83 1105.08 Q138.978 1105.5 137.033 1106.38 L137.033 1089.02 Z\" fill=\"#000000\" fill-rule=\"nonzero\" fill-opacity=\"1\" /><path clip-path=\"url(#clip400)\" d=\"M100.76 752.623 Q97.1493 752.623 95.3206 756.188 Q93.515 759.729 93.515 766.859 Q93.515 773.965 95.3206 777.53 Q97.1493 781.072 100.76 781.072 Q104.395 781.072 106.2 777.53 Q108.029 773.965 108.029 766.859 Q108.029 759.729 106.2 756.188 Q104.395 752.623 100.76 752.623 M100.76 748.919 Q106.571 748.919 109.626 753.526 Q112.705 758.109 112.705 766.859 Q112.705 775.586 109.626 780.192 Q106.571 784.775 100.76 784.775 Q94.9502 784.775 91.8715 780.192 Q88.816 775.586 88.816 766.859 Q88.816 758.109 91.8715 753.526 Q94.9502 748.919 100.76 748.919 Z\" fill=\"#000000\" fill-rule=\"nonzero\" fill-opacity=\"1\" /><path clip-path=\"url(#clip400)\" d=\"M120.922 778.224 L125.807 778.224 L125.807 784.104 L120.922 784.104 L120.922 778.224 Z\" fill=\"#000000\" fill-rule=\"nonzero\" fill-opacity=\"1\" /><path clip-path=\"url(#clip400)\" d=\"M145.992 752.623 Q142.381 752.623 140.552 756.188 Q138.746 759.729 138.746 766.859 Q138.746 773.965 140.552 777.53 Q142.381 781.072 145.992 781.072 Q149.626 781.072 151.431 777.53 Q153.26 773.965 153.26 766.859 Q153.26 759.729 151.431 756.188 Q149.626 752.623 145.992 752.623 M145.992 748.919 Q151.802 748.919 154.857 753.526 Q157.936 758.109 157.936 766.859 Q157.936 775.586 154.857 780.192 Q151.802 784.775 145.992 784.775 Q140.181 784.775 137.103 780.192 Q134.047 775.586 134.047 766.859 Q134.047 758.109 137.103 753.526 Q140.181 748.919 145.992 748.919 Z\" fill=\"#000000\" fill-rule=\"nonzero\" fill-opacity=\"1\" /><path clip-path=\"url(#clip400)\" d=\"M101.756 413.151 Q98.1447 413.151 96.316 416.716 Q94.5104 420.257 94.5104 427.387 Q94.5104 434.493 96.316 438.058 Q98.1447 441.6 101.756 441.6 Q105.39 441.6 107.196 438.058 Q109.024 434.493 109.024 427.387 Q109.024 420.257 107.196 416.716 Q105.39 413.151 101.756 413.151 M101.756 409.447 Q107.566 409.447 110.621 414.054 Q113.7 418.637 113.7 427.387 Q113.7 436.114 110.621 440.72 Q107.566 445.303 101.756 445.303 Q95.9456 445.303 92.8669 440.72 Q89.8114 436.114 89.8114 427.387 Q89.8114 418.637 92.8669 414.054 Q95.9456 409.447 101.756 409.447 Z\" fill=\"#000000\" fill-rule=\"nonzero\" fill-opacity=\"1\" /><path clip-path=\"url(#clip400)\" d=\"M121.918 438.753 L126.802 438.753 L126.802 444.632 L121.918 444.632 L121.918 438.753 Z\" fill=\"#000000\" fill-rule=\"nonzero\" fill-opacity=\"1\" /><path clip-path=\"url(#clip400)\" d=\"M137.033 410.072 L155.39 410.072 L155.39 414.007 L141.316 414.007 L141.316 422.48 Q142.334 422.132 143.353 421.97 Q144.371 421.785 145.39 421.785 Q151.177 421.785 154.556 424.956 Q157.936 428.128 157.936 433.544 Q157.936 439.123 154.464 442.225 Q150.992 445.303 144.672 445.303 Q142.496 445.303 140.228 444.933 Q137.982 444.563 135.575 443.822 L135.575 439.123 Q137.658 440.257 139.881 440.813 Q142.103 441.368 144.58 441.368 Q148.584 441.368 150.922 439.262 Q153.26 437.155 153.26 433.544 Q153.26 429.933 150.922 427.827 Q148.584 425.72 144.58 425.72 Q142.705 425.72 140.83 426.137 Q138.978 426.554 137.033 427.433 L137.033 410.072 Z\" fill=\"#000000\" fill-rule=\"nonzero\" fill-opacity=\"1\" /><path clip-path=\"url(#clip400)\" d=\"M91.5706 101.225 L99.2095 101.225 L99.2095 74.8595 L90.8993 76.5262 L90.8993 72.267 L99.1632 70.6003 L103.839 70.6003 L103.839 101.225 L111.478 101.225 L111.478 105.16 L91.5706 105.16 L91.5706 101.225 Z\" fill=\"#000000\" fill-rule=\"nonzero\" fill-opacity=\"1\" /><path clip-path=\"url(#clip400)\" d=\"M120.922 99.2807 L125.807 99.2807 L125.807 105.16 L120.922 105.16 L120.922 99.2807 Z\" fill=\"#000000\" fill-rule=\"nonzero\" fill-opacity=\"1\" /><path clip-path=\"url(#clip400)\" d=\"M145.992 73.679 Q142.381 73.679 140.552 77.2438 Q138.746 80.7854 138.746 87.915 Q138.746 95.0215 140.552 98.5863 Q142.381 102.128 145.992 102.128 Q149.626 102.128 151.431 98.5863 Q153.26 95.0215 153.26 87.915 Q153.26 80.7854 151.431 77.2438 Q149.626 73.679 145.992 73.679 M145.992 69.9753 Q151.802 69.9753 154.857 74.5818 Q157.936 79.1651 157.936 87.915 Q157.936 96.6418 154.857 101.248 Q151.802 105.832 145.992 105.832 Q140.181 105.832 137.103 101.248 Q134.047 96.6418 134.047 87.915 Q134.047 79.1651 137.103 74.5818 Q140.181 69.9753 145.992 69.9753 Z\" fill=\"#000000\" fill-rule=\"nonzero\" fill-opacity=\"1\" /><polyline clip-path=\"url(#clip402)\" style=\"stroke:#009af9; stroke-linecap:round; stroke-linejoin:round; stroke-width:4; stroke-opacity:1; fill:none\" points=\"255.035,195.513 277.664,161.744 300.293,134.022 322.922,112.622 345.551,97.7591 368.18,89.5811 390.81,88.1698 413.439,93.5394 436.068,105.636 458.697,124.34 481.326,149.462 503.955,180.753 526.584,217.9 549.213,260.532 571.843,308.223 594.472,360.495 617.101,416.828 639.73,476.657 662.359,539.386 684.988,604.387 707.617,671.011 730.247,738.593 752.876,806.457 775.505,873.925 798.134,940.322 820.763,1004.99 843.392,1067.27 866.021,1126.55 888.651,1182.24 911.28,1233.78 933.909,1280.65 956.538,1322.39 979.167,1358.57 1001.8,1388.85 1024.43,1412.91 1047.05,1430.51 1069.68,1441.48 1092.31,1445.72 1114.94,1443.16 1137.57,1433.85 1160.2,1417.88 1182.83,1395.4 1205.46,1366.64 1228.09,1331.89 1250.72,1291.49 1273.35,1245.85 1295.98,1195.42 1318.6,1140.71 1341.23,1082.26 1363.86,1020.67 1386.49,956.531 1409.12,890.502 1431.75,823.237 1454.38,755.408 1477.01,687.694 1499.64,620.77 1522.27,555.305 1544.9,491.954 1567.52,431.349 1590.15,374.096 1612.78,320.767 1635.41,271.895 1658.04,227.968 1680.67,189.425 1703.3,156.652 1725.93,129.975 1748.56,109.661 1771.19,95.9134 1793.82,88.8693 1816.45,88.5991 1839.07,95.1055 1861.7,108.323 1884.33,128.121 1906.96,154.3 1929.59,186.599 1952.22,224.696 1974.85,268.21 1997.48,316.705 2020.11,369.698 2042.74,426.659 2065.37,487.019 2087.99,550.174 2110.62,615.494 2133.25,682.326 2155.88,750.003 2178.51,817.847 2201.14,885.182 2223.77,951.334 2246.4,1015.64 2269.03,1077.47 2291.66,1136.18 \"/>\n",
       "<polyline clip-path=\"url(#clip402)\" style=\"stroke:#e26f46; stroke-linecap:round; stroke-linejoin:round; stroke-width:4; stroke-opacity:1; fill:none\" points=\"255.035,399.989 277.664,458.858 300.293,520.804 322.922,585.207 345.551,651.426 368.18,718.797 390.81,786.649 413.439,854.302 436.068,921.081 458.697,986.319 481.326,1049.36 503.955,1109.59 526.584,1166.38 549.213,1219.19 571.843,1267.47 594.472,1310.76 617.101,1348.6 639.73,1380.64 662.359,1406.54 684.988,1426.05 707.617,1438.97 730.247,1445.18 752.876,1444.61 775.505,1437.27 798.134,1423.23 820.763,1402.63 843.392,1375.67 866.021,1342.64 888.651,1303.85 911.28,1259.69 933.909,1210.61 956.538,1157.1 979.167,1099.68 1001.8,1038.94 1024.43,975.486 1047.05,909.943 1069.68,842.969 1092.31,775.235 1114.94,707.417 1137.57,640.193 1160.2,574.233 1182.83,510.198 1205.46,448.728 1228.09,390.435 1250.72,335.903 1273.35,285.677 1295.98,240.258 1318.6,200.101 1341.23,165.606 1363.86,137.118 1386.49,114.922 1409.12,99.2401 1431.75,90.228 1454.38,87.9763 1477.01,92.5074 1499.64,103.776 1522.27,121.67 1544.9,146.009 1567.52,176.552 1590.15,212.993 1612.78,254.967 1635.41,302.055 1658.04,353.788 1680.67,409.647 1703.3,469.075 1725.93,531.478 1748.56,596.233 1771.19,662.692 1793.82,730.191 1816.45,798.057 1839.07,865.61 1861.7,932.177 1884.33,997.091 1906.96,1059.7 1929.59,1119.39 1952.22,1175.56 1974.85,1227.64 1997.48,1275.11 2020.11,1317.51 2042.74,1354.41 2065.37,1385.43 2087.99,1410.27 2110.62,1428.69 2133.25,1440.49 2155.88,1445.56 2178.51,1443.85 2201.14,1435.37 2223.77,1420.22 2246.4,1398.53 2269.03,1370.53 2291.66,1336.51 \"/>\n",
       "<path clip-path=\"url(#clip400)\" d=\"M1926.79 250.738 L2280.8 250.738 L2280.8 95.2176 L1926.79 95.2176  Z\" fill=\"#ffffff\" fill-rule=\"evenodd\" fill-opacity=\"1\"/>\n",
       "<polyline clip-path=\"url(#clip400)\" style=\"stroke:#000000; stroke-linecap:round; stroke-linejoin:round; stroke-width:4; stroke-opacity:1; fill:none\" points=\"1926.79,250.738 2280.8,250.738 2280.8,95.2176 1926.79,95.2176 1926.79,250.738 \"/>\n",
       "<polyline clip-path=\"url(#clip400)\" style=\"stroke:#009af9; stroke-linecap:round; stroke-linejoin:round; stroke-width:4; stroke-opacity:1; fill:none\" points=\"1950.78,147.058 2094.7,147.058 \"/>\n",
       "<path clip-path=\"url(#clip400)\" d=\"M2137.11 139.176 L2137.11 143.203 Q2135.3 142.277 2133.36 141.815 Q2131.42 141.352 2129.33 141.352 Q2126.16 141.352 2124.56 142.324 Q2122.99 143.296 2122.99 145.24 Q2122.99 146.722 2124.12 147.578 Q2125.26 148.412 2128.68 149.176 L2130.14 149.5 Q2134.68 150.472 2136.58 152.254 Q2138.5 154.014 2138.5 157.185 Q2138.5 160.796 2135.63 162.902 Q2132.78 165.009 2127.78 165.009 Q2125.7 165.009 2123.43 164.592 Q2121.18 164.199 2118.68 163.388 L2118.68 158.99 Q2121.05 160.217 2123.34 160.842 Q2125.63 161.444 2127.87 161.444 Q2130.88 161.444 2132.5 160.426 Q2134.12 159.384 2134.12 157.509 Q2134.12 155.773 2132.94 154.847 Q2131.79 153.921 2127.83 153.064 L2126.35 152.717 Q2122.39 151.884 2120.63 150.171 Q2118.87 148.435 2118.87 145.426 Q2118.87 141.768 2121.46 139.778 Q2124.05 137.787 2128.82 137.787 Q2131.18 137.787 2133.27 138.134 Q2135.35 138.481 2137.11 139.176 Z\" fill=\"#000000\" fill-rule=\"nonzero\" fill-opacity=\"1\" /><path clip-path=\"url(#clip400)\" d=\"M2145.28 138.412 L2149.54 138.412 L2149.54 164.338 L2145.28 164.338 L2145.28 138.412 M2145.28 128.319 L2149.54 128.319 L2149.54 133.713 L2145.28 133.713 L2145.28 128.319 Z\" fill=\"#000000\" fill-rule=\"nonzero\" fill-opacity=\"1\" /><path clip-path=\"url(#clip400)\" d=\"M2180 148.689 L2180 164.338 L2175.74 164.338 L2175.74 148.828 Q2175.74 145.148 2174.31 143.319 Q2172.87 141.49 2170 141.49 Q2166.55 141.49 2164.56 143.69 Q2162.57 145.889 2162.57 149.685 L2162.57 164.338 L2158.29 164.338 L2158.29 138.412 L2162.57 138.412 L2162.57 142.44 Q2164.1 140.102 2166.16 138.944 Q2168.24 137.787 2170.95 137.787 Q2175.42 137.787 2177.71 140.565 Q2180 143.319 2180 148.689 Z\" fill=\"#000000\" fill-rule=\"nonzero\" fill-opacity=\"1\" /><path clip-path=\"url(#clip400)\" d=\"M2198.73 128.366 Q2195.63 133.69 2194.12 138.898 Q2192.62 144.106 2192.62 149.453 Q2192.62 154.801 2194.12 160.055 Q2195.65 165.287 2198.73 170.588 L2195.03 170.588 Q2191.55 165.148 2189.82 159.893 Q2188.11 154.639 2188.11 149.453 Q2188.11 144.291 2189.82 139.06 Q2191.53 133.828 2195.03 128.366 L2198.73 128.366 Z\" fill=\"#000000\" fill-rule=\"nonzero\" fill-opacity=\"1\" /><path clip-path=\"url(#clip400)\" d=\"M2228.54 138.412 L2219.17 151.027 L2229.03 164.338 L2224.01 164.338 L2216.46 154.152 L2208.92 164.338 L2203.89 164.338 L2213.96 150.773 L2204.75 138.412 L2209.77 138.412 L2216.65 147.648 L2223.52 138.412 L2228.54 138.412 Z\" fill=\"#000000\" fill-rule=\"nonzero\" fill-opacity=\"1\" /><path clip-path=\"url(#clip400)\" d=\"M2234.38 128.366 L2238.08 128.366 Q2241.55 133.828 2243.27 139.06 Q2245 144.291 2245 149.453 Q2245 154.639 2243.27 159.893 Q2241.55 165.148 2238.08 170.588 L2234.38 170.588 Q2237.46 165.287 2238.96 160.055 Q2240.49 154.801 2240.49 149.453 Q2240.49 144.106 2238.96 138.898 Q2237.46 133.69 2234.38 128.366 Z\" fill=\"#000000\" fill-rule=\"nonzero\" fill-opacity=\"1\" /><polyline clip-path=\"url(#clip400)\" style=\"stroke:#e26f46; stroke-linecap:round; stroke-linejoin:round; stroke-width:4; stroke-opacity:1; fill:none\" points=\"1950.78,198.898 2094.7,198.898 \"/>\n",
       "<path clip-path=\"url(#clip400)\" d=\"M2139.19 191.247 L2139.19 195.229 Q2137.39 194.233 2135.56 193.747 Q2133.75 193.238 2131.9 193.238 Q2127.76 193.238 2125.47 195.877 Q2123.17 198.492 2123.17 203.238 Q2123.17 207.983 2125.47 210.622 Q2127.76 213.238 2131.9 213.238 Q2133.75 213.238 2135.56 212.752 Q2137.39 212.242 2139.19 211.247 L2139.19 215.182 Q2137.41 216.016 2135.49 216.432 Q2133.59 216.849 2131.44 216.849 Q2125.58 216.849 2122.13 213.168 Q2118.68 209.488 2118.68 203.238 Q2118.68 196.895 2122.16 193.261 Q2125.65 189.627 2131.72 189.627 Q2133.68 189.627 2135.56 190.043 Q2137.43 190.437 2139.19 191.247 Z\" fill=\"#000000\" fill-rule=\"nonzero\" fill-opacity=\"1\" /><path clip-path=\"url(#clip400)\" d=\"M2156.65 193.238 Q2153.22 193.238 2151.23 195.923 Q2149.24 198.585 2149.24 203.238 Q2149.24 207.891 2151.21 210.576 Q2153.2 213.238 2156.65 213.238 Q2160.05 213.238 2162.04 210.553 Q2164.03 207.867 2164.03 203.238 Q2164.03 198.631 2162.04 195.946 Q2160.05 193.238 2156.65 193.238 M2156.65 189.627 Q2162.2 189.627 2165.37 193.238 Q2168.54 196.849 2168.54 203.238 Q2168.54 209.604 2165.37 213.238 Q2162.2 216.849 2156.65 216.849 Q2151.07 216.849 2147.9 213.238 Q2144.75 209.604 2144.75 203.238 Q2144.75 196.849 2147.9 193.238 Q2151.07 189.627 2156.65 189.627 Z\" fill=\"#000000\" fill-rule=\"nonzero\" fill-opacity=\"1\" /><path clip-path=\"url(#clip400)\" d=\"M2192.13 191.016 L2192.13 195.043 Q2190.33 194.117 2188.38 193.655 Q2186.44 193.192 2184.36 193.192 Q2181.18 193.192 2179.59 194.164 Q2178.01 195.136 2178.01 197.08 Q2178.01 198.562 2179.15 199.418 Q2180.28 200.252 2183.71 201.016 L2185.17 201.34 Q2189.7 202.312 2191.6 204.094 Q2193.52 205.854 2193.52 209.025 Q2193.52 212.636 2190.65 214.742 Q2187.8 216.849 2182.8 216.849 Q2180.72 216.849 2178.45 216.432 Q2176.21 216.039 2173.71 215.228 L2173.71 210.83 Q2176.07 212.057 2178.36 212.682 Q2180.65 213.284 2182.9 213.284 Q2185.91 213.284 2187.53 212.266 Q2189.15 211.224 2189.15 209.349 Q2189.15 207.613 2187.97 206.687 Q2186.81 205.761 2182.85 204.904 L2181.37 204.557 Q2177.41 203.724 2175.65 202.011 Q2173.89 200.275 2173.89 197.266 Q2173.89 193.608 2176.48 191.618 Q2179.08 189.627 2183.85 189.627 Q2186.21 189.627 2188.29 189.974 Q2190.37 190.321 2192.13 191.016 Z\" fill=\"#000000\" fill-rule=\"nonzero\" fill-opacity=\"1\" /><path clip-path=\"url(#clip400)\" d=\"M2210.54 180.206 Q2207.43 185.53 2205.93 190.738 Q2204.42 195.946 2204.42 201.293 Q2204.42 206.641 2205.93 211.895 Q2207.46 217.127 2210.54 222.428 L2206.83 222.428 Q2203.36 216.988 2201.62 211.733 Q2199.91 206.479 2199.91 201.293 Q2199.91 196.131 2201.62 190.9 Q2203.34 185.668 2206.83 180.206 L2210.54 180.206 Z\" fill=\"#000000\" fill-rule=\"nonzero\" fill-opacity=\"1\" /><path clip-path=\"url(#clip400)\" d=\"M2240.35 190.252 L2230.98 202.867 L2240.84 216.178 L2235.81 216.178 L2228.27 205.992 L2220.72 216.178 L2215.7 216.178 L2225.77 202.613 L2216.55 190.252 L2221.58 190.252 L2228.45 199.488 L2235.33 190.252 L2240.35 190.252 Z\" fill=\"#000000\" fill-rule=\"nonzero\" fill-opacity=\"1\" /><path clip-path=\"url(#clip400)\" d=\"M2246.18 180.206 L2249.89 180.206 Q2253.36 185.668 2255.07 190.9 Q2256.81 196.131 2256.81 201.293 Q2256.81 206.479 2255.07 211.733 Q2253.36 216.988 2249.89 222.428 L2246.18 222.428 Q2249.26 217.127 2250.77 211.895 Q2252.29 206.641 2252.29 201.293 Q2252.29 195.946 2250.77 190.738 Q2249.26 185.53 2246.18 180.206 Z\" fill=\"#000000\" fill-rule=\"nonzero\" fill-opacity=\"1\" /></svg>\n"
      ]
     },
     "execution_count": 82,
     "metadata": {},
     "output_type": "execute_result"
    }
   ],
   "source": [
    "x = 1:.1:10\n",
    "y = sin.(x)\n",
    "z = cos.(x)\n",
    "\n",
    "plot(x, y, label=\"sin(x)\")\n",
    "plot!(x, z, label=\"cos(x)\") # Hold on the previous plot"
   ]
  },
  {
   "cell_type": "code",
   "execution_count": 83,
   "metadata": {},
   "outputs": [
    {
     "data": {
      "text/latex": [
       "\\textbf{Scatter Plot}\n",
       "\n"
      ],
      "text/markdown": [
       "**Scatter Plot**\n"
      ],
      "text/plain": [
       "  \u001b[1mScatter Plot\u001b[22m"
      ]
     },
     "execution_count": 83,
     "metadata": {},
     "output_type": "execute_result"
    }
   ],
   "source": [
    "md\"**Scatter Plot**\""
   ]
  },
  {
   "cell_type": "code",
   "execution_count": 84,
   "metadata": {},
   "outputs": [
    {
     "data": {
      "image/svg+xml": [
       "<?xml version=\"1.0\" encoding=\"utf-8\"?>\n",
       "<svg xmlns=\"http://www.w3.org/2000/svg\" xmlns:xlink=\"http://www.w3.org/1999/xlink\" width=\"600\" height=\"400\" viewBox=\"0 0 2400 1600\">\n",
       "<defs>\n",
       "  <clipPath id=\"clip440\">\n",
       "    <rect x=\"0\" y=\"0\" width=\"2400\" height=\"1600\"/>\n",
       "  </clipPath>\n",
       "</defs>\n",
       "<path clip-path=\"url(#clip440)\" d=\"M0 1600 L2400 1600 L2400 0 L0 0  Z\" fill=\"#ffffff\" fill-rule=\"evenodd\" fill-opacity=\"1\"/>\n",
       "<defs>\n",
       "  <clipPath id=\"clip441\">\n",
       "    <rect x=\"480\" y=\"0\" width=\"1681\" height=\"1600\"/>\n",
       "  </clipPath>\n",
       "</defs>\n",
       "<path clip-path=\"url(#clip440)\" d=\"M193.936 1486.45 L2352.76 1486.45 L2352.76 47.2441 L193.936 47.2441  Z\" fill=\"#ffffff\" fill-rule=\"evenodd\" fill-opacity=\"1\"/>\n",
       "<defs>\n",
       "  <clipPath id=\"clip442\">\n",
       "    <rect x=\"193\" y=\"47\" width=\"2160\" height=\"1440\"/>\n",
       "  </clipPath>\n",
       "</defs>\n",
       "<polyline clip-path=\"url(#clip442)\" style=\"stroke:#000000; stroke-linecap:round; stroke-linejoin:round; stroke-width:2; stroke-opacity:0.1; fill:none\" points=\"481.326,1486.45 481.326,47.2441 \"/>\n",
       "<polyline clip-path=\"url(#clip442)\" style=\"stroke:#000000; stroke-linecap:round; stroke-linejoin:round; stroke-width:2; stroke-opacity:0.1; fill:none\" points=\"933.909,1486.45 933.909,47.2441 \"/>\n",
       "<polyline clip-path=\"url(#clip442)\" style=\"stroke:#000000; stroke-linecap:round; stroke-linejoin:round; stroke-width:2; stroke-opacity:0.1; fill:none\" points=\"1386.49,1486.45 1386.49,47.2441 \"/>\n",
       "<polyline clip-path=\"url(#clip442)\" style=\"stroke:#000000; stroke-linecap:round; stroke-linejoin:round; stroke-width:2; stroke-opacity:0.1; fill:none\" points=\"1839.07,1486.45 1839.07,47.2441 \"/>\n",
       "<polyline clip-path=\"url(#clip442)\" style=\"stroke:#000000; stroke-linecap:round; stroke-linejoin:round; stroke-width:2; stroke-opacity:0.1; fill:none\" points=\"2291.66,1486.45 2291.66,47.2441 \"/>\n",
       "<polyline clip-path=\"url(#clip440)\" style=\"stroke:#000000; stroke-linecap:round; stroke-linejoin:round; stroke-width:4; stroke-opacity:1; fill:none\" points=\"193.936,1486.45 2352.76,1486.45 \"/>\n",
       "<polyline clip-path=\"url(#clip440)\" style=\"stroke:#000000; stroke-linecap:round; stroke-linejoin:round; stroke-width:4; stroke-opacity:1; fill:none\" points=\"481.326,1486.45 481.326,1467.55 \"/>\n",
       "<polyline clip-path=\"url(#clip440)\" style=\"stroke:#000000; stroke-linecap:round; stroke-linejoin:round; stroke-width:4; stroke-opacity:1; fill:none\" points=\"933.909,1486.45 933.909,1467.55 \"/>\n",
       "<polyline clip-path=\"url(#clip440)\" style=\"stroke:#000000; stroke-linecap:round; stroke-linejoin:round; stroke-width:4; stroke-opacity:1; fill:none\" points=\"1386.49,1486.45 1386.49,1467.55 \"/>\n",
       "<polyline clip-path=\"url(#clip440)\" style=\"stroke:#000000; stroke-linecap:round; stroke-linejoin:round; stroke-width:4; stroke-opacity:1; fill:none\" points=\"1839.07,1486.45 1839.07,1467.55 \"/>\n",
       "<polyline clip-path=\"url(#clip440)\" style=\"stroke:#000000; stroke-linecap:round; stroke-linejoin:round; stroke-width:4; stroke-opacity:1; fill:none\" points=\"2291.66,1486.45 2291.66,1467.55 \"/>\n",
       "<path clip-path=\"url(#clip440)\" d=\"M475.979 1544.91 L492.298 1544.91 L492.298 1548.85 L470.354 1548.85 L470.354 1544.91 Q473.016 1542.16 477.599 1537.53 Q482.206 1532.88 483.386 1531.53 Q485.632 1529.01 486.511 1527.27 Q487.414 1525.51 487.414 1523.82 Q487.414 1521.07 485.47 1519.33 Q483.548 1517.6 480.446 1517.6 Q478.247 1517.6 475.794 1518.36 Q473.363 1519.13 470.585 1520.68 L470.585 1515.95 Q473.409 1514.82 475.863 1514.24 Q478.317 1513.66 480.354 1513.66 Q485.724 1513.66 488.919 1516.35 Q492.113 1519.03 492.113 1523.52 Q492.113 1525.65 491.303 1527.57 Q490.516 1529.47 488.409 1532.07 Q487.831 1532.74 484.729 1535.95 Q481.627 1539.15 475.979 1544.91 Z\" fill=\"#000000\" fill-rule=\"nonzero\" fill-opacity=\"1\" /><path clip-path=\"url(#clip440)\" d=\"M936.918 1518.36 L925.113 1536.81 L936.918 1536.81 L936.918 1518.36 M935.691 1514.29 L941.571 1514.29 L941.571 1536.81 L946.501 1536.81 L946.501 1540.7 L941.571 1540.7 L941.571 1548.85 L936.918 1548.85 L936.918 1540.7 L921.316 1540.7 L921.316 1536.19 L935.691 1514.29 Z\" fill=\"#000000\" fill-rule=\"nonzero\" fill-opacity=\"1\" /><path clip-path=\"url(#clip440)\" d=\"M1386.9 1529.7 Q1383.75 1529.7 1381.9 1531.86 Q1380.07 1534.01 1380.07 1537.76 Q1380.07 1541.49 1381.9 1543.66 Q1383.75 1545.82 1386.9 1545.82 Q1390.04 1545.82 1391.87 1543.66 Q1393.73 1541.49 1393.73 1537.76 Q1393.73 1534.01 1391.87 1531.86 Q1390.04 1529.7 1386.9 1529.7 M1396.18 1515.05 L1396.18 1519.31 Q1394.42 1518.48 1392.61 1518.04 Q1390.83 1517.6 1389.07 1517.6 Q1384.44 1517.6 1381.99 1520.72 Q1379.56 1523.85 1379.21 1530.17 Q1380.58 1528.15 1382.64 1527.09 Q1384.7 1526 1387.17 1526 Q1392.38 1526 1395.39 1529.17 Q1398.42 1532.32 1398.42 1537.76 Q1398.42 1543.08 1395.28 1546.3 Q1392.13 1549.52 1386.9 1549.52 Q1380.9 1549.52 1377.73 1544.94 Q1374.56 1540.33 1374.56 1531.6 Q1374.56 1523.41 1378.45 1518.55 Q1382.34 1513.66 1388.89 1513.66 Q1390.65 1513.66 1392.43 1514.01 Q1394.23 1514.36 1396.18 1515.05 Z\" fill=\"#000000\" fill-rule=\"nonzero\" fill-opacity=\"1\" /><path clip-path=\"url(#clip440)\" d=\"M1839.07 1532.44 Q1835.74 1532.44 1833.82 1534.22 Q1831.92 1536 1831.92 1539.13 Q1831.92 1542.25 1833.82 1544.03 Q1835.74 1545.82 1839.07 1545.82 Q1842.41 1545.82 1844.33 1544.03 Q1846.25 1542.23 1846.25 1539.13 Q1846.25 1536 1844.33 1534.22 Q1842.43 1532.44 1839.07 1532.44 M1834.4 1530.45 Q1831.39 1529.7 1829.7 1527.64 Q1828.03 1525.58 1828.03 1522.62 Q1828.03 1518.48 1830.97 1516.07 Q1833.94 1513.66 1839.07 1513.66 Q1844.24 1513.66 1847.18 1516.07 Q1850.12 1518.48 1850.12 1522.62 Q1850.12 1525.58 1848.43 1527.64 Q1846.76 1529.7 1843.77 1530.45 Q1847.15 1531.23 1849.03 1533.52 Q1850.93 1535.82 1850.93 1539.13 Q1850.93 1544.15 1847.85 1546.83 Q1844.79 1549.52 1839.07 1549.52 Q1833.36 1549.52 1830.28 1546.83 Q1827.22 1544.15 1827.22 1539.13 Q1827.22 1535.82 1829.12 1533.52 Q1831.02 1531.23 1834.4 1530.45 M1832.69 1523.06 Q1832.69 1525.75 1834.35 1527.25 Q1836.04 1528.76 1839.07 1528.76 Q1842.08 1528.76 1843.77 1527.25 Q1845.49 1525.75 1845.49 1523.06 Q1845.49 1520.38 1843.77 1518.87 Q1842.08 1517.37 1839.07 1517.37 Q1836.04 1517.37 1834.35 1518.87 Q1832.69 1520.38 1832.69 1523.06 Z\" fill=\"#000000\" fill-rule=\"nonzero\" fill-opacity=\"1\" /><path clip-path=\"url(#clip440)\" d=\"M2266.34 1544.91 L2273.98 1544.91 L2273.98 1518.55 L2265.67 1520.21 L2265.67 1515.95 L2273.94 1514.29 L2278.61 1514.29 L2278.61 1544.91 L2286.25 1544.91 L2286.25 1548.85 L2266.34 1548.85 L2266.34 1544.91 Z\" fill=\"#000000\" fill-rule=\"nonzero\" fill-opacity=\"1\" /><path clip-path=\"url(#clip440)\" d=\"M2305.7 1517.37 Q2302.09 1517.37 2300.26 1520.93 Q2298.45 1524.47 2298.45 1531.6 Q2298.45 1538.71 2300.26 1542.27 Q2302.09 1545.82 2305.7 1545.82 Q2309.33 1545.82 2311.14 1542.27 Q2312.96 1538.71 2312.96 1531.6 Q2312.96 1524.47 2311.14 1520.93 Q2309.33 1517.37 2305.7 1517.37 M2305.7 1513.66 Q2311.51 1513.66 2314.56 1518.27 Q2317.64 1522.85 2317.64 1531.6 Q2317.64 1540.33 2314.56 1544.94 Q2311.51 1549.52 2305.7 1549.52 Q2299.89 1549.52 2296.81 1544.94 Q2293.75 1540.33 2293.75 1531.6 Q2293.75 1522.85 2296.81 1518.27 Q2299.89 1513.66 2305.7 1513.66 Z\" fill=\"#000000\" fill-rule=\"nonzero\" fill-opacity=\"1\" /><polyline clip-path=\"url(#clip442)\" style=\"stroke:#000000; stroke-linecap:round; stroke-linejoin:round; stroke-width:2; stroke-opacity:0.1; fill:none\" points=\"193.936,1447.88 2352.76,1447.88 \"/>\n",
       "<polyline clip-path=\"url(#clip442)\" style=\"stroke:#000000; stroke-linecap:round; stroke-linejoin:round; stroke-width:2; stroke-opacity:0.1; fill:none\" points=\"193.936,1105.97 2352.76,1105.97 \"/>\n",
       "<polyline clip-path=\"url(#clip442)\" style=\"stroke:#000000; stroke-linecap:round; stroke-linejoin:round; stroke-width:2; stroke-opacity:0.1; fill:none\" points=\"193.936,764.064 2352.76,764.064 \"/>\n",
       "<polyline clip-path=\"url(#clip442)\" style=\"stroke:#000000; stroke-linecap:round; stroke-linejoin:round; stroke-width:2; stroke-opacity:0.1; fill:none\" points=\"193.936,422.155 2352.76,422.155 \"/>\n",
       "<polyline clip-path=\"url(#clip442)\" style=\"stroke:#000000; stroke-linecap:round; stroke-linejoin:round; stroke-width:2; stroke-opacity:0.1; fill:none\" points=\"193.936,80.2461 2352.76,80.2461 \"/>\n",
       "<polyline clip-path=\"url(#clip440)\" style=\"stroke:#000000; stroke-linecap:round; stroke-linejoin:round; stroke-width:4; stroke-opacity:1; fill:none\" points=\"193.936,1486.45 193.936,47.2441 \"/>\n",
       "<polyline clip-path=\"url(#clip440)\" style=\"stroke:#000000; stroke-linecap:round; stroke-linejoin:round; stroke-width:4; stroke-opacity:1; fill:none\" points=\"193.936,1447.88 212.834,1447.88 \"/>\n",
       "<polyline clip-path=\"url(#clip440)\" style=\"stroke:#000000; stroke-linecap:round; stroke-linejoin:round; stroke-width:4; stroke-opacity:1; fill:none\" points=\"193.936,1105.97 212.834,1105.97 \"/>\n",
       "<polyline clip-path=\"url(#clip440)\" style=\"stroke:#000000; stroke-linecap:round; stroke-linejoin:round; stroke-width:4; stroke-opacity:1; fill:none\" points=\"193.936,764.064 212.834,764.064 \"/>\n",
       "<polyline clip-path=\"url(#clip440)\" style=\"stroke:#000000; stroke-linecap:round; stroke-linejoin:round; stroke-width:4; stroke-opacity:1; fill:none\" points=\"193.936,422.155 212.834,422.155 \"/>\n",
       "<polyline clip-path=\"url(#clip440)\" style=\"stroke:#000000; stroke-linecap:round; stroke-linejoin:round; stroke-width:4; stroke-opacity:1; fill:none\" points=\"193.936,80.2461 212.834,80.2461 \"/>\n",
       "<path clip-path=\"url(#clip440)\" d=\"M50.9921 1448.33 L80.6679 1448.33 L80.6679 1452.27 L50.9921 1452.27 L50.9921 1448.33 Z\" fill=\"#000000\" fill-rule=\"nonzero\" fill-opacity=\"1\" /><path clip-path=\"url(#clip440)\" d=\"M91.5706 1461.23 L99.2095 1461.23 L99.2095 1434.86 L90.8993 1436.53 L90.8993 1432.27 L99.1632 1430.6 L103.839 1430.6 L103.839 1461.23 L111.478 1461.23 L111.478 1465.16 L91.5706 1465.16 L91.5706 1461.23 Z\" fill=\"#000000\" fill-rule=\"nonzero\" fill-opacity=\"1\" /><path clip-path=\"url(#clip440)\" d=\"M120.922 1459.28 L125.807 1459.28 L125.807 1465.16 L120.922 1465.16 L120.922 1459.28 Z\" fill=\"#000000\" fill-rule=\"nonzero\" fill-opacity=\"1\" /><path clip-path=\"url(#clip440)\" d=\"M145.992 1433.68 Q142.381 1433.68 140.552 1437.24 Q138.746 1440.79 138.746 1447.92 Q138.746 1455.02 140.552 1458.59 Q142.381 1462.13 145.992 1462.13 Q149.626 1462.13 151.431 1458.59 Q153.26 1455.02 153.26 1447.92 Q153.26 1440.79 151.431 1437.24 Q149.626 1433.68 145.992 1433.68 M145.992 1429.98 Q151.802 1429.98 154.857 1434.58 Q157.936 1439.17 157.936 1447.92 Q157.936 1456.64 154.857 1461.25 Q151.802 1465.83 145.992 1465.83 Q140.181 1465.83 137.103 1461.25 Q134.047 1456.64 134.047 1447.92 Q134.047 1439.17 137.103 1434.58 Q140.181 1429.98 145.992 1429.98 Z\" fill=\"#000000\" fill-rule=\"nonzero\" fill-opacity=\"1\" /><path clip-path=\"url(#clip440)\" d=\"M51.9875 1106.42 L81.6633 1106.42 L81.6633 1110.36 L51.9875 1110.36 L51.9875 1106.42 Z\" fill=\"#000000\" fill-rule=\"nonzero\" fill-opacity=\"1\" /><path clip-path=\"url(#clip440)\" d=\"M101.756 1091.77 Q98.1447 1091.77 96.316 1095.34 Q94.5104 1098.88 94.5104 1106.01 Q94.5104 1113.11 96.316 1116.68 Q98.1447 1120.22 101.756 1120.22 Q105.39 1120.22 107.196 1116.68 Q109.024 1113.11 109.024 1106.01 Q109.024 1098.88 107.196 1095.34 Q105.39 1091.77 101.756 1091.77 M101.756 1088.07 Q107.566 1088.07 110.621 1092.67 Q113.7 1097.26 113.7 1106.01 Q113.7 1114.73 110.621 1119.34 Q107.566 1123.92 101.756 1123.92 Q95.9456 1123.92 92.8669 1119.34 Q89.8114 1114.73 89.8114 1106.01 Q89.8114 1097.26 92.8669 1092.67 Q95.9456 1088.07 101.756 1088.07 Z\" fill=\"#000000\" fill-rule=\"nonzero\" fill-opacity=\"1\" /><path clip-path=\"url(#clip440)\" d=\"M121.918 1117.37 L126.802 1117.37 L126.802 1123.25 L121.918 1123.25 L121.918 1117.37 Z\" fill=\"#000000\" fill-rule=\"nonzero\" fill-opacity=\"1\" /><path clip-path=\"url(#clip440)\" d=\"M137.033 1088.69 L155.39 1088.69 L155.39 1092.63 L141.316 1092.63 L141.316 1101.1 Q142.334 1100.75 143.353 1100.59 Q144.371 1100.41 145.39 1100.41 Q151.177 1100.41 154.556 1103.58 Q157.936 1106.75 157.936 1112.16 Q157.936 1117.74 154.464 1120.84 Q150.992 1123.92 144.672 1123.92 Q142.496 1123.92 140.228 1123.55 Q137.982 1123.18 135.575 1122.44 L135.575 1117.74 Q137.658 1118.88 139.881 1119.43 Q142.103 1119.99 144.58 1119.99 Q148.584 1119.99 150.922 1117.88 Q153.26 1115.78 153.26 1112.16 Q153.26 1108.55 150.922 1106.45 Q148.584 1104.34 144.58 1104.34 Q142.705 1104.34 140.83 1104.76 Q138.978 1105.17 137.033 1106.05 L137.033 1088.69 Z\" fill=\"#000000\" fill-rule=\"nonzero\" fill-opacity=\"1\" /><path clip-path=\"url(#clip440)\" d=\"M100.76 749.862 Q97.1493 749.862 95.3206 753.427 Q93.515 756.969 93.515 764.098 Q93.515 771.205 95.3206 774.77 Q97.1493 778.311 100.76 778.311 Q104.395 778.311 106.2 774.77 Q108.029 771.205 108.029 764.098 Q108.029 756.969 106.2 753.427 Q104.395 749.862 100.76 749.862 M100.76 746.159 Q106.571 746.159 109.626 750.765 Q112.705 755.348 112.705 764.098 Q112.705 772.825 109.626 777.432 Q106.571 782.015 100.76 782.015 Q94.9502 782.015 91.8715 777.432 Q88.816 772.825 88.816 764.098 Q88.816 755.348 91.8715 750.765 Q94.9502 746.159 100.76 746.159 Z\" fill=\"#000000\" fill-rule=\"nonzero\" fill-opacity=\"1\" /><path clip-path=\"url(#clip440)\" d=\"M120.922 775.464 L125.807 775.464 L125.807 781.344 L120.922 781.344 L120.922 775.464 Z\" fill=\"#000000\" fill-rule=\"nonzero\" fill-opacity=\"1\" /><path clip-path=\"url(#clip440)\" d=\"M145.992 749.862 Q142.381 749.862 140.552 753.427 Q138.746 756.969 138.746 764.098 Q138.746 771.205 140.552 774.77 Q142.381 778.311 145.992 778.311 Q149.626 778.311 151.431 774.77 Q153.26 771.205 153.26 764.098 Q153.26 756.969 151.431 753.427 Q149.626 749.862 145.992 749.862 M145.992 746.159 Q151.802 746.159 154.857 750.765 Q157.936 755.348 157.936 764.098 Q157.936 772.825 154.857 777.432 Q151.802 782.015 145.992 782.015 Q140.181 782.015 137.103 777.432 Q134.047 772.825 134.047 764.098 Q134.047 755.348 137.103 750.765 Q140.181 746.159 145.992 746.159 Z\" fill=\"#000000\" fill-rule=\"nonzero\" fill-opacity=\"1\" /><path clip-path=\"url(#clip440)\" d=\"M101.756 407.954 Q98.1447 407.954 96.316 411.518 Q94.5104 415.06 94.5104 422.19 Q94.5104 429.296 96.316 432.861 Q98.1447 436.402 101.756 436.402 Q105.39 436.402 107.196 432.861 Q109.024 429.296 109.024 422.19 Q109.024 415.06 107.196 411.518 Q105.39 407.954 101.756 407.954 M101.756 404.25 Q107.566 404.25 110.621 408.856 Q113.7 413.44 113.7 422.19 Q113.7 430.916 110.621 435.523 Q107.566 440.106 101.756 440.106 Q95.9456 440.106 92.8669 435.523 Q89.8114 430.916 89.8114 422.19 Q89.8114 413.44 92.8669 408.856 Q95.9456 404.25 101.756 404.25 Z\" fill=\"#000000\" fill-rule=\"nonzero\" fill-opacity=\"1\" /><path clip-path=\"url(#clip440)\" d=\"M121.918 433.555 L126.802 433.555 L126.802 439.435 L121.918 439.435 L121.918 433.555 Z\" fill=\"#000000\" fill-rule=\"nonzero\" fill-opacity=\"1\" /><path clip-path=\"url(#clip440)\" d=\"M137.033 404.875 L155.39 404.875 L155.39 408.81 L141.316 408.81 L141.316 417.282 Q142.334 416.935 143.353 416.773 Q144.371 416.588 145.39 416.588 Q151.177 416.588 154.556 419.759 Q157.936 422.93 157.936 428.347 Q157.936 433.926 154.464 437.027 Q150.992 440.106 144.672 440.106 Q142.496 440.106 140.228 439.736 Q137.982 439.365 135.575 438.625 L135.575 433.926 Q137.658 435.06 139.881 435.615 Q142.103 436.171 144.58 436.171 Q148.584 436.171 150.922 434.065 Q153.26 431.958 153.26 428.347 Q153.26 424.736 150.922 422.629 Q148.584 420.523 144.58 420.523 Q142.705 420.523 140.83 420.94 Q138.978 421.356 137.033 422.236 L137.033 404.875 Z\" fill=\"#000000\" fill-rule=\"nonzero\" fill-opacity=\"1\" /><path clip-path=\"url(#clip440)\" d=\"M91.5706 93.591 L99.2095 93.591 L99.2095 67.2254 L90.8993 68.892 L90.8993 64.6328 L99.1632 62.9661 L103.839 62.9661 L103.839 93.591 L111.478 93.591 L111.478 97.5261 L91.5706 97.5261 L91.5706 93.591 Z\" fill=\"#000000\" fill-rule=\"nonzero\" fill-opacity=\"1\" /><path clip-path=\"url(#clip440)\" d=\"M120.922 91.6465 L125.807 91.6465 L125.807 97.5261 L120.922 97.5261 L120.922 91.6465 Z\" fill=\"#000000\" fill-rule=\"nonzero\" fill-opacity=\"1\" /><path clip-path=\"url(#clip440)\" d=\"M145.992 66.0448 Q142.381 66.0448 140.552 69.6096 Q138.746 73.1512 138.746 80.2808 Q138.746 87.3873 140.552 90.9521 Q142.381 94.4937 145.992 94.4937 Q149.626 94.4937 151.431 90.9521 Q153.26 87.3873 153.26 80.2808 Q153.26 73.1512 151.431 69.6096 Q149.626 66.0448 145.992 66.0448 M145.992 62.3411 Q151.802 62.3411 154.857 66.9476 Q157.936 71.5309 157.936 80.2808 Q157.936 89.0076 154.857 93.6141 Q151.802 98.1974 145.992 98.1974 Q140.181 98.1974 137.103 93.6141 Q134.047 89.0076 134.047 80.2808 Q134.047 71.5309 137.103 66.9476 Q140.181 62.3411 145.992 62.3411 Z\" fill=\"#000000\" fill-rule=\"nonzero\" fill-opacity=\"1\" /><circle clip-path=\"url(#clip442)\" cx=\"255.035\" cy=\"394.595\" r=\"14.4\" fill=\"#009af9\" fill-rule=\"evenodd\" fill-opacity=\"1\" stroke=\"#000000\" stroke-opacity=\"1\" stroke-width=\"3.2\"/>\n",
       "<circle clip-path=\"url(#clip442)\" cx=\"481.326\" cy=\"863.559\" r=\"14.4\" fill=\"#009af9\" fill-rule=\"evenodd\" fill-opacity=\"1\" stroke=\"#000000\" stroke-opacity=\"1\" stroke-width=\"3.2\"/>\n",
       "<circle clip-path=\"url(#clip442)\" cx=\"707.617\" cy=\"963.833\" r=\"14.4\" fill=\"#009af9\" fill-rule=\"evenodd\" fill-opacity=\"1\" stroke=\"#000000\" stroke-opacity=\"1\" stroke-width=\"3.2\"/>\n",
       "<circle clip-path=\"url(#clip442)\" cx=\"933.909\" cy=\"496.105\" r=\"14.4\" fill=\"#009af9\" fill-rule=\"evenodd\" fill-opacity=\"1\" stroke=\"#000000\" stroke-opacity=\"1\" stroke-width=\"3.2\"/>\n",
       "<circle clip-path=\"url(#clip442)\" cx=\"1160.2\" cy=\"225.411\" r=\"14.4\" fill=\"#009af9\" fill-rule=\"evenodd\" fill-opacity=\"1\" stroke=\"#000000\" stroke-opacity=\"1\" stroke-width=\"3.2\"/>\n",
       "<circle clip-path=\"url(#clip442)\" cx=\"1386.49\" cy=\"1255.03\" r=\"14.4\" fill=\"#009af9\" fill-rule=\"evenodd\" fill-opacity=\"1\" stroke=\"#000000\" stroke-opacity=\"1\" stroke-width=\"3.2\"/>\n",
       "<circle clip-path=\"url(#clip442)\" cx=\"1612.78\" cy=\"1341.09\" r=\"14.4\" fill=\"#009af9\" fill-rule=\"evenodd\" fill-opacity=\"1\" stroke=\"#000000\" stroke-opacity=\"1\" stroke-width=\"3.2\"/>\n",
       "<circle clip-path=\"url(#clip442)\" cx=\"1839.07\" cy=\"1445.72\" r=\"14.4\" fill=\"#009af9\" fill-rule=\"evenodd\" fill-opacity=\"1\" stroke=\"#000000\" stroke-opacity=\"1\" stroke-width=\"3.2\"/>\n",
       "<circle clip-path=\"url(#clip442)\" cx=\"2065.37\" cy=\"87.9763\" r=\"14.4\" fill=\"#009af9\" fill-rule=\"evenodd\" fill-opacity=\"1\" stroke=\"#000000\" stroke-opacity=\"1\" stroke-width=\"3.2\"/>\n",
       "<circle clip-path=\"url(#clip442)\" cx=\"2291.66\" cy=\"379.499\" r=\"14.4\" fill=\"#009af9\" fill-rule=\"evenodd\" fill-opacity=\"1\" stroke=\"#000000\" stroke-opacity=\"1\" stroke-width=\"3.2\"/>\n",
       "</svg>\n"
      ]
     },
     "execution_count": 84,
     "metadata": {},
     "output_type": "execute_result"
    }
   ],
   "source": [
    "x = range(1, 10)\n",
    "y = cos.(x.^3)\n",
    "scatter(x, y, legend=false)"
   ]
  },
  {
   "cell_type": "code",
   "execution_count": 85,
   "metadata": {},
   "outputs": [
    {
     "data": {
      "text/latex": [
       "\\textbf{Uniform Distribtion}\n",
       "\n"
      ],
      "text/markdown": [
       "**Uniform Distribtion**\n"
      ],
      "text/plain": [
       "  \u001b[1mUniform Distribtion\u001b[22m"
      ]
     },
     "execution_count": 85,
     "metadata": {},
     "output_type": "execute_result"
    }
   ],
   "source": [
    "md\"**Uniform Distribtion**\""
   ]
  },
  {
   "cell_type": "code",
   "execution_count": 86,
   "metadata": {},
   "outputs": [],
   "source": [
    "?rand;"
   ]
  },
  {
   "cell_type": "code",
   "execution_count": 87,
   "metadata": {},
   "outputs": [
    {
     "data": {
      "image/svg+xml": [
       "<?xml version=\"1.0\" encoding=\"utf-8\"?>\n",
       "<svg xmlns=\"http://www.w3.org/2000/svg\" xmlns:xlink=\"http://www.w3.org/1999/xlink\" width=\"600\" height=\"400\" viewBox=\"0 0 2400 1600\">\n",
       "<defs>\n",
       "  <clipPath id=\"clip480\">\n",
       "    <rect x=\"0\" y=\"0\" width=\"2400\" height=\"1600\"/>\n",
       "  </clipPath>\n",
       "</defs>\n",
       "<path clip-path=\"url(#clip480)\" d=\"M0 1600 L2400 1600 L2400 0 L0 0  Z\" fill=\"#ffffff\" fill-rule=\"evenodd\" fill-opacity=\"1\"/>\n",
       "<defs>\n",
       "  <clipPath id=\"clip481\">\n",
       "    <rect x=\"480\" y=\"0\" width=\"1681\" height=\"1600\"/>\n",
       "  </clipPath>\n",
       "</defs>\n",
       "<path clip-path=\"url(#clip480)\" d=\"M201.019 1486.45 L2352.76 1486.45 L2352.76 47.2441 L201.019 47.2441  Z\" fill=\"#ffffff\" fill-rule=\"evenodd\" fill-opacity=\"1\"/>\n",
       "<defs>\n",
       "  <clipPath id=\"clip482\">\n",
       "    <rect x=\"201\" y=\"47\" width=\"2153\" height=\"1440\"/>\n",
       "  </clipPath>\n",
       "</defs>\n",
       "<polyline clip-path=\"url(#clip482)\" style=\"stroke:#000000; stroke-linecap:round; stroke-linejoin:round; stroke-width:2; stroke-opacity:0.1; fill:none\" points=\"319.369,1486.45 319.369,47.2441 \"/>\n",
       "<polyline clip-path=\"url(#clip482)\" style=\"stroke:#000000; stroke-linecap:round; stroke-linejoin:round; stroke-width:2; stroke-opacity:0.1; fill:none\" points=\"798.128,1486.45 798.128,47.2441 \"/>\n",
       "<polyline clip-path=\"url(#clip482)\" style=\"stroke:#000000; stroke-linecap:round; stroke-linejoin:round; stroke-width:2; stroke-opacity:0.1; fill:none\" points=\"1276.89,1486.45 1276.89,47.2441 \"/>\n",
       "<polyline clip-path=\"url(#clip482)\" style=\"stroke:#000000; stroke-linecap:round; stroke-linejoin:round; stroke-width:2; stroke-opacity:0.1; fill:none\" points=\"1755.65,1486.45 1755.65,47.2441 \"/>\n",
       "<polyline clip-path=\"url(#clip482)\" style=\"stroke:#000000; stroke-linecap:round; stroke-linejoin:round; stroke-width:2; stroke-opacity:0.1; fill:none\" points=\"2234.41,1486.45 2234.41,47.2441 \"/>\n",
       "<polyline clip-path=\"url(#clip480)\" style=\"stroke:#000000; stroke-linecap:round; stroke-linejoin:round; stroke-width:4; stroke-opacity:1; fill:none\" points=\"201.019,1486.45 2352.76,1486.45 \"/>\n",
       "<polyline clip-path=\"url(#clip480)\" style=\"stroke:#000000; stroke-linecap:round; stroke-linejoin:round; stroke-width:4; stroke-opacity:1; fill:none\" points=\"319.369,1486.45 319.369,1467.55 \"/>\n",
       "<polyline clip-path=\"url(#clip480)\" style=\"stroke:#000000; stroke-linecap:round; stroke-linejoin:round; stroke-width:4; stroke-opacity:1; fill:none\" points=\"798.128,1486.45 798.128,1467.55 \"/>\n",
       "<polyline clip-path=\"url(#clip480)\" style=\"stroke:#000000; stroke-linecap:round; stroke-linejoin:round; stroke-width:4; stroke-opacity:1; fill:none\" points=\"1276.89,1486.45 1276.89,1467.55 \"/>\n",
       "<polyline clip-path=\"url(#clip480)\" style=\"stroke:#000000; stroke-linecap:round; stroke-linejoin:round; stroke-width:4; stroke-opacity:1; fill:none\" points=\"1755.65,1486.45 1755.65,1467.55 \"/>\n",
       "<polyline clip-path=\"url(#clip480)\" style=\"stroke:#000000; stroke-linecap:round; stroke-linejoin:round; stroke-width:4; stroke-opacity:1; fill:none\" points=\"2234.41,1486.45 2234.41,1467.55 \"/>\n",
       "<path clip-path=\"url(#clip480)\" d=\"M281.672 1517.37 Q278.061 1517.37 276.232 1520.93 Q274.427 1524.47 274.427 1531.6 Q274.427 1538.71 276.232 1542.27 Q278.061 1545.82 281.672 1545.82 Q285.306 1545.82 287.112 1542.27 Q288.941 1538.71 288.941 1531.6 Q288.941 1524.47 287.112 1520.93 Q285.306 1517.37 281.672 1517.37 M281.672 1513.66 Q287.482 1513.66 290.538 1518.27 Q293.616 1522.85 293.616 1531.6 Q293.616 1540.33 290.538 1544.94 Q287.482 1549.52 281.672 1549.52 Q275.862 1549.52 272.783 1544.94 Q269.728 1540.33 269.728 1531.6 Q269.728 1522.85 272.783 1518.27 Q275.862 1513.66 281.672 1513.66 Z\" fill=\"#000000\" fill-rule=\"nonzero\" fill-opacity=\"1\" /><path clip-path=\"url(#clip480)\" d=\"M301.834 1542.97 L306.718 1542.97 L306.718 1548.85 L301.834 1548.85 L301.834 1542.97 Z\" fill=\"#000000\" fill-rule=\"nonzero\" fill-opacity=\"1\" /><path clip-path=\"url(#clip480)\" d=\"M326.903 1517.37 Q323.292 1517.37 321.464 1520.93 Q319.658 1524.47 319.658 1531.6 Q319.658 1538.71 321.464 1542.27 Q323.292 1545.82 326.903 1545.82 Q330.538 1545.82 332.343 1542.27 Q334.172 1538.71 334.172 1531.6 Q334.172 1524.47 332.343 1520.93 Q330.538 1517.37 326.903 1517.37 M326.903 1513.66 Q332.713 1513.66 335.769 1518.27 Q338.848 1522.85 338.848 1531.6 Q338.848 1540.33 335.769 1544.94 Q332.713 1549.52 326.903 1549.52 Q321.093 1549.52 318.014 1544.94 Q314.959 1540.33 314.959 1531.6 Q314.959 1522.85 318.014 1518.27 Q321.093 1513.66 326.903 1513.66 Z\" fill=\"#000000\" fill-rule=\"nonzero\" fill-opacity=\"1\" /><path clip-path=\"url(#clip480)\" d=\"M357.065 1517.37 Q353.454 1517.37 351.625 1520.93 Q349.82 1524.47 349.82 1531.6 Q349.82 1538.71 351.625 1542.27 Q353.454 1545.82 357.065 1545.82 Q360.699 1545.82 362.505 1542.27 Q364.334 1538.71 364.334 1531.6 Q364.334 1524.47 362.505 1520.93 Q360.699 1517.37 357.065 1517.37 M357.065 1513.66 Q362.875 1513.66 365.931 1518.27 Q369.01 1522.85 369.01 1531.6 Q369.01 1540.33 365.931 1544.94 Q362.875 1549.52 357.065 1549.52 Q351.255 1549.52 348.176 1544.94 Q345.121 1540.33 345.121 1531.6 Q345.121 1522.85 348.176 1518.27 Q351.255 1513.66 357.065 1513.66 Z\" fill=\"#000000\" fill-rule=\"nonzero\" fill-opacity=\"1\" /><path clip-path=\"url(#clip480)\" d=\"M760.929 1517.37 Q757.318 1517.37 755.489 1520.93 Q753.684 1524.47 753.684 1531.6 Q753.684 1538.71 755.489 1542.27 Q757.318 1545.82 760.929 1545.82 Q764.563 1545.82 766.369 1542.27 Q768.198 1538.71 768.198 1531.6 Q768.198 1524.47 766.369 1520.93 Q764.563 1517.37 760.929 1517.37 M760.929 1513.66 Q766.739 1513.66 769.795 1518.27 Q772.874 1522.85 772.874 1531.6 Q772.874 1540.33 769.795 1544.94 Q766.739 1549.52 760.929 1549.52 Q755.119 1549.52 752.04 1544.94 Q748.985 1540.33 748.985 1531.6 Q748.985 1522.85 752.04 1518.27 Q755.119 1513.66 760.929 1513.66 Z\" fill=\"#000000\" fill-rule=\"nonzero\" fill-opacity=\"1\" /><path clip-path=\"url(#clip480)\" d=\"M781.091 1542.97 L785.975 1542.97 L785.975 1548.85 L781.091 1548.85 L781.091 1542.97 Z\" fill=\"#000000\" fill-rule=\"nonzero\" fill-opacity=\"1\" /><path clip-path=\"url(#clip480)\" d=\"M800.188 1544.91 L816.508 1544.91 L816.508 1548.85 L794.563 1548.85 L794.563 1544.91 Q797.225 1542.16 801.809 1537.53 Q806.415 1532.88 807.596 1531.53 Q809.841 1529.01 810.721 1527.27 Q811.623 1525.51 811.623 1523.82 Q811.623 1521.07 809.679 1519.33 Q807.758 1517.6 804.656 1517.6 Q802.457 1517.6 800.003 1518.36 Q797.573 1519.13 794.795 1520.68 L794.795 1515.95 Q797.619 1514.82 800.073 1514.24 Q802.526 1513.66 804.563 1513.66 Q809.934 1513.66 813.128 1516.35 Q816.322 1519.03 816.322 1523.52 Q816.322 1525.65 815.512 1527.57 Q814.725 1529.47 812.619 1532.07 Q812.04 1532.74 808.938 1535.95 Q805.836 1539.15 800.188 1544.91 Z\" fill=\"#000000\" fill-rule=\"nonzero\" fill-opacity=\"1\" /><path clip-path=\"url(#clip480)\" d=\"M826.369 1514.29 L844.725 1514.29 L844.725 1518.22 L830.651 1518.22 L830.651 1526.7 Q831.67 1526.35 832.688 1526.19 Q833.707 1526 834.725 1526 Q840.512 1526 843.892 1529.17 Q847.271 1532.34 847.271 1537.76 Q847.271 1543.34 843.799 1546.44 Q840.327 1549.52 834.008 1549.52 Q831.832 1549.52 829.563 1549.15 Q827.318 1548.78 824.91 1548.04 L824.91 1543.34 Q826.994 1544.47 829.216 1545.03 Q831.438 1545.58 833.915 1545.58 Q837.92 1545.58 840.258 1543.48 Q842.595 1541.37 842.595 1537.76 Q842.595 1534.15 840.258 1532.04 Q837.92 1529.94 833.915 1529.94 Q832.04 1529.94 830.165 1530.35 Q828.313 1530.77 826.369 1531.65 L826.369 1514.29 Z\" fill=\"#000000\" fill-rule=\"nonzero\" fill-opacity=\"1\" /><path clip-path=\"url(#clip480)\" d=\"M1239.19 1517.37 Q1235.58 1517.37 1233.75 1520.93 Q1231.95 1524.47 1231.95 1531.6 Q1231.95 1538.71 1233.75 1542.27 Q1235.58 1545.82 1239.19 1545.82 Q1242.83 1545.82 1244.63 1542.27 Q1246.46 1538.71 1246.46 1531.6 Q1246.46 1524.47 1244.63 1520.93 Q1242.83 1517.37 1239.19 1517.37 M1239.19 1513.66 Q1245 1513.66 1248.06 1518.27 Q1251.14 1522.85 1251.14 1531.6 Q1251.14 1540.33 1248.06 1544.94 Q1245 1549.52 1239.19 1549.52 Q1233.38 1549.52 1230.3 1544.94 Q1227.25 1540.33 1227.25 1531.6 Q1227.25 1522.85 1230.3 1518.27 Q1233.38 1513.66 1239.19 1513.66 Z\" fill=\"#000000\" fill-rule=\"nonzero\" fill-opacity=\"1\" /><path clip-path=\"url(#clip480)\" d=\"M1259.35 1542.97 L1264.24 1542.97 L1264.24 1548.85 L1259.35 1548.85 L1259.35 1542.97 Z\" fill=\"#000000\" fill-rule=\"nonzero\" fill-opacity=\"1\" /><path clip-path=\"url(#clip480)\" d=\"M1274.47 1514.29 L1292.83 1514.29 L1292.83 1518.22 L1278.75 1518.22 L1278.75 1526.7 Q1279.77 1526.35 1280.79 1526.19 Q1281.81 1526 1282.83 1526 Q1288.61 1526 1291.99 1529.17 Q1295.37 1532.34 1295.37 1537.76 Q1295.37 1543.34 1291.9 1546.44 Q1288.43 1549.52 1282.11 1549.52 Q1279.93 1549.52 1277.66 1549.15 Q1275.42 1548.78 1273.01 1548.04 L1273.01 1543.34 Q1275.09 1544.47 1277.32 1545.03 Q1279.54 1545.58 1282.01 1545.58 Q1286.02 1545.58 1288.36 1543.48 Q1290.7 1541.37 1290.7 1537.76 Q1290.7 1534.15 1288.36 1532.04 Q1286.02 1529.94 1282.01 1529.94 Q1280.14 1529.94 1278.26 1530.35 Q1276.41 1530.77 1274.47 1531.65 L1274.47 1514.29 Z\" fill=\"#000000\" fill-rule=\"nonzero\" fill-opacity=\"1\" /><path clip-path=\"url(#clip480)\" d=\"M1314.58 1517.37 Q1310.97 1517.37 1309.14 1520.93 Q1307.34 1524.47 1307.34 1531.6 Q1307.34 1538.71 1309.14 1542.27 Q1310.97 1545.82 1314.58 1545.82 Q1318.22 1545.82 1320.02 1542.27 Q1321.85 1538.71 1321.85 1531.6 Q1321.85 1524.47 1320.02 1520.93 Q1318.22 1517.37 1314.58 1517.37 M1314.58 1513.66 Q1320.39 1513.66 1323.45 1518.27 Q1326.53 1522.85 1326.53 1531.6 Q1326.53 1540.33 1323.45 1544.94 Q1320.39 1549.52 1314.58 1549.52 Q1308.77 1549.52 1305.7 1544.94 Q1302.64 1540.33 1302.64 1531.6 Q1302.64 1522.85 1305.7 1518.27 Q1308.77 1513.66 1314.58 1513.66 Z\" fill=\"#000000\" fill-rule=\"nonzero\" fill-opacity=\"1\" /><path clip-path=\"url(#clip480)\" d=\"M1718.45 1517.37 Q1714.84 1517.37 1713.01 1520.93 Q1711.2 1524.47 1711.2 1531.6 Q1711.2 1538.71 1713.01 1542.27 Q1714.84 1545.82 1718.45 1545.82 Q1722.08 1545.82 1723.89 1542.27 Q1725.72 1538.71 1725.72 1531.6 Q1725.72 1524.47 1723.89 1520.93 Q1722.08 1517.37 1718.45 1517.37 M1718.45 1513.66 Q1724.26 1513.66 1727.31 1518.27 Q1730.39 1522.85 1730.39 1531.6 Q1730.39 1540.33 1727.31 1544.94 Q1724.26 1549.52 1718.45 1549.52 Q1712.64 1549.52 1709.56 1544.94 Q1706.5 1540.33 1706.5 1531.6 Q1706.5 1522.85 1709.56 1518.27 Q1712.64 1513.66 1718.45 1513.66 Z\" fill=\"#000000\" fill-rule=\"nonzero\" fill-opacity=\"1\" /><path clip-path=\"url(#clip480)\" d=\"M1738.61 1542.97 L1743.49 1542.97 L1743.49 1548.85 L1738.61 1548.85 L1738.61 1542.97 Z\" fill=\"#000000\" fill-rule=\"nonzero\" fill-opacity=\"1\" /><path clip-path=\"url(#clip480)\" d=\"M1752.5 1514.29 L1774.72 1514.29 L1774.72 1516.28 L1762.17 1548.85 L1757.29 1548.85 L1769.1 1518.22 L1752.5 1518.22 L1752.5 1514.29 Z\" fill=\"#000000\" fill-rule=\"nonzero\" fill-opacity=\"1\" /><path clip-path=\"url(#clip480)\" d=\"M1783.89 1514.29 L1802.24 1514.29 L1802.24 1518.22 L1788.17 1518.22 L1788.17 1526.7 Q1789.19 1526.35 1790.21 1526.19 Q1791.23 1526 1792.24 1526 Q1798.03 1526 1801.41 1529.17 Q1804.79 1532.34 1804.79 1537.76 Q1804.79 1543.34 1801.32 1546.44 Q1797.85 1549.52 1791.53 1549.52 Q1789.35 1549.52 1787.08 1549.15 Q1784.84 1548.78 1782.43 1548.04 L1782.43 1543.34 Q1784.51 1544.47 1786.73 1545.03 Q1788.96 1545.58 1791.43 1545.58 Q1795.44 1545.58 1797.78 1543.48 Q1800.11 1541.37 1800.11 1537.76 Q1800.11 1534.15 1797.78 1532.04 Q1795.44 1529.94 1791.43 1529.94 Q1789.56 1529.94 1787.68 1530.35 Q1785.83 1530.77 1783.89 1531.65 L1783.89 1514.29 Z\" fill=\"#000000\" fill-rule=\"nonzero\" fill-opacity=\"1\" /><path clip-path=\"url(#clip480)\" d=\"M2186.48 1544.91 L2194.12 1544.91 L2194.12 1518.55 L2185.81 1520.21 L2185.81 1515.95 L2194.07 1514.29 L2198.75 1514.29 L2198.75 1544.91 L2206.39 1544.91 L2206.39 1548.85 L2186.48 1548.85 L2186.48 1544.91 Z\" fill=\"#000000\" fill-rule=\"nonzero\" fill-opacity=\"1\" /><path clip-path=\"url(#clip480)\" d=\"M2215.83 1542.97 L2220.71 1542.97 L2220.71 1548.85 L2215.83 1548.85 L2215.83 1542.97 Z\" fill=\"#000000\" fill-rule=\"nonzero\" fill-opacity=\"1\" /><path clip-path=\"url(#clip480)\" d=\"M2240.9 1517.37 Q2237.29 1517.37 2235.46 1520.93 Q2233.65 1524.47 2233.65 1531.6 Q2233.65 1538.71 2235.46 1542.27 Q2237.29 1545.82 2240.9 1545.82 Q2244.53 1545.82 2246.34 1542.27 Q2248.17 1538.71 2248.17 1531.6 Q2248.17 1524.47 2246.34 1520.93 Q2244.53 1517.37 2240.9 1517.37 M2240.9 1513.66 Q2246.71 1513.66 2249.77 1518.27 Q2252.84 1522.85 2252.84 1531.6 Q2252.84 1540.33 2249.77 1544.94 Q2246.71 1549.52 2240.9 1549.52 Q2235.09 1549.52 2232.01 1544.94 Q2228.96 1540.33 2228.96 1531.6 Q2228.96 1522.85 2232.01 1518.27 Q2235.09 1513.66 2240.9 1513.66 Z\" fill=\"#000000\" fill-rule=\"nonzero\" fill-opacity=\"1\" /><path clip-path=\"url(#clip480)\" d=\"M2271.06 1517.37 Q2267.45 1517.37 2265.62 1520.93 Q2263.82 1524.47 2263.82 1531.6 Q2263.82 1538.71 2265.62 1542.27 Q2267.45 1545.82 2271.06 1545.82 Q2274.7 1545.82 2276.5 1542.27 Q2278.33 1538.71 2278.33 1531.6 Q2278.33 1524.47 2276.5 1520.93 Q2274.7 1517.37 2271.06 1517.37 M2271.06 1513.66 Q2276.87 1513.66 2279.93 1518.27 Q2283.01 1522.85 2283.01 1531.6 Q2283.01 1540.33 2279.93 1544.94 Q2276.87 1549.52 2271.06 1549.52 Q2265.25 1549.52 2262.17 1544.94 Q2259.12 1540.33 2259.12 1531.6 Q2259.12 1522.85 2262.17 1518.27 Q2265.25 1513.66 2271.06 1513.66 Z\" fill=\"#000000\" fill-rule=\"nonzero\" fill-opacity=\"1\" /><polyline clip-path=\"url(#clip482)\" style=\"stroke:#000000; stroke-linecap:round; stroke-linejoin:round; stroke-width:2; stroke-opacity:0.1; fill:none\" points=\"201.019,1445.72 2352.76,1445.72 \"/>\n",
       "<polyline clip-path=\"url(#clip482)\" style=\"stroke:#000000; stroke-linecap:round; stroke-linejoin:round; stroke-width:2; stroke-opacity:0.1; fill:none\" points=\"201.019,1125.49 2352.76,1125.49 \"/>\n",
       "<polyline clip-path=\"url(#clip482)\" style=\"stroke:#000000; stroke-linecap:round; stroke-linejoin:round; stroke-width:2; stroke-opacity:0.1; fill:none\" points=\"201.019,805.273 2352.76,805.273 \"/>\n",
       "<polyline clip-path=\"url(#clip482)\" style=\"stroke:#000000; stroke-linecap:round; stroke-linejoin:round; stroke-width:2; stroke-opacity:0.1; fill:none\" points=\"201.019,485.051 2352.76,485.051 \"/>\n",
       "<polyline clip-path=\"url(#clip482)\" style=\"stroke:#000000; stroke-linecap:round; stroke-linejoin:round; stroke-width:2; stroke-opacity:0.1; fill:none\" points=\"201.019,164.829 2352.76,164.829 \"/>\n",
       "<polyline clip-path=\"url(#clip480)\" style=\"stroke:#000000; stroke-linecap:round; stroke-linejoin:round; stroke-width:4; stroke-opacity:1; fill:none\" points=\"201.019,1486.45 201.019,47.2441 \"/>\n",
       "<polyline clip-path=\"url(#clip480)\" style=\"stroke:#000000; stroke-linecap:round; stroke-linejoin:round; stroke-width:4; stroke-opacity:1; fill:none\" points=\"201.019,1445.72 219.917,1445.72 \"/>\n",
       "<polyline clip-path=\"url(#clip480)\" style=\"stroke:#000000; stroke-linecap:round; stroke-linejoin:round; stroke-width:4; stroke-opacity:1; fill:none\" points=\"201.019,1125.49 219.917,1125.49 \"/>\n",
       "<polyline clip-path=\"url(#clip480)\" style=\"stroke:#000000; stroke-linecap:round; stroke-linejoin:round; stroke-width:4; stroke-opacity:1; fill:none\" points=\"201.019,805.273 219.917,805.273 \"/>\n",
       "<polyline clip-path=\"url(#clip480)\" style=\"stroke:#000000; stroke-linecap:round; stroke-linejoin:round; stroke-width:4; stroke-opacity:1; fill:none\" points=\"201.019,485.051 219.917,485.051 \"/>\n",
       "<polyline clip-path=\"url(#clip480)\" style=\"stroke:#000000; stroke-linecap:round; stroke-linejoin:round; stroke-width:4; stroke-opacity:1; fill:none\" points=\"201.019,164.829 219.917,164.829 \"/>\n",
       "<path clip-path=\"url(#clip480)\" d=\"M153.075 1431.51 Q149.464 1431.51 147.635 1435.08 Q145.83 1438.62 145.83 1445.75 Q145.83 1452.86 147.635 1456.42 Q149.464 1459.96 153.075 1459.96 Q156.709 1459.96 158.515 1456.42 Q160.343 1452.86 160.343 1445.75 Q160.343 1438.62 158.515 1435.08 Q156.709 1431.51 153.075 1431.51 M153.075 1427.81 Q158.885 1427.81 161.941 1432.42 Q165.019 1437 165.019 1445.75 Q165.019 1454.48 161.941 1459.08 Q158.885 1463.67 153.075 1463.67 Q147.265 1463.67 144.186 1459.08 Q141.131 1454.48 141.131 1445.75 Q141.131 1437 144.186 1432.42 Q147.265 1427.81 153.075 1427.81 Z\" fill=\"#000000\" fill-rule=\"nonzero\" fill-opacity=\"1\" /><path clip-path=\"url(#clip480)\" d=\"M82.7975 1108.21 L101.154 1108.21 L101.154 1112.15 L87.0799 1112.15 L87.0799 1120.62 Q88.0984 1120.27 89.1169 1120.11 Q90.1354 1119.93 91.1539 1119.93 Q96.941 1119.93 100.321 1123.1 Q103.7 1126.27 103.7 1131.69 Q103.7 1137.26 100.228 1140.37 Q96.7558 1143.45 90.4364 1143.45 Q88.2604 1143.45 85.9919 1143.08 Q83.7466 1142.7 81.3392 1141.96 L81.3392 1137.26 Q83.4225 1138.4 85.6447 1138.95 Q87.8669 1139.51 90.3438 1139.51 Q94.3484 1139.51 96.6863 1137.4 Q99.0243 1135.3 99.0243 1131.69 Q99.0243 1128.08 96.6863 1125.97 Q94.3484 1123.86 90.3438 1123.86 Q88.4688 1123.86 86.5938 1124.28 Q84.7419 1124.7 82.7975 1125.58 L82.7975 1108.21 Z\" fill=\"#000000\" fill-rule=\"nonzero\" fill-opacity=\"1\" /><path clip-path=\"url(#clip480)\" d=\"M122.913 1111.29 Q119.302 1111.29 117.473 1114.86 Q115.668 1118.4 115.668 1125.53 Q115.668 1132.64 117.473 1136.2 Q119.302 1139.74 122.913 1139.74 Q126.547 1139.74 128.353 1136.2 Q130.182 1132.64 130.182 1125.53 Q130.182 1118.4 128.353 1114.86 Q126.547 1111.29 122.913 1111.29 M122.913 1107.59 Q128.723 1107.59 131.779 1112.2 Q134.857 1116.78 134.857 1125.53 Q134.857 1134.26 131.779 1138.86 Q128.723 1143.45 122.913 1143.45 Q117.103 1143.45 114.024 1138.86 Q110.969 1134.26 110.969 1125.53 Q110.969 1116.78 114.024 1112.2 Q117.103 1107.59 122.913 1107.59 Z\" fill=\"#000000\" fill-rule=\"nonzero\" fill-opacity=\"1\" /><path clip-path=\"url(#clip480)\" d=\"M153.075 1111.29 Q149.464 1111.29 147.635 1114.86 Q145.83 1118.4 145.83 1125.53 Q145.83 1132.64 147.635 1136.2 Q149.464 1139.74 153.075 1139.74 Q156.709 1139.74 158.515 1136.2 Q160.343 1132.64 160.343 1125.53 Q160.343 1118.4 158.515 1114.86 Q156.709 1111.29 153.075 1111.29 M153.075 1107.59 Q158.885 1107.59 161.941 1112.2 Q165.019 1116.78 165.019 1125.53 Q165.019 1134.26 161.941 1138.86 Q158.885 1143.45 153.075 1143.45 Q147.265 1143.45 144.186 1138.86 Q141.131 1134.26 141.131 1125.53 Q141.131 1116.78 144.186 1112.2 Q147.265 1107.59 153.075 1107.59 Z\" fill=\"#000000\" fill-rule=\"nonzero\" fill-opacity=\"1\" /><path clip-path=\"url(#clip480)\" d=\"M53.3995 818.617 L61.0384 818.617 L61.0384 792.252 L52.7282 793.918 L52.7282 789.659 L60.9921 787.993 L65.668 787.993 L65.668 818.617 L73.3068 818.617 L73.3068 822.553 L53.3995 822.553 L53.3995 818.617 Z\" fill=\"#000000\" fill-rule=\"nonzero\" fill-opacity=\"1\" /><path clip-path=\"url(#clip480)\" d=\"M92.7512 791.071 Q89.1401 791.071 87.3114 794.636 Q85.5058 798.178 85.5058 805.307 Q85.5058 812.414 87.3114 815.979 Q89.1401 819.52 92.7512 819.52 Q96.3854 819.52 98.1909 815.979 Q100.02 812.414 100.02 805.307 Q100.02 798.178 98.1909 794.636 Q96.3854 791.071 92.7512 791.071 M92.7512 787.368 Q98.5613 787.368 101.617 791.974 Q104.696 796.557 104.696 805.307 Q104.696 814.034 101.617 818.641 Q98.5613 823.224 92.7512 823.224 Q86.941 823.224 83.8623 818.641 Q80.8068 814.034 80.8068 805.307 Q80.8068 796.557 83.8623 791.974 Q86.941 787.368 92.7512 787.368 Z\" fill=\"#000000\" fill-rule=\"nonzero\" fill-opacity=\"1\" /><path clip-path=\"url(#clip480)\" d=\"M122.913 791.071 Q119.302 791.071 117.473 794.636 Q115.668 798.178 115.668 805.307 Q115.668 812.414 117.473 815.979 Q119.302 819.52 122.913 819.52 Q126.547 819.52 128.353 815.979 Q130.182 812.414 130.182 805.307 Q130.182 798.178 128.353 794.636 Q126.547 791.071 122.913 791.071 M122.913 787.368 Q128.723 787.368 131.779 791.974 Q134.857 796.557 134.857 805.307 Q134.857 814.034 131.779 818.641 Q128.723 823.224 122.913 823.224 Q117.103 823.224 114.024 818.641 Q110.969 814.034 110.969 805.307 Q110.969 796.557 114.024 791.974 Q117.103 787.368 122.913 787.368 Z\" fill=\"#000000\" fill-rule=\"nonzero\" fill-opacity=\"1\" /><path clip-path=\"url(#clip480)\" d=\"M153.075 791.071 Q149.464 791.071 147.635 794.636 Q145.83 798.178 145.83 805.307 Q145.83 812.414 147.635 815.979 Q149.464 819.52 153.075 819.52 Q156.709 819.52 158.515 815.979 Q160.343 812.414 160.343 805.307 Q160.343 798.178 158.515 794.636 Q156.709 791.071 153.075 791.071 M153.075 787.368 Q158.885 787.368 161.941 791.974 Q165.019 796.557 165.019 805.307 Q165.019 814.034 161.941 818.641 Q158.885 823.224 153.075 823.224 Q147.265 823.224 144.186 818.641 Q141.131 814.034 141.131 805.307 Q141.131 796.557 144.186 791.974 Q147.265 787.368 153.075 787.368 Z\" fill=\"#000000\" fill-rule=\"nonzero\" fill-opacity=\"1\" /><path clip-path=\"url(#clip480)\" d=\"M53.3995 498.396 L61.0384 498.396 L61.0384 472.03 L52.7282 473.697 L52.7282 469.438 L60.9921 467.771 L65.668 467.771 L65.668 498.396 L73.3068 498.396 L73.3068 502.331 L53.3995 502.331 L53.3995 498.396 Z\" fill=\"#000000\" fill-rule=\"nonzero\" fill-opacity=\"1\" /><path clip-path=\"url(#clip480)\" d=\"M82.7975 467.771 L101.154 467.771 L101.154 471.706 L87.0799 471.706 L87.0799 480.178 Q88.0984 479.831 89.1169 479.669 Q90.1354 479.484 91.1539 479.484 Q96.941 479.484 100.321 482.655 Q103.7 485.826 103.7 491.243 Q103.7 496.822 100.228 499.924 Q96.7558 503.002 90.4364 503.002 Q88.2604 503.002 85.9919 502.632 Q83.7466 502.262 81.3392 501.521 L81.3392 496.822 Q83.4225 497.956 85.6447 498.512 Q87.8669 499.067 90.3438 499.067 Q94.3484 499.067 96.6863 496.961 Q99.0243 494.854 99.0243 491.243 Q99.0243 487.632 96.6863 485.526 Q94.3484 483.419 90.3438 483.419 Q88.4688 483.419 86.5938 483.836 Q84.7419 484.252 82.7975 485.132 L82.7975 467.771 Z\" fill=\"#000000\" fill-rule=\"nonzero\" fill-opacity=\"1\" /><path clip-path=\"url(#clip480)\" d=\"M122.913 470.85 Q119.302 470.85 117.473 474.414 Q115.668 477.956 115.668 485.086 Q115.668 492.192 117.473 495.757 Q119.302 499.299 122.913 499.299 Q126.547 499.299 128.353 495.757 Q130.182 492.192 130.182 485.086 Q130.182 477.956 128.353 474.414 Q126.547 470.85 122.913 470.85 M122.913 467.146 Q128.723 467.146 131.779 471.752 Q134.857 476.336 134.857 485.086 Q134.857 493.813 131.779 498.419 Q128.723 503.002 122.913 503.002 Q117.103 503.002 114.024 498.419 Q110.969 493.813 110.969 485.086 Q110.969 476.336 114.024 471.752 Q117.103 467.146 122.913 467.146 Z\" fill=\"#000000\" fill-rule=\"nonzero\" fill-opacity=\"1\" /><path clip-path=\"url(#clip480)\" d=\"M153.075 470.85 Q149.464 470.85 147.635 474.414 Q145.83 477.956 145.83 485.086 Q145.83 492.192 147.635 495.757 Q149.464 499.299 153.075 499.299 Q156.709 499.299 158.515 495.757 Q160.343 492.192 160.343 485.086 Q160.343 477.956 158.515 474.414 Q156.709 470.85 153.075 470.85 M153.075 467.146 Q158.885 467.146 161.941 471.752 Q165.019 476.336 165.019 485.086 Q165.019 493.813 161.941 498.419 Q158.885 503.002 153.075 503.002 Q147.265 503.002 144.186 498.419 Q141.131 493.813 141.131 485.086 Q141.131 476.336 144.186 471.752 Q147.265 467.146 153.075 467.146 Z\" fill=\"#000000\" fill-rule=\"nonzero\" fill-opacity=\"1\" /><path clip-path=\"url(#clip480)\" d=\"M56.6171 178.174 L72.9365 178.174 L72.9365 182.109 L50.9921 182.109 L50.9921 178.174 Q53.6541 175.42 58.2375 170.79 Q62.8439 166.137 64.0245 164.795 Q66.2698 162.272 67.1494 160.535 Q68.0522 158.776 68.0522 157.086 Q68.0522 154.332 66.1078 152.596 Q64.1865 150.86 61.0847 150.86 Q58.8856 150.86 56.4319 151.624 Q54.0014 152.387 51.2236 153.938 L51.2236 149.216 Q54.0477 148.082 56.5014 147.503 Q58.955 146.924 60.9921 146.924 Q66.3624 146.924 69.5568 149.61 Q72.7513 152.295 72.7513 156.786 Q72.7513 158.915 71.9411 160.836 Q71.1541 162.735 69.0476 165.327 Q68.4689 165.998 65.367 169.216 Q62.2652 172.41 56.6171 178.174 Z\" fill=\"#000000\" fill-rule=\"nonzero\" fill-opacity=\"1\" /><path clip-path=\"url(#clip480)\" d=\"M92.7512 150.628 Q89.1401 150.628 87.3114 154.193 Q85.5058 157.735 85.5058 164.864 Q85.5058 171.971 87.3114 175.535 Q89.1401 179.077 92.7512 179.077 Q96.3854 179.077 98.1909 175.535 Q100.02 171.971 100.02 164.864 Q100.02 157.735 98.1909 154.193 Q96.3854 150.628 92.7512 150.628 M92.7512 146.924 Q98.5613 146.924 101.617 151.531 Q104.696 156.114 104.696 164.864 Q104.696 173.591 101.617 178.197 Q98.5613 182.781 92.7512 182.781 Q86.941 182.781 83.8623 178.197 Q80.8068 173.591 80.8068 164.864 Q80.8068 156.114 83.8623 151.531 Q86.941 146.924 92.7512 146.924 Z\" fill=\"#000000\" fill-rule=\"nonzero\" fill-opacity=\"1\" /><path clip-path=\"url(#clip480)\" d=\"M122.913 150.628 Q119.302 150.628 117.473 154.193 Q115.668 157.735 115.668 164.864 Q115.668 171.971 117.473 175.535 Q119.302 179.077 122.913 179.077 Q126.547 179.077 128.353 175.535 Q130.182 171.971 130.182 164.864 Q130.182 157.735 128.353 154.193 Q126.547 150.628 122.913 150.628 M122.913 146.924 Q128.723 146.924 131.779 151.531 Q134.857 156.114 134.857 164.864 Q134.857 173.591 131.779 178.197 Q128.723 182.781 122.913 182.781 Q117.103 182.781 114.024 178.197 Q110.969 173.591 110.969 164.864 Q110.969 156.114 114.024 151.531 Q117.103 146.924 122.913 146.924 Z\" fill=\"#000000\" fill-rule=\"nonzero\" fill-opacity=\"1\" /><path clip-path=\"url(#clip480)\" d=\"M153.075 150.628 Q149.464 150.628 147.635 154.193 Q145.83 157.735 145.83 164.864 Q145.83 171.971 147.635 175.535 Q149.464 179.077 153.075 179.077 Q156.709 179.077 158.515 175.535 Q160.343 171.971 160.343 164.864 Q160.343 157.735 158.515 154.193 Q156.709 150.628 153.075 150.628 M153.075 146.924 Q158.885 146.924 161.941 151.531 Q165.019 156.114 165.019 164.864 Q165.019 173.591 161.941 178.197 Q158.885 182.781 153.075 182.781 Q147.265 182.781 144.186 178.197 Q141.131 173.591 141.131 164.864 Q141.131 156.114 144.186 151.531 Q147.265 146.924 153.075 146.924 Z\" fill=\"#000000\" fill-rule=\"nonzero\" fill-opacity=\"1\" /><path clip-path=\"url(#clip482)\" d=\"M319.369 209.02 L319.369 1445.72 L357.669 1445.72 L357.669 209.02 L319.369 209.02 L319.369 209.02  Z\" fill=\"#009af9\" fill-rule=\"evenodd\" fill-opacity=\"1\"/>\n",
       "<polyline clip-path=\"url(#clip482)\" style=\"stroke:#000000; stroke-linecap:round; stroke-linejoin:round; stroke-width:4; stroke-opacity:1; fill:none\" points=\"319.369,209.02 319.369,1445.72 357.669,1445.72 357.669,209.02 319.369,209.02 \"/>\n",
       "<path clip-path=\"url(#clip482)\" d=\"M357.669 113.594 L357.669 1445.72 L395.97 1445.72 L395.97 113.594 L357.669 113.594 L357.669 113.594  Z\" fill=\"#009af9\" fill-rule=\"evenodd\" fill-opacity=\"1\"/>\n",
       "<polyline clip-path=\"url(#clip482)\" style=\"stroke:#000000; stroke-linecap:round; stroke-linejoin:round; stroke-width:4; stroke-opacity:1; fill:none\" points=\"357.669,113.594 357.669,1445.72 395.97,1445.72 395.97,113.594 357.669,113.594 \"/>\n",
       "<path clip-path=\"url(#clip482)\" d=\"M395.97 109.751 L395.97 1445.72 L434.271 1445.72 L434.271 109.751 L395.97 109.751 L395.97 109.751  Z\" fill=\"#009af9\" fill-rule=\"evenodd\" fill-opacity=\"1\"/>\n",
       "<polyline clip-path=\"url(#clip482)\" style=\"stroke:#000000; stroke-linecap:round; stroke-linejoin:round; stroke-width:4; stroke-opacity:1; fill:none\" points=\"395.97,109.751 395.97,1445.72 434.271,1445.72 434.271,109.751 395.97,109.751 \"/>\n",
       "<path clip-path=\"url(#clip482)\" d=\"M434.271 131.526 L434.271 1445.72 L472.572 1445.72 L472.572 131.526 L434.271 131.526 L434.271 131.526  Z\" fill=\"#009af9\" fill-rule=\"evenodd\" fill-opacity=\"1\"/>\n",
       "<polyline clip-path=\"url(#clip482)\" style=\"stroke:#000000; stroke-linecap:round; stroke-linejoin:round; stroke-width:4; stroke-opacity:1; fill:none\" points=\"434.271,131.526 434.271,1445.72 472.572,1445.72 472.572,131.526 434.271,131.526 \"/>\n",
       "<path clip-path=\"url(#clip482)\" d=\"M472.572 217.346 L472.572 1445.72 L510.872 1445.72 L510.872 217.346 L472.572 217.346 L472.572 217.346  Z\" fill=\"#009af9\" fill-rule=\"evenodd\" fill-opacity=\"1\"/>\n",
       "<polyline clip-path=\"url(#clip482)\" style=\"stroke:#000000; stroke-linecap:round; stroke-linejoin:round; stroke-width:4; stroke-opacity:1; fill:none\" points=\"472.572,217.346 472.572,1445.72 510.872,1445.72 510.872,217.346 472.572,217.346 \"/>\n",
       "<path clip-path=\"url(#clip482)\" d=\"M510.872 87.9763 L510.872 1445.72 L549.173 1445.72 L549.173 87.9763 L510.872 87.9763 L510.872 87.9763  Z\" fill=\"#009af9\" fill-rule=\"evenodd\" fill-opacity=\"1\"/>\n",
       "<polyline clip-path=\"url(#clip482)\" style=\"stroke:#000000; stroke-linecap:round; stroke-linejoin:round; stroke-width:4; stroke-opacity:1; fill:none\" points=\"510.872,87.9763 510.872,1445.72 549.173,1445.72 549.173,87.9763 510.872,87.9763 \"/>\n",
       "<path clip-path=\"url(#clip482)\" d=\"M549.173 155.863 L549.173 1445.72 L587.474 1445.72 L587.474 155.863 L549.173 155.863 L549.173 155.863  Z\" fill=\"#009af9\" fill-rule=\"evenodd\" fill-opacity=\"1\"/>\n",
       "<polyline clip-path=\"url(#clip482)\" style=\"stroke:#000000; stroke-linecap:round; stroke-linejoin:round; stroke-width:4; stroke-opacity:1; fill:none\" points=\"549.173,155.863 549.173,1445.72 587.474,1445.72 587.474,155.863 549.173,155.863 \"/>\n",
       "<path clip-path=\"url(#clip482)\" d=\"M587.474 204.537 L587.474 1445.72 L625.775 1445.72 L625.775 204.537 L587.474 204.537 L587.474 204.537  Z\" fill=\"#009af9\" fill-rule=\"evenodd\" fill-opacity=\"1\"/>\n",
       "<polyline clip-path=\"url(#clip482)\" style=\"stroke:#000000; stroke-linecap:round; stroke-linejoin:round; stroke-width:4; stroke-opacity:1; fill:none\" points=\"587.474,204.537 587.474,1445.72 625.775,1445.72 625.775,204.537 587.474,204.537 \"/>\n",
       "<path clip-path=\"url(#clip482)\" d=\"M625.775 203.256 L625.775 1445.72 L664.075 1445.72 L664.075 203.256 L625.775 203.256 L625.775 203.256  Z\" fill=\"#009af9\" fill-rule=\"evenodd\" fill-opacity=\"1\"/>\n",
       "<polyline clip-path=\"url(#clip482)\" style=\"stroke:#000000; stroke-linecap:round; stroke-linejoin:round; stroke-width:4; stroke-opacity:1; fill:none\" points=\"625.775,203.256 625.775,1445.72 664.075,1445.72 664.075,203.256 625.775,203.256 \"/>\n",
       "<path clip-path=\"url(#clip482)\" d=\"M664.075 190.447 L664.075 1445.72 L702.376 1445.72 L702.376 190.447 L664.075 190.447 L664.075 190.447  Z\" fill=\"#009af9\" fill-rule=\"evenodd\" fill-opacity=\"1\"/>\n",
       "<polyline clip-path=\"url(#clip482)\" style=\"stroke:#000000; stroke-linecap:round; stroke-linejoin:round; stroke-width:4; stroke-opacity:1; fill:none\" points=\"664.075,190.447 664.075,1445.72 702.376,1445.72 702.376,190.447 664.075,190.447 \"/>\n",
       "<path clip-path=\"url(#clip482)\" d=\"M702.376 148.178 L702.376 1445.72 L740.677 1445.72 L740.677 148.178 L702.376 148.178 L702.376 148.178  Z\" fill=\"#009af9\" fill-rule=\"evenodd\" fill-opacity=\"1\"/>\n",
       "<polyline clip-path=\"url(#clip482)\" style=\"stroke:#000000; stroke-linecap:round; stroke-linejoin:round; stroke-width:4; stroke-opacity:1; fill:none\" points=\"702.376,148.178 702.376,1445.72 740.677,1445.72 740.677,148.178 702.376,148.178 \"/>\n",
       "<path clip-path=\"url(#clip482)\" d=\"M740.677 160.987 L740.677 1445.72 L778.978 1445.72 L778.978 160.987 L740.677 160.987 L740.677 160.987  Z\" fill=\"#009af9\" fill-rule=\"evenodd\" fill-opacity=\"1\"/>\n",
       "<polyline clip-path=\"url(#clip482)\" style=\"stroke:#000000; stroke-linecap:round; stroke-linejoin:round; stroke-width:4; stroke-opacity:1; fill:none\" points=\"740.677,160.987 740.677,1445.72 778.978,1445.72 778.978,160.987 740.677,160.987 \"/>\n",
       "<path clip-path=\"url(#clip482)\" d=\"M778.978 182.121 L778.978 1445.72 L817.278 1445.72 L817.278 182.121 L778.978 182.121 L778.978 182.121  Z\" fill=\"#009af9\" fill-rule=\"evenodd\" fill-opacity=\"1\"/>\n",
       "<polyline clip-path=\"url(#clip482)\" style=\"stroke:#000000; stroke-linecap:round; stroke-linejoin:round; stroke-width:4; stroke-opacity:1; fill:none\" points=\"778.978,182.121 778.978,1445.72 817.278,1445.72 817.278,182.121 778.978,182.121 \"/>\n",
       "<path clip-path=\"url(#clip482)\" d=\"M817.278 191.088 L817.278 1445.72 L855.579 1445.72 L855.579 191.088 L817.278 191.088 L817.278 191.088  Z\" fill=\"#009af9\" fill-rule=\"evenodd\" fill-opacity=\"1\"/>\n",
       "<polyline clip-path=\"url(#clip482)\" style=\"stroke:#000000; stroke-linecap:round; stroke-linejoin:round; stroke-width:4; stroke-opacity:1; fill:none\" points=\"817.278,191.088 817.278,1445.72 855.579,1445.72 855.579,191.088 817.278,191.088 \"/>\n",
       "<path clip-path=\"url(#clip482)\" d=\"M855.579 154.582 L855.579 1445.72 L893.88 1445.72 L893.88 154.582 L855.579 154.582 L855.579 154.582  Z\" fill=\"#009af9\" fill-rule=\"evenodd\" fill-opacity=\"1\"/>\n",
       "<polyline clip-path=\"url(#clip482)\" style=\"stroke:#000000; stroke-linecap:round; stroke-linejoin:round; stroke-width:4; stroke-opacity:1; fill:none\" points=\"855.579,154.582 855.579,1445.72 893.88,1445.72 893.88,154.582 855.579,154.582 \"/>\n",
       "<path clip-path=\"url(#clip482)\" d=\"M893.88 144.976 L893.88 1445.72 L932.181 1445.72 L932.181 144.976 L893.88 144.976 L893.88 144.976  Z\" fill=\"#009af9\" fill-rule=\"evenodd\" fill-opacity=\"1\"/>\n",
       "<polyline clip-path=\"url(#clip482)\" style=\"stroke:#000000; stroke-linecap:round; stroke-linejoin:round; stroke-width:4; stroke-opacity:1; fill:none\" points=\"893.88,144.976 893.88,1445.72 932.181,1445.72 932.181,144.976 893.88,144.976 \"/>\n",
       "<path clip-path=\"url(#clip482)\" d=\"M932.181 167.391 L932.181 1445.72 L970.482 1445.72 L970.482 167.391 L932.181 167.391 L932.181 167.391  Z\" fill=\"#009af9\" fill-rule=\"evenodd\" fill-opacity=\"1\"/>\n",
       "<polyline clip-path=\"url(#clip482)\" style=\"stroke:#000000; stroke-linecap:round; stroke-linejoin:round; stroke-width:4; stroke-opacity:1; fill:none\" points=\"932.181,167.391 932.181,1445.72 970.482,1445.72 970.482,167.391 932.181,167.391 \"/>\n",
       "<path clip-path=\"url(#clip482)\" d=\"M970.482 194.93 L970.482 1445.72 L1008.78 1445.72 L1008.78 194.93 L970.482 194.93 L970.482 194.93  Z\" fill=\"#009af9\" fill-rule=\"evenodd\" fill-opacity=\"1\"/>\n",
       "<polyline clip-path=\"url(#clip482)\" style=\"stroke:#000000; stroke-linecap:round; stroke-linejoin:round; stroke-width:4; stroke-opacity:1; fill:none\" points=\"970.482,194.93 970.482,1445.72 1008.78,1445.72 1008.78,194.93 970.482,194.93 \"/>\n",
       "<path clip-path=\"url(#clip482)\" d=\"M1008.78 162.268 L1008.78 1445.72 L1047.08 1445.72 L1047.08 162.268 L1008.78 162.268 L1008.78 162.268  Z\" fill=\"#009af9\" fill-rule=\"evenodd\" fill-opacity=\"1\"/>\n",
       "<polyline clip-path=\"url(#clip482)\" style=\"stroke:#000000; stroke-linecap:round; stroke-linejoin:round; stroke-width:4; stroke-opacity:1; fill:none\" points=\"1008.78,162.268 1008.78,1445.72 1047.08,1445.72 1047.08,162.268 1008.78,162.268 \"/>\n",
       "<path clip-path=\"url(#clip482)\" d=\"M1047.08 144.335 L1047.08 1445.72 L1085.38 1445.72 L1085.38 144.335 L1047.08 144.335 L1047.08 144.335  Z\" fill=\"#009af9\" fill-rule=\"evenodd\" fill-opacity=\"1\"/>\n",
       "<polyline clip-path=\"url(#clip482)\" style=\"stroke:#000000; stroke-linecap:round; stroke-linejoin:round; stroke-width:4; stroke-opacity:1; fill:none\" points=\"1047.08,144.335 1047.08,1445.72 1085.38,1445.72 1085.38,144.335 1047.08,144.335 \"/>\n",
       "<path clip-path=\"url(#clip482)\" d=\"M1085.38 154.582 L1085.38 1445.72 L1123.68 1445.72 L1123.68 154.582 L1085.38 154.582 L1085.38 154.582  Z\" fill=\"#009af9\" fill-rule=\"evenodd\" fill-opacity=\"1\"/>\n",
       "<polyline clip-path=\"url(#clip482)\" style=\"stroke:#000000; stroke-linecap:round; stroke-linejoin:round; stroke-width:4; stroke-opacity:1; fill:none\" points=\"1085.38,154.582 1085.38,1445.72 1123.68,1445.72 1123.68,154.582 1085.38,154.582 \"/>\n",
       "<path clip-path=\"url(#clip482)\" d=\"M1123.68 203.256 L1123.68 1445.72 L1161.99 1445.72 L1161.99 203.256 L1123.68 203.256 L1123.68 203.256  Z\" fill=\"#009af9\" fill-rule=\"evenodd\" fill-opacity=\"1\"/>\n",
       "<polyline clip-path=\"url(#clip482)\" style=\"stroke:#000000; stroke-linecap:round; stroke-linejoin:round; stroke-width:4; stroke-opacity:1; fill:none\" points=\"1123.68,203.256 1123.68,1445.72 1161.99,1445.72 1161.99,203.256 1123.68,203.256 \"/>\n",
       "<path clip-path=\"url(#clip482)\" d=\"M1161.99 145.616 L1161.99 1445.72 L1200.29 1445.72 L1200.29 145.616 L1161.99 145.616 L1161.99 145.616  Z\" fill=\"#009af9\" fill-rule=\"evenodd\" fill-opacity=\"1\"/>\n",
       "<polyline clip-path=\"url(#clip482)\" style=\"stroke:#000000; stroke-linecap:round; stroke-linejoin:round; stroke-width:4; stroke-opacity:1; fill:none\" points=\"1161.99,145.616 1161.99,1445.72 1200.29,1445.72 1200.29,145.616 1161.99,145.616 \"/>\n",
       "<path clip-path=\"url(#clip482)\" d=\"M1200.29 153.942 L1200.29 1445.72 L1238.59 1445.72 L1238.59 153.942 L1200.29 153.942 L1200.29 153.942  Z\" fill=\"#009af9\" fill-rule=\"evenodd\" fill-opacity=\"1\"/>\n",
       "<polyline clip-path=\"url(#clip482)\" style=\"stroke:#000000; stroke-linecap:round; stroke-linejoin:round; stroke-width:4; stroke-opacity:1; fill:none\" points=\"1200.29,153.942 1200.29,1445.72 1238.59,1445.72 1238.59,153.942 1200.29,153.942 \"/>\n",
       "<path clip-path=\"url(#clip482)\" d=\"M1238.59 132.167 L1238.59 1445.72 L1276.89 1445.72 L1276.89 132.167 L1238.59 132.167 L1238.59 132.167  Z\" fill=\"#009af9\" fill-rule=\"evenodd\" fill-opacity=\"1\"/>\n",
       "<polyline clip-path=\"url(#clip482)\" style=\"stroke:#000000; stroke-linecap:round; stroke-linejoin:round; stroke-width:4; stroke-opacity:1; fill:none\" points=\"1238.59,132.167 1238.59,1445.72 1276.89,1445.72 1276.89,132.167 1238.59,132.167 \"/>\n",
       "<path clip-path=\"url(#clip482)\" d=\"M1276.89 182.121 L1276.89 1445.72 L1315.19 1445.72 L1315.19 182.121 L1276.89 182.121 L1276.89 182.121  Z\" fill=\"#009af9\" fill-rule=\"evenodd\" fill-opacity=\"1\"/>\n",
       "<polyline clip-path=\"url(#clip482)\" style=\"stroke:#000000; stroke-linecap:round; stroke-linejoin:round; stroke-width:4; stroke-opacity:1; fill:none\" points=\"1276.89,182.121 1276.89,1445.72 1315.19,1445.72 1315.19,182.121 1276.89,182.121 \"/>\n",
       "<path clip-path=\"url(#clip482)\" d=\"M1315.19 123.841 L1315.19 1445.72 L1353.49 1445.72 L1353.49 123.841 L1315.19 123.841 L1315.19 123.841  Z\" fill=\"#009af9\" fill-rule=\"evenodd\" fill-opacity=\"1\"/>\n",
       "<polyline clip-path=\"url(#clip482)\" style=\"stroke:#000000; stroke-linecap:round; stroke-linejoin:round; stroke-width:4; stroke-opacity:1; fill:none\" points=\"1315.19,123.841 1315.19,1445.72 1353.49,1445.72 1353.49,123.841 1315.19,123.841 \"/>\n",
       "<path clip-path=\"url(#clip482)\" d=\"M1353.49 136.01 L1353.49 1445.72 L1391.79 1445.72 L1391.79 136.01 L1353.49 136.01 L1353.49 136.01  Z\" fill=\"#009af9\" fill-rule=\"evenodd\" fill-opacity=\"1\"/>\n",
       "<polyline clip-path=\"url(#clip482)\" style=\"stroke:#000000; stroke-linecap:round; stroke-linejoin:round; stroke-width:4; stroke-opacity:1; fill:none\" points=\"1353.49,136.01 1353.49,1445.72 1391.79,1445.72 1391.79,136.01 1353.49,136.01 \"/>\n",
       "<path clip-path=\"url(#clip482)\" d=\"M1391.79 173.796 L1391.79 1445.72 L1430.09 1445.72 L1430.09 173.796 L1391.79 173.796 L1391.79 173.796  Z\" fill=\"#009af9\" fill-rule=\"evenodd\" fill-opacity=\"1\"/>\n",
       "<polyline clip-path=\"url(#clip482)\" style=\"stroke:#000000; stroke-linecap:round; stroke-linejoin:round; stroke-width:4; stroke-opacity:1; fill:none\" points=\"1391.79,173.796 1391.79,1445.72 1430.09,1445.72 1430.09,173.796 1391.79,173.796 \"/>\n",
       "<path clip-path=\"url(#clip482)\" d=\"M1430.09 212.863 L1430.09 1445.72 L1468.39 1445.72 L1468.39 212.863 L1430.09 212.863 L1430.09 212.863  Z\" fill=\"#009af9\" fill-rule=\"evenodd\" fill-opacity=\"1\"/>\n",
       "<polyline clip-path=\"url(#clip482)\" style=\"stroke:#000000; stroke-linecap:round; stroke-linejoin:round; stroke-width:4; stroke-opacity:1; fill:none\" points=\"1430.09,212.863 1430.09,1445.72 1468.39,1445.72 1468.39,212.863 1430.09,212.863 \"/>\n",
       "<path clip-path=\"url(#clip482)\" d=\"M1468.39 134.088 L1468.39 1445.72 L1506.69 1445.72 L1506.69 134.088 L1468.39 134.088 L1468.39 134.088  Z\" fill=\"#009af9\" fill-rule=\"evenodd\" fill-opacity=\"1\"/>\n",
       "<polyline clip-path=\"url(#clip482)\" style=\"stroke:#000000; stroke-linecap:round; stroke-linejoin:round; stroke-width:4; stroke-opacity:1; fill:none\" points=\"1468.39,134.088 1468.39,1445.72 1506.69,1445.72 1506.69,134.088 1468.39,134.088 \"/>\n",
       "<path clip-path=\"url(#clip482)\" d=\"M1506.69 221.188 L1506.69 1445.72 L1544.99 1445.72 L1544.99 221.188 L1506.69 221.188 L1506.69 221.188  Z\" fill=\"#009af9\" fill-rule=\"evenodd\" fill-opacity=\"1\"/>\n",
       "<polyline clip-path=\"url(#clip482)\" style=\"stroke:#000000; stroke-linecap:round; stroke-linejoin:round; stroke-width:4; stroke-opacity:1; fill:none\" points=\"1506.69,221.188 1506.69,1445.72 1544.99,1445.72 1544.99,221.188 1506.69,221.188 \"/>\n",
       "<path clip-path=\"url(#clip482)\" d=\"M1544.99 171.234 L1544.99 1445.72 L1583.29 1445.72 L1583.29 171.234 L1544.99 171.234 L1544.99 171.234  Z\" fill=\"#009af9\" fill-rule=\"evenodd\" fill-opacity=\"1\"/>\n",
       "<polyline clip-path=\"url(#clip482)\" style=\"stroke:#000000; stroke-linecap:round; stroke-linejoin:round; stroke-width:4; stroke-opacity:1; fill:none\" points=\"1544.99,171.234 1544.99,1445.72 1583.29,1445.72 1583.29,171.234 1544.99,171.234 \"/>\n",
       "<path clip-path=\"url(#clip482)\" d=\"M1583.29 158.425 L1583.29 1445.72 L1621.59 1445.72 L1621.59 158.425 L1583.29 158.425 L1583.29 158.425  Z\" fill=\"#009af9\" fill-rule=\"evenodd\" fill-opacity=\"1\"/>\n",
       "<polyline clip-path=\"url(#clip482)\" style=\"stroke:#000000; stroke-linecap:round; stroke-linejoin:round; stroke-width:4; stroke-opacity:1; fill:none\" points=\"1583.29,158.425 1583.29,1445.72 1621.59,1445.72 1621.59,158.425 1583.29,158.425 \"/>\n",
       "<path clip-path=\"url(#clip482)\" d=\"M1621.59 130.246 L1621.59 1445.72 L1659.9 1445.72 L1659.9 130.246 L1621.59 130.246 L1621.59 130.246  Z\" fill=\"#009af9\" fill-rule=\"evenodd\" fill-opacity=\"1\"/>\n",
       "<polyline clip-path=\"url(#clip482)\" style=\"stroke:#000000; stroke-linecap:round; stroke-linejoin:round; stroke-width:4; stroke-opacity:1; fill:none\" points=\"1621.59,130.246 1621.59,1445.72 1659.9,1445.72 1659.9,130.246 1621.59,130.246 \"/>\n",
       "<path clip-path=\"url(#clip482)\" d=\"M1659.9 175.717 L1659.9 1445.72 L1698.2 1445.72 L1698.2 175.717 L1659.9 175.717 L1659.9 175.717  Z\" fill=\"#009af9\" fill-rule=\"evenodd\" fill-opacity=\"1\"/>\n",
       "<polyline clip-path=\"url(#clip482)\" style=\"stroke:#000000; stroke-linecap:round; stroke-linejoin:round; stroke-width:4; stroke-opacity:1; fill:none\" points=\"1659.9,175.717 1659.9,1445.72 1698.2,1445.72 1698.2,175.717 1659.9,175.717 \"/>\n",
       "<path clip-path=\"url(#clip482)\" d=\"M1698.2 169.313 L1698.2 1445.72 L1736.5 1445.72 L1736.5 169.313 L1698.2 169.313 L1698.2 169.313  Z\" fill=\"#009af9\" fill-rule=\"evenodd\" fill-opacity=\"1\"/>\n",
       "<polyline clip-path=\"url(#clip482)\" style=\"stroke:#000000; stroke-linecap:round; stroke-linejoin:round; stroke-width:4; stroke-opacity:1; fill:none\" points=\"1698.2,169.313 1698.2,1445.72 1736.5,1445.72 1736.5,169.313 1698.2,169.313 \"/>\n",
       "<path clip-path=\"url(#clip482)\" d=\"M1736.5 149.459 L1736.5 1445.72 L1774.8 1445.72 L1774.8 149.459 L1736.5 149.459 L1736.5 149.459  Z\" fill=\"#009af9\" fill-rule=\"evenodd\" fill-opacity=\"1\"/>\n",
       "<polyline clip-path=\"url(#clip482)\" style=\"stroke:#000000; stroke-linecap:round; stroke-linejoin:round; stroke-width:4; stroke-opacity:1; fill:none\" points=\"1736.5,149.459 1736.5,1445.72 1774.8,1445.72 1774.8,149.459 1736.5,149.459 \"/>\n",
       "<path clip-path=\"url(#clip482)\" d=\"M1774.8 211.582 L1774.8 1445.72 L1813.1 1445.72 L1813.1 211.582 L1774.8 211.582 L1774.8 211.582  Z\" fill=\"#009af9\" fill-rule=\"evenodd\" fill-opacity=\"1\"/>\n",
       "<polyline clip-path=\"url(#clip482)\" style=\"stroke:#000000; stroke-linecap:round; stroke-linejoin:round; stroke-width:4; stroke-opacity:1; fill:none\" points=\"1774.8,211.582 1774.8,1445.72 1813.1,1445.72 1813.1,211.582 1774.8,211.582 \"/>\n",
       "<path clip-path=\"url(#clip482)\" d=\"M1813.1 167.391 L1813.1 1445.72 L1851.4 1445.72 L1851.4 167.391 L1813.1 167.391 L1813.1 167.391  Z\" fill=\"#009af9\" fill-rule=\"evenodd\" fill-opacity=\"1\"/>\n",
       "<polyline clip-path=\"url(#clip482)\" style=\"stroke:#000000; stroke-linecap:round; stroke-linejoin:round; stroke-width:4; stroke-opacity:1; fill:none\" points=\"1813.1,167.391 1813.1,1445.72 1851.4,1445.72 1851.4,167.391 1813.1,167.391 \"/>\n",
       "<path clip-path=\"url(#clip482)\" d=\"M1851.4 184.043 L1851.4 1445.72 L1889.7 1445.72 L1889.7 184.043 L1851.4 184.043 L1851.4 184.043  Z\" fill=\"#009af9\" fill-rule=\"evenodd\" fill-opacity=\"1\"/>\n",
       "<polyline clip-path=\"url(#clip482)\" style=\"stroke:#000000; stroke-linecap:round; stroke-linejoin:round; stroke-width:4; stroke-opacity:1; fill:none\" points=\"1851.4,184.043 1851.4,1445.72 1889.7,1445.72 1889.7,184.043 1851.4,184.043 \"/>\n",
       "<path clip-path=\"url(#clip482)\" d=\"M1889.7 141.773 L1889.7 1445.72 L1928 1445.72 L1928 141.773 L1889.7 141.773 L1889.7 141.773  Z\" fill=\"#009af9\" fill-rule=\"evenodd\" fill-opacity=\"1\"/>\n",
       "<polyline clip-path=\"url(#clip482)\" style=\"stroke:#000000; stroke-linecap:round; stroke-linejoin:round; stroke-width:4; stroke-opacity:1; fill:none\" points=\"1889.7,141.773 1889.7,1445.72 1928,1445.72 1928,141.773 1889.7,141.773 \"/>\n",
       "<path clip-path=\"url(#clip482)\" d=\"M1928 180.841 L1928 1445.72 L1966.3 1445.72 L1966.3 180.841 L1928 180.841 L1928 180.841  Z\" fill=\"#009af9\" fill-rule=\"evenodd\" fill-opacity=\"1\"/>\n",
       "<polyline clip-path=\"url(#clip482)\" style=\"stroke:#000000; stroke-linecap:round; stroke-linejoin:round; stroke-width:4; stroke-opacity:1; fill:none\" points=\"1928,180.841 1928,1445.72 1966.3,1445.72 1966.3,180.841 1928,180.841 \"/>\n",
       "<path clip-path=\"url(#clip482)\" d=\"M1966.3 126.403 L1966.3 1445.72 L2004.6 1445.72 L2004.6 126.403 L1966.3 126.403 L1966.3 126.403  Z\" fill=\"#009af9\" fill-rule=\"evenodd\" fill-opacity=\"1\"/>\n",
       "<polyline clip-path=\"url(#clip482)\" style=\"stroke:#000000; stroke-linecap:round; stroke-linejoin:round; stroke-width:4; stroke-opacity:1; fill:none\" points=\"1966.3,126.403 1966.3,1445.72 2004.6,1445.72 2004.6,126.403 1966.3,126.403 \"/>\n",
       "<path clip-path=\"url(#clip482)\" d=\"M2004.6 191.088 L2004.6 1445.72 L2042.9 1445.72 L2042.9 191.088 L2004.6 191.088 L2004.6 191.088  Z\" fill=\"#009af9\" fill-rule=\"evenodd\" fill-opacity=\"1\"/>\n",
       "<polyline clip-path=\"url(#clip482)\" style=\"stroke:#000000; stroke-linecap:round; stroke-linejoin:round; stroke-width:4; stroke-opacity:1; fill:none\" points=\"2004.6,191.088 2004.6,1445.72 2042.9,1445.72 2042.9,191.088 2004.6,191.088 \"/>\n",
       "<path clip-path=\"url(#clip482)\" d=\"M2042.9 184.043 L2042.9 1445.72 L2081.2 1445.72 L2081.2 184.043 L2042.9 184.043 L2042.9 184.043  Z\" fill=\"#009af9\" fill-rule=\"evenodd\" fill-opacity=\"1\"/>\n",
       "<polyline clip-path=\"url(#clip482)\" style=\"stroke:#000000; stroke-linecap:round; stroke-linejoin:round; stroke-width:4; stroke-opacity:1; fill:none\" points=\"2042.9,184.043 2042.9,1445.72 2081.2,1445.72 2081.2,184.043 2042.9,184.043 \"/>\n",
       "<path clip-path=\"url(#clip482)\" d=\"M2081.2 160.346 L2081.2 1445.72 L2119.5 1445.72 L2119.5 160.346 L2081.2 160.346 L2081.2 160.346  Z\" fill=\"#009af9\" fill-rule=\"evenodd\" fill-opacity=\"1\"/>\n",
       "<polyline clip-path=\"url(#clip482)\" style=\"stroke:#000000; stroke-linecap:round; stroke-linejoin:round; stroke-width:4; stroke-opacity:1; fill:none\" points=\"2081.2,160.346 2081.2,1445.72 2119.5,1445.72 2119.5,160.346 2081.2,160.346 \"/>\n",
       "<path clip-path=\"url(#clip482)\" d=\"M2119.5 140.493 L2119.5 1445.72 L2157.81 1445.72 L2157.81 140.493 L2119.5 140.493 L2119.5 140.493  Z\" fill=\"#009af9\" fill-rule=\"evenodd\" fill-opacity=\"1\"/>\n",
       "<polyline clip-path=\"url(#clip482)\" style=\"stroke:#000000; stroke-linecap:round; stroke-linejoin:round; stroke-width:4; stroke-opacity:1; fill:none\" points=\"2119.5,140.493 2119.5,1445.72 2157.81,1445.72 2157.81,140.493 2119.5,140.493 \"/>\n",
       "<path clip-path=\"url(#clip482)\" d=\"M2157.81 197.492 L2157.81 1445.72 L2196.11 1445.72 L2196.11 197.492 L2157.81 197.492 L2157.81 197.492  Z\" fill=\"#009af9\" fill-rule=\"evenodd\" fill-opacity=\"1\"/>\n",
       "<polyline clip-path=\"url(#clip482)\" style=\"stroke:#000000; stroke-linecap:round; stroke-linejoin:round; stroke-width:4; stroke-opacity:1; fill:none\" points=\"2157.81,197.492 2157.81,1445.72 2196.11,1445.72 2196.11,197.492 2157.81,197.492 \"/>\n",
       "<path clip-path=\"url(#clip482)\" d=\"M2196.11 153.942 L2196.11 1445.72 L2234.41 1445.72 L2234.41 153.942 L2196.11 153.942 L2196.11 153.942  Z\" fill=\"#009af9\" fill-rule=\"evenodd\" fill-opacity=\"1\"/>\n",
       "<polyline clip-path=\"url(#clip482)\" style=\"stroke:#000000; stroke-linecap:round; stroke-linejoin:round; stroke-width:4; stroke-opacity:1; fill:none\" points=\"2196.11,153.942 2196.11,1445.72 2234.41,1445.72 2234.41,153.942 2196.11,153.942 \"/>\n",
       "<circle clip-path=\"url(#clip482)\" style=\"fill:#009af9; stroke:none; fill-opacity:0\" cx=\"338.519\" cy=\"209.02\" r=\"2\"/>\n",
       "<circle clip-path=\"url(#clip482)\" style=\"fill:#009af9; stroke:none; fill-opacity:0\" cx=\"376.82\" cy=\"113.594\" r=\"2\"/>\n",
       "<circle clip-path=\"url(#clip482)\" style=\"fill:#009af9; stroke:none; fill-opacity:0\" cx=\"415.121\" cy=\"109.751\" r=\"2\"/>\n",
       "<circle clip-path=\"url(#clip482)\" style=\"fill:#009af9; stroke:none; fill-opacity:0\" cx=\"453.421\" cy=\"131.526\" r=\"2\"/>\n",
       "<circle clip-path=\"url(#clip482)\" style=\"fill:#009af9; stroke:none; fill-opacity:0\" cx=\"491.722\" cy=\"217.346\" r=\"2\"/>\n",
       "<circle clip-path=\"url(#clip482)\" style=\"fill:#009af9; stroke:none; fill-opacity:0\" cx=\"530.023\" cy=\"87.9763\" r=\"2\"/>\n",
       "<circle clip-path=\"url(#clip482)\" style=\"fill:#009af9; stroke:none; fill-opacity:0\" cx=\"568.324\" cy=\"155.863\" r=\"2\"/>\n",
       "<circle clip-path=\"url(#clip482)\" style=\"fill:#009af9; stroke:none; fill-opacity:0\" cx=\"606.624\" cy=\"204.537\" r=\"2\"/>\n",
       "<circle clip-path=\"url(#clip482)\" style=\"fill:#009af9; stroke:none; fill-opacity:0\" cx=\"644.925\" cy=\"203.256\" r=\"2\"/>\n",
       "<circle clip-path=\"url(#clip482)\" style=\"fill:#009af9; stroke:none; fill-opacity:0\" cx=\"683.226\" cy=\"190.447\" r=\"2\"/>\n",
       "<circle clip-path=\"url(#clip482)\" style=\"fill:#009af9; stroke:none; fill-opacity:0\" cx=\"721.527\" cy=\"148.178\" r=\"2\"/>\n",
       "<circle clip-path=\"url(#clip482)\" style=\"fill:#009af9; stroke:none; fill-opacity:0\" cx=\"759.827\" cy=\"160.987\" r=\"2\"/>\n",
       "<circle clip-path=\"url(#clip482)\" style=\"fill:#009af9; stroke:none; fill-opacity:0\" cx=\"798.128\" cy=\"182.121\" r=\"2\"/>\n",
       "<circle clip-path=\"url(#clip482)\" style=\"fill:#009af9; stroke:none; fill-opacity:0\" cx=\"836.429\" cy=\"191.088\" r=\"2\"/>\n",
       "<circle clip-path=\"url(#clip482)\" style=\"fill:#009af9; stroke:none; fill-opacity:0\" cx=\"874.73\" cy=\"154.582\" r=\"2\"/>\n",
       "<circle clip-path=\"url(#clip482)\" style=\"fill:#009af9; stroke:none; fill-opacity:0\" cx=\"913.03\" cy=\"144.976\" r=\"2\"/>\n",
       "<circle clip-path=\"url(#clip482)\" style=\"fill:#009af9; stroke:none; fill-opacity:0\" cx=\"951.331\" cy=\"167.391\" r=\"2\"/>\n",
       "<circle clip-path=\"url(#clip482)\" style=\"fill:#009af9; stroke:none; fill-opacity:0\" cx=\"989.632\" cy=\"194.93\" r=\"2\"/>\n",
       "<circle clip-path=\"url(#clip482)\" style=\"fill:#009af9; stroke:none; fill-opacity:0\" cx=\"1027.93\" cy=\"162.268\" r=\"2\"/>\n",
       "<circle clip-path=\"url(#clip482)\" style=\"fill:#009af9; stroke:none; fill-opacity:0\" cx=\"1066.23\" cy=\"144.335\" r=\"2\"/>\n",
       "<circle clip-path=\"url(#clip482)\" style=\"fill:#009af9; stroke:none; fill-opacity:0\" cx=\"1104.53\" cy=\"154.582\" r=\"2\"/>\n",
       "<circle clip-path=\"url(#clip482)\" style=\"fill:#009af9; stroke:none; fill-opacity:0\" cx=\"1142.83\" cy=\"203.256\" r=\"2\"/>\n",
       "<circle clip-path=\"url(#clip482)\" style=\"fill:#009af9; stroke:none; fill-opacity:0\" cx=\"1181.14\" cy=\"145.616\" r=\"2\"/>\n",
       "<circle clip-path=\"url(#clip482)\" style=\"fill:#009af9; stroke:none; fill-opacity:0\" cx=\"1219.44\" cy=\"153.942\" r=\"2\"/>\n",
       "<circle clip-path=\"url(#clip482)\" style=\"fill:#009af9; stroke:none; fill-opacity:0\" cx=\"1257.74\" cy=\"132.167\" r=\"2\"/>\n",
       "<circle clip-path=\"url(#clip482)\" style=\"fill:#009af9; stroke:none; fill-opacity:0\" cx=\"1296.04\" cy=\"182.121\" r=\"2\"/>\n",
       "<circle clip-path=\"url(#clip482)\" style=\"fill:#009af9; stroke:none; fill-opacity:0\" cx=\"1334.34\" cy=\"123.841\" r=\"2\"/>\n",
       "<circle clip-path=\"url(#clip482)\" style=\"fill:#009af9; stroke:none; fill-opacity:0\" cx=\"1372.64\" cy=\"136.01\" r=\"2\"/>\n",
       "<circle clip-path=\"url(#clip482)\" style=\"fill:#009af9; stroke:none; fill-opacity:0\" cx=\"1410.94\" cy=\"173.796\" r=\"2\"/>\n",
       "<circle clip-path=\"url(#clip482)\" style=\"fill:#009af9; stroke:none; fill-opacity:0\" cx=\"1449.24\" cy=\"212.863\" r=\"2\"/>\n",
       "<circle clip-path=\"url(#clip482)\" style=\"fill:#009af9; stroke:none; fill-opacity:0\" cx=\"1487.54\" cy=\"134.088\" r=\"2\"/>\n",
       "<circle clip-path=\"url(#clip482)\" style=\"fill:#009af9; stroke:none; fill-opacity:0\" cx=\"1525.84\" cy=\"221.188\" r=\"2\"/>\n",
       "<circle clip-path=\"url(#clip482)\" style=\"fill:#009af9; stroke:none; fill-opacity:0\" cx=\"1564.14\" cy=\"171.234\" r=\"2\"/>\n",
       "<circle clip-path=\"url(#clip482)\" style=\"fill:#009af9; stroke:none; fill-opacity:0\" cx=\"1602.44\" cy=\"158.425\" r=\"2\"/>\n",
       "<circle clip-path=\"url(#clip482)\" style=\"fill:#009af9; stroke:none; fill-opacity:0\" cx=\"1640.74\" cy=\"130.246\" r=\"2\"/>\n",
       "<circle clip-path=\"url(#clip482)\" style=\"fill:#009af9; stroke:none; fill-opacity:0\" cx=\"1679.05\" cy=\"175.717\" r=\"2\"/>\n",
       "<circle clip-path=\"url(#clip482)\" style=\"fill:#009af9; stroke:none; fill-opacity:0\" cx=\"1717.35\" cy=\"169.313\" r=\"2\"/>\n",
       "<circle clip-path=\"url(#clip482)\" style=\"fill:#009af9; stroke:none; fill-opacity:0\" cx=\"1755.65\" cy=\"149.459\" r=\"2\"/>\n",
       "<circle clip-path=\"url(#clip482)\" style=\"fill:#009af9; stroke:none; fill-opacity:0\" cx=\"1793.95\" cy=\"211.582\" r=\"2\"/>\n",
       "<circle clip-path=\"url(#clip482)\" style=\"fill:#009af9; stroke:none; fill-opacity:0\" cx=\"1832.25\" cy=\"167.391\" r=\"2\"/>\n",
       "<circle clip-path=\"url(#clip482)\" style=\"fill:#009af9; stroke:none; fill-opacity:0\" cx=\"1870.55\" cy=\"184.043\" r=\"2\"/>\n",
       "<circle clip-path=\"url(#clip482)\" style=\"fill:#009af9; stroke:none; fill-opacity:0\" cx=\"1908.85\" cy=\"141.773\" r=\"2\"/>\n",
       "<circle clip-path=\"url(#clip482)\" style=\"fill:#009af9; stroke:none; fill-opacity:0\" cx=\"1947.15\" cy=\"180.841\" r=\"2\"/>\n",
       "<circle clip-path=\"url(#clip482)\" style=\"fill:#009af9; stroke:none; fill-opacity:0\" cx=\"1985.45\" cy=\"126.403\" r=\"2\"/>\n",
       "<circle clip-path=\"url(#clip482)\" style=\"fill:#009af9; stroke:none; fill-opacity:0\" cx=\"2023.75\" cy=\"191.088\" r=\"2\"/>\n",
       "<circle clip-path=\"url(#clip482)\" style=\"fill:#009af9; stroke:none; fill-opacity:0\" cx=\"2062.05\" cy=\"184.043\" r=\"2\"/>\n",
       "<circle clip-path=\"url(#clip482)\" style=\"fill:#009af9; stroke:none; fill-opacity:0\" cx=\"2100.35\" cy=\"160.346\" r=\"2\"/>\n",
       "<circle clip-path=\"url(#clip482)\" style=\"fill:#009af9; stroke:none; fill-opacity:0\" cx=\"2138.65\" cy=\"140.493\" r=\"2\"/>\n",
       "<circle clip-path=\"url(#clip482)\" style=\"fill:#009af9; stroke:none; fill-opacity:0\" cx=\"2176.96\" cy=\"197.492\" r=\"2\"/>\n",
       "<circle clip-path=\"url(#clip482)\" style=\"fill:#009af9; stroke:none; fill-opacity:0\" cx=\"2215.26\" cy=\"153.942\" r=\"2\"/>\n",
       "</svg>\n"
      ]
     },
     "execution_count": 87,
     "metadata": {},
     "output_type": "execute_result"
    }
   ],
   "source": [
    "x = rand(10^5)\n",
    "histogram(x, bins=64, legend=false)"
   ]
  },
  {
   "cell_type": "code",
   "execution_count": 88,
   "metadata": {},
   "outputs": [
    {
     "data": {
      "text/latex": [
       "\\textbf{Normal Distribution}\n",
       "\n"
      ],
      "text/markdown": [
       "**Normal Distribution**\n"
      ],
      "text/plain": [
       "  \u001b[1mNormal Distribution\u001b[22m"
      ]
     },
     "execution_count": 88,
     "metadata": {},
     "output_type": "execute_result"
    }
   ],
   "source": [
    "md\"**Normal Distribution**\""
   ]
  },
  {
   "cell_type": "code",
   "execution_count": 89,
   "metadata": {},
   "outputs": [],
   "source": [
    "?randn;"
   ]
  },
  {
   "cell_type": "code",
   "execution_count": 90,
   "metadata": {},
   "outputs": [
    {
     "data": {
      "image/svg+xml": [
       "<?xml version=\"1.0\" encoding=\"utf-8\"?>\n",
       "<svg xmlns=\"http://www.w3.org/2000/svg\" xmlns:xlink=\"http://www.w3.org/1999/xlink\" width=\"600\" height=\"400\" viewBox=\"0 0 2400 1600\">\n",
       "<defs>\n",
       "  <clipPath id=\"clip520\">\n",
       "    <rect x=\"0\" y=\"0\" width=\"2400\" height=\"1600\"/>\n",
       "  </clipPath>\n",
       "</defs>\n",
       "<path clip-path=\"url(#clip520)\" d=\"M0 1600 L2400 1600 L2400 0 L0 0  Z\" fill=\"#ffffff\" fill-rule=\"evenodd\" fill-opacity=\"1\"/>\n",
       "<defs>\n",
       "  <clipPath id=\"clip521\">\n",
       "    <rect x=\"480\" y=\"0\" width=\"1681\" height=\"1600\"/>\n",
       "  </clipPath>\n",
       "</defs>\n",
       "<path clip-path=\"url(#clip520)\" d=\"M202.177 1486.45 L2352.76 1486.45 L2352.76 47.2441 L202.177 47.2441  Z\" fill=\"#ffffff\" fill-rule=\"evenodd\" fill-opacity=\"1\"/>\n",
       "<defs>\n",
       "  <clipPath id=\"clip522\">\n",
       "    <rect x=\"202\" y=\"47\" width=\"2152\" height=\"1440\"/>\n",
       "  </clipPath>\n",
       "</defs>\n",
       "<polyline clip-path=\"url(#clip522)\" style=\"stroke:#000000; stroke-linecap:round; stroke-linejoin:round; stroke-width:2; stroke-opacity:0.1; fill:none\" points=\"394.078,1486.45 394.078,47.2441 \"/>\n",
       "<polyline clip-path=\"url(#clip522)\" style=\"stroke:#000000; stroke-linecap:round; stroke-linejoin:round; stroke-width:2; stroke-opacity:0.1; fill:none\" points=\"854.176,1486.45 854.176,47.2441 \"/>\n",
       "<polyline clip-path=\"url(#clip522)\" style=\"stroke:#000000; stroke-linecap:round; stroke-linejoin:round; stroke-width:2; stroke-opacity:0.1; fill:none\" points=\"1314.27,1486.45 1314.27,47.2441 \"/>\n",
       "<polyline clip-path=\"url(#clip522)\" style=\"stroke:#000000; stroke-linecap:round; stroke-linejoin:round; stroke-width:2; stroke-opacity:0.1; fill:none\" points=\"1774.37,1486.45 1774.37,47.2441 \"/>\n",
       "<polyline clip-path=\"url(#clip522)\" style=\"stroke:#000000; stroke-linecap:round; stroke-linejoin:round; stroke-width:2; stroke-opacity:0.1; fill:none\" points=\"2234.47,1486.45 2234.47,47.2441 \"/>\n",
       "<polyline clip-path=\"url(#clip520)\" style=\"stroke:#000000; stroke-linecap:round; stroke-linejoin:round; stroke-width:4; stroke-opacity:1; fill:none\" points=\"202.177,1486.45 2352.76,1486.45 \"/>\n",
       "<polyline clip-path=\"url(#clip520)\" style=\"stroke:#000000; stroke-linecap:round; stroke-linejoin:round; stroke-width:4; stroke-opacity:1; fill:none\" points=\"394.078,1486.45 394.078,1467.55 \"/>\n",
       "<polyline clip-path=\"url(#clip520)\" style=\"stroke:#000000; stroke-linecap:round; stroke-linejoin:round; stroke-width:4; stroke-opacity:1; fill:none\" points=\"854.176,1486.45 854.176,1467.55 \"/>\n",
       "<polyline clip-path=\"url(#clip520)\" style=\"stroke:#000000; stroke-linecap:round; stroke-linejoin:round; stroke-width:4; stroke-opacity:1; fill:none\" points=\"1314.27,1486.45 1314.27,1467.55 \"/>\n",
       "<polyline clip-path=\"url(#clip520)\" style=\"stroke:#000000; stroke-linecap:round; stroke-linejoin:round; stroke-width:4; stroke-opacity:1; fill:none\" points=\"1774.37,1486.45 1774.37,1467.55 \"/>\n",
       "<polyline clip-path=\"url(#clip520)\" style=\"stroke:#000000; stroke-linecap:round; stroke-linejoin:round; stroke-width:4; stroke-opacity:1; fill:none\" points=\"2234.47,1486.45 2234.47,1467.55 \"/>\n",
       "<path clip-path=\"url(#clip520)\" d=\"M340.606 1532.02 L370.282 1532.02 L370.282 1535.95 L340.606 1535.95 L340.606 1532.02 Z\" fill=\"#000000\" fill-rule=\"nonzero\" fill-opacity=\"1\" /><path clip-path=\"url(#clip520)\" d=\"M380.421 1514.29 L398.777 1514.29 L398.777 1518.22 L384.703 1518.22 L384.703 1526.7 Q385.722 1526.35 386.74 1526.19 Q387.759 1526 388.777 1526 Q394.564 1526 397.944 1529.17 Q401.323 1532.34 401.323 1537.76 Q401.323 1543.34 397.851 1546.44 Q394.379 1549.52 388.06 1549.52 Q385.884 1549.52 383.615 1549.15 Q381.37 1548.78 378.962 1548.04 L378.962 1543.34 Q381.046 1544.47 383.268 1545.03 Q385.49 1545.58 387.967 1545.58 Q391.972 1545.58 394.31 1543.48 Q396.647 1541.37 396.647 1537.76 Q396.647 1534.15 394.31 1532.04 Q391.972 1529.94 387.967 1529.94 Q386.092 1529.94 384.217 1530.35 Q382.365 1530.77 380.421 1531.65 L380.421 1514.29 Z\" fill=\"#000000\" fill-rule=\"nonzero\" fill-opacity=\"1\" /><path clip-path=\"url(#clip520)\" d=\"M410.536 1542.97 L415.421 1542.97 L415.421 1548.85 L410.536 1548.85 L410.536 1542.97 Z\" fill=\"#000000\" fill-rule=\"nonzero\" fill-opacity=\"1\" /><path clip-path=\"url(#clip520)\" d=\"M435.606 1517.37 Q431.995 1517.37 430.166 1520.93 Q428.36 1524.47 428.36 1531.6 Q428.36 1538.71 430.166 1542.27 Q431.995 1545.82 435.606 1545.82 Q439.24 1545.82 441.045 1542.27 Q442.874 1538.71 442.874 1531.6 Q442.874 1524.47 441.045 1520.93 Q439.24 1517.37 435.606 1517.37 M435.606 1513.66 Q441.416 1513.66 444.471 1518.27 Q447.55 1522.85 447.55 1531.6 Q447.55 1540.33 444.471 1544.94 Q441.416 1549.52 435.606 1549.52 Q429.795 1549.52 426.717 1544.94 Q423.661 1540.33 423.661 1531.6 Q423.661 1522.85 426.717 1518.27 Q429.795 1513.66 435.606 1513.66 Z\" fill=\"#000000\" fill-rule=\"nonzero\" fill-opacity=\"1\" /><path clip-path=\"url(#clip520)\" d=\"M801.202 1532.02 L830.878 1532.02 L830.878 1535.95 L801.202 1535.95 L801.202 1532.02 Z\" fill=\"#000000\" fill-rule=\"nonzero\" fill-opacity=\"1\" /><path clip-path=\"url(#clip520)\" d=\"M844.998 1544.91 L861.317 1544.91 L861.317 1548.85 L839.373 1548.85 L839.373 1544.91 Q842.035 1542.16 846.618 1537.53 Q851.225 1532.88 852.405 1531.53 Q854.651 1529.01 855.53 1527.27 Q856.433 1525.51 856.433 1523.82 Q856.433 1521.07 854.489 1519.33 Q852.567 1517.6 849.465 1517.6 Q847.266 1517.6 844.813 1518.36 Q842.382 1519.13 839.604 1520.68 L839.604 1515.95 Q842.428 1514.82 844.882 1514.24 Q847.336 1513.66 849.373 1513.66 Q854.743 1513.66 857.938 1516.35 Q861.132 1519.03 861.132 1523.52 Q861.132 1525.65 860.322 1527.57 Q859.535 1529.47 857.428 1532.07 Q856.85 1532.74 853.748 1535.95 Q850.646 1539.15 844.998 1544.91 Z\" fill=\"#000000\" fill-rule=\"nonzero\" fill-opacity=\"1\" /><path clip-path=\"url(#clip520)\" d=\"M871.132 1542.97 L876.016 1542.97 L876.016 1548.85 L871.132 1548.85 L871.132 1542.97 Z\" fill=\"#000000\" fill-rule=\"nonzero\" fill-opacity=\"1\" /><path clip-path=\"url(#clip520)\" d=\"M886.248 1514.29 L904.604 1514.29 L904.604 1518.22 L890.53 1518.22 L890.53 1526.7 Q891.549 1526.35 892.567 1526.19 Q893.586 1526 894.604 1526 Q900.391 1526 903.771 1529.17 Q907.15 1532.34 907.15 1537.76 Q907.15 1543.34 903.678 1546.44 Q900.206 1549.52 893.887 1549.52 Q891.711 1549.52 889.442 1549.15 Q887.197 1548.78 884.789 1548.04 L884.789 1543.34 Q886.873 1544.47 889.095 1545.03 Q891.317 1545.58 893.794 1545.58 Q897.799 1545.58 900.137 1543.48 Q902.474 1541.37 902.474 1537.76 Q902.474 1534.15 900.137 1532.04 Q897.799 1529.94 893.794 1529.94 Q891.919 1529.94 890.044 1530.35 Q888.192 1530.77 886.248 1531.65 L886.248 1514.29 Z\" fill=\"#000000\" fill-rule=\"nonzero\" fill-opacity=\"1\" /><path clip-path=\"url(#clip520)\" d=\"M1291.66 1517.37 Q1288.05 1517.37 1286.22 1520.93 Q1284.41 1524.47 1284.41 1531.6 Q1284.41 1538.71 1286.22 1542.27 Q1288.05 1545.82 1291.66 1545.82 Q1295.29 1545.82 1297.1 1542.27 Q1298.93 1538.71 1298.93 1531.6 Q1298.93 1524.47 1297.1 1520.93 Q1295.29 1517.37 1291.66 1517.37 M1291.66 1513.66 Q1297.47 1513.66 1300.52 1518.27 Q1303.6 1522.85 1303.6 1531.6 Q1303.6 1540.33 1300.52 1544.94 Q1297.47 1549.52 1291.66 1549.52 Q1285.85 1549.52 1282.77 1544.94 Q1279.71 1540.33 1279.71 1531.6 Q1279.71 1522.85 1282.77 1518.27 Q1285.85 1513.66 1291.66 1513.66 Z\" fill=\"#000000\" fill-rule=\"nonzero\" fill-opacity=\"1\" /><path clip-path=\"url(#clip520)\" d=\"M1311.82 1542.97 L1316.7 1542.97 L1316.7 1548.85 L1311.82 1548.85 L1311.82 1542.97 Z\" fill=\"#000000\" fill-rule=\"nonzero\" fill-opacity=\"1\" /><path clip-path=\"url(#clip520)\" d=\"M1336.89 1517.37 Q1333.28 1517.37 1331.45 1520.93 Q1329.64 1524.47 1329.64 1531.6 Q1329.64 1538.71 1331.45 1542.27 Q1333.28 1545.82 1336.89 1545.82 Q1340.52 1545.82 1342.33 1542.27 Q1344.16 1538.71 1344.16 1531.6 Q1344.16 1524.47 1342.33 1520.93 Q1340.52 1517.37 1336.89 1517.37 M1336.89 1513.66 Q1342.7 1513.66 1345.76 1518.27 Q1348.83 1522.85 1348.83 1531.6 Q1348.83 1540.33 1345.76 1544.94 Q1342.7 1549.52 1336.89 1549.52 Q1331.08 1549.52 1328 1544.94 Q1324.95 1540.33 1324.95 1531.6 Q1324.95 1522.85 1328 1518.27 Q1331.08 1513.66 1336.89 1513.66 Z\" fill=\"#000000\" fill-rule=\"nonzero\" fill-opacity=\"1\" /><path clip-path=\"url(#clip520)\" d=\"M1746.11 1544.91 L1762.43 1544.91 L1762.43 1548.85 L1740.48 1548.85 L1740.48 1544.91 Q1743.15 1542.16 1747.73 1537.53 Q1752.34 1532.88 1753.52 1531.53 Q1755.76 1529.01 1756.64 1527.27 Q1757.54 1525.51 1757.54 1523.82 Q1757.54 1521.07 1755.6 1519.33 Q1753.68 1517.6 1750.58 1517.6 Q1748.38 1517.6 1745.92 1518.36 Q1743.49 1519.13 1740.71 1520.68 L1740.71 1515.95 Q1743.54 1514.82 1745.99 1514.24 Q1748.45 1513.66 1750.48 1513.66 Q1755.85 1513.66 1759.05 1516.35 Q1762.24 1519.03 1762.24 1523.52 Q1762.24 1525.65 1761.43 1527.57 Q1760.65 1529.47 1758.54 1532.07 Q1757.96 1532.74 1754.86 1535.95 Q1751.76 1539.15 1746.11 1544.91 Z\" fill=\"#000000\" fill-rule=\"nonzero\" fill-opacity=\"1\" /><path clip-path=\"url(#clip520)\" d=\"M1772.24 1542.97 L1777.13 1542.97 L1777.13 1548.85 L1772.24 1548.85 L1772.24 1542.97 Z\" fill=\"#000000\" fill-rule=\"nonzero\" fill-opacity=\"1\" /><path clip-path=\"url(#clip520)\" d=\"M1787.36 1514.29 L1805.71 1514.29 L1805.71 1518.22 L1791.64 1518.22 L1791.64 1526.7 Q1792.66 1526.35 1793.68 1526.19 Q1794.7 1526 1795.71 1526 Q1801.5 1526 1804.88 1529.17 Q1808.26 1532.34 1808.26 1537.76 Q1808.26 1543.34 1804.79 1546.44 Q1801.32 1549.52 1795 1549.52 Q1792.82 1549.52 1790.55 1549.15 Q1788.31 1548.78 1785.9 1548.04 L1785.9 1543.34 Q1787.98 1544.47 1790.21 1545.03 Q1792.43 1545.58 1794.9 1545.58 Q1798.91 1545.58 1801.25 1543.48 Q1803.58 1541.37 1803.58 1537.76 Q1803.58 1534.15 1801.25 1532.04 Q1798.91 1529.94 1794.9 1529.94 Q1793.03 1529.94 1791.15 1530.35 Q1789.3 1530.77 1787.36 1531.65 L1787.36 1514.29 Z\" fill=\"#000000\" fill-rule=\"nonzero\" fill-opacity=\"1\" /><path clip-path=\"url(#clip520)\" d=\"M2201.63 1514.29 L2219.99 1514.29 L2219.99 1518.22 L2205.92 1518.22 L2205.92 1526.7 Q2206.94 1526.35 2207.95 1526.19 Q2208.97 1526 2209.99 1526 Q2215.78 1526 2219.16 1529.17 Q2222.54 1532.34 2222.54 1537.76 Q2222.54 1543.34 2219.07 1546.44 Q2215.59 1549.52 2209.27 1549.52 Q2207.1 1549.52 2204.83 1549.15 Q2202.58 1548.78 2200.18 1548.04 L2200.18 1543.34 Q2202.26 1544.47 2204.48 1545.03 Q2206.7 1545.58 2209.18 1545.58 Q2213.19 1545.58 2215.52 1543.48 Q2217.86 1541.37 2217.86 1537.76 Q2217.86 1534.15 2215.52 1532.04 Q2213.19 1529.94 2209.18 1529.94 Q2207.31 1529.94 2205.43 1530.35 Q2203.58 1530.77 2201.63 1531.65 L2201.63 1514.29 Z\" fill=\"#000000\" fill-rule=\"nonzero\" fill-opacity=\"1\" /><path clip-path=\"url(#clip520)\" d=\"M2231.75 1542.97 L2236.63 1542.97 L2236.63 1548.85 L2231.75 1548.85 L2231.75 1542.97 Z\" fill=\"#000000\" fill-rule=\"nonzero\" fill-opacity=\"1\" /><path clip-path=\"url(#clip520)\" d=\"M2256.82 1517.37 Q2253.21 1517.37 2251.38 1520.93 Q2249.57 1524.47 2249.57 1531.6 Q2249.57 1538.71 2251.38 1542.27 Q2253.21 1545.82 2256.82 1545.82 Q2260.45 1545.82 2262.26 1542.27 Q2264.09 1538.71 2264.09 1531.6 Q2264.09 1524.47 2262.26 1520.93 Q2260.45 1517.37 2256.82 1517.37 M2256.82 1513.66 Q2262.63 1513.66 2265.69 1518.27 Q2268.76 1522.85 2268.76 1531.6 Q2268.76 1540.33 2265.69 1544.94 Q2262.63 1549.52 2256.82 1549.52 Q2251.01 1549.52 2247.93 1544.94 Q2244.88 1540.33 2244.88 1531.6 Q2244.88 1522.85 2247.93 1518.27 Q2251.01 1513.66 2256.82 1513.66 Z\" fill=\"#000000\" fill-rule=\"nonzero\" fill-opacity=\"1\" /><polyline clip-path=\"url(#clip522)\" style=\"stroke:#000000; stroke-linecap:round; stroke-linejoin:round; stroke-width:2; stroke-opacity:0.1; fill:none\" points=\"202.177,1445.72 2352.76,1445.72 \"/>\n",
       "<polyline clip-path=\"url(#clip522)\" style=\"stroke:#000000; stroke-linecap:round; stroke-linejoin:round; stroke-width:2; stroke-opacity:0.1; fill:none\" points=\"202.177,1105.52 2352.76,1105.52 \"/>\n",
       "<polyline clip-path=\"url(#clip522)\" style=\"stroke:#000000; stroke-linecap:round; stroke-linejoin:round; stroke-width:2; stroke-opacity:0.1; fill:none\" points=\"202.177,765.315 2352.76,765.315 \"/>\n",
       "<polyline clip-path=\"url(#clip522)\" style=\"stroke:#000000; stroke-linecap:round; stroke-linejoin:round; stroke-width:2; stroke-opacity:0.1; fill:none\" points=\"202.177,425.115 2352.76,425.115 \"/>\n",
       "<polyline clip-path=\"url(#clip522)\" style=\"stroke:#000000; stroke-linecap:round; stroke-linejoin:round; stroke-width:2; stroke-opacity:0.1; fill:none\" points=\"202.177,84.9145 2352.76,84.9145 \"/>\n",
       "<polyline clip-path=\"url(#clip520)\" style=\"stroke:#000000; stroke-linecap:round; stroke-linejoin:round; stroke-width:4; stroke-opacity:1; fill:none\" points=\"202.177,1486.45 202.177,47.2441 \"/>\n",
       "<polyline clip-path=\"url(#clip520)\" style=\"stroke:#000000; stroke-linecap:round; stroke-linejoin:round; stroke-width:4; stroke-opacity:1; fill:none\" points=\"202.177,1445.72 221.074,1445.72 \"/>\n",
       "<polyline clip-path=\"url(#clip520)\" style=\"stroke:#000000; stroke-linecap:round; stroke-linejoin:round; stroke-width:4; stroke-opacity:1; fill:none\" points=\"202.177,1105.52 221.074,1105.52 \"/>\n",
       "<polyline clip-path=\"url(#clip520)\" style=\"stroke:#000000; stroke-linecap:round; stroke-linejoin:round; stroke-width:4; stroke-opacity:1; fill:none\" points=\"202.177,765.315 221.074,765.315 \"/>\n",
       "<polyline clip-path=\"url(#clip520)\" style=\"stroke:#000000; stroke-linecap:round; stroke-linejoin:round; stroke-width:4; stroke-opacity:1; fill:none\" points=\"202.177,425.115 221.074,425.115 \"/>\n",
       "<polyline clip-path=\"url(#clip520)\" style=\"stroke:#000000; stroke-linecap:round; stroke-linejoin:round; stroke-width:4; stroke-opacity:1; fill:none\" points=\"202.177,84.9145 221.074,84.9145 \"/>\n",
       "<path clip-path=\"url(#clip520)\" d=\"M154.232 1431.51 Q150.621 1431.51 148.793 1435.08 Q146.987 1438.62 146.987 1445.75 Q146.987 1452.86 148.793 1456.42 Q150.621 1459.96 154.232 1459.96 Q157.867 1459.96 159.672 1456.42 Q161.501 1452.86 161.501 1445.75 Q161.501 1438.62 159.672 1435.08 Q157.867 1431.51 154.232 1431.51 M154.232 1427.81 Q160.042 1427.81 163.098 1432.42 Q166.177 1437 166.177 1445.75 Q166.177 1454.48 163.098 1459.08 Q160.042 1463.67 154.232 1463.67 Q148.422 1463.67 145.343 1459.08 Q142.288 1454.48 142.288 1445.75 Q142.288 1437 145.343 1432.42 Q148.422 1427.81 154.232 1427.81 Z\" fill=\"#000000\" fill-rule=\"nonzero\" fill-opacity=\"1\" /><path clip-path=\"url(#clip520)\" d=\"M57.7745 1118.86 L74.0939 1118.86 L74.0939 1122.8 L52.1495 1122.8 L52.1495 1118.86 Q54.8115 1116.11 59.3949 1111.48 Q64.0013 1106.82 65.1819 1105.48 Q67.4272 1102.96 68.3068 1101.22 Q69.2096 1099.46 69.2096 1097.77 Q69.2096 1095.02 67.2652 1093.28 Q65.3439 1091.55 62.2421 1091.55 Q60.043 1091.55 57.5893 1092.31 Q55.1588 1093.07 52.381 1094.62 L52.381 1089.9 Q55.2051 1088.77 57.6588 1088.19 Q60.1124 1087.61 62.1495 1087.61 Q67.5198 1087.61 70.7142 1090.3 Q73.9087 1092.98 73.9087 1097.47 Q73.9087 1099.6 73.0985 1101.52 Q72.3115 1103.42 70.205 1106.01 Q69.6263 1106.68 66.5245 1109.9 Q63.4226 1113.1 57.7745 1118.86 Z\" fill=\"#000000\" fill-rule=\"nonzero\" fill-opacity=\"1\" /><path clip-path=\"url(#clip520)\" d=\"M93.9086 1091.31 Q90.2975 1091.31 88.4688 1094.88 Q86.6632 1098.42 86.6632 1105.55 Q86.6632 1112.66 88.4688 1116.22 Q90.2975 1119.76 93.9086 1119.76 Q97.5428 1119.76 99.3483 1116.22 Q101.177 1112.66 101.177 1105.55 Q101.177 1098.42 99.3483 1094.88 Q97.5428 1091.31 93.9086 1091.31 M93.9086 1087.61 Q99.7187 1087.61 102.774 1092.22 Q105.853 1096.8 105.853 1105.55 Q105.853 1114.28 102.774 1118.88 Q99.7187 1123.47 93.9086 1123.47 Q88.0984 1123.47 85.0197 1118.88 Q81.9642 1114.28 81.9642 1105.55 Q81.9642 1096.8 85.0197 1092.22 Q88.0984 1087.61 93.9086 1087.61 Z\" fill=\"#000000\" fill-rule=\"nonzero\" fill-opacity=\"1\" /><path clip-path=\"url(#clip520)\" d=\"M124.07 1091.31 Q120.459 1091.31 118.631 1094.88 Q116.825 1098.42 116.825 1105.55 Q116.825 1112.66 118.631 1116.22 Q120.459 1119.76 124.07 1119.76 Q127.705 1119.76 129.51 1116.22 Q131.339 1112.66 131.339 1105.55 Q131.339 1098.42 129.51 1094.88 Q127.705 1091.31 124.07 1091.31 M124.07 1087.61 Q129.881 1087.61 132.936 1092.22 Q136.015 1096.8 136.015 1105.55 Q136.015 1114.28 132.936 1118.88 Q129.881 1123.47 124.07 1123.47 Q118.26 1123.47 115.182 1118.88 Q112.126 1114.28 112.126 1105.55 Q112.126 1096.8 115.182 1092.22 Q118.26 1087.61 124.07 1087.61 Z\" fill=\"#000000\" fill-rule=\"nonzero\" fill-opacity=\"1\" /><path clip-path=\"url(#clip520)\" d=\"M154.232 1091.31 Q150.621 1091.31 148.793 1094.88 Q146.987 1098.42 146.987 1105.55 Q146.987 1112.66 148.793 1116.22 Q150.621 1119.76 154.232 1119.76 Q157.867 1119.76 159.672 1116.22 Q161.501 1112.66 161.501 1105.55 Q161.501 1098.42 159.672 1094.88 Q157.867 1091.31 154.232 1091.31 M154.232 1087.61 Q160.042 1087.61 163.098 1092.22 Q166.177 1096.8 166.177 1105.55 Q166.177 1114.28 163.098 1118.88 Q160.042 1123.47 154.232 1123.47 Q148.422 1123.47 145.343 1118.88 Q142.288 1114.28 142.288 1105.55 Q142.288 1096.8 145.343 1092.22 Q148.422 1087.61 154.232 1087.61 Z\" fill=\"#000000\" fill-rule=\"nonzero\" fill-opacity=\"1\" /><path clip-path=\"url(#clip520)\" d=\"M66.5939 752.109 L54.7884 770.558 L66.5939 770.558 L66.5939 752.109 M65.367 748.035 L71.2466 748.035 L71.2466 770.558 L76.1772 770.558 L76.1772 774.447 L71.2466 774.447 L71.2466 782.595 L66.5939 782.595 L66.5939 774.447 L50.9921 774.447 L50.9921 769.933 L65.367 748.035 Z\" fill=\"#000000\" fill-rule=\"nonzero\" fill-opacity=\"1\" /><path clip-path=\"url(#clip520)\" d=\"M93.9086 751.114 Q90.2975 751.114 88.4688 754.679 Q86.6632 758.22 86.6632 765.35 Q86.6632 772.456 88.4688 776.021 Q90.2975 779.563 93.9086 779.563 Q97.5428 779.563 99.3483 776.021 Q101.177 772.456 101.177 765.35 Q101.177 758.22 99.3483 754.679 Q97.5428 751.114 93.9086 751.114 M93.9086 747.41 Q99.7187 747.41 102.774 752.017 Q105.853 756.6 105.853 765.35 Q105.853 774.077 102.774 778.683 Q99.7187 783.266 93.9086 783.266 Q88.0984 783.266 85.0197 778.683 Q81.9642 774.077 81.9642 765.35 Q81.9642 756.6 85.0197 752.017 Q88.0984 747.41 93.9086 747.41 Z\" fill=\"#000000\" fill-rule=\"nonzero\" fill-opacity=\"1\" /><path clip-path=\"url(#clip520)\" d=\"M124.07 751.114 Q120.459 751.114 118.631 754.679 Q116.825 758.22 116.825 765.35 Q116.825 772.456 118.631 776.021 Q120.459 779.563 124.07 779.563 Q127.705 779.563 129.51 776.021 Q131.339 772.456 131.339 765.35 Q131.339 758.22 129.51 754.679 Q127.705 751.114 124.07 751.114 M124.07 747.41 Q129.881 747.41 132.936 752.017 Q136.015 756.6 136.015 765.35 Q136.015 774.077 132.936 778.683 Q129.881 783.266 124.07 783.266 Q118.26 783.266 115.182 778.683 Q112.126 774.077 112.126 765.35 Q112.126 756.6 115.182 752.017 Q118.26 747.41 124.07 747.41 Z\" fill=\"#000000\" fill-rule=\"nonzero\" fill-opacity=\"1\" /><path clip-path=\"url(#clip520)\" d=\"M154.232 751.114 Q150.621 751.114 148.793 754.679 Q146.987 758.22 146.987 765.35 Q146.987 772.456 148.793 776.021 Q150.621 779.563 154.232 779.563 Q157.867 779.563 159.672 776.021 Q161.501 772.456 161.501 765.35 Q161.501 758.22 159.672 754.679 Q157.867 751.114 154.232 751.114 M154.232 747.41 Q160.042 747.41 163.098 752.017 Q166.177 756.6 166.177 765.35 Q166.177 774.077 163.098 778.683 Q160.042 783.266 154.232 783.266 Q148.422 783.266 145.343 778.683 Q142.288 774.077 142.288 765.35 Q142.288 756.6 145.343 752.017 Q148.422 747.41 154.232 747.41 Z\" fill=\"#000000\" fill-rule=\"nonzero\" fill-opacity=\"1\" /><path clip-path=\"url(#clip520)\" d=\"M64.3254 423.251 Q61.1773 423.251 59.3254 425.404 Q57.4967 427.557 57.4967 431.307 Q57.4967 435.034 59.3254 437.21 Q61.1773 439.362 64.3254 439.362 Q67.4735 439.362 69.3022 437.21 Q71.1541 435.034 71.1541 431.307 Q71.1541 427.557 69.3022 425.404 Q67.4735 423.251 64.3254 423.251 M73.6077 408.599 L73.6077 412.858 Q71.8485 412.025 70.0429 411.585 Q68.2606 411.145 66.5013 411.145 Q61.8717 411.145 59.418 414.27 Q56.9875 417.395 56.6402 423.714 Q58.006 421.7 60.0662 420.636 Q62.1263 419.548 64.6032 419.548 Q69.8115 419.548 72.8207 422.719 Q75.8531 425.867 75.8531 431.307 Q75.8531 436.631 72.705 439.848 Q69.5568 443.066 64.3254 443.066 Q58.33 443.066 55.1588 438.483 Q51.9875 433.876 51.9875 425.15 Q51.9875 416.955 55.8764 412.094 Q59.7652 407.21 66.3161 407.21 Q68.0754 407.21 69.8578 407.557 Q71.6633 407.904 73.6077 408.599 Z\" fill=\"#000000\" fill-rule=\"nonzero\" fill-opacity=\"1\" /><path clip-path=\"url(#clip520)\" d=\"M93.9086 410.913 Q90.2975 410.913 88.4688 414.478 Q86.6632 418.02 86.6632 425.15 Q86.6632 432.256 88.4688 435.821 Q90.2975 439.362 93.9086 439.362 Q97.5428 439.362 99.3483 435.821 Q101.177 432.256 101.177 425.15 Q101.177 418.02 99.3483 414.478 Q97.5428 410.913 93.9086 410.913 M93.9086 407.21 Q99.7187 407.21 102.774 411.816 Q105.853 416.4 105.853 425.15 Q105.853 433.876 102.774 438.483 Q99.7187 443.066 93.9086 443.066 Q88.0984 443.066 85.0197 438.483 Q81.9642 433.876 81.9642 425.15 Q81.9642 416.4 85.0197 411.816 Q88.0984 407.21 93.9086 407.21 Z\" fill=\"#000000\" fill-rule=\"nonzero\" fill-opacity=\"1\" /><path clip-path=\"url(#clip520)\" d=\"M124.07 410.913 Q120.459 410.913 118.631 414.478 Q116.825 418.02 116.825 425.15 Q116.825 432.256 118.631 435.821 Q120.459 439.362 124.07 439.362 Q127.705 439.362 129.51 435.821 Q131.339 432.256 131.339 425.15 Q131.339 418.02 129.51 414.478 Q127.705 410.913 124.07 410.913 M124.07 407.21 Q129.881 407.21 132.936 411.816 Q136.015 416.4 136.015 425.15 Q136.015 433.876 132.936 438.483 Q129.881 443.066 124.07 443.066 Q118.26 443.066 115.182 438.483 Q112.126 433.876 112.126 425.15 Q112.126 416.4 115.182 411.816 Q118.26 407.21 124.07 407.21 Z\" fill=\"#000000\" fill-rule=\"nonzero\" fill-opacity=\"1\" /><path clip-path=\"url(#clip520)\" d=\"M154.232 410.913 Q150.621 410.913 148.793 414.478 Q146.987 418.02 146.987 425.15 Q146.987 432.256 148.793 435.821 Q150.621 439.362 154.232 439.362 Q157.867 439.362 159.672 435.821 Q161.501 432.256 161.501 425.15 Q161.501 418.02 159.672 414.478 Q157.867 410.913 154.232 410.913 M154.232 407.21 Q160.042 407.21 163.098 411.816 Q166.177 416.4 166.177 425.15 Q166.177 433.876 163.098 438.483 Q160.042 443.066 154.232 443.066 Q148.422 443.066 145.343 438.483 Q142.288 433.876 142.288 425.15 Q142.288 416.4 145.343 411.816 Q148.422 407.21 154.232 407.21 Z\" fill=\"#000000\" fill-rule=\"nonzero\" fill-opacity=\"1\" /><path clip-path=\"url(#clip520)\" d=\"M63.7467 85.7825 Q60.4134 85.7825 58.4921 87.5649 Q56.5939 89.3473 56.5939 92.4723 Q56.5939 95.5973 58.4921 97.3797 Q60.4134 99.1621 63.7467 99.1621 Q67.08 99.1621 69.0013 97.3797 Q70.9226 95.5741 70.9226 92.4723 Q70.9226 89.3473 69.0013 87.5649 Q67.1032 85.7825 63.7467 85.7825 M59.0708 83.7918 Q56.0615 83.0511 54.3717 80.9909 Q52.7051 78.9307 52.7051 75.9678 Q52.7051 71.8243 55.6449 69.4169 Q58.6078 67.0095 63.7467 67.0095 Q68.9087 67.0095 71.8485 69.4169 Q74.7883 71.8243 74.7883 75.9678 Q74.7883 78.9307 73.0985 80.9909 Q71.4318 83.0511 68.4457 83.7918 Q71.8253 84.5788 73.7003 86.8705 Q75.5985 89.1621 75.5985 92.4723 Q75.5985 97.4954 72.5198 100.181 Q69.4642 102.866 63.7467 102.866 Q58.0291 102.866 54.9504 100.181 Q51.8949 97.4954 51.8949 92.4723 Q51.8949 89.1621 53.793 86.8705 Q55.6912 84.5788 59.0708 83.7918 M57.3578 76.4076 Q57.3578 79.0927 59.0245 80.5974 Q60.7143 82.102 63.7467 82.102 Q66.7559 82.102 68.4457 80.5974 Q70.1587 79.0927 70.1587 76.4076 Q70.1587 73.7224 68.4457 72.2178 Q66.7559 70.7132 63.7467 70.7132 Q60.7143 70.7132 59.0245 72.2178 Q57.3578 73.7224 57.3578 76.4076 Z\" fill=\"#000000\" fill-rule=\"nonzero\" fill-opacity=\"1\" /><path clip-path=\"url(#clip520)\" d=\"M93.9086 70.7132 Q90.2975 70.7132 88.4688 74.278 Q86.6632 77.8196 86.6632 84.9492 Q86.6632 92.0556 88.4688 95.6204 Q90.2975 99.1621 93.9086 99.1621 Q97.5428 99.1621 99.3483 95.6204 Q101.177 92.0556 101.177 84.9492 Q101.177 77.8196 99.3483 74.278 Q97.5428 70.7132 93.9086 70.7132 M93.9086 67.0095 Q99.7187 67.0095 102.774 71.6159 Q105.853 76.1992 105.853 84.9492 Q105.853 93.676 102.774 98.2825 Q99.7187 102.866 93.9086 102.866 Q88.0984 102.866 85.0197 98.2825 Q81.9642 93.676 81.9642 84.9492 Q81.9642 76.1992 85.0197 71.6159 Q88.0984 67.0095 93.9086 67.0095 Z\" fill=\"#000000\" fill-rule=\"nonzero\" fill-opacity=\"1\" /><path clip-path=\"url(#clip520)\" d=\"M124.07 70.7132 Q120.459 70.7132 118.631 74.278 Q116.825 77.8196 116.825 84.9492 Q116.825 92.0556 118.631 95.6204 Q120.459 99.1621 124.07 99.1621 Q127.705 99.1621 129.51 95.6204 Q131.339 92.0556 131.339 84.9492 Q131.339 77.8196 129.51 74.278 Q127.705 70.7132 124.07 70.7132 M124.07 67.0095 Q129.881 67.0095 132.936 71.6159 Q136.015 76.1992 136.015 84.9492 Q136.015 93.676 132.936 98.2825 Q129.881 102.866 124.07 102.866 Q118.26 102.866 115.182 98.2825 Q112.126 93.676 112.126 84.9492 Q112.126 76.1992 115.182 71.6159 Q118.26 67.0095 124.07 67.0095 Z\" fill=\"#000000\" fill-rule=\"nonzero\" fill-opacity=\"1\" /><path clip-path=\"url(#clip520)\" d=\"M154.232 70.7132 Q150.621 70.7132 148.793 74.278 Q146.987 77.8196 146.987 84.9492 Q146.987 92.0556 148.793 95.6204 Q150.621 99.1621 154.232 99.1621 Q157.867 99.1621 159.672 95.6204 Q161.501 92.0556 161.501 84.9492 Q161.501 77.8196 159.672 74.278 Q157.867 70.7132 154.232 70.7132 M154.232 67.0095 Q160.042 67.0095 163.098 71.6159 Q166.177 76.1992 166.177 84.9492 Q166.177 93.676 163.098 98.2825 Q160.042 102.866 154.232 102.866 Q148.422 102.866 145.343 98.2825 Q142.288 93.676 142.288 84.9492 Q142.288 76.1992 145.343 71.6159 Q148.422 67.0095 154.232 67.0095 Z\" fill=\"#000000\" fill-rule=\"nonzero\" fill-opacity=\"1\" /><path clip-path=\"url(#clip522)\" d=\"M320.462 1445.55 L320.462 1445.72 L357.27 1445.72 L357.27 1445.55 L320.462 1445.55 L320.462 1445.55  Z\" fill=\"#009af9\" fill-rule=\"evenodd\" fill-opacity=\"1\"/>\n",
       "<polyline clip-path=\"url(#clip522)\" style=\"stroke:#000000; stroke-linecap:round; stroke-linejoin:round; stroke-width:4; stroke-opacity:1; fill:none\" points=\"320.462,1445.55 320.462,1445.72 357.27,1445.72 357.27,1445.55 320.462,1445.55 \"/>\n",
       "<path clip-path=\"url(#clip522)\" d=\"M357.27 1445.72 L357.27 1445.72 L394.078 1445.72 L394.078 1445.72 L357.27 1445.72 L357.27 1445.72  Z\" fill=\"#009af9\" fill-rule=\"evenodd\" fill-opacity=\"1\"/>\n",
       "<polyline clip-path=\"url(#clip522)\" style=\"stroke:#000000; stroke-linecap:round; stroke-linejoin:round; stroke-width:4; stroke-opacity:1; fill:none\" points=\"357.27,1445.72 357.27,1445.72 394.078,1445.72 357.27,1445.72 \"/>\n",
       "<path clip-path=\"url(#clip522)\" d=\"M394.078 1445.72 L394.078 1445.72 L430.886 1445.72 L430.886 1445.72 L394.078 1445.72 L394.078 1445.72  Z\" fill=\"#009af9\" fill-rule=\"evenodd\" fill-opacity=\"1\"/>\n",
       "<polyline clip-path=\"url(#clip522)\" style=\"stroke:#000000; stroke-linecap:round; stroke-linejoin:round; stroke-width:4; stroke-opacity:1; fill:none\" points=\"394.078,1445.72 394.078,1445.72 430.886,1445.72 394.078,1445.72 \"/>\n",
       "<path clip-path=\"url(#clip522)\" d=\"M430.886 1445.72 L430.886 1445.72 L467.694 1445.72 L467.694 1445.72 L430.886 1445.72 L430.886 1445.72  Z\" fill=\"#009af9\" fill-rule=\"evenodd\" fill-opacity=\"1\"/>\n",
       "<polyline clip-path=\"url(#clip522)\" style=\"stroke:#000000; stroke-linecap:round; stroke-linejoin:round; stroke-width:4; stroke-opacity:1; fill:none\" points=\"430.886,1445.72 430.886,1445.72 467.694,1445.72 430.886,1445.72 \"/>\n",
       "<path clip-path=\"url(#clip522)\" d=\"M467.694 1445.55 L467.694 1445.72 L504.502 1445.72 L504.502 1445.55 L467.694 1445.55 L467.694 1445.55  Z\" fill=\"#009af9\" fill-rule=\"evenodd\" fill-opacity=\"1\"/>\n",
       "<polyline clip-path=\"url(#clip522)\" style=\"stroke:#000000; stroke-linecap:round; stroke-linejoin:round; stroke-width:4; stroke-opacity:1; fill:none\" points=\"467.694,1445.55 467.694,1445.72 504.502,1445.72 504.502,1445.55 467.694,1445.55 \"/>\n",
       "<path clip-path=\"url(#clip522)\" d=\"M504.502 1445.55 L504.502 1445.72 L541.309 1445.72 L541.309 1445.55 L504.502 1445.55 L504.502 1445.55  Z\" fill=\"#009af9\" fill-rule=\"evenodd\" fill-opacity=\"1\"/>\n",
       "<polyline clip-path=\"url(#clip522)\" style=\"stroke:#000000; stroke-linecap:round; stroke-linejoin:round; stroke-width:4; stroke-opacity:1; fill:none\" points=\"504.502,1445.55 504.502,1445.72 541.309,1445.72 541.309,1445.55 504.502,1445.55 \"/>\n",
       "<path clip-path=\"url(#clip522)\" d=\"M541.309 1445.72 L541.309 1445.72 L578.117 1445.72 L578.117 1445.72 L541.309 1445.72 L541.309 1445.72  Z\" fill=\"#009af9\" fill-rule=\"evenodd\" fill-opacity=\"1\"/>\n",
       "<polyline clip-path=\"url(#clip522)\" style=\"stroke:#000000; stroke-linecap:round; stroke-linejoin:round; stroke-width:4; stroke-opacity:1; fill:none\" points=\"541.309,1445.72 541.309,1445.72 578.117,1445.72 541.309,1445.72 \"/>\n",
       "<path clip-path=\"url(#clip522)\" d=\"M578.117 1444.87 L578.117 1445.72 L614.925 1445.72 L614.925 1444.87 L578.117 1444.87 L578.117 1444.87  Z\" fill=\"#009af9\" fill-rule=\"evenodd\" fill-opacity=\"1\"/>\n",
       "<polyline clip-path=\"url(#clip522)\" style=\"stroke:#000000; stroke-linecap:round; stroke-linejoin:round; stroke-width:4; stroke-opacity:1; fill:none\" points=\"578.117,1444.87 578.117,1445.72 614.925,1445.72 614.925,1444.87 578.117,1444.87 \"/>\n",
       "<path clip-path=\"url(#clip522)\" d=\"M614.925 1444.01 L614.925 1445.72 L651.733 1445.72 L651.733 1444.01 L614.925 1444.01 L614.925 1444.01  Z\" fill=\"#009af9\" fill-rule=\"evenodd\" fill-opacity=\"1\"/>\n",
       "<polyline clip-path=\"url(#clip522)\" style=\"stroke:#000000; stroke-linecap:round; stroke-linejoin:round; stroke-width:4; stroke-opacity:1; fill:none\" points=\"614.925,1444.01 614.925,1445.72 651.733,1445.72 651.733,1444.01 614.925,1444.01 \"/>\n",
       "<path clip-path=\"url(#clip522)\" d=\"M651.733 1442.99 L651.733 1445.72 L688.541 1445.72 L688.541 1442.99 L651.733 1442.99 L651.733 1442.99  Z\" fill=\"#009af9\" fill-rule=\"evenodd\" fill-opacity=\"1\"/>\n",
       "<polyline clip-path=\"url(#clip522)\" style=\"stroke:#000000; stroke-linecap:round; stroke-linejoin:round; stroke-width:4; stroke-opacity:1; fill:none\" points=\"651.733,1442.99 651.733,1445.72 688.541,1445.72 688.541,1442.99 651.733,1442.99 \"/>\n",
       "<path clip-path=\"url(#clip522)\" d=\"M688.541 1438.23 L688.541 1445.72 L725.349 1445.72 L725.349 1438.23 L688.541 1438.23 L688.541 1438.23  Z\" fill=\"#009af9\" fill-rule=\"evenodd\" fill-opacity=\"1\"/>\n",
       "<polyline clip-path=\"url(#clip522)\" style=\"stroke:#000000; stroke-linecap:round; stroke-linejoin:round; stroke-width:4; stroke-opacity:1; fill:none\" points=\"688.541,1438.23 688.541,1445.72 725.349,1445.72 725.349,1438.23 688.541,1438.23 \"/>\n",
       "<path clip-path=\"url(#clip522)\" d=\"M725.349 1433.64 L725.349 1445.72 L762.156 1445.72 L762.156 1433.64 L725.349 1433.64 L725.349 1433.64  Z\" fill=\"#009af9\" fill-rule=\"evenodd\" fill-opacity=\"1\"/>\n",
       "<polyline clip-path=\"url(#clip522)\" style=\"stroke:#000000; stroke-linecap:round; stroke-linejoin:round; stroke-width:4; stroke-opacity:1; fill:none\" points=\"725.349,1433.64 725.349,1445.72 762.156,1445.72 762.156,1433.64 725.349,1433.64 \"/>\n",
       "<path clip-path=\"url(#clip522)\" d=\"M762.156 1423.6 L762.156 1445.72 L798.964 1445.72 L798.964 1423.6 L762.156 1423.6 L762.156 1423.6  Z\" fill=\"#009af9\" fill-rule=\"evenodd\" fill-opacity=\"1\"/>\n",
       "<polyline clip-path=\"url(#clip522)\" style=\"stroke:#000000; stroke-linecap:round; stroke-linejoin:round; stroke-width:4; stroke-opacity:1; fill:none\" points=\"762.156,1423.6 762.156,1445.72 798.964,1445.72 798.964,1423.6 762.156,1423.6 \"/>\n",
       "<path clip-path=\"url(#clip522)\" d=\"M798.964 1410.85 L798.964 1445.72 L835.772 1445.72 L835.772 1410.85 L798.964 1410.85 L798.964 1410.85  Z\" fill=\"#009af9\" fill-rule=\"evenodd\" fill-opacity=\"1\"/>\n",
       "<polyline clip-path=\"url(#clip522)\" style=\"stroke:#000000; stroke-linecap:round; stroke-linejoin:round; stroke-width:4; stroke-opacity:1; fill:none\" points=\"798.964,1410.85 798.964,1445.72 835.772,1445.72 835.772,1410.85 798.964,1410.85 \"/>\n",
       "<path clip-path=\"url(#clip522)\" d=\"M835.772 1388.9 L835.772 1445.72 L872.58 1445.72 L872.58 1388.9 L835.772 1388.9 L835.772 1388.9  Z\" fill=\"#009af9\" fill-rule=\"evenodd\" fill-opacity=\"1\"/>\n",
       "<polyline clip-path=\"url(#clip522)\" style=\"stroke:#000000; stroke-linecap:round; stroke-linejoin:round; stroke-width:4; stroke-opacity:1; fill:none\" points=\"835.772,1388.9 835.772,1445.72 872.58,1445.72 872.58,1388.9 835.772,1388.9 \"/>\n",
       "<path clip-path=\"url(#clip522)\" d=\"M872.58 1348.25 L872.58 1445.72 L909.388 1445.72 L909.388 1348.25 L872.58 1348.25 L872.58 1348.25  Z\" fill=\"#009af9\" fill-rule=\"evenodd\" fill-opacity=\"1\"/>\n",
       "<polyline clip-path=\"url(#clip522)\" style=\"stroke:#000000; stroke-linecap:round; stroke-linejoin:round; stroke-width:4; stroke-opacity:1; fill:none\" points=\"872.58,1348.25 872.58,1445.72 909.388,1445.72 909.388,1348.25 872.58,1348.25 \"/>\n",
       "<path clip-path=\"url(#clip522)\" d=\"M909.388 1296.54 L909.388 1445.72 L946.196 1445.72 L946.196 1296.54 L909.388 1296.54 L909.388 1296.54  Z\" fill=\"#009af9\" fill-rule=\"evenodd\" fill-opacity=\"1\"/>\n",
       "<polyline clip-path=\"url(#clip522)\" style=\"stroke:#000000; stroke-linecap:round; stroke-linejoin:round; stroke-width:4; stroke-opacity:1; fill:none\" points=\"909.388,1296.54 909.388,1445.72 946.196,1445.72 946.196,1296.54 909.388,1296.54 \"/>\n",
       "<path clip-path=\"url(#clip522)\" d=\"M946.196 1227.48 L946.196 1445.72 L983.004 1445.72 L983.004 1227.48 L946.196 1227.48 L946.196 1227.48  Z\" fill=\"#009af9\" fill-rule=\"evenodd\" fill-opacity=\"1\"/>\n",
       "<polyline clip-path=\"url(#clip522)\" style=\"stroke:#000000; stroke-linecap:round; stroke-linejoin:round; stroke-width:4; stroke-opacity:1; fill:none\" points=\"946.196,1227.48 946.196,1445.72 983.004,1445.72 983.004,1227.48 946.196,1227.48 \"/>\n",
       "<path clip-path=\"url(#clip522)\" d=\"M983.004 1122.02 L983.004 1445.72 L1019.81 1445.72 L1019.81 1122.02 L983.004 1122.02 L983.004 1122.02  Z\" fill=\"#009af9\" fill-rule=\"evenodd\" fill-opacity=\"1\"/>\n",
       "<polyline clip-path=\"url(#clip522)\" style=\"stroke:#000000; stroke-linecap:round; stroke-linejoin:round; stroke-width:4; stroke-opacity:1; fill:none\" points=\"983.004,1122.02 983.004,1445.72 1019.81,1445.72 1019.81,1122.02 983.004,1122.02 \"/>\n",
       "<path clip-path=\"url(#clip522)\" d=\"M1019.81 1005.33 L1019.81 1445.72 L1056.62 1445.72 L1056.62 1005.33 L1019.81 1005.33 L1019.81 1005.33  Z\" fill=\"#009af9\" fill-rule=\"evenodd\" fill-opacity=\"1\"/>\n",
       "<polyline clip-path=\"url(#clip522)\" style=\"stroke:#000000; stroke-linecap:round; stroke-linejoin:round; stroke-width:4; stroke-opacity:1; fill:none\" points=\"1019.81,1005.33 1019.81,1445.72 1056.62,1445.72 1056.62,1005.33 1019.81,1005.33 \"/>\n",
       "<path clip-path=\"url(#clip522)\" d=\"M1056.62 861.932 L1056.62 1445.72 L1093.43 1445.72 L1093.43 861.932 L1056.62 861.932 L1056.62 861.932  Z\" fill=\"#009af9\" fill-rule=\"evenodd\" fill-opacity=\"1\"/>\n",
       "<polyline clip-path=\"url(#clip522)\" style=\"stroke:#000000; stroke-linecap:round; stroke-linejoin:round; stroke-width:4; stroke-opacity:1; fill:none\" points=\"1056.62,861.932 1056.62,1445.72 1093.43,1445.72 1093.43,861.932 1056.62,861.932 \"/>\n",
       "<path clip-path=\"url(#clip522)\" d=\"M1093.43 706.12 L1093.43 1445.72 L1130.23 1445.72 L1130.23 706.12 L1093.43 706.12 L1093.43 706.12  Z\" fill=\"#009af9\" fill-rule=\"evenodd\" fill-opacity=\"1\"/>\n",
       "<polyline clip-path=\"url(#clip522)\" style=\"stroke:#000000; stroke-linecap:round; stroke-linejoin:round; stroke-width:4; stroke-opacity:1; fill:none\" points=\"1093.43,706.12 1093.43,1445.72 1130.23,1445.72 1130.23,706.12 1093.43,706.12 \"/>\n",
       "<path clip-path=\"url(#clip522)\" d=\"M1130.23 538.061 L1130.23 1445.72 L1167.04 1445.72 L1167.04 538.061 L1130.23 538.061 L1130.23 538.061  Z\" fill=\"#009af9\" fill-rule=\"evenodd\" fill-opacity=\"1\"/>\n",
       "<polyline clip-path=\"url(#clip522)\" style=\"stroke:#000000; stroke-linecap:round; stroke-linejoin:round; stroke-width:4; stroke-opacity:1; fill:none\" points=\"1130.23,538.061 1130.23,1445.72 1167.04,1445.72 1167.04,538.061 1130.23,538.061 \"/>\n",
       "<path clip-path=\"url(#clip522)\" d=\"M1167.04 388.373 L1167.04 1445.72 L1203.85 1445.72 L1203.85 388.373 L1167.04 388.373 L1167.04 388.373  Z\" fill=\"#009af9\" fill-rule=\"evenodd\" fill-opacity=\"1\"/>\n",
       "<polyline clip-path=\"url(#clip522)\" style=\"stroke:#000000; stroke-linecap:round; stroke-linejoin:round; stroke-width:4; stroke-opacity:1; fill:none\" points=\"1167.04,388.373 1167.04,1445.72 1203.85,1445.72 1203.85,388.373 1167.04,388.373 \"/>\n",
       "<path clip-path=\"url(#clip522)\" d=\"M1203.85 263.86 L1203.85 1445.72 L1240.66 1445.72 L1240.66 263.86 L1203.85 263.86 L1203.85 263.86  Z\" fill=\"#009af9\" fill-rule=\"evenodd\" fill-opacity=\"1\"/>\n",
       "<polyline clip-path=\"url(#clip522)\" style=\"stroke:#000000; stroke-linecap:round; stroke-linejoin:round; stroke-width:4; stroke-opacity:1; fill:none\" points=\"1203.85,263.86 1203.85,1445.72 1240.66,1445.72 1240.66,263.86 1203.85,263.86 \"/>\n",
       "<path clip-path=\"url(#clip522)\" d=\"M1240.66 124.888 L1240.66 1445.72 L1277.47 1445.72 L1277.47 124.888 L1240.66 124.888 L1240.66 124.888  Z\" fill=\"#009af9\" fill-rule=\"evenodd\" fill-opacity=\"1\"/>\n",
       "<polyline clip-path=\"url(#clip522)\" style=\"stroke:#000000; stroke-linecap:round; stroke-linejoin:round; stroke-width:4; stroke-opacity:1; fill:none\" points=\"1240.66,124.888 1240.66,1445.72 1277.47,1445.72 1277.47,124.888 1240.66,124.888 \"/>\n",
       "<path clip-path=\"url(#clip522)\" d=\"M1277.47 87.9763 L1277.47 1445.72 L1314.27 1445.72 L1314.27 87.9763 L1277.47 87.9763 L1277.47 87.9763  Z\" fill=\"#009af9\" fill-rule=\"evenodd\" fill-opacity=\"1\"/>\n",
       "<polyline clip-path=\"url(#clip522)\" style=\"stroke:#000000; stroke-linecap:round; stroke-linejoin:round; stroke-width:4; stroke-opacity:1; fill:none\" points=\"1277.47,87.9763 1277.47,1445.72 1314.27,1445.72 1314.27,87.9763 1277.47,87.9763 \"/>\n",
       "<path clip-path=\"url(#clip522)\" d=\"M1314.27 105.497 L1314.27 1445.72 L1351.08 1445.72 L1351.08 105.497 L1314.27 105.497 L1314.27 105.497  Z\" fill=\"#009af9\" fill-rule=\"evenodd\" fill-opacity=\"1\"/>\n",
       "<polyline clip-path=\"url(#clip522)\" style=\"stroke:#000000; stroke-linecap:round; stroke-linejoin:round; stroke-width:4; stroke-opacity:1; fill:none\" points=\"1314.27,105.497 1314.27,1445.72 1351.08,1445.72 1351.08,105.497 1314.27,105.497 \"/>\n",
       "<path clip-path=\"url(#clip522)\" d=\"M1351.08 151.254 L1351.08 1445.72 L1387.89 1445.72 L1387.89 151.254 L1351.08 151.254 L1351.08 151.254  Z\" fill=\"#009af9\" fill-rule=\"evenodd\" fill-opacity=\"1\"/>\n",
       "<polyline clip-path=\"url(#clip522)\" style=\"stroke:#000000; stroke-linecap:round; stroke-linejoin:round; stroke-width:4; stroke-opacity:1; fill:none\" points=\"1351.08,151.254 1351.08,1445.72 1387.89,1445.72 1387.89,151.254 1351.08,151.254 \"/>\n",
       "<path clip-path=\"url(#clip522)\" d=\"M1387.89 261.989 L1387.89 1445.72 L1424.7 1445.72 L1424.7 261.989 L1387.89 261.989 L1387.89 261.989  Z\" fill=\"#009af9\" fill-rule=\"evenodd\" fill-opacity=\"1\"/>\n",
       "<polyline clip-path=\"url(#clip522)\" style=\"stroke:#000000; stroke-linecap:round; stroke-linejoin:round; stroke-width:4; stroke-opacity:1; fill:none\" points=\"1387.89,261.989 1387.89,1445.72 1424.7,1445.72 1424.7,261.989 1387.89,261.989 \"/>\n",
       "<path clip-path=\"url(#clip522)\" d=\"M1424.7 394.497 L1424.7 1445.72 L1461.51 1445.72 L1461.51 394.497 L1424.7 394.497 L1424.7 394.497  Z\" fill=\"#009af9\" fill-rule=\"evenodd\" fill-opacity=\"1\"/>\n",
       "<polyline clip-path=\"url(#clip522)\" style=\"stroke:#000000; stroke-linecap:round; stroke-linejoin:round; stroke-width:4; stroke-opacity:1; fill:none\" points=\"1424.7,394.497 1424.7,1445.72 1461.51,1445.72 1461.51,394.497 1424.7,394.497 \"/>\n",
       "<path clip-path=\"url(#clip522)\" d=\"M1461.51 530.237 L1461.51 1445.72 L1498.31 1445.72 L1498.31 530.237 L1461.51 530.237 L1461.51 530.237  Z\" fill=\"#009af9\" fill-rule=\"evenodd\" fill-opacity=\"1\"/>\n",
       "<polyline clip-path=\"url(#clip522)\" style=\"stroke:#000000; stroke-linecap:round; stroke-linejoin:round; stroke-width:4; stroke-opacity:1; fill:none\" points=\"1461.51,530.237 1461.51,1445.72 1498.31,1445.72 1498.31,530.237 1461.51,530.237 \"/>\n",
       "<path clip-path=\"url(#clip522)\" d=\"M1498.31 709.352 L1498.31 1445.72 L1535.12 1445.72 L1535.12 709.352 L1498.31 709.352 L1498.31 709.352  Z\" fill=\"#009af9\" fill-rule=\"evenodd\" fill-opacity=\"1\"/>\n",
       "<polyline clip-path=\"url(#clip522)\" style=\"stroke:#000000; stroke-linecap:round; stroke-linejoin:round; stroke-width:4; stroke-opacity:1; fill:none\" points=\"1498.31,709.352 1498.31,1445.72 1535.12,1445.72 1535.12,709.352 1498.31,709.352 \"/>\n",
       "<path clip-path=\"url(#clip522)\" d=\"M1535.12 849.515 L1535.12 1445.72 L1571.93 1445.72 L1571.93 849.515 L1535.12 849.515 L1535.12 849.515  Z\" fill=\"#009af9\" fill-rule=\"evenodd\" fill-opacity=\"1\"/>\n",
       "<polyline clip-path=\"url(#clip522)\" style=\"stroke:#000000; stroke-linecap:round; stroke-linejoin:round; stroke-width:4; stroke-opacity:1; fill:none\" points=\"1535.12,849.515 1535.12,1445.72 1571.93,1445.72 1571.93,849.515 1535.12,849.515 \"/>\n",
       "<path clip-path=\"url(#clip522)\" d=\"M1571.93 991.208 L1571.93 1445.72 L1608.74 1445.72 L1608.74 991.208 L1571.93 991.208 L1571.93 991.208  Z\" fill=\"#009af9\" fill-rule=\"evenodd\" fill-opacity=\"1\"/>\n",
       "<polyline clip-path=\"url(#clip522)\" style=\"stroke:#000000; stroke-linecap:round; stroke-linejoin:round; stroke-width:4; stroke-opacity:1; fill:none\" points=\"1571.93,991.208 1571.93,1445.72 1608.74,1445.72 1608.74,991.208 1571.93,991.208 \"/>\n",
       "<path clip-path=\"url(#clip522)\" d=\"M1608.74 1136.81 L1608.74 1445.72 L1645.54 1445.72 L1645.54 1136.81 L1608.74 1136.81 L1608.74 1136.81  Z\" fill=\"#009af9\" fill-rule=\"evenodd\" fill-opacity=\"1\"/>\n",
       "<polyline clip-path=\"url(#clip522)\" style=\"stroke:#000000; stroke-linecap:round; stroke-linejoin:round; stroke-width:4; stroke-opacity:1; fill:none\" points=\"1608.74,1136.81 1608.74,1445.72 1645.54,1445.72 1645.54,1136.81 1608.74,1136.81 \"/>\n",
       "<path clip-path=\"url(#clip522)\" d=\"M1645.54 1218.8 L1645.54 1445.72 L1682.35 1445.72 L1682.35 1218.8 L1645.54 1218.8 L1645.54 1218.8  Z\" fill=\"#009af9\" fill-rule=\"evenodd\" fill-opacity=\"1\"/>\n",
       "<polyline clip-path=\"url(#clip522)\" style=\"stroke:#000000; stroke-linecap:round; stroke-linejoin:round; stroke-width:4; stroke-opacity:1; fill:none\" points=\"1645.54,1218.8 1645.54,1445.72 1682.35,1445.72 1682.35,1218.8 1645.54,1218.8 \"/>\n",
       "<path clip-path=\"url(#clip522)\" d=\"M1682.35 1290.41 L1682.35 1445.72 L1719.16 1445.72 L1719.16 1290.41 L1682.35 1290.41 L1682.35 1290.41  Z\" fill=\"#009af9\" fill-rule=\"evenodd\" fill-opacity=\"1\"/>\n",
       "<polyline clip-path=\"url(#clip522)\" style=\"stroke:#000000; stroke-linecap:round; stroke-linejoin:round; stroke-width:4; stroke-opacity:1; fill:none\" points=\"1682.35,1290.41 1682.35,1445.72 1719.16,1445.72 1719.16,1290.41 1682.35,1290.41 \"/>\n",
       "<path clip-path=\"url(#clip522)\" d=\"M1719.16 1351.65 L1719.16 1445.72 L1755.97 1445.72 L1755.97 1351.65 L1719.16 1351.65 L1719.16 1351.65  Z\" fill=\"#009af9\" fill-rule=\"evenodd\" fill-opacity=\"1\"/>\n",
       "<polyline clip-path=\"url(#clip522)\" style=\"stroke:#000000; stroke-linecap:round; stroke-linejoin:round; stroke-width:4; stroke-opacity:1; fill:none\" points=\"1719.16,1351.65 1719.16,1445.72 1755.97,1445.72 1755.97,1351.65 1719.16,1351.65 \"/>\n",
       "<path clip-path=\"url(#clip522)\" d=\"M1755.97 1388.22 L1755.97 1445.72 L1792.78 1445.72 L1792.78 1388.22 L1755.97 1388.22 L1755.97 1388.22  Z\" fill=\"#009af9\" fill-rule=\"evenodd\" fill-opacity=\"1\"/>\n",
       "<polyline clip-path=\"url(#clip522)\" style=\"stroke:#000000; stroke-linecap:round; stroke-linejoin:round; stroke-width:4; stroke-opacity:1; fill:none\" points=\"1755.97,1388.22 1755.97,1445.72 1792.78,1445.72 1792.78,1388.22 1755.97,1388.22 \"/>\n",
       "<path clip-path=\"url(#clip522)\" d=\"M1792.78 1410.33 L1792.78 1445.72 L1829.58 1445.72 L1829.58 1410.33 L1792.78 1410.33 L1792.78 1410.33  Z\" fill=\"#009af9\" fill-rule=\"evenodd\" fill-opacity=\"1\"/>\n",
       "<polyline clip-path=\"url(#clip522)\" style=\"stroke:#000000; stroke-linecap:round; stroke-linejoin:round; stroke-width:4; stroke-opacity:1; fill:none\" points=\"1792.78,1410.33 1792.78,1445.72 1829.58,1445.72 1829.58,1410.33 1792.78,1410.33 \"/>\n",
       "<path clip-path=\"url(#clip522)\" d=\"M1829.58 1425.98 L1829.58 1445.72 L1866.39 1445.72 L1866.39 1425.98 L1829.58 1425.98 L1829.58 1425.98  Z\" fill=\"#009af9\" fill-rule=\"evenodd\" fill-opacity=\"1\"/>\n",
       "<polyline clip-path=\"url(#clip522)\" style=\"stroke:#000000; stroke-linecap:round; stroke-linejoin:round; stroke-width:4; stroke-opacity:1; fill:none\" points=\"1829.58,1425.98 1829.58,1445.72 1866.39,1445.72 1866.39,1425.98 1829.58,1425.98 \"/>\n",
       "<path clip-path=\"url(#clip522)\" d=\"M1866.39 1434.32 L1866.39 1445.72 L1903.2 1445.72 L1903.2 1434.32 L1866.39 1434.32 L1866.39 1434.32  Z\" fill=\"#009af9\" fill-rule=\"evenodd\" fill-opacity=\"1\"/>\n",
       "<polyline clip-path=\"url(#clip522)\" style=\"stroke:#000000; stroke-linecap:round; stroke-linejoin:round; stroke-width:4; stroke-opacity:1; fill:none\" points=\"1866.39,1434.32 1866.39,1445.72 1903.2,1445.72 1903.2,1434.32 1866.39,1434.32 \"/>\n",
       "<path clip-path=\"url(#clip522)\" d=\"M1903.2 1440.61 L1903.2 1445.72 L1940.01 1445.72 L1940.01 1440.61 L1903.2 1440.61 L1903.2 1440.61  Z\" fill=\"#009af9\" fill-rule=\"evenodd\" fill-opacity=\"1\"/>\n",
       "<polyline clip-path=\"url(#clip522)\" style=\"stroke:#000000; stroke-linecap:round; stroke-linejoin:round; stroke-width:4; stroke-opacity:1; fill:none\" points=\"1903.2,1440.61 1903.2,1445.72 1940.01,1445.72 1940.01,1440.61 1903.2,1440.61 \"/>\n",
       "<path clip-path=\"url(#clip522)\" d=\"M1940.01 1441.97 L1940.01 1445.72 L1976.82 1445.72 L1976.82 1441.97 L1940.01 1441.97 L1940.01 1441.97  Z\" fill=\"#009af9\" fill-rule=\"evenodd\" fill-opacity=\"1\"/>\n",
       "<polyline clip-path=\"url(#clip522)\" style=\"stroke:#000000; stroke-linecap:round; stroke-linejoin:round; stroke-width:4; stroke-opacity:1; fill:none\" points=\"1940.01,1441.97 1940.01,1445.72 1976.82,1445.72 1976.82,1441.97 1940.01,1441.97 \"/>\n",
       "<path clip-path=\"url(#clip522)\" d=\"M1976.82 1444.18 L1976.82 1445.72 L2013.62 1445.72 L2013.62 1444.18 L1976.82 1444.18 L1976.82 1444.18  Z\" fill=\"#009af9\" fill-rule=\"evenodd\" fill-opacity=\"1\"/>\n",
       "<polyline clip-path=\"url(#clip522)\" style=\"stroke:#000000; stroke-linecap:round; stroke-linejoin:round; stroke-width:4; stroke-opacity:1; fill:none\" points=\"1976.82,1444.18 1976.82,1445.72 2013.62,1445.72 2013.62,1444.18 1976.82,1444.18 \"/>\n",
       "<path clip-path=\"url(#clip522)\" d=\"M2013.62 1445.04 L2013.62 1445.72 L2050.43 1445.72 L2050.43 1445.04 L2013.62 1445.04 L2013.62 1445.04  Z\" fill=\"#009af9\" fill-rule=\"evenodd\" fill-opacity=\"1\"/>\n",
       "<polyline clip-path=\"url(#clip522)\" style=\"stroke:#000000; stroke-linecap:round; stroke-linejoin:round; stroke-width:4; stroke-opacity:1; fill:none\" points=\"2013.62,1445.04 2013.62,1445.72 2050.43,1445.72 2050.43,1445.04 2013.62,1445.04 \"/>\n",
       "<path clip-path=\"url(#clip522)\" d=\"M2050.43 1445.21 L2050.43 1445.72 L2087.24 1445.72 L2087.24 1445.21 L2050.43 1445.21 L2050.43 1445.21  Z\" fill=\"#009af9\" fill-rule=\"evenodd\" fill-opacity=\"1\"/>\n",
       "<polyline clip-path=\"url(#clip522)\" style=\"stroke:#000000; stroke-linecap:round; stroke-linejoin:round; stroke-width:4; stroke-opacity:1; fill:none\" points=\"2050.43,1445.21 2050.43,1445.72 2087.24,1445.72 2087.24,1445.21 2050.43,1445.21 \"/>\n",
       "<path clip-path=\"url(#clip522)\" d=\"M2087.24 1445.72 L2087.24 1445.72 L2124.05 1445.72 L2124.05 1445.72 L2087.24 1445.72 L2087.24 1445.72  Z\" fill=\"#009af9\" fill-rule=\"evenodd\" fill-opacity=\"1\"/>\n",
       "<polyline clip-path=\"url(#clip522)\" style=\"stroke:#000000; stroke-linecap:round; stroke-linejoin:round; stroke-width:4; stroke-opacity:1; fill:none\" points=\"2087.24,1445.72 2087.24,1445.72 2124.05,1445.72 2087.24,1445.72 \"/>\n",
       "<path clip-path=\"url(#clip522)\" d=\"M2124.05 1445.72 L2124.05 1445.72 L2160.85 1445.72 L2160.85 1445.72 L2124.05 1445.72 L2124.05 1445.72  Z\" fill=\"#009af9\" fill-rule=\"evenodd\" fill-opacity=\"1\"/>\n",
       "<polyline clip-path=\"url(#clip522)\" style=\"stroke:#000000; stroke-linecap:round; stroke-linejoin:round; stroke-width:4; stroke-opacity:1; fill:none\" points=\"2124.05,1445.72 2124.05,1445.72 2160.85,1445.72 2124.05,1445.72 \"/>\n",
       "<path clip-path=\"url(#clip522)\" d=\"M2160.85 1445.72 L2160.85 1445.72 L2197.66 1445.72 L2197.66 1445.72 L2160.85 1445.72 L2160.85 1445.72  Z\" fill=\"#009af9\" fill-rule=\"evenodd\" fill-opacity=\"1\"/>\n",
       "<polyline clip-path=\"url(#clip522)\" style=\"stroke:#000000; stroke-linecap:round; stroke-linejoin:round; stroke-width:4; stroke-opacity:1; fill:none\" points=\"2160.85,1445.72 2160.85,1445.72 2197.66,1445.72 2160.85,1445.72 \"/>\n",
       "<path clip-path=\"url(#clip522)\" d=\"M2197.66 1445.55 L2197.66 1445.72 L2234.47 1445.72 L2234.47 1445.55 L2197.66 1445.55 L2197.66 1445.55  Z\" fill=\"#009af9\" fill-rule=\"evenodd\" fill-opacity=\"1\"/>\n",
       "<polyline clip-path=\"url(#clip522)\" style=\"stroke:#000000; stroke-linecap:round; stroke-linejoin:round; stroke-width:4; stroke-opacity:1; fill:none\" points=\"2197.66,1445.55 2197.66,1445.72 2234.47,1445.72 2234.47,1445.55 2197.66,1445.55 \"/>\n",
       "<circle clip-path=\"url(#clip522)\" style=\"fill:#009af9; stroke:none; fill-opacity:0\" cx=\"338.866\" cy=\"1445.55\" r=\"2\"/>\n",
       "<circle clip-path=\"url(#clip522)\" style=\"fill:#009af9; stroke:none; fill-opacity:0\" cx=\"375.674\" cy=\"1445.72\" r=\"2\"/>\n",
       "<circle clip-path=\"url(#clip522)\" style=\"fill:#009af9; stroke:none; fill-opacity:0\" cx=\"412.482\" cy=\"1445.72\" r=\"2\"/>\n",
       "<circle clip-path=\"url(#clip522)\" style=\"fill:#009af9; stroke:none; fill-opacity:0\" cx=\"449.29\" cy=\"1445.72\" r=\"2\"/>\n",
       "<circle clip-path=\"url(#clip522)\" style=\"fill:#009af9; stroke:none; fill-opacity:0\" cx=\"486.098\" cy=\"1445.55\" r=\"2\"/>\n",
       "<circle clip-path=\"url(#clip522)\" style=\"fill:#009af9; stroke:none; fill-opacity:0\" cx=\"522.906\" cy=\"1445.55\" r=\"2\"/>\n",
       "<circle clip-path=\"url(#clip522)\" style=\"fill:#009af9; stroke:none; fill-opacity:0\" cx=\"559.713\" cy=\"1445.72\" r=\"2\"/>\n",
       "<circle clip-path=\"url(#clip522)\" style=\"fill:#009af9; stroke:none; fill-opacity:0\" cx=\"596.521\" cy=\"1444.87\" r=\"2\"/>\n",
       "<circle clip-path=\"url(#clip522)\" style=\"fill:#009af9; stroke:none; fill-opacity:0\" cx=\"633.329\" cy=\"1444.01\" r=\"2\"/>\n",
       "<circle clip-path=\"url(#clip522)\" style=\"fill:#009af9; stroke:none; fill-opacity:0\" cx=\"670.137\" cy=\"1442.99\" r=\"2\"/>\n",
       "<circle clip-path=\"url(#clip522)\" style=\"fill:#009af9; stroke:none; fill-opacity:0\" cx=\"706.945\" cy=\"1438.23\" r=\"2\"/>\n",
       "<circle clip-path=\"url(#clip522)\" style=\"fill:#009af9; stroke:none; fill-opacity:0\" cx=\"743.753\" cy=\"1433.64\" r=\"2\"/>\n",
       "<circle clip-path=\"url(#clip522)\" style=\"fill:#009af9; stroke:none; fill-opacity:0\" cx=\"780.56\" cy=\"1423.6\" r=\"2\"/>\n",
       "<circle clip-path=\"url(#clip522)\" style=\"fill:#009af9; stroke:none; fill-opacity:0\" cx=\"817.368\" cy=\"1410.85\" r=\"2\"/>\n",
       "<circle clip-path=\"url(#clip522)\" style=\"fill:#009af9; stroke:none; fill-opacity:0\" cx=\"854.176\" cy=\"1388.9\" r=\"2\"/>\n",
       "<circle clip-path=\"url(#clip522)\" style=\"fill:#009af9; stroke:none; fill-opacity:0\" cx=\"890.984\" cy=\"1348.25\" r=\"2\"/>\n",
       "<circle clip-path=\"url(#clip522)\" style=\"fill:#009af9; stroke:none; fill-opacity:0\" cx=\"927.792\" cy=\"1296.54\" r=\"2\"/>\n",
       "<circle clip-path=\"url(#clip522)\" style=\"fill:#009af9; stroke:none; fill-opacity:0\" cx=\"964.6\" cy=\"1227.48\" r=\"2\"/>\n",
       "<circle clip-path=\"url(#clip522)\" style=\"fill:#009af9; stroke:none; fill-opacity:0\" cx=\"1001.41\" cy=\"1122.02\" r=\"2\"/>\n",
       "<circle clip-path=\"url(#clip522)\" style=\"fill:#009af9; stroke:none; fill-opacity:0\" cx=\"1038.22\" cy=\"1005.33\" r=\"2\"/>\n",
       "<circle clip-path=\"url(#clip522)\" style=\"fill:#009af9; stroke:none; fill-opacity:0\" cx=\"1075.02\" cy=\"861.932\" r=\"2\"/>\n",
       "<circle clip-path=\"url(#clip522)\" style=\"fill:#009af9; stroke:none; fill-opacity:0\" cx=\"1111.83\" cy=\"706.12\" r=\"2\"/>\n",
       "<circle clip-path=\"url(#clip522)\" style=\"fill:#009af9; stroke:none; fill-opacity:0\" cx=\"1148.64\" cy=\"538.061\" r=\"2\"/>\n",
       "<circle clip-path=\"url(#clip522)\" style=\"fill:#009af9; stroke:none; fill-opacity:0\" cx=\"1185.45\" cy=\"388.373\" r=\"2\"/>\n",
       "<circle clip-path=\"url(#clip522)\" style=\"fill:#009af9; stroke:none; fill-opacity:0\" cx=\"1222.25\" cy=\"263.86\" r=\"2\"/>\n",
       "<circle clip-path=\"url(#clip522)\" style=\"fill:#009af9; stroke:none; fill-opacity:0\" cx=\"1259.06\" cy=\"124.888\" r=\"2\"/>\n",
       "<circle clip-path=\"url(#clip522)\" style=\"fill:#009af9; stroke:none; fill-opacity:0\" cx=\"1295.87\" cy=\"87.9763\" r=\"2\"/>\n",
       "<circle clip-path=\"url(#clip522)\" style=\"fill:#009af9; stroke:none; fill-opacity:0\" cx=\"1332.68\" cy=\"105.497\" r=\"2\"/>\n",
       "<circle clip-path=\"url(#clip522)\" style=\"fill:#009af9; stroke:none; fill-opacity:0\" cx=\"1369.49\" cy=\"151.254\" r=\"2\"/>\n",
       "<circle clip-path=\"url(#clip522)\" style=\"fill:#009af9; stroke:none; fill-opacity:0\" cx=\"1406.29\" cy=\"261.989\" r=\"2\"/>\n",
       "<circle clip-path=\"url(#clip522)\" style=\"fill:#009af9; stroke:none; fill-opacity:0\" cx=\"1443.1\" cy=\"394.497\" r=\"2\"/>\n",
       "<circle clip-path=\"url(#clip522)\" style=\"fill:#009af9; stroke:none; fill-opacity:0\" cx=\"1479.91\" cy=\"530.237\" r=\"2\"/>\n",
       "<circle clip-path=\"url(#clip522)\" style=\"fill:#009af9; stroke:none; fill-opacity:0\" cx=\"1516.72\" cy=\"709.352\" r=\"2\"/>\n",
       "<circle clip-path=\"url(#clip522)\" style=\"fill:#009af9; stroke:none; fill-opacity:0\" cx=\"1553.53\" cy=\"849.515\" r=\"2\"/>\n",
       "<circle clip-path=\"url(#clip522)\" style=\"fill:#009af9; stroke:none; fill-opacity:0\" cx=\"1590.33\" cy=\"991.208\" r=\"2\"/>\n",
       "<circle clip-path=\"url(#clip522)\" style=\"fill:#009af9; stroke:none; fill-opacity:0\" cx=\"1627.14\" cy=\"1136.81\" r=\"2\"/>\n",
       "<circle clip-path=\"url(#clip522)\" style=\"fill:#009af9; stroke:none; fill-opacity:0\" cx=\"1663.95\" cy=\"1218.8\" r=\"2\"/>\n",
       "<circle clip-path=\"url(#clip522)\" style=\"fill:#009af9; stroke:none; fill-opacity:0\" cx=\"1700.76\" cy=\"1290.41\" r=\"2\"/>\n",
       "<circle clip-path=\"url(#clip522)\" style=\"fill:#009af9; stroke:none; fill-opacity:0\" cx=\"1737.56\" cy=\"1351.65\" r=\"2\"/>\n",
       "<circle clip-path=\"url(#clip522)\" style=\"fill:#009af9; stroke:none; fill-opacity:0\" cx=\"1774.37\" cy=\"1388.22\" r=\"2\"/>\n",
       "<circle clip-path=\"url(#clip522)\" style=\"fill:#009af9; stroke:none; fill-opacity:0\" cx=\"1811.18\" cy=\"1410.33\" r=\"2\"/>\n",
       "<circle clip-path=\"url(#clip522)\" style=\"fill:#009af9; stroke:none; fill-opacity:0\" cx=\"1847.99\" cy=\"1425.98\" r=\"2\"/>\n",
       "<circle clip-path=\"url(#clip522)\" style=\"fill:#009af9; stroke:none; fill-opacity:0\" cx=\"1884.8\" cy=\"1434.32\" r=\"2\"/>\n",
       "<circle clip-path=\"url(#clip522)\" style=\"fill:#009af9; stroke:none; fill-opacity:0\" cx=\"1921.6\" cy=\"1440.61\" r=\"2\"/>\n",
       "<circle clip-path=\"url(#clip522)\" style=\"fill:#009af9; stroke:none; fill-opacity:0\" cx=\"1958.41\" cy=\"1441.97\" r=\"2\"/>\n",
       "<circle clip-path=\"url(#clip522)\" style=\"fill:#009af9; stroke:none; fill-opacity:0\" cx=\"1995.22\" cy=\"1444.18\" r=\"2\"/>\n",
       "<circle clip-path=\"url(#clip522)\" style=\"fill:#009af9; stroke:none; fill-opacity:0\" cx=\"2032.03\" cy=\"1445.04\" r=\"2\"/>\n",
       "<circle clip-path=\"url(#clip522)\" style=\"fill:#009af9; stroke:none; fill-opacity:0\" cx=\"2068.83\" cy=\"1445.21\" r=\"2\"/>\n",
       "<circle clip-path=\"url(#clip522)\" style=\"fill:#009af9; stroke:none; fill-opacity:0\" cx=\"2105.64\" cy=\"1445.72\" r=\"2\"/>\n",
       "<circle clip-path=\"url(#clip522)\" style=\"fill:#009af9; stroke:none; fill-opacity:0\" cx=\"2142.45\" cy=\"1445.72\" r=\"2\"/>\n",
       "<circle clip-path=\"url(#clip522)\" style=\"fill:#009af9; stroke:none; fill-opacity:0\" cx=\"2179.26\" cy=\"1445.72\" r=\"2\"/>\n",
       "<circle clip-path=\"url(#clip522)\" style=\"fill:#009af9; stroke:none; fill-opacity:0\" cx=\"2216.07\" cy=\"1445.55\" r=\"2\"/>\n",
       "</svg>\n"
      ]
     },
     "execution_count": 90,
     "metadata": {},
     "output_type": "execute_result"
    }
   ],
   "source": [
    "x = randn(10^5)\n",
    "histogram(x, bins=64, legend=false)"
   ]
  },
  {
   "cell_type": "code",
   "execution_count": 91,
   "metadata": {},
   "outputs": [
    {
     "data": {
      "text/latex": [
       "\\textbf{Histogram in 2D}\n",
       "\n"
      ],
      "text/markdown": [
       "**Histogram in 2D**\n"
      ],
      "text/plain": [
       "  \u001b[1mHistogram in 2D\u001b[22m"
      ]
     },
     "execution_count": 91,
     "metadata": {},
     "output_type": "execute_result"
    }
   ],
   "source": [
    "md\"**Histogram in 2D**\""
   ]
  },
  {
   "cell_type": "code",
   "execution_count": 92,
   "metadata": {},
   "outputs": [
    {
     "data": {
      "image/svg+xml": [
       "<?xml version=\"1.0\" encoding=\"utf-8\"?>\n",
       "<svg xmlns=\"http://www.w3.org/2000/svg\" xmlns:xlink=\"http://www.w3.org/1999/xlink\" width=\"600\" height=\"400\" viewBox=\"0 0 2400 1600\">\n",
       "<defs>\n",
       "  <clipPath id=\"clip560\">\n",
       "    <rect x=\"0\" y=\"0\" width=\"2400\" height=\"1600\"/>\n",
       "  </clipPath>\n",
       "</defs>\n",
       "<path clip-path=\"url(#clip560)\" d=\"M0 1600 L2400 1600 L2400 0 L0 0  Z\" fill=\"#ffffff\" fill-rule=\"evenodd\" fill-opacity=\"1\"/>\n",
       "<defs>\n",
       "  <clipPath id=\"clip561\">\n",
       "    <rect x=\"480\" y=\"0\" width=\"1681\" height=\"1600\"/>\n",
       "  </clipPath>\n",
       "</defs>\n",
       "<path clip-path=\"url(#clip560)\" d=\"M149.191 1486.45 L2112.76 1486.45 L2112.76 47.2441 L149.191 47.2441  Z\" fill=\"#ffffff\" fill-rule=\"evenodd\" fill-opacity=\"1\"/>\n",
       "<defs>\n",
       "  <clipPath id=\"clip562\">\n",
       "    <rect x=\"149\" y=\"47\" width=\"1965\" height=\"1440\"/>\n",
       "  </clipPath>\n",
       "</defs>\n",
       "<polyline clip-path=\"url(#clip562)\" style=\"stroke:#000000; stroke-linecap:round; stroke-linejoin:round; stroke-width:2; stroke-opacity:0.1; fill:none\" points=\"240.519,1486.45 240.519,47.2441 \"/>\n",
       "<polyline clip-path=\"url(#clip562)\" style=\"stroke:#000000; stroke-linecap:round; stroke-linejoin:round; stroke-width:2; stroke-opacity:0.1; fill:none\" points=\"697.163,1486.45 697.163,47.2441 \"/>\n",
       "<polyline clip-path=\"url(#clip562)\" style=\"stroke:#000000; stroke-linecap:round; stroke-linejoin:round; stroke-width:2; stroke-opacity:0.1; fill:none\" points=\"1153.81,1486.45 1153.81,47.2441 \"/>\n",
       "<polyline clip-path=\"url(#clip562)\" style=\"stroke:#000000; stroke-linecap:round; stroke-linejoin:round; stroke-width:2; stroke-opacity:0.1; fill:none\" points=\"1610.45,1486.45 1610.45,47.2441 \"/>\n",
       "<polyline clip-path=\"url(#clip562)\" style=\"stroke:#000000; stroke-linecap:round; stroke-linejoin:round; stroke-width:2; stroke-opacity:0.1; fill:none\" points=\"2067.09,1486.45 2067.09,47.2441 \"/>\n",
       "<polyline clip-path=\"url(#clip560)\" style=\"stroke:#000000; stroke-linecap:round; stroke-linejoin:round; stroke-width:4; stroke-opacity:1; fill:none\" points=\"149.191,1486.45 2112.76,1486.45 \"/>\n",
       "<polyline clip-path=\"url(#clip560)\" style=\"stroke:#000000; stroke-linecap:round; stroke-linejoin:round; stroke-width:4; stroke-opacity:1; fill:none\" points=\"240.519,1486.45 240.519,1467.55 \"/>\n",
       "<polyline clip-path=\"url(#clip560)\" style=\"stroke:#000000; stroke-linecap:round; stroke-linejoin:round; stroke-width:4; stroke-opacity:1; fill:none\" points=\"697.163,1486.45 697.163,1467.55 \"/>\n",
       "<polyline clip-path=\"url(#clip560)\" style=\"stroke:#000000; stroke-linecap:round; stroke-linejoin:round; stroke-width:4; stroke-opacity:1; fill:none\" points=\"1153.81,1486.45 1153.81,1467.55 \"/>\n",
       "<polyline clip-path=\"url(#clip560)\" style=\"stroke:#000000; stroke-linecap:round; stroke-linejoin:round; stroke-width:4; stroke-opacity:1; fill:none\" points=\"1610.45,1486.45 1610.45,1467.55 \"/>\n",
       "<polyline clip-path=\"url(#clip560)\" style=\"stroke:#000000; stroke-linecap:round; stroke-linejoin:round; stroke-width:4; stroke-opacity:1; fill:none\" points=\"2067.09,1486.45 2067.09,1467.55 \"/>\n",
       "<path clip-path=\"url(#clip560)\" d=\"M209.42 1532.02 L239.096 1532.02 L239.096 1535.95 L209.42 1535.95 L209.42 1532.02 Z\" fill=\"#000000\" fill-rule=\"nonzero\" fill-opacity=\"1\" /><path clip-path=\"url(#clip560)\" d=\"M262.036 1518.36 L250.23 1536.81 L262.036 1536.81 L262.036 1518.36 M260.809 1514.29 L266.688 1514.29 L266.688 1536.81 L271.619 1536.81 L271.619 1540.7 L266.688 1540.7 L266.688 1548.85 L262.036 1548.85 L262.036 1540.7 L246.434 1540.7 L246.434 1536.19 L260.809 1514.29 Z\" fill=\"#000000\" fill-rule=\"nonzero\" fill-opacity=\"1\" /><path clip-path=\"url(#clip560)\" d=\"M667.105 1532.02 L696.781 1532.02 L696.781 1535.95 L667.105 1535.95 L667.105 1532.02 Z\" fill=\"#000000\" fill-rule=\"nonzero\" fill-opacity=\"1\" /><path clip-path=\"url(#clip560)\" d=\"M710.901 1544.91 L727.22 1544.91 L727.22 1548.85 L705.276 1548.85 L705.276 1544.91 Q707.938 1542.16 712.521 1537.53 Q717.128 1532.88 718.308 1531.53 Q720.554 1529.01 721.433 1527.27 Q722.336 1525.51 722.336 1523.82 Q722.336 1521.07 720.392 1519.33 Q718.47 1517.6 715.368 1517.6 Q713.169 1517.6 710.716 1518.36 Q708.285 1519.13 705.507 1520.68 L705.507 1515.95 Q708.331 1514.82 710.785 1514.24 Q713.239 1513.66 715.276 1513.66 Q720.646 1513.66 723.841 1516.35 Q727.035 1519.03 727.035 1523.52 Q727.035 1525.65 726.225 1527.57 Q725.438 1529.47 723.331 1532.07 Q722.753 1532.74 719.651 1535.95 Q716.549 1539.15 710.901 1544.91 Z\" fill=\"#000000\" fill-rule=\"nonzero\" fill-opacity=\"1\" /><path clip-path=\"url(#clip560)\" d=\"M1153.81 1517.37 Q1150.19 1517.37 1148.37 1520.93 Q1146.56 1524.47 1146.56 1531.6 Q1146.56 1538.71 1148.37 1542.27 Q1150.19 1545.82 1153.81 1545.82 Q1157.44 1545.82 1159.25 1542.27 Q1161.07 1538.71 1161.07 1531.6 Q1161.07 1524.47 1159.25 1520.93 Q1157.44 1517.37 1153.81 1517.37 M1153.81 1513.66 Q1159.62 1513.66 1162.67 1518.27 Q1165.75 1522.85 1165.75 1531.6 Q1165.75 1540.33 1162.67 1544.94 Q1159.62 1549.52 1153.81 1549.52 Q1148 1549.52 1144.92 1544.94 Q1141.86 1540.33 1141.86 1531.6 Q1141.86 1522.85 1144.92 1518.27 Q1148 1513.66 1153.81 1513.66 Z\" fill=\"#000000\" fill-rule=\"nonzero\" fill-opacity=\"1\" /><path clip-path=\"url(#clip560)\" d=\"M1605.1 1544.91 L1621.42 1544.91 L1621.42 1548.85 L1599.48 1548.85 L1599.48 1544.91 Q1602.14 1542.16 1606.72 1537.53 Q1611.33 1532.88 1612.51 1531.53 Q1614.75 1529.01 1615.63 1527.27 Q1616.54 1525.51 1616.54 1523.82 Q1616.54 1521.07 1614.59 1519.33 Q1612.67 1517.6 1609.57 1517.6 Q1607.37 1517.6 1604.92 1518.36 Q1602.49 1519.13 1599.71 1520.68 L1599.71 1515.95 Q1602.53 1514.82 1604.99 1514.24 Q1607.44 1513.66 1609.48 1513.66 Q1614.85 1513.66 1618.04 1516.35 Q1621.24 1519.03 1621.24 1523.52 Q1621.24 1525.65 1620.43 1527.57 Q1619.64 1529.47 1617.53 1532.07 Q1616.95 1532.74 1613.85 1535.95 Q1610.75 1539.15 1605.1 1544.91 Z\" fill=\"#000000\" fill-rule=\"nonzero\" fill-opacity=\"1\" /><path clip-path=\"url(#clip560)\" d=\"M2070.1 1518.36 L2058.3 1536.81 L2070.1 1536.81 L2070.1 1518.36 M2068.87 1514.29 L2074.75 1514.29 L2074.75 1536.81 L2079.68 1536.81 L2079.68 1540.7 L2074.75 1540.7 L2074.75 1548.85 L2070.1 1548.85 L2070.1 1540.7 L2054.5 1540.7 L2054.5 1536.19 L2068.87 1514.29 Z\" fill=\"#000000\" fill-rule=\"nonzero\" fill-opacity=\"1\" /><polyline clip-path=\"url(#clip562)\" style=\"stroke:#000000; stroke-linecap:round; stroke-linejoin:round; stroke-width:2; stroke-opacity:0.1; fill:none\" points=\"149.191,1419.51 2112.76,1419.51 \"/>\n",
       "<polyline clip-path=\"url(#clip562)\" style=\"stroke:#000000; stroke-linecap:round; stroke-linejoin:round; stroke-width:2; stroke-opacity:0.1; fill:none\" points=\"149.191,1084.81 2112.76,1084.81 \"/>\n",
       "<polyline clip-path=\"url(#clip562)\" style=\"stroke:#000000; stroke-linecap:round; stroke-linejoin:round; stroke-width:2; stroke-opacity:0.1; fill:none\" points=\"149.191,750.111 2112.76,750.111 \"/>\n",
       "<polyline clip-path=\"url(#clip562)\" style=\"stroke:#000000; stroke-linecap:round; stroke-linejoin:round; stroke-width:2; stroke-opacity:0.1; fill:none\" points=\"149.191,415.413 2112.76,415.413 \"/>\n",
       "<polyline clip-path=\"url(#clip562)\" style=\"stroke:#000000; stroke-linecap:round; stroke-linejoin:round; stroke-width:2; stroke-opacity:0.1; fill:none\" points=\"149.191,80.7139 2112.76,80.7139 \"/>\n",
       "<polyline clip-path=\"url(#clip560)\" style=\"stroke:#000000; stroke-linecap:round; stroke-linejoin:round; stroke-width:4; stroke-opacity:1; fill:none\" points=\"149.191,1486.45 149.191,47.2441 \"/>\n",
       "<polyline clip-path=\"url(#clip560)\" style=\"stroke:#000000; stroke-linecap:round; stroke-linejoin:round; stroke-width:4; stroke-opacity:1; fill:none\" points=\"149.191,1419.51 166.03,1419.51 \"/>\n",
       "<polyline clip-path=\"url(#clip560)\" style=\"stroke:#000000; stroke-linecap:round; stroke-linejoin:round; stroke-width:4; stroke-opacity:1; fill:none\" points=\"149.191,1084.81 166.03,1084.81 \"/>\n",
       "<polyline clip-path=\"url(#clip560)\" style=\"stroke:#000000; stroke-linecap:round; stroke-linejoin:round; stroke-width:4; stroke-opacity:1; fill:none\" points=\"149.191,750.111 166.03,750.111 \"/>\n",
       "<polyline clip-path=\"url(#clip560)\" style=\"stroke:#000000; stroke-linecap:round; stroke-linejoin:round; stroke-width:4; stroke-opacity:1; fill:none\" points=\"149.191,415.413 166.03,415.413 \"/>\n",
       "<polyline clip-path=\"url(#clip560)\" style=\"stroke:#000000; stroke-linecap:round; stroke-linejoin:round; stroke-width:4; stroke-opacity:1; fill:none\" points=\"149.191,80.7139 166.03,80.7139 \"/>\n",
       "<path clip-path=\"url(#clip560)\" d=\"M50.9921 1419.96 L80.6679 1419.96 L80.6679 1423.89 L50.9921 1423.89 L50.9921 1419.96 Z\" fill=\"#000000\" fill-rule=\"nonzero\" fill-opacity=\"1\" /><path clip-path=\"url(#clip560)\" d=\"M103.608 1406.3 L91.8021 1424.75 L103.608 1424.75 L103.608 1406.3 M102.381 1402.23 L108.26 1402.23 L108.26 1424.75 L113.191 1424.75 L113.191 1428.64 L108.26 1428.64 L108.26 1436.79 L103.608 1436.79 L103.608 1428.64 L88.0058 1428.64 L88.0058 1424.13 L102.381 1402.23 Z\" fill=\"#000000\" fill-rule=\"nonzero\" fill-opacity=\"1\" /><path clip-path=\"url(#clip560)\" d=\"M53.0754 1085.26 L82.7512 1085.26 L82.7512 1089.2 L53.0754 1089.2 L53.0754 1085.26 Z\" fill=\"#000000\" fill-rule=\"nonzero\" fill-opacity=\"1\" /><path clip-path=\"url(#clip560)\" d=\"M96.8715 1098.15 L113.191 1098.15 L113.191 1102.09 L91.2465 1102.09 L91.2465 1098.15 Q93.9086 1095.4 98.4919 1090.77 Q103.098 1086.12 104.279 1084.77 Q106.524 1082.25 107.404 1080.52 Q108.307 1078.76 108.307 1077.07 Q108.307 1074.31 106.362 1072.58 Q104.441 1070.84 101.339 1070.84 Q99.14 1070.84 96.6863 1071.6 Q94.2558 1072.37 91.478 1073.92 L91.478 1069.2 Q94.3021 1068.06 96.7558 1067.48 Q99.2095 1066.9 101.246 1066.9 Q106.617 1066.9 109.811 1069.59 Q113.006 1072.27 113.006 1076.77 Q113.006 1078.9 112.196 1080.82 Q111.408 1082.71 109.302 1085.31 Q108.723 1085.98 105.621 1089.2 Q102.52 1092.39 96.8715 1098.15 Z\" fill=\"#000000\" fill-rule=\"nonzero\" fill-opacity=\"1\" /><path clip-path=\"url(#clip560)\" d=\"M101.246 735.91 Q97.6354 735.91 95.8067 739.475 Q94.0012 743.016 94.0012 750.146 Q94.0012 757.252 95.8067 760.817 Q97.6354 764.359 101.246 764.359 Q104.881 764.359 106.686 760.817 Q108.515 757.252 108.515 750.146 Q108.515 743.016 106.686 739.475 Q104.881 735.91 101.246 735.91 M101.246 732.206 Q107.057 732.206 110.112 736.813 Q113.191 741.396 113.191 750.146 Q113.191 758.873 110.112 763.479 Q107.057 768.062 101.246 768.062 Q95.4363 768.062 92.3576 763.479 Q89.3021 758.873 89.3021 750.146 Q89.3021 741.396 92.3576 736.813 Q95.4363 732.206 101.246 732.206 Z\" fill=\"#000000\" fill-rule=\"nonzero\" fill-opacity=\"1\" /><path clip-path=\"url(#clip560)\" d=\"M96.8715 428.757 L113.191 428.757 L113.191 432.693 L91.2465 432.693 L91.2465 428.757 Q93.9086 426.003 98.4919 421.373 Q103.098 416.72 104.279 415.378 Q106.524 412.855 107.404 411.119 Q108.307 409.359 108.307 407.669 Q108.307 404.915 106.362 403.179 Q104.441 401.443 101.339 401.443 Q99.14 401.443 96.6863 402.207 Q94.2558 402.97 91.478 404.521 L91.478 399.799 Q94.3021 398.665 96.7558 398.086 Q99.2095 397.508 101.246 397.508 Q106.617 397.508 109.811 400.193 Q113.006 402.878 113.006 407.369 Q113.006 409.498 112.196 411.419 Q111.408 413.318 109.302 415.91 Q108.723 416.581 105.621 419.799 Q102.52 422.993 96.8715 428.757 Z\" fill=\"#000000\" fill-rule=\"nonzero\" fill-opacity=\"1\" /><path clip-path=\"url(#clip560)\" d=\"M103.608 67.508 L91.8021 85.957 L103.608 85.957 L103.608 67.508 M102.381 63.4339 L108.26 63.4339 L108.26 85.957 L113.191 85.957 L113.191 89.8458 L108.26 89.8458 L108.26 97.9939 L103.608 97.9939 L103.608 89.8458 L88.0058 89.8458 L88.0058 85.332 L102.381 63.4339 Z\" fill=\"#000000\" fill-rule=\"nonzero\" fill-opacity=\"1\" /><g clip-path=\"url(#clip562)\">\n",
       "<image width=\"1964\" height=\"1439\" xlink:href=\"data:image/png;base64,\n",
       "iVBORw0KGgoAAAANSUhEUgAAB6wAAAWfCAYAAAAf3Aj/AAAgAElEQVR4nOzbXY8k512H4aru3vHu\n",
       "On7BToiRgO//pThAAhKIBDE49u68dHFgiYOc2P2EzO3/zHV9gp9K1U9V9z2zbwAAAABs23Y56gWv\n",
       "x+NeLwAAAH4ZTvUAAAAAAAAAAF4nwRoAAAAAAACAhGANAAAAAAAAQEKwBgAAAAAAACAhWAMAAAAA\n",
       "AACQEKwBAAAAAAAASAjWAAAAAAAAACQEawAAAAAAAAASgjUAAAAAAAAACcEaAAAAAAAAgIRgDQAA\n",
       "AAAAAEBCsAYAAAAAAAAgIVgDAAAAAAAAkBCsAQAAAAAAAEgI1gAAAAAAAAAkBGsAAAAAAAAAEoI1\n",
       "AAAAAAAAAAnBGgAAAAAAAICEYA0AAAAAAABAQrAGAAAAAAAAICFYAwAAAAAAAJAQrAEAAAAAAABI\n",
       "CNYAAAAAAAAAJARrAAAAAAAAABKCNQAAAAAAAAAJwRoAAAAAAACAhGANAAAAAAAAQEKwBgAAAAAA\n",
       "ACAhWAMAAAAAAACQEKwBAAAAAAAASAjWAAAAAAAAACQEawAAAAAAAAASgjUAAAAAAAAAib0eAAAA\n",
       "L9flqBesefQ9gRdq6mdyIucIAAAAP4//sAYAAAAAAAAgIVgDAAAAAAAAkBCsAQAAAAAAAEgI1gAA\n",
       "AAAAAAAkBGsAAAAAAAAAEoI1AAAAAAAAAAnBGgAAAAAAAICEYA0AAAAAAABAQrAGAAAAAAAAICFY\n",
       "AwAAAAAAAJAQrAEAAAAAAABICNYAAAAAAAAAJARrAAAAAAAAABKCNQAAAAAAAAAJwRoAAAAAAACA\n",
       "hGANAAAAAAAAQEKwBgAAAAAAACAhWAMAAAAAAACQEKwBAAAAAAAASAjWAAAAAAAAACQEawAAAAAA\n",
       "AAASgjUAAAAAAAAACcEaAAAAAAAAgIRgDQAAAAAAAEBCsAYAAAAAAAAgIVgDAAAAAAAAkBCsAQAA\n",
       "AAAAAEgI1gAAAAAAAAAkBGsAAAAAAAAAEoI1AAAAAAAAAAnBGgAAAAAAAICEYA0AAAAAAABAYq8H\n",
       "AADw3C5HvWDNo3dXfsLUe5vnM/EccV8Dr9XEMxsAgBX+wxoAAAAAAACAhGANAAAAAAAAQEKwBgAA\n",
       "AAAAACAhWAMAAAAAAACQEKwBAAAAAAAASAjWAAAAAAAAACQEawAAAAAAAAASgjUAAAAAAAAACcEa\n",
       "AAAAAAAAgIRgDQAAAAAAAEBCsAYAAAAAAAAgIVgDAAAAAAAAkBCsAQAAAAAAAEgI1gAAAAAAAAAk\n",
       "BGsAAAAAAAAAEoI1AAAAAAAAAAnBGgAAAAAAAICEYA0AAAAAAABAQrAGAAAAAAAAICFYAwAAAAAA\n",
       "AJAQrAEAAAAAAABICNYAAAAAAAAAJARrAAAAAAAAABKCNQAAAAAAAAAJwRoAAAAAAACAhGANAAAA\n",
       "AAAAQEKwBgAAAAAAACAhWAMAAAAAAACQEKwBAAAAAAAASAjWAAAAAAAAACQEawAAAAAAAAASgjUA\n",
       "AAAAAAAACcEaAAAAAAAAgMReDwAAgJ/nctQLXot96NeEY5t4izzOvNhjOUeez9R72z3yXIbeINsx\n",
       "8t6eeV8PvNDbtm0j30bmntkAwEvhP6wBAAAAAAAASAjWAAAAAAAAACQEawAAAAAAAAASgjUAAAAA\n",
       "AAAACcEaAAAAAAAAgIRgDQAAAAAAAEBCsAYAAAAAAAAgIVgDAAAAAAAAkBCsAQAAAAAAAEgI1gAA\n",
       "AAAAAAAkBGsAAAAAAAAAEoI1AAAAAAAAAAnBGgAAAAAAAICEYA0AAAAAAABAQrAGAAAAAAAAICFY\n",
       "AwAAAAAAAJAQrAEAAAAAAABICNYAAAAAAAAAJARrAAAAAAAAABKCNQAAAAAAAAAJwRoAAAAAAACA\n",
       "hGANAAAAAAAAQEKwBgAAAAAAACAhWAMAAAAAAACQEKwBAAAAAAAASAjWAAAAAAAAACQEawAAAAAA\n",
       "AAASgjUAAAAAAAAACcEaAAAAAAAAgIRgDQAAAAAAAEBCsAYAAAAAAAAgIVgDAAAAAAAAkNjrAQDA\n",
       "/7fLUS9Y8zjwvcS1fl5Trze8PEMPkaGmXu2pu+c9ao6Bm+HnmHuKTH3XBgDo+A9rAAAAAAAAABKC\n",
       "NQAAAAAAAAAJwRoAAAAAAACAhGANAAAAAAAAQEKwBgAAAAAAACAhWAMAAAAAAACQEKwBAAAAAAAA\n",
       "SAjWAAAAAAAAACQEawAAAAAAAAASgjUAAAAAAAAACcEaAAAAAAAAgIRgDQAAAAAAAEBCsAYAAAAA\n",
       "AAAgIVgDAAAAAAAAkBCsAQAAAAAAAEgI1gAAAAAAAAAkBGsAAAAAAAAAEoI1AAAAAAAAAAnBGgAA\n",
       "AAAAAICEYA0AAAAAAABAQrAGAAAAAAAAICFYAwAAAAAAAJAQrAEAAAAAAABICNYAAAAAAAAAJARr\n",
       "AAAAAAAAABKCNQAAAAAAAAAJwRoAAAAAAACAhGANAAAAAAAAQEKwBgAAAAAAACAhWAMAAAAAAACQ\n",
       "EKwBAAAAAAAASAjWAAAAAAAAACQEawAAAAAAAAASl3oAQOdy1AvWPO71gtdj6j0ylevNy7Nvjuzn\n",
       "5Xo/m33o3z4fj/WCm+37XT1hyfX4WE9Yso/8u/6Zr1Bzn5EDr/c+8+e/Y+CZPdfU72J+H+GnuLef\n",
       "j2sN/GUmfhMDAAAAAAAA4AUQrAEAAAAAAABICNYAAAAAAAAAJARrAAAAAAAAABKCNQAAAAAAAAAJ\n",
       "wRoAAAAAAACAhGANAAAAAAAAQEKwBgAAAAAAACAhWAMAAAAAAACQEKwBAAAAAAAASAjWAAAAAAAA\n",
       "ACQEawAAAAAAAAASgjUAAAAAAAAACcEaAAAAAAAAgIRgDQAAAAAAAEBCsAYAAAAAAAAgIVgDAAAA\n",
       "AAAAkBCsAQAAAAAAAEgI1gAAAAAAAAAkBGsAAAAAAAAAEoI1AAAAAAAAAAnBGgAAAAAAAICEYA0A\n",
       "AAAAAABAQrAGAAAAAAAAICFYAwAAAAAAAJAQrAEAAAAAAABICNYAAAAAAAAAJARrAAAAAAAAABKC\n",
       "NQAAAAAAAAAJwRoAAAAAAACAhGANAAAAAAAAQEKwBgAAAAAAACCx1wMA4JfrctQLVsx9uM9bfmwj\n",
       "b5Ft2x7nXext2yZ+Jvf9XE9YNPQWGfiZ3Leh98h+qRcsutYDbnYcD/WEJVPv7etxX0+42b6/qScs\n",
       "mndmb9u2bce8c2TqY/2YeK3H8v2AnzL1HgFgCv9hDQAAAAAAAEBCsAYAAAAAAAAgIVgDAAAAAAAA\n",
       "kBCsAQAAAAAAAEgI1gAAAAAAAAAkBGsAAAAAAAAAEoI1AAAAAAAAAAnBGgAAAAAAAICEYA0AAAAA\n",
       "AABAQrAGAAAAAAAAICFYAwAAAAAAAJAQrAEAAAAAAABICNYAAAAAAAAAJARrAAAAAAAAABKCNQAA\n",
       "AAAAAAAJwRoAAAAAAACAhGANAAAAAAAAQEKwBgAAAAAAACAhWAMAAAAAAACQEKwBAAAAAAAASAjW\n",
       "AAAAAAAAACQEawAAAAAAAAASgjUAAAAAAAAACcEaAAAAAAAAgIRgDQAAAAAAAEBCsAYAAAAAAAAg\n",
       "IVgDAAAAAAAAkBCsAQAAAAAAAEgI1gAAAAAAAAAkBGsAAAAAAAAAEoI1AAAAAAAAAAnBGgAAAAAA\n",
       "AICEYA0AAAAAAABAYq8HAPBaXI56Ab9su9eS57NP/ZvFeffIvl/qCUuO46mesOR0eltPuNnUs+/p\n",
       "+kM9Yclpv6sn3OzYZr5C7fu5nrDkOB7qCTfbt6nXeuaz5tjm3SNjHdd6waKJ5/bM7wfHNvUe4fk8\n",
       "znzZHvkb2tRrDfxSzHwbAQAAAAAAAGA8wRoAAAAAAACAhGANAAAAAAAAQEKwBgAAAAAAACAhWAMA\n",
       "AAAAAACQEKwBAAAAAAAASAjWAAAAAAAAACQEawAAAAAAAAASgjUAAAAAAAAACcEaAAAAAAAAgIRg\n",
       "DQAAAAAAAEBCsAYAAAAAAAAgIVgDAAAAAAAAkBCsAQAAAAAAAEgI1gAAAAAAAAAkBGsAAAAAAAAA\n",
       "EoI1AAAAAAAAAAnBGgAAAAAAAICEYA0AAAAAAABAQrAGAAAAAAAAICFYAwAAAAAAAJAQrAEAAAAA\n",
       "AABICNYAAAAAAAAAJARrAAAAAAAAABKCNQAAAAAAAAAJwRoAAAAAAACAhGANAAAAAAAAQEKwBgAA\n",
       "AAAAACAhWAMAAAAAAACQEKwBAAAAAAAASAjWAAAAAAAAACQEawAAAAAAAAASez0AgFtdjnoB/DXM\n",
       "fCkZunp/U09YcmzXesLNTvvbesKSY3uqJyw5n97XE252Pe7rCUv2oeffxHP7tN/VE5bs+7mesOTp\n",
       "+qGecLPjeKwnLPK15rlMfa4f15nPyJnmvWf/aOb/Yk38XsNze5z30grwF5r5VAcAAAAAAABgPMEa\n",
       "AAAAAAAAgIRgDQAAAAAAAEBCsAYAAAAAAAAgIVgDAAAAAAAAkBCsAQAAAAAAAEgI1gAAAAAAAAAk\n",
       "BGsAAAAAAAAAEoI1AAAAAAAAAAnBGgAAAAAAAICEYA0AAAAAAABAQrAGAAAAAAAAICFYAwAAAAAA\n",
       "AJAQrAEAAAAAAABICNYAAAAAAAAAJARrAAAAAAAAABKCNQAAAAAAAAAJwRoAAAAAAACAhGANAAAA\n",
       "AAAAQEKwBgAAAAAAACAhWAMAAAAAAACQEKwBAAAAAAAASAjWAAAAAAAAACQEawAAAAAAAAASgjUA\n",
       "AAAAAAAACcEaAAAAAAAAgIRgDQAAAAAAAEBCsAYAAAAAAAAgIVgDAAAAAAAAkBCsAQAAAAAAAEgI\n",
       "1gAAAAAAAAAkBGsAAAAAAAAAEoI1AAAAAAAAAIm9HgC8FJejXnC7x6Fn4MRrPdPQG2Tb9nO94NXY\n",
       "t5nXet/v6gmL5h1/+36pJyzZh54j7y6/rifc7Lo91RMWzfs8btvcc3uih+uf6glLTgPP7afrfT1h\n",
       "yXE81hOWXI955/a+z/xmc70+1BOWXCeef0PvkamO4+O4C75vdyNf/o7tfty1Bnit/Ic1AAAAAAAA\n",
       "AAnBGgAAAAAAAICEYA0AAAAAAABAQrAGAAAAAAAAICFYAwAAAAAAAJAQrAEAAAAAAABICNYAAAAA\n",
       "AAAAJARrAAAAAAAAABKCNQAAAAAAAAAJwRoAAAAAAACAhGANAAAAAAAAQEKwBgAAAAAAACAhWAMA\n",
       "AAAAAACQEKwBAAAAAAAASAjWAAAAAAAAACQEawAAAAAAAAASgjUAAAAAAAAACcEaAAAAAAAAgIRg\n",
       "DQAAAAAAAEBCsAYAAAAAAAAgIVgDAAAAAAAAkBCsAQAAAAAAAEgI1gAAAAAAAAAkBGsAAAAAAAAA\n",
       "EoI1AAAAAAAAAAnBGgAAAAAAAICEYA0AAAAAAABAQrAGAAAAAAAAICFYAwAAAAAAAJAQrAEAAAAA\n",
       "AABICNYAAAAAAAAAJARrAAAAAAAAABJ7PQD4c5ejXrDmceB5MvVaz7QP/BupY7vWE5ZMvNbbto18\n",
       "K9n3t/WEJZfT+3rCkvNp3vV+c555rad6f/66nnCz8/amnrDkw/XbesKST09f1RNu9sPxP/WEJe/3\n",
       "L+oJS759+rd6ws1O+8xz5OH6fT1hyfV4rCfcbOLmbdu2+8f/qics2fdzPeFm1+uHesKSY+i9PdPM\n",
       "n9CO7WHgLw3b5jfL5zTxN+2ppt7X7pHnMvQXbQAAAAAAAACmE6wBAAAAAAAASAjWAAAAAAAAACQE\n",
       "awAAAAAAAAASgjUAAAAAAAAACcEaAAAAAAAAgIRgDQAAAAAAAEBCsAYAAAAAAAAgIVgDAAAAAAAA\n",
       "kBCsAQAAAAAAAEgI1gAAAAAAAAAkBGsAAAAAAAAAEoI1AAAAAAAAAAnBGgAAAAAAAICEYA0AAAAA\n",
       "AABAQrAGAAAAAAAAICFYAwAAAAAAAJAQrAEAAAAAAABICNYAAAAAAAAAJARrAAAAAAAAABKCNQAA\n",
       "AAAAAAAJwRoAAAAAAACAhGANAAAAAAAAQEKwBgAAAAAAACAhWAMAAAAAAACQEKwBAAAAAAAASAjW\n",
       "AAAAAAAAACQEawAAAAAAAAASgjUAAAAAAAAACcEaAAAAAAAAgIRgDQAAAAAAAEBCsAYAAAAAAAAg\n",
       "IVgDAAAAAAAAkNjrAfDXcznqBWsefS6fzcx7ZHd0P5/9XC9Ysu+XesKieX9Hdz69rScsuZze1ROW\n",
       "vL38TT1hwchHzfb29EU9Ycln21f1hJt93H6oJyz5zfWbesKSj/t9PeFmD9u8zT+a+c76cf++nnCz\n",
       "Y7vWE5actzf1hCV/ePynesLNLqdP6glLvrv/fT1hycTP5PU681lzPWa+R818Rj7VA9Yc8z6P2zb1\n",
       "WyTPS0N4PjMbwsR7ZN4vwwAAAAAAAAC8CII1AAAAAAAAAAnBGgAAAAAAAICEYA0AAAAAAABAQrAG\n",
       "AAAAAAAAICFYAwAAAAAAAJAQrAEAAAAAAABICNYAAAAAAAAAJARrAAAAAAAAABKCNQAAAAAAAAAJ\n",
       "wRoAAAAAAACAhGANAAAAAAAAQEKwBgAAAAAAACAhWAMAAAAAAACQEKwBAAAAAAAASAjWAAAAAAAA\n",
       "ACQEawAAAAAAAAASgjUAAAAAAAAACcEaAAAAAAAAgIRgDQAAAAAAAEBCsAYAAAAAAAAgIVgDAAAA\n",
       "AAAAkBCsAQAAAAAAAEgI1gAAAAAAAAAkBGsAAAAAAAAAEoI1AAAAAAAAAAnBGgAAAAAAAICEYA0A\n",
       "AAAAAABAQrAGAAAAAAAAICFYAwAAAAAAAJAQrAEAAAAAAABICNYAAAAAAAAAJC71AKa4HPWC2z3u\n",
       "9YI1E681z+nYHkbe2/v+bty9fdrf1hNelX2f91pyOb2vJyw5n+7qCUs+PX1dT7jZZXtTT1jy5fXX\n",
       "9YQll+1cT7jZZ9tv6wlLvrrMPEc+Oc97jfrDx4d6wpL746mesOT96W/rCTf79+O7esKSyzHvzN62\n",
       "bbte5t3b32/f1hOW/Oru7+oJS767/1094Wb7Pu/5uG3btg89R45t3jky1j70//WOa70A+D9TO9M8\n",
       "Q09sAAAAAAAAAKYTrAEAAAAAAABICNYAAAAAAAAAJARrAAAAAAAAABKCNQAAAAAAAAAJwRoAAAAA\n",
       "AACAhGANAAAAAAAAQEKwBgAAAAAAACAhWAMAAAAAAACQEKwBAAAAAAAASAjWAAAAAAAAACQEawAA\n",
       "AAAAAAASgjUAAAAAAAAACcEaAAAAAAAAgIRgDQAAAAAAAEBCsAYAAAAAAAAgIVgDAAAAAAAAkBCs\n",
       "AQAAAAAAAEgI1gAAAAAAAAAkBGsAAAAAAAAAEoI1AAAAAAAAAAnBGgAAAAAAAICEYA0AAAAAAABA\n",
       "QrAGAAAAAAAAICFYAwAAAAAAAJAQrAEAAAAAAABICNYAAAAAAAAAJARrAAAAAAAAABKCNQAAAAAA\n",
       "AAAJwRoAAAAAAACAhGANAAAAAAAAQEKwBgAAAAAAACAhWAMAAAAAAACQuNQDmOJxrxe8HjOv9b5d\n",
       "jnrD6zHzWu/7uZ5ws+P4WE9Ycjp9Wk9Ycjm/ryfc7JPzZ/WEJZ+fv6knLPny+pt6ws3utjf1hCW/\n",
       "Pf2qnrDk3Xne3+N+dhn56rd9OvPW3r54M+816ou7mRf77jRz9x/v6wW3+/vTl/WEJf/6w1M9Ycn9\n",
       "9at6wu3mPR63bdu2+9NdPWHJ/eVP9YSbPV0HHn7btj1s/11PWHK9zvut4dhmntnH8VBPeEVm/qY9\n",
       "9XdWeImGvrICAAAAAAAAMJ1gDQAAAAAAAEBCsAYAAAAAAAAgIVgDAAAAAAAAkBCsAQAAAAAAAEgI\n",
       "1gAAAAAAAAAkBGsAAAAAAAAAEoI1AAAAAAAAAAnBGgAAAAAAAICEYA0AAAAAAABAQrAGAAAAAAAA\n",
       "ICFYAwAAAAAAAJAQrAEAAAAAAABICNYAAAAAAAAAJARrAAAAAAAAABKCNQAAAAAAAAAJwRoAAAAA\n",
       "AACAhGANAAAAAAAAQEKwBgAAAAAAACAhWAMAAAAAAACQEKwBAAAAAAAASAjWAAAAAAAAACQEawAA\n",
       "AAAAAAASgjUAAAAAAAAACcEaAAAAAAAAgIRgDQAAAAAAAEBCsAYAAAAAAAAgIVgDAAAAAAAAkBCs\n",
       "AQAAAAAAAEgI1gAAAAAAAAAkBGsAAAAAAAAAEoI1AAAAAAAAAIlLPQD4c5ejXrBmrwcsmHmp99Pb\n",
       "esKieX8jte8zH5PnoffI+8vX9YSbvT19Xk9Yctnu6glLPhm4+x8vn9UTlnzzbuJzfdu+uJv3bP+H\n",
       "9x/qCUvenp/qCUvenh/rCTf7jw/v6glLzvu8z+O2zfxW8y/fz3s+/uhcD1jy+cNX9YSb/fPHmffI\n",
       "f57+WE9Y8nSZ96z5cP22nrDk6fpDPWHNad4z8nr9WE9Ys7+pF6w55p0jx9jftB8nvv7BizSvHgAA\n",
       "AAAAAADwIgjWAAAAAAAAACQEawAAAAAAAAASgjUAAAAAAAAACcEaAAAAAAAAgIRgDQAAAAAAAEBC\n",
       "sAYAAAAAAAAgIVgDAAAAAAAAkBCsAQAAAAAAAEgI1gAAAAAAAAAkBGsAAAAAAAAAEoI1AAAAAAAA\n",
       "AAnBGgAAAAAAAICEYA0AAAAAAABAQrAGAAAAAAAAICFYAwAAAAAAAJAQrAEAAAAAAABICNYAAAAA\n",
       "AAAAJARrAAAAAAAAABKCNQAAAAAAAAAJwRoAAAAAAACAhGANAAAAAAAAQEKwBgAAAAAAACAhWAMA\n",
       "AAAAAACQEKwBAAAAAAAASAjWAAAAAAAAACQEawAAAAAAAAASgjUAAAAAAAAACcEaAAAAAAAAgIRg\n",
       "DQAAAAAAAEBCsAYAAAAAAAAgIVgDAADA/7JvLztynPcZh7/q7jlwOMMZUqJEHSjZMeAEhpbZZBUg\n",
       "u1yBrzC7IEB22QawF1kE9iZBIseCY4ayRJkiZzjn7q7KQgECe2G4PsB89Ref5wpeFGrq9OsBAAAA\n",
       "IlbpAVSxmtIL5tsM6QVvkqnVO0WGoeZvdqZpk57QZWjL9IT5FgU3t7rn9tjqndv77TA9ocvReJye\n",
       "0OXP9++lJ8x2fze9oM9hxUe/1tpf3DtPT5jtg6Oz9IQu01TzUfud45fpCbO99fJ+ekKXu7s36Qld\n",
       "vr66m54w27roff3tvZrXkf++2ElPmG091juvW2vtYnOdntDlYKj3zHrdTtMTuiwX++kJXaax3rP2\n",
       "1C7TE/pM2/SCLiW/s7aa9/WpZPeoebyntq43mteq5hdtAAAAAAAAAMoTrAEAAAAAAACIEKwBAAAA\n",
       "AAAAiBCsAQAAAAAAAIgQrAEAAAAAAACIEKwBAAAAAAAAiBCsAQAAAAAAAIgQrAEAAAAAAACIEKwB\n",
       "AAAAAAAAiBCsAQAAAAAAAIgQrAEAAAAAAACIEKwBAAAAAAAAiBCsAQAAAAAAAIgQrAEAAAAAAACI\n",
       "EKwBAAAAAAAAiBCsAQAAAAAAAIgQrAEAAAAAAACIEKwBAAAAAAAAiBCsAQAAAAAAAIgQrAEAAAAA\n",
       "AACIEKwBAAAAAAAAiBCsAQAAAAAAAIgQrAEAAAAAAACIEKwBAAAAAAAAiBCsAQAAAAAAAIgQrAEA\n",
       "AAAAAACIEKwBAAAAAAAAiBCsAQAAAAAAAIgQrAEAAAAAAACIEKwBAAAAAAAAiBCsAQAAAAAAAIgQ\n",
       "rAEAAAAAAACIEKwBAAAAAAAAiFilB1DFZkgvmG81pRe8SQqeIK3qb3aGYSc9oVO9s2S1uJue0GW1\n",
       "2EtP6LIa6u1+b/soPaHLybLesW6ttangnf3ju+v0hC4fH56nJ3T56OTr9ITZTu6dpSd0eeu9Z+kJ\n",
       "XdbX9a5/Dx/VPNaL5Zie0OXi7DA9YbbjL2o+jzw9O0lP6PJiXe9T2udX6QV9Hi/upyd0Od3We4+8\n",
       "Wr5KT+izLPiC0FrbjtfpCbMtFwfpCV2242V6Qpeh1XuOmqZ6m4Fvl5q1BgAAAAAAAIDyBGsAAAAA\n",
       "AAAAIgRrAAAAAAAAACIEawAAAAAAAAAiBGsAAAAAAAAAIgRrAAAAAAAAACIEawAAAAAAAAAiBGsA\n",
       "AAAAAAAAIgRrAAAAAAAAACIEawAAAAAAAAAiBGsAAAAAAAAAIgRrAAAAAAAAACIEawAAAAAAAAAi\n",
       "BGsAAAAAAAAAIgRrAAAAAAAAACIEawAAAAAAAAAiBGsAAAAAAAAAIgRrAAAAAAAAACIEawAAAAAA\n",
       "AAAiBGsAAAAAAAAAIgRrAAAAAAAAACIEawAAAAAAAAAiBGsAAAAAAAAAIgRrAAAAAAAAACIEawAA\n",
       "AAAAAAAiBGsAAAAAAAAAIgRrAAAAAAAAACIEawAAAAAAAAAiBGsAAAAAAAAAIgRrAAAAAAAAACIE\n",
       "awAAAAAAAAAiBGsAAAAAAAAAIlbpAfCnsxnSC/qspvSCLkO9378MRX+zM02b9IQuy8VhesJsVY/1\n",
       "3vJeekKXk+G99ITZNm1MT+hyf3eZntDlZDe9YL6H+zfpCV3eOrhIT+jy6N1n6Qmz3Xv02/SELjsH\n",
       "1+kJXY7ePk1PmG35YJue0GX7suaz9s4v309PmG2v6L3m8Iur9IQuFV/Yd4d672KttfZvpzWvI5dj\n",
       "vd1lv48UfR/bXz1IT5jtcl3vObu11oZW8913avU+a9db/I2q15Gp5BMJ/GE1n0YAAAAAAAAAKE+w\n",
       "BgAAAAAAACBCsAYAAAAAAAAgQrAGAAAAAAAAIEKwBgAAAAAAACBCsAYAAAAAAAAgQrAGAAAAAAAA\n",
       "IEKwBgAAAAAAACBCsAYAAAAAAAAgQrAGAAAAAAAAIEKwBgAAAAAAACBCsAYAAAAAAAAgQrAGAAAA\n",
       "AAAAIEKwBgAAAAAAACBCsAYAAAAAAAAgQrAGAAAAAAAAIEKwBgAAAAAAACBCsAYAAAAAAAAgQrAG\n",
       "AAAAAAAAIEKwBgAAAAAAACBCsAYAAAAAAAAgQrAGAAAAAAAAIEKwBgAAAAAAACBCsAYAAAAAAAAg\n",
       "QrAGAAAAAAAAIEKwBgAAAAAAACBCsAYAAAAAAAAgQrAGAAAAAAAAIEKwBgAAAAAAACBCsAYAAAAA\n",
       "AAAgQrAGAAAAAAAAIEKwBgAAAAAAACBCsDMOfVkAACAASURBVAYAAAAAAAAgYtXaakqP6LMZ0gv4\n",
       "tqt5bg+t6qnt9y+vy1D0WC+GVXrCbIvFbnpCl2XbSU/oMrYxPWG2h8s76Qld7tc8tdujO9v0hNk+\n",
       "ODxLT+jyyY/+Iz2hy/79V+kJs9354ZfpCV2Go5oXkvH9x+kJs2139tITuiwuz9MTutydfpOeMNvd\n",
       "4fP0hC7P/+mt9IQum7HeO/vRTr1nqNZae3y35nvN+abeu+9hO0lP6HI1vEhP6HK9PU1PmG0YlukJ\n",
       "XYah5nVkGis+R9W7P9ZWsY/V7DU1j3VNNasHAAAAAAAAAOUJ1gAAAAAAAABECNYAAAAAAAAARAjW\n",
       "AAAAAAAAAEQI1gAAAAAAAABECNYAAAAAAAAARAjWAAAAAAAAAEQI1gAAAAAAAABECNYAAAAAAAAA\n",
       "RAjWAAAAAAAAAEQI1gAAAAAAAABECNYAAAAAAAAARAjWAAAAAAAAAEQI1gAAAAAAAABECNYAAAAA\n",
       "AAAARAjWAAAAAAAAAEQI1gAAAAAAAABECNYAAAAAAAAARAjWAAAAAAAAAEQI1gAAAAAAAABECNYA\n",
       "AAAAAAAARAjWAAAAAAAAAEQI1gAAAAAAAABECNYAAAAAAAAARAjWAAAAAAAAAEQI1gAAAAAAAABE\n",
       "CNYAAAAAAAAARAjWAAAAAAAAAEQI1gAAAAAAAABECNYAAAAAAAAARAjWAAAAAAAAAEQI1gAAAAAA\n",
       "AABErFrbDOkRwP+b2pSe0GWYtukJs01Fr36LYS89oc9Q74DfWZ2kJ3TZtnV6QpfD8V56wmw3bUxP\n",
       "6HK1XaYndHl3/yY9Ybaj/av0hC6rvdv0hC6by3r3yOGDt9MTuownD9ITulz/4K/SE+Zb1Lxmt4MP\n",
       "0wu67O/+XXrCbJd/f52e0OXR48/TE7p8UvA56ie//n56QperTXpBn8ux3vD9dpCe0OVw8TA9oct2\n",
       "Ue+dfb09T0/oVPM7axt20gvmK/ht+BtFz5G2Kji8aouseKxbq3i8/Yc1AAAAAAAAABGCNQAAAAAA\n",
       "AAARgjUAAAAAAAAAEYI1AAAAAAAAABGCNQAAAAAAAAARgjUAAAAAAAAAEYI1AAAAAAAAABGCNQAA\n",
       "AAAAAAARgjUAAAAAAAAAEYI1AAAAAAAAABGCNQAAAAAAAAARgjUAAAAAAAAAEYI1AAAAAAAAABGC\n",
       "NQAAAAAAAAARgjUAAAAAAAAAEYI1AAAAAAAAABGCNQAAAAAAAAARgjUAAAAAAAAAEYI1AAAAAAAA\n",
       "ABGCNQAAAAAAAAARgjUAAAAAAAAAEYI1AAAAAAAAABGCNQAAAAAAAAARgjUAAAAAAAAAEYI1AAAA\n",
       "AAAAABGCNQAAAAAAAAARgjUAAAAAAAAAEYI1AAAAAAAAABGCNQAAAAAAAAARgjUAAAAAAAAAEYI1\n",
       "AAAAAAAAABGCNQAAAAAAAAARgjUAAAAAAAAAEav0AKpYTekFb4ohPaBbxVOk4mZep+vNWXpCl3u7\n",
       "76cndBkK/kkeLJfpCV1OdtML+iwrniRFXZ0dpid0efdvf5GeMNt4/L30hC6bk3fTE7osLp6lJ8z3\n",
       "wV+nF3QZhpr3yM3DD9MTZrv7yT+nJ3TZ/uzj9IQut5ud9ITZjndv0xO63N+td6xba+3R3l56wmxn\n",
       "N1fpCV02rea5vVhU/CRf811smtbpCZ3G9ID5qn7Urnlqw3eS/7AGAAAAAAAAIEKwBgAAAAAAACBC\n",
       "sAYAAAAAAAAgQrAGAAAAAAAAIEKwBgAAAAAAACBCsAYAAAAAAAAgQrAGAAAAAAAAIEKwBgAAAAAA\n",
       "ACBCsAYAAAAAAAAgQrAGAAAAAAAAIEKwBgAAAAAAACBCsAYAAAAAAAAgQrAGAAAAAAAAIEKwBgAA\n",
       "AAAAACBCsAYAAAAAAAAgQrAGAAAAAAAAIEKwBgAAAAAAACBCsAYAAAAAAAAgQrAGAAAAAAAAIEKw\n",
       "BgAAAAAAACBCsAYAAAAAAAAgQrAGAAAAAAAAIEKwBgAAAAAAACBCsAYAAAAAAAAgQrAGAAAAAAAA\n",
       "IEKwBgAAAAAAACBCsAYAAAAAAAAgQrAGAAAAAAAAIEKwBgAAAAAAACBCsAYAAAAAAAAgQrAGAAAA\n",
       "AAAAIEKwBgAAAAAAACBilR5AFZshvWC+1ZRe0KPk6NbaUPD3L4vhTnpCl2God6xba21oy/SE2fZX\n",
       "99ITuuy1u+kJXcah3hVwb1Hw9tha21vUO9attfbV9V56wmw3m530hC47e7fpCV3G55v0hNnGHx2n\n",
       "J3RZ/PDH6Qldaj5F1XT77KfpCV32v3qSnjDb+vOj9IQu12eH6Qldbtb1PqWd3u6mJ3R5VfFTVGvt\n",
       "tzfr9ITZXi1epSd0WRT9tH2zOUtPmG25qPkNbZrG9IQ+0016wWzTVPMdsmb3aK1q+4A/xPs6AAAA\n",
       "AAAAABGCNQAAAAAAAAARgjUAAAAAAAAAEYI1AAAAAAAAABGCNQAAAAAAAAARgjUAAAAAAAAAEYI1\n",
       "AAAAAAAAABGCNQAAAAAAAAARgjUAAAAAAAAAEYI1AAAAAAAAABGCNQAAAAAAAAARgjUAAAAAAAAA\n",
       "EYI1AAAAAAAAABGCNQAAAAAAAAARgjUAAAAAAAAAEYI1AAAAAAAAABGCNQAAAAAAAAARgjUAAAAA\n",
       "AAAAEYI1AAAAAAAAABGCNQAAAAAAAAARgjUAAAAAAAAAEYI1AAAAAAAAABGCNQAAAAAAAAARgjUA\n",
       "AAAAAAAAEYI1AAAAAAAAABGCNQAAAAAAAAARgjUAAAAAAAAAEYI1AAAAAAAAABGCNQAAAAAAAAAR\n",
       "gjUAAAAAAAAAEYI1AAAAAAAAABGCNQAAAAAAAAARgjUAAAAAAAAAEav0AOB3DW1IT+hTcPY0bdIT\n",
       "ugzDbnpCl3G6SU+YbZy26Qlddtt+ekKX6+EyPWG2s03Nc+R8U/MR8MODetft7Vjz96HDYkxP6LJ5\n",
       "cTc9YbadZ/+TntBl/ct/SE/osjl+Pz1htoNHf5Oe0GX49c/TE7ps3vkoPWG2YfllekKXxbLoc9Rt\n",
       "vWftw511ekKX3UXNd9/DVb1n7ZP1cXpCl9Pls/SELsuC5/bt+jQ9ocs01bz+TW1KT+hQ8OMw/FE2\n",
       "Tu7XpOYXNAAAAAAAAADKE6wBAAAAAAAAiBCsAQAAAAAAAIgQrAEAAAAAAACIEKwBAAAAAAAAiBCs\n",
       "AQAAAAAAAIgQrAEAAAAAAACIEKwBAAAAAAAAiBCsAQAAAAAAAIgQrAEAAAAAAACIEKwBAAAAAAAA\n",
       "iBCsAQAAAAAAAIgQrAEAAAAAAACIEKwBAAAAAAAAiBCsAQAAAAAAAIgQrAEAAAAAAACIEKwBAAAA\n",
       "AAAAiBCsAQAAAAAAAIgQrAEAAAAAAACIEKwBAAAAAAAAiBCsAQAAAAAAAIgQrAEAAAAAAACIEKwB\n",
       "AAAAAAAAiBCsAQAAAAAAAIgQrAEAAAAAAACIEKwBAAAAAAAAiBCsAQAAAAAAAIgQrAEAAAAAAACI\n",
       "EKwBAAAAAAAAiBCsAQAAAAAAAIgQrAEAAAAAAACIEKwBAAAAAAAAiFilB1DFakoveHMM6QF9poKn\n",
       "SNFDPU636QldlsNOesJs15sX6QldLpYv0xO6PN7+WXrCbMtlzQvJk4uC1+zW2o+O6+2+Xte79rXW\n",
       "2u3VfnpCl+nJu+kJsx0f/So9ocv0k39NT+iy8+Pr9ITZxk9/mp7QZfnlF+kJXYZ/+c/0hNlOn3wv\n",
       "PaHL9cWd9IQu27He/368uNlNT+hyuk4v6PNyU++d/WzxKj2hy6It0xO6TNOYnjDbYqh5HZkWNc+R\n",
       "7fYsPWG2qdV7X2+ttaHt1Bxe8HjXW8zrVu8pGwAAAAAAAIDvBMEaAAAAAAAAgAjBGgAAAAAAAIAI\n",
       "wRoAAAAAAACACMEaAAAAAAAAgAjBGgAAAAAAAIAIwRoAAAAAAACACMEaAAAAAAAAgAjBGgAAAAAA\n",
       "AIAIwRoAAAAAAACACMEaAAAAAAAAgAjBGgAAAAAAAIAIwRoAAAAAAACACMEaAAAAAAAAgAjBGgAA\n",
       "AAAAAIAIwRoAAAAAAACACMEaAAAAAAAAgAjBGgAAAAAAAIAIwRoAAAAAAACACMEaAAAAAAAAgAjB\n",
       "GgAAAAAAAIAIwRoAAAAAAACACMEaAAAAAAAAgAjBGgAAAAAAAIAIwRoAAAAAAACACMEaAAAAAAAA\n",
       "gAjBGgAAAAAAAIAIwRoAAAAAAACACMEaAAAAAAAAgAjBGgAAAAAAAIAIwRoAAAAAAACACMEaAAAA\n",
       "AAAAgAjBGgAAAAAAAICIVXoAVWyG9IL5VlN6QZ+iswua2iY9oc9U8M+xqOViPz2hy/nmWXpCl18X\n",
       "vGzfjI/TE7r85f7b6QldfnO1l54w2/X2fnpCl7efvpee0OXByWl6wmzHmyfpCV1WJ+fpCV3Gf/xZ\n",
       "esJsw8Or9IQuN0+O0xO63Dx/mJ4w27rg/bG11j57WvM56qurg/SE2Z5c7qQndDlfpxf0uZzqDb9c\n",
       "vEpP6HI7XqQndFlva+6uaJxu0hP6DPW+/Q1T1f+NHNMDukwle01VBT9YFlX1KgIAAAAAAABAcYI1\n",
       "AAAAAAAAABGCNQAAAAAAAAARgjUAAAAAAAAAEYI1AAAAAAAAABGCNQAAAAAAAAARgjUAAAAAAAAA\n",
       "EYI1AAAAAAAAABGCNQAAAAAAAAARgjUAAAAAAAAAEYI1AAAAAAAAABGCNQAAAAAAAAARgjUAAAAA\n",
       "AAAAEYI1AAAAAAAAABGCNQAAAAAAAAARgjUAAAAAAAAAEYI1AAAAAAAAABGCNQAAAAAAAAARgjUA\n",
       "AAAAAAAAEYI1AAAAAAAAABGCNQAAAAAAAAARgjUAAAAAAAAAEYI1AAAAAAAAABGCNQAAAAAAAAAR\n",
       "gjUAAAAAAAAAEYI1AAAAAAAAABGCNQAAAAAAAAARgjUAAAAAAAAAEYI1AAAAAAAAABGCNQAAAAAA\n",
       "AAARgjUAAAAAAAAAEYI1AAAAAAAAABGr9ADg9w3pAW+MoehvdqY2pid0Gceb9ITZpsWd9IQu07BM\n",
       "T+hy1B6kJ8y2LPoo9fRqk57Q5WS33vFeDPU2t9ba56f30xO6fH1xlJ4w297Pr9MTuuweXKUndLnz\n",
       "4DQ9Ybbxai89ocuLzz5MT+jy8uuT9ITZvnxZ85r95cVhekKXr2520xNme17vVay11trz25rPrOth\n",
       "nZ4w29n4RXpCl5vNq/SELhW/60xTvfP6G1N6QJ+p3u6K5zX8cTaCzWtSs9YAAAAAAAAAUJ5gDQAA\n",
       "AAAAAECEYA0AAAAAAABAhGANAAAAAAAAQIRgDQAAAAAAAECEYA0AAAAAAABAhGANAAAAAAAAQIRg\n",
       "DQAAAAAAAECEYA0AAAAAAABAhGANAAAAAAAAQIRgDQAAAAAAAECEYA0AAAAAAABAhGANAAAAAAAA\n",
       "QIRgDQAAAAAAAECEYA0AAAAAAABAhGANAAAAAAAAQIRgDQAAAAAAAECEYA0AAAAAAABAhGANAAAA\n",
       "AAAAQIRgDQAAAAAAAECEYA0AAAAAAABAhGANAAAAAAAAQIRgDQAAAAAAAECEYA0AAAAAAABAhGAN\n",
       "AAAAAAAAQIRgDQAAAAAAAECEYA0AAAAAAABAhGANAAAAAAAAQIRgDQAAAAAAAECEYA0AAAAAAABA\n",
       "hGANAAAAAAAAQIRgDQAAAAAAAECEYA0AAAAAAABAxCo9APhdU7sd0ht6DG1nSm+Ya5o26Ql9hpKn\n",
       "SGut3u7NeJme0GVneZCe0OW8vUxPmO1mcZWe0GVv+2F6QpfPzuud2+/s1/x96IcHd9ITury83U1P\n",
       "mG3/V+v0hC73Di7SE7pcf/qD9ITZDu/UvNc8ef4wPaHLzrLeO8IXF0fpCV0+PTtMT+hytan3XlPu\n",
       "Zf3/fD3VfB+7Hq7TE+Yba54ly8VOekKXzZheMN801TxH6n77W6YXzDZMBU/sVvceyeu0Knqa1Hto\n",
       "rfkFDQAAAAAAAIDyBGsAAAAAAAAAIgRrAAAAAAAAACIEawAAAAAAAAAiBGsAAAAAAAAAIgRrAAAA\n",
       "AAAAACIEawAAAAAAAAAiBGsAAAAAAAAAIgRrAAAAAAAAACIEawAAAAAAAAAiBGsAAAAAAAAAIgRr\n",
       "AAAAAAAAACIEawAAAAAAAAAiBGsAAAAAAAAAIgRrAAAAAAAAACIEawAAAAAAAAAiBGsAAAAAAAAA\n",
       "IgRrAAAAAAAAACIEawAAAAAAAAAiBGsAAAAAAAAAIgRrAAAAAAAAACIEawAAAAAAAAAiBGsAAAAA\n",
       "AAAAIgRrAAAAAAAAACIEawAAAAAAAAAiBGsAAAAAAAAAIgRrAAAAAAAAACIEawAAAAAAAAAiBGsA\n",
       "AAAAAAAAIgRrAAAAAAAAACIEawAAAAAAAAAiBGsAAAAAAAAAIob0APjTWU3pBX02Jf8uh7LHu6Bh\n",
       "lV7wxlgtj9MTugxFb+/LxZ30hNnu7rydntDlrfY4PaHL/rSfnjDb95cP0hO6vHdQ83etb+3WexxZ\n",
       "15vcWmvto4Pb9IQud1ab9ITZpqnmfX0suvu/zuvda7ZFj/Xnl+kFfb68qXf9u57qXftaa+3F4jQ9\n",
       "ocvT8d/TE2bbTuv0hC7bsd7fY2utrbev0hNm245FL9ptTA/oM1V8SSh6rIt+Q5taxXOkZvfg9an5\n",
       "JQoAAAAAAACA8gRrAAAAAAAAACIEawAAAAAAAAAiBGsAAAAAAAAAIgRrAAAAAAAAACIEawAAAAAA\n",
       "AAAiBGsAAAAAAAAAIgRrAAAAAAAAACIEawAAAAAAAAAiBGsAAAAAAAAAIgRrAAAAAAAAACIEawAA\n",
       "AAAAAAAiBGsAAAAAAAAAIgRrAAAAAAAAACIEawAAAAAAAAAiBGsAAAAAAAAAIgRrAAAAAAAAACIE\n",
       "awAAAAAAAAAiBGsAAAAAAAAAIgRrAAAAAAAAACIEawAAAAAAAAAiBGsAAAAAAAAAIgRrAAAAAAAA\n",
       "ACIEawAAAAAAAAAiBGsAAAAAAAAAIgRrAAAAAAAAACIEawAAAAAAAAAiBGsAAAAAAAAAIgRrAAAA\n",
       "AAAAACIEawAAAAAAAAAiBGsAAAAAAAAAIgRrAAAAAAAAACIEawAAAAAAAAAihvQA4PetpvQCvt2G\n",
       "oepvjZbpAbMNRW+Tw7CXntBlb+dBesJsy2EnPaHL3vIoPaHL3lBv93vj4/SELu8sDtMTuhwu690j\n",
       "H+zVvNdUda/gZXtMD+h0epte0GdV7zJS9lg/vb5OT+hy1eod8LPFq/SELufDy/SELhfj8/SE2S7X\n",
       "X6UndFlvTtMT+gwVn/9qfq6cpnrX7NZam6aqT4AVbSr+QbaaDaHqseZ1KfgqBgAAAAAAAMB3gWAN\n",
       "AAAAAAAAQIRgDQAAAAAAAECEYA0AAAAAAABAhGANAAAAAAAAQIRgDQAAAAAAAECEYA0AAAAAAABA\n",
       "hGANAAAAAAAAQIRgDQAAAAAAAECEYA0AAAAAAABAhGANAAAAAAAAQIRgDQAAAAAAAECEYA0AAAAA\n",
       "AABAhGANAAAAAAAAQIRgDQAAAAAAAECEYA0AAAAAAABAhGANAAAAAAAAQIRgDQAAAAAAAECEYA0A\n",
       "AAAAAABAhGANAAAAAAAAQIRgDQAAAAAAAECEYA0AAAAAAABAhGANAAAAAAAAQIRgDQAAAAAAAECE\n",
       "YA0AAAAAAABAhGANAAAAAAAAQIRgDQAAAAAAAECEYA0AAAAAAABAhGANAAAAAAAAQIRgDQAAAAAA\n",
       "AECEYA0AAAAAAABAhGANAAAAAAAAQMQqPQD4bhjSAzpM6QGdpmlMT+gyFDziY8HNrbW2WuynJ3RZ\n",
       "b1+lJ8w2LO+lJ7xRxrZNT5jtfLhIT+iy2Fa8s7f2bKx33b4Zj9ITutR8Gmntl+f1riN7i5q/Mz/d\n",
       "3qYndNkf6n0medEu0xO6TEO9a3ZrrT1dfJaeMNuq7aUndDnb/iY9ocvttt7z33a8SU/oMgzL9IQu\n",
       "U8H3mmlapyf0KfoNjddpVfOBpG1qvrTzGtU7t2u++QIAAAAAAABQnmANAAAA8L/t201uI9cZhtFb\n",
       "EtPtNmA4mSeD7H9dmSTIJE4b/UPxZpAFGKw4fPRJ56zgReGyWKVHBAAAICFYAwAAAAAAAJAQrAEA\n",
       "AAAAAABICNYAAAAAAAAAJARrAAAAAAAAABKCNQAAAAAAAAAJwRoAAAAAAACAhGANAAAAAAAAQEKw\n",
       "BgAAAAAAACAhWAMAAAAAAACQEKwBAAAAAAAASAjWAAAAAAAAACQEawAAAAAAAAASgjUAAAAAAAAA\n",
       "CcEaAAAAAAAAgIRgDQAAAAAAAEBCsAYAAAAAAAAgIVgDAAAAAAAAkBCsAQAAAAAAAEgI1gAAAAAA\n",
       "AAAkBGsAAAAAAAAAEoI1AAAAAAAAAAnBGgAAAAAAAICEYA0AAAAAAABAQrAGAAAAAAAAICFYAwAA\n",
       "AAAAAJAQrAEAAAAAAABICNYAAAAAAAAAJARrAAAAAAAAABKCNQAAAAAAAAAJwRoAAAAAAACAxFEP\n",
       "AOhcdr3gPTkGfuUcx4d6wjnHvGu91lpPx8d6wt2ehp6Ry/OnesIpt32tJ9ztTx/+Wk845eMaekbW\n",
       "rZ5wt4nfj2ut9eeXv9QTTvl6fK8n3O2X45d6winP61JPOOXjnvfd/venv9UTTrnur/WEUyZ+16w1\n",
       "89X3X99mnu2X25d6wt32eqknnLJvM+8je+RncuLmtdbAd8i11trrOu4l4Rj6d9aJ1xreKr+wBgAA\n",
       "AAAAACAhWAMAAAAAAACQEKwBAAAAAAAASAjWAAAAAAAAACQEawAAAAAAAAASgjUAAAAAAAAACcEa\n",
       "AAAAAAAAgIRgDQAAAAAAAEBCsAYAAAAAAAAgIVgDAAAAAAAAkBCsAQAAAAAAAEgI1gAAAAAAAAAk\n",
       "BGsAAAAAAAAAEoI1AAAAAAAAAAnBGgAAAAAAAICEYA0AAAAAAABAQrAGAAAAAAAAICFYAwAAAAAA\n",
       "AJAQrAEAAAAAAABICNYAAAAAAAAAJARrAAAAAAAAABKCNQAAAAAAAAAJwRoAAAAAAACAhGANAAAA\n",
       "AAAAQEKwBgAAAAAAACAhWAMAAAAAAACQEKwBAAAAAAAASAjWAAAAAAAAACQEawAAAAAAAAASgjUA\n",
       "AAAAAAAACcEaAAAAAAAAgIRgDQAAAAAAAEBCsAYAAAAAAAAgcdQDgLfisusF78Ux9Na917wjchyX\n",
       "esJJM8/I2i/1grsdx4d6winPzz/WE0451nM94W6Xodf6eerZHnjf/uH553rCKT+umbu/rS/1hLt9\n",
       "vv2znnDKp6c/1hNO+bY/1xPu9v32az3hlNvAZ7+11rrevtYT7vY08PtxrbW+fP9HPeGUva71hPvN\n",
       "e11fa62118z7yNrf6wV3G3pEeKjr0D9GAa+FX1gDAAAAAAAAkBCsAQAAAAAAAEgI1gAAAAAAAAAk\n",
       "BGsAAAAAAAAAEoI1AAAAAAAAAAnBGgAAAAAAAICEYA0AAAAAAABAQrAGAAAAAAAAICFYAwAAAAAA\n",
       "AJAQrAEAAAAAAABICNYAAAAAAAAAJARrAAAAAAAAABKCNQAAAAAAAAAJwRoAAAAAAACAhGANAAAA\n",
       "AAAAQEKwBgAAAAAAACAhWAMAAAAAAACQEKwBAAAAAAAASAjWAAAAAAAAACQEawAAAAAAAAASgjUA\n",
       "AAAAAAAACcEaAAAAAAAAgIRgDQAAAAAAAEBCsAYAAAAAAAAgIVgDAAAAAAAAkBCsAQAAAAAAAEgI\n",
       "1gAAAAAAAAAkBGsAAAAAAAAAEoI1AAAAAAAAAAnBGgAAAAAAAICEYA0AAAAAAABAQrAGAAAAAAAA\n",
       "IHHUAwA6l10vOOc69N4973ofQ78m9xp3qddaaz0dH+sJd9vrez3hlKfjx3rCKXvPu97H8aGecMqH\n",
       "y8/1hJPm3f8uT5/qCafc9rWecMrzwM/kbb3UE075/vJrPeGUj5ef6gl3+3r9pZ5wyuVp3rPfWmt9\n",
       "f/lcT7jb9fbvesIpx9Df2dz213rC/fatXnDOzFf2kfbUMzLWxL/9zfu7339NvNbwNs188gMAAAAA\n",
       "AABgPMEaAAAAAAAAgIRgDQAAAAAAAEBCsAYAAAAAAAAgIVgDAAAAAAAAkBCsAQAAAAAAAEgI1gAA\n",
       "AAAAAAAkBGsAAAAAAAAAEoI1AAAAAAAAAAnBGgAAAAAAAICEYA0AAAAAAABAQrAGAAAAAAAAICFY\n",
       "AwAAAAAAAJAQrAEAAAAAAABICNYAAAAAAAAAJARrAAAAAAAAABKCNQAAAAAAAAAJwRoAAAAAAACA\n",
       "hGANAAAAAAAAQEKwBgAAAAAAACAhWAMAAAAAAACQEKwBAAAAAAAASAjWAAAAAAAAACQEawAAAAAA\n",
       "AAASgjUAAAAAAAAACcEaAAAAAAAAgIRgDQAAAAAAAEBCsAYAAAAAAAAgIVgDAAAAAAAAkBCsAQAA\n",
       "AAAAAEgI1gAAAAAAAAAkBGsAAAAAAAAAEoI1AAAAAAAAAImjHgC8FZddL7jf1T3woeadkWPo1+Re\n",
       "4y71WMfxXE845en4VE8455j3mby9fK4nnHIcl3rCKZfnn+sJd3u5faknnDL1jBzHvP/Zvt2+1hNO\n",
       "uTz/VE845eX2az3hbntf6wknzfs8rrVG/iVt377VE06a+V6z162ecL89cPNaa0281mutNfB5ZI89\n",
       "I1P5myXw/sz7dgQAAAAAAADgTRCsAQAAAAAAAEgI1gAAAAAAAAAkBGsAAAAAAAAAEoI1AAAAAAAA\n",
       "AAnBGgAAAAAAAICEYA0AAAAAAABAQrAGAAAAAAAAICFYAwAAAAAAAJAQrAEAAAAAAABICNYAAAAA\n",
       "AAAAJARrAAAAAAAAABKCNQAAAAAAAAAJwRoAAAAAAACAhGANAAAAAAAAQEKwBgAAAAAAACAhWAMA\n",
       "AAAAAACQEKwBAAAAAAAASAjWAAAAAAAAACQEawAAAAAAAAASgjUAAAAAAAAACcEaAAAAAAAAgIRg\n",
       "DQAAAAAAAEBCsAYAAAAAAAAgIVgDAAAAAAAAkBCsAQAAAAAAAEgI1gAAAAAAAAAkBGsAAAAAAAAA\n",
       "EoI1AAAAAAAAAAnBGgAAAAAAAICEf1/HWgAADYdJREFUYA0AAAAAAABAQrAGAAAAAAAAIHHUA4C3\n",
       "4rLrBfe7ugfyGyae67mOiY8lx3O94JS9r/WEU56efqgn3G3qtZ76mnAcl3rC/fatXnDKXjN3Px0f\n",
       "6gl3O44/1BNOud2+1BPekZmPrHu91BNOmni9Z36vrz30jBwDr/fY5xEeZeCpXmuttcf+7W/i36Om\n",
       "XmvgtfALawAAAAAAAAASgjUAAAAAAAAACcEaAAAAAAAAgIRgDQAAAAAAAEBCsAYAAAAAAAAgIVgD\n",
       "AAAAAAAAkBCsAQAAAAAAAEgI1gAAAAAAAAAkBGsAAAAAAAAAEoI1AAAAAAAAAAnBGgAAAAAAAICE\n",
       "YA0AAAAAAABAQrAGAAAAAAAAICFYAwAAAAAAAJAQrAEAAAAAAABICNYAAAAAAAAAJARrAAAAAAAA\n",
       "ABKCNQAAAAAAAAAJwRoAAAAAAACAhGANAAAAAAAAQEKwBgAAAAAAACAhWAMAAAAAAACQEKwBAAAA\n",
       "AAAASAjWAAAAAAAAACQEawAAAAAAAAASgjUAAAAAAAAACcEaAAAAAAAAgIRgDQAAAAAAAEBCsAYA\n",
       "AAAAAAAgIVgDAAAAAAAAkBCsAQAAAAAAAEgI1gAAAAAAAAAkBGsAAAAAAAAAEkc9AID34rLrBfe7\n",
       "Dv2enHitZzrGPko5Io8z9P9DHe3HOYaekZEXe61jPdcT7rbXrZ5w0swzsvbA6z32PjL0y2Zf6wX3\n",
       "O+bd+9Zaa+2h95GB9+2pV9o7O79t6hnhcaZ+Hp1t3p6pbzUAAAAAAAAADCdYAwAAAAAAAJAQrAEA\n",
       "AAAAAABICNYAAAAAAAAAJARrAAAAAAAAABKCNQAAAAAAAAAJwRoAAAAAAACAhGANAAAAAAAAQEKw\n",
       "BgAAAAAAACAhWAMAAAAAAACQEKwBAAAAAAAASAjWAAAAAAAAACQEawAAAAAAAAASgjUAAAAAAAAA\n",
       "CcEaAAAAAAAAgIRgDQAAAAAAAEBCsAYAAAAAAAAgIVgDAAAAAAAAkBCsAQAAAAAAAEgI1gAAAAAA\n",
       "AAAkBGsAAAAAAAAAEoI1AAAAAAAAAAnBGgAAAAAAAICEYA0AAAAAAABAQrAGAAAAAAAAICFYAwAA\n",
       "AAAAAJAQrAEAAAAAAABICNYAAAAAAAAAJARrAAAAAAAAABKCNQAAAAAAAAAJwRoAAAAAAACAhGAN\n",
       "AAAAAAAAQOKoBwAAzHXZ9YIzPAA+zsgDstY6pp6S47lecL/9Ui94X46BZ3sPvZNM/Dyutda61QNO\n",
       "GHiu11prT7zWa0283nvkuV5rreu8i73WmvmOMPVa8zgTz/VazjbAHH5hDQAAAAAAAEBCsAYAAAAA\n",
       "AAAgIVgDAAAAAAAAkBCsAQAAAAAAAEgI1gAAAAAAAAAkBGsAAAAAAAAAEoI1AAAAAAAAAAnBGgAA\n",
       "AAAAAICEYA0AAAAAAABAQrAGAAAAAAAAICFYAwAAAAAAAJAQrAEAAAAAAABICNYAAAAAAAAAJARr\n",
       "AAAAAAAAABKCNQAAAAAAAAAJwRoAAAAAAACAhGANAAAAAAAAQEKwBgAAAAAAACAhWAMAAAAAAACQ\n",
       "EKwBAAAAAAAASAjWAAAAAAAAACQEawAAAAAAAAASgjUAAAAAAAAACcEaAAAAAAAAgIRgDQAAAAAA\n",
       "AEBCsAYAAAAAAAAgIVgDAAAAAAAAkBCsAQAAAAAAAEgI1gAAAAAAAAAkBGsAAAAAAAAAEoI1AAAA\n",
       "AAAAAAnBGgAAAAAAAICEYA0AAAAAAABA4qgHAAC/t8uuF5xzHfhc4lo/0jH2es8z9UKPPNhDV++h\n",
       "p+Q4Bv7P9p55rafeSWaunmrm88jM5z/XGl6XqZ9JAPj/Gfi2DgAAAAAAAMBbIFgDAAAAAAAAkBCs\n",
       "AQAAAAAAAEgI1gAAAAAAAAAkBGsAAAAAAAAAEoI1AAAAAAAAAAnBGgAAAAAAAICEYA0AAAAAAABA\n",
       "QrAGAAAAAAAAICFYAwAAAAAAAJAQrAEAAAAAAABICNYAAAAAAAAAJARrAAAAAAAAABKCNQAAAAAA\n",
       "AAAJwRoAAAAAAACAhGANAAAAAAAAQEKwBgAAAAAAACAhWAMAAAAAAACQEKwBAAAAAAAASAjWAAAA\n",
       "AAAAACQEawAAAAAAAAASgjUAAAAAAAAACcEaAAAAAAAAgIRgDQAAAAAAAEBCsAYAAAAAAAAgIVgD\n",
       "AAAAAAAAkBCsAQAAAAAAAEgI1gAAAAAAAAAkBGsAAAAAAAAAEoI1AAAAAAAAAAnBGgAAAAAAAICE\n",
       "YA0AAAAAAABA4lIPAIDX67LrBbx216NewOvmJvJYe+Rn0nfNI+19qyecMPFcr3U427xZ8z6TUz+P\n",
       "I0ePNe9cAwBvi19YAwAAAAAAAJAQrAEAAAAAAABICNYAAAAAAAAAJARrAAAAAAAAABKCNQAAAAAA\n",
       "AAAJwRoAAAAAAACAhGANAAAAAAAAQEKwBgAAAAAAACAhWAMAAAAAAACQEKwBAAAAAAAASAjWAAAA\n",
       "AAAAACQEawAAAAAAAAASgjUAAAAAAAAACcEaAAAAAAAAgIRgDQAAAAAAAEBCsAYAAAAAAAAgIVgD\n",
       "AAAAAAAAkBCsAQAAAAAAAEgI1gAAAAAAAAAkBGsAAAAAAAAAEoI1AAAAAAAAAAnBGgAAAAAAAICE\n",
       "YA0AAAAAAABAQrAGAAAAAAAAICFYAwAAAAAAAJAQrAEAAAAAAABICNYAAAAAAAAAJARrAAAAAAAA\n",
       "ABKCNQAAAAAAAAAJwRoAAAAAAACAhGANAAAAAAAAQEKwBgAAAAAAACAhWAMAAAAAAACQOOoBAABz\n",
       "XXa94H25enZ9mKln2xl5nKlnhMfxeeStcv97HPcRAID3wi+sAQAAAAAAAEgI1gAAAAAAAAAkBGsA\n",
       "AAAAAAAAEoI1AAAAAAAAAAnBGgAAAAAAAICEYA0AAAAAAABAQrAGAAAAAAAAICFYAwAAAAAAAJAQ\n",
       "rAEAAAAAAABICNYAAAAAAAAAJARrAAAAAAAAABKCNQAAAAAAAAAJwRoAAAAAAACAhGANAAAAAAAA\n",
       "QEKwBgAAAAAAACAhWAMAAAAAAACQEKwBAAAAAAAASAjWAAAAAAAAACQEawAAAAAAAAASgjUAAAAA\n",
       "AAAACcEaAAAAAAAAgIRgDQAAAAAAAEBCsAYAAAAAAAAgIVgDAAAAAAAAkBCsAQAAAAAAAEgI1gAA\n",
       "AAAAAAAkBGsAAAAAAAAAEoI1AAAAAAAAAAnBGgAAAAAAAICEYA0AAAAAAABAQrAGAAAAAAAAICFY\n",
       "AwAAAAAAAJA46gEAAPB2XXa94Jyr94SHcUb4Lc4I8L9yHwEA4HXzC2sAAAAAAAAAEoI1AAAAAAAA\n",
       "AAnBGgAAAAAAAICEYA0AAAAAAABAQrAGAAAAAAAAICFYAwAAAAAAAJAQrAEAAAAAAABICNYAAAAA\n",
       "AAAAJARrAAAAAAAAABKCNQAAAAAAAAAJwRoAAAAAAACAhGANAAAAAAAAQEKwBgAAAAAAACAhWAMA\n",
       "AAAAAACQEKwBAAAAAAAASAjWAAAAAAAAACQEawAAAAAAAAASgjUAAAAAAAAACcEaAAAAAAAAgIRg\n",
       "DQAAAAAAAEBCsAYAAAAAAAAgIVgDAAAAAAAAkBCsAQAAAAAAAEgI1gAAAAAAAAAkBGsAAAAAAAAA\n",
       "EoI1AAAAAAAAAAnBGgAAAAAAAICEYA0AAAAAAABAQrAGAAAAAAAAICFYAwAAAAAAAJAQrAEAAAAA\n",
       "AABICNYAAAAAAAAAJARrAAAAAAAAABJHPQAAAOD9uux6wTlX75IAAADA78IvrAEAAAAAAABICNYA\n",
       "AAAAAAAAJARrAAAAAAAAABKCNQAAAAAAAAAJwRoAAAAAAACAhGANAAAAAAAAQEKwBgAAAAAAACAh\n",
       "WAMAAAAAAACQEKwBAAAAAAAASAjWAAAAAAAAACQEawAAAAAAAAASgjUAAAAAAAAACcEaAAAAAAAA\n",
       "gIRgDQAAAAAAAEBCsAYAAAAAAAAgIVgDAAAAAAAAkBCsAQAAAAAAAEgI1gAAAAAAAAAkBGsAAAAA\n",
       "AAAAEoI1AAAAAAAAAAnBGgAAAAAAAICEYA0AAAAAAABAQrAGAAAAAAAAICFYAwAAAAAAAJAQrAEA\n",
       "AAAAAABICNYAAAAAAAAAJARrAAAAAAAAABKCNQAAAAAAAAAJwRoAAAAAAACAhGANAAAAAAAAQEKw\n",
       "BgAAAAAAACAhWAMAAAAAAACQOOoBAAAATHPZ9YJzrt6BAQAA4JXxC2sAAAAAAAAAEoI1AAAAAAAA\n",
       "AAnBGgAAAAAAAICEYA0AAAAAAABAQrAGAAAAAAAAICFYAwAAAAAAAJAQrAEAAAAAAABICNYAAAAA\n",
       "AAAAJARrAAAAAAAAABKCNQAAAAAAAAAJwRoAAAAAAACAhGANAAAAAAAAQEKwBgAAAAAAACAhWAMA\n",
       "AAAAAACQEKwBAAAAAAAASAjWAAAAAAAAACQEawAAAAAAAAASgjUAAAAAAAAACcEaAAAAAAAAgIRg\n",
       "DQAAAAAAAEBCsAYAAAAAAAAgIVgDAAAAAAAAkBCsAQAAAAAAAEgI1gAAAAAAAAAkBGsAAAAAAAAA\n",
       "EoI1AAAAAAAAAAnBGgAAAAAAAICEYA0AAAAAAABAQrAGAAAAAAAAICFYAwAAAAAAAJAQrAEAAAAA\n",
       "AABICNYAAAAAAAAAJP4DRCUUOleYmyIAAAAASUVORK5CYII=\n",
       "\" transform=\"translate(149, 47)\"/>\n",
       "</g>\n",
       "<defs>\n",
       "  <clipPath id=\"clip563\">\n",
       "    <rect x=\"2160\" y=\"47\" width=\"73\" height=\"1440\"/>\n",
       "  </clipPath>\n",
       "</defs>\n",
       "<g clip-path=\"url(#clip563)\">\n",
       "<image width=\"72\" height=\"1439\" xlink:href=\"data:image/png;base64,\n",
       "iVBORw0KGgoAAAANSUhEUgAAAEgAAAWfCAYAAAAI7rB3AAAMWUlEQVR4nO3dwY0rRxAFwaZQ/lsh\n",
       "L6XfLQtUeSQPERYsEg8c9MyQ+/n3/v0O/+uvb/8Bv06gIFAQKAgU5r5/v/03/DQLCgIFgYJAQaAw\n",
       "7/359t/w0ywoCBQECgIFR41gQUGgIFAQKAgU5rmKrSwoCBQECgIFgcK86yq2saAgUBAoCBQcNYIF\n",
       "BYGCQEGgIFBwFQsWFAQKAgWBgvtBwYKCQEGgIFAQKMxx1FhZUBAoCBQECgIFN8yCBQWBgkBBoDDH\n",
       "DbOVBQWBgkBBoCBQmHP/+fbf8NMsKAgUBAoCBYGCxz7BgoJAQaAgUHDDLFhQECgIFAQKAgVXsWBB\n",
       "QaAgUBAouB8ULCgIFAQKAgWBwnwcNVYWFAQKAgWBgkBhzvWfWTYWFAQKAgWBgqNGsKAgUBAoCBQE\n",
       "Co4awYKCQEGgIFAQKHjDLFhQECgIFAQK83HUWFlQECgIFAQKAgXvSQcLCgIFgYJAwVEjWFAQKAgU\n",
       "BAoCBc/mgwUFgYJAQaAgUHAWCxYUBAoCBYGCo0awoCBQECgIFAQKjhrBgoJAQaAgUBAozLn323/D\n",
       "T7OgIFAQKAgUHDWCBQWBgkBBoCBQ8NgnWFAQKAgUBAo+pIMFBYGCQEGgIFCYj6caKwsKAgWBgkBB\n",
       "oOAsFiwoCBQECgIFL1AFCwoCBYGCQEGg4IZZsKAgUBAoCBTcDwoWFAQKAgWBgkDBDbNgQUGgIFAQ\n",
       "KAgUXMWCBQWBgkBBoOB788GCgkBBoCBQECg4agQLCgIFgYJAQaDgKhYsKAgUBAoCBR/SwYKCQEGg\n",
       "IFAQKLiKBQsKAgWBgkBhzvMhvbGgIFAQKAgUBAqOGsGCgkBBoCBQECi4igULCgIFgYJAwYd0sKAg\n",
       "UBAoCBQECnPu+/bf8NMsKAgUBAoCBYGCs1iwoCBQECgIFBw1ggUFgYJAQaAgUHDUCBYUBAoCBYGC\n",
       "o0awoCBQECgIFAQKc5w0VhYUBAoCBYGCQGHOcxbbWFAQKAgUBAqOGsGCgkBBoCBQECi4igULCgIF\n",
       "gYJAQaAwfohzZ0FBoCBQECg4agQLCgIFgYJAQaDgKhYsKAgUBAoChTn38+2/4adZUBAoCBQECgKF\n",
       "ec9VbGNBQaAgUBAoCBTcMAsWFAQKAgWBghtmwYKCQEGgIFAQKMy7Gm3UCQIFgYJAwVEjWFAQKAgU\n",
       "BAoChTmeza8sKAgUBAoCBYHCPGexlQUFgYJAQaAwx1ONlTpBoCBQECgIFBw1ggUFgYJAQaAgUPDY\n",
       "J1hQECgIFAQKXgMO6gSBgkBBoCBQ8J50sKAgUBAoCBQ81QgWFAQKAgWBgkBh3tNoo04QKAgUBAoC\n",
       "BTfMggUFgYJAQaDghlmwoCBQECgIFAQKc9wwW6kTBAoCBYGCQMFZLFhQECgIFAQKPqSDBQWBgkBB\n",
       "oCBQ8L35YEFBoCBQECj43nxQJwgUBAoCBYHCPEeNlQUFgYJAQaAgUPDYJ1hQECgIFAQK/jNLUCcI\n",
       "FAQKAgWBghtmwYKCQEGgIFAQKLhhFiwoCBQECgIFR41gQUGgIFAQKAgUvCcd1AkCBYGCQMFRI1hQ\n",
       "ECgIFAQKAgVPNYIFBYGCQEGgIFBwFgsWFAQKAgWBgn+fFSwoCBQECgIFgYJ/ZRzUCQIFgYJAQaDg\n",
       "hlmwoCBQECgIFDybDxYUBAoCBYGCQMFRI1hQECgIFAQKc31IrywoCBQECgIFgYLvzQd1gkBBoCBQ\n",
       "ECi4YRYsKAgUBAoCBR/SwYKCQEGgIFAQKHjDLFhQECgIFAQKjhrBgoJAQaAgUBAouIoFCwoCBYGC\n",
       "QEGg4NdfgjpBoCBQECjM9VRjZUFBoCBQECgIFNwwCxYUBAoCBYGCQMFVLFhQECgIFAQKPqSDBQWB\n",
       "gkBBoCBQ8BtmwYKCQEGgIFBw1AgWFAQKAgWBgkDBVSxYUBAoCBQECgIFX2YJ6gSBgkBBoODLLMGC\n",
       "gkBBoCBQECi4YRYsKAgUBAoCBYGCq1iwoCBQECgIFLwGHCwoCBQECgIFgYKjRrCgIFAQKAgU5h0f\n",
       "0hsLCgIFgYJAQaDghlmwoCBQECgIFAQKbpgFCwoCBYGCQMFRI1hQECgIFAQKAgVHjWBBQaAgUBAo\n",
       "CBScxYIFBYGCQEGg4KgRLCgIFAQKAgWBgqtYsKAgUBAoCBTm+jLLyoKCQEGgIFAQKDhqBAsKAgWB\n",
       "gkBBoODZfLCgIFAQKAgU5r1v/wm/zYKCQEGgIFAQKDhqBAsKAgWBgkDBD00GCwoCBYGCQEGg4KgR\n",
       "LCgIFAQKAgWBgjfMggUFgYJAQaDgyyzBgoJAQaAgUBAoeMMsWFAQKAgUBAoCBY99ggUFgYJAQaDg\n",
       "qUawoCBQECgIFAQKHvsECwoCBYGCQMH9oGBBQaAgUBAoCBQ8mw8WFAQKAgWBgkDBDbNgQUGgIFAQ\n",
       "KHg2HywoCBQECgIFgcLcb/8FP86CgkBBoCBQECg4iwULCgIFgYJAwRtmwYKCQEGgIFAQKLhhFiwo\n",
       "CBQECgIF94OCBQWBgkBBoCBQcNQIFhQECgIFgYJAwVksWFAQKAgUBAqezQcLCgIFgYJAQaAwfvxl\n",
       "Z0FBoCBQECgIFJzFggUFgYJAQaDg2XywoCBQECgIFAQKns0HCwoCBYGCQMFRI1hQECgIFAQKAgVH\n",
       "jWBBQaAgUBAoCBTmesVsZUFBoCBQECi4YRYsKAgUBAoCBYGCG2bBgoJAQaAgUHDUCBYUBAoCBYGC\n",
       "QGGepxorCwoCBYGCQEGgMPe4YbaxoCBQECgIFLxAFSwoCBQECgIFgYIfmgwWFAQKAgWBgkDBD00G\n",
       "CwoCBYGCQMGz+WBBQaAgUBAoCBS8Jx0sKAgUBAoCBd84DBYUBAoCBYGCQMFRI1hQECgIFAQKAgXv\n",
       "SQcLCgIFgYJAwWvAwYKCQEGgIFAQKDhqBAsKAgWBgkBBoOA96WBBQaAgUBAo+ImuYEFBoCBQECgI\n",
       "FNwwCxYUBAoCBYGCZ/PBgoJAQaAgUBAoOGoECwoCBYGCQEGg4CwWLCgIFAQKAgVHjWBBQaAgUBAo\n",
       "CBRcxYIFBYGCQEGgIFBwwyxYUBAoCBQECo4awYKCQEGgIFAQKDhqBAsKAgWBgkDBUSNYUBAoCBQE\n",
       "CgIFP9EVLCgIFAQKAgWBgv8vFiwoCBQECgIFN8yCBQWBgkBBoCBQmHdcxjYWFAQKAgWBgkDBWSxY\n",
       "UBAoCBQECp7NBwsKAgWBgkBBoODZfLCgIFAQKAgU3A8KFhQECgIFgYJAwbP5YEFBoCBQECgIFJzF\n",
       "ggUFgYJAQaDgJ7qCBQWBgkBBoCBQmOsVs5UFBYGCQEGg4AWqYEFBoCBQECgIFOY5aqwsKAgUBAoC\n",
       "BYGCs1iwoCBQECgIFDzVCBYUBAoCBYGCQMEbZsGCgkBBoCBQECjM9ZXMlQUFgYJAQaDghlmwoCBQ\n",
       "ECgIFAQKfv0lWFAQKAgUBApeoAoWFAQKAgWBgkDBU41gQUGgIFAQKAgU3DALFhQECgIFgcLc45bZ\n",
       "xoKCQEGgIFAQKLhhFiwoCBQECgIFgYKrWLCgIFAQKAgUPNUIFhQECgIFgYJAwWOfYEFBoCBQECjM\n",
       "/ThqbCwoCBQECgIFgYKjRrCgIFAQKAgUBArzXMVWFhQECgIFgYKjRrCgIFAQKAgUBApzP65iGwsK\n",
       "AgWBgkBBoOAsFiwoCBQECgIFTzWCBQWBgkBBoCBQcNQIFhQECgIFgYIP6WBBQaAgUBAoCBQ8mw8W\n",
       "FAQKAgWBgkBh3vnz7b/hp1lQECgIFAQKbpgFCwoCBYGCQEGg4A2zYEFBoCBQECjMfe4HbSwoCBQE\n",
       "CgIFgYKjRrCgIFAQKAgUBApzPZtfWVAQKAgUBAqOGsGCgkBBoCBQECg4agQLCgIFgYJAQaAw7zmL\n",
       "bSwoCBQECgIFN8yCBQWBgkBBoCBQ8J50sKAgUBAoCBQcNYIFBYGCQEGgIFCY56ixsqAgUBAoCBQE\n",
       "Cs5iwYKCQEGgIFCY6wWqlQUFgYJAQaAgUPCb9sGCgkBBoCBQECj4MkuwoCBQECgIFDzVCBYUBAoC\n",
       "BYGCQMFRI1hQECgIFAQKPqSDBQWBgkBBoCBQ8Gw+WFAQKAgUBAoCBWexYEFBoCBQECjM8Wx+ZUFB\n",
       "oCBQECgIFBw1ggUFgYJAQaAgUPCedLCgIFAQKAgU5jhqrCwoCBQECgIFgYI3zIIFBYGCQEGg4Nl8\n",
       "sKAgUBAoCBQECm6YBQsKAgWBgkBBoDDvvG//DT/NgoJAQaAgUHDDLFhQECgIFAQKAoU5jhorCwoC\n",
       "BYGCQOE/LrLuTX/wFc8AAAAASUVORK5CYII=\n",
       "\" transform=\"translate(2161, 47)\"/>\n",
       "</g>\n",
       "<path clip-path=\"url(#clip560)\" d=\"M2269.43 1272.84 L2277.07 1272.84 L2277.07 1246.47 L2268.76 1248.14 L2268.76 1243.88 L2277.02 1242.21 L2281.7 1242.21 L2281.7 1272.84 L2289.33 1272.84 L2289.33 1276.77 L2269.43 1276.77 L2269.43 1272.84 Z\" fill=\"#000000\" fill-rule=\"nonzero\" fill-opacity=\"1\" /><path clip-path=\"url(#clip560)\" d=\"M2308.78 1245.29 Q2305.17 1245.29 2303.34 1248.86 Q2301.53 1252.4 2301.53 1259.53 Q2301.53 1266.64 2303.34 1270.2 Q2305.17 1273.74 2308.78 1273.74 Q2312.41 1273.74 2314.22 1270.2 Q2316.05 1266.64 2316.05 1259.53 Q2316.05 1252.4 2314.22 1248.86 Q2312.41 1245.29 2308.78 1245.29 M2308.78 1241.59 Q2314.59 1241.59 2317.64 1246.2 Q2320.72 1250.78 2320.72 1259.53 Q2320.72 1268.26 2317.64 1272.86 Q2314.59 1277.45 2308.78 1277.45 Q2302.97 1277.45 2299.89 1272.86 Q2296.83 1268.26 2296.83 1259.53 Q2296.83 1250.78 2299.89 1246.2 Q2302.97 1241.59 2308.78 1241.59 Z\" fill=\"#000000\" fill-rule=\"nonzero\" fill-opacity=\"1\" /><path clip-path=\"url(#clip560)\" d=\"M2338.94 1245.29 Q2335.33 1245.29 2333.5 1248.86 Q2331.7 1252.4 2331.7 1259.53 Q2331.7 1266.64 2333.5 1270.2 Q2335.33 1273.74 2338.94 1273.74 Q2342.57 1273.74 2344.38 1270.2 Q2346.21 1266.64 2346.21 1259.53 Q2346.21 1252.4 2344.38 1248.86 Q2342.57 1245.29 2338.94 1245.29 M2338.94 1241.59 Q2344.75 1241.59 2347.81 1246.2 Q2350.89 1250.78 2350.89 1259.53 Q2350.89 1268.26 2347.81 1272.86 Q2344.75 1277.45 2338.94 1277.45 Q2333.13 1277.45 2330.05 1272.86 Q2327 1268.26 2327 1259.53 Q2327 1250.78 2330.05 1246.2 Q2333.13 1241.59 2338.94 1241.59 Z\" fill=\"#000000\" fill-rule=\"nonzero\" fill-opacity=\"1\" /><path clip-path=\"url(#clip560)\" d=\"M2274.38 1047.26 L2290.7 1047.26 L2290.7 1051.19 L2268.76 1051.19 L2268.76 1047.26 Q2271.42 1044.5 2276 1039.87 Q2280.61 1035.22 2281.79 1033.88 Q2284.03 1031.36 2284.91 1029.62 Q2285.82 1027.86 2285.82 1026.17 Q2285.82 1023.42 2283.87 1021.68 Q2281.95 1019.94 2278.85 1019.94 Q2276.65 1019.94 2274.2 1020.71 Q2271.77 1021.47 2268.99 1023.02 L2268.99 1018.3 Q2271.81 1017.17 2274.27 1016.59 Q2276.72 1016.01 2278.76 1016.01 Q2284.13 1016.01 2287.32 1018.69 Q2290.52 1021.38 2290.52 1025.87 Q2290.52 1028 2289.7 1029.92 Q2288.92 1031.82 2286.81 1034.41 Q2286.23 1035.08 2283.13 1038.3 Q2280.03 1041.49 2274.38 1047.26 Z\" fill=\"#000000\" fill-rule=\"nonzero\" fill-opacity=\"1\" /><path clip-path=\"url(#clip560)\" d=\"M2310.51 1019.71 Q2306.9 1019.71 2305.08 1023.28 Q2303.27 1026.82 2303.27 1033.95 Q2303.27 1041.05 2305.08 1044.62 Q2306.9 1048.16 2310.51 1048.16 Q2314.15 1048.16 2315.95 1044.62 Q2317.78 1041.05 2317.78 1033.95 Q2317.78 1026.82 2315.95 1023.28 Q2314.15 1019.71 2310.51 1019.71 M2310.51 1016.01 Q2316.33 1016.01 2319.38 1020.62 Q2322.46 1025.2 2322.46 1033.95 Q2322.46 1042.68 2319.38 1047.28 Q2316.33 1051.87 2310.51 1051.87 Q2304.7 1051.87 2301.63 1047.28 Q2298.57 1042.68 2298.57 1033.95 Q2298.57 1025.2 2301.63 1020.62 Q2304.7 1016.01 2310.51 1016.01 Z\" fill=\"#000000\" fill-rule=\"nonzero\" fill-opacity=\"1\" /><path clip-path=\"url(#clip560)\" d=\"M2340.68 1019.71 Q2337.07 1019.71 2335.24 1023.28 Q2333.43 1026.82 2333.43 1033.95 Q2333.43 1041.05 2335.24 1044.62 Q2337.07 1048.16 2340.68 1048.16 Q2344.31 1048.16 2346.12 1044.62 Q2347.95 1041.05 2347.95 1033.95 Q2347.95 1026.82 2346.12 1023.28 Q2344.31 1019.71 2340.68 1019.71 M2340.68 1016.01 Q2346.49 1016.01 2349.54 1020.62 Q2352.62 1025.2 2352.62 1033.95 Q2352.62 1042.68 2349.54 1047.28 Q2346.49 1051.87 2340.68 1051.87 Q2334.87 1051.87 2331.79 1047.28 Q2328.73 1042.68 2328.73 1033.95 Q2328.73 1025.2 2331.79 1020.62 Q2334.87 1016.01 2340.68 1016.01 Z\" fill=\"#000000\" fill-rule=\"nonzero\" fill-opacity=\"1\" /><path clip-path=\"url(#clip560)\" d=\"M2284.38 806.979 Q2287.74 807.697 2289.61 809.965 Q2291.51 812.234 2291.51 815.567 Q2291.51 820.683 2287.99 823.484 Q2284.47 826.285 2277.99 826.285 Q2275.82 826.285 2273.5 825.845 Q2271.21 825.428 2268.76 824.572 L2268.76 820.058 Q2270.7 821.192 2273.02 821.771 Q2275.33 822.349 2277.85 822.349 Q2282.25 822.349 2284.54 820.613 Q2286.86 818.877 2286.86 815.567 Q2286.86 812.512 2284.7 810.799 Q2282.58 809.062 2278.76 809.062 L2274.73 809.062 L2274.73 805.22 L2278.94 805.22 Q2282.39 805.22 2284.22 803.854 Q2286.05 802.465 2286.05 799.873 Q2286.05 797.211 2284.15 795.799 Q2282.27 794.363 2278.76 794.363 Q2276.83 794.363 2274.64 794.78 Q2272.44 795.197 2269.8 796.076 L2269.8 791.91 Q2272.46 791.169 2274.77 790.799 Q2277.11 790.428 2279.17 790.428 Q2284.5 790.428 2287.6 792.859 Q2290.7 795.266 2290.7 799.387 Q2290.7 802.257 2289.06 804.248 Q2287.41 806.215 2284.38 806.979 Z\" fill=\"#000000\" fill-rule=\"nonzero\" fill-opacity=\"1\" /><path clip-path=\"url(#clip560)\" d=\"M2310.38 794.132 Q2306.76 794.132 2304.94 797.697 Q2303.13 801.238 2303.13 808.368 Q2303.13 815.474 2304.94 819.039 Q2306.76 822.581 2310.38 822.581 Q2314.01 822.581 2315.82 819.039 Q2317.64 815.474 2317.64 808.368 Q2317.64 801.238 2315.82 797.697 Q2314.01 794.132 2310.38 794.132 M2310.38 790.428 Q2316.19 790.428 2319.24 795.035 Q2322.32 799.618 2322.32 808.368 Q2322.32 817.095 2319.24 821.701 Q2316.19 826.285 2310.38 826.285 Q2304.57 826.285 2301.49 821.701 Q2298.43 817.095 2298.43 808.368 Q2298.43 799.618 2301.49 795.035 Q2304.57 790.428 2310.38 790.428 Z\" fill=\"#000000\" fill-rule=\"nonzero\" fill-opacity=\"1\" /><path clip-path=\"url(#clip560)\" d=\"M2340.54 794.132 Q2336.93 794.132 2335.1 797.697 Q2333.29 801.238 2333.29 808.368 Q2333.29 815.474 2335.1 819.039 Q2336.93 822.581 2340.54 822.581 Q2344.17 822.581 2345.98 819.039 Q2347.81 815.474 2347.81 808.368 Q2347.81 801.238 2345.98 797.697 Q2344.17 794.132 2340.54 794.132 M2340.54 790.428 Q2346.35 790.428 2349.4 795.035 Q2352.48 799.618 2352.48 808.368 Q2352.48 817.095 2349.4 821.701 Q2346.35 826.285 2340.54 826.285 Q2334.73 826.285 2331.65 821.701 Q2328.59 817.095 2328.59 808.368 Q2328.59 799.618 2331.65 795.035 Q2334.73 790.428 2340.54 790.428 Z\" fill=\"#000000\" fill-rule=\"nonzero\" fill-opacity=\"1\" /><path clip-path=\"url(#clip560)\" d=\"M2284.36 569.547 L2272.55 587.996 L2284.36 587.996 L2284.36 569.547 M2283.13 565.473 L2289.01 565.473 L2289.01 587.996 L2293.94 587.996 L2293.94 591.885 L2289.01 591.885 L2289.01 600.033 L2284.36 600.033 L2284.36 591.885 L2268.76 591.885 L2268.76 587.371 L2283.13 565.473 Z\" fill=\"#000000\" fill-rule=\"nonzero\" fill-opacity=\"1\" /><path clip-path=\"url(#clip560)\" d=\"M2311.67 568.551 Q2308.06 568.551 2306.23 572.116 Q2304.43 575.658 2304.43 582.787 Q2304.43 589.894 2306.23 593.459 Q2308.06 597 2311.67 597 Q2315.31 597 2317.11 593.459 Q2318.94 589.894 2318.94 582.787 Q2318.94 575.658 2317.11 572.116 Q2315.31 568.551 2311.67 568.551 M2311.67 564.848 Q2317.48 564.848 2320.54 569.454 Q2323.62 574.038 2323.62 582.787 Q2323.62 591.514 2320.54 596.121 Q2317.48 600.704 2311.67 600.704 Q2305.86 600.704 2302.78 596.121 Q2299.73 591.514 2299.73 582.787 Q2299.73 574.038 2302.78 569.454 Q2305.86 564.848 2311.67 564.848 Z\" fill=\"#000000\" fill-rule=\"nonzero\" fill-opacity=\"1\" /><path clip-path=\"url(#clip560)\" d=\"M2341.83 568.551 Q2338.22 568.551 2336.39 572.116 Q2334.59 575.658 2334.59 582.787 Q2334.59 589.894 2336.39 593.459 Q2338.22 597 2341.83 597 Q2345.47 597 2347.27 593.459 Q2349.1 589.894 2349.1 582.787 Q2349.1 575.658 2347.27 572.116 Q2345.47 568.551 2341.83 568.551 M2341.83 564.848 Q2347.64 564.848 2350.7 569.454 Q2353.78 574.038 2353.78 582.787 Q2353.78 591.514 2350.7 596.121 Q2347.64 600.704 2341.83 600.704 Q2336.02 600.704 2332.95 596.121 Q2329.89 591.514 2329.89 582.787 Q2329.89 574.038 2332.95 569.454 Q2336.02 564.848 2341.83 564.848 Z\" fill=\"#000000\" fill-rule=\"nonzero\" fill-opacity=\"1\" /><path clip-path=\"url(#clip560)\" d=\"M2270.21 339.892 L2288.57 339.892 L2288.57 343.827 L2274.5 343.827 L2274.5 352.3 Q2275.52 351.952 2276.53 351.79 Q2277.55 351.605 2278.57 351.605 Q2284.36 351.605 2287.74 354.776 Q2291.12 357.948 2291.12 363.364 Q2291.12 368.943 2287.64 372.045 Q2284.17 375.124 2277.85 375.124 Q2275.68 375.124 2273.41 374.753 Q2271.16 374.383 2268.76 373.642 L2268.76 368.943 Q2270.84 370.077 2273.06 370.633 Q2275.28 371.188 2277.76 371.188 Q2281.77 371.188 2284.1 369.082 Q2286.44 366.975 2286.44 363.364 Q2286.44 359.753 2284.1 357.647 Q2281.77 355.54 2277.76 355.54 Q2275.89 355.54 2274.01 355.957 Q2272.16 356.374 2270.21 357.253 L2270.21 339.892 Z\" fill=\"#000000\" fill-rule=\"nonzero\" fill-opacity=\"1\" /><path clip-path=\"url(#clip560)\" d=\"M2310.33 342.971 Q2306.72 342.971 2304.89 346.536 Q2303.08 350.077 2303.08 357.207 Q2303.08 364.313 2304.89 367.878 Q2306.72 371.42 2310.33 371.42 Q2313.96 371.42 2315.77 367.878 Q2317.6 364.313 2317.6 357.207 Q2317.6 350.077 2315.77 346.536 Q2313.96 342.971 2310.33 342.971 M2310.33 339.267 Q2316.14 339.267 2319.2 343.874 Q2322.27 348.457 2322.27 357.207 Q2322.27 365.934 2319.2 370.54 Q2316.14 375.124 2310.33 375.124 Q2304.52 375.124 2301.44 370.54 Q2298.39 365.934 2298.39 357.207 Q2298.39 348.457 2301.44 343.874 Q2304.52 339.267 2310.33 339.267 Z\" fill=\"#000000\" fill-rule=\"nonzero\" fill-opacity=\"1\" /><path clip-path=\"url(#clip560)\" d=\"M2340.49 342.971 Q2336.88 342.971 2335.05 346.536 Q2333.25 350.077 2333.25 357.207 Q2333.25 364.313 2335.05 367.878 Q2336.88 371.42 2340.49 371.42 Q2344.13 371.42 2345.93 367.878 Q2347.76 364.313 2347.76 357.207 Q2347.76 350.077 2345.93 346.536 Q2344.13 342.971 2340.49 342.971 M2340.49 339.267 Q2346.3 339.267 2349.36 343.874 Q2352.44 348.457 2352.44 357.207 Q2352.44 365.934 2349.36 370.54 Q2346.3 375.124 2340.49 375.124 Q2334.68 375.124 2331.6 370.54 Q2328.55 365.934 2328.55 357.207 Q2328.55 348.457 2331.6 343.874 Q2334.68 339.267 2340.49 339.267 Z\" fill=\"#000000\" fill-rule=\"nonzero\" fill-opacity=\"1\" /><path clip-path=\"url(#clip560)\" d=\"M2281.09 129.728 Q2277.95 129.728 2276.09 131.881 Q2274.27 134.034 2274.27 137.784 Q2274.27 141.511 2276.09 143.687 Q2277.95 145.839 2281.09 145.839 Q2284.24 145.839 2286.07 143.687 Q2287.92 141.511 2287.92 137.784 Q2287.92 134.034 2286.07 131.881 Q2284.24 129.728 2281.09 129.728 M2290.38 115.076 L2290.38 119.335 Q2288.62 118.501 2286.81 118.062 Q2285.03 117.622 2283.27 117.622 Q2278.64 117.622 2276.19 120.747 Q2273.76 123.872 2273.41 130.191 Q2274.77 128.177 2276.83 127.113 Q2278.89 126.025 2281.37 126.025 Q2286.58 126.025 2289.59 129.196 Q2292.62 132.344 2292.62 137.784 Q2292.62 143.108 2289.47 146.325 Q2286.33 149.543 2281.09 149.543 Q2275.1 149.543 2271.93 144.96 Q2268.76 140.353 2268.76 131.626 Q2268.76 123.432 2272.64 118.571 Q2276.53 113.687 2283.08 113.687 Q2284.84 113.687 2286.63 114.034 Q2288.43 114.381 2290.38 115.076 Z\" fill=\"#000000\" fill-rule=\"nonzero\" fill-opacity=\"1\" /><path clip-path=\"url(#clip560)\" d=\"M2310.68 117.39 Q2307.07 117.39 2305.24 120.955 Q2303.43 124.497 2303.43 131.626 Q2303.43 138.733 2305.24 142.298 Q2307.07 145.839 2310.68 145.839 Q2314.31 145.839 2316.12 142.298 Q2317.95 138.733 2317.95 131.626 Q2317.95 124.497 2316.12 120.955 Q2314.31 117.39 2310.68 117.39 M2310.68 113.687 Q2316.49 113.687 2319.54 118.293 Q2322.62 122.876 2322.62 131.626 Q2322.62 140.353 2319.54 144.96 Q2316.49 149.543 2310.68 149.543 Q2304.87 149.543 2301.79 144.96 Q2298.73 140.353 2298.73 131.626 Q2298.73 122.876 2301.79 118.293 Q2304.87 113.687 2310.68 113.687 Z\" fill=\"#000000\" fill-rule=\"nonzero\" fill-opacity=\"1\" /><path clip-path=\"url(#clip560)\" d=\"M2340.84 117.39 Q2337.23 117.39 2335.4 120.955 Q2333.59 124.497 2333.59 131.626 Q2333.59 138.733 2335.4 142.298 Q2337.23 145.839 2340.84 145.839 Q2344.47 145.839 2346.28 142.298 Q2348.11 138.733 2348.11 131.626 Q2348.11 124.497 2346.28 120.955 Q2344.47 117.39 2340.84 117.39 M2340.84 113.687 Q2346.65 113.687 2349.7 118.293 Q2352.78 122.876 2352.78 131.626 Q2352.78 140.353 2349.7 144.96 Q2346.65 149.543 2340.84 149.543 Q2335.03 149.543 2331.95 144.96 Q2328.89 140.353 2328.89 131.626 Q2328.89 122.876 2331.95 118.293 Q2335.03 113.687 2340.84 113.687 Z\" fill=\"#000000\" fill-rule=\"nonzero\" fill-opacity=\"1\" /><polyline clip-path=\"url(#clip560)\" style=\"stroke:#000000; stroke-linecap:round; stroke-linejoin:round; stroke-width:4; stroke-opacity:1; fill:none\" points=\"2232.76,1486.45 2232.76,1263.12 2256.76,1263.12 2232.76,1263.12 2232.76,1037.54 2256.76,1037.54 2232.76,1037.54 2232.76,811.962 2256.76,811.962 2232.76,811.962 2232.76,586.382 2256.76,586.382 2232.76,586.382 2232.76,360.801 2256.76,360.801 2232.76,360.801 2232.76,135.221 2256.76,135.221 2232.76,135.221 2232.76,47.2441 \"/>\n",
       "</svg>\n"
      ]
     },
     "execution_count": 92,
     "metadata": {},
     "output_type": "execute_result"
    }
   ],
   "source": [
    "x = randn(10^5)\n",
    "y = randn(10^5)\n",
    "histogram2d(x, y, bins=(64, 64))"
   ]
  },
  {
   "cell_type": "markdown",
   "metadata": {},
   "source": [
    "### Importing Data\n",
    "Bring data from external files into ${\\tt Julia}$."
   ]
  },
  {
   "cell_type": "markdown",
   "metadata": {},
   "source": [
    "Data is typically stored in files, such as _CSV_ or _JSON_ files. In order to train and test machine learning models, the data needs to be loaded into the program. Additionally, the results of the training and testing process, such as model weights and performance metrics, also need to be saved to files. Therefore, the ability to manipulate files is essential for loading and saving data and model information in the machine learning process."
   ]
  },
  {
   "cell_type": "code",
   "execution_count": 93,
   "metadata": {},
   "outputs": [
    {
     "name": "stderr",
     "output_type": "stream",
     "text": [
      "\u001b[32m\u001b[1m   Resolving\u001b[22m\u001b[39m package versions...\n",
      "\u001b[32m\u001b[1m  No Changes\u001b[22m\u001b[39m to `/workspaces/cosnip/Julia/Project.toml`\n",
      "\u001b[32m\u001b[1m  No Changes\u001b[22m\u001b[39m to `/workspaces/cosnip/Julia/Manifest.toml`\n",
      "\u001b[32m\u001b[1m   Resolving\u001b[22m\u001b[39m package versions...\n",
      "\u001b[32m\u001b[1m  No Changes\u001b[22m\u001b[39m to `/workspaces/cosnip/Julia/Project.toml`\n",
      "\u001b[32m\u001b[1m  No Changes\u001b[22m\u001b[39m to `/workspaces/cosnip/Julia/Manifest.toml`\n"
     ]
    }
   ],
   "source": [
    "using Pkg\n",
    "Pkg.add(\"DataFrames\")\n",
    "Pkg.add(\"CSV\")"
   ]
  },
  {
   "cell_type": "code",
   "execution_count": 94,
   "metadata": {},
   "outputs": [
    {
     "data": {
      "text/latex": [
       "Create new CSV file\n",
       "\n"
      ],
      "text/markdown": [
       "Create new CSV file\n"
      ],
      "text/plain": [
       "  Create new CSV file"
      ]
     },
     "execution_count": 94,
     "metadata": {},
     "output_type": "execute_result"
    }
   ],
   "source": [
    "md\"Create new CSV file\""
   ]
  },
  {
   "cell_type": "code",
   "execution_count": 95,
   "metadata": {},
   "outputs": [],
   "source": [
    "using CSV, DataFrames"
   ]
  },
  {
   "cell_type": "code",
   "execution_count": 96,
   "metadata": {},
   "outputs": [
    {
     "data": {
      "text/latex": [
       "\\texttt{touch} command allows to create a file if it doesn't exist. Otherwise, it changes the file timestamps.\n",
       "\n"
      ],
      "text/markdown": [
       "`touch` command allows to create a file if it doesn't exist. Otherwise, it changes the file timestamps.\n"
      ],
      "text/plain": [
       "  \u001b[36mtouch\u001b[39m command allows to create a file if it doesn't exist. Otherwise, it\n",
       "  changes the file timestamps."
      ]
     },
     "execution_count": 96,
     "metadata": {},
     "output_type": "execute_result"
    }
   ],
   "source": [
    "md\"`touch` command allows to create a file if it doesn't exist. Otherwise, it changes the file timestamps.\""
   ]
  },
  {
   "cell_type": "code",
   "execution_count": 97,
   "metadata": {},
   "outputs": [
    {
     "data": {
      "text/plain": [
       "\"test-file.csv\""
      ]
     },
     "execution_count": 97,
     "metadata": {},
     "output_type": "execute_result"
    }
   ],
   "source": [
    "touch(\"test-file.csv\")"
   ]
  },
  {
   "cell_type": "code",
   "execution_count": 98,
   "metadata": {},
   "outputs": [
    {
     "name": "stdout",
     "output_type": "stream",
     "text": [
      "-rw-rw-rw- 1 jovyan jovyan 66 Apr 27 13:13 test-file.csv\n"
     ]
    }
   ],
   "source": [
    ";ls -la test-file.csv"
   ]
  },
  {
   "cell_type": "code",
   "execution_count": 99,
   "metadata": {},
   "outputs": [
    {
     "data": {
      "text/plain": [
       "IOStream(<file test-file.csv>)"
      ]
     },
     "execution_count": 99,
     "metadata": {},
     "output_type": "execute_result"
    }
   ],
   "source": [
    "file = open(\"test-file.csv\", \"w\")"
   ]
  },
  {
   "cell_type": "code",
   "execution_count": 100,
   "metadata": {},
   "outputs": [
    {
     "data": {
      "text/latex": [
       "Let's create some imaginary data\n",
       "\n"
      ],
      "text/markdown": [
       "Let's create some imaginary data\n"
      ],
      "text/plain": [
       "  Let's create some imaginary data"
      ]
     },
     "execution_count": 100,
     "metadata": {},
     "output_type": "execute_result"
    }
   ],
   "source": [
    "md\"Let's create some imaginary data\""
   ]
  },
  {
   "cell_type": "code",
   "execution_count": 101,
   "metadata": {},
   "outputs": [
    {
     "data": {
      "text/html": [
       "<div><div style = \"float: left;\"><span>4×3 DataFrame</span></div><div style = \"clear: both;\"></div></div><div class = \"data-frame\" style = \"overflow-x: scroll;\"><table class = \"data-frame\" style = \"margin-bottom: 6px;\"><thead><tr class = \"header\"><th class = \"rowNumber\" style = \"font-weight: bold; text-align: right;\">Row</th><th style = \"text-align: left;\">Student</th><th style = \"text-align: left;\">Id</th><th style = \"text-align: left;\">Marks</th></tr><tr class = \"subheader headerLastRow\"><th class = \"rowNumber\" style = \"font-weight: bold; text-align: right;\"></th><th title = \"String\" style = \"text-align: left;\">String</th><th title = \"Int64\" style = \"text-align: left;\">Int64</th><th title = \"Float64\" style = \"text-align: left;\">Float64</th></tr></thead><tbody><tr><td class = \"rowNumber\" style = \"font-weight: bold; text-align: right;\">1</td><td style = \"text-align: left;\">Mohamed</td><td style = \"text-align: right;\">1</td><td style = \"text-align: right;\">18.0</td></tr><tr><td class = \"rowNumber\" style = \"font-weight: bold; text-align: right;\">2</td><td style = \"text-align: left;\">Aymen</td><td style = \"text-align: right;\">2</td><td style = \"text-align: right;\">7.0</td></tr><tr><td class = \"rowNumber\" style = \"font-weight: bold; text-align: right;\">3</td><td style = \"text-align: left;\">Rami</td><td style = \"text-align: right;\">3</td><td style = \"text-align: right;\">12.0</td></tr><tr><td class = \"rowNumber\" style = \"font-weight: bold; text-align: right;\">4</td><td style = \"text-align: left;\">Ala</td><td style = \"text-align: right;\">4</td><td style = \"text-align: right;\">5.5</td></tr></tbody></table></div>"
      ],
      "text/latex": [
       "\\begin{tabular}{r|ccc}\n",
       "\t& Student & Id & Marks\\\\\n",
       "\t\\hline\n",
       "\t& String & Int64 & Float64\\\\\n",
       "\t\\hline\n",
       "\t1 & Mohamed & 1 & 18.0 \\\\\n",
       "\t2 & Aymen & 2 & 7.0 \\\\\n",
       "\t3 & Rami & 3 & 12.0 \\\\\n",
       "\t4 & Ala & 4 & 5.5 \\\\\n",
       "\\end{tabular}\n"
      ],
      "text/plain": [
       "\u001b[1m4×3 DataFrame\u001b[0m\n",
       "\u001b[1m Row \u001b[0m│\u001b[1m Student \u001b[0m\u001b[1m Id    \u001b[0m\u001b[1m Marks   \u001b[0m\n",
       "     │\u001b[90m String  \u001b[0m\u001b[90m Int64 \u001b[0m\u001b[90m Float64 \u001b[0m\n",
       "─────┼─────────────────────────\n",
       "   1 │ Mohamed      1     18.0\n",
       "   2 │ Aymen        2      7.0\n",
       "   3 │ Rami         3     12.0\n",
       "   4 │ Ala          4      5.5"
      ]
     },
     "execution_count": 101,
     "metadata": {},
     "output_type": "execute_result"
    }
   ],
   "source": [
    "df = DataFrame(\n",
    "        Student = [\"Mohamed\", \"Aymen\", \"Rami\", \"Ala\"],\n",
    "        Id = [1, 2, 3, 4],\n",
    "        Marks = [18, 7, 12, 5.5]\n",
    "        )"
   ]
  },
  {
   "cell_type": "code",
   "execution_count": 102,
   "metadata": {},
   "outputs": [
    {
     "data": {
      "text/latex": [
       "Write \\texttt{df} to file\n",
       "\n"
      ],
      "text/markdown": [
       "Write `df` to file\n"
      ],
      "text/plain": [
       "  Write \u001b[36mdf\u001b[39m to file"
      ]
     },
     "execution_count": 102,
     "metadata": {},
     "output_type": "execute_result"
    }
   ],
   "source": [
    "md\"Write `df` to file\""
   ]
  },
  {
   "cell_type": "code",
   "execution_count": 103,
   "metadata": {},
   "outputs": [
    {
     "data": {
      "text/plain": [
       "\"test-file.csv\""
      ]
     },
     "execution_count": 103,
     "metadata": {},
     "output_type": "execute_result"
    }
   ],
   "source": [
    "CSV.write(\"test-file.csv\", df)"
   ]
  },
  {
   "cell_type": "code",
   "execution_count": 104,
   "metadata": {},
   "outputs": [
    {
     "data": {
      "text/latex": [
       "Open the CSV file and add some contents. See what happens when we load it again.\n",
       "\n"
      ],
      "text/markdown": [
       "Open the CSV file and add some contents. See what happens when we load it again.\n"
      ],
      "text/plain": [
       "  Open the CSV file and add some contents. See what happens when we load it\n",
       "  again."
      ]
     },
     "execution_count": 104,
     "metadata": {},
     "output_type": "execute_result"
    }
   ],
   "source": [
    "md\"Open the CSV file and add some contents. See what happens when we load it again.\""
   ]
  },
  {
   "cell_type": "code",
   "execution_count": 105,
   "metadata": {},
   "outputs": [
    {
     "data": {
      "text/html": [
       "<div><div style = \"float: left;\"><span>4×3 DataFrame</span></div><div style = \"clear: both;\"></div></div><div class = \"data-frame\" style = \"overflow-x: scroll;\"><table class = \"data-frame\" style = \"margin-bottom: 6px;\"><thead><tr class = \"header\"><th class = \"rowNumber\" style = \"font-weight: bold; text-align: right;\">Row</th><th style = \"text-align: left;\">Student</th><th style = \"text-align: left;\">Id</th><th style = \"text-align: left;\">Marks</th></tr><tr class = \"subheader headerLastRow\"><th class = \"rowNumber\" style = \"font-weight: bold; text-align: right;\"></th><th title = \"String7\" style = \"text-align: left;\">String7</th><th title = \"Int64\" style = \"text-align: left;\">Int64</th><th title = \"Float64\" style = \"text-align: left;\">Float64</th></tr></thead><tbody><tr><td class = \"rowNumber\" style = \"font-weight: bold; text-align: right;\">1</td><td style = \"text-align: left;\">Mohamed</td><td style = \"text-align: right;\">1</td><td style = \"text-align: right;\">18.0</td></tr><tr><td class = \"rowNumber\" style = \"font-weight: bold; text-align: right;\">2</td><td style = \"text-align: left;\">Aymen</td><td style = \"text-align: right;\">2</td><td style = \"text-align: right;\">7.0</td></tr><tr><td class = \"rowNumber\" style = \"font-weight: bold; text-align: right;\">3</td><td style = \"text-align: left;\">Rami</td><td style = \"text-align: right;\">3</td><td style = \"text-align: right;\">12.0</td></tr><tr><td class = \"rowNumber\" style = \"font-weight: bold; text-align: right;\">4</td><td style = \"text-align: left;\">Ala</td><td style = \"text-align: right;\">4</td><td style = \"text-align: right;\">5.5</td></tr></tbody></table></div>"
      ],
      "text/latex": [
       "\\begin{tabular}{r|ccc}\n",
       "\t& Student & Id & Marks\\\\\n",
       "\t\\hline\n",
       "\t& String7 & Int64 & Float64\\\\\n",
       "\t\\hline\n",
       "\t1 & Mohamed & 1 & 18.0 \\\\\n",
       "\t2 & Aymen & 2 & 7.0 \\\\\n",
       "\t3 & Rami & 3 & 12.0 \\\\\n",
       "\t4 & Ala & 4 & 5.5 \\\\\n",
       "\\end{tabular}\n"
      ],
      "text/plain": [
       "\u001b[1m4×3 DataFrame\u001b[0m\n",
       "\u001b[1m Row \u001b[0m│\u001b[1m Student \u001b[0m\u001b[1m Id    \u001b[0m\u001b[1m Marks   \u001b[0m\n",
       "     │\u001b[90m String7 \u001b[0m\u001b[90m Int64 \u001b[0m\u001b[90m Float64 \u001b[0m\n",
       "─────┼─────────────────────────\n",
       "   1 │ Mohamed      1     18.0\n",
       "   2 │ Aymen        2      7.0\n",
       "   3 │ Rami         3     12.0\n",
       "   4 │ Ala          4      5.5"
      ]
     },
     "execution_count": 105,
     "metadata": {},
     "output_type": "execute_result"
    }
   ],
   "source": [
    "CSV.read(\"test-file.csv\", DataFrame)"
   ]
  },
  {
   "cell_type": "markdown",
   "metadata": {},
   "source": [
    "### Logical Arrays\n",
    "Use logical expressions to help extracting elements of interest from ${\\tt Julia}$ arrays."
   ]
  },
  {
   "cell_type": "code",
   "execution_count": 106,
   "metadata": {},
   "outputs": [
    {
     "name": "stdout",
     "output_type": "stream",
     "text": [
      "ComplexF64[1.0 + 0.0im, 2.0 + 0.0im, -5.0 + 0.0im, 7.2 + 0.0im, 0.0 + 3.0im]\n"
     ]
    },
    {
     "data": {
      "text/plain": [
       "Vector{ComplexF64}\u001b[90m (alias for \u001b[39m\u001b[90mArray{Complex{Float64}, 1}\u001b[39m\u001b[90m)\u001b[39m"
      ]
     },
     "execution_count": 106,
     "metadata": {},
     "output_type": "execute_result"
    }
   ],
   "source": [
    "x = [1, 2, -5, 7.2, 3im]\n",
    "println(x)\n",
    "typeof(x)"
   ]
  },
  {
   "cell_type": "code",
   "execution_count": 107,
   "metadata": {},
   "outputs": [
    {
     "name": "stdout",
     "output_type": "stream",
     "text": [
      "ComplexF64[2.0 + 0.0im, 0.0 + 3.0im]"
     ]
    }
   ],
   "source": [
    "idx = [false, true, false, false, true]\n",
    "print(x[idx])"
   ]
  },
  {
   "cell_type": "code",
   "execution_count": 108,
   "metadata": {},
   "outputs": [
    {
     "data": {
      "text/plain": [
       "5×4 Matrix{Float64}:\n",
       " 6.90008e-310  6.90008e-310  6.90015e-310  6.90008e-310\n",
       " 6.90008e-310  6.90008e-310  6.90015e-310  6.90016e-310\n",
       " 6.90008e-310  6.90008e-310  6.90015e-310  6.90016e-310\n",
       " 6.90008e-310  6.90008e-310  6.90015e-310  6.90015e-310\n",
       " 6.90008e-310  6.90015e-310  6.90015e-310  6.90015e-310"
      ]
     },
     "execution_count": 108,
     "metadata": {},
     "output_type": "execute_result"
    }
   ],
   "source": [
    "M = Array{Float64, 2}(undef, 5, 4)"
   ]
  },
  {
   "cell_type": "code",
   "execution_count": 109,
   "metadata": {},
   "outputs": [],
   "source": [
    "row_idx = [true, false, true, true, false];\n",
    "col_idx = [false, true, true, false];"
   ]
  },
  {
   "cell_type": "code",
   "execution_count": 110,
   "metadata": {},
   "outputs": [
    {
     "data": {
      "text/plain": [
       "3×4 Matrix{Float64}:\n",
       " 6.90008e-310  6.90008e-310  6.90015e-310  6.90008e-310\n",
       " 6.90008e-310  6.90008e-310  6.90015e-310  6.90016e-310\n",
       " 6.90008e-310  6.90008e-310  6.90015e-310  6.90015e-310"
      ]
     },
     "execution_count": 110,
     "metadata": {},
     "output_type": "execute_result"
    }
   ],
   "source": [
    "M[row_idx, :]"
   ]
  },
  {
   "cell_type": "code",
   "execution_count": 111,
   "metadata": {},
   "outputs": [
    {
     "data": {
      "text/plain": [
       "5×2 Matrix{Float64}:\n",
       " 6.90008e-310  6.90015e-310\n",
       " 6.90008e-310  6.90015e-310\n",
       " 6.90008e-310  6.90015e-310\n",
       " 6.90008e-310  6.90015e-310\n",
       " 6.90015e-310  6.90015e-310"
      ]
     },
     "execution_count": 111,
     "metadata": {},
     "output_type": "execute_result"
    }
   ],
   "source": [
    "M[:, col_idx]"
   ]
  },
  {
   "cell_type": "code",
   "execution_count": 112,
   "metadata": {},
   "outputs": [
    {
     "data": {
      "text/plain": [
       "3×2 Matrix{Float64}:\n",
       " 6.90008e-310  6.90015e-310\n",
       " 6.90008e-310  6.90015e-310\n",
       " 6.90008e-310  6.90015e-310"
      ]
     },
     "execution_count": 112,
     "metadata": {},
     "output_type": "execute_result"
    }
   ],
   "source": [
    "M[row_idx, col_idx]"
   ]
  },
  {
   "cell_type": "markdown",
   "metadata": {},
   "source": [
    "### Programming\n",
    "Write programs that execute code based on some condition."
   ]
  },
  {
   "cell_type": "code",
   "execution_count": 113,
   "metadata": {},
   "outputs": [
    {
     "data": {
      "text/latex": [
       "\\textbf{Conditional Evaluation}\n",
       "\n"
      ],
      "text/markdown": [
       "**Conditional Evaluation**\n"
      ],
      "text/plain": [
       "  \u001b[1mConditional Evaluation\u001b[22m"
      ]
     },
     "execution_count": 113,
     "metadata": {},
     "output_type": "execute_result"
    }
   ],
   "source": [
    "md\"**Conditional Evaluation**\""
   ]
  },
  {
   "cell_type": "code",
   "execution_count": 114,
   "metadata": {},
   "outputs": [
    {
     "name": "stdout",
     "output_type": "stream",
     "text": [
      "π is equal to π\n"
     ]
    }
   ],
   "source": [
    "a, b = π, π\n",
    "if a < b\n",
    "    println(\"$a is less than $b\")\n",
    "elseif a > b\n",
    "    println(\"$a is greater than $b\")\n",
    "else\n",
    "    println(\"$a is equal to $b\")\n",
    "end"
   ]
  },
  {
   "cell_type": "code",
   "execution_count": 115,
   "metadata": {},
   "outputs": [
    {
     "data": {
      "text/latex": [
       "\\textbf{\\texttt{While} Loop}\n",
       "\n"
      ],
      "text/markdown": [
       "**`While` Loop**\n"
      ],
      "text/plain": [
       "  \u001b[1m\u001b[36mWhile\u001b[39m Loop\u001b[22m"
      ]
     },
     "execution_count": 115,
     "metadata": {},
     "output_type": "execute_result"
    }
   ],
   "source": [
    "md\"**`While` Loop**\""
   ]
  },
  {
   "cell_type": "code",
   "execution_count": 116,
   "metadata": {},
   "outputs": [
    {
     "name": "stdout",
     "output_type": "stream",
     "text": [
      "Item #1 is Blueberry\n",
      "Item #2 is Orange\n",
      "Item #3 is Banana\n",
      "Item #4 is Raspberry\n",
      "Item #5 is Strawberry\n"
     ]
    }
   ],
   "source": [
    "fruits = [\"Blueberry\", \"Orange\", \"Banana\", \"Raspberry\", \"Strawberry\"]\n",
    "iter = 1\n",
    "while iter ≤ length(fruits)\n",
    "    println(\"Item #$iter is $(fruits[iter])\")\n",
    "    iter +=1\n",
    "end"
   ]
  },
  {
   "cell_type": "code",
   "execution_count": 117,
   "metadata": {},
   "outputs": [
    {
     "data": {
      "text/latex": [
       "\\textbf{\\texttt{For} Loop}\n",
       "\n"
      ],
      "text/markdown": [
       "**`For` Loop**\n"
      ],
      "text/plain": [
       "  \u001b[1m\u001b[36mFor\u001b[39m Loop\u001b[22m"
      ]
     },
     "execution_count": 117,
     "metadata": {},
     "output_type": "execute_result"
    }
   ],
   "source": [
    "md\"**`For` Loop**\""
   ]
  },
  {
   "cell_type": "code",
   "execution_count": 118,
   "metadata": {},
   "outputs": [
    {
     "name": "stdout",
     "output_type": "stream",
     "text": [
      "Item #1 is Broccoli\n",
      "Item #2 is Garlic\n",
      "Item #3 is Mushrooms\n",
      "Item #4 is Potatoes\n",
      "Item #5 is Tomatoes\n"
     ]
    }
   ],
   "source": [
    "vegetables = [\"Broccoli\", \"Garlic\", \"Mushrooms\", \"Potatoes\", \"Tomatoes\"]\n",
    "i = 1\n",
    "for item in vegetables\n",
    "    println(\"Item #$i is $item\")\n",
    "    i += 1\n",
    "end"
   ]
  },
  {
   "cell_type": "markdown",
   "metadata": {},
   "source": [
    "### Final Project\n",
    "Bring together concepts that you have learned with a project."
   ]
  },
  {
   "cell_type": "markdown",
   "metadata": {},
   "source": [
    "This simple project consists of implementing a basic calculator. This latter could have the ability to perform basic arithmetic operations like _addition_, _subtraction_, _multiplication_, and _division_.\n",
    "\n",
    "Here are the steps to be followed:\n",
    "1. Create a function called `calculator()` that takes two arguments, `x` and `y`, and a char operation that specifies which operation to perform.\n",
    "1. Use an `if-else` statement to check the value of operation. Depending on the value of operation, call the appropriate function to perform the calculation.\n",
    "1. Test the calculator function by calling it with different values for `x`, `y`, and operation and printing the result.\n",
    "1. Once the basic calculator is working, we can improve it by adding more functionality such as handling decimals and negative numbers, or implementing more advanced operations such as square root, power, trigonometry and so on.\n",
    "1. Finally, we could also experiment with different input types, such as command line arguments or a graphical user interface."
   ]
  },
  {
   "cell_type": "code",
   "execution_count": 119,
   "metadata": {},
   "outputs": [
    {
     "data": {
      "text/latex": [
       "Here is an example of how the basic calculator function could look like:\n",
       "\n"
      ],
      "text/markdown": [
       "Here is an example of how the basic calculator function could look like:\n"
      ],
      "text/plain": [
       "  Here is an example of how the basic calculator function could look like:"
      ]
     },
     "execution_count": 119,
     "metadata": {},
     "output_type": "execute_result"
    }
   ],
   "source": [
    "md\"Here is an example of how the basic calculator function could look like:\""
   ]
  },
  {
   "cell_type": "code",
   "execution_count": 120,
   "metadata": {},
   "outputs": [
    {
     "data": {
      "text/plain": [
       "calculator (generic function with 1 method)"
      ]
     },
     "execution_count": 120,
     "metadata": {},
     "output_type": "execute_result"
    }
   ],
   "source": [
    "function calculator(x::Number, y::Number, op::Char)\n",
    "    if op == '+'\n",
    "        return x + y\n",
    "    elseif op == '-'\n",
    "        return x - y\n",
    "    elseif op == '*'\n",
    "        return x * y\n",
    "    elseif op in ['/', '÷']\n",
    "        return x / y\n",
    "    else\n",
    "        return \"INVALID OPERATION\"\n",
    "    end\n",
    "end"
   ]
  },
  {
   "cell_type": "code",
   "execution_count": 121,
   "metadata": {},
   "outputs": [
    {
     "name": "stdout",
     "output_type": "stream",
     "text": [
      "Summation is 8\n",
      "Subtraction is 2\n",
      "Multiplication is 15\n",
      "Division is 1.6666666666666667\n",
      "INVALID OPERATION\n"
     ]
    }
   ],
   "source": [
    "println(\"Summation is $(calculator(5, 3, '+'))\")\n",
    "println(\"Subtraction is $(calculator(5, 3, '-'))\")\n",
    "println(\"Multiplication is $(calculator(5, 3, '*'))\")\n",
    "println(\"Division is $(calculator(5, 3, '÷'))\")\n",
    "println(calculator(5, 3, '×'))"
   ]
  },
  {
   "cell_type": "markdown",
   "metadata": {},
   "source": [
    "**Miscallenous**"
   ]
  },
  {
   "cell_type": "code",
   "execution_count": 122,
   "metadata": {
    "tags": []
   },
   "outputs": [
    {
     "name": "stdout",
     "output_type": "stream",
     "text": [
      "Julia Version 1.8.5\n",
      "Commit 17cfb8e65ea (2023-01-08 06:45 UTC)\n",
      "Platform Info:\n",
      "  OS: Linux (x86_64-linux-gnu)\n",
      "  CPU: 2 × Intel(R) Xeon(R) Platinum 8370C CPU @ 2.80GHz\n",
      "  WORD_SIZE: 64\n",
      "  LIBM: libopenlibm\n",
      "  LLVM: libLLVM-13.0.1 (ORCJIT, icelake-server)\n",
      "  Threads: 1 on 2 virtual cores\n",
      "Environment:\n",
      "  JULIA_DEPOT_PATH = /opt/julia\n",
      "  JULIA_VERSION = 1.8.5\n",
      "  JULIA_PKGDIR = /opt/julia\n"
     ]
    }
   ],
   "source": [
    "md\"Check your version of Julia\"\n",
    "versioninfo()"
   ]
  },
  {
   "cell_type": "code",
   "execution_count": 123,
   "metadata": {
    "tags": []
   },
   "outputs": [
    {
     "name": "stdout",
     "output_type": "stream",
     "text": [
      "\u001b[?2004l25hAbstractArray; dims=:)\u001b[27;44H= _all(a, dims) a, dims)(:prod,    :_prod,\u001b[0;7m\u001b(B>\u001b[10;29H\u001b[m\u001b(B(:maximum, :_maximum, :max),     (:minimum, :_minim\u001b[0;7m\u001b(B>\u001b[11;29H\u001b[m\u001b(B(:extrema, :_extrema, :_extrema_rf)]\u001b[12;5Hmapf = fname === :extrema ? :(ExtremaMap(f)) : :f\u001b[13;5H@eval begin\u001b[14;8H\u001b[1K # User-facing methods with keyword arguments\u001b[15;9H\u001b[m\u001b(B@inline ($fname)(a::AbstractArray; dims=:, kw...) = ($_fname)(a, dims; \u001b[0;7m\u001b(B>\u001b[16;9H\u001b[m\u001b(B@inline ($fname)(f, a::AbstractArray; dims=:, kw...) = ($_fname)(f, a, \u001b[0;7m\u001b(B>\u001b[18;8H\u001b[0m\u001b(B\u001b[1K # Underlying implementations using dispatch\u001b[19;9H\u001b[m\u001b(B($_fname)(a, ::Colon; kw...) = ($_fname)(identity, a, :; kw...)\u001b[20;9H($_fname)(f, a, ::Colon; kw...) = mapreduce($mapf, $op, a; kw...)\u001b[21;5Hend\u001b[30;1H"
     ]
    },
    {
     "name": "stderr",
     "output_type": "stream",
     "text": [
      "Too many errors from stdin\n"
     ]
    },
    {
     "ename": "LoadError",
     "evalue": "failed process: Process(`\u001b[4m/usr/bin/nano\u001b[24m \u001b[4m+994\u001b[24m \u001b[4m/opt/julia-1.8.5/share/julia/base/reducedim.jl\u001b[24m`, ProcessExited(1)) [1]\n",
     "output_type": "error",
     "traceback": [
      "failed process: Process(`\u001b[4m/usr/bin/nano\u001b[24m \u001b[4m+994\u001b[24m \u001b[4m/opt/julia-1.8.5/share/julia/base/reducedim.jl\u001b[24m`, ProcessExited(1)) [1]\n",
      "",
      "Stacktrace:",
      " [1] pipeline_error",
      "   @ ./process.jl:565 [inlined]",
      " [2] run(::Cmd; wait::Bool)",
      "   @ Base ./process.jl:480",
      " [3] run",
      "   @ ./process.jl:477 [inlined]",
      " [4] (::InteractiveUtils.var\"#2#3\"{Bool, InteractiveUtils.var\"#8#18\", Vector{Any}})(cmd::Cmd, path::String, line::Int32)",
      "   @ InteractiveUtils /opt/julia-1.8.5/share/julia/stdlib/v1.8/InteractiveUtils/src/editless.jl:96",
      " [5] edit(path::String, line::Int32)",
      "   @ InteractiveUtils /opt/julia-1.8.5/share/julia/stdlib/v1.8/InteractiveUtils/src/editless.jl:205",
      " [6] edit(f::Any, t::Any)",
      "   @ InteractiveUtils /opt/julia-1.8.5/share/julia/stdlib/v1.8/InteractiveUtils/src/editless.jl:234",
      " [7] top-level scope",
      "   @ In[123]:2"
     ]
    }
   ],
   "source": [
    "md\"The macro `@edit` shows the defintion of a function when invoked with specific arguments\"\n",
    "@edit maximum([-1, 0, 1])"
   ]
  },
  {
   "cell_type": "code",
   "execution_count": 124,
   "metadata": {
    "tags": []
   },
   "outputs": [
    {
     "data": {
      "text/latex": [
       "\\begin{tabular}\n",
       "{l | r | l}\n",
       "name & size & summary \\\\\n",
       "\\hline\n",
       "Base &  & Module \\\\\n",
       "Core &  & Module \\\\\n",
       "Foo & 0 bytes & Foo (generic function with 1 method) \\\\\n",
       "M & 200 bytes & 5×4 Matrix\\{Float64\\} \\\\\n",
       "Main &  & Module \\\\\n",
       "a & 0 bytes & Irrational\\{:π\\} \\\\\n",
       "b & 0 bytes & Irrational\\{:π\\} \\\\\n",
       "bar & 0 bytes & bar (generic function with 1 method) \\\\\n",
       "calculator & 0 bytes & calculator (generic function with 1 method) \\\\\n",
       "col\\_idx & 44 bytes & 4-element Vector\\{Bool\\} \\\\\n",
       "df & 915 bytes & 4×3 DataFrame \\\\\n",
       "dict & 503 bytes & Dict\\{String, Int64\\} with 3 entries \\\\\n",
       "f & 0 bytes & f (generic function with 4 methods) \\\\\n",
       "file & 372 bytes & IOStream \\\\\n",
       "foo & 0 bytes & foo (generic function with 4 methods) \\\\\n",
       "fruits & 160 bytes & 5-element Vector\\{String\\} \\\\\n",
       "g & 0 bytes & g (generic function with 1 method) \\\\\n",
       "h & 0 bytes & h (generic function with 1 method) \\\\\n",
       "i & 8 bytes & Int64 \\\\\n",
       "idx & 45 bytes & 5-element Vector\\{Bool\\} \\\\\n",
       "iter & 8 bytes & Int64 \\\\\n",
       "lst & 176 bytes & 5-element Vector\\{Any\\} \\\\\n",
       "mycos & 0 bytes & mycos (generic function with 2 methods) \\\\\n",
       "row\\_idx & 45 bytes & 5-element Vector\\{Bool\\} \\\\\n",
       "str & 19 bytes & 11-codeunit String \\\\\n",
       "tmp & 1 byte & UInt8 \\\\\n",
       "var & 80 bytes & 2×4 BitMatrix \\\\\n",
       "vegetables & 159 bytes & 5-element Vector\\{String\\} \\\\\n",
       "x & 120 bytes & 5-element Vector\\{ComplexF64\\} \\\\\n",
       "y & 781.289 KiB & 100000-element Vector\\{Float64\\} \\\\\n",
       "z & 768 bytes & 91-element Vector\\{Float64\\} \\\\\n",
       "\\end{tabular}\n"
      ],
      "text/markdown": [
       "| name       |        size | summary                                     |\n",
       "|:---------- | -----------:|:------------------------------------------- |\n",
       "| Base       |             | Module                                      |\n",
       "| Core       |             | Module                                      |\n",
       "| Foo        |     0 bytes | Foo (generic function with 1 method)        |\n",
       "| M          |   200 bytes | 5×4 Matrix{Float64}                         |\n",
       "| Main       |             | Module                                      |\n",
       "| a          |     0 bytes | Irrational{:π}                              |\n",
       "| b          |     0 bytes | Irrational{:π}                              |\n",
       "| bar        |     0 bytes | bar (generic function with 1 method)        |\n",
       "| calculator |     0 bytes | calculator (generic function with 1 method) |\n",
       "| col_idx    |    44 bytes | 4-element Vector{Bool}                      |\n",
       "| df         |   915 bytes | 4×3 DataFrame                               |\n",
       "| dict       |   503 bytes | Dict{String, Int64} with 3 entries          |\n",
       "| f          |     0 bytes | f (generic function with 4 methods)         |\n",
       "| file       |   372 bytes | IOStream                                    |\n",
       "| foo        |     0 bytes | foo (generic function with 4 methods)       |\n",
       "| fruits     |   160 bytes | 5-element Vector{String}                    |\n",
       "| g          |     0 bytes | g (generic function with 1 method)          |\n",
       "| h          |     0 bytes | h (generic function with 1 method)          |\n",
       "| i          |     8 bytes | Int64                                       |\n",
       "| idx        |    45 bytes | 5-element Vector{Bool}                      |\n",
       "| iter       |     8 bytes | Int64                                       |\n",
       "| lst        |   176 bytes | 5-element Vector{Any}                       |\n",
       "| mycos      |     0 bytes | mycos (generic function with 2 methods)     |\n",
       "| row_idx    |    45 bytes | 5-element Vector{Bool}                      |\n",
       "| str        |    19 bytes | 11-codeunit String                          |\n",
       "| tmp        |      1 byte | UInt8                                       |\n",
       "| var        |    80 bytes | 2×4 BitMatrix                               |\n",
       "| vegetables |   159 bytes | 5-element Vector{String}                    |\n",
       "| x          |   120 bytes | 5-element Vector{ComplexF64}                |\n",
       "| y          | 781.289 KiB | 100000-element Vector{Float64}              |\n",
       "| z          |   768 bytes | 91-element Vector{Float64}                  |\n"
      ],
      "text/plain": [
       "  name              size summary                                    \n",
       "  –––––––––– ––––––––––– –––––––––––––––––––––––––––––––––––––––––––\n",
       "  Base                   Module                                     \n",
       "  Core                   Module                                     \n",
       "  Foo            0 bytes Foo (generic function with 1 method)       \n",
       "  M            200 bytes 5×4 Matrix{Float64}                        \n",
       "  Main                   Module                                     \n",
       "  a              0 bytes Irrational{:π}                             \n",
       "  b              0 bytes Irrational{:π}                             \n",
       "  bar            0 bytes bar (generic function with 1 method)       \n",
       "  calculator     0 bytes calculator (generic function with 1 method)\n",
       "  col_idx       44 bytes 4-element Vector{Bool}                     \n",
       "  df           915 bytes 4×3 DataFrame                              \n",
       "  dict         503 bytes Dict{String, Int64} with 3 entries         \n",
       "  f              0 bytes f (generic function with 4 methods)        \n",
       "  file         372 bytes IOStream                                   \n",
       "  foo            0 bytes foo (generic function with 4 methods)      \n",
       "  fruits       160 bytes 5-element Vector{String}                   \n",
       "  g              0 bytes g (generic function with 1 method)         \n",
       "  h              0 bytes h (generic function with 1 method)         \n",
       "  i              8 bytes Int64                                      \n",
       "  idx           45 bytes 5-element Vector{Bool}                     \n",
       "  iter           8 bytes Int64                                      \n",
       "  lst          176 bytes 5-element Vector{Any}                      \n",
       "  mycos          0 bytes mycos (generic function with 2 methods)    \n",
       "  row_idx       45 bytes 5-element Vector{Bool}                     \n",
       "  str           19 bytes 11-codeunit String                         \n",
       "  tmp             1 byte UInt8                                      \n",
       "  var           80 bytes 2×4 BitMatrix                              \n",
       "  vegetables   159 bytes 5-element Vector{String}                   \n",
       "  x            120 bytes 5-element Vector{ComplexF64}               \n",
       "  y          781.289 KiB 100000-element Vector{Float64}             \n",
       "  z            768 bytes 91-element Vector{Float64}                 "
      ]
     },
     "execution_count": 124,
     "metadata": {},
     "output_type": "execute_result"
    }
   ],
   "source": [
    "md\"`varinfo` lists all global variables and their corresponding types in the current scope\"\n",
    "varinfo()"
   ]
  },
  {
   "cell_type": "markdown",
   "metadata": {
    "tags": []
   },
   "source": [
    "_Modules_"
   ]
  },
  {
   "cell_type": "code",
   "execution_count": 125,
   "metadata": {
    "tags": []
   },
   "outputs": [
    {
     "data": {
      "text/plain": [
       "Main.MyModule"
      ]
     },
     "execution_count": 125,
     "metadata": {},
     "output_type": "execute_result"
    }
   ],
   "source": [
    "module MyModule\n",
    "export a\n",
    "a = 0\n",
    "b = true\n",
    "end"
   ]
  },
  {
   "cell_type": "code",
   "execution_count": 126,
   "metadata": {
    "tags": []
   },
   "outputs": [
    {
     "data": {
      "text/latex": [
       "\\begin{tabular}\n",
       "{l | r | l}\n",
       "name & size & summary \\\\\n",
       "\\hline\n",
       "MyModule & 2.314 KiB & Module \\\\\n",
       "a & 8 bytes & Int64 \\\\\n",
       "\\end{tabular}\n"
      ],
      "text/markdown": [
       "| name     |      size | summary |\n",
       "|:-------- | ---------:|:------- |\n",
       "| MyModule | 2.314 KiB | Module  |\n",
       "| a        |   8 bytes | Int64   |\n"
      ],
      "text/plain": [
       "  name          size summary\n",
       "  –––––––– ––––––––– –––––––\n",
       "  MyModule 2.314 KiB Module \n",
       "  a          8 bytes Int64  "
      ]
     },
     "execution_count": 126,
     "metadata": {},
     "output_type": "execute_result"
    }
   ],
   "source": [
    "varinfo(MyModule)"
   ]
  },
  {
   "cell_type": "code",
   "execution_count": 127,
   "metadata": {
    "tags": []
   },
   "outputs": [
    {
     "data": {
      "text/plain": [
       "π = 3.1415926535897..."
      ]
     },
     "execution_count": 127,
     "metadata": {},
     "output_type": "execute_result"
    }
   ],
   "source": [
    "a"
   ]
  },
  {
   "cell_type": "code",
   "execution_count": 128,
   "metadata": {
    "tags": []
   },
   "outputs": [
    {
     "data": {
      "text/plain": [
       "0"
      ]
     },
     "execution_count": 128,
     "metadata": {},
     "output_type": "execute_result"
    }
   ],
   "source": [
    "MyModule.a"
   ]
  },
  {
   "cell_type": "code",
   "execution_count": 129,
   "metadata": {
    "tags": []
   },
   "outputs": [
    {
     "data": {
      "text/plain": [
       "true"
      ]
     },
     "execution_count": 129,
     "metadata": {},
     "output_type": "execute_result"
    }
   ],
   "source": [
    "MyModule.b"
   ]
  },
  {
   "cell_type": "code",
   "execution_count": null,
   "metadata": {},
   "outputs": [],
   "source": []
  }
 ],
 "metadata": {
  "kernelspec": {
   "display_name": "Julia 1.8.5",
   "language": "julia",
   "name": "julia-1.8"
  },
  "language_info": {
   "file_extension": ".jl",
   "mimetype": "application/julia",
   "name": "julia",
   "version": "1.8.5"
  }
 },
 "nbformat": 4,
 "nbformat_minor": 4
}
