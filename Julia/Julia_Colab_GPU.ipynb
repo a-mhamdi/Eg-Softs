{
  "nbformat": 4,
  "nbformat_minor": 0,
  "metadata": {
    "colab": {
      "provenance": [],
      "include_colab_link": true
    },
    "kernelspec": {
      "name": "julia-1.2",
      "display_name": "Julia 1.2"
    },
    "gpuClass": "standard"
  },
  "cells": [
    {
      "cell_type": "markdown",
      "metadata": {
        "id": "view-in-github",
        "colab_type": "text"
      },
      "source": [
        "<a href=\"https://colab.research.google.com/github/a-mhamdi/cosnip/blob/main/Julia/Julia_Colab_GPU.ipynb\" target=\"_parent\"><img src=\"https://colab.research.google.com/assets/colab-badge.svg\" alt=\"Open In Colab\"/></a>"
      ]
    },
    {
      "cell_type": "markdown",
      "source": [
        "## Installation\n",
        "**Download and extract `Julia.tar.gz` to `/usr/local/`**"
      ],
      "metadata": {
        "id": "PzfVZk7-M3Ex"
      }
    },
    {
      "cell_type": "code",
      "source": [
        "!wget 'https://julialang-s3.julialang.org/bin/linux/x64/1.8/julia-1.8.5-linux-x86_64.tar.gz' -O /tmp/julia.tar.gz\n",
        "!tar -xf /tmp/julia.tar.gz -C /usr/local --strip-components=1\n",
        "!rm -f /tmp/julia.tar.gz"
      ],
      "metadata": {
        "colab": {
          "base_uri": "https://localhost:8080/"
        },
        "id": "CxggTmRYPgoe",
        "outputId": "4eb22177-b0f9-423a-8be2-448020d17940"
      },
      "execution_count": 1,
      "outputs": [
        {
          "output_type": "stream",
          "name": "stdout",
          "text": [
            "--2023-02-04 11:38:01--  https://julialang-s3.julialang.org/bin/linux/x64/1.8/julia-1.8.5-linux-x86_64.tar.gz\n",
            "Resolving julialang-s3.julialang.org (julialang-s3.julialang.org)... 151.101.2.49, 151.101.66.49, 151.101.130.49, ...\n",
            "Connecting to julialang-s3.julialang.org (julialang-s3.julialang.org)|151.101.2.49|:443... connected.\n",
            "HTTP request sent, awaiting response... 302 gce internal redirect trigger\n",
            "Location: https://storage.googleapis.com/julialang2/bin/linux/x64/1.8/julia-1.8.5-linux-x86_64.tar.gz [following]\n",
            "--2023-02-04 11:38:01--  https://storage.googleapis.com/julialang2/bin/linux/x64/1.8/julia-1.8.5-linux-x86_64.tar.gz\n",
            "Resolving storage.googleapis.com (storage.googleapis.com)... 108.177.125.128, 64.233.189.128, 108.177.97.128, ...\n",
            "Connecting to storage.googleapis.com (storage.googleapis.com)|108.177.125.128|:443... connected.\n",
            "HTTP request sent, awaiting response... 200 OK\n",
            "Length: 130873886 (125M) [application/x-tar]\n",
            "Saving to: ‘/tmp/julia.tar.gz’\n",
            "\n",
            "/tmp/julia.tar.gz   100%[===================>] 124.81M  29.2MB/s    in 5.2s    \n",
            "\n",
            "2023-02-04 11:38:06 (24.1 MB/s) - ‘/tmp/julia.tar.gz’ saved [130873886/130873886]\n",
            "\n"
          ]
        }
      ]
    },
    {
      "cell_type": "code",
      "source": [
        "!julia -e 'printstyled(\"Done installing Julia\"; bold=true, color=:red)'"
      ],
      "metadata": {
        "colab": {
          "base_uri": "https://localhost:8080/"
        },
        "id": "NHoovgFpM1i1",
        "outputId": "e9b1d3c4-2846-4a71-e6cb-69f7b6fab65d"
      },
      "execution_count": 2,
      "outputs": [
        {
          "output_type": "stream",
          "name": "stdout",
          "text": [
            "\u001b[31m\u001b[1mDone installing Julia\u001b[22m\u001b[39mmunmap_chunk(): invalid pointer\n",
            "\n",
            "signal (6): Aborted\n",
            "in expression starting at none:0\n",
            "gsignal at /lib/x86_64-linux-gnu/libc.so.6 (unknown line)\n",
            "abort at /lib/x86_64-linux-gnu/libc.so.6 (unknown line)\n",
            "unknown function (ip: 0x7f215681026d)\n",
            "unknown function (ip: 0x7f21568182fb)\n",
            "unknown function (ip: 0x7f215681854b)\n",
            "close_unit_1 at /workspace/srcdir/gcc-12.1.0/libgfortran/io/unit.c:742\n",
            "close_units at /workspace/srcdir/gcc-12.1.0/libgfortran/io/unit.c:800\n",
            "unknown function (ip: 0x7f2156bc5f6a)\n",
            "unknown function (ip: 0x7f21567c98a6)\n",
            "exit at /lib/x86_64-linux-gnu/libc.so.6 (unknown line)\n",
            "main at julia (unknown line)\n",
            "__libc_start_main at /lib/x86_64-linux-gnu/libc.so.6 (unknown line)\n",
            "unknown function (ip: 0x401098)\n",
            "Allocations: 2908 (Pool: 2895; Big: 13); GC: 0\n"
          ]
        }
      ]
    },
    {
      "cell_type": "markdown",
      "source": [
        "**Installing `IJulia` kernel, `CUDA` \\& `Flux` packages**"
      ],
      "metadata": {
        "id": "eUD90hBGNqFa"
      }
    },
    {
      "cell_type": "code",
      "source": [
        "!julia -e 'import Pkg; Pkg.add([\"IJulia\", \"CUDA\", \"Flux\"]); Pkg.precompile();'"
      ],
      "metadata": {
        "id": "WVyRll2ogQD1",
        "colab": {
          "base_uri": "https://localhost:8080/"
        },
        "outputId": "5c56ce63-6fc7-43e5-8dca-86967d13c071"
      },
      "execution_count": 3,
      "outputs": [
        {
          "output_type": "stream",
          "name": "stdout",
          "text": [
            "\u001b[32m\u001b[1m  Installing\u001b[22m\u001b[39m known registries into `~/.julia`\n",
            "free(): invalid pointer\n",
            "\n",
            "signal (6): Aborted\n",
            "in expression starting at none:1\n",
            "gsignal at /lib/x86_64-linux-gnu/libc.so.6 (unknown line)\n",
            "abort at /lib/x86_64-linux-gnu/libc.so.6 (unknown line)\n",
            "unknown function (ip: 0x7f5040c1126d)\n",
            "unknown function (ip: 0x7f5040c192fb)\n",
            "unknown function (ip: 0x7f5040c1ab2b)\n",
            "curl_slist_free_all at /usr/local/bin/../lib/julia/libcurl.so (unknown line)\n",
            "Curl_cookie_loadfiles at /usr/local/bin/../lib/julia/libcurl.so (unknown line)\n",
            "Curl_pretransfer at /usr/local/bin/../lib/julia/libcurl.so (unknown line)\n",
            "multi_runsingle at /usr/local/bin/../lib/julia/libcurl.so (unknown line)\n",
            "multi_socket at /usr/local/bin/../lib/julia/libcurl.so (unknown line)\n",
            "curl_multi_socket_action at /usr/local/bin/../lib/julia/libcurl.so (unknown line)\n",
            "curl_multi_socket_action at /cache/build/default-amdci4-2/julialang/julia-release-1-dot-8/usr/share/julia/stdlib/v1.8/Downloads/src/Curl/Curl.jl:48 [inlined]\n",
            "curl_multi_socket_action at /cache/build/default-amdci4-2/julialang/julia-release-1-dot-8/usr/share/julia/stdlib/v1.8/Downloads/src/Curl/Curl.jl:56 [inlined]\n",
            "macro expansion at /cache/build/default-amdci4-2/julialang/julia-release-1-dot-8/usr/share/julia/stdlib/v1.8/Downloads/src/Curl/utils.jl:28 [inlined]\n",
            "do_multi at /cache/build/default-amdci4-2/julialang/julia-release-1-dot-8/usr/share/julia/stdlib/v1.8/Downloads/src/Curl/Multi.jl:114\n",
            "#32 at /cache/build/default-amdci4-2/julialang/julia-release-1-dot-8/usr/share/julia/stdlib/v1.8/Downloads/src/Curl/Multi.jl:131 [inlined]\n",
            "lock at ./lock.jl:185\n",
            "#31 at /cache/build/default-amdci4-2/julialang/julia-release-1-dot-8/usr/share/julia/stdlib/v1.8/Downloads/src/Curl/Multi.jl:128 [inlined]\n",
            "macro expansion at ./asyncevent.jl:281 [inlined]\n",
            "#666 at ./task.jl:134\n",
            "jfptr_YY.666_32825.clone_1 at /usr/local/lib/julia/sys.so (unknown line)\n",
            "_jl_invoke at /cache/build/default-amdci4-2/julialang/julia-release-1-dot-8/src/gf.c:2377 [inlined]\n",
            "ijl_apply_generic at /cache/build/default-amdci4-2/julialang/julia-release-1-dot-8/src/gf.c:2559\n",
            "jl_apply at /cache/build/default-amdci4-2/julialang/julia-release-1-dot-8/src/julia.h:1843 [inlined]\n",
            "start_task at /cache/build/default-amdci4-2/julialang/julia-release-1-dot-8/src/task.c:931\n",
            "Allocations: 2907 (Pool: 2895; Big: 12); GC: 0\n"
          ]
        }
      ]
    },
    {
      "cell_type": "code",
      "source": [],
      "metadata": {
        "id": "k4QdeRt5OHLT"
      },
      "execution_count": null,
      "outputs": []
    }
  ]
}